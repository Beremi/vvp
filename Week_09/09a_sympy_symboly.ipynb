{
 "cells": [
  {
   "attachments": {},
   "cell_type": "markdown",
   "metadata": {},
   "source": [
    "# SymPy - symbolické výpočty v Pythonu\n",
    "**Úvod**\n",
    "\n",
    "Někteří z vás možná znáte nějaký systém pro *počítačovou algebru* (Computer Algebra Systems -- CAS), například Maple, Mathematica, Derive, Maxima nebo Reduce. \n",
    "\n",
    "V rámci prostředí Pythonu existují dva hlavní projekty počítačové algebry:\n",
    "\n",
    "* [SymPy](http://sympy.org) - modul, který může být použit standardně v Python programu a je dobře podporován v Jupyter Notebooku.\n",
    "* [Sage](http://www.sagemath.org/) - kompletní systém vybudovaný jako open-source konkurent komerčních produktů (Wolfram, Maple, Matlab), založený na Sympy - primárně s GUI/CLI, ale lze i provázat s vlastním Python programem.\n",
    "\n",
    "Podíváme se na některé základní možnosti SymPy.\n"
   ]
  },
  {
   "cell_type": "code",
   "execution_count": null,
   "metadata": {},
   "outputs": [],
   "source": [
    "import sympy as sp"
   ]
  },
  {
   "cell_type": "markdown",
   "metadata": {},
   "source": [
    "`SymPy` umí tisknout výsledky ve formě LaTeX kódu, zprovozníme to pomocí:"
   ]
  },
  {
   "cell_type": "code",
   "execution_count": null,
   "metadata": {},
   "outputs": [],
   "source": [
    "sp.init_printing(use_latex=True)"
   ]
  },
  {
   "cell_type": "markdown",
   "metadata": {},
   "source": [
    "## Definujeme symboly\n",
    "\n",
    "Pro symbolické výpočty, jak jsme zvyklí z matematiky na základní škole, potřebujeme pochopitelně symboly. V Pythonu samotném sice máme proměnné, které jsou v podstatě také symboly, ale operace s nimi se řídí zcela jinými pravidly, než jaké potřebujeme pro symbolické výpočty. Naštěstí tu máme třídu `sympy.Symbol`.\n"
   ]
  },
  {
   "cell_type": "code",
   "execution_count": null,
   "metadata": {},
   "outputs": [],
   "source": [
    "x = sp.Symbol('x')\n",
    "x"
   ]
  },
  {
   "cell_type": "markdown",
   "metadata": {},
   "source": [
    "Můžeme také přiřadit symbolům nějaké vlastnosti (to se pak pochopitelně může projevit v dalších výpočtech)."
   ]
  },
  {
   "cell_type": "code",
   "execution_count": null,
   "metadata": {},
   "outputs": [],
   "source": [
    "a = sp.Symbol('a', real=True)\n",
    "a.is_real"
   ]
  },
  {
   "cell_type": "code",
   "execution_count": null,
   "metadata": {},
   "outputs": [],
   "source": [
    "b = sp.Symbol('b', positive=True)"
   ]
  },
  {
   "cell_type": "code",
   "execution_count": null,
   "metadata": {},
   "outputs": [],
   "source": [
    "b.is_negative"
   ]
  },
  {
   "cell_type": "code",
   "execution_count": null,
   "metadata": {},
   "outputs": [],
   "source": [
    "b > 0"
   ]
  },
  {
   "cell_type": "markdown",
   "metadata": {},
   "source": [
    "Lze i definovat více symbolů najednou:"
   ]
  },
  {
   "cell_type": "code",
   "execution_count": null,
   "metadata": {},
   "outputs": [],
   "source": [
    "x1, y1, x2, y2, x3, y3 = sp.symbols('x1 y1 x2 y2 x3 y3')"
   ]
  }
 ],
 "metadata": {
  "kernelspec": {
   "display_name": "Python 3",
   "language": "python",
   "name": "python3"
  },
  "language_info": {
   "codemirror_mode": {
    "name": "ipython",
    "version": 3
   },
   "file_extension": ".py",
   "mimetype": "text/x-python",
   "name": "python",
   "nbconvert_exporter": "python",
   "pygments_lexer": "ipython3",
   "version": "3.11.8"
  }
 },
 "nbformat": 4,
 "nbformat_minor": 1
}
