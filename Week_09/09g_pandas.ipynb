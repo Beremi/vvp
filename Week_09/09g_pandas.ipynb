{
 "cells": [
  {
   "cell_type": "markdown",
   "metadata": {},
   "source": [
    "Materiály převzaty z: Companion to Lecture 4 of [Harvard CS109: Data Science](http://cs109.org) course."
   ]
  },
  {
   "attachments": {},
   "cell_type": "markdown",
   "metadata": {},
   "source": [
    "# Pandas\n",
    "Pandas je knihovna sloužící k manipulaci s daty (převážně statistickými) v Pythonu. Pandas je založen na NumPy a nabízí srovnatelné rychlosti. Hlavním stavebním kamenem Pandas, který jej odlišuje od NumPy, je možnost pracovat s daty s různými typy indexů. \n",
    "\n",
    "Pandas je z velké části inspirován R-kem, konkrétně `data.frame` třídou, která se v Pandas nazývá `DataFrame`. Jedná se o 2D tabulární strukturu, podobnou relační databázi (SQL) nebo tabulce Excelu. Tato struktura umožňuje kombinaci rychlého přístupu k datům díky homogetnímu typu dat a flexibilitu díky různým typům dat v jednotlivých sloupcích.\n"
   ]
  },
  {
   "cell_type": "code",
   "execution_count": null,
   "metadata": {},
   "outputs": [],
   "source": [
    "# pokud nemáme knihovnu pandas, tak ji nainstalujeme\n",
    "# !pip install pandas -U"
   ]
  },
  {
   "cell_type": "code",
   "execution_count": null,
   "metadata": {
    "collapsed": false
   },
   "outputs": [],
   "source": [
    "import matplotlib.pyplot as plt\n",
    "import pandas as pd\n",
    "import numpy as np"
   ]
  },
  {
   "attachments": {},
   "cell_type": "markdown",
   "metadata": {},
   "source": [
    "Máme připravený dataset s informacemi o top filmech dle [IMDB](http://www.imdb.com/). Soubor imdb_top_10000.txt)"
   ]
  },
  {
   "cell_type": "code",
   "execution_count": null,
   "metadata": {
    "collapsed": false
   },
   "outputs": [],
   "source": [
    "# prvních několik řádků\n",
    "!head imdb_top_10000.txt"
   ]
  },
  {
   "attachments": {},
   "cell_type": "markdown",
   "metadata": {},
   "source": [
    "## 1. Sestavte DataFrame\n",
    "\n",
    "Textový soubor je oddělen tabulátory a nemá žádná záhlaví sloupců. Nastavíme příslušná klíčová slova v `pd.read_csv`, aby se dataset bez problému načetl."
   ]
  },
  {
   "cell_type": "code",
   "execution_count": null,
   "metadata": {
    "collapsed": false
   },
   "outputs": [],
   "source": [
    "names = ['imdbID', 'title', 'year', 'score', 'votes', 'runtime', 'genres']\n",
    "data = pd.read_csv('imdb_top_10000.txt', delimiter='\\t', names=names)\n",
    "print(\"Number of rows: %i\" % data.shape[0])\n",
    "data.head()  # print the first 5 rows"
   ]
  },
  {
   "attachments": {},
   "cell_type": "markdown",
   "metadata": {},
   "source": [
    "Všimněte si pěkného html formátování výsledného DataFrame."
   ]
  },
  {
   "attachments": {},
   "cell_type": "markdown",
   "metadata": {},
   "source": [
    "## 2. Vyčistěte DataFrame\n",
    "\n",
    "V tomto okamžiku existuje několik problémů s DataFrame:\n",
    "\n",
    "1. Sloupec runtime popisuje číslo, ale je uložen jako řetězec\n",
    "2. Sloupec žánry není atomický – sdružuje několik žánrů dohromady. To ztěžuje například extrahování filmů, které jsou komedie.\n",
    "3. Rok filmu se opakuje ve sloupci název a rok\n"
   ]
  },
  {
   "cell_type": "markdown",
   "metadata": {},
   "source": [
    "### Odstranění záznamu, kde některá hodnota chybí\n",
    "Toto uděláme pomocí metody `dropna`."
   ]
  },
  {
   "cell_type": "code",
   "execution_count": null,
   "metadata": {},
   "outputs": [],
   "source": [
    "data = data.dropna()\n",
    "print(\"Number of rows: %i\" % data.shape[0])"
   ]
  },
  {
   "cell_type": "markdown",
   "metadata": {},
   "source": [
    "\n",
    "### Oprava sloupce runtime\n",
    "\n",
    "Následující úryvek převede řetězec jako '142 minut.' na číslo 142:"
   ]
  },
  {
   "cell_type": "code",
   "execution_count": null,
   "metadata": {
    "collapsed": false
   },
   "outputs": [],
   "source": [
    "dirty = '142 mins.'\n",
    "number, text = dirty.split(' ')\n",
    "clean = int(number)\n",
    "print(number)"
   ]
  },
  {
   "attachments": {},
   "cell_type": "markdown",
   "metadata": {},
   "source": [
    "Můžeme to udělat najednou pro všechny záznamy pomocí list comprehension"
   ]
  },
  {
   "cell_type": "code",
   "execution_count": null,
   "metadata": {
    "collapsed": false
   },
   "outputs": [],
   "source": [
    "clean_runtime = [float(r.split(' ')[0]) for r in data.runtime]\n",
    "data['runtime'] = clean_runtime\n",
    "data.head()"
   ]
  },
  {
   "attachments": {},
   "cell_type": "markdown",
   "metadata": {},
   "source": [
    "### Rozdělení žánrů\n",
    "Můžeme použít koncept *indicator variables* k rozdělení sloupce žánry do mnoha sloupců. Každý nový sloupec bude odpovídat jednomu žánru a každá buňka bude mít hodnotu True nebo False."
   ]
  },
  {
   "cell_type": "code",
   "execution_count": null,
   "metadata": {},
   "outputs": [],
   "source": [
    "data.genres[0].split('|')"
   ]
  },
  {
   "cell_type": "code",
   "execution_count": null,
   "metadata": {
    "collapsed": false
   },
   "outputs": [],
   "source": [
    "# vyrobíme seznam unikátních žánrů\n",
    "\n",
    "genres = set()\n",
    "for m in data.genres:\n",
    "    genres.update(g for g in m.split('|'))\n",
    "genres = sorted(genres)\n",
    "print(genres)"
   ]
  },
  {
   "cell_type": "code",
   "execution_count": null,
   "metadata": {},
   "outputs": [],
   "source": [
    "# každý žánr přidáme jako nový sloupec do tabulky\n",
    "for genre in genres:\n",
    "    data[genre] = [genre in movie.split('|') for movie in data.genres]\n",
    "\n",
    "data.head()"
   ]
  },
  {
   "attachments": {},
   "cell_type": "markdown",
   "metadata": {},
   "source": [
    "### Odebírání roku z názvu\n",
    "Každý prvek můžeme opravit odstraněním posledních 7 znaků"
   ]
  },
  {
   "cell_type": "code",
   "execution_count": null,
   "metadata": {
    "collapsed": false
   },
   "outputs": [],
   "source": [
    "data['title'] = [t[0:-7] for t in data.title]\n",
    "data.head()"
   ]
  },
  {
   "attachments": {},
   "cell_type": "markdown",
   "metadata": {},
   "source": [
    "## 3. Prozkoumejte globální vlastnosti\n",
    "\n",
    "Dále se seznámíme s některými základními, globálními souhrny tabulky DataFrame.\n",
    "\n",
    "### V příslušných sloupcích zavolejte `describe`."
   ]
  },
  {
   "cell_type": "code",
   "execution_count": null,
   "metadata": {
    "collapsed": false
   },
   "outputs": [],
   "source": [
    "data[['score', 'runtime', 'year', 'votes']].describe(include='all')"
   ]
  },
  {
   "cell_type": "code",
   "execution_count": null,
   "metadata": {
    "collapsed": false
   },
   "outputs": [],
   "source": [
    "# hmmm, a runtime = 0?!\n",
    "print(len(data[data.runtime == 0]))\n"
   ]
  },
  {
   "cell_type": "code",
   "execution_count": null,
   "metadata": {},
   "outputs": [],
   "source": [
    "# lepší by bylo nahradit nulou za NaN, 0 smysl nedává, ať nás neplete\n",
    "data.runtime[data.runtime == 0] = np.nan"
   ]
  },
  {
   "cell_type": "code",
   "execution_count": null,
   "metadata": {
    "collapsed": false
   },
   "outputs": [],
   "source": [
    "data.runtime.describe()"
   ]
  },
  {
   "cell_type": "markdown",
   "metadata": {},
   "source": [
    "### Základní vykreslování"
   ]
  },
  {
   "cell_type": "code",
   "execution_count": null,
   "metadata": {
    "collapsed": false
   },
   "outputs": [],
   "source": [
    "plt.hist(data.year, bins=np.arange(1950, 2011+1))\n",
    "plt.xlabel(\"Release Year\")"
   ]
  },
  {
   "attachments": {},
   "cell_type": "markdown",
   "metadata": {},
   "source": [
    "## 4. Vykreslování pomocí balíčku `seaborn`\n",
    "\n",
    "Balíček `seaborn` je nadstavba nad `matplotlib` a umožňuje jednodušší a elegantnější vykreslování dat, obzvláště pokud pracujeme s `DataFrame`."
   ]
  },
  {
   "cell_type": "code",
   "execution_count": null,
   "metadata": {},
   "outputs": [],
   "source": [
    "# instalace pomocí knihovny seaborn\n",
    "# !pip install seaborn -U"
   ]
  },
  {
   "cell_type": "code",
   "execution_count": null,
   "metadata": {
    "collapsed": false
   },
   "outputs": [],
   "source": [
    "import seaborn as sb"
   ]
  },
  {
   "cell_type": "code",
   "execution_count": null,
   "metadata": {
    "collapsed": false
   },
   "outputs": [],
   "source": [
    "sb.histplot(data, x='year', binwidth=1)\n",
    "plt.title(\"Movies per year histogram\")\n",
    "plt.show()"
   ]
  },
  {
   "cell_type": "code",
   "execution_count": null,
   "metadata": {
    "collapsed": false
   },
   "outputs": [],
   "source": [
    "sb.histplot(data, x='score', bins=20, color='#cccccc', stat='density')\n",
    "plt.xlabel(\"IMDB rating\")\n",
    "plt.show()"
   ]
  },
  {
   "cell_type": "code",
   "execution_count": null,
   "metadata": {
    "collapsed": false
   },
   "outputs": [],
   "source": [
    "sb.histplot(data['runtime'].dropna(), bins=50, color='#cccccc', stat='density')\n",
    "plt.xlabel(\"Runtime distribution\")\n",
    "plt.show()"
   ]
  },
  {
   "cell_type": "code",
   "execution_count": null,
   "metadata": {
    "collapsed": false
   },
   "outputs": [],
   "source": [
    "#hmm, horší skóre pro novější filmy?\n",
    "\n",
    "sb.scatterplot(data=data, x='year', y='score', alpha=0.08, color='k', linewidth=0)\n",
    "plt.xlabel(\"Year\")\n",
    "plt.ylabel(\"IMDB Rating\")\n",
    "plt.show()"
   ]
  },
  {
   "cell_type": "code",
   "execution_count": null,
   "metadata": {
    "collapsed": false
   },
   "outputs": [],
   "source": [
    "# lepší film -> více lidí hodnotí?\n",
    "\n",
    "sb.scatterplot(data=data, x='votes', y='score', alpha=0.2, color='k', linewidth=0)\n",
    "plt.xlabel(\"Number of Votes\")\n",
    "plt.ylabel(\"IMDB Rating\")\n",
    "plt.xscale('log')\n",
    "plt.show()"
   ]
  },
  {
   "attachments": {},
   "cell_type": "markdown",
   "metadata": {},
   "source": [
    "## 5. Vybírání prvků dle podmínek"
   ]
  },
  {
   "cell_type": "code",
   "execution_count": null,
   "metadata": {
    "collapsed": false
   },
   "outputs": [],
   "source": [
    "# nízké skóre ale hodně hlasů\n",
    "data[(data.votes > 9e4) & (data.score < 5)][['title', 'year', 'score', 'votes', 'genres']]"
   ]
  },
  {
   "cell_type": "code",
   "execution_count": null,
   "metadata": {
    "collapsed": false
   },
   "outputs": [],
   "source": [
    "# Nejhorší filmy\n",
    "data[data.score == data.score.min()][['title', 'year', 'score', 'votes', 'genres']]"
   ]
  },
  {
   "cell_type": "code",
   "execution_count": null,
   "metadata": {
    "collapsed": false
   },
   "outputs": [],
   "source": [
    "# Nejlepší filmy\n",
    "data[data.score == data.score.max()][['title', 'year', 'score', 'votes', 'genres']]"
   ]
  },
  {
   "attachments": {},
   "cell_type": "markdown",
   "metadata": {},
   "source": [
    "### Spusťte agregační funkce jako `sum` na několika řádcích nebo sloupcích"
   ]
  },
  {
   "attachments": {},
   "cell_type": "markdown",
   "metadata": {},
   "source": [
    "*Jaké žánry jsou nejčastější?*"
   ]
  },
  {
   "cell_type": "code",
   "execution_count": null,
   "metadata": {
    "collapsed": false
   },
   "outputs": [],
   "source": [
    "# Napočítáme počet filmů v každém žánru\n",
    "genre_count = np.sort(data[genres].sum())[::-1]\n",
    "pd.DataFrame({'Genre': genres, 'Genre Count': genre_count})"
   ]
  },
  {
   "attachments": {},
   "cell_type": "markdown",
   "metadata": {},
   "source": [
    "*Kolik žánrů má film v průměru?*"
   ]
  },
  {
   "cell_type": "code",
   "execution_count": null,
   "metadata": {
    "collapsed": false
   },
   "outputs": [],
   "source": [
    "genre_count = data[genres].sum(axis=1) \n",
    "print(f\"Average movie has {genre_count.mean()} genres\")\n",
    "genre_count.describe()"
   ]
  },
  {
   "attachments": {},
   "cell_type": "markdown",
   "metadata": {},
   "source": [
    "## 6. rozkoumejte vlastnosti skupin"
   ]
  },
  {
   "attachments": {},
   "cell_type": "markdown",
   "metadata": {},
   "source": [
    "Rozdělme filmy podle desetiletí"
   ]
  },
  {
   "cell_type": "code",
   "execution_count": null,
   "metadata": {
    "collapsed": false
   },
   "outputs": [],
   "source": [
    "decade =  (data.year // 10) * 10\n",
    "\n",
    "tyd = data[['title', 'year']]\n",
    "tyd['decade'] = decade\n",
    "\n",
    "tyd.head()"
   ]
  },
  {
   "cell_type": "markdown",
   "metadata": {},
   "source": [
    "[GroupBy](http://pandas.pydata.org/pandas-docs/dev/groupby.html) will gather movies into groups with equal decade values"
   ]
  },
  {
   "cell_type": "code",
   "execution_count": null,
   "metadata": {
    "collapsed": false
   },
   "outputs": [],
   "source": [
    "# průměrné skore za každou dekádu\n",
    "decade_mean = data.groupby(decade).score.mean()\n",
    "decade_mean.name = 'Decade Mean'\n",
    "print(decade_mean)"
   ]
  },
  {
   "cell_type": "code",
   "execution_count": null,
   "metadata": {},
   "outputs": [],
   "source": [
    "# vykreslíme si graf (předchozí scatter plot) s průměrem hodnocení za dekádu\n",
    "# Line plot pro průměrné hodnocení za dekádu\n",
    "plt.plot(decade_mean.index, decade_mean.values, 'o-', color='r', lw=3, label='Decade Average')\n",
    "\n",
    "# Scatter plot jako překrytí\n",
    "sb.scatterplot(data=data, x='year', y='score', alpha=0.04, color='k', linewidth=0)\n",
    "\n",
    "plt.xlabel(\"Year\")\n",
    "plt.ylabel(\"Score\")\n",
    "plt.legend(frameon=False)\n",
    "plt.show()"
   ]
  },
  {
   "attachments": {},
   "cell_type": "markdown",
   "metadata": {},
   "source": [
    "Můžeme jít ještě dále a vypočítat rozptyl v každé dekádě"
   ]
  },
  {
   "cell_type": "code",
   "execution_count": null,
   "metadata": {
    "collapsed": false
   },
   "outputs": [],
   "source": [
    "grouped_scores = data.groupby(decade).score\n",
    "\n",
    "mean = grouped_scores.mean()\n",
    "std = grouped_scores.std()\n",
    "print(std)"
   ]
  },
  {
   "cell_type": "code",
   "execution_count": null,
   "metadata": {},
   "outputs": [],
   "source": [
    "# a přikreslit tento udaj jako \"fill\" kolem průměru\n",
    "plt.plot(decade_mean.index, decade_mean.values, 'o-',\n",
    "        color='r', lw=3, label='Decade Average')\n",
    "plt.fill_between(decade_mean.index, (decade_mean + std).values,\n",
    "                 (decade_mean - std).values, color='r', alpha=.2)\n",
    "sb.scatterplot(data=data, x='year', y='score', alpha=0.04, color='k', linewidth=0)\n",
    "plt.xlabel(\"Year\")\n",
    "plt.ylabel(\"Score\")\n",
    "plt.legend(frameon=False)"
   ]
  },
  {
   "attachments": {},
   "cell_type": "markdown",
   "metadata": {},
   "source": [
    "Objekt GroupBy můžete také iterovat. Každá iterace poskytuje dvě proměnné: jednu z odlišných hodnot skupinového klíče a podmnožinu datového rámce, kde se klíč rovná této hodnotě. Jak najít nejoblíbenější film každý rok:"
   ]
  },
  {
   "cell_type": "code",
   "execution_count": null,
   "metadata": {
    "collapsed": false
   },
   "outputs": [],
   "source": [
    "# nejlepší filmy pro každý rok\n",
    "\n",
    "for year, subset in data.groupby('year'):\n",
    "    print(year, subset[subset.score == subset.score.max()].title.values)"
   ]
  },
  {
   "attachments": {},
   "cell_type": "markdown",
   "metadata": {},
   "source": [
    "## Jedeme ještě dál\n",
    "\n",
    "Rozdělme filmy podle žánru a podívejme se, jak se liší jejich rok vydání/délka/skóre IMDB.\n",
    "\n",
    "Distribuce všeho dohromady (pro rychlé srovnání) je v šedé barvě na pozadí."
   ]
  },
  {
   "cell_type": "code",
   "execution_count": null,
   "metadata": {
    "collapsed": false
   },
   "outputs": [],
   "source": [
    "#create a 4x6 grid of plots.\n",
    "fig, axes = plt.subplots(nrows=4, ncols=6, figsize=(12, 8), \n",
    "                         tight_layout=True)\n",
    "\n",
    "bins = np.arange(1950, 2013, 3)\n",
    "for ax, genre in zip(axes.ravel(), genres):\n",
    "    ax.hist(data[data[genre] == 1].year, density=True,\n",
    "            bins=bins, histtype='stepfilled', color='r', alpha=.3, ec='none')\n",
    "    ax.hist(data.year, bins=bins, histtype='stepfilled', ec='None', density=True, zorder=0, color='#cccccc')\n",
    "    \n",
    "    ax.annotate(genre, xy=(1955, 3e-2), fontsize=14)\n",
    "    ax.xaxis.set_ticks(np.arange(1950, 2013, 30))\n",
    "    ax.set_yticks([])\n",
    "    ax.set_xlabel('Year')"
   ]
  },
  {
   "cell_type": "code",
   "execution_count": null,
   "metadata": {
    "collapsed": false
   },
   "outputs": [],
   "source": [
    "fig, axes = plt.subplots(nrows=4, ncols=6, figsize=(12, 8), tight_layout=True)\n",
    "\n",
    "bins = np.arange(30, 240, 10)\n",
    "\n",
    "for ax, genre in zip(axes.ravel(), genres):\n",
    "    ax.hist(data[data[genre] == 1].runtime, density=True,\n",
    "            bins=bins, histtype='stepfilled', color='r', ec='none', alpha=.3)\n",
    "               \n",
    "    ax.hist(data.runtime, bins=bins, density=True,\n",
    "            histtype='stepfilled', ec='none', color='#cccccc',\n",
    "            zorder=0)\n",
    "    \n",
    "    ax.set_xticks(np.arange(30, 240, 60))\n",
    "    ax.set_yticks([])\n",
    "    ax.set_xlabel(\"Runtime [min]\")\n",
    "    ax.annotate(genre, xy=(230, .02), ha='right', fontsize=12)"
   ]
  },
  {
   "cell_type": "code",
   "execution_count": null,
   "metadata": {
    "collapsed": false
   },
   "outputs": [],
   "source": [
    "fig, axes = plt.subplots(nrows=4, ncols=6, figsize=(12, 8), tight_layout=True)\n",
    "\n",
    "bins = np.arange(0, 10, .5)\n",
    "\n",
    "for ax, genre in zip(axes.ravel(), genres):\n",
    "    ax.hist(data[data[genre] == 1].score, density=True,\n",
    "            bins=bins, histtype='stepfilled', color='r', ec='none', alpha=.3)\n",
    "               \n",
    "    ax.hist(data.score, bins=bins,\n",
    "            histtype='stepfilled', ec='none', color='#cccccc', density=True,\n",
    "            zorder=0)\n",
    "    \n",
    "    ax.set_yticks([])\n",
    "    ax.set_xlabel(\"Score\")\n",
    "    ax.annotate(genre, xy=(0, .2), ha='left', fontsize=12)"
   ]
  }
 ],
 "metadata": {
  "kernelspec": {
   "display_name": "Python 3",
   "language": "python",
   "name": "python3"
  },
  "language_info": {
   "codemirror_mode": {
    "name": "ipython",
    "version": 3
   },
   "file_extension": ".py",
   "mimetype": "text/x-python",
   "name": "python",
   "nbconvert_exporter": "python",
   "pygments_lexer": "ipython3",
   "version": "3.13.2"
  }
 },
 "nbformat": 4,
 "nbformat_minor": 0
}
