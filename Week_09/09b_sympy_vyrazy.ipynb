{
 "cells": [
  {
   "cell_type": "code",
   "execution_count": null,
   "metadata": {},
   "outputs": [],
   "source": [
    "import sympy as sp\n",
    "from IPython.display import display\n",
    "sp.init_printing()"
   ]
  },
  {
   "cell_type": "markdown",
   "metadata": {},
   "source": [
    "# Výrazy\n",
    "- Výrazy jsou základním stavebním kamenem SymPy.\n",
    "- Od jedné proměnné po libovolnou kombinaci funkcí a operací nad libovolným počtem proměnných a konstant. "
   ]
  },
  {
   "cell_type": "code",
   "execution_count": null,
   "metadata": {},
   "outputs": [],
   "source": [
    "# proměnná\n",
    "x = sp.Symbol('x')\n",
    "x"
   ]
  },
  {
   "cell_type": "code",
   "execution_count": null,
   "metadata": {},
   "outputs": [],
   "source": [
    "# celé číslo\n",
    "konstanta1 = sp.Integer(5)\n",
    "konstanta1"
   ]
  },
  {
   "cell_type": "code",
   "execution_count": null,
   "metadata": {},
   "outputs": [],
   "source": [
    "# racionální číslo ve tvaru zlomku\n",
    "konstanta2 = sp.Rational(1, 3)\n",
    "konstanta2"
   ]
  },
  {
   "cell_type": "code",
   "execution_count": null,
   "metadata": {},
   "outputs": [],
   "source": [
    "# iracionální číslo\n",
    "konstanta3 = sp.sqrt(2)\n",
    "display(konstanta3)\n",
    "display(sp.pi)\n",
    "display(sp.E)"
   ]
  },
  {
   "cell_type": "code",
   "execution_count": null,
   "metadata": {},
   "outputs": [],
   "source": [
    "# desetinné číslo\n",
    "konstanta4 = sp.Float(3.14)\n",
    "konstanta4"
   ]
  },
  {
   "cell_type": "markdown",
   "metadata": {},
   "source": [
    "Co když napíšeme něco trochu složitějšího.\n",
    "\n",
    "- `int` a `float` jakožto Pythoní datové typy jsou při operaci s Sympy expression automaticky konvertovány na `sympy.Integer` a `sympy.Float`."
   ]
  },
  {
   "cell_type": "code",
   "execution_count": null,
   "metadata": {},
   "outputs": [],
   "source": [
    "expression = (sp.pi + x) / 2\n",
    "expression"
   ]
  },
  {
   "cell_type": "code",
   "execution_count": null,
   "metadata": {},
   "outputs": [],
   "source": [
    "# co jsme to vůbec dostali za typ\n",
    "type(expression)"
   ]
  },
  {
   "cell_type": "code",
   "execution_count": null,
   "metadata": {},
   "outputs": [],
   "source": [
    "# toto je základní třída pro všechny výrazy\n",
    "sp.Expr"
   ]
  },
  {
   "cell_type": "code",
   "execution_count": null,
   "metadata": {},
   "outputs": [],
   "source": [
    "# každý výraz je instancí této třídy\n",
    "issubclass(type(expression), sp.Expr)"
   ]
  },
  {
   "cell_type": "markdown",
   "metadata": {},
   "source": [
    "### Výpis výrazů\n",
    "- Výrazy můžeme vypsat klasicým způsobem pomocí funkce `print()`, pak se vypíše v čistě textové podobě.\n",
    "- Můžeme využít funkci `pprint()` z modulu `sympy`, která vypíše výraz v čistě textové podobě, ale s odsazením a formátováním, které zlepšuje čitelnost.\n",
    "- Můžeme využít funkci `display()` z modulu `Ipython`, která vypíše výraz formout Latex vzorce (podobně jako když jsme jej nechali vytisknout \"visením\" na konci buňky).\n",
    "- Můžeme využít převod na LaTeX zdrojový kód pomocí funkce `latex()` z modulu `sympy`."
   ]
  },
  {
   "cell_type": "code",
   "execution_count": null,
   "metadata": {},
   "outputs": [],
   "source": [
    "print(expression)\n",
    "sp.pprint(expression)\n",
    "display(expression)\n",
    "print(sp.latex(expression))"
   ]
  },
  {
   "cell_type": "markdown",
   "metadata": {},
   "source": [
    "## Vyčíslování"
   ]
  },
  {
   "cell_type": "code",
   "execution_count": null,
   "metadata": {},
   "outputs": [],
   "source": [
    "y = (x + sp.pi)**2\n",
    "y"
   ]
  },
  {
   "cell_type": "markdown",
   "metadata": {},
   "source": [
    "Za proměnnou můžeme dosadit konkrétní číselnou hodnotu pomocí metody `subs()`."
   ]
  },
  {
   "cell_type": "code",
   "execution_count": null,
   "metadata": {},
   "outputs": [],
   "source": [
    "expression = y.subs(x, 2)\n",
    "expression"
   ]
  },
  {
   "cell_type": "markdown",
   "metadata": {},
   "source": [
    "Substituce lze dělat i pro více proměnných najednou, a za jednotlivé proměnné můžeme dosadit libovolné výrazy."
   ]
  },
  {
   "cell_type": "code",
   "execution_count": null,
   "metadata": {},
   "outputs": [],
   "source": [
    "x, y, z, a, b, c = sp.symbols('x y z a b c')\n",
    "# Vytvoříme výraz\n",
    "vyraz = x**2 + y**2 + z**2\n",
    "\n",
    "# Provedeme substituci\n",
    "substituce = vyraz.subs({x: a + 1, y: b - 1, z: c**2})\n",
    "\n",
    "substituce"
   ]
  },
  {
   "cell_type": "markdown",
   "metadata": {},
   "source": [
    "Numerickou hodnotu můžeme získat pomocí funkce `N` (nebo metody `evalf`, obojí dělá totéž)."
   ]
  },
  {
   "cell_type": "code",
   "execution_count": null,
   "metadata": {},
   "outputs": [],
   "source": [
    "# n je počet platných cifer\n",
    "print(sp.N(expression, n=5))\n",
    "print(expression.evalf(n=5))\n"
   ]
  }
 ],
 "metadata": {
  "kernelspec": {
   "display_name": "Python 3",
   "language": "python",
   "name": "python3"
  },
  "language_info": {
   "codemirror_mode": {
    "name": "ipython",
    "version": 3
   },
   "file_extension": ".py",
   "mimetype": "text/x-python",
   "name": "python",
   "nbconvert_exporter": "python",
   "pygments_lexer": "ipython3",
   "version": "3.13.2"
  }
 },
 "nbformat": 4,
 "nbformat_minor": 1
}
