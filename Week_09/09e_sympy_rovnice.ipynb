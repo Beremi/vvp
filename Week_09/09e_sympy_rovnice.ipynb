{
 "cells": [
  {
   "cell_type": "code",
   "execution_count": null,
   "metadata": {},
   "outputs": [],
   "source": [
    "import sympy as sp\n",
    "from IPython.display import display\n",
    "sp.init_printing()"
   ]
  },
  {
   "cell_type": "code",
   "execution_count": null,
   "metadata": {},
   "outputs": [],
   "source": [
    "x, y, a, b = sp.symbols('x y a b')"
   ]
  },
  {
   "attachments": {},
   "cell_type": "markdown",
   "metadata": {},
   "source": [
    "## Řešení rovnic\n",
    "Rovnice jsou v sympy reprezentovány pomocí třídy `Eq`. Vytvoříme ji pomocí `Eq(výraz1, výraz2)`, kde `výraz1` a `výraz2` jsou výrazy, které chceme porovnat.\n",
    "\n",
    "Rovnice můžeme řešit pomocí `solve`, kde prvním argumentem je seznam výrazů, které musí být rovny nule, a druhým je tuple symbolů, pro které chceme nalézt řešení.\n"
   ]
  },
  {
   "cell_type": "markdown",
   "metadata": {},
   "source": [
    "Pokusme se o  řešení rovnice `x^2 - 1 = 0`:"
   ]
  },
  {
   "cell_type": "code",
   "execution_count": null,
   "metadata": {},
   "outputs": [],
   "source": [
    "# Definujeme rovnici\n",
    "rov = sp.Eq(x**2 - 1, 0)\n",
    "display(rov)"
   ]
  },
  {
   "cell_type": "code",
   "execution_count": null,
   "metadata": {},
   "outputs": [],
   "source": [
    "# Řešíme rovnici\n",
    "reseni = sp.solve(rov, x)\n",
    "display(reseni)"
   ]
  },
  {
   "cell_type": "markdown",
   "metadata": {},
   "source": [
    "Můžeme také řešit systém rovnic. Ukážeme si to na ukázce:\n",
    "\n",
    " `sin(x) + cos(y) = 1` a `cos(x) + sin(y) = 1`. "
   ]
  },
  {
   "cell_type": "code",
   "execution_count": null,
   "metadata": {},
   "outputs": [],
   "source": [
    "# Definujeme symboly\n",
    "x, y = sp.symbols('x y', real=True)\n",
    "\n",
    "# Definujeme rovnice\n",
    "rov1 = sp.Eq(sp.sin(x) + sp.cos(y), 1)\n",
    "rov2 = sp.Eq(sp.cos(x) + sp.sin(y), 1)\n",
    "\n",
    "# Řešíme systém rovnic\n",
    "reseni = sp.solve((rov1, rov2), (x, y))\n",
    "reseni"
   ]
  },
  {
   "cell_type": "markdown",
   "metadata": {},
   "source": [
    "Soustavy rovnic lze řešit i bez vytvoření objektu `Eq`, pak se předpokládá, že každý výraz je roven nule."
   ]
  },
  {
   "cell_type": "code",
   "execution_count": null,
   "metadata": {},
   "outputs": [],
   "source": [
    "exp1 = sp.sin(x) + sp.cos(y) - 1\n",
    "exp2 = sp.cos(x) + sp.sin(y) - 1\n",
    "reseni = sp.solve((exp1, exp2), (x, y))\n",
    "reseni"
   ]
  },
  {
   "cell_type": "markdown",
   "metadata": {},
   "source": [
    "Řešení lze obdržet i v podobě série, pokud jich je nekonečně mnoho. Budeme však potřebovat funkci `solveset`, která umožňuje řešit rovnice s nekonečným počtem řešení."
   ]
  },
  {
   "cell_type": "code",
   "execution_count": null,
   "metadata": {},
   "outputs": [],
   "source": [
    "rov = sp.Eq(sp.sin(x), 0)\n",
    "reseni = sp.solveset(rov, x)\n",
    "reseni"
   ]
  },
  {
   "cell_type": "markdown",
   "metadata": {},
   "source": [
    "Řešení rovnic jsou automaticky parametrické, tedy pokud se v rovnici vyskytuje více neznámých, výsledek bude pak ve tvaru funkce závislé na ostatních neznámých."
   ]
  },
  {
   "cell_type": "code",
   "execution_count": null,
   "metadata": {},
   "outputs": [],
   "source": [
    "a = sp.symbols('a', real=True)\n",
    "rov = sp.Eq(sp.sin(a * x), 0)\n",
    "reseni = sp.solveset(rov, x)\n",
    "reseni"
   ]
  },
  {
   "attachments": {},
   "cell_type": "markdown",
   "metadata": {},
   "source": [
    "### Ukázka: \n",
    "**Příklad:** Hledání předpisu lineární funkce, která ma na daném trojúhelníku hodnotu 0 ve dvou bodech a 1 ve třetím bodě."
   ]
  },
  {
   "cell_type": "code",
   "execution_count": null,
   "metadata": {},
   "outputs": [],
   "source": [
    "import sympy as sp\n",
    "\n",
    "# proměnné v souřadnicovém systému\n",
    "x, y = sp.symbols('x y', real=True)\n",
    "\n",
    "# proměnné reprezentující souřadnice bodů\n",
    "x1, y1, x2, y2, x3, y3 = sp.symbols('x1 y1 x2 y2 x3 y3', real=True)\n",
    "\n",
    "# proměnné reprezentující parametry lineární funkce ve 2D\n",
    "a, b, c = sp.symbols('a b c', real=True)\n",
    "\n",
    "# takto vypadá obecně lineární funkce ve 2D\n",
    "phi = a * x + b * y + c\n",
    "\n",
    "# systém rovnic pro 3 body, v prvním bodě je phi = 1 v druhém bodě je phi = 0 a v třetím bodě je phi = 0\n",
    "conditions_phi = [\n",
    "    phi.subs({x: x1, y: y1}) - 1,\n",
    "    phi.subs({x: x2, y: y2}),\n",
    "    phi.subs({x: x3, y: y3})\n",
    "]\n",
    "conditions_phi"
   ]
  },
  {
   "cell_type": "code",
   "execution_count": null,
   "metadata": {},
   "outputs": [],
   "source": [
    "# spočteme, jaké musí být hodnoty a, b a c, aby byl systém rovnic splněn\n",
    "coeffs_phi = sp.solve(conditions_phi, (a, b, c))\n",
    "\n",
    "coeffs_phi\n"
   ]
  },
  {
   "cell_type": "code",
   "execution_count": null,
   "metadata": {},
   "outputs": [],
   "source": [
    "# použijeme řešení pro vytvoření hledané funkce\n",
    "phi = phi.subs(coeffs_phi)\n",
    "phi\n"
   ]
  }
 ],
 "metadata": {
  "kernelspec": {
   "display_name": "Python 3",
   "language": "python",
   "name": "python3"
  },
  "language_info": {
   "codemirror_mode": {
    "name": "ipython",
    "version": 3
   },
   "file_extension": ".py",
   "mimetype": "text/x-python",
   "name": "python",
   "nbconvert_exporter": "python",
   "pygments_lexer": "ipython3",
   "version": "3.11.8"
  }
 },
 "nbformat": 4,
 "nbformat_minor": 1
}
