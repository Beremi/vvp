{
 "cells": [
  {
   "cell_type": "code",
   "execution_count": null,
   "metadata": {},
   "outputs": [],
   "source": [
    "import sympy as sp\n",
    "from IPython.display import display\n",
    "sp.init_printing()"
   ]
  },
  {
   "cell_type": "code",
   "execution_count": null,
   "metadata": {},
   "outputs": [],
   "source": [
    "x, y, a, b = sp.symbols('x y a b')"
   ]
  },
  {
   "cell_type": "markdown",
   "metadata": {},
   "source": [
    "## Symbolické úpravy\n",
    "\n",
    "Sympy má mnoho nástrojů pro úpravu nebo zjednodušení výrazů. Například:\n",
    "- roznásobení mnohočlenu\n",
    "- úprava goniometrických výrazů\n",
    "- zjednodušení zlomků\n",
    "- ...\n"
   ]
  },
  {
   "cell_type": "markdown",
   "metadata": {},
   "source": [
    "### Expand a factor\n",
    "\n",
    "Rznásobování a faktorizace mnohočlenu.\n",
    "\n"
   ]
  },
  {
   "cell_type": "code",
   "execution_count": null,
   "metadata": {},
   "outputs": [],
   "source": [
    "y = (x+1)*(x+2)*(x+3)\n",
    "y"
   ]
  },
  {
   "cell_type": "markdown",
   "metadata": {},
   "source": [
    "Polynom rozvineme pomocí `expand`:"
   ]
  },
  {
   "cell_type": "code",
   "execution_count": null,
   "metadata": {},
   "outputs": [],
   "source": [
    "z = sp.expand(y)\n",
    "z"
   ]
  },
  {
   "cell_type": "markdown",
   "metadata": {},
   "source": [
    "Pomocí `factor` můžeme dostat zpět původní faktorizovaný výraz."
   ]
  },
  {
   "cell_type": "code",
   "execution_count": null,
   "metadata": {},
   "outputs": [],
   "source": [
    "sp.factor(z)"
   ]
  },
  {
   "cell_type": "markdown",
   "metadata": {},
   "source": [
    "`expand` můžeme použít i pro trigonometrické funkce:"
   ]
  },
  {
   "cell_type": "code",
   "execution_count": null,
   "metadata": {},
   "outputs": [],
   "source": [
    "sp.expand(sp.sin(a + b), trig=True)"
   ]
  },
  {
   "cell_type": "markdown",
   "metadata": {},
   "source": [
    "Umí to toho ovšem mnohem více (je fajn se podívat na [dokumentaci](https://docs.sympy.org/latest/tutorials/intro-tutorial/simplification.html)).\n",
    "\n"
   ]
  },
  {
   "cell_type": "code",
   "execution_count": null,
   "metadata": {},
   "outputs": [],
   "source": [
    "sp.expand(sp.exp(a + b) + sp.log(x * b**a), exp=True, log=True, force=True)"
   ]
  },
  {
   "cell_type": "markdown",
   "metadata": {},
   "source": [
    "### Zjednodušování pomocí `simplify`\n",
    "- simlify se snaží zjednodušit výraz (může být ale subjektivní který ze dvou výrazů je jednodušší)\n",
    "- má mnoho parametrů, které můžeme nastavit (viz [dokumentace](https://docs.sympy.org/latest/modules/simplify/simplify.html)), ty pak ovlivňují o jaký typ úprav při zjednodušování se pokusí"
   ]
  },
  {
   "cell_type": "code",
   "execution_count": null,
   "metadata": {},
   "outputs": [],
   "source": [
    "# tohle by měla být hračka\n",
    "expression = sp.sin(a)**2 + sp.cos(a)**2\n",
    "display(expression)\n",
    "sp.simplify(expression)"
   ]
  },
  {
   "cell_type": "code",
   "execution_count": null,
   "metadata": {},
   "outputs": [],
   "source": [
    "expression = sp.exp(a) * sp.exp(-a + 2) + sp.log(x) - a * sp.log(b)\n",
    "display(expression)\n",
    "display(sp.simplify(expression))"
   ]
  },
  {
   "cell_type": "markdown",
   "metadata": {},
   "source": [
    "Pro zjednodušování je často velmi důležité dodat programu všechny potřebné informace o proměnných, které používáme. V základu se totiž počítá s tím, že proměnné mohou být komplexní. Pokud víme, že jsou reálné nebo dokonce kladné, můžeme to programu říct  při definici proměnných."
   ]
  },
  {
   "cell_type": "code",
   "execution_count": null,
   "metadata": {},
   "outputs": [],
   "source": [
    "x, y, a, b = sp.symbols('x y a b', real=True, positive=True)\n",
    "expression = sp.exp(a) * sp.exp(-a + 2) + sp.log(x) - a * sp.log(b)\n",
    "display(expression)\n",
    "display(sp.simplify(expression))"
   ]
  }
 ],
 "metadata": {
  "kernelspec": {
   "display_name": "Python 3",
   "language": "python",
   "name": "python3"
  },
  "language_info": {
   "codemirror_mode": {
    "name": "ipython",
    "version": 3
   },
   "file_extension": ".py",
   "mimetype": "text/x-python",
   "name": "python",
   "nbconvert_exporter": "python",
   "pygments_lexer": "ipython3",
   "version": "3.11.8"
  }
 },
 "nbformat": 4,
 "nbformat_minor": 1
}
