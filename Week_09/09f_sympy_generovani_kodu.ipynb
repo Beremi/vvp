{
 "cells": [
  {
   "cell_type": "code",
   "execution_count": null,
   "metadata": {},
   "outputs": [],
   "source": [
    "import sympy as sp\n",
    "from IPython.display import display\n",
    "sp.init_printing()"
   ]
  },
  {
   "cell_type": "code",
   "execution_count": null,
   "metadata": {},
   "outputs": [],
   "source": [
    "x, y, a, b = sp.symbols('x y a b')"
   ]
  },
  {
   "attachments": {},
   "cell_type": "markdown",
   "metadata": {},
   "source": [
    "## Generace kódu\n",
    "\n",
    "Automatická generace kódu je funkcionalita, kterou oceníme ve chvíli, kdy cheme implementovat naše analytické výsledky v numerické simulaci. Místo abychom začali ručně přepisovat do programovacího jazyka jako je např. Fortran nebo C, může SymPy tuto nezábavnou práci udělat za nás. Navíc při tom neudělá chyby."
   ]
  },
  {
   "cell_type": "markdown",
   "metadata": {},
   "source": [
    "## Převedení výrazu na Pythonovskou funkci\n",
    "Pokud chceme vytvořit ze symbolického výrazu funkci, použijeme `lambdify`:"
   ]
  },
  {
   "cell_type": "code",
   "execution_count": null,
   "metadata": {},
   "outputs": [],
   "source": [
    "# první argument je seznam proměnných (podobně jako pro lambda funkce)\n",
    "f_sympy = (x + sp.pi)**2\n",
    "display(f_sympy)\n",
    "\n",
    "f_x = sp.lambdify([x], f_sympy)\n",
    "print(f_x)"
   ]
  },
  {
   "cell_type": "code",
   "execution_count": null,
   "metadata": {},
   "outputs": [],
   "source": [
    "import numpy as np\n",
    "import matplotlib.pyplot as plt\n",
    "\n",
    "xa = np.linspace(-10, 10)\n",
    "plt.plot(xa, f_x(xa))"
   ]
  },
  {
   "cell_type": "markdown",
   "metadata": {},
   "source": [
    "## Generování zdrojového kódu v jiných jazycích\n",
    "\n",
    "SymPy může generovat zdrojový kód v několika jazycích. Využijeme k tomu modul `codegen`."
   ]
  },
  {
   "cell_type": "code",
   "execution_count": null,
   "metadata": {},
   "outputs": [],
   "source": [
    "import sympy.utilities.codegen as codegen"
   ]
  },
  {
   "cell_type": "code",
   "execution_count": null,
   "metadata": {},
   "outputs": [],
   "source": [
    "# řekněme že chceme někde použít tento výsledek\n",
    "f = sp.sin( x * y**2) * sp.exp(y)\n",
    "f"
   ]
  },
  {
   "cell_type": "code",
   "execution_count": null,
   "metadata": {},
   "outputs": [],
   "source": [
    "# exportujeme do jazyka Fortran\n",
    "f_source = codegen.codegen((\"f_fortran\", f), \"F95\", \"f_fortran\")\n",
    "print(f_source[0][1])"
   ]
  },
  {
   "cell_type": "code",
   "execution_count": null,
   "metadata": {},
   "outputs": [],
   "source": [
    "# exportujeme do jazyka C\n",
    "f_source = codegen.codegen((\"f_C\", f), \"C\", \"f_C\")\n",
    "print(f_source[0][1])"
   ]
  },
  {
   "cell_type": "code",
   "execution_count": null,
   "metadata": {},
   "outputs": [],
   "source": [
    "# exportujeme do jazyka Octave/Matlab\n",
    "f_source = codegen.codegen((\"f_octave\", f), \"Octave\", \"f_octave\")\n",
    "print(f_source[0][1])"
   ]
  },
  {
   "attachments": {},
   "cell_type": "markdown",
   "metadata": {},
   "source": [
    "## Další možnosti SymPy\n",
    "\n",
    "Ukázali jsme si základy práce se symbolickými výpočty pomocí SymPy. Není v našich silách ukázat, co všechno SymPy umí -- je toho opravdu hodně. \n",
    "\n",
    "Přehled můžeme získat např. pomocí následujících odkazů:\n",
    "\n",
    "* [SymPy Tutorial](http://docs.sympy.org/latest/tutorial/index.html) - základní tutoriál\n",
    "* [SymPy Documentation](http://docs.sympy.org/latest/index.html) - kompletní dokumentace\n",
    "* [SymPy Live](http://live.sympy.org/) - online SymPy notebook\n",
    "* [SymPy GitHub](https://github.com/sympy/sympy/wiki) - SymPy na GitHubu\n",
    "\n",
    "### Seznam témat které SymPy pokrývá\n",
    "\n",
    "* SymPy Core\n",
    "* Combinatorics Module\n",
    "* Number Theory\n",
    "* Concrete Mathematics\n",
    "* Numerical evaluation\n",
    "* Functions Module\n",
    "* Geometry Module\n",
    "* Geometric Algebra Module\n",
    "* Geometric Algebra Module for SymPy\n",
    "* Extended LaTeXModule for SymPy\n",
    "* Symbolic Integrals\n",
    "* Numeric Integrals\n",
    "* Logic Module\n",
    "* Matrices\n",
    "* Mpmath\n",
    "* Polynomials Manipulation Module\n",
    "* Printing System\n",
    "* Plotting Module\n",
    "* Pyglet Plotting Module\n",
    "* Assumptions module\n",
    "* Term rewriting\n",
    "* Series Expansions\n",
    "* Sets\n",
    "* Simplify\n",
    "* Details on the Hypergeometric Function Expansion Module\n",
    "* Statistics\n",
    "* Stats\n",
    "* ODE\n",
    "* PDE\n",
    "* Solvers\n",
    "* Tensor Module\n",
    "* Utilities\n",
    "* Parsing input\n",
    "* Physics Module\n",
    "* Category Theory Module\n",
    "* Differential Geometry Module\n",
    "* Contributions to docs"
   ]
  }
 ],
 "metadata": {
  "kernelspec": {
   "display_name": "Python 3",
   "language": "python",
   "name": "python3"
  },
  "language_info": {
   "codemirror_mode": {
    "name": "ipython",
    "version": 3
   },
   "file_extension": ".py",
   "mimetype": "text/x-python",
   "name": "python",
   "nbconvert_exporter": "python",
   "pygments_lexer": "ipython3",
   "version": "3.11.8"
  }
 },
 "nbformat": 4,
 "nbformat_minor": 1
}
