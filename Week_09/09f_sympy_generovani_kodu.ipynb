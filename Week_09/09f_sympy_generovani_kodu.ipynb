{
 "cells": [
  {
   "cell_type": "code",
   "execution_count": null,
   "metadata": {},
   "outputs": [],
   "source": [
    "import sympy as sp\n",
    "from IPython.display import display\n",
    "sp.init_printing()"
   ]
  },
  {
   "cell_type": "code",
   "execution_count": null,
   "metadata": {},
   "outputs": [],
   "source": [
    "x, y, a, b = sp.symbols('x y a b')"
   ]
  },
  {
   "attachments": {},
   "cell_type": "markdown",
   "metadata": {},
   "source": [
    "## Generace kódu\n",
    "\n",
    "Automatická generace kódu je funkcionalita, kterou oceníme ve chvíli, kdy cheme implementovat naše analytické výsledky v numerické simulaci. Místo abychom začali ručně přepisovat do programovacího jazyka jako je např. Fortran nebo C, může SymPy tuto nezábavnou práci udělat za nás. Navíc při tom neudělá chyby."
   ]
  },
  {
   "cell_type": "markdown",
   "metadata": {},
   "source": [
    "## Převedení výrazu na Pythonovskou funkci\n",
    "Pokud chceme vytvořit ze symbolického výrazu funkci, použijeme `lambdify`:"
   ]
  },
  {
   "cell_type": "code",
   "execution_count": null,
   "metadata": {},
   "outputs": [],
   "source": [
    "# první argument je seznam proměnných (podobně jako pro lambda funkce)\n",
    "f_sympy = (x + sp.pi)**2\n",
    "display(f_sympy)\n",
    "\n",
    "f_x = sp.lambdify([x], f_sympy)\n",
    "print(f_x)"
   ]
  },
  {
   "cell_type": "code",
   "execution_count": null,
   "metadata": {},
   "outputs": [],
   "source": [
    "import numpy as np\n",
    "import matplotlib.pyplot as plt\n",
    "\n",
    "xa = np.linspace(-10, 10)\n",
    "plt.plot(xa, f_x(xa))"
   ]
  },
  {
   "cell_type": "markdown",
   "metadata": {},
   "source": [
    "Můžeme se i podívat na zdrojový kód vytvořené funkce, to se dá pomocí modulu `inspect` a jeho funkce `getsource`."
   ]
  },
  {
   "cell_type": "code",
   "execution_count": null,
   "metadata": {},
   "outputs": [],
   "source": [
    "import inspect\n",
    "print(inspect.getsource(f_x))"
   ]
  },
  {
   "cell_type": "markdown",
   "metadata": {},
   "source": [
    "Funkce `lambdify` umí také optimalizovat výsledný kód pro snadnější exekuci. Toto se dá nastavit pomocí parametru `cse` (Common Subexpression Elimination). Tato metoda rozbije výraz na menší části, které se opakují a tyto části se pak vyhodnotí pouze jednou.\n",
    "\n",
    "Dále lze vygenerovanou funkci specifikovat pro použití s určitým numerickým balíčkem, např. `numpy` , `jax` ... a to pomocí parametru `modules`."
   ]
  },
  {
   "cell_type": "code",
   "execution_count": null,
   "metadata": {},
   "outputs": [],
   "source": [
    "slozity_vyraz = (x + sp.pi + sp.exp(x))**2 + sp.sin(x) + sp.sin(x)**2 + sp.exp(x)\n",
    "display(slozity_vyraz)\n",
    "f1 = sp.lambdify([x], slozity_vyraz)\n",
    "print(inspect.getsource(f1))\n",
    "f2 = sp.lambdify([x], slozity_vyraz, cse=True, modules='numpy')\n",
    "print(inspect.getsource(f2))"
   ]
  },
  {
   "cell_type": "markdown",
   "metadata": {},
   "source": [
    "## Generování zdrojového kódu v jiných jazycích\n",
    "\n",
    "SymPy může generovat zdrojový kód v několika jazycích. Využijeme k tomu modul `codegen`."
   ]
  },
  {
   "cell_type": "code",
   "execution_count": null,
   "metadata": {},
   "outputs": [],
   "source": [
    "import sympy.utilities.codegen as codegen"
   ]
  },
  {
   "cell_type": "code",
   "execution_count": null,
   "metadata": {},
   "outputs": [],
   "source": [
    "# řekněme že chceme někde použít tento výsledek\n",
    "f = sp.sin( x * y**2) * sp.exp(y)\n",
    "f"
   ]
  },
  {
   "cell_type": "code",
   "execution_count": null,
   "metadata": {},
   "outputs": [],
   "source": [
    "# exportujeme do jazyka Fortran\n",
    "f_source = codegen.codegen((\"f_fortran\", f), \"F95\", \"f_fortran\")\n",
    "print(f_source[0][1])"
   ]
  },
  {
   "cell_type": "code",
   "execution_count": null,
   "metadata": {},
   "outputs": [],
   "source": [
    "# exportujeme do jazyka C\n",
    "f_source = codegen.codegen((\"f_C\", f), \"C\", \"f_C\")\n",
    "print(f_source[0][1])"
   ]
  },
  {
   "cell_type": "code",
   "execution_count": null,
   "metadata": {},
   "outputs": [],
   "source": [
    "# exportujeme do jazyka Octave/Matlab\n",
    "f_source = codegen.codegen((\"f_octave\", f), \"Octave\", \"f_octave\")\n",
    "print(f_source[0][1])"
   ]
  },
  {
   "cell_type": "markdown",
   "metadata": {},
   "source": [
    "## Ukázka na komplexnějším příkladu\n",
    "\n",
    "V příkladu se jedná o model zobrazení pomocí sférické čočky. Tedy jak pozorovatel v prostorových souřadnicích $x,y,z$ a natočením $\\alpha, \\beta, \\gamma$ vidí bod na pozici $S_x, S_y, S_z$."
   ]
  },
  {
   "cell_type": "code",
   "execution_count": null,
   "metadata": {},
   "outputs": [],
   "source": [
    "import sympy as sp\n",
    "import inspect\n",
    "\n",
    "# focal length\n",
    "ff = 0.008\n",
    "\n",
    "# length of the robot arm + length of the end effector\n",
    "L = 309.5 * 1e-3\n",
    "\n",
    "# Define the vectors v and n\n",
    "v = sp.Matrix([0, 0, -1])\n",
    "n = sp.Matrix([0, 1, 0])\n",
    "\n",
    "\n",
    "##########################################\n",
    "# Camera projection to the plane         #\n",
    "##########################################\n",
    "\n",
    "# Define the symbols\n",
    "alpha, beta, gama, X, Y, Z, S_x, S_y, S_z = sp.symbols(\n",
    "    'alpha beta gama X Y Z S_x S_y S_z', real=True)\n",
    "\n",
    "# Sip and TCP\n",
    "Sip = sp.Matrix([S_x, S_y, S_z])\n",
    "TCP = sp.Matrix([X, Y, Z])\n",
    "\n",
    "# Rotation matrices Rx, Ry, Rz\n",
    "Rx = sp.Matrix([[1, 0, 0],\n",
    "                [0, sp.cos(alpha), -sp.sin(alpha)],\n",
    "                [0, sp.sin(alpha), sp.cos(alpha)]])\n",
    "Ry = sp.Matrix([[sp.cos(beta), 0, sp.sin(beta)],\n",
    "                [0, 1, 0],\n",
    "                [-sp.sin(beta), 0, sp.cos(beta)]])\n",
    "Rz = sp.Matrix([[sp.cos(gama), -sp.sin(gama), 0],\n",
    "                [sp.sin(gama), sp.cos(gama), 0],\n",
    "                [0, 0, 1]])\n",
    "R = sp.simplify(Rx * Ry * Rz)\n",
    "\n",
    "\n",
    "# Vector v and calculations for x and o\n",
    "x = sp.Matrix([X, Y, Z]) - L * R * v\n",
    "o = R * v\n",
    "\n",
    "# Calculate 'a' using dot products\n",
    "a = sp.sqrt(((-R.row(0).dot(v) * Z) / (R.row(2).dot(v)))**2 +\n",
    "            (-(R.row(1).dot(v) * Z) / (R.row(2).dot(v)))**2 + Z * Z)\n",
    "\n",
    "# Calculate Q\n",
    "Q = a * o + TCP\n",
    "\n",
    "# Project Sip onto the line defined by o and Q\n",
    "Sip_proj = Sip + (o.dot(Q) - o.dot(Sip)) * (x - Sip) / (o.dot(x) - o.dot(Sip))\n",
    "\n",
    "# s_2 vector and s_1 as the cross product of o and s_2\n",
    "s_2 = R * n\n",
    "s_1 = o.cross(s_2)\n",
    "\n",
    "# Calculate k_1 and k_2\n",
    "k_1 = (Sip_proj - Q).dot(s_1) / s_1.norm()**2\n",
    "k_2 = (Sip_proj - Q).dot(s_2) / s_2.norm()**2\n",
    "\n",
    "\n",
    "# Calculate image plane coordinates f_1 and f_2\n",
    "f_1 = k_1 * ff / (a + L - ff)\n",
    "f_2 = k_2 * ff / (a + L - ff)\n",
    "\n",
    "\n",
    "vysledny_bod = sp.Matrix([f_1, f_2])\n",
    "vysledny_bod"
   ]
  },
  {
   "cell_type": "code",
   "execution_count": null,
   "metadata": {},
   "outputs": [],
   "source": [
    "# převedeme na Python funkci\n",
    "kamera_py = sp.lambdify([X, Y, Z, alpha, beta, gama, S_x, S_y, S_z], vysledny_bod, modules='numpy', cse=True)\n",
    "print(inspect.getsource(kamera_py))"
   ]
  },
  {
   "attachments": {},
   "cell_type": "markdown",
   "metadata": {},
   "source": [
    "## Další možnosti SymPy\n",
    "\n",
    "Ukázali jsme si základy práce se symbolickými výpočty pomocí SymPy. Není v našich silách ukázat, co všechno SymPy umí -- je toho opravdu hodně. \n",
    "\n",
    "Přehled můžeme získat např. pomocí následujících odkazů:\n",
    "\n",
    "* [SymPy Tutorial](http://docs.sympy.org/latest/tutorial/index.html) - základní tutoriál\n",
    "* [SymPy Documentation](http://docs.sympy.org/latest/index.html) - kompletní dokumentace\n",
    "* [SymPy Live](http://live.sympy.org/) - online SymPy notebook\n",
    "* [SymPy GitHub](https://github.com/sympy/sympy/wiki) - SymPy na GitHubu\n",
    "\n",
    "### Seznam témat které SymPy pokrývá\n",
    "\n",
    "* SymPy Core\n",
    "* Combinatorics Module\n",
    "* Number Theory\n",
    "* Concrete Mathematics\n",
    "* Numerical evaluation\n",
    "* Functions Module\n",
    "* Geometry Module\n",
    "* Geometric Algebra Module\n",
    "* Geometric Algebra Module for SymPy\n",
    "* Extended LaTeXModule for SymPy\n",
    "* Symbolic Integrals\n",
    "* Numeric Integrals\n",
    "* Logic Module\n",
    "* Matrices\n",
    "* Mpmath\n",
    "* Polynomials Manipulation Module\n",
    "* Printing System\n",
    "* Plotting Module\n",
    "* Pyglet Plotting Module\n",
    "* Assumptions module\n",
    "* Term rewriting\n",
    "* Series Expansions\n",
    "* Sets\n",
    "* Simplify\n",
    "* Details on the Hypergeometric Function Expansion Module\n",
    "* Statistics\n",
    "* Stats\n",
    "* ODE\n",
    "* PDE\n",
    "* Solvers\n",
    "* Tensor Module\n",
    "* Utilities\n",
    "* Parsing input\n",
    "* Physics Module\n",
    "* Category Theory Module\n",
    "* Differential Geometry Module\n",
    "* Contributions to docs"
   ]
  }
 ],
 "metadata": {
  "kernelspec": {
   "display_name": "Python 3",
   "language": "python",
   "name": "python3"
  },
  "language_info": {
   "codemirror_mode": {
    "name": "ipython",
    "version": 3
   },
   "file_extension": ".py",
   "mimetype": "text/x-python",
   "name": "python",
   "nbconvert_exporter": "python",
   "pygments_lexer": "ipython3",
   "version": "3.13.2"
  }
 },
 "nbformat": 4,
 "nbformat_minor": 1
}
