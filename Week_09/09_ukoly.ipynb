{
 "cells": [
  {
   "attachments": {},
   "cell_type": "markdown",
   "metadata": {},
   "source": [
    "# Úkoly \n",
    "## Sympy"
   ]
  },
  {
   "cell_type": "markdown",
   "metadata": {},
   "source": [
    "1. Definice Symbolů\n",
    "   - Definujte symboly `a` a `b`.\n",
    "   - Definujte symboly `c` a `d` jako reálná kladná čísla.\n"
   ]
  },
  {
   "cell_type": "code",
   "execution_count": null,
   "metadata": {},
   "outputs": [],
   "source": []
  },
  {
   "cell_type": "markdown",
   "metadata": {},
   "source": [
    "\n",
    "2. Vytvoření Výrazu\n",
    "   - Vytvořte výraz $3a + 2b - 5$\n",
    "   - Vytvořte výraz $\\frac{a^2}{b^2} + \\cos(a^2 + b)^2 + \\sin(a^2 + b)^2$\n",
    "   - Vytiskněte oba výrazy jako LaTeXové výrazy.\n",
    "   - v obou výrazech nahraďte $a$ za $\\pi$ a $b$ za $2$ a vyhodnoťte výraz s přesností na 10 desetinných míst.\n"
   ]
  },
  {
   "cell_type": "code",
   "execution_count": null,
   "metadata": {},
   "outputs": [],
   "source": []
  },
  {
   "cell_type": "markdown",
   "metadata": {},
   "source": [
    "\n",
    "3. Úpravy výrazů\n",
    "   - Vypište výraz $(a + b)^5$ pomocí jednotlivých mnohočlnů (expandujte).\n",
    "   - Faktorizujte výraz $a^6 - b^6$.\n",
    "   - Zjednodušte výraz $\\sin^{6}{\\left(a + b \\right)} + 3 \\sin^{4}{\\left(a + b \\right)} \\cos^{2}{\\left(a + b \\right)} + 3 \\sin^{2}{\\left(a + b \\right)} \\cos^{4}{\\left(a + b \\right)} + \\cos^{6}{\\left(a + b \\right)}$\n",
    "\n"
   ]
  },
  {
   "cell_type": "code",
   "execution_count": null,
   "metadata": {},
   "outputs": [],
   "source": []
  },
  {
   "cell_type": "markdown",
   "metadata": {},
   "source": [
    "4. Derivace a Integrace\n",
    "   - Najděte derivaci výrazu $a^2 + 3ab + b^2$ podle `a`.\n",
    "   - Spočtěte $$ \\intop_{-\\infty}^{t} e^{-x^2} dx$$\n",
    "   - Spočtěte integrál funkce $f(x) = 1-x-y$ přes pravoúhlý trojuhelník s vrcholy $[0, 0]$, $[1, 0]$, $[0, 1]$; tedy $$ \\intop_{0}^{1} \\intop_{0}^{1-y} 1-x-y ~~ dx dy$$\n"
   ]
  },
  {
   "cell_type": "code",
   "execution_count": null,
   "metadata": {},
   "outputs": [],
   "source": []
  },
  {
   "cell_type": "markdown",
   "metadata": {},
   "source": [
    "5. Řešení Rovnic\n",
    "    - Najděte řešení rovnice $a^2 - 5a + 6 = 0$ vzhledem k `a`.\n",
    "    - Najděte řešení soustavy rovnic $$ a + b = 5 $$ $$ a - b = 1 $$ vzhledem k `a` a `b`.\n",
    "    - Nalezněte všechny kořeny Legendrova polynomu stupně 5. Použíjte `sympy.legendre()` pro vytvoření výrazu odpovídajícímu Legendrovu polynomu.\n",
    "    "
   ]
  },
  {
   "cell_type": "code",
   "execution_count": null,
   "metadata": {},
   "outputs": [],
   "source": []
  },
  {
   "cell_type": "markdown",
   "metadata": {},
   "source": [
    "6. Generování kódu\n",
    "    - Vytvořte výraz $\\sin(a) + \\cos(b)$, vygenerujte Pythoní funkci a vykreslete pomocí matplotlib na oblasti $a \\in [0, 2\\pi]$ a $b \\in [0, 2\\pi]$."
   ]
  },
  {
   "cell_type": "code",
   "execution_count": null,
   "metadata": {},
   "outputs": [],
   "source": []
  },
  {
   "cell_type": "markdown",
   "metadata": {},
   "source": [
    "## Pandas\n",
    "1. Pomocí Pandas načtěte data ze souboru `aku.csv` zkontrolujte si zprávnost vypsáním prvních šesti řádků.\n",
    "2. Vypište základní statistiky pro každý sloupec.\n",
    "3. Vykreslete histogramy pomocí `seaborn` pro aloupce `A5` a `A100`."
   ]
  },
  {
   "cell_type": "code",
   "execution_count": null,
   "metadata": {},
   "outputs": [],
   "source": []
  }
 ],
 "metadata": {
  "kernelspec": {
   "display_name": "Python 3",
   "language": "python",
   "name": "python3"
  },
  "language_info": {
   "codemirror_mode": {
    "name": "ipython",
    "version": 3
   },
   "file_extension": ".py",
   "mimetype": "text/x-python",
   "name": "python",
   "nbconvert_exporter": "python",
   "pygments_lexer": "ipython3",
   "version": "3.11.8"
  },
  "orig_nbformat": 4
 },
 "nbformat": 4,
 "nbformat_minor": 2
}
