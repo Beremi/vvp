{
 "cells": [
  {
   "attachments": {},
   "cell_type": "markdown",
   "metadata": {},
   "source": [
    "# Úkoly \n",
    "1. vykreslete grafy prvních 5 Legendrových polynomů na intervalu [-1,1]"
   ]
  },
  {
   "cell_type": "code",
   "execution_count": null,
   "metadata": {},
   "outputs": [],
   "source": []
  },
  {
   "attachments": {},
   "cell_type": "markdown",
   "metadata": {},
   "source": [
    "2. vyrobte sparse matici reprezentující čtvercovou síť o velikosti $n \\times n$, kde každá buňka sítě odpovídá jednomu řádku/sloupci matice. V každém řádku/sloupci matice jsou nuly, kromě diagonálního prvku s hodnotou $1 + k \\cdot \\varepsilon$ (kde $k$ určuje počet sousedních buněk = 4 uvnitř, 3 na hranách, 2 v rozích) a prvků odpovídajícím sousedním buňkám (nahoře, dole, vlevo, vpravo) s hodnotou $-\\varepsilon$. Pořadí buněk čtvrtcové sítě berte po řádcích. Sestavte matici pomocí formátu LIL a vyplňte hodnoty pomocí cyklu přes všechny buňky sítě.\n",
    "    - tedy matice má velikost $n^2 \\times n^2$\n",
    "    - $\\varepsilon$ je parametr, který můžete nastavit, například $\\varepsilon = 0.1$\n",
    "    - matice je symetrická, tj. $A = A^T$\n",
    "    - každý řádek/sloupec má maximálně 5 nenulových prvků\n",
    "        - 5, pokud se jedná o buňku unvitř sítě\n",
    "        - 4, pokud se jedná o buňku na okraji sítě\n",
    "        - 3, pokud se jedná o buňku v rohu sítě\n",
    "    - výsledná matice je 5-ti diagonální\n",
    "\n",
    "Pro $n=3$ a $\\varepsilon = 0.1$ by měla matice (v plné formě) měla vypadat následovně:\n",
    "```python\n",
    "[[ 1.2 -0.1  0.  -0.1  0.   0.   0.   0.   0. ]\n",
    " [-0.1  1.3 -0.1  0.  -0.1  0.   0.   0.   0. ]\n",
    " [ 0.  -0.1  1.2  0.   0.  -0.1  0.   0.   0. ]\n",
    " [-0.1  0.   0.   1.3 -0.1  0.  -0.1  0.   0. ]\n",
    " [ 0.  -0.1  0.  -0.1  1.4 -0.1  0.  -0.1  0. ]\n",
    " [ 0.   0.  -0.1  0.  -0.1  1.3  0.   0.  -0.1]\n",
    " [ 0.   0.   0.  -0.1  0.   0.   1.2 -0.1  0. ]\n",
    " [ 0.   0.   0.   0.  -0.1  0.  -0.1  1.3 -0.1]\n",
    " [ 0.   0.   0.   0.   0.  -0.1  0.  -0.1  1.2]]\n",
    " ```\n"
   ]
  },
  {
   "cell_type": "code",
   "execution_count": null,
   "metadata": {},
   "outputs": [],
   "source": [
    "import scipy.sparse as sparse\n",
    "n = 3\n",
    "epsilon = 1e-1\n",
    "A = sparse.lil_matrix((n*n, n*n))\n",
    "\n",
    "for i in range(n):\n",
    "    for j in range(n):\n",
    "        # TODO fill matrix A - diagonal and non-diagonal elements\n",
    "\n",
    "print(A.todense())"
   ]
  },
  {
   "attachments": {},
   "cell_type": "markdown",
   "metadata": {},
   "source": [
    "3. sestavte matici $A$ z předchozího úkolu pomocí indexů řádků, sloupců a hodnot ve formátu CSR. \n",
    "    - Tedy sestavte tři pole: `row`, `col` a `data`, které obsahují řádky, sloupce a hodnoty nenulových prvků matice \n",
    "        - separátně sestavte příspěvky které vzniknou konektivitou na vnitřních horizontálních hranách a na vnitřních vertikálních hranách.\n",
    "            - při procházení všech vnitřních horizontálních hran si rozmyslete jaké jsou vždy indexy nad a pod hranou (toto jsou souřadnice řádků a sloupců)\n",
    "            - totéž pro vnitřní vertikální hrany zde se může hodit `np.arange(n * n).reshape((n, n)).T.flatten()` což vytvoří vektor s přeházenými indexy\n",
    "        - zvlášť sestavte příspevky pro mimodiagonální prvky a diagonální prvky.\n",
    "            - u diagonálních prvků, nejprve vyrobte vektor hodnot $1+ 4\\cdot \\varepsilon$ a pak pro každou hranu odečtěte $\\varepsilon$.\n",
    "    - Tyto pole vytvořte vektorizovaně - bez cyklů\n",
    "    - Využíjte vlastnosti, že hodnoty se stejnými indexy se při sestavení sečtou."
   ]
  },
  {
   "cell_type": "code",
   "execution_count": null,
   "metadata": {},
   "outputs": [],
   "source": [
    "# create matrix A using vectorized operations, creating indices for rows and columns and data\n",
    "# use sparse.coo_matrix((data, (i, j)), shape=(n, n))\n",
    "import numpy as np\n",
    "from scipy.sparse import csr_matrix\n",
    "\n",
    "n = 3\n",
    "epsilon = 0.1\n",
    "\n",
    "def A_efficiently(n, epsilon):\n",
    "    ## --- Mimodiagonální prvky\n",
    "    # Vnitřní horizontální hrany\n",
    "    horizontal_up_idx = # TODO - vytvořte indexy buněk nad hranou\n",
    "    horizontal_low_idx = # TODO - vytvořte indexy buněk pod hranou\n",
    "    row_horizontal = # TODO - vytvořte indexy řádků pro vnitřní horizontální hrany\n",
    "    col_horizontal = # TODO - vytvořte indexy sloupců pro vnitřní horizontální hrany\n",
    "    data_horizontal = -epsilon * np.ones(2 * (n * n - n)) # data jsou vždy stejná\n",
    "\n",
    "\n",
    "    # Vnitřní vertikální hrany\n",
    "    index_matrix_vertical = np.arange(n * n).reshape((n, n)).T.flatten() # indexy buněk přeházené pro vertikální hranu\n",
    "    vertical_left_idx = # TODO použijte index_matrix_vertical[...] pro vytvoření indexů buněk vlevo od hran\n",
    "    vertical_right_idx = # TODO použijte index_matrix_vertical[...] pro vytvoření indexů buněk vpravo od hran\n",
    "    row_vertical = # TODO - vytvořte indexy řádků pro vnitřní vertikální hrany\n",
    "    col_vertical = # TODO - vytvořte indexy sloupců pro vnitřní vertikální hrany\n",
    "    data_vertical = -epsilon * np.ones(2 * (n * n - n)) # data jsou vždy stejná\n",
    "\n",
    "    ## --- Diagonála (všechny prvky)\n",
    "    diagonal_idx = np.arange(n * n)\n",
    "    row_idx_diag = diagonal_idx\n",
    "    col_idx_diag = diagonal_idx\n",
    "    data_diag = (1 + 4 * epsilon) * np.ones(n * n)\n",
    "\n",
    "    # odečteme epsilon pro každou z hran\n",
    "    # horní hrana\n",
    "    # TODO - odečtěte epsilon pro horní hranu\n",
    "    # dolní hrana\n",
    "    # TODO - odečtěte epsilon pro dolní hranu\n",
    "    # levá hrana\n",
    "    # TODO - odečtěte epsilon pro levou hranu\n",
    "    # pravá hrana\n",
    "    # TODO - odečtěte epsilon pro pravou hranu\n",
    "\n",
    "    ## --- spojení všech vektorů a sestavení matice\n",
    "    # spojíme všechny vnitřní hrany a diagonálu\n",
    "    row_idx_diag = np.hstack((row_idx_diag, row_horizontal, row_vertical))\n",
    "    col_idx_diag = np.hstack((col_idx_diag, col_horizontal, col_vertical))\n",
    "    data_diag = np.hstack((data_diag, data_horizontal, data_vertical))\n",
    "\n",
    "    # vyrobíme matici\n",
    "    A_efficiently = # TODO - vytvořte matici v CSR formátu z dat, řádků a sloupců\n",
    "\n",
    "    return A_efficiently\n",
    "\n",
    "print(A_efficiently(n, epsilon).todense())\n"
   ]
  },
  {
   "attachments": {},
   "cell_type": "markdown",
   "metadata": {},
   "source": [
    "4. Použijte matici $A$ z předchozích úkolů. Vytvořte (použijte níže vytvořený) vektor $b$ odpovídající čtvercové síti s nulami všude kromě malého čtverce uprostřed ($n/6$ okolo středu) s hodnotou 1. \n",
    "    - Vykreslete řešení $x$ systému $A \\cdot x = b$ jako obrázek čtvercové sítě\n",
    "    - Spočtěte a vizualizujte 3 vlastní vektory matice $A$ (vlastní vektory odpovídající největším vlastním hodnotám) - opět jako obrázek čtvercové sítě"
   ]
  },
  {
   "cell_type": "code",
   "execution_count": null,
   "metadata": {},
   "outputs": [],
   "source": [
    "import matplotlib.pyplot as plt\n",
    "\n",
    "n = 12\n",
    "epsilon = 2e-1\n",
    "A = A_efficiently(n, epsilon)\n",
    "\n",
    "b = np.zeros((n, n))\n",
    "b[n//2 - n//6:n//2 + n//6,n//2 - n//6:n//2 + n//6] = 1\n",
    "b = b.flatten()\n",
    "plt.imshow(b.reshape((n, n)))"
   ]
  },
  {
   "cell_type": "code",
   "execution_count": null,
   "metadata": {},
   "outputs": [],
   "source": [
    "import scipy as sp\n",
    "\n",
    "# TODO - vyřešte lineární rovnici A x = b a vykreselete výsledek\n"
   ]
  },
  {
   "cell_type": "code",
   "execution_count": null,
   "metadata": {},
   "outputs": [],
   "source": [
    "# TODO - spočtěte a vykreslete vlastní vektory matice A"
   ]
  },
  {
   "attachments": {},
   "cell_type": "markdown",
   "metadata": {},
   "source": [
    "5. Nalezněte všechny kořeny Legendrova polynomu stupně 5 na intervalu $<-1,1>$"
   ]
  },
  {
   "cell_type": "code",
   "execution_count": null,
   "metadata": {},
   "outputs": [],
   "source": []
  },
  {
   "attachments": {},
   "cell_type": "markdown",
   "metadata": {},
   "source": [
    "6. Pomocí SymPy nalezněte všechny kořeny Legendrova polynomu stupně 5. Použíjte `sympy.legendre()` pro vytvoření výrazu odpovídajícímu Legendrovu polynomu.\n",
    "- porovnejte výsledky s předchozím úkolem"
   ]
  },
  {
   "cell_type": "code",
   "execution_count": null,
   "metadata": {},
   "outputs": [],
   "source": [
    "import sympy as sp\n",
    "\n",
    "x = sp.Symbol('x')\n",
    "legendre_5 = sp.legendre(5, x)\n",
    "legendre_5\n"
   ]
  },
  {
   "cell_type": "code",
   "execution_count": null,
   "metadata": {},
   "outputs": [],
   "source": []
  }
 ],
 "metadata": {
  "kernelspec": {
   "display_name": "Python 3",
   "language": "python",
   "name": "python3"
  },
  "language_info": {
   "codemirror_mode": {
    "name": "ipython",
    "version": 3
   },
   "file_extension": ".py",
   "mimetype": "text/x-python",
   "name": "python",
   "nbconvert_exporter": "python",
   "pygments_lexer": "ipython3",
   "version": "3.10.9"
  },
  "orig_nbformat": 4
 },
 "nbformat": 4,
 "nbformat_minor": 2
}
