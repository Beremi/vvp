{
 "cells": [
  {
   "attachments": {},
   "cell_type": "markdown",
   "metadata": {},
   "source": [
    "# SymPy - symbolické výpočty v Pythonu\n",
    "**Na úvod**\n",
    "\n",
    "Někteří z vás možná znáte nějaký systém pro *počítačovou algebru* (Computer Algebra Systems -- CAS), např. Maple, Mathematica, Derive, Maxima, Reduce. Pro Python existují dva velké projekty počítačové algebry:\n",
    "\n",
    "* [SymPy](http://sympy.org) - modul který může být použit v jakémkoli Python programu a je dobře podporován v Jupyter Notebook. \n",
    "* [Sage](http://www.sagemath.org/) - toto je už kompletní (a velice obsáhlý) systém, který si klade za cíl být open source konkurentem komerčním produktům.\n",
    "\n",
    "My se tady podíváme na některé základní možnosti SymPy."
   ]
  },
  {
   "cell_type": "code",
   "execution_count": null,
   "metadata": {},
   "outputs": [],
   "source": [
    "import sympy"
   ]
  },
  {
   "cell_type": "code",
   "execution_count": null,
   "metadata": {},
   "outputs": [],
   "source": [
    "sympy.init_printing()"
   ]
  },
  {
   "cell_type": "markdown",
   "metadata": {},
   "source": [
    "## Definujeme symboly\n",
    "\n",
    "Pro symbolické výpočty potřebujeme pochopitelně symboly, tak jak jsme zvyklí už z matematiky na základní škole. V Pythonu samotném máme sice proměnné, které jsou v podstatě také symboly, ale operace s nimy se řídí zcela jinými pravidly než potřebujeme pro symbolické výpočty. Naštěstí tu je třída `sympy.Symbol`."
   ]
  },
  {
   "cell_type": "code",
   "execution_count": null,
   "metadata": {},
   "outputs": [],
   "source": [
    "x = sympy.Symbol('x')\n",
    "x"
   ]
  },
  {
   "cell_type": "markdown",
   "metadata": {},
   "source": [
    "Co když napíšeme něco trochu složitějšího."
   ]
  },
  {
   "cell_type": "code",
   "execution_count": null,
   "metadata": {},
   "outputs": [],
   "source": [
    "expression = (sympy.pi + x) / 2\n",
    "expression"
   ]
  },
  {
   "cell_type": "code",
   "execution_count": null,
   "metadata": {},
   "outputs": [],
   "source": [
    "# co jsme to vůbec dostali za typ\n",
    "type(expression)\n"
   ]
  },
  {
   "cell_type": "markdown",
   "metadata": {},
   "source": [
    "Můžeme také přičadit symbolům nějaké vlastnosti (to se pak pochopitelně může projevit v dalších výpočtech)."
   ]
  },
  {
   "cell_type": "code",
   "execution_count": null,
   "metadata": {},
   "outputs": [],
   "source": [
    "a = sympy.Symbol('a', real=True)\n",
    "a.is_real"
   ]
  },
  {
   "cell_type": "code",
   "execution_count": null,
   "metadata": {},
   "outputs": [],
   "source": [
    "b = sympy.Symbol('b', positive=True)"
   ]
  },
  {
   "cell_type": "code",
   "execution_count": null,
   "metadata": {},
   "outputs": [],
   "source": [
    "b.is_negative"
   ]
  },
  {
   "cell_type": "code",
   "execution_count": null,
   "metadata": {},
   "outputs": [],
   "source": [
    "b > 0"
   ]
  },
  {
   "cell_type": "markdown",
   "metadata": {},
   "source": [
    "### Zlomky"
   ]
  },
  {
   "cell_type": "code",
   "execution_count": null,
   "metadata": {},
   "outputs": [],
   "source": [
    "r1 = sympy.Rational(4,5)\n",
    "r2 = sympy.Rational(5,4)\n",
    "r1, r2"
   ]
  },
  {
   "cell_type": "code",
   "execution_count": null,
   "metadata": {},
   "outputs": [],
   "source": [
    "r1 + r2"
   ]
  },
  {
   "cell_type": "markdown",
   "metadata": {},
   "source": [
    "## Vyčíslování"
   ]
  },
  {
   "cell_type": "code",
   "execution_count": null,
   "metadata": {},
   "outputs": [],
   "source": [
    "y = (x + sympy.pi)**2\n",
    "y"
   ]
  },
  {
   "cell_type": "markdown",
   "metadata": {},
   "source": [
    "Numerickou hodnotu můžeme získat pomocí funkce `N`. Často také využijeme metodu `subs`:"
   ]
  },
  {
   "cell_type": "code",
   "execution_count": null,
   "metadata": {},
   "outputs": [],
   "source": [
    "expression = y.subs(x, 2)\n",
    "print(expression)\n",
    "\n",
    "sympy.N(expression, n=5)\n"
   ]
  },
  {
   "cell_type": "markdown",
   "metadata": {},
   "source": [
    "To samé pomocí metody `evalf`. Pro obojí můžeme zadat počet platných číslic."
   ]
  },
  {
   "cell_type": "code",
   "execution_count": null,
   "metadata": {},
   "outputs": [],
   "source": [
    "sympy.pi.evalf(100)"
   ]
  },
  {
   "cell_type": "markdown",
   "metadata": {},
   "source": [
    "Pokud chceme vytvořit ze symbolického výrazu funkci, použijeme `lambdify`:"
   ]
  },
  {
   "cell_type": "code",
   "execution_count": null,
   "metadata": {},
   "outputs": [],
   "source": [
    "# první argument je seznam proměnných (podobně jako pro lambda funkce)\n",
    "f_sympy = (x + sympy.pi)**2\n",
    "print(f_sympy)\n",
    "\n",
    "f_x = sympy.lambdify([x], f_sympy)\n",
    "print(f_x)"
   ]
  },
  {
   "cell_type": "code",
   "execution_count": null,
   "metadata": {},
   "outputs": [],
   "source": [
    "import numpy as np\n",
    "import matplotlib.pyplot as plt\n",
    "\n",
    "xa = np.linspace(-10, 10)\n",
    "plt.plot(xa, f_x(xa))"
   ]
  },
  {
   "cell_type": "markdown",
   "metadata": {},
   "source": [
    "## Symbolické úpravy\n",
    "\n",
    "Toto je velice důležitá aplikace, která nám může v mnoha případech ušetřit nemálo práce.\n",
    "\n",
    "### Expand a factor\n",
    "\n",
    "Začněme pracovat s polynomem, zadaným jako"
   ]
  },
  {
   "cell_type": "code",
   "execution_count": null,
   "metadata": {},
   "outputs": [],
   "source": [
    "y = (x+1)*(x+2)*(x+3)\n",
    "y"
   ]
  },
  {
   "cell_type": "markdown",
   "metadata": {},
   "source": [
    "Polynom rozvineme pomocí `expand`:"
   ]
  },
  {
   "cell_type": "code",
   "execution_count": null,
   "metadata": {},
   "outputs": [],
   "source": [
    "z = sympy.expand(y)\n",
    "z"
   ]
  },
  {
   "cell_type": "markdown",
   "metadata": {},
   "source": [
    "Pomocí `factor` můžeme dostat zpět původní faktorizovaný výraz."
   ]
  },
  {
   "cell_type": "code",
   "execution_count": null,
   "metadata": {},
   "outputs": [],
   "source": [
    "sympy.factor(z)"
   ]
  },
  {
   "cell_type": "markdown",
   "metadata": {},
   "source": [
    "`expand` můžeme použít i pro trigonometrické funkce:"
   ]
  },
  {
   "cell_type": "code",
   "execution_count": null,
   "metadata": {},
   "outputs": [],
   "source": [
    "sympy.expand(sympy.sin(a + b), trig=True)"
   ]
  },
  {
   "cell_type": "markdown",
   "metadata": {},
   "source": [
    "### Zjednodušování pomocí `simplify`"
   ]
  },
  {
   "cell_type": "code",
   "execution_count": null,
   "metadata": {},
   "outputs": [],
   "source": [
    "# tohle by měla být hračka\n",
    "expression = sympy.sin(a)**2 + sympy.cos(a)**2\n",
    "expression\n"
   ]
  },
  {
   "cell_type": "code",
   "execution_count": null,
   "metadata": {},
   "outputs": [],
   "source": [
    "sympy.simplify(expression)\n"
   ]
  },
  {
   "cell_type": "markdown",
   "metadata": {},
   "source": [
    "## Derivace a integrály\n",
    "\n",
    "SymPy umí symbolicky derivovat (je tedy aspoň tak dobrý jako cvičená opice) a i integrovat."
   ]
  },
  {
   "cell_type": "code",
   "execution_count": null,
   "metadata": {},
   "outputs": [],
   "source": [
    "y = (x**2 + sympy.sin(x))**2\n",
    "y"
   ]
  },
  {
   "cell_type": "code",
   "execution_count": null,
   "metadata": {},
   "outputs": [],
   "source": [
    "sympy.diff(y, x)"
   ]
  },
  {
   "cell_type": "markdown",
   "metadata": {},
   "source": [
    "Derivovat můžeme i funkce více proměnných."
   ]
  },
  {
   "cell_type": "code",
   "execution_count": null,
   "metadata": {},
   "outputs": [],
   "source": [
    "x = sympy.Symbol('x')\n",
    "y = sympy.Symbol('y')\n",
    "z = sympy.cos(y) * (x**3 + 2*x**2*y)\n",
    "z"
   ]
  },
  {
   "cell_type": "markdown",
   "metadata": {},
   "source": [
    "Tohle spočítá\n",
    "\n",
    "$\\displaystyle \\frac{{{{\\rm{d}}^3}z}}{{{\\rm{d}}x{\\rm{d}}{y^2}}} $"
   ]
  },
  {
   "cell_type": "code",
   "execution_count": null,
   "metadata": {},
   "outputs": [],
   "source": [
    "sympy.diff(z, x, 1, y, 2)"
   ]
  },
  {
   "cell_type": "markdown",
   "metadata": {},
   "source": [
    "### Integrace"
   ]
  },
  {
   "cell_type": "code",
   "execution_count": null,
   "metadata": {},
   "outputs": [],
   "source": [
    "f = sympy.sin(x * y) * sympy.cos(x)\n",
    "f"
   ]
  },
  {
   "cell_type": "code",
   "execution_count": null,
   "metadata": {},
   "outputs": [],
   "source": [
    "sympy.integrate(f, x)"
   ]
  },
  {
   "cell_type": "code",
   "execution_count": null,
   "metadata": {},
   "outputs": [],
   "source": [
    "sympy.integrate(f, y)"
   ]
  },
  {
   "attachments": {},
   "cell_type": "markdown",
   "metadata": {},
   "source": [
    "## Řešení rovnic\n",
    "Rovnice můžeme řešit pomocí `solve`, prvním argumentem je list výrazů, které musí být rovny nule, druhým je touple symbolů, pro které chceme nalézt řešení."
   ]
  },
  {
   "attachments": {},
   "cell_type": "markdown",
   "metadata": {},
   "source": [
    "**Příklad:** Hledání předpisu lineární funkce, která ma na daném trojúhelníku hodnotu 0 ve dvou bodech a 1 ve třetím bodě."
   ]
  },
  {
   "cell_type": "code",
   "execution_count": null,
   "metadata": {},
   "outputs": [],
   "source": [
    "import sympy as sp\n",
    "\n",
    "# proměnné v souřadnicovém systému\n",
    "x, y = sp.symbols('x y')\n",
    "\n",
    "# proměnné reprezentující souřadnice bodů\n",
    "x1, y1, x2, y2, x3, y3 = sp.symbols('x1 y1 x2 y2 x3 y3')\n",
    "\n",
    "# proměnné reprezentující parametry lineární funkce ve 2D\n",
    "a, b, c = sp.symbols('a b c')\n",
    "\n",
    "# takto vypadá obecně lineární funkce ve 2D\n",
    "phi = a * x + b * y + c\n",
    "\n",
    "# systém rovnic pro 3 body, v prvním bodě je phi = 1 v druhém bodě je phi = 0 a v třetím bodě je phi = 0\n",
    "conditions_phi = [\n",
    "    phi.subs({x: x1, y: y1}) - 1,\n",
    "    phi.subs({x: x2, y: y2}),\n",
    "    phi.subs({x: x3, y: y3})\n",
    "]\n",
    "conditions_phi\n"
   ]
  },
  {
   "cell_type": "code",
   "execution_count": null,
   "metadata": {},
   "outputs": [],
   "source": [
    "# spočteme, jaké musí být hodnoty a, b a c, aby byl systém rovnic splněn\n",
    "coeffs_phi = sp.solve(conditions_phi, (a, b, c))\n",
    "\n",
    "coeffs_phi\n"
   ]
  },
  {
   "cell_type": "code",
   "execution_count": null,
   "metadata": {},
   "outputs": [],
   "source": [
    "# použijeme řešení pro vytvoření hledané funkce\n",
    "phi = phi.subs(coeffs_phi)\n",
    "phi\n"
   ]
  },
  {
   "attachments": {},
   "cell_type": "markdown",
   "metadata": {},
   "source": [
    "## Generace kódu\n",
    "\n",
    "Automatická generace kódu je funkcionalita, kterou oceníme ve chvíli, kdy cheme implementovat naše analytické výsledky v numerické simulaci. Místo abychom začali ručně přepisovat do programovacího jazyka jako je např. Fortran nebo C, může SymPy tuto nezábavnou práci udělat za nás. Navíc při tom neudělá chyby."
   ]
  },
  {
   "cell_type": "code",
   "execution_count": null,
   "metadata": {},
   "outputs": [],
   "source": [
    "# řekněme že chceme někde použít tento výsledek\n",
    "f = sympy.sin( x * y**2) * sympy.exp(y)\n",
    "f"
   ]
  },
  {
   "cell_type": "code",
   "execution_count": null,
   "metadata": {},
   "outputs": [],
   "source": [
    "import sympy.utilities.codegen"
   ]
  },
  {
   "cell_type": "code",
   "execution_count": null,
   "metadata": {},
   "outputs": [],
   "source": [
    "# exportujeme do jazyka Fortran\n",
    "f_source = sympy.utilities.codegen.codegen((\"f_fortran\", f), \"F95\", \"f_fortran\")\n",
    "print(f_source[0][1])"
   ]
  },
  {
   "cell_type": "code",
   "execution_count": null,
   "metadata": {},
   "outputs": [],
   "source": [
    "# exportujeme do jazyka C\n",
    "f_source = sympy.utilities.codegen.codegen((\"f_C\", f), \"C\", \"f_C\")\n",
    "print(f_source[0][1])"
   ]
  },
  {
   "cell_type": "code",
   "execution_count": null,
   "metadata": {},
   "outputs": [],
   "source": [
    "# exportujeme do jazyka Octave/Matlab\n",
    "f_source = sympy.utilities.codegen.codegen((\"f_octave\", f), \"Octave\", \"f_octave\")\n",
    "print(f_source[0][1])"
   ]
  },
  {
   "cell_type": "code",
   "execution_count": null,
   "metadata": {},
   "outputs": [],
   "source": [
    "help(sympy.utilities.codegen.codegen)\n"
   ]
  },
  {
   "attachments": {},
   "cell_type": "markdown",
   "metadata": {},
   "source": [
    "## Další možnosti SymPy\n",
    "\n",
    "Ukázali jsme si základy práce se symbolickými výpočty pomocí SymPy. Není v našich silách ukázat, co všechno SymPy umí -- je toho opravdu hodně. \n",
    "\n",
    "Přehled můžeme získat např. pomocí následujících odkazů:\n",
    "\n",
    "* [SymPy Tutorial](http://docs.sympy.org/latest/tutorial/index.html) - základní tutoriál\n",
    "* [SymPy Documentation](http://docs.sympy.org/latest/index.html) - kompletní dokumentace\n",
    "* [SymPy Live](http://live.sympy.org/) - online SymPy notebook\n",
    "* [SymPy GitHub](https://github.com/sympy/sympy/wiki) - SymPy na GitHubu\n",
    "\n",
    "### Seznam témat které SymPy pokrývá\n",
    "\n",
    "* SymPy Core\n",
    "* Combinatorics Module\n",
    "* Number Theory\n",
    "* Concrete Mathematics\n",
    "* Numerical evaluation\n",
    "* Functions Module\n",
    "* Geometry Module\n",
    "* Geometric Algebra Module\n",
    "* Geometric Algebra Module for SymPy\n",
    "* Extended LaTeXModule for SymPy\n",
    "* Symbolic Integrals\n",
    "* Numeric Integrals\n",
    "* Logic Module\n",
    "* Matrices\n",
    "* Mpmath\n",
    "* Polynomials Manipulation Module\n",
    "* Printing System\n",
    "* Plotting Module\n",
    "* Pyglet Plotting Module\n",
    "* Assumptions module\n",
    "* Term rewriting\n",
    "* Series Expansions\n",
    "* Sets\n",
    "* Simplify\n",
    "* Details on the Hypergeometric Function Expansion Module\n",
    "* Statistics\n",
    "* Stats\n",
    "* ODE\n",
    "* PDE\n",
    "* Solvers\n",
    "* Tensor Module\n",
    "* Utilities\n",
    "* Parsing input\n",
    "* Physics Module\n",
    "* Category Theory Module\n",
    "* Differential Geometry Module\n",
    "* Contributions to docs"
   ]
  },
  {
   "cell_type": "code",
   "execution_count": null,
   "metadata": {},
   "outputs": [],
   "source": []
  }
 ],
 "metadata": {
  "kernelspec": {
   "display_name": "Python 3",
   "language": "python",
   "name": "python3"
  },
  "language_info": {
   "codemirror_mode": {
    "name": "ipython",
    "version": 3
   },
   "file_extension": ".py",
   "mimetype": "text/x-python",
   "name": "python",
   "nbconvert_exporter": "python",
   "pygments_lexer": "ipython3",
   "version": "3.10.9"
  }
 },
 "nbformat": 4,
 "nbformat_minor": 1
}
