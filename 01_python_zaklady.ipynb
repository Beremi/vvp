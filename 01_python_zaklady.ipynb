{
 "cells": [
  {
   "attachments": {},
   "cell_type": "markdown",
   "metadata": {},
   "source": [
    "# Proměnné a typy"
   ]
  },
  {
   "attachments": {},
   "cell_type": "markdown",
   "metadata": {},
   "source": [
    "V názvech proměnných v Pythonu se mohou vyskytovat alfanumerické znaky `a-z`, `A-Z`, `0-9` a některé speciální znaky, jako například `_`. Název nemůže začínat číslicí.\n",
    "\n",
    "Základní přiřazování hodnoty je pomocí operátoru `=`."
   ]
  },
  {
   "cell_type": "code",
   "execution_count": 1,
   "metadata": {
    "tags": []
   },
   "outputs": [
    {
     "name": "stdout",
     "output_type": "stream",
     "text": [
      "5\n"
     ]
    }
   ],
   "source": [
    "nazev_promenne = 5\n",
    "print(nazev_promenne)"
   ]
  },
  {
   "attachments": {},
   "cell_type": "markdown",
   "metadata": {},
   "source": [
    "## Typy proměnných\n",
    "\n",
    "Mezi základní typy patří:\n",
    " - `Integers (int)` - celá čísla\n",
    " - `Floats (float)` - desetinná čísla s omezenou přesností\n",
    " - `Boolean (bool)` - booleovské/logické hodnoty - 0/1\n",
    " - `Complex (complex)` - komplexní čísla\n",
    " - `String (str)` - řetězce "
   ]
  },
  {
   "cell_type": "code",
   "execution_count": 7,
   "metadata": {},
   "outputs": [
    {
     "name": "stdout",
     "output_type": "stream",
     "text": [
      "<class 'int'>\n",
      "<class 'int'>\n"
     ]
    }
   ],
   "source": [
    "x = -1\n",
    "print(type(x))\n",
    "x = 3_564_562\n",
    "print(type(x))\n"
   ]
  },
  {
   "cell_type": "code",
   "execution_count": 10,
   "metadata": {},
   "outputs": [
    {
     "name": "stdout",
     "output_type": "stream",
     "text": [
      "<class 'float'>\n",
      "<class 'float'>\n"
     ]
    }
   ],
   "source": [
    "x = 5.3\n",
    "print(type(x))\n",
    "x = 563e-12\n",
    "print(type(x))"
   ]
  },
  {
   "cell_type": "code",
   "execution_count": 12,
   "metadata": {},
   "outputs": [
    {
     "name": "stdout",
     "output_type": "stream",
     "text": [
      "<class 'bool'>\n",
      "<class 'bool'>\n"
     ]
    }
   ],
   "source": [
    "x = True\n",
    "print(type(x))\n",
    "x = False\n",
    "print(type(x))"
   ]
  },
  {
   "cell_type": "code",
   "execution_count": 16,
   "metadata": {},
   "outputs": [
    {
     "name": "stdout",
     "output_type": "stream",
     "text": [
      "<class 'complex'>\n",
      "5.2\n",
      "1.2\n",
      "<class 'float'>\n"
     ]
    }
   ],
   "source": [
    "x = 5.2 + 1.2j\n",
    "print(type(x))\n",
    "print(x.real)\n",
    "print(x.imag)\n",
    "print(type(x.imag))"
   ]
  },
  {
   "cell_type": "code",
   "execution_count": 20,
   "metadata": {},
   "outputs": [
    {
     "name": "stdout",
     "output_type": "stream",
     "text": [
      "<class 'str'>\n",
      "<class 'str'>\n",
      "<class 'str'>\n",
      "ho\n"
     ]
    }
   ],
   "source": [
    "x = \"a\"\n",
    "print(type(x))\n",
    "x = 'b'\n",
    "print(type(x))\n",
    "x = \"ahoj\"\n",
    "print(type(x))\n",
    "print(x[1:3])"
   ]
  },
  {
   "attachments": {},
   "cell_type": "markdown",
   "metadata": {},
   "source": [
    "#### Kontejtery\n",
    "\n",
    "Dalšími základními typy v Pythonu jsou tzv. kontejtery (krabice, přihrádky, ...). Tyto slouží pro organizaci většího množství objektů (jako jsou čísla, řetězce, další kontejnery, ...).\n",
    "\n",
    "`Pozor! indexujeme od nuly`\n",
    "\n",
    "Základní typy kontejnerů v pythonu jsou:\n",
    " - `touple ()` - číslovaná série, která nelze po vytvoření měnit\n",
    " - `list []` - oproti touple lze měnit, tedy např. měnit hodnoty, přidávat elementy\n",
    " - `set {}` - nečíslovaná množina prvků, lze měnit, ale lze do ní vkládat pouze neměnitelné typy\n",
    " - `dictionary { : }` - množina prvků organizovaná dle klíče, klíče mohou být jakékoliv neměnitelné typy"
   ]
  },
  {
   "cell_type": "code",
   "execution_count": 32,
   "metadata": {},
   "outputs": [
    {
     "name": "stdout",
     "output_type": "stream",
     "text": [
      "<class 'tuple'>\n",
      "(5, 1.2, 'písmenko')\n",
      "1.2\n"
     ]
    }
   ],
   "source": [
    "muj_touple = (5, 1.2, \"písmenko\")\n",
    "print(type(muj_touple))\n",
    "print(muj_touple)\n",
    "print(muj_touple[1])"
   ]
  },
  {
   "attachments": {},
   "cell_type": "markdown",
   "metadata": {},
   "source": [
    "Touple je tzv. neměnný kontejner, tedy po vytvoření nelze měnit. Pokus o změnu vyvolá chybu."
   ]
  },
  {
   "cell_type": "code",
   "execution_count": 33,
   "metadata": {},
   "outputs": [
    {
     "ename": "TypeError",
     "evalue": "'tuple' object does not support item assignment",
     "output_type": "error",
     "traceback": [
      "\u001b[0;31m---------------------------------------------------------------------------\u001b[0m",
      "\u001b[0;31mTypeError\u001b[0m                                 Traceback (most recent call last)",
      "Cell \u001b[0;32mIn[33], line 1\u001b[0m\n\u001b[0;32m----> 1\u001b[0m muj_touple[\u001b[39m1\u001b[39;49m] \u001b[39m=\u001b[39m \u001b[39m2\u001b[39m\n",
      "\u001b[0;31mTypeError\u001b[0m: 'tuple' object does not support item assignment"
     ]
    }
   ],
   "source": [
    "muj_touple[1] = 2"
   ]
  },
  {
   "attachments": {},
   "cell_type": "markdown",
   "metadata": {},
   "source": [
    "List je podobný jako touple, ale lze do něj přidávat a měnit prvky."
   ]
  },
  {
   "cell_type": "code",
   "execution_count": 34,
   "metadata": {},
   "outputs": [
    {
     "name": "stdout",
     "output_type": "stream",
     "text": [
      "<class 'list'>\n",
      "[5, 1.2, 'písmenko']\n",
      "1.2\n",
      "[5, 2, 'písmenko', 3]\n"
     ]
    }
   ],
   "source": [
    "muj_list = [5, 1.2, \"písmenko\"]\n",
    "print(type(muj_list))\n",
    "print(muj_list)\n",
    "print(muj_list[1])\n",
    "\n",
    "muj_list = list(muj_touple)\n",
    "muj_list[1] = 2\n",
    "muj_list.append(3)\n",
    "print(muj_list)"
   ]
  },
  {
   "attachments": {},
   "cell_type": "markdown",
   "metadata": {},
   "source": [
    "Touple je sice neměnný, ale lze do něj vložit list, který lze měnit. Toto je však poměrně nešikovné, neboť ztrácíme výhodu neměnnosti touple jako celku."
   ]
  },
  {
   "cell_type": "code",
   "execution_count": 1,
   "metadata": {},
   "outputs": [],
   "source": [
    "muj_touple = (5, 1.2, \"písmenko\", [1, 2, 3])\n",
    "muj_touple[3][1] = 5"
   ]
  },
  {
   "attachments": {},
   "cell_type": "markdown",
   "metadata": {},
   "source": [
    "Set je množina prvků, která je nečíslovaná a lze do ní vkládat pouze neměnitelné typy. Pokud se pokusíme do setu vložit měnitelný typ, vyvolá se chyba."
   ]
  },
  {
   "cell_type": "code",
   "execution_count": 46,
   "metadata": {},
   "outputs": [
    {
     "name": "stdout",
     "output_type": "stream",
     "text": [
      "<class 'set'>\n",
      "{'a', 0, 5.1}\n",
      "{'a', 0, 5.1, 1.2}\n",
      "{'a', 5.1, 1.2}\n",
      "{0, 1, 5.1, 'b', 'a'}\n",
      "{'a', 5.1}\n"
     ]
    }
   ],
   "source": [
    "muj_set = {\"a\", 0 , 5.1}\n",
    "print(type(muj_set))\n",
    "print(muj_set)\n",
    "muj_set.add(0)\n",
    "muj_set.add(1.2)\n",
    "print(muj_set)\n",
    "muj_set.remove(0)\n",
    "print(muj_set)\n",
    "\n",
    "muj_set1 = {\"a\", 0, 5.1}\n",
    "muj_set2 = {\"b\", \"a\", 1, 5.1}\n",
    "print(muj_set1 | muj_set2)\n",
    "print(muj_set1 & muj_set2)"
   ]
  },
  {
   "cell_type": "code",
   "execution_count": 3,
   "metadata": {},
   "outputs": [
    {
     "ename": "TypeError",
     "evalue": "unhashable type: 'list'",
     "output_type": "error",
     "traceback": [
      "\u001b[0;31m---------------------------------------------------------------------------\u001b[0m",
      "\u001b[0;31mTypeError\u001b[0m                                 Traceback (most recent call last)",
      "Cell \u001b[0;32mIn[3], line 2\u001b[0m\n\u001b[1;32m      1\u001b[0m \u001b[39m#chyba pokud do setu pridame list\u001b[39;00m\n\u001b[0;32m----> 2\u001b[0m muj_set \u001b[39m=\u001b[39m {\u001b[39m\"\u001b[39m\u001b[39ma\u001b[39m\u001b[39m\"\u001b[39m, \u001b[39m0\u001b[39m , \u001b[39m5.1\u001b[39m, [\u001b[39m1\u001b[39m, \u001b[39m2\u001b[39m, \u001b[39m3\u001b[39m]}\n",
      "\u001b[0;31mTypeError\u001b[0m: unhashable type: 'list'"
     ]
    }
   ],
   "source": [
    "# chyba pokud do setu pridame list\n",
    "muj_set = {\"a\", 0 , 5.1, [1, 2, 3]}"
   ]
  },
  {
   "attachments": {},
   "cell_type": "markdown",
   "metadata": {},
   "source": [
    "Slovník je množina prvků organizovaná dle klíče. Klíč může být jakýkoliv neměnitelný typ. Hodnoty mohou být jakékoliv typy."
   ]
  },
  {
   "cell_type": "code",
   "execution_count": 60,
   "metadata": {},
   "outputs": [
    {
     "name": "stdout",
     "output_type": "stream",
     "text": [
      "<class 'dict'>\n",
      "{1: 'prvek 1', '2': 0, (0, 'a'): [1, 'ahoj']}\n",
      "dict_keys([1, '2', (0, 'a')])\n",
      "dict_values(['prvek 1', 0, [1, 'ahoj']])\n",
      "dict_items([(1, 'prvek 1'), ('2', 0), ((0, 'a'), [1, 'ahoj'])])\n",
      "[1, 'ahoj']\n",
      "prvek 1\n",
      "prvek 1\n",
      "None\n"
     ]
    }
   ],
   "source": [
    "muj_slovnik = {1: \"prvek 1\", \"2\": 0, (0, \"a\"):[1, \"ahoj\"]}\n",
    "\n",
    "print(type(muj_slovnik))\n",
    "print(muj_slovnik)\n",
    "\n",
    "print(muj_slovnik.keys())\n",
    "print(muj_slovnik.values())\n",
    "print(muj_slovnik.items())\n",
    "\n",
    "print(muj_slovnik[(0, \"a\")])\n",
    "print(muj_slovnik[1])\n",
    "\n",
    "print(muj_slovnik.get(1))\n",
    "# pokud klic neexistuje, vraci None, pozor na rozdíl oproti přístupu přes []\n",
    "print(muj_slovnik.get(2))"
   ]
  },
  {
   "cell_type": "code",
   "execution_count": 57,
   "metadata": {},
   "outputs": [
    {
     "ename": "KeyError",
     "evalue": "2",
     "output_type": "error",
     "traceback": [
      "\u001b[0;31m---------------------------------------------------------------------------\u001b[0m",
      "\u001b[0;31mKeyError\u001b[0m                                  Traceback (most recent call last)",
      "Cell \u001b[0;32mIn[57], line 1\u001b[0m\n\u001b[0;32m----> 1\u001b[0m \u001b[39mprint\u001b[39m(muj_slovnik[\u001b[39m2\u001b[39;49m])\n",
      "\u001b[0;31mKeyError\u001b[0m: 2"
     ]
    }
   ],
   "source": [
    "# když se pokusíme o přístup k neexistujícímu klíči, tak dostaneme chybu\n",
    "print(muj_slovnik[2])"
   ]
  },
  {
   "attachments": {},
   "cell_type": "markdown",
   "metadata": {},
   "source": [
    "# Operátory v Pythonu\n",
    "\n",
    "## Unární operátory\n",
    "\n",
    "- `not` &ensp; negace logické hodnoty\n",
    "- `+` &ensp; pouze indikátor kladné hodnoty (v podstatě nic nedělá)\n",
    "- `-` &ensp; otočení znaménka (int, float)\n",
    "- `~` &ensp; bit-wise flip, přehození bitů (pouze int)\n",
    "- `*` &ensp; rozbalení iterable objektu - dobírání `excess` objektů při rozbalování listu\n"
   ]
  },
  {
   "cell_type": "code",
   "execution_count": 62,
   "metadata": {},
   "outputs": [
    {
     "name": "stdout",
     "output_type": "stream",
     "text": [
      "False\n"
     ]
    }
   ],
   "source": [
    "x = True\n",
    "print(not x)"
   ]
  },
  {
   "cell_type": "code",
   "execution_count": 63,
   "metadata": {},
   "outputs": [
    {
     "name": "stdout",
     "output_type": "stream",
     "text": [
      "3\n"
     ]
    }
   ],
   "source": [
    "x = 3\n",
    "print(+x)"
   ]
  },
  {
   "cell_type": "code",
   "execution_count": 71,
   "metadata": {},
   "outputs": [
    {
     "name": "stdout",
     "output_type": "stream",
     "text": [
      "3\n"
     ]
    }
   ],
   "source": [
    "x = -3\n",
    "print(-x)"
   ]
  },
  {
   "cell_type": "code",
   "execution_count": 89,
   "metadata": {},
   "outputs": [
    {
     "name": "stdout",
     "output_type": "stream",
     "text": [
      "0b110\n",
      "-0b111\n",
      "-7\n"
     ]
    }
   ],
   "source": [
    "x = 6\n",
    "print(bin(x))\n",
    "print(bin(~x))\n",
    "print(~x)\n",
    "# divné že? problém je v reprezentaci int v pythonu, konkrétně záporných hodnot (two's complement representation)"
   ]
  },
  {
   "cell_type": "code",
   "execution_count": 91,
   "metadata": {},
   "outputs": [
    {
     "name": "stdout",
     "output_type": "stream",
     "text": [
      "1\n",
      "2\n",
      "[3, 4, 5]\n"
     ]
    }
   ],
   "source": [
    "x = [1, 2, 3, 4, 5]\n",
    "a, b, *c = x\n",
    "print(a)\n",
    "print(b)\n",
    "print(c)"
   ]
  },
  {
   "attachments": {},
   "cell_type": "markdown",
   "metadata": {},
   "source": [
    "\n",
    "## Binární operátory\n",
    "\n",
    "### Aritmetické\n",
    " - `+`  &ensp; Addition\tx + y\t\n",
    " - `-`\t&ensp; Subtraction\tx - y\t\n",
    " - `*`\t&ensp; Multiplication\tx * y\t\n",
    " - `/`\t&ensp; Division\tx / y\t\n",
    " - `%`\t&ensp; Modulus\tx % y\t\n",
    " - `**` &ensp; Exponentiation\tx ** y\t\n",
    " - `//` &ensp; Floor division\tx // y"
   ]
  },
  {
   "cell_type": "code",
   "execution_count": 92,
   "metadata": {},
   "outputs": [
    {
     "name": "stdout",
     "output_type": "stream",
     "text": [
      "5\n",
      "1\n",
      "6\n",
      "2.0\n",
      "1\n",
      "8\n",
      "2\n"
     ]
    }
   ],
   "source": [
    "print(2 + 3)\n",
    "print(3 - 2)\n",
    "print(2 * 3)\n",
    "print(6 / 3)\n",
    "print(7 % 3)\n",
    "print(2 ** 3)\n",
    "print(7 // 3)"
   ]
  },
  {
   "attachments": {},
   "cell_type": "markdown",
   "metadata": {},
   "source": [
    "### Bitwise\n",
    "\n",
    "- `&` &ensp; AND - bitové a zároveň\n",
    "- `|` &ensp; OR - bitové nebo\n",
    "- `^` &ensp; XOR - bitové a exkluzivní nebo\n",
    "- `<<` &ensp; Zero fill left shift - posune bity doleva, doplní nulami\n",
    "- `>>` &ensp; Signed right shift - posune bity doprava"
   ]
  },
  {
   "cell_type": "code",
   "execution_count": 94,
   "metadata": {},
   "outputs": [
    {
     "name": "stdout",
     "output_type": "stream",
     "text": [
      "10\n",
      "12\n"
     ]
    }
   ],
   "source": [
    "x = 0b1010\n",
    "y = 0b1100\n",
    "print(x)\n",
    "print(y)"
   ]
  },
  {
   "cell_type": "code",
   "execution_count": 98,
   "metadata": {},
   "outputs": [
    {
     "name": "stdout",
     "output_type": "stream",
     "text": [
      "8\n",
      "0b1000\n",
      "14\n",
      "0b1110\n",
      "6\n",
      "0b110\n",
      "40\n",
      "0b101000\n",
      "2\n",
      "0b10\n"
     ]
    }
   ],
   "source": [
    "print(x & y)\n",
    "print(bin(x & y)) \n",
    "\n",
    "print(x | y)\n",
    "print(bin(x | y))\n",
    "\n",
    "print(x ^ y)\n",
    "print(bin(x ^ y))\n",
    "\n",
    "print(x << 2)\n",
    "print(bin(x << 2))\n",
    "\n",
    "print(x >> 2)\n",
    "print(bin(x >> 2))"
   ]
  },
  {
   "attachments": {},
   "cell_type": "markdown",
   "metadata": {},
   "source": [
    "### S True/False výstupem\n",
    "\n",
    "\n",
    "- `is`  &ensp; porovnává, zda jsou dva objekty stejné (ne stejná data ale stejné id())\n",
    "- `is not` &ensp; negace `is`\n",
    "- `in` &ensp;\tporovnávání, zda je prvek v množině (listu)\n",
    "- `not in` &ensp;\tnegace `in`\n",
    "- `and` &ensp; \tlogické a zároveň mezi dvěmi logickými hodnotami\n",
    "- `or` &ensp;\tlogické nebo mezi dvěmi logickými hodnotami\n",
    "- `==`\t&ensp; rovnost (mezi porovnatelnými typy)\t\n",
    "- `!=`\t&ensp; nerovno\n",
    "- `>`\t&ensp; větší\n",
    "- `<` &ensp;\tmenší\n",
    "- `>=`\t&ensp; větší nebo rovno\n",
    "- `<=` &ensp;\tmenší nebo rovno"
   ]
  },
  {
   "cell_type": "code",
   "execution_count": 108,
   "metadata": {},
   "outputs": [
    {
     "name": "stdout",
     "output_type": "stream",
     "text": [
      "False\n",
      "True\n"
     ]
    }
   ],
   "source": [
    "x = [1, 2, 3]\n",
    "y = [1, 2, 3]\n",
    "z = x\n",
    "print(x is y) \n",
    "print(x is z)"
   ]
  },
  {
   "cell_type": "code",
   "execution_count": 107,
   "metadata": {},
   "outputs": [
    {
     "name": "stdout",
     "output_type": "stream",
     "text": [
      "True\n",
      "False\n"
     ]
    }
   ],
   "source": [
    "x = [1, 2, 3]\n",
    "y = [1, 2, 3]\n",
    "z = x\n",
    "print(x is not y)\n",
    "print(x is not z) "
   ]
  },
  {
   "cell_type": "code",
   "execution_count": 119,
   "metadata": {},
   "outputs": [
    {
     "name": "stdout",
     "output_type": "stream",
     "text": [
      "True\n",
      "False\n"
     ]
    }
   ],
   "source": [
    "x = [1, 2, 3]\n",
    "y = 2\n",
    "print(y in x) "
   ]
  },
  {
   "cell_type": "code",
   "execution_count": 110,
   "metadata": {},
   "outputs": [
    {
     "name": "stdout",
     "output_type": "stream",
     "text": [
      "True\n"
     ]
    }
   ],
   "source": [
    "x = [1, 2, 3]\n",
    "y = 4\n",
    "print(y not in x)"
   ]
  },
  {
   "cell_type": "code",
   "execution_count": 143,
   "metadata": {},
   "outputs": [
    {
     "name": "stdout",
     "output_type": "stream",
     "text": [
      "False\n",
      "True\n"
     ]
    }
   ],
   "source": [
    "print(True and False)\n",
    "print(True and True)\n"
   ]
  },
  {
   "cell_type": "code",
   "execution_count": 145,
   "metadata": {},
   "outputs": [
    {
     "name": "stdout",
     "output_type": "stream",
     "text": [
      "True\n",
      "True\n",
      "False\n"
     ]
    }
   ],
   "source": [
    "print(True or False)\n",
    "print(True or True)\n",
    "print(False or False)\n"
   ]
  },
  {
   "cell_type": "code",
   "execution_count": 125,
   "metadata": {},
   "outputs": [
    {
     "name": "stdout",
     "output_type": "stream",
     "text": [
      "False\n",
      "False\n",
      "False\n",
      "True\n"
     ]
    }
   ],
   "source": [
    "x = 3\n",
    "y = 4\n",
    "print(x == y)\n",
    "\n",
    "x = 2/3\n",
    "y = 1 - 1/3\n",
    "print(x == y)\n",
    "\n",
    "x = [1, 2]\n",
    "y = [1, 2, 3]\n",
    "print(x == y)\n",
    "y.pop()\n",
    "print(x == y)"
   ]
  },
  {
   "cell_type": "code",
   "execution_count": 146,
   "metadata": {},
   "outputs": [
    {
     "name": "stdout",
     "output_type": "stream",
     "text": [
      "True\n",
      "True\n"
     ]
    }
   ],
   "source": [
    "x = 3\n",
    "y = 4\n",
    "print(x != y)\n",
    "\n",
    "x = [1, 2]\n",
    "y = [1, 2, 3]\n",
    "print(x != y)"
   ]
  },
  {
   "cell_type": "code",
   "execution_count": 155,
   "metadata": {},
   "outputs": [
    {
     "name": "stdout",
     "output_type": "stream",
     "text": [
      "False\n",
      "False\n",
      "True\n",
      "True\n",
      "False\n"
     ]
    }
   ],
   "source": [
    "x = 3\n",
    "y = 4\n",
    "print(x > y)\n",
    "\n",
    "x = [1, 2]\n",
    "y = [1, 2, 3]\n",
    "print(x > y)\n",
    "print(x < y)\n",
    "\n",
    "x = [1, 5]\n",
    "y = [1, 2, 3]\n",
    "print(x > y)\n",
    "print(x < y)\n",
    "# co se vlastně děje?"
   ]
  },
  {
   "attachments": {},
   "cell_type": "markdown",
   "metadata": {},
   "source": [
    "Některé operátory mají vlastní (netriviální/neintuitivní) definice pro jiné než číselné datové typy\n",
    "\n",
    "`[1, 5] < [1, 2, 3]` porovnává oba seznamy prvky po prvcích a vrátí `True`, pokud je první prvek prvního seznamu menší než první prvek druhého seznamu. Pokud jsou první prvky rovny, porovná druhé prvky a tak dále."
   ]
  },
  {
   "cell_type": "code",
   "execution_count": 159,
   "metadata": {},
   "outputs": [
    {
     "name": "stdout",
     "output_type": "stream",
     "text": [
      "True\n",
      "False\n"
     ]
    }
   ],
   "source": [
    "print([1,2] < [1,3])\n",
    "print([2,1] < [1,3])"
   ]
  },
  {
   "cell_type": "code",
   "execution_count": 160,
   "metadata": {},
   "outputs": [
    {
     "ename": "TypeError",
     "evalue": "'>' not supported between instances of 'str' and 'int'",
     "output_type": "error",
     "traceback": [
      "\u001b[0;31m---------------------------------------------------------------------------\u001b[0m",
      "\u001b[0;31mTypeError\u001b[0m                                 Traceback (most recent call last)",
      "Cell \u001b[0;32mIn[160], line 3\u001b[0m\n\u001b[1;32m      1\u001b[0m x \u001b[39m=\u001b[39m [\u001b[39m1\u001b[39m, \u001b[39m\"\u001b[39m\u001b[39m5\u001b[39m\u001b[39m\"\u001b[39m]\n\u001b[1;32m      2\u001b[0m y \u001b[39m=\u001b[39m [\u001b[39m1\u001b[39m, \u001b[39m2\u001b[39m, \u001b[39m\"\u001b[39m\u001b[39m3\u001b[39m\u001b[39m\"\u001b[39m]\n\u001b[0;32m----> 3\u001b[0m \u001b[39mprint\u001b[39m(x \u001b[39m>\u001b[39;49m y)\n\u001b[1;32m      4\u001b[0m \u001b[39mprint\u001b[39m(x \u001b[39m<\u001b[39m y)\n\u001b[1;32m      5\u001b[0m \u001b[39m# prvky uvnitř musí být mezi sebou porovnatelné\u001b[39;00m\n",
      "\u001b[0;31mTypeError\u001b[0m: '>' not supported between instances of 'str' and 'int'"
     ]
    }
   ],
   "source": [
    "x = [1, \"5\"]\n",
    "y = [1, 2, \"3\"]\n",
    "print(x > y)\n",
    "print(x < y)\n",
    "# prvky uvnitř musí být mezi sebou porovnatelné"
   ]
  },
  {
   "cell_type": "code",
   "execution_count": 162,
   "metadata": {},
   "outputs": [
    {
     "name": "stdout",
     "output_type": "stream",
     "text": [
      "False\n",
      "False\n",
      "False\n",
      "False\n",
      "True\n",
      "False\n"
     ]
    }
   ],
   "source": [
    "x = {1, \"5\"}\n",
    "y = {1, 2, \"3\"}\n",
    "z = {1, \"3\"}\n",
    "print(x > y)\n",
    "print(x < y)\n",
    "print(x > z)\n",
    "print(x < z)\n",
    "print(y > z)\n",
    "print(y < z)\n",
    "# pro množiny je definice jakožto \"je podmnožina?\""
   ]
  },
  {
   "cell_type": "code",
   "execution_count": 161,
   "metadata": {},
   "outputs": [
    {
     "name": "stdout",
     "output_type": "stream",
     "text": [
      "True\n"
     ]
    }
   ],
   "source": [
    "x = 3\n",
    "y = 4\n",
    "print(x < y)"
   ]
  },
  {
   "cell_type": "code",
   "execution_count": 117,
   "metadata": {},
   "outputs": [
    {
     "name": "stdout",
     "output_type": "stream",
     "text": [
      "False\n"
     ]
    }
   ],
   "source": [
    "x = 3\n",
    "y = 4\n",
    "print(x >= y)"
   ]
  },
  {
   "cell_type": "code",
   "execution_count": 118,
   "metadata": {},
   "outputs": [
    {
     "name": "stdout",
     "output_type": "stream",
     "text": [
      "True\n"
     ]
    }
   ],
   "source": [
    "x = 3\n",
    "y = 4\n",
    "print(x <= y)"
   ]
  },
  {
   "attachments": {},
   "cell_type": "markdown",
   "metadata": {},
   "source": [
    "### Přiřazovací operátory\n",
    "\n",
    "- `=` &ensp;\tpř.: `x = 5` stejné jako `x = 5`\n",
    "- `+=` &ensp;\tpř.: `x += 3` stejné jako `x = x + 3`\t\n",
    "- `-=` &ensp;\tpř.: `x -= 3` stejné jako `x = x - 3`\t\n",
    "- `*=` &ensp;\tpř.: `x *= 3` stejné jako `x = x * 3`\t\n",
    "- `/=` &ensp;\tpř.: `x /= 3` stejné jako `x = x / 3`\t\n",
    "- `%=` &ensp;\tpř.: `x %= 3` stejné jako `x = x % 3`\t\n",
    "- `//=` &ensp;\tpř.: `x //= 3` stejné jako `x = x // 3`\t\n",
    "- `**=` &ensp;\tpř.: `x **= 3` stejné jako `x = x ** 3`\t\n",
    "- `&=` &ensp;\tpř.: `x &= 3` stejné jako `x = x & 3`\t\n",
    "- `|=` &ensp;\tpř.: `x |= 3` stejné jako `x = x | 3`\t\n",
    "- `^=` &ensp;\tpř.: `x ^= 3` stejné jako `x = x ^ 3`\t\n",
    "- `>>=` &ensp;\tpř.: `x >>= 3` stejné jako `x = x >> 3`\t\n",
    "- `<<=` &ensp;\tpř.: `x <<= 3` stejné jako `x = x << 3`"
   ]
  },
  {
   "attachments": {},
   "cell_type": "markdown",
   "metadata": {},
   "source": [
    "## Ternarní operátory\n",
    "\n",
    "- výraz_True `if` podmínka `else` výraz_False &ensp; - &ensp; zjednodušení if/else pro jednoduché jednořádkové přiřazení"
   ]
  },
  {
   "cell_type": "code",
   "execution_count": 126,
   "metadata": {},
   "outputs": [
    {
     "name": "stdout",
     "output_type": "stream",
     "text": [
      "4\n"
     ]
    }
   ],
   "source": [
    "x = 3\n",
    "y = 4\n",
    "max_value = x if x > y else y\n",
    "print(max_value)"
   ]
  },
  {
   "attachments": {},
   "cell_type": "markdown",
   "metadata": {},
   "source": [
    "# Klíčová slova\n",
    "\n",
    "    and       del       from      not       while\n",
    "    as        elif      global    or        with\n",
    "    assert    else      if        pass      yield\n",
    "    break     except    import    print\n",
    "    class     exec      in        raise\n",
    "    continue  finally   is        return\n",
    "    def       for       lambda    try\n",
    "\n",
    "Některá už známe, ostatní brzy poznáme, důležité je nepoužívat je jako názvy proměných."
   ]
  },
  {
   "attachments": {},
   "cell_type": "markdown",
   "metadata": {},
   "source": [
    "## Některé důležité vestavěné funkce \n",
    "Vestavěných funkcí, nebo [Built-in functions](http://docs.python.org/3/library/functions.html), je v Pythonu (v porovnání s jinými jazyky) minimum. Zde zmíníme některé z nich (s některými jsme se už setkali):\n",
    "\n",
    "* `dir` -- seznam jmen (funkcí, proměnných, metod) v daném kontextu\n",
    "* `eval` -- vrátí hodnotu výrazu zadanou řetězcem (to je možné, protože Python je interpretovaný jazyk)\n",
    "* `help` -- nápověda (neboli zobrazení 'docstring'\n",
    "* `len` -- délka (počet položek) proměnné (řetězce, pole apod.)\n",
    "* `open` -- otevření souboru\n",
    "* `print` -- výpis řetězce do stream\n",
    "* `input` -- načtení vstupu od uživatele (stdin)\n",
    "* `str`, `repr` -- text reprezentující daný objekt\n",
    "* `type` -- vrátí typ argumentu\n",
    "\n",
    "Blíže se s těmito a dalšími vestavěnými funkcemi se seznámíme brzy."
   ]
  },
  {
   "attachments": {},
   "cell_type": "markdown",
   "metadata": {},
   "source": [
    "# Funkce v Pythonu\n",
    "Máme základní dva typy jak definovat vlastní funkci v pythonu. První je funkce definovaná pomocí klíčového slova `def`, druhý je lambda funkce (neboli tzv. anonymní funkce).\n",
    "\n",
    "## Funkce\n",
    "- Funkce v Pythonu jsou definovány klíčovým slovem `def`\n",
    "- následuje jméno funkce\n",
    "- parametry jsou definovány v závorkách za jménem funkce, oddělené čárkou\n",
    "    - parametry mohou mít defaultní hodnotu, toto se definuje pomocí `=` za jménem parametru\n",
    "- vnitřek funkce je odsazený\n",
    "- návratová hodnota se vrací pomocí klíčového slova `return`\n",
    "    - funkce vždy vrací formálně pouze jednu hodnotu, ale může vracet libovolný objekt (např. seznam, slovník, ...)\n",
    "    - v případě, že chceme vrátit více hodnot, můžeme použít tzv. tuple, tedy zabalit všechny výstupové hodnoty do jednoho objektu\n",
    "    - pokud funkce neobsahuje klíčové slovo `return`, vrací `None`"
   ]
  },
  {
   "cell_type": "code",
   "execution_count": 31,
   "metadata": {},
   "outputs": [
    {
     "name": "stdout",
     "output_type": "stream",
     "text": [
      "7\n",
      "7\n",
      "7\n"
     ]
    }
   ],
   "source": [
    "# ukázka jednoduché funkce pro sečtení dvou čísel\n",
    "def secti(a, b):\n",
    "    return a + b\n",
    "\n",
    "a = 3\n",
    "b = 4\n",
    "c = secti(a, b)\n",
    "print(c)\n",
    "print(secti(a, b))\n",
    "print(secti(3, 4))"
   ]
  },
  {
   "cell_type": "code",
   "execution_count": 35,
   "metadata": {},
   "outputs": [
    {
     "name": "stdout",
     "output_type": "stream",
     "text": [
      "7 -1\n",
      "(7, -1)\n"
     ]
    }
   ],
   "source": [
    "# funkce vracející více proměnných\n",
    "def secti_odecti(a, b):\n",
    "    return a + b, a - b\n",
    "\n",
    "a = 3\n",
    "b = 4\n",
    "c, d = secti_odecti(a, b)\n",
    "print(c, d)\n",
    "print(secti_odecti(a, b))"
   ]
  },
  {
   "attachments": {},
   "cell_type": "markdown",
   "metadata": {},
   "source": [
    "\n",
    "## Lambda funkce\n",
    "Lambda funkce jsou tzv. anonymní funkce, které jsou definovány pomocí klíčového slova `lambda`. Lambda funkce jsou vždy jednořádkové a nemají jméno (respektivě jejich jméno je jméno proměnné do které ji ukládáme). Lambda funkce se používají především v případě, kdy potřebujeme definovat funkci, která se použije pouze jednou. Lambda funkce se používají především v kombinaci s jinými funkcemi, např. `map`, `filter`, `reduce`, `sorted`, `sort` apod.\n",
    "\n",
    "Základní syntaxe je následující:\n",
    "- `lambda` parametry: výraz\n",
    "Často lze naléz v kombinaci s ternárním operátorem (výraz_True `if` podmínka `else` výraz_False)\n",
    "- `lambda` parametry: výraz_True `if` podmínka `else` výraz_False"
   ]
  },
  {
   "cell_type": "code",
   "execution_count": 4,
   "metadata": {},
   "outputs": [
    {
     "name": "stdout",
     "output_type": "stream",
     "text": [
      "4\n"
     ]
    }
   ],
   "source": [
    "# jednoduchá lambda funkce\n",
    "funkce = lambda x: x + 1\n",
    "y = funkce(3)\n",
    "print(y)"
   ]
  },
  {
   "cell_type": "code",
   "execution_count": 7,
   "metadata": {},
   "outputs": [
    {
     "name": "stdout",
     "output_type": "stream",
     "text": [
      "4\n",
      "-4\n"
     ]
    }
   ],
   "source": [
    "# lambda funkce v kombinaci if else\n",
    "funkce = lambda x: x + 1 if x > 0 else x - 1\n",
    "print(funkce(3))\n",
    "print(funkce(-3))"
   ]
  },
  {
   "cell_type": "code",
   "execution_count": 2,
   "metadata": {},
   "outputs": [
    {
     "name": "stdout",
     "output_type": "stream",
     "text": [
      "24\n"
     ]
    }
   ],
   "source": [
    "# lambda funkce může volat i samu sebe, tzv rekurze\n",
    "# jednoduchá lambda funkce pro výpočet faktoriálu\n",
    "faktorial = lambda x: 1 if x == 0 else x * faktorial(x - 1)\n",
    "print(faktorial(4))"
   ]
  },
  {
   "attachments": {},
   "cell_type": "markdown",
   "metadata": {},
   "source": [
    "# Podmínky a řízení toku\n",
    "- if/elif/else\n",
    "- for\n",
    "- while\n",
    "- match (Python 3.10)\n",
    "\n",
    "## if/elif/else\n",
    "- `if` &ensp; podmínka:\n",
    "- `elif` &ensp; podmínka:\n",
    "- `else`:\n"
   ]
  },
  {
   "cell_type": "code",
   "execution_count": 4,
   "metadata": {},
   "outputs": [
    {
     "name": "stdout",
     "output_type": "stream",
     "text": [
      "5\n",
      "5\n"
     ]
    }
   ],
   "source": [
    "# ukázka if else syntaxe\n",
    "x = 3\n",
    "y = 4\n",
    "z = 5\n",
    "if x > y:\n",
    "    if x > z:\n",
    "        max_value = x\n",
    "    else:\n",
    "        max_value = z\n",
    "else:\n",
    "    if y > z:\n",
    "        max_value = y\n",
    "    else:\n",
    "        max_value = z\n",
    "    \n",
    "print(max_value)"
   ]
  },
  {
   "cell_type": "code",
   "execution_count": null,
   "metadata": {},
   "outputs": [],
   "source": [
    "# ukázka s elif\n",
    "x = 3\n",
    "y = 4\n",
    "z = 5\n",
    "if x > y:\n",
    "    if x > z:\n",
    "        max_value = x\n",
    "    else:\n",
    "        max_value = z\n",
    "elif y > z:\n",
    "    max_value = y\n",
    "else:\n",
    "    max_value = z   \n",
    "    \n",
    "print(max_value)"
   ]
  },
  {
   "attachments": {},
   "cell_type": "markdown",
   "metadata": {},
   "source": [
    "Za klíčovým slovem `if` následuje tzv. podmínka. Podmínka není nic jiného nežli výraz vracející `True` nebo `False`. Toto může mýt složitý výraz s pomocí operátorů `and`, `or`, `not` a dalších, nebo klidně výstup funkce."
   ]
  },
  {
   "cell_type": "code",
   "execution_count": 28,
   "metadata": {},
   "outputs": [
    {
     "name": "stdout",
     "output_type": "stream",
     "text": [
      "5\n"
     ]
    }
   ],
   "source": [
    "# ukázka s komplexní podmínkou\n",
    "x = 3\n",
    "y = 4\n",
    "z = 5\n",
    "\n",
    "if x > y and x > z:\n",
    "    max_value = x\n",
    "\n",
    "if y > x and y > z:\n",
    "    max_value = y\n",
    "\n",
    "if z > x and z > y:\n",
    "    max_value = z   \n",
    "\n",
    "print(max_value)\n"
   ]
  },
  {
   "cell_type": "code",
   "execution_count": 29,
   "metadata": {},
   "outputs": [
    {
     "name": "stdout",
     "output_type": "stream",
     "text": [
      "5\n"
     ]
    }
   ],
   "source": [
    "# ukázka kde podmínku zajistí funkce\n",
    "x = 3\n",
    "y = 4\n",
    "z = 5\n",
    "\n",
    "def podminka(x, y, z):\n",
    "    return x > y and x > z\n",
    "\n",
    "if podminka(x, y, z):\n",
    "    max_value = x\n",
    "\n",
    "if podminka(y, x, z):\n",
    "    max_value = y\n",
    "\n",
    "if podminka(z, x, y):\n",
    "    max_value = z\n",
    "    \n",
    "print(max_value)\n"
   ]
  },
  {
   "attachments": {},
   "cell_type": "markdown",
   "metadata": {},
   "source": [
    "\n",
    "\n",
    "## for cyklus\n",
    "- `for` &ensp; proměnná &ensp; `in` &ensp; seznam:\n",
    "    - seznam může být jakýkoliv iterovatelný objekt (např. seznam, řetězec, soubor, slovník, ...)\n",
    "- `else`:\n",
    "   - `else` se provede, pokud cyklus skončí bez `break`u\n",
    "- `break` &ensp; \n",
    "   - &ensp; ukončení cyklu\n",
    "- `continue` &ensp; \n",
    "   - &ensp; přeskočení zbytku kódu v aktuální iteraci a pokračování v další iteraci\n",
    "- `pass` &ensp; \n",
    "   - cyklus nesmí být prázdný, pokud něco například testujeme, ale ještě nevím co v cyklu budeme dělat, použijeme `pass`\n"
   ]
  },
  {
   "cell_type": "code",
   "execution_count": 7,
   "metadata": {},
   "outputs": [
    {
     "name": "stdout",
     "output_type": "stream",
     "text": [
      "1\n",
      "2\n",
      "3\n",
      "4\n",
      "5\n"
     ]
    }
   ],
   "source": [
    "# ukázka for cyklu\n",
    "můj_list = [1, 2, 3, 4, 5]\n",
    "for item in můj_list:\n",
    "    print(item)"
   ]
  },
  {
   "cell_type": "code",
   "execution_count": 8,
   "metadata": {},
   "outputs": [
    {
     "name": "stdout",
     "output_type": "stream",
     "text": [
      "0\n",
      "1\n",
      "2\n",
      "3\n",
      "4\n",
      "cyklus dokončen\n"
     ]
    }
   ],
   "source": [
    "# ukázka for cyklu s else\n",
    "for item in range(5):\n",
    "    print(item)\n",
    "else:\n",
    "    print(\"cyklus dokončen\")"
   ]
  },
  {
   "cell_type": "code",
   "execution_count": 9,
   "metadata": {},
   "outputs": [
    {
     "name": "stdout",
     "output_type": "stream",
     "text": [
      "0\n",
      "1\n",
      "2\n"
     ]
    }
   ],
   "source": [
    "# ukázka for cyklu s break\n",
    "for item in range(5):\n",
    "    print(item)\n",
    "    if item == 2:\n",
    "        break"
   ]
  },
  {
   "cell_type": "code",
   "execution_count": 10,
   "metadata": {},
   "outputs": [
    {
     "name": "stdout",
     "output_type": "stream",
     "text": [
      "0\n",
      "potom continue\n",
      "1\n",
      "potom continue\n",
      "2\n",
      "3\n",
      "potom continue\n",
      "4\n",
      "potom continue\n"
     ]
    }
   ],
   "source": [
    "# ukázka for cyklu s continue\n",
    "for item in range(5):\n",
    "    print(item)\n",
    "    if item == 2:\n",
    "        continue\n",
    "    print(\"potom continue\")"
   ]
  },
  {
   "cell_type": "code",
   "execution_count": 11,
   "metadata": {},
   "outputs": [],
   "source": [
    "# ukázka prázdného cyklu\n",
    "for item in range(5):\n",
    "    pass"
   ]
  },
  {
   "attachments": {},
   "cell_type": "markdown",
   "metadata": {},
   "source": [
    "### Krátce k iterovatelným objektům\n",
    "- iterovatelný objekt je objekt, který umožňuje iteraci (procházení) svých prvků\n",
    "- iterovatelný objekt je objekt, který implementuje metodu `__iter__` (nebo `__getitem__`), která vrací iterátor\n",
    "- iterátor je objekt, který implementuje metodu `__next__`, která vrací další prvek iterovaného objektu\n",
    "\n",
    "Mezi nejčastější iterovatelné objekty patří seznam, řetězec, soubor, slovník, ...\n",
    "- list\n",
    "- tuple\n",
    "- set\n",
    "- dict\n",
    "- str\n",
    "- range\n",
    "- file\n",
    "- ...\n",
    "\n",
    "Můžeme také zabalit iterovatelné objekty:\n",
    "- `zip` &ensp; - &ensp; zabalí iterovatelné objekty do jednoho iterátoru\n",
    "- `enumerate` &ensp; - &ensp; zabalí iterovatelný objekt do iterátoru, který vrací dvojice (index, prvek)"
   ]
  },
  {
   "cell_type": "code",
   "execution_count": 12,
   "metadata": {},
   "outputs": [
    {
     "name": "stdout",
     "output_type": "stream",
     "text": [
      "0 a\n",
      "1 b\n",
      "2 c\n",
      "3 d\n",
      "4 e\n"
     ]
    }
   ],
   "source": [
    "# ukázka enumerate\n",
    "muj_list_pismen = [\"a\", \"b\", \"c\", \"d\", \"e\"]\n",
    "for index, pismeno in enumerate(muj_list_pismen):\n",
    "    print(index, pismeno)"
   ]
  },
  {
   "cell_type": "code",
   "execution_count": 15,
   "metadata": {},
   "outputs": [
    {
     "name": "stdout",
     "output_type": "stream",
     "text": [
      "a (1, 2)\n",
      "b (3, 4)\n",
      "c (5, 6)\n",
      "d (7, 8)\n",
      "e (9, 10)\n",
      "0 a (1, 2)\n",
      "1 b (3, 4)\n",
      "2 c (5, 6)\n",
      "3 d (7, 8)\n",
      "4 e (9, 10)\n"
     ]
    }
   ],
   "source": [
    "# ukázka zip\n",
    "muj_list_pismen = [\"a\", \"b\", \"c\", \"d\", \"e\"]\n",
    "muj_list_touplu = [(1, 2), (3, 4), (5, 6), (7, 8), (9, 10)]\n",
    "for pismeno, touple in zip(muj_list_pismen, muj_list_touplu):\n",
    "    print(pismeno, touple)\n",
    "    \n",
    "# ukázka kombinace zip a enumerate\n",
    "for index, (pismeno, touple) in enumerate(zip(muj_list_pismen, muj_list_touplu)):\n",
    "    print(index, pismeno, touple)"
   ]
  },
  {
   "cell_type": "code",
   "execution_count": 17,
   "metadata": {},
   "outputs": [
    {
     "name": "stdout",
     "output_type": "stream",
     "text": [
      "('a', (1, 2))\n",
      "('b', (3, 4))\n",
      "('c', (5, 6))\n",
      "('d', (7, 8))\n",
      "('e', (9, 10))\n"
     ]
    }
   ],
   "source": [
    "# zip ve skutečnosti vrací touple\n",
    "muj_list_pismen = [\"a\", \"b\", \"c\", \"d\", \"e\"]\n",
    "muj_list_cisel = [1, 2, 3, 4, 5]\n",
    "for prvek in zip(muj_list_pismen, muj_list_touplu):\n",
    "    print(prvek)"
   ]
  },
  {
   "attachments": {},
   "cell_type": "markdown",
   "metadata": {},
   "source": [
    "\n",
    "## while\n",
    "- `while` &ensp; podmínka:\n",
    "- `else`:\n",
    "   - `else` se provede, pokud cyklus skončí bez `break`u\n",
    "- `break` &ensp;\n",
    "    - &ensp; ukončení cyklu\n",
    "- `continue` &ensp;\n",
    "    - &ensp; přeskočení zbytku kódu v aktuální iteraci a pokračování v další iteraci\n",
    "- pozor na nekonečné smyčky!\n",
    "\n"
   ]
  },
  {
   "cell_type": "code",
   "execution_count": 18,
   "metadata": {},
   "outputs": [
    {
     "name": "stdout",
     "output_type": "stream",
     "text": [
      "0\n",
      "1\n",
      "2\n",
      "3\n",
      "4\n"
     ]
    }
   ],
   "source": [
    "# ukázka while cyklu\n",
    "x = 0\n",
    "while x < 5:\n",
    "    print(x)\n",
    "    x += 1"
   ]
  },
  {
   "cell_type": "code",
   "execution_count": 19,
   "metadata": {},
   "outputs": [
    {
     "name": "stdout",
     "output_type": "stream",
     "text": [
      "0\n",
      "1\n",
      "2\n",
      "3\n",
      "4\n",
      "cyklus dokončen\n"
     ]
    }
   ],
   "source": [
    "# while cyklus s else\n",
    "x = 0\n",
    "while x < 5:\n",
    "    print(x)\n",
    "    x += 1\n",
    "else:\n",
    "    print(\"cyklus dokončen\")"
   ]
  },
  {
   "cell_type": "code",
   "execution_count": 20,
   "metadata": {},
   "outputs": [
    {
     "name": "stdout",
     "output_type": "stream",
     "text": [
      "0\n",
      "1\n",
      "2\n"
     ]
    }
   ],
   "source": [
    "# ukázka while cyklu s break\n",
    "x = 0\n",
    "while x < 5:\n",
    "    print(x)\n",
    "    x += 1\n",
    "    if x == 3:\n",
    "        break\n",
    "else:\n",
    "    print(\"cyklus dokončen\")"
   ]
  },
  {
   "cell_type": "code",
   "execution_count": 21,
   "metadata": {},
   "outputs": [
    {
     "name": "stdout",
     "output_type": "stream",
     "text": [
      "0\n",
      "potom continue\n",
      "1\n",
      "potom continue\n",
      "2\n",
      "3\n",
      "potom continue\n",
      "4\n",
      "potom continue\n",
      "cyklus dokončen\n"
     ]
    }
   ],
   "source": [
    "# ukázka while cyklu s continue\n",
    "x = 0\n",
    "while x < 5:\n",
    "    print(x)\n",
    "    x += 1\n",
    "    if x == 3:\n",
    "        continue\n",
    "    print(\"potom continue\")\n",
    "else:\n",
    "    print(\"cyklus dokončen\")"
   ]
  },
  {
   "cell_type": "code",
   "execution_count": null,
   "metadata": {},
   "outputs": [],
   "source": [
    "# ukázka nekonečné smyčky\n",
    "x = 0\n",
    "while x < 5:\n",
    "    print(x)"
   ]
  },
  {
   "attachments": {},
   "cell_type": "markdown",
   "metadata": {},
   "source": [
    "V Pythonu není syntace pro do-while cyklus, ale je možné jej vytvořit pomocí while cyklu a `break`u. Ale není to dobrá praxe."
   ]
  },
  {
   "cell_type": "code",
   "execution_count": 25,
   "metadata": {},
   "outputs": [
    {
     "name": "stdout",
     "output_type": "stream",
     "text": [
      "0\n",
      "1\n",
      "2\n",
      "3\n",
      "4\n"
     ]
    }
   ],
   "source": [
    "# do while cyklus\n",
    "x = 0\n",
    "while True:\n",
    "    print(x)\n",
    "    x += 1\n",
    "    if x == 5:\n",
    "        break"
   ]
  },
  {
   "attachments": {},
   "cell_type": "markdown",
   "metadata": {},
   "source": [
    "## match (Python 3.10)\n",
    "Match je nová konstrukce, která umožňuje porovnávat hodnoty s pomocí patternů. Základní syntaxe je následující:\n",
    "- `match` &ensp; výraz:\n",
    "    - `case` &ensp; pattern &ensp; `if` &ensp; podmínka:\n",
    "    - `case` &ensp; pattern:\n",
    "    - `case` &ensp; _:\n",
    "- `match` vrací výsledek vyhodnocení patternu, který se shoduje s hodnotou výrazu\n",
    "\n",
    "Všechny patterny jsou v Pythonu vlastně výrazy, které se vyhodnocují a vrací `True` nebo `False` podle toho, zda se pattern shoduje s hodnotou výrazu. Pokud se shoduje, provede se kód v case bloku."
   ]
  },
  {
   "cell_type": "code",
   "execution_count": 8,
   "metadata": {},
   "outputs": [
    {
     "name": "stdout",
     "output_type": "stream",
     "text": [
      "ahoj\n"
     ]
    }
   ],
   "source": [
    "# ukázka match case\n",
    "vyraz = \"ahoj\"\n",
    "match vyraz:\n",
    "    case \"ahoj\":\n",
    "        print(\"taky ahoj\")\n",
    "    case \"nazdar\":\n",
    "        print(\"taky nazdar\")\n",
    "    case _:\n",
    "        print(\"to neznám\")"
   ]
  },
  {
   "cell_type": "code",
   "execution_count": 11,
   "metadata": {},
   "outputs": [
    {
     "name": "stdout",
     "output_type": "stream",
     "text": [
      "taky ahoj\n"
     ]
    }
   ],
   "source": [
    "# ukázka match case s více možnostmi v jednom case\n",
    "vyraz = \"ahoj\"\n",
    "match vyraz:\n",
    "    case \"ahoj\" | \"nazdar\":\n",
    "        print(\"taky ahoj\")\n",
    "    case _:\n",
    "        print(\"to neznám\")"
   ]
  },
  {
   "cell_type": "code",
   "execution_count": 16,
   "metadata": {},
   "outputs": [
    {
     "name": "stdout",
     "output_type": "stream",
     "text": [
      "ahoj a cokoliv, konkrétně =  ['měj se', 'cau']\n"
     ]
    }
   ],
   "source": [
    "# ukázka match case s if\n",
    "list_vyrazu = [\"ahoj\", \"měj se\", \"cau\"]\n",
    "match list_vyrazu:\n",
    "    case [\"ahoj\", *zbytek] if zbytek[0] == \"nazdar\":\n",
    "        print(\"ahoj, nazdar\")\n",
    "    case [vyraz, *zbytek]:\n",
    "        print(\"ahoj a cokoliv, konkrétně = \", zbytek)\n",
    "    case _:\n",
    "        print(\"něco jiného\")"
   ]
  },
  {
   "cell_type": "code",
   "execution_count": null,
   "metadata": {},
   "outputs": [],
   "source": []
  }
 ],
 "metadata": {
  "kernelspec": {
   "display_name": "Python 3",
   "language": "python",
   "name": "python3"
  },
  "language_info": {
   "codemirror_mode": {
    "name": "ipython",
    "version": 3
   },
   "file_extension": ".py",
   "mimetype": "text/x-python",
   "name": "python",
   "nbconvert_exporter": "python",
   "pygments_lexer": "ipython3",
   "version": "3.10.9"
  },
  "orig_nbformat": 4,
  "vscode": {
   "interpreter": {
    "hash": "e7370f93d1d0cde622a1f8e1c04877d8463912d04d973331ad4851f04de6915a"
   }
  }
 },
 "nbformat": 4,
 "nbformat_minor": 2
}
