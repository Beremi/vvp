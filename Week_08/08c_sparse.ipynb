{
 "cells": [
  {
   "attachments": {},
   "cell_type": "markdown",
   "metadata": {},
   "source": [
    "## `SciPy.sparse`: Řídké matice\n",
    "\n",
    "Scipy.sparse je podmodul knihovny Scipy, který poskytuje datové struktury a algoritmy pro práci s řídkými maticemi. Ŕídké matice osahují jen málé procento nenulových prvků, proto se vyplatí s nimi zacházet speciálním způsobem, včetně uložení v paměti. I s tímto nám SciPy může výrazně pomoci.\n",
    "\n",
    "**Scipy.sparse nabízí několik datových struktur pro reprezentaci řídkých matic, nejčastější jsou tyto:**\n",
    "\n",
    "1. **coo_matrix**: koordinátní formát matice, kde jsou nenulové prvky uloženy jako souřadnice (řádek, sloupec) a hodnoty.\n",
    "2. **csr_matrix**: řídká matice ve formátu Compressed Sparse Row, vhodná pro rychlé aritmetické operace a řádkové přístupy.\n",
    "3. **csc_matrix**: řídká matice ve formátu Compressed Sparse Column, vhodná pro rychlé aritmetické operace a sloupcové přístupy.\n",
    "4. **lil_matrix**: řídká matice ve formátu List of Lists, vhodná pro rychlé modifikace matice.\n",
    "\n",
    "Jednotlivé formáty se liší v rychlosti jednotlivých operací a paměťové náročnosti."
   ]
  },
  {
   "cell_type": "code",
   "execution_count": null,
   "metadata": {},
   "outputs": [],
   "source": [
    "import numpy as np\n",
    "from scipy.sparse import csr_matrix, csc_matrix, coo_matrix, lil_matrix\n",
    "import scipy as sp\n",
    "\n",
    "data = np.array([1, 2, 4, 5, 6])\n",
    "row_indices = np.array([0, 0, 2, 2, 2])\n",
    "col_indices = np.array([0, 2, 0, 1, 2])\n",
    "\n",
    "# což odpovídá plné matici\n",
    "full_matrix = np.array([[1, 0, 2],\n",
    "                        [0, 0, 0],\n",
    "                        [4, 5, 6]])\n",
    "\n",
    "print(\"Full matrix:\")\n",
    "print(full_matrix)\n",
    "print()\n",
    "\n",
    "# CSR matrix\n",
    "csr = csr_matrix((data, (row_indices, col_indices)))\n",
    "print(\"CSR format:\")\n",
    "print(\"data:\", csr.data)\n",
    "print(\"indices:\", csr.indices)\n",
    "print(\"indptr:\", csr.indptr)\n",
    "print()\n",
    "\n",
    "# CSC matrix\n",
    "csc = csc_matrix((data, (row_indices, col_indices)))\n",
    "print(\"CSC format:\")\n",
    "print(\"data:\", csc.data)\n",
    "print(\"indices:\", csc.indices)\n",
    "print(\"indptr:\", csc.indptr)\n",
    "print()\n",
    "\n",
    "# COO matrix\n",
    "coo = coo_matrix((data, (row_indices, col_indices)))\n",
    "print(\"COO format:\")\n",
    "print(\"data:\", coo.data)\n",
    "print(\"row:\", coo.row)\n",
    "print(\"col:\", coo.col)\n",
    "print()\n",
    "\n",
    "# LIL matrix\n",
    "lil = lil_matrix((3, 3))\n",
    "lil[0, 0] = 1\n",
    "lil[0, 2] = 2\n",
    "lil[2, 0] = 4\n",
    "lil[2, 1] = 5\n",
    "lil[2, 2] = 6\n",
    "print(\"LIL format:\")\n",
    "print(\"data:\", lil.data)\n",
    "print(\"rows:\", lil.rows)\n",
    "print()\n"
   ]
  },
  {
   "attachments": {},
   "cell_type": "markdown",
   "metadata": {},
   "source": [
    "Řídké matice můžeme jednoduše převádět z jednoho formátu do druhého. Navíc můžeme využít funkce `todense()`, která nám řídkou matici převede na obyčejnou NumPy plnou matici."
   ]
  },
  {
   "cell_type": "code",
   "execution_count": null,
   "metadata": {},
   "outputs": [],
   "source": [
    "from scipy.sparse import csr_matrix, lil_matrix, csc_matrix\n",
    "A = np.array([[1, 0, 2], [0, 0, 0], [4, 5, 6]])\n",
    "\n",
    "# Konverze z COO na CSR\n",
    "A_csr = csr_matrix(A)\n",
    "print(repr(A_csr))\n",
    "\n",
    "# Konverze z COO na LIL\n",
    "A_lil = lil_matrix(A_csr)\n",
    "print(repr(A_lil))\n",
    "\n",
    "# Konverze na full matici\n",
    "A_full = A_csr.todense()\n",
    "print(repr(A_full))"
   ]
  },
  {
   "attachments": {},
   "cell_type": "markdown",
   "metadata": {},
   "source": [
    "Řídkou matici je nejlépe vytvořit pomocí seznamu souřadnic nenulových prvků a jejich hodnot, případně přímo pomocí indexů v CSR/CSC formátu. Snažíme se za každou cenu vyhnout se vytváření plných matic.\n",
    "\n",
    "Při vytváření řídkých matic, kdy chceme hodnoty postupně přidávat, je třeba použít `lil_matrix`. V případě ostatních formátů je přidávání hodnot do existujících matic extrémě pomalé.\n",
    "\n",
    "Při vytváření řídkých matic pomocí pozic a hodnot nenulových prvků lze mít v seznamu více hodnot se stejnou pozicí. V takovém případě se hodnoty se stejnou pozicí sečtou. Toto je extrémně užitečné při sestavování matic např. pro metodou konečných prvků (potkáte se s ní v předmětu NM2)."
   ]
  },
  {
   "cell_type": "code",
   "execution_count": null,
   "metadata": {},
   "outputs": [],
   "source": [
    "# řídká matice z COO s více hodnotami ve stejných buňkách\n",
    "indexy_radku = np.array([0, 0, 1, 1, 2, 2, 0, 0, 1, 1, 2, 2])\n",
    "indexy_sloupcu = np.array([0, 2, 0, 2, 0, 2, 0, 2, 0, 2, 0, 2])\n",
    "data = np.array([1, 2, 3, 4, 5, 6, 5, 4, 3, 2, 1, 0])\n",
    "\n",
    "A = coo_matrix((data, (indexy_radku, indexy_sloupcu)))\n",
    "print(A.todense())"
   ]
  },
  {
   "attachments": {},
   "cell_type": "markdown",
   "metadata": {},
   "source": [
    "**Vytváření řídkých se specifickými vlastnostmi**\n",
    "- `sp.eye(n)` - vytvoří jednotkovou matici o velikosti n x n.\n",
    "- `sp.diags(diagonals, offsets)` - vytvoří matici s hodnotami na diagonálách `diagonals` a offsety `offsets`."
   ]
  },
  {
   "attachments": {},
   "cell_type": "markdown",
   "metadata": {},
   "source": [
    "### `scipy.sparse.linalg`: Lineární algebra pro řídké systémy\n",
    "\n",
    "Scipy.sparse.linalg je podmodul knihovny Scipy, který poskytuje algoritmy pro řešení lineárních systémů s řídkými maticemi. Výhodou řídkých matic je jejich rychlost v případě velkých matic, které jsou ve skutečnosti velmi řídké.\n",
    "\n",
    "- `spsolve` - řeší soustavu lineárních rovnic s řídkou maticí.\n",
    "- `spsolve_triangular` - řeší soustavu lineárních rovnic s řídkou maticí, která je trojúhelníková.\n",
    "- `cg` - sdružené gradienty, iterativní algoritmus pro řešení soustav lineárních rovnic.\n",
    "- `gmres` - Generalized Minimal Residual, iterativní algoritmus pro řešení soustav lineárních rovnic s řídkými maticemi.\n",
    "- `minres` - Minimal Residual, iterativní algoritmus pro řešení soustav lineárních rovnic s řídkými maticemi.\n",
    "- `norm` - vypočítá různé normy matice.\n",
    "- `eigs` - najde několik největších nebo nejmenších vlastních hodnot a vlastních vektorů řídké matice.\n",
    "- `svds` - najde několik největších singulárních hodnot a vektorů řídké matice.\n",
    "- `splu` - rozkládá matici na L a U faktory pomocí LU rozkladu.\n",
    "- `spilu` - rozkládá matici na L a U faktory pomocí neúplného LU rozkladu (ILU).\n"
   ]
  },
  {
   "cell_type": "code",
   "execution_count": null,
   "metadata": {},
   "outputs": [],
   "source": [
    "# vytvoříme třídiagonální řídkou matici s 2 na hlavní diagonále a -1 na vedlejších diagonálách\n",
    "n = 5\n",
    "A = sp.sparse.diags([-1, 2, -1], [-1, 0, 1], shape=(n, n), format=\"csc\")\n",
    "print(repr(A))\n",
    "# a pravou stranu\n",
    "b = np.ones(n)/n"
   ]
  },
  {
   "cell_type": "code",
   "execution_count": null,
   "metadata": {},
   "outputs": [],
   "source": [
    "import matplotlib.pyplot as plt\n",
    "\n",
    "# vyřešíme soustavu přímím řešičem\n",
    "x = sp.sparse.linalg.spsolve(A, b)\n",
    "plt.plot(x)"
   ]
  },
  {
   "cell_type": "code",
   "execution_count": null,
   "metadata": {},
   "outputs": [],
   "source": [
    "# sestavíme LU dekompozici a použijeme ji pro řešení soustavy\n",
    "\n",
    "# LU dekompozice vrací speciální objekt obsahující všechny potřebné součásti dekompozice\n",
    "lu_decomp = sp.sparse.linalg.splu(A)\n",
    "print(lu_decomp)"
   ]
  },
  {
   "cell_type": "code",
   "execution_count": null,
   "metadata": {},
   "outputs": [],
   "source": [
    "\n",
    "# obtain matrices L, U and permutation P (ordering vector)\n",
    "L = lu_decomp.L\n",
    "U = lu_decomp.U\n",
    "P_permutace = lu_decomp.perm_c\n",
    "\n",
    "print(\"Lower triangular matrix L:\")\n",
    "print(repr(L))\n",
    "print(L.todense())\n",
    "print()\n",
    "\n",
    "print(\"Upper triangular matrix U:\")\n",
    "print(repr(U))\n",
    "print(U.todense())\n",
    "print()\n",
    "\n",
    "print(\"Permutation matrix P:\")\n",
    "print(P_permutace)\n",
    "\n",
    "# sestavíme permutační matici P z vektoru P\n",
    "# syntaxe byla: csc_matrix((data, (indexy_radku, indexy_sloupcu)))\n",
    "P = csc_matrix((np.ones_like(P_permutace), (P_permutace, np.arange(n))))\n",
    "print(P.todense())"
   ]
  },
  {
   "cell_type": "code",
   "execution_count": null,
   "metadata": {},
   "outputs": [],
   "source": [
    "print(\"P^T * L * U * P:\")\n",
    "print((P.T @ L @ U @ P).todense())\n",
    "print()\n",
    "print(\"A:\")\n",
    "print(A.todense())\n"
   ]
  },
  {
   "cell_type": "code",
   "execution_count": null,
   "metadata": {},
   "outputs": [],
   "source": [
    "# při řešení s dekompozicí musíme řešit soustavu P^T * L * U * P * x = b\n",
    "# tedy nejdříve řešíme soustavu L * y = P^T * b\n",
    "y = sp.sparse.linalg.spsolve_triangular(L, P @ b, lower=True)\n"
   ]
  },
  {
   "cell_type": "code",
   "execution_count": null,
   "metadata": {},
   "outputs": [],
   "source": [
    "# a poté soustavu U * P * x = y\n",
    "x = P.T @ sp.sparse.linalg.spsolve_triangular(U, y, lower=False)\n"
   ]
  },
  {
   "cell_type": "code",
   "execution_count": null,
   "metadata": {},
   "outputs": [],
   "source": [
    "plt.plot(x)"
   ]
  },
  {
   "cell_type": "code",
   "execution_count": null,
   "metadata": {},
   "outputs": [],
   "source": [
    "# řešení pomocí LU dekompozice lze udělat i jednodušeji\n",
    "x = lu_decomp.solve(b)\n",
    "plt.plot(x)"
   ]
  },
  {
   "cell_type": "code",
   "execution_count": null,
   "metadata": {},
   "outputs": [],
   "source": [
    "# spočítáme vlastní čísla a vlastní vektory\n",
    "# eigs počítá vlastní čísla a vlastní vektory pro obecnou matici\n",
    "# eigsh počítá vlastní čísla a vlastní vektory pro symetrickou matici\n",
    "\n",
    "w, v = sp.sparse.linalg.eigsh(A, k=3)\n",
    "print(\"Eigenvalues:\")\n",
    "print(w)\n",
    "print()\n",
    "print(\"Eigenvectors:\")\n",
    "print(v)\n"
   ]
  }
 ],
 "metadata": {
  "anaconda-cloud": {},
  "kernelspec": {
   "display_name": "Python 3",
   "language": "python",
   "name": "python3"
  },
  "language_info": {
   "codemirror_mode": {
    "name": "ipython",
    "version": 3
   },
   "file_extension": ".py",
   "mimetype": "text/x-python",
   "name": "python",
   "nbconvert_exporter": "python",
   "pygments_lexer": "ipython3",
   "version": "3.11.8"
  }
 },
 "nbformat": 4,
 "nbformat_minor": 4
}
