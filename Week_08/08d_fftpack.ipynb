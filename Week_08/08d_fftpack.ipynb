{
 "cells": [
  {
   "attachments": {},
   "cell_type": "markdown",
   "metadata": {},
   "source": [
    "## `SciPy.fftpack` - Rychlá Fourierova transformace\n",
    "`scipy.fftpack` je modul, který poskytuje nástroje pro rychlé Fourierovy transformace (FFT) a jejich inverzní operace. FFT je algoritmus, který umožňuje rychle vypočítat diskrétní Fourierovu transformaci (DFT) a její inverzní. DFT je matematický nástroj používaný k analýze a zpracování signálů, zejména pro rozklad signálů na frekvenční spektrum."
   ]
  },
  {
   "cell_type": "code",
   "execution_count": null,
   "metadata": {},
   "outputs": [],
   "source": [
    "import numpy as np\n",
    "from scipy import fftpack\n",
    "from IPython.display import Audio\n",
    "import matplotlib.pyplot as plt\n"
   ]
  },
  {
   "cell_type": "code",
   "execution_count": null,
   "metadata": {},
   "outputs": [],
   "source": [
    "# Nastavení vzorkovací frekvence pro zvukový signál\n",
    "vzorkovaci_frekvence = 8000\n",
    "# Délka signálu\n",
    "doba_trvani = 1\n",
    "\n",
    "# Vytvoříme časovou osu\n",
    "t = np.linspace(0, doba_trvani, int(doba_trvani * vzorkovaci_frekvence))\n",
    "\n",
    "# Definujeme základní frekvenci a harmonické\n",
    "frekvence = 800\n",
    "harmonicka2 = 2 * frekvence\n",
    "harmonicka3 = 3 * frekvence\n",
    "\n",
    "# Vytvoříme signál s harmonickými frekvencemi\n",
    "signal = (np.sin(2 * np.pi * frekvence * t) +\n",
    "          0.5 * np.sin(2 * np.pi * harmonicka2 * t) +\n",
    "          0.3 * np.sin(2 * np.pi * harmonicka3 * t))\n",
    "\n",
    "# Přidáme šum do signálu\n",
    "zasumeny_signal = signal + 0.5 * np.random.randn(len(signal))"
   ]
  },
  {
   "cell_type": "code",
   "execution_count": null,
   "metadata": {},
   "outputs": [],
   "source": [
    "# Čistý signál\n",
    "# Použijte IPython.display.Audio pro přehrání signálu\n",
    "Audio(data=signal, rate=vzorkovaci_frekvence)"
   ]
  },
  {
   "cell_type": "code",
   "execution_count": null,
   "metadata": {},
   "outputs": [],
   "source": [
    "# zašuměný signál\n",
    "# přehrajeme signál\n",
    "Audio(data=zasumeny_signal, rate=vzorkovaci_frekvence)"
   ]
  },
  {
   "cell_type": "code",
   "execution_count": null,
   "metadata": {},
   "outputs": [],
   "source": [
    "# Aplikujeme rychlou Fourierovu transformaci (FFT)\n",
    "noisy_fft = fftpack.fft(zasumeny_signal)\n",
    "clean_fft = fftpack.fft(signal)\n",
    "\n",
    "# Vypočítáme frekvenční spektrum\n",
    "frequencies = fftpack.fftfreq(len(signal), doba_trvani / vzorkovaci_frekvence)"
   ]
  },
  {
   "cell_type": "code",
   "execution_count": null,
   "metadata": {},
   "outputs": [],
   "source": [
    "fig, (ax1, ax2) = plt.subplots(nrows=2, ncols=1, figsize=(10, 6))\n",
    "\n",
    "ax1.plot(t, signal)\n",
    "ax1.set_title('Časový průběh signálu')\n",
    "ax1.set_xlabel('Čas [s]')\n",
    "ax1.set_ylabel('Amplituda')\n",
    "ax1.set_xlim(0, 0.01)\n",
    "\n",
    "ax2.plot(frequencies, np.abs(clean_fft))\n",
    "ax2.set_title('Frekvenční spektrum')\n",
    "ax2.set_xlabel('Frekvence [Hz]')\n",
    "ax2.set_ylabel('Amplituda')\n",
    "\n",
    "plt.tight_layout()\n",
    "plt.show()"
   ]
  },
  {
   "cell_type": "code",
   "execution_count": null,
   "metadata": {},
   "outputs": [],
   "source": [
    "fig, (ax1, ax2) = plt.subplots(nrows=2, ncols=1, figsize=(10, 6))\n",
    "\n",
    "ax1.plot(t, zasumeny_signal)\n",
    "ax1.set_title('Časový průběh signálu')\n",
    "ax1.set_xlabel('Čas [s]')\n",
    "ax1.set_ylabel('Amplituda')\n",
    "ax1.set_xlim(0, 0.01)\n",
    "\n",
    "ax2.plot(frequencies, np.abs(noisy_fft))\n",
    "ax2.set_title('Frekvenční spektrum')\n",
    "ax2.set_xlabel('Frekvence [Hz]')\n",
    "ax2.set_ylabel('Amplituda')\n",
    "\n",
    "plt.tight_layout()\n",
    "plt.show()\n"
   ]
  },
  {
   "cell_type": "code",
   "execution_count": null,
   "metadata": {},
   "outputs": [],
   "source": [
    "# Vidíme, že šum je ve frekvenčním spektru pěkně oddělen od základní frekvence\n",
    "\n",
    "# Filtrujeme šum ve frekvenčním spektru tak, že vypustíme všechny malé amplitudy\n",
    "maska = np.abs(noisy_fft) > 200\n",
    "filtrovana_fft = noisy_fft * maska\n",
    "\n",
    "# Aplikujeme inverzní rychlou Fourierovu transformaci (IFFT)\n",
    "filtrovany_signal = np.real(fftpack.ifft(filtrovana_fft))"
   ]
  },
  {
   "cell_type": "code",
   "execution_count": null,
   "metadata": {},
   "outputs": [],
   "source": [
    "fig, (ax1, ax2) = plt.subplots(nrows=2, ncols=1, figsize=(10, 6))\n",
    "\n",
    "ax1.plot(t, filtrovany_signal)\n",
    "ax1.set_title('Časový průběh signálu')\n",
    "ax1.set_xlabel('Čas [s]')\n",
    "ax1.set_ylabel('Amplituda')\n",
    "ax1.set_xlim(0, 0.01)\n",
    "\n",
    "ax2.plot(frequencies, np.abs(filtrovana_fft))\n",
    "ax2.set_title('Frekvenční spektrum')\n",
    "ax2.set_xlabel('Frekvence [Hz]')\n",
    "ax2.set_ylabel('Amplituda')\n",
    "ax2.set_xlim(0, 2500)\n",
    "\n",
    "plt.tight_layout()\n",
    "plt.show()\n"
   ]
  },
  {
   "cell_type": "code",
   "execution_count": null,
   "metadata": {},
   "outputs": [],
   "source": [
    "# filtrovaný signál\n",
    "# přehrajeme signál\n",
    "Audio(data=filtrovany_signal, rate=vzorkovaci_frekvence)\n"
   ]
  }
 ],
 "metadata": {
  "anaconda-cloud": {},
  "kernelspec": {
   "display_name": "Python 3",
   "language": "python",
   "name": "python3"
  },
  "language_info": {
   "codemirror_mode": {
    "name": "ipython",
    "version": 3
   },
   "file_extension": ".py",
   "mimetype": "text/x-python",
   "name": "python",
   "nbconvert_exporter": "python",
   "pygments_lexer": "ipython3",
   "version": "3.11.8"
  }
 },
 "nbformat": 4,
 "nbformat_minor": 4
}
