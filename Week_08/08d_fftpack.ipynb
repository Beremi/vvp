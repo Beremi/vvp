{
 "cells": [
  {
   "attachments": {},
   "cell_type": "markdown",
   "metadata": {},
   "source": [
    "## `SciPy.fftpack` - Rychlá Fourierova transformace\n",
    "`scipy.fftpack` je modul, který poskytuje nástroje pro rychlé Fourierovy transformace (FFT) a jejich inverzní operace. FFT je algoritmus, který umožňuje rychle vypočítat diskrétní Fourierovu transformaci (DFT) a její inverzní. DFT je matematický nástroj používaný k analýze a zpracování signálů, zejména pro rozklad signálů na frekvenční spektrum."
   ]
  },
  {
   "cell_type": "code",
   "execution_count": null,
   "metadata": {},
   "outputs": [],
   "source": [
    "import numpy as np\n",
    "from scipy import fftpack\n",
    "from IPython.display import Audio\n",
    "import matplotlib.pyplot as plt\n"
   ]
  },
  {
   "cell_type": "code",
   "execution_count": null,
   "metadata": {},
   "outputs": [],
   "source": [
    "\n",
    "# Nastavení vzorkovací frekvence pro zvukový signál\n",
    "sample_rate = 8000\n",
    "# délka signálu\n",
    "duration = 1\n",
    "\n",
    "# Vytvoříme časovou osu\n",
    "t = np.linspace(0, duration, duration * sample_rate)\n",
    "\n",
    "# Definujeme základní frekvenci a harmonické\n",
    "freq = 800\n",
    "harmonic2 = 2 * freq\n",
    "harmonic3 = 3 * freq\n",
    "\n",
    "# Vytvoříme signál s harmonickými frekvencemi\n",
    "signal = (np.sin(2 * np.pi * freq * t) +\n",
    "    0.5 * np.sin(2 * np.pi * harmonic2 * t) +\n",
    "    0.3 * np.sin(2 * np.pi * harmonic3 * t))\n",
    "\n",
    "# Přidáme šum do signálu\n",
    "noisy_signal = signal + 0.5 * np.random.randn(len(signal))"
   ]
  },
  {
   "cell_type": "code",
   "execution_count": null,
   "metadata": {},
   "outputs": [],
   "source": [
    "# čistý signál\n",
    "\n",
    "\n",
    "# Use IPython.display.Audio to play back the signal\n",
    "Audio(data=signal, rate=sample_rate)"
   ]
  },
  {
   "cell_type": "code",
   "execution_count": null,
   "metadata": {},
   "outputs": [],
   "source": [
    "# zašuměný signál\n",
    "# přehrajeme signál\n",
    "Audio(data=noisy_signal, rate=sample_rate)"
   ]
  },
  {
   "cell_type": "code",
   "execution_count": null,
   "metadata": {},
   "outputs": [],
   "source": [
    "# Aplikujeme rychlou Fourierovu transformaci (FFT)\n",
    "noisy_fft = fftpack.fft(noisy_signal)\n",
    "clean_fft = fftpack.fft(signal)\n",
    "\n",
    "# Vypočítáme frekvenční spektrum\n",
    "frequencies = fftpack.fftfreq(len(signal), duration/sample_rate)"
   ]
  },
  {
   "cell_type": "code",
   "execution_count": null,
   "metadata": {},
   "outputs": [],
   "source": [
    "fig, (ax1, ax2) = plt.subplots(nrows=2, ncols=1, figsize=(10, 6))\n",
    "\n",
    "ax1.plot(t, signal)\n",
    "ax1.set_title('Časový průběh signálu')\n",
    "ax1.set_xlabel('Čas [s]')\n",
    "ax1.set_ylabel('Amplituda')\n",
    "ax1.set_xlim(0, 0.01)\n",
    "\n",
    "ax2.plot(frequencies, np.abs(clean_fft))\n",
    "ax2.set_title('Frekvenční spektrum')\n",
    "ax2.set_xlabel('Frekvence [Hz]')\n",
    "ax2.set_ylabel('Amplituda')\n",
    "ax2.set_xlim(0, 2500)\n",
    "\n",
    "plt.tight_layout()\n",
    "plt.show()"
   ]
  },
  {
   "cell_type": "code",
   "execution_count": null,
   "metadata": {},
   "outputs": [],
   "source": [
    "fig, (ax1, ax2) = plt.subplots(nrows=2, ncols=1, figsize=(10, 6))\n",
    "\n",
    "ax1.plot(t, noisy_signal)\n",
    "ax1.set_title('Časový průběh signálu')\n",
    "ax1.set_xlabel('Čas [s]')\n",
    "ax1.set_ylabel('Amplituda')\n",
    "ax1.set_xlim(0, 0.01)\n",
    "\n",
    "ax2.plot(frequencies, np.abs(noisy_fft))\n",
    "ax2.set_title('Frekvenční spektrum')\n",
    "ax2.set_xlabel('Frekvence [Hz]')\n",
    "ax2.set_ylabel('Amplituda')\n",
    "ax2.set_xlim(0, 2500)\n",
    "\n",
    "plt.tight_layout()\n",
    "plt.show()\n"
   ]
  },
  {
   "cell_type": "code",
   "execution_count": null,
   "metadata": {},
   "outputs": [],
   "source": [
    "# vidíme, že šum je v frekvenčním spektru pěkně oddělen od základní frekvence\n",
    "\n",
    "# Filtrujeme šum v frekvenčním spektru, tak, že vypustíme všechny malé amplitudy\n",
    "mask = np.abs(noisy_fft) > 200\n",
    "filtered_fft = noisy_fft * mask\n",
    "\n",
    "# Aplikujeme inverzní rychlou Fourierovu transformaci (IFFT)\n",
    "filtered_signal = np.real(fftpack.ifft(filtered_fft))\n"
   ]
  },
  {
   "cell_type": "code",
   "execution_count": null,
   "metadata": {},
   "outputs": [],
   "source": [
    "fig, (ax1, ax2) = plt.subplots(nrows=2, ncols=1, figsize=(10, 6))\n",
    "\n",
    "ax1.plot(t, filtered_signal)\n",
    "ax1.set_title('Časový průběh signálu')\n",
    "ax1.set_xlabel('Čas [s]')\n",
    "ax1.set_ylabel('Amplituda')\n",
    "ax1.set_xlim(0, 0.01)\n",
    "\n",
    "ax2.plot(frequencies, np.abs(filtered_fft))\n",
    "ax2.set_title('Frekvenční spektrum')\n",
    "ax2.set_xlabel('Frekvence [Hz]')\n",
    "ax2.set_ylabel('Amplituda')\n",
    "ax2.set_xlim(0, 2500)\n",
    "\n",
    "plt.tight_layout()\n",
    "plt.show()\n"
   ]
  },
  {
   "cell_type": "code",
   "execution_count": null,
   "metadata": {},
   "outputs": [],
   "source": [
    "# filtrovaný signál\n",
    "# přehrajeme signál\n",
    "Audio(data=filtered_signal, rate=sample_rate)\n"
   ]
  }
 ],
 "metadata": {
  "anaconda-cloud": {},
  "kernelspec": {
   "display_name": "Python 3",
   "language": "python",
   "name": "python3"
  },
  "language_info": {
   "codemirror_mode": {
    "name": "ipython",
    "version": 3
   },
   "file_extension": ".py",
   "mimetype": "text/x-python",
   "name": "python",
   "nbconvert_exporter": "python",
   "pygments_lexer": "ipython3",
   "version": "3.11.8"
  }
 },
 "nbformat": 4,
 "nbformat_minor": 4
}
