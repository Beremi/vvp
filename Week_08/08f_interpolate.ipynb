{
 "cells": [
  {
   "cell_type": "code",
   "execution_count": null,
   "metadata": {},
   "outputs": [],
   "source": [
    "import scipy as sp\n",
    "import numpy as np\n",
    "import matplotlib.pyplot as plt"
   ]
  },
  {
   "attachments": {},
   "cell_type": "markdown",
   "metadata": {},
   "source": [
    "## `Scipy.interpolate`: Interpolace v bodech\n",
    "\n",
    "Scipy nabízí jednoduché možnosti pro interpolaci a aproximaci dat."
   ]
  },
  {
   "cell_type": "code",
   "execution_count": null,
   "metadata": {},
   "outputs": [],
   "source": [
    "import scipy.interpolate as spi"
   ]
  },
  {
   "cell_type": "markdown",
   "metadata": {},
   "source": [
    "### Příklad interpolace\n",
    "Vyrobíme si nějaká zašuměná data pomocí známé funkce (např. sin) a zkusíme je interpolovat pomocí `interp1d`."
   ]
  },
  {
   "cell_type": "code",
   "execution_count": null,
   "metadata": {},
   "outputs": [],
   "source": [
    "def f(x):\n",
    "    return np.sin(x)"
   ]
  },
  {
   "cell_type": "code",
   "execution_count": null,
   "metadata": {},
   "outputs": [],
   "source": [
    "n = np.arange(0, 10)  # hodnoty x, ve kterých máme měření\n",
    "x = np.linspace(0, 9, 100) # hodnoty x, ve kterých chceme interpolovat\n",
    "\n",
    "y_meas = f(n) + 0.1 * np.random.randn(len(n))  # vytvoříme měření s šumem\n",
    "y_real = f(x) # vytvoříme přesné hodnoty\n",
    "plt.plot(x, y_real, 'k', label='funkce')\n",
    "plt.plot(n, y_meas, 'bs', label='naměřená data')\n",
    "plt.legend()"
   ]
  },
  {
   "cell_type": "markdown",
   "metadata": {},
   "source": [
    "Interpolace se provádí pomocí interpolátoru (objektu) vytvořeného z dat. Tento objekt pak umožňuje predikci hodnot v libovolných bodech, je `callable`. Pro jednorozměrnou interpolaci se používá `interp1d`."
   ]
  },
  {
   "cell_type": "code",
   "execution_count": null,
   "metadata": {},
   "outputs": [],
   "source": [
    "# interpolace vytvoří objekt, který lze použít pro interpolaci\n",
    "linear_interpolation = spi.interp1d(n, y_meas)\n",
    "linear_interpolation\n"
   ]
  },
  {
   "cell_type": "markdown",
   "metadata": {},
   "source": [
    "Typ interpolace je možné specifikovat pomocí argumentu `kind`:\n",
    "- `linear` - lineární interpolace\n",
    "- `nearest` - nejbližší soused\n",
    "- `cubic` - kubická interpolace\n",
    "- ..."
   ]
  },
  {
   "cell_type": "code",
   "execution_count": null,
   "metadata": {},
   "outputs": [],
   "source": [
    "# defaultně se používá lineární interpolace, ale můžeme použít i jiné\n",
    "cubic_interpolation = spi.interp1d(n, y_meas, kind='cubic')"
   ]
  },
  {
   "cell_type": "markdown",
   "metadata": {},
   "source": [
    "A konečně, interpolace:"
   ]
  },
  {
   "cell_type": "code",
   "execution_count": null,
   "metadata": {},
   "outputs": [],
   "source": [
    "# a teď můžeme interpolovat\n",
    "y_interp1 = linear_interpolation(x)\n",
    "y_interp2 = cubic_interpolation(x)"
   ]
  },
  {
   "cell_type": "code",
   "execution_count": null,
   "metadata": {},
   "outputs": [],
   "source": [
    "plt.plot(n, y_meas, 'bs', label='noisy data')\n",
    "plt.plot(x, y_real, 'k', lw=2, label='true function')\n",
    "plt.plot(x, y_interp1, 'r', label='linear interp')\n",
    "plt.plot(x, y_interp2, 'g', label='cubic interp')\n",
    "plt.legend()"
   ]
  },
  {
   "cell_type": "markdown",
   "metadata": {},
   "source": [
    "## Aproximace polynomem (z modulu `NumPy`)\n",
    "\n",
    "Aproximace polynomem je metoda, která se používá k nalezení polynomu, jenž se co nejlépe blíží dané sadě dat. V modulu `NumPy` lze pro tento účel využít funkci `polyfit`, která umožňuje nalézt koeficienty polynomu daného stupně, jež nejlépe odpovídají daným datům v rámci metody nejmenších čtverců.\n",
    "\n",
    "Vyhodnocení polynomu pro dané hodnoty x je poté možné provést (pro 1d polynom) pomocí funkce `poly1d`, která z koeficientů vytvoří objekt, jenž je `callable` = funkce polynomu."
   ]
  },
  {
   "cell_type": "code",
   "execution_count": null,
   "metadata": {},
   "outputs": [],
   "source": [
    "# Aproximace polynomem druhého stupně\n",
    "koeficienty = np.polyfit(n, y_meas, 2)\n",
    "\n",
    "# Vytvoření polynomu s těmito koeficienty\n",
    "p = np.poly1d(koeficienty)\n",
    "\n",
    "# Vykreslení původních dat a aproximujícího polynomu\n",
    "plt.scatter(n, y_meas, label='Původní data')\n",
    "plt.plot(x, p(x), label='Aproximující polynom')\n",
    "plt.legend()\n",
    "plt.show()"
   ]
  }
 ],
 "metadata": {
  "anaconda-cloud": {},
  "kernelspec": {
   "display_name": "Python 3",
   "language": "python",
   "name": "python3"
  },
  "language_info": {
   "codemirror_mode": {
    "name": "ipython",
    "version": 3
   },
   "file_extension": ".py",
   "mimetype": "text/x-python",
   "name": "python",
   "nbconvert_exporter": "python",
   "pygments_lexer": "ipython3",
   "version": "3.11.8"
  }
 },
 "nbformat": 4,
 "nbformat_minor": 4
}
