{
 "cells": [
  {
   "attachments": {},
   "cell_type": "markdown",
   "metadata": {},
   "source": [
    "## `SciPy.special`: Něco na zahřátí - speciální funkce\n",
    "\n",
    "Speciální funkce jsou často řešením vědeckých úloh. Jejich implementace je v mnoha případech poměrně náročná. \n",
    "\n",
    "Proto existují knihovny jako `scipy.special`: http://docs.scipy.org/doc/scipy/reference/special.html#module-scipy.special.\n"
   ]
  },
  {
   "cell_type": "code",
   "execution_count": null,
   "metadata": {},
   "outputs": [],
   "source": [
    "import scipy.special as sps"
   ]
  },
  {
   "cell_type": "code",
   "execution_count": null,
   "metadata": {},
   "outputs": [],
   "source": [
    "print([m for m in dir(sps) if not m.startswith(\"_\")])"
   ]
  },
  {
   "attachments": {},
   "cell_type": "markdown",
   "metadata": {},
   "source": [
    "Funkcí je zde opravdu mnoho, například:\n",
    "\n",
    "- **gamma(z)** - Gama funkce, která se obecně používá v matematice, statistice a inženýrství.\n",
    "- **beta(a, b)** - Beta funkce, která se často používá v pravděpodobnostní teorii a statistice.\n",
    "- **erf(x)** - Chybová funkce, používaná především v teorii pravděpodobnosti a statistice.\n",
    "- **erfinv(x)** - Inverzní chybová funkce, která umožňuje získat hodnotu, pro kterou platí erf(erfinv(x)) = x.\n",
    "- **expit(x)** - Logistická funkce, používaná především v logistické regresi.\n",
    "- **iv(v, z)** - Modifikovaná Besselova funkce prvního druhu s obecným řádem.\n",
    "- **jn(n, x)** - Besselova funkce prvního druhu s obecným řádem.\n",
    "- **yn(n, x)** - Besselova funkce druhého druhu s obecným řádem.\n",
    "- **kv(v, x)** - Modifikovaná Besselova funkce druhého druhu s obecným řádem.\n",
    "- **zeta(x)** - Riemannova zeta funkce, která se používá v teorii čísel.\n",
    "- **legendre(n, x)** - Legendreovy polynomy, používané v teorii potenciálu a numerických metodách.\n",
    "- **chebyt(n, x)** - Čebyševovy polynomy prvního druhu.\n",
    "- a mnoho dalších.\n"
   ]
  },
  {
   "attachments": {},
   "cell_type": "markdown",
   "metadata": {},
   "source": [
    "Podíváme se např. na Besselovy funkce.\n",
    "\n",
    "Jednoduché vyčíslení funkcí s daným vstupem."
   ]
  },
  {
   "cell_type": "code",
   "execution_count": null,
   "metadata": {},
   "outputs": [],
   "source": [
    "n = 0    # řád funkce\n",
    "x = 0.0\n",
    "\n",
    "# Besseova funkce prvního druhu s nulovým řádem\n",
    "print(f\"J_{n}({x}) = {sps.jn(n, x)}\")\n",
    "\n",
    "n = 2    # řád funkce\n",
    "x = 1.0\n",
    "# Besseova funkce druhého druhu s druhým řádem\n",
    "print(f\"Y_{n}({x}) = {sps.yn(n, x)}\")\n"
   ]
  },
  {
   "cell_type": "markdown",
   "metadata": {},
   "source": [
    "Funkce jsou samozřejmě vektorové, pomocí `matplotlib` si jednoduše nakreslíme graf."
   ]
  },
  {
   "cell_type": "code",
   "execution_count": null,
   "metadata": {},
   "outputs": [],
   "source": [
    "import numpy as np\n",
    "import matplotlib.pyplot as plt\n",
    "\n",
    "x = np.linspace(0, 10, 100)\n",
    "\n",
    "fig, ax = plt.subplots()\n",
    "\n",
    "for n in range(10):\n",
    "    ax.plot(x, sps.jn(n, x), label=f\"$J_{n}(x)$\")\n",
    "    ax.legend(loc=\"lower right\", ncol=5)\n",
    "    ax.set_xlabel(\"x\")\n",
    "    ax.set_ylim(-1, 1)\n",
    "    ax.set_xlim(0, 10)"
   ]
  },
  {
   "attachments": {},
   "cell_type": "markdown",
   "metadata": {},
   "source": [
    "Často potřebujeme spočítat kořeny funckcí = místa kde se protíná s osou x. V `scipy.special` je k dispozici mnoho funkcí, které tyto kořeny pro nás najdou. Například:"
   ]
  },
  {
   "cell_type": "code",
   "execution_count": null,
   "metadata": {},
   "outputs": [],
   "source": [
    "n = 0  # order\n",
    "m = 3  # počet kořenů k nalezení (hledá se od nuly dál v kladném směru)\n",
    "sol = sps.jn_zeros(n, m)\n",
    "print('Kořeny:', sol)\n",
    "\n",
    "# zkouška\n",
    "print('This should be (almost) zero:', sps.jn(n, sol))\n"
   ]
  }
 ],
 "metadata": {
  "anaconda-cloud": {},
  "kernelspec": {
   "display_name": "Python 3",
   "language": "python",
   "name": "python3"
  },
  "language_info": {
   "codemirror_mode": {
    "name": "ipython",
    "version": 3
   },
   "file_extension": ".py",
   "mimetype": "text/x-python",
   "name": "python",
   "nbconvert_exporter": "python",
   "pygments_lexer": "ipython3",
   "version": "3.11.8"
  }
 },
 "nbformat": 4,
 "nbformat_minor": 4
}
