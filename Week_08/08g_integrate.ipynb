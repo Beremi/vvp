{
 "cells": [
  {
   "cell_type": "code",
   "execution_count": null,
   "metadata": {},
   "outputs": [],
   "source": [
    "import scipy as sp\n",
    "import numpy as np\n",
    "import matplotlib.pyplot as plt"
   ]
  },
  {
   "attachments": {},
   "cell_type": "markdown",
   "metadata": {},
   "source": [
    "## `SciPy.integrate`: Numerická integrace a řešení diferenciálních rovnic\n",
    "\n",
    "### Vyčíslení určitého integrálu\n",
    "Numerical evaluation of a function of the type\n",
    "Často potřebujeme numericky vyčíslit určitý integrál, tj.\n",
    "\n",
    "$\\displaystyle \\int_a^b f(x) {\\rm d}x$\n",
    "\n",
    "Numerické integraci se často říká kvadratura, anglicky *quadrature*. Podle toho se jmenují o funkce v modulu `scipy.integrate`, např. `quad`, `dblquad`, `tplquad` nebo obecné `nquad`."
   ]
  },
  {
   "cell_type": "code",
   "execution_count": null,
   "metadata": {},
   "outputs": [],
   "source": [
    "import scipy.integrate as spi\n"
   ]
  },
  {
   "cell_type": "markdown",
   "metadata": {},
   "source": [
    "Zkusíme spočítat jednodychý integrál:\n",
    "\n",
    "$\\displaystyle \\int_0^1 x {\\rm d}x$"
   ]
  },
  {
   "cell_type": "code",
   "execution_count": null,
   "metadata": {},
   "outputs": [],
   "source": [
    "val, abserr = spi.quad(lambda x: x, 0, 1)\n",
    "print(f\"výsledek = {val:g} ± {abserr:.2g}\")"
   ]
  },
  {
   "attachments": {},
   "cell_type": "markdown",
   "metadata": {},
   "source": [
    "Můžeme dokonce pracovat s nekonečnými mezemi.\n",
    "\n",
    "$$\\displaystyle \\int_{-\\infty}^\\infty e^{-x^2} {\\rm d}x$$"
   ]
  },
  {
   "cell_type": "code",
   "execution_count": null,
   "metadata": {},
   "outputs": [],
   "source": [
    "val, abserr = spi.quad(lambda x: np.exp(-x ** 2), -np.inf, np.inf)\n",
    "print(f\"výsledek = {val:g} ± {abserr:.2g}\")\n",
    "print(f\"rozdíl od přesné hodnoty (√π) = {val - np.sqrt(np.pi):g}\")\n"
   ]
  },
  {
   "attachments": {},
   "cell_type": "markdown",
   "metadata": {},
   "source": [
    "## Obyčejné diferenciální rovnice (ODR)\n",
    "\n",
    "`scipy.integrate` (ano, řešení ODR je v tomto modulu, protože řešením ODR je určitý integrál) obsahuje `odeint`, které je jednodušší, a objektové rozhraní `ode`, které umožňuje větší kontrolu.\n"
   ]
  },
  {
   "cell_type": "markdown",
   "metadata": {},
   "source": [
    "ODR (nebo jejich soustava) je často zadána jako\n",
    "\n",
    "$y' = f(y, t)$\n",
    "\n",
    "s počátečními podmínkami\n",
    "\n",
    "$y(t=0) = y_0$\n",
    "\n"
   ]
  },
  {
   "attachments": {},
   "cell_type": "markdown",
   "metadata": {},
   "source": [
    "### Ukázka: jednoduché kyvadlo\n",
    "\n",
    "Rovnice jednoduchého fyzikálního kyvadla je\n",
    "\n",
    "Zrychlení kyvadla $\\theta ''$ závisí na pozici $\\theta$ a gravitační konstanty $g$ a délky kyvadla $L$.\n",
    "\n",
    "$\\displaystyle {\\theta ''} = - \\frac{g}{L}\\theta$\n",
    "\n",
    "Řešení je známé, použijeme jej pro kontrolu:\n",
    "\n",
    "$\\displaystyle {\\theta} = \\theta_0 \\cos\\left( \\sqrt{\\frac{g}{L}} t \\right) $\n"
   ]
  },
  {
   "cell_type": "markdown",
   "metadata": {},
   "source": [
    "#### Numerické řešení\n",
    "\n",
    "Pro řešení pomocí `odeint` musíme vyrobit funkci `f`:\n",
    "- přijímá dvě proměnné: aktuální stav `y` a čas `t`\n",
    "    - `y` je pole s funkční hodnotou a všemi derivacemi kromě nejvyšší: [$\\theta$, $\\theta '$]\n",
    "    - `t` je skalár, aktuální čas\n",
    "- vrací pole všech derivací: [$\\theta '$, $\\theta ''$]\n",
    "\n",
    "\n",
    "`odeint` pak lze použít jednoduše:\n",
    "\n",
    "    y_t = odeint(f, y_0, t)\n",
    "\n",
    "kde `t` je předem zadané pole časových bodů, ve kterých požadujeme řešení a `y_0` je pole počátrčních podmínek.\n"
   ]
  },
  {
   "cell_type": "code",
   "execution_count": null,
   "metadata": {},
   "outputs": [],
   "source": [
    "from scipy.constants import g\n",
    "\n",
    "L = 0.5\n",
    "m = 0.1\n",
    "\n",
    "\n",
    "def f_pendulum(x, t):\n",
    "    \"\"\"\n",
    "    Pravá strana diferenciální rovnice kyvadla.\n",
    "    Tato funkce vrací derivace úhlu a úhlové rychlosti kyvadla vzhledem k času.\n",
    "\n",
    "    Parametry:\n",
    "    x: List obsahující funkční hodnotu úhlu a úhlové rychlosti kyvadla (funkce, derivace)\n",
    "    t: čas (v tomto případě není přímo třeba, např. kdyby některý parametr závisel na čase)\n",
    "\n",
    "    Vrací:\n",
    "    List hodnot: [d_theta_dt, d_dtheta_dt] \n",
    "        - dtheta: První derivace úhlu theta, což je úhlová rychlost kyvadla\n",
    "        - ddtheta: Druhá derivace úhlu theta, což je úhlové zrychlení kyvadla\n",
    "    \"\"\"\n",
    "    theta, dtheta = x[0], x[1]  # Rozbalení úhlu a úhlové rychlosti\n",
    "\n",
    "    ddtheta = - g / L * theta  # Druhá derivace úhlu theta, což odpovídá Newtonovu zákonu pro malé výchylky\n",
    "\n",
    "    return [dtheta, ddtheta]"
   ]
  },
  {
   "cell_type": "code",
   "execution_count": null,
   "metadata": {},
   "outputs": [],
   "source": [
    "# počáteční stav = pozice a rychlost\n",
    "x0 = [np.pi / 8, 0]\n",
    "# časy pro řešení\n",
    "t = np.linspace(0, 10, 250)\n",
    "# a konečně řešení\n",
    "x = spi.odeint(f_pendulum, x0, t)"
   ]
  },
  {
   "cell_type": "code",
   "execution_count": null,
   "metadata": {},
   "outputs": [],
   "source": [
    "# analytické řešení\n",
    "x_anal = x0[0] * np.cos(np.sqrt(g / L) * t)"
   ]
  },
  {
   "cell_type": "code",
   "execution_count": null,
   "metadata": {},
   "outputs": [],
   "source": [
    "plt.plot(t, x[:, 0], 'r', label=r\"$\\theta$\")\n",
    "plt.plot(t, x_anal, 'k--', label=u\"přesné řešení\")\n",
    "plt.legend()\n",
    "plt.xlabel(\"Čas [s]\")\n",
    "plt.ylabel(\"Poloha\")"
   ]
  }
 ],
 "metadata": {
  "anaconda-cloud": {},
  "kernelspec": {
   "display_name": "Python 3",
   "language": "python",
   "name": "python3"
  },
  "language_info": {
   "codemirror_mode": {
    "name": "ipython",
    "version": 3
   },
   "file_extension": ".py",
   "mimetype": "text/x-python",
   "name": "python",
   "nbconvert_exporter": "python",
   "pygments_lexer": "ipython3",
   "version": "3.13.2"
  }
 },
 "nbformat": 4,
 "nbformat_minor": 4
}
