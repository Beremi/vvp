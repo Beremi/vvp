{
 "cells": [
  {
   "cell_type": "code",
   "execution_count": null,
   "metadata": {},
   "outputs": [],
   "source": [
    "import scipy as sp\n",
    "import numpy as np\n",
    "import matplotlib.pyplot as plt"
   ]
  },
  {
   "attachments": {},
   "cell_type": "markdown",
   "metadata": {},
   "source": [
    "## `SciPy.integrate`: Numerická integrace a řešení diferenciálních rovnic\n",
    "\n",
    "### Vyčíslení určitého integrálu\n",
    "Numerical evaluation of a function of the type\n",
    "Často potřebujeme numericky vyčíslit určitý integrál, tj.\n",
    "\n",
    "$\\displaystyle \\int_a^b f(x) {\\rm d}x$\n",
    "\n",
    "Numerické integraci se často říká kvadratura, anglicky *quadrature*. Podle toho se jmenují o funkce v modulu `scipy.integrate`, např. `quad`, `dblquad`, `tplquad` nebo obecné `nquad`."
   ]
  },
  {
   "cell_type": "code",
   "execution_count": null,
   "metadata": {},
   "outputs": [],
   "source": [
    "import scipy.integrate\n"
   ]
  },
  {
   "cell_type": "markdown",
   "metadata": {},
   "source": [
    "Zkusíme spočítat jednodychý integrál:\n",
    "\n",
    "$\\displaystyle \\int_0^1 x {\\rm d}x$"
   ]
  },
  {
   "cell_type": "code",
   "execution_count": null,
   "metadata": {},
   "outputs": [],
   "source": [
    "val, abserr = sp.integrate.quad(lambda x: x, 0, 1)\n",
    "print(f\"výsledek = {val:g} ± {abserr:.2g}\")"
   ]
  },
  {
   "attachments": {},
   "cell_type": "markdown",
   "metadata": {},
   "source": [
    "Můžeme dokonce pracovat s nekonečnými mezemi.\n",
    "\n",
    "$$\\displaystyle \\int_{-\\infty}^\\infty e^{-x^2} {\\rm d}x$$"
   ]
  },
  {
   "cell_type": "code",
   "execution_count": null,
   "metadata": {},
   "outputs": [],
   "source": [
    "val, abserr = sp.integrate.quad(lambda x: np.exp(-x ** 2), -np.Inf, np.Inf)\n",
    "print(f\"výsledek = {val:g} ± {abserr:.2g}\")\n",
    "print(f\"rozdíl od přesné hodnoty (√π) = {val - np.sqrt(np.pi):g}\")\n"
   ]
  },
  {
   "attachments": {},
   "cell_type": "markdown",
   "metadata": {},
   "source": [
    "### Obyčejné diferenciální rovnice (ODR)\n",
    "\n",
    "`scipy.integrate` (ano, řešení ODR je v tomto modulu, protože řešením ODR je určitý integrál) obsahuje `odeint`, které je jednodušší, a objektové rozhraní `ode`, které umožňuje větší kontrolu.\n"
   ]
  },
  {
   "cell_type": "markdown",
   "metadata": {},
   "source": [
    "ODR (nebo jejich soustava) je často zadaná jako\n",
    "\n",
    "$y' = f(y, t)$\n",
    "\n",
    "s počátečními podmínkami\n",
    "\n",
    "$y(t=0) = y_0$\n",
    "\n",
    "`odeint` pak lze použít jednoduše:\n",
    "\n",
    "    y_t = odeint(f, y_0, t)\n",
    "\n",
    "kde `t` je předem zadané pole, ve kterých požadujeme řešení."
   ]
  },
  {
   "attachments": {},
   "cell_type": "markdown",
   "metadata": {},
   "source": [
    "#### Příklad 1: jednoduché kyvadlo\n",
    "\n",
    "Rovnice jednoduchého fyzikálního kyvadla je\n",
    "\n",
    "Zrychlení kyvadla $\\theta ''$ závisí na pozici $\\theta$ a gravitační konstanty $g$ a délky kyvadla $L$.\n",
    "\n",
    "$\\displaystyle {\\theta ''} = - \\frac{g}{L}\\theta$\n",
    "\n",
    "Řešení je známé, použijeme jej pro kontrolu:\n",
    "\n",
    "$\\displaystyle {\\theta} = \\theta_0 \\cos\\left( \\sqrt{\\frac{g}{L}} t \\right) $\n",
    "\n",
    "Zkusme si tuto rovnici vyřešit numericky. Jelikož potřebujeme rovnice prvního řádu, definujeme vektor $x = \\left(\\theta , \\theta ' \\right)$, takže\n",
    "\n",
    "$\\displaystyle {x_1 '} = x_2$\n",
    "\n",
    "$\\displaystyle {x_2 '} = - \\frac{g}{L}\\theta $\n"
   ]
  },
  {
   "cell_type": "code",
   "execution_count": null,
   "metadata": {},
   "outputs": [],
   "source": [
    "from scipy.constants import g\n",
    "\n",
    "L = 0.5\n",
    "m = 0.1\n",
    "\n",
    "def dx_pendulum(x, t):\n",
    "    \"\"\"\n",
    "    The right-hand side of the pendulum ODE\n",
    "    \"\"\"\n",
    "    theta, dtheta = x[0], x[1]\n",
    "    \n",
    "    d_theta_dt = dtheta\n",
    "    d_dtheta_dt = - g / L * theta\n",
    "    \n",
    "    return d_theta_dt, d_dtheta_dt"
   ]
  },
  {
   "cell_type": "code",
   "execution_count": null,
   "metadata": {},
   "outputs": [],
   "source": [
    "# počáteční stav = pozice a rychlost\n",
    "x0 = [np.pi / 8, 0]\n",
    "# časy pro řešení\n",
    "t = np.linspace(0, 10, 250)\n",
    "# a konečně řešení\n",
    "x = sp.integrate.odeint(dx_pendulum, x0, t)"
   ]
  },
  {
   "cell_type": "code",
   "execution_count": null,
   "metadata": {},
   "outputs": [],
   "source": [
    "# analytické řešení\n",
    "x_anal = x0[0] * np.cos(np.sqrt(g / L) * t)"
   ]
  },
  {
   "cell_type": "code",
   "execution_count": null,
   "metadata": {},
   "outputs": [],
   "source": [
    "plt.plot(t, x[:, 0], 'r', label=r\"$\\theta$\")\n",
    "plt.plot(t, x_anal, 'k--', label=u\"přesné řešení\")\n",
    "plt.legend()\n",
    "plt.xlabel(\"Čas [s]\")\n",
    "plt.ylabel(\"Poloha\")"
   ]
  }
 ],
 "metadata": {
  "anaconda-cloud": {},
  "kernelspec": {
   "display_name": "Python 3",
   "language": "python",
   "name": "python3"
  },
  "language_info": {
   "codemirror_mode": {
    "name": "ipython",
    "version": 3
   },
   "file_extension": ".py",
   "mimetype": "text/x-python",
   "name": "python",
   "nbconvert_exporter": "python",
   "pygments_lexer": "ipython3",
   "version": "3.11.8"
  }
 },
 "nbformat": 4,
 "nbformat_minor": 4
}
