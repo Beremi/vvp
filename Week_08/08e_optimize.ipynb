{
 "cells": [
  {
   "cell_type": "code",
   "execution_count": null,
   "metadata": {},
   "outputs": [],
   "source": [
    "import scipy as sp\n",
    "import numpy as np\n",
    "import matplotlib.pyplot as plt"
   ]
  },
  {
   "attachments": {},
   "cell_type": "markdown",
   "metadata": {},
   "source": [
    "## `SciPy.optimize`: Numerické optimalizace\n",
    "Tento modul obsahuje nástroje pro numerickou optimalizaci. Obsahuje velké množství funkcí, zde si ukážeme pouze dva vzorové příklady.\n",
    "\n",
    "- **Hledání minima funkce** - například pomocí `fmin`, `minimize`, `fminbound`...\n",
    "- **Hledání kořenů funkce** - například pomocí `fsolve`, `root`, `root_scalar`, ...\n"
   ]
  },
  {
   "cell_type": "code",
   "execution_count": null,
   "metadata": {},
   "outputs": [],
   "source": [
    "import scipy.optimize as opt\n",
    "\n",
    "f = lambda x: 10 * np.sin(x) + 0.1 * x + 0.1 * x*x\n",
    "x = np.linspace(-4 * np.pi, 4 * np.pi, 100)\n",
    "plt.plot(x, f(x))"
   ]
  },
  {
   "cell_type": "code",
   "execution_count": null,
   "metadata": {},
   "outputs": [],
   "source": [
    "# nalezení minima funkce\n",
    "# funkce fmin() má parametr x0, kterým se nastavuje počáteční bod\n",
    "x_min = opt.fmin(func=f, x0=0)\n",
    "print(f\"Minimum je v bodě {x_min} a má hodnotu {f(x_min)}.\")"
   ]
  },
  {
   "cell_type": "code",
   "execution_count": null,
   "metadata": {},
   "outputs": [],
   "source": [
    "# co se stane když nastavíme x0 daleko od minima?\n",
    "x_min = opt.fmin(func=f, x0=10)\n",
    "print(f\"Minimum je v bodě {x_min} a má hodnotu {f(x_min)}.\")\n",
    "# najde nejbližší lokální minimum!"
   ]
  },
  {
   "cell_type": "code",
   "execution_count": null,
   "metadata": {},
   "outputs": [],
   "source": [
    "# pokud víme, že je minimum v nějakém intervalu, můžeme použít fminbound() nebo minimize(..., bounds=...)\n",
    "x_min = opt.fminbound(func=f, x1=-10, x2=10)\n",
    "print(f\"Minimum je v bodě {x_min} a má hodnotu {f(x_min)}.\")\n",
    "\n",
    "# minimize je obecnější funkce, která je primárně určená pro optimalizaci funkcí s více proměnnými\n",
    "x_min = opt.minimize(fun=f, x0 = 0.0, bounds=[(-10, 10)])\n",
    "print(f\"Minimum je v bodě {x_min.x} a má hodnotu {f(x_min.x)}.\")"
   ]
  },
  {
   "cell_type": "markdown",
   "metadata": {},
   "source": [
    "Hledání kořenů funkce:"
   ]
  },
  {
   "cell_type": "code",
   "execution_count": null,
   "metadata": {},
   "outputs": [],
   "source": [
    "# hledání kořenů funkce\n",
    "# funkce fsolve() má parametr x0, kterým se nastavuje počáteční bod\n",
    "x_root = opt.fsolve(func=f, x0=5)\n",
    "print(f\"Kořen je v bodě {x_root} a má hodnotu {f(x_root)}.\")"
   ]
  },
  {
   "cell_type": "markdown",
   "metadata": {},
   "source": [
    "Hledání kořenu funkce na intervalu $[a, b]$ kde funkce mění znaménko pomocí `root_scalar`."
   ]
  },
  {
   "cell_type": "code",
   "execution_count": null,
   "metadata": {},
   "outputs": [],
   "source": [
    "# hledání všech kořenů na intervalu je složitější\n",
    "# nejprve musíme najít intervaly, kde funkce mění znaménko\n",
    "\n",
    "def f(x): return 10 * np.sin(x) + 0.1 * x + 0.1 * x * x\n",
    "\n",
    "x = np.linspace(-4 * np.pi, 4 * np.pi, 100)\n",
    "plt.plot(x, f(x))\n",
    "plt.plot([-15, 15], [0, 0], 'k:')\n",
    "plt.grid()\n"
   ]
  },
  {
   "cell_type": "code",
   "execution_count": null,
   "metadata": {},
   "outputs": [],
   "source": [
    "interval = (1.0, 5.0)\n",
    "\n",
    "result = opt.root_scalar(f, bracket=interval)\n",
    "\n",
    "print(f\"Kořeny jsou v bodech {result.root} a mají hodnoty {f(result.root)}.\")"
   ]
  }
 ],
 "metadata": {
  "anaconda-cloud": {},
  "kernelspec": {
   "display_name": "Python 3",
   "language": "python",
   "name": "python3"
  },
  "language_info": {
   "codemirror_mode": {
    "name": "ipython",
    "version": 3
   },
   "file_extension": ".py",
   "mimetype": "text/x-python",
   "name": "python",
   "nbconvert_exporter": "python",
   "pygments_lexer": "ipython3",
   "version": "3.11.8"
  }
 },
 "nbformat": 4,
 "nbformat_minor": 4
}
