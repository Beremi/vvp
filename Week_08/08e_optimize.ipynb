{
 "cells": [
  {
   "cell_type": "code",
   "execution_count": null,
   "metadata": {},
   "outputs": [],
   "source": [
    "import scipy as sp\n",
    "import numpy as np\n",
    "import matplotlib.pyplot as plt"
   ]
  },
  {
   "attachments": {},
   "cell_type": "markdown",
   "metadata": {},
   "source": [
    "## `SciPy.optimize`: Numerické optimalizace\n",
    "Tento modul obsahuje nástroje pro numerickou optimalizaci. Obsahuje velké množství funkcí, zde si ukážeme pouze dva vzorové příklady.\n",
    "\n",
    "- **Hledání minima funkce** - například pomocí `fmin`, `fmin_bound`, ...\n",
    "- **Hledání kořenů funkce** - například pomocí `fsolve`, `root`, `root_scalar`, ..."
   ]
  },
  {
   "cell_type": "code",
   "execution_count": null,
   "metadata": {},
   "outputs": [],
   "source": [
    "import scipy.optimize as opt\n",
    "\n",
    "f = lambda x: 10 * np.sin(x) + 0.1 * x + 0.1 * x*x\n",
    "x = np.linspace(-4 * np.pi, 4 * np.pi, 100)\n",
    "plt.plot(x, f(x))"
   ]
  },
  {
   "cell_type": "code",
   "execution_count": null,
   "metadata": {},
   "outputs": [],
   "source": [
    "# nalezení minima funkce\n",
    "# funkce fmin() má parametr x0, kterým se nastavuje počáteční bod\n",
    "x_min = opt.fmin(func=f, x0=0)\n",
    "print(f\"Minimum je v bodě {x_min} a má hodnotu {f(x_min)}.\")\n"
   ]
  },
  {
   "cell_type": "code",
   "execution_count": null,
   "metadata": {},
   "outputs": [],
   "source": [
    "# co se stane když nastavíme x0 daleko od minima?\n",
    "x_min = opt.fmin(func=f, x0=10)\n",
    "print(f\"Minimum je v bodě {x_min} a má hodnotu {f(x_min)}.\")\n",
    "# najde nejbližší lokální minimum!\n"
   ]
  },
  {
   "cell_type": "code",
   "execution_count": null,
   "metadata": {},
   "outputs": [],
   "source": [
    "# pokud víme, že je minimum v nějakém intervalu, můžeme použít fminbound()\n",
    "x_min = opt.fminbound(func=f, x1=-10, x2=10)\n",
    "print(f\"Minimum je v bodě {x_min} a má hodnotu {f(x_min)}.\")"
   ]
  },
  {
   "cell_type": "code",
   "execution_count": null,
   "metadata": {},
   "outputs": [],
   "source": [
    "# hledání kořenů funkce\n",
    "# funkce fsolve() má parametr x0, kterým se nastavuje počáteční bod\n",
    "x_root = opt.fsolve(func=f, x0=5)\n",
    "print(f\"Kořen je v bodě {x_root} a má hodnotu {f(x_root)}.\")"
   ]
  },
  {
   "cell_type": "code",
   "execution_count": null,
   "metadata": {},
   "outputs": [],
   "source": [
    "# hledání všech kořenů na intervalu je složitější\n",
    "# nejprve musíme najít intervaly, kde funkce mění znaménko\n",
    "\n",
    "a, b = -20, 20 # budeme hledat kořeny na intervalu <a, b>\n",
    "resolution = 1000\n",
    "\n",
    "# Identify the subintervals where the function changes sign\n",
    "x_vals = np.linspace(a, b, resolution)\n",
    "sign_changes = []\n",
    "\n",
    "# projdeme všechny body na intervalu a zjistíme, kde se znaménko funkce mění\n",
    "for i in range(len(x_vals) - 1):\n",
    "    if np.sign(f(x_vals[i])) != np.sign(f(x_vals[i + 1])):\n",
    "        sign_changes.append((x_vals[i], x_vals[i + 1]))\n",
    "\n",
    "# pro všechny dvojice, kde se znaménko mění, použijeme root_scalar()\n",
    "roots = []\n",
    "for interval in sign_changes:\n",
    "    result = opt.root_scalar(f, bracket=interval)\n",
    "    roots.append(result.root)\n",
    "\n",
    "roots = np.array(roots)\n",
    "\n",
    "print(f\"Kořeny jsou v bodech {roots} a mají hodnoty {f(roots)}.\")\n"
   ]
  }
 ],
 "metadata": {
  "anaconda-cloud": {},
  "kernelspec": {
   "display_name": "Python 3",
   "language": "python",
   "name": "python3"
  },
  "language_info": {
   "codemirror_mode": {
    "name": "ipython",
    "version": 3
   },
   "file_extension": ".py",
   "mimetype": "text/x-python",
   "name": "python",
   "nbconvert_exporter": "python",
   "pygments_lexer": "ipython3",
   "version": "3.11.8"
  }
 },
 "nbformat": 4,
 "nbformat_minor": 4
}
