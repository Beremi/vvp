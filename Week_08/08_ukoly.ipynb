{
 "cells": [
  {
   "cell_type": "markdown",
   "metadata": {},
   "source": [
    "# Úkoly"
   ]
  },
  {
   "cell_type": "markdown",
   "metadata": {},
   "source": [
    "## SciPy Special"
   ]
  },
  {
   "cell_type": "code",
   "execution_count": null,
   "metadata": {},
   "outputs": [],
   "source": [
    "import scipy.special as special\n",
    "import numpy as np\n",
    "import matplotlib.pyplot as plt"
   ]
  },
  {
   "cell_type": "markdown",
   "metadata": {},
   "source": [
    "1. Výpočet Eulerovy konstanty:\n",
    "\n",
    "- spočtěte Eulerovu konstantu $\\gamma$ pomocí funkce `digamma` z modulu `scipy.special`\n",
    "    - Eulerova konstanta se dá spočítat jako $\\gamma = -\\psi(1)$, kde $\\psi$ je digamma funkce\n",
    "- porovnejte výsledek s definicí Eulerovy konstanty (pro $n = 100, 1000, ...$) $$\\gamma = \\lim_{n \\to \\infty} \\left(- \\ln(n) + \\sum_{k=1}^n \\frac{1}{k} \\right)$$"
   ]
  },
  {
   "cell_type": "code",
   "execution_count": null,
   "metadata": {},
   "outputs": [],
   "source": []
  },
  {
   "cell_type": "markdown",
   "metadata": {},
   "source": [
    "2. Vykreslete Beta funci na intervalu $[1, 2]\\times[1, 2]$ "
   ]
  },
  {
   "cell_type": "code",
   "execution_count": null,
   "metadata": {},
   "outputs": [],
   "source": []
  },
  {
   "cell_type": "markdown",
   "metadata": {},
   "source": [
    "## SciPy Sparse"
   ]
  },
  {
   "cell_type": "code",
   "execution_count": null,
   "metadata": {},
   "outputs": [],
   "source": [
    "import scipy.sparse as sparse\n",
    "import scipy.sparse.linalg as sla\n",
    "import numpy as np\n",
    "import matplotlib.pyplot as plt"
   ]
  },
  {
   "cell_type": "markdown",
   "metadata": {},
   "source": [
    "1. Sestavení řídkých matic. Sestavte sparse matici `A` ve formátu CSR. Representující následující matici:\n",
    "```\n",
    "[[1 1 0 0]\n",
    " [1 3 1 0]\n",
    " [0 1 5 1]\n",
    " [0 0 1 7]]\n",
    " ```\n",
    "- Použijte sestavení pomocí seznamu indexů a hodnot.\n"
   ]
  },
  {
   "cell_type": "code",
   "execution_count": null,
   "metadata": {},
   "outputs": [],
   "source": []
  },
  {
   "cell_type": "markdown",
   "metadata": {},
   "source": [
    "2. Řešení série soustav lineárních rovnic se stejnou maticí `A` a různými pravými stranami `b`:\n",
    "- sestavte LU faktorizaci matice `A`\n",
    "- řešte soustavu rovnic pro pravé strany `b1 = [1, 2, 3, 4]` a `b2 = [4, 3, 2, 1]` pomocí spočtené LU faktorizace\n"
   ]
  },
  {
   "cell_type": "code",
   "execution_count": null,
   "metadata": {},
   "outputs": [],
   "source": []
  },
  {
   "cell_type": "markdown",
   "metadata": {},
   "source": [
    "3. Spektrální rozklad:\n",
    "- Spočítejte největší vlastní číslo a příslušný vlastní vektor matice A z úlohy 1."
   ]
  },
  {
   "cell_type": "code",
   "execution_count": null,
   "metadata": {},
   "outputs": [],
   "source": []
  },
  {
   "cell_type": "markdown",
   "metadata": {},
   "source": [
    "## SciPy FFTpack"
   ]
  },
  {
   "cell_type": "code",
   "execution_count": null,
   "metadata": {},
   "outputs": [],
   "source": [
    "from IPython.display import Audio\n",
    "import scipy as sp\n",
    "import numpy as np\n",
    "import matplotlib.pyplot as plt\n",
    "from scipy import fftpack\n",
    "\n",
    "fs, signal = sp.io.wavfile.read('butterfly_noise.wav')\n",
    "signal = signal / np.max(np.abs(signal))\n",
    "Audio(data=signal, rate=fs)"
   ]
  },
  {
   "cell_type": "markdown",
   "metadata": {},
   "source": [
    "1. Pokuste se odstranit šum z nahrávky pomocí Fourierovy transformace:\n",
    "- spočtěte Fourierovu transformaci nahrávky (`fft`)\n",
    "- vykreslete si amplitudové spektrum (`abs` výsledku předchozího bodu) a zhodnoťte hranici mezi šumem a signálem\n",
    "- odstraňte šum z amplitudového spektra a spočtěte inverzní Fourierovu transformaci (`ifft`)\n",
    "- přehrajte si reálnou složku výsledku `Audio(data=np.real(filtered_signal), rate=fs)`"
   ]
  },
  {
   "cell_type": "code",
   "execution_count": null,
   "metadata": {},
   "outputs": [],
   "source": []
  },
  {
   "cell_type": "markdown",
   "metadata": {},
   "source": [
    "## SciPy Optimize"
   ]
  },
  {
   "cell_type": "code",
   "execution_count": null,
   "metadata": {},
   "outputs": [],
   "source": [
    "import scipy.optimize as opt"
   ]
  },
  {
   "cell_type": "markdown",
   "metadata": {},
   "source": [
    "1. Nalezněte globální maximum funkce $$f(x) = \\exp(-x^2) - 1.1 \\cdot \\exp(-(x-2)^2)$$"
   ]
  },
  {
   "cell_type": "code",
   "execution_count": null,
   "metadata": {},
   "outputs": [],
   "source": [
    "x = np.linspace(-5, 5, 1000)\n",
    "y = np.exp(-x**2) + 1.1*np.exp(-(x-2)**2)\n",
    "plt.plot(x, y)\n",
    "plt.grid()"
   ]
  },
  {
   "cell_type": "code",
   "execution_count": null,
   "metadata": {},
   "outputs": [],
   "source": []
  },
  {
   "cell_type": "markdown",
   "metadata": {},
   "source": [
    "2. Nalezněte všechny kořeny funkce $f(x) = 7.875 \\cdot x^5 - 8.75 \\cdot x^3 + 1.875 \\cdot x$ na intervalu $[-1, 1]$."
   ]
  },
  {
   "cell_type": "code",
   "execution_count": null,
   "metadata": {},
   "outputs": [],
   "source": [
    "def f(x): return 7.875 * x**5 - 8.75 * x**3 + 1.875 * x\n"
   ]
  },
  {
   "cell_type": "markdown",
   "metadata": {},
   "source": [
    "## SciPy Interpolate"
   ]
  },
  {
   "cell_type": "markdown",
   "metadata": {},
   "source": [
    "1. Spočtěte lineární a kubickou interpolaci bodů $(0, 0), (1, 1), (2, 0), (3, 1)$ na intervalu $[0, 3]$ a vše vykreslete."
   ]
  },
  {
   "cell_type": "code",
   "execution_count": null,
   "metadata": {},
   "outputs": [],
   "source": []
  },
  {
   "cell_type": "markdown",
   "metadata": {},
   "source": [
    "2. Pro stejné body spočtěte aproximaci polynomem stupně 2 a vykreslete."
   ]
  },
  {
   "cell_type": "code",
   "execution_count": null,
   "metadata": {},
   "outputs": [],
   "source": []
  },
  {
   "cell_type": "markdown",
   "metadata": {},
   "source": [
    "## SciPy Integrate"
   ]
  },
  {
   "cell_type": "code",
   "execution_count": null,
   "metadata": {},
   "outputs": [],
   "source": [
    "import scipy.integrate as spi"
   ]
  },
  {
   "cell_type": "markdown",
   "metadata": {},
   "source": [
    "1. Spočtěte integrál funkce $f(x) = x^2$ na intervalu $[1, 2]$ pomocí funkce `quad`."
   ]
  },
  {
   "cell_type": "code",
   "execution_count": null,
   "metadata": {},
   "outputs": [],
   "source": []
  },
  {
   "cell_type": "markdown",
   "metadata": {},
   "source": [
    "2. Spočtěte integrál funkce $f(x) = \\exp(-x)$ na intervalu $[0, \\infty]$ pomocí funkce `quad`."
   ]
  },
  {
   "cell_type": "code",
   "execution_count": null,
   "metadata": {},
   "outputs": [],
   "source": []
  },
  {
   "cell_type": "markdown",
   "metadata": {},
   "source": [
    "3. Spočtěte průběh radioaktivního rozpadu:\n",
    "- rychlost úbytku radioaktivní látky (její hmotnosti) je úměrná aktuální hmotnosti látky $$m'(t) = -\\lambda m(t)$$\n",
    "    - kde $\\lambda$ je konstanta pocházející z poločasu rozpadu\n",
    "- spočtěte hmotnost látky v čase $t \\in [0, 100]$ pro $m(0) = 1$ a $\\lambda = 0.1$ pomocí funkce `odeint`"
   ]
  },
  {
   "cell_type": "code",
   "execution_count": null,
   "metadata": {},
   "outputs": [],
   "source": []
  }
 ],
 "metadata": {
  "kernelspec": {
   "display_name": "Python 3",
   "language": "python",
   "name": "python3"
  },
  "language_info": {
   "codemirror_mode": {
    "name": "ipython",
    "version": 3
   },
   "file_extension": ".py",
   "mimetype": "text/x-python",
   "name": "python",
   "nbconvert_exporter": "python",
   "pygments_lexer": "ipython3",
   "version": "3.11.8"
  },
  "orig_nbformat": 4
 },
 "nbformat": 4,
 "nbformat_minor": 2
}
