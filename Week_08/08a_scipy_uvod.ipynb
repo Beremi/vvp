{
 "cells": [
  {
   "attachments": {},
   "cell_type": "markdown",
   "metadata": {},
   "source": [
    "# SciPy\n",
    "[SciPy](http://scipy.org/scipylib/index.html) je základní knihovnou, obsahující všemožné nástroje pro vědecké výpočty. Najdeme v ní širokou škálu funkcí a algoritmů:"
   ]
  },
  {
   "cell_type": "code",
   "execution_count": null,
   "metadata": {},
   "outputs": [],
   "source": [
    "# toto je typický import scipy\n",
    "import scipy as sp"
   ]
  },
  {
   "cell_type": "code",
   "execution_count": null,
   "metadata": {},
   "outputs": [],
   "source": [
    "dir(sp)"
   ]
  },
  {
   "attachments": {},
   "cell_type": "markdown",
   "metadata": {},
   "source": [
    "Přehled modulů:\n",
    "1. `scipy.cluster` - Tento modul obsahuje algoritmy pro shlukování, jako jsou k-means a hierarchické shlukování.\n",
    "2. `scipy.constants` - Obsahuje fyzikální a matematické konstanty.\n",
    "3. `scipy.fftpack` - Slouží k rychlé Fourierově transformaci a jejím inverzním operacím.\n",
    "4. `scipy.integrate` - Poskytuje nástroje pro integraci funkcí a řešení obyčejných diferenciálních rovnic.\n",
    "5. `scipy.interpolate` - Nabízí metody pro interpolaci a vyhlazování dat.\n",
    "6. `scipy.io` - Umožňuje načítání a ukládání dat ve formátech, které jsou běžně používány ve vědeckých aplikacích.\n",
    "7. `scipy.linalg` - Obsahuje nástroje lineární algebry, jako jsou řešení soustav lineárních rovnic, vlastní hodnoty, maticové dekompozice atd.\n",
    "8. `scipy.ndimage` - Zabývá se zpracováním obrazů v n-rozměrném prostoru.\n",
    "9. `scipy.odr` - Poskytuje nástroje pro ortogonální vzdálenostní regresi.\n",
    "10. `scipy.optimize` - Obsahuje optimalizační algoritmy pro minimalizaci a nalezení kořenů funkcí.\n",
    "11. `scipy.signal` - Nabízí nástroje pro analýzu, syntézu a zpracování signálů.\n",
    "12. `scipy.sparse` - Obsahuje rutiny pro práci s řídkými maticemi a souvisejícími lineárně algebrickými problémy.\n",
    "13. `scipy.spatial` - Nabízí algoritmy a funkce pro práci s prostorovými daty a geometrií.\n",
    "14. `scipy.special` - Poskytuje speciální funkce matematické fyziky a aplikované matematiky.\n",
    "15. `scipy.stats` - Obsahuje statistické distribuce, testy a další statistické funkce.\n",
    "\n",
    "Zde si ukážeme pouze malou ochutnávku z některých těchto modulů, konkrétně:\n",
    "- `scipy.special`\n",
    "- `scipy.sparse`\n",
    "- `scipy.fftpack`\n",
    "- `scipy.optimize`\n",
    "- `scipy.interpolate`\n",
    "- `scipy.integrate`\n"
   ]
  }
 ],
 "metadata": {
  "anaconda-cloud": {},
  "kernelspec": {
   "display_name": "Python 3",
   "language": "python",
   "name": "python3"
  },
  "language_info": {
   "codemirror_mode": {
    "name": "ipython",
    "version": 3
   },
   "file_extension": ".py",
   "mimetype": "text/x-python",
   "name": "python",
   "nbconvert_exporter": "python",
   "pygments_lexer": "ipython3",
   "version": "3.13.2"
  }
 },
 "nbformat": 4,
 "nbformat_minor": 4
}
