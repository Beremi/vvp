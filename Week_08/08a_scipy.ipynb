{
 "cells": [
  {
   "attachments": {},
   "cell_type": "markdown",
   "metadata": {},
   "source": [
    "# SciPy\n",
    "[SciPy](http://scipy.org/scipylib/index.html) je základní knihovnou, obsahující všemožné nástroje pro vědecké výpočty. Najdeme v ní širokou škálu funkcí a algoritmů:"
   ]
  },
  {
   "cell_type": "code",
   "execution_count": null,
   "metadata": {},
   "outputs": [],
   "source": [
    "# toto je typický import scipy\n",
    "import scipy as sp"
   ]
  },
  {
   "cell_type": "code",
   "execution_count": null,
   "metadata": {},
   "outputs": [],
   "source": [
    "dir(sp)"
   ]
  },
  {
   "attachments": {},
   "cell_type": "markdown",
   "metadata": {},
   "source": [
    "Přehled modulů:\n",
    "1. `scipy.cluster` - Tento modul obsahuje algoritmy pro shlukování (k-means, hierarchické shlukování).\n",
    "2. `scipy.constants` - Obsahuje fyzikální a matematické konstanty.\n",
    "3. `scipy.fftpack` - Slouží k rychlé Fourierově transformaci a jejím inverzním operacím.\n",
    "4. `scipy.integrate` - Poskytuje nástroje pro integraci funkcí a řešení obyčejných diferenciálních rovnic.\n",
    "5. `scipy.interpolate` - Nabízí metody interpolace a vyhlazování dat.\n",
    "6. `scipy.io` - Umožňuje načítání a ukládání dat ve formátech, které jsou běžně používány ve vědeckých aplikacích.\n",
    "7. `scipy.linalg` - Obsahuje lineární algebru, jako jsou řešení soustav lineárních rovnic, vlastní hodnoty, maticové dekompozice atd.\n",
    "8. `scipy.ndimage` - Zabývá se zpracováním obrazů v n-rozměrném prostoru.\n",
    "9. `scipy.odr` - Poskytuje nástroje pro průběh ortogonálního vzdálenostního regresního modelu.\n",
    "10. `scipy.optimize` - Obsahuje optimalizační algoritmy pro minimalizaci a nalezení kořenů funkcí.\n",
    "11. `scipy.signal` - Nabízí nástroje pro analýzu, syntézu a zpracování signálů.\n",
    "12. `scipy.sparse` - Obsahuje rutiny pro práci s řídkými maticemi a souvisejícími lineárními algebrickými problémy.\n",
    "13. `scipy.spatial` - Nabízí algoritmy a funkce pro práci s prostorovými daty a geometrií.\n",
    "14. `scipy.special` - Poskytuje speciální funkce matematické fyziky a aplikované matematiky.\n",
    "15. `scipy.stats` - Obsahuje statistické distribuce, testy a další statistické funkce.\n",
    "\n",
    "Zde si ukážeme pouze malou ochutnávku z některých těchto modulů, konkrétně:\n",
    "- `scipy.special`\n",
    "- `scipy.sparse`\n",
    "- `scipy.fftpack`\n",
    "- `scipy.optimize`\n",
    "- `scipy.interpolate`\n",
    "- `scipy.integrate`\n"
   ]
  },
  {
   "attachments": {},
   "cell_type": "markdown",
   "metadata": {},
   "source": [
    "## `SciPy.special`:  Něco na zahřátí = speciální funkce\n",
    "\n",
    "Speciální funkce jsou často řešením vědeckých úloh. Jejich implementace je v mnoha případech poměrně náročná. Proto existují knihovny jako je `scipy.special`: http://docs.scipy.org/doc/scipy/reference/special.html#module-scipy.special. "
   ]
  },
  {
   "cell_type": "code",
   "execution_count": null,
   "metadata": {},
   "outputs": [],
   "source": [
    "import scipy.special as sps"
   ]
  },
  {
   "cell_type": "code",
   "execution_count": null,
   "metadata": {},
   "outputs": [],
   "source": [
    "print([m for m in dir(sps) if not m.startswith(\"_\")])\n"
   ]
  },
  {
   "attachments": {},
   "cell_type": "markdown",
   "metadata": {},
   "source": [
    "Funkcí je zde opravdu mnoho, například:\n",
    "\n",
    "- **gamma(z)** - Gama funkce, která se obecně používá v matematice, statistice a inženýrství.\n",
    "- **beta(a, b)** - Beta funkce, která se často používá v pravděpodobnostní teorii a statistice.\n",
    "- **erf(x)** - Chybová funkce, používaná především v teorii pravděpodobnosti a statistice.\n",
    "- **erfinv(x)** - Inverzní chybová funkce, která umožňuje získat hodnotu, pro kterou platí erf(erfinv(x)) = x.\n",
    "- **expit(x)** - Logistická funkce, používaná především v logistické regresi.\n",
    "- **iv(v, z)** - Modifikovaná Besselova funkce prvního druhu s obecným řádem.\n",
    "- **jn(n, x)** - Besselova funkce prvního druhu s obecným řádem.\n",
    "- **yn(n, x)** - Besselova funkce druhého druhu s obecným řádem.\n",
    "- **kv(v, x)** - Modifikovaná Besselova funkce druhého druhu s obecným řádem.\n",
    "- **zeta(x)** - Riemannova zeta funkce, která se používá v teorii čísel.\n",
    "- **legendre(n, x)** - Legendreovy polynomy, používané v teorii potenciálu a numerických metodách.\n",
    "- **chebyt(n, x)** - Čebyševovy polynomy prvního druhu.\n",
    "- a mnoho dalších."
   ]
  },
  {
   "attachments": {},
   "cell_type": "markdown",
   "metadata": {},
   "source": [
    "Podíváme se např. na Besselovy funkce.\n",
    "\n",
    "Jednoduché vyčíslení funkcí s daným vstupem."
   ]
  },
  {
   "cell_type": "code",
   "execution_count": null,
   "metadata": {},
   "outputs": [],
   "source": [
    "n = 0    # řád funkce\n",
    "x = 0.0\n",
    "\n",
    "# Besseova funkce prvního druhu s nulovým řádem\n",
    "print(f\"J_{n}({x}) = {sps.jn(n, x)}\")\n",
    "\n",
    "n = 2    # řád funkce\n",
    "x = 1.0\n",
    "# Besseova funkce druhého druhu s druhým řádem\n",
    "print(f\"Y_{n}({x}) = {sps.yn(n, x)}\")\n"
   ]
  },
  {
   "cell_type": "markdown",
   "metadata": {},
   "source": [
    "Funkce jsou samozřejmě vektorové, pomocí `matplotlib` si jednoduše nakreslíme graf."
   ]
  },
  {
   "cell_type": "code",
   "execution_count": null,
   "metadata": {},
   "outputs": [],
   "source": [
    "import numpy as np\n",
    "import matplotlib.pyplot as plt\n",
    "\n",
    "x = np.linspace(0, 10, 100)\n",
    "\n",
    "fig, ax = plt.subplots()\n",
    "\n",
    "for n in range(10):\n",
    "    ax.plot(x, sps.jn(n, x), label=f\"$J_{n}(x)$\")\n",
    "    ax.legend(loc=\"lower right\", ncol=5)\n",
    "    ax.set_xlabel(\"x\")\n",
    "    ax.set_ylim(-1, 1)\n",
    "    ax.set_xlim(0, 10)"
   ]
  },
  {
   "attachments": {},
   "cell_type": "markdown",
   "metadata": {},
   "source": [
    "Často potřebujeme spočítat kořeny funckcí = místa kde se protíná s osou x. V `scipy.special` je k dispozici mnoho funkcí, které tyto kořeny pro nás najdou. Například:"
   ]
  },
  {
   "cell_type": "code",
   "execution_count": null,
   "metadata": {},
   "outputs": [],
   "source": [
    "n = 0  # order\n",
    "m = 3  # počet kořenů k nalezení (hledá se od nuly dál v kladném směru)\n",
    "sol = sps.jn_zeros(n, m)\n",
    "print('Kořeny:', sol)\n",
    "\n",
    "# zkouška\n",
    "print('This should be (almost) zero:', sps.jn(n, sol))\n"
   ]
  },
  {
   "attachments": {},
   "cell_type": "markdown",
   "metadata": {},
   "source": [
    "## `SciPy.sparse`: Řídké matice\n",
    "\n",
    "Scipy.sparse je podmodul knihovny Scipy, který poskytuje datové struktury a algoritmy pro práci s řídkými maticemi. Ŕídké matice osahují jen málé procento nenulových prvků, proto se vyplatí s nimi zacházet speciálním způsobem, včetně uložení v paměti. I s tímto nám SciPy může výrazně pomoci.\n",
    "\n",
    "**Scipy.sparse nabízí několik datových struktur pro reprezentaci řídkých matic, nejčastější jsou tyto:**\n",
    "\n",
    "1. **coo_matrix**: koordinátní formát matice, kde jsou nenulové prvky uloženy jako souřadnice (řádek, sloupec) a hodnoty.\n",
    "2. **csr_matrix**: řídká matice ve formátu Compressed Sparse Row, vhodná pro rychlé aritmetické operace a řádkové přístupy.\n",
    "3. **csc_matrix**: řídká matice ve formátu Compressed Sparse Column, vhodná pro rychlé aritmetické operace a sloupcové přístupy.\n",
    "4. **lil_matrix**: řídká matice ve formátu List of Lists, vhodná pro rychlé modifikace matice.\n",
    "\n",
    "Jednotlivé formáty se liší v rychlosti jednotlivých operací a paměťové náročnosti."
   ]
  },
  {
   "cell_type": "code",
   "execution_count": null,
   "metadata": {},
   "outputs": [],
   "source": [
    "import numpy as np\n",
    "from scipy.sparse import csr_matrix, csc_matrix, coo_matrix, lil_matrix\n",
    "\n",
    "data = np.array([1, 2, 4, 5, 6])\n",
    "row_indices = np.array([0, 0, 2, 2, 2])\n",
    "col_indices = np.array([0, 2, 0, 1, 2])\n",
    "\n",
    "# což odpovídá plné matici\n",
    "full_matrix = np.array([[1, 0, 2],\n",
    "                        [0, 0, 0],\n",
    "                        [4, 5, 6]])\n",
    "\n",
    "print(\"Full matrix:\")\n",
    "print(full_matrix)\n",
    "print()\n",
    "\n",
    "# CSR matrix\n",
    "csr = csr_matrix((data, (row_indices, col_indices)))\n",
    "print(\"CSR format:\")\n",
    "print(\"data:\", csr.data)\n",
    "print(\"indices:\", csr.indices)\n",
    "print(\"indptr:\", csr.indptr)\n",
    "print()\n",
    "\n",
    "# CSC matrix\n",
    "csc = csc_matrix((data, (row_indices, col_indices)))\n",
    "print(\"CSC format:\")\n",
    "print(\"data:\", csc.data)\n",
    "print(\"indices:\", csc.indices)\n",
    "print(\"indptr:\", csc.indptr)\n",
    "print()\n",
    "\n",
    "# COO matrix\n",
    "coo = coo_matrix((data, (row_indices, col_indices)))\n",
    "print(\"COO format:\")\n",
    "print(\"data:\", coo.data)\n",
    "print(\"row:\", coo.row)\n",
    "print(\"col:\", coo.col)\n",
    "print()\n",
    "\n",
    "# LIL matrix\n",
    "lil = lil_matrix((3, 3))\n",
    "lil[0, 0] = 1\n",
    "lil[0, 2] = 2\n",
    "lil[2, 0] = 4\n",
    "lil[2, 1] = 5\n",
    "lil[2, 2] = 6\n",
    "print(\"LIL format:\")\n",
    "print(\"data:\", lil.data)\n",
    "print(\"rows:\", lil.rows)\n",
    "print()\n"
   ]
  },
  {
   "attachments": {},
   "cell_type": "markdown",
   "metadata": {},
   "source": [
    "Řídké matice můžeme jednoduše převádět z jednoho formátu do druhého. Navíc můžeme využít funkce `todense()`, která nám řídkou matici převede na obyčejnou NumPy plnou matici."
   ]
  },
  {
   "cell_type": "code",
   "execution_count": null,
   "metadata": {},
   "outputs": [],
   "source": [
    "from scipy.sparse import csr_matrix, lil_matrix, csc_matrix\n",
    "A = np.array([[1, 0, 2], [0, 0, 0], [4, 5, 6]])\n",
    "\n",
    "# Konverze z COO na CSR\n",
    "A_csr = csr_matrix(A)\n",
    "print(repr(A_csr))\n",
    "\n",
    "# Konverze z COO na LIL\n",
    "A_lil = lil_matrix(A_csr)\n",
    "print(repr(A_lil))\n",
    "\n",
    "# Konverze na full matici\n",
    "A_full = A_csr.todense()\n",
    "print(repr(A_full))"
   ]
  },
  {
   "attachments": {},
   "cell_type": "markdown",
   "metadata": {},
   "source": [
    "Řídkou matici je nejlépe vytvořit pomocí seznamu souřadnic nenulových prvků a jejich hodnot, případně přímo pomocí indexů v CSR/CSC formátu. Snažíme se za každou cenu vyhnout se vytváření plných matic.\n",
    "\n",
    "Při vytváření řídkých matic, kdy chceme hodnoty postupně přidávat, je třeba použít `lil_matrix`. V případě ostatních formátů je přidávání hodnot do existujících matic extrémě pomalé.\n",
    "\n",
    "Při vytváření řídkých matic pomocí pozic a hodnot nenulových prvků lze mít v seznamu více hodnot se stejnou pozicí. V takovém případě se hodnoty se stejnou pozicí sečtou. Toto je extrémně užitečné při sestavování matic např. pro metodou konečných prvků (potkáte se s ní v předmětu NM2)."
   ]
  },
  {
   "cell_type": "code",
   "execution_count": null,
   "metadata": {},
   "outputs": [],
   "source": [
    "# řídká matice z COO s více hodnotami ve stejných buňkách\n",
    "indexy_radku = np.array([0, 0, 1, 1, 2, 2, 0, 0, 1, 1, 2, 2])\n",
    "indexy_sloupcu = np.array([0, 2, 0, 2, 0, 2, 0, 2, 0, 2, 0, 2])\n",
    "data = np.array([1, 2, 3, 4, 5, 6, 5, 4, 3, 2, 1, 0])\n",
    "\n",
    "A = coo_matrix((data, (indexy_radku, indexy_sloupcu)))\n",
    "print(A.todense())"
   ]
  },
  {
   "attachments": {},
   "cell_type": "markdown",
   "metadata": {},
   "source": [
    "**Vytváření řídkých se specifickými vlastnostmi**\n",
    "- `sp.eye(n)` - vytvoří jednotkovou matici o velikosti n x n.\n",
    "- `sp.diags(diagonals, offsets)` - vytvoří matici s hodnotami na diagonálách `diagonals` a offsety `offsets`."
   ]
  },
  {
   "attachments": {},
   "cell_type": "markdown",
   "metadata": {},
   "source": [
    "### `scipy.sparse.linalg`: Lineární algebra pro řídké systémy\n",
    "\n",
    "Scipy.sparse.linalg je podmodul knihovny Scipy, který poskytuje algoritmy pro řešení lineárních systémů s řídkými maticemi. Výhodou řídkých matic je jejich rychlost v případě velkých matic, které jsou ve skutečnosti velmi řídké.\n",
    "\n",
    "- `spsolve` - řeší soustavu lineárních rovnic s řídkou maticí.\n",
    "- `spsolve_triangular` - řeší soustavu lineárních rovnic s řídkou maticí, která je trojúhelníková.\n",
    "- `cg` - sdružené gradienty, iterativní algoritmus pro řešení soustav lineárních rovnic.\n",
    "- `gmres` - Generalized Minimal Residual, iterativní algoritmus pro řešení soustav lineárních rovnic s řídkými maticemi.\n",
    "- `minres` - Minimal Residual, iterativní algoritmus pro řešení soustav lineárních rovnic s řídkými maticemi.\n",
    "- `norm` - vypočítá různé normy matice.\n",
    "- `eigs` - najde několik největších nebo nejmenších vlastních hodnot a vlastních vektorů řídké matice.\n",
    "- `svds` - najde několik největších singulárních hodnot a vektorů řídké matice.\n",
    "- `splu` - rozkládá matici na L a U faktory pomocí LU rozkladu.\n",
    "- `spilu` - rozkládá matici na L a U faktory pomocí neúplného LU rozkladu (ILU).\n"
   ]
  },
  {
   "cell_type": "code",
   "execution_count": null,
   "metadata": {},
   "outputs": [],
   "source": [
    "# vytvoříme třídiagonální řídkou matici s 2 na hlavní diagonále a -1 na vedlejších diagonálách\n",
    "n = 5\n",
    "A = sp.sparse.diags([-1, 2, -1], [-1, 0, 1], shape=(n, n), format=\"csc\")\n",
    "print(repr(A))\n",
    "# a pravou stranu\n",
    "b = np.ones(n)/n"
   ]
  },
  {
   "cell_type": "code",
   "execution_count": null,
   "metadata": {},
   "outputs": [],
   "source": [
    "import matplotlib.pyplot as plt\n",
    "\n",
    "# vyřešíme soustavu přímím řešičem\n",
    "x = sp.sparse.linalg.spsolve(A, b)\n",
    "plt.plot(x)"
   ]
  },
  {
   "cell_type": "code",
   "execution_count": null,
   "metadata": {},
   "outputs": [],
   "source": [
    "# sestavíme LU dekompozici a použijeme ji pro řešení soustavy\n",
    "\n",
    "# LU dekompozice vrací speciální objekt obsahující všechny potřebné součásti dekompozice\n",
    "lu_decomp = sp.sparse.linalg.splu(A)\n",
    "print(lu_decomp)"
   ]
  },
  {
   "cell_type": "code",
   "execution_count": null,
   "metadata": {},
   "outputs": [],
   "source": [
    "\n",
    "# obtain matrices L, U and permutation P (ordering vector)\n",
    "L = lu_decomp.L\n",
    "U = lu_decomp.U\n",
    "P_permutace = lu_decomp.perm_c\n",
    "\n",
    "print(\"Lower triangular matrix L:\")\n",
    "print(repr(L))\n",
    "print(L.todense())\n",
    "print()\n",
    "\n",
    "print(\"Upper triangular matrix U:\")\n",
    "print(repr(U))\n",
    "print(U.todense())\n",
    "print()\n",
    "\n",
    "print(\"Permutation matrix P:\")\n",
    "print(P_permutace)\n",
    "\n",
    "# sestavíme permutační matici P z vektoru P\n",
    "# syntaxe byla: csc_matrix((data, (indexy_radku, indexy_sloupcu)))\n",
    "P = csc_matrix((np.ones_like(P_permutace), (P_permutace, np.arange(n))))\n",
    "print(P.todense())"
   ]
  },
  {
   "cell_type": "code",
   "execution_count": null,
   "metadata": {},
   "outputs": [],
   "source": [
    "print(\"P^T * L * U * P:\")\n",
    "print((P.T @ L @ U @ P).todense())\n",
    "print()\n",
    "print(\"A:\")\n",
    "print(A.todense())\n"
   ]
  },
  {
   "cell_type": "code",
   "execution_count": null,
   "metadata": {},
   "outputs": [],
   "source": [
    "# při řešení s dekompozicí musíme řešit soustavu P^T * L * U * P * x = b\n",
    "# tedy nejdříve řešíme soustavu L * y = P^T * b\n",
    "y = sp.sparse.linalg.spsolve_triangular(L, P @ b, lower=True)\n"
   ]
  },
  {
   "cell_type": "code",
   "execution_count": null,
   "metadata": {},
   "outputs": [],
   "source": [
    "# a poté soustavu U * P * x = y\n",
    "x = P.T @ sp.sparse.linalg.spsolve_triangular(U, y, lower=False)\n"
   ]
  },
  {
   "cell_type": "code",
   "execution_count": null,
   "metadata": {},
   "outputs": [],
   "source": [
    "plt.plot(x)"
   ]
  },
  {
   "cell_type": "code",
   "execution_count": null,
   "metadata": {},
   "outputs": [],
   "source": [
    "# řešení pomocí LU dekompozice lze udělat i jednodušeji\n",
    "x = lu_decomp.solve(b)\n",
    "plt.plot(x)"
   ]
  },
  {
   "cell_type": "code",
   "execution_count": null,
   "metadata": {},
   "outputs": [],
   "source": [
    "# spočítáme vlastní čísla a vlastní vektory\n",
    "# eigs počítá vlastní čísla a vlastní vektory pro obecnou matici\n",
    "# eigsh počítá vlastní čísla a vlastní vektory pro symetrickou matici\n",
    "\n",
    "w, v = sp.sparse.linalg.eigsh(A, k=3)\n",
    "print(\"Eigenvalues:\")\n",
    "print(w)\n",
    "print()\n",
    "print(\"Eigenvectors:\")\n",
    "print(v)\n"
   ]
  },
  {
   "attachments": {},
   "cell_type": "markdown",
   "metadata": {},
   "source": [
    "## `SciPy.fftpack` - Rychlá Fourierova transformace\n",
    "`scipy.fftpack` je modul, který poskytuje nástroje pro rychlé Fourierovy transformace (FFT) a jejich inverzní operace. FFT je algoritmus, který umožňuje rychle vypočítat diskrétní Fourierovu transformaci (DFT) a její inverzní. DFT je matematický nástroj používaný k analýze a zpracování signálů, zejména pro rozklad signálů na frekvenční spektrum."
   ]
  },
  {
   "cell_type": "code",
   "execution_count": null,
   "metadata": {},
   "outputs": [],
   "source": [
    "import numpy as np\n",
    "from scipy import fftpack\n",
    "import matplotlib.pyplot as plt\n",
    "\n",
    "# Nastavení vzorkovací frekvence pro zvukový signál\n",
    "sample_rate = 8000\n",
    "# délka signálu\n",
    "duration = 1\n",
    "\n",
    "# Vytvoříme časovou osu\n",
    "t = np.linspace(0, duration, duration * sample_rate)\n",
    "\n",
    "# Definujeme základní frekvenci a harmonické\n",
    "freq = 800\n",
    "harmonic2 = 2 * freq\n",
    "harmonic3 = 3 * freq\n",
    "\n",
    "# Vytvoříme signál s harmonickými frekvencemi\n",
    "signal = (np.sin(2 * np.pi * freq * t) +\n",
    "    0.5 * np.sin(2 * np.pi * harmonic2 * t) +\n",
    "    0.3 * np.sin(2 * np.pi * harmonic3 * t))\n",
    "\n",
    "# Přidáme šum do signálu\n",
    "noisy_signal = signal + 0.5 * np.random.randn(len(signal))"
   ]
  },
  {
   "cell_type": "code",
   "execution_count": null,
   "metadata": {},
   "outputs": [],
   "source": [
    "#!pip install simpleaudio\n",
    "import simpleaudio as sa\n"
   ]
  },
  {
   "cell_type": "code",
   "execution_count": null,
   "metadata": {},
   "outputs": [],
   "source": [
    "# čistý signál\n",
    "# převedeme signál na 16bitový integer (2 byte), aby jej šlo přehrát\n",
    "signal_int = (signal * 2**14).astype(np.int16)\n",
    "\n",
    "# přehrajeme signál\n",
    "sa.play_buffer(signal_int, num_channels=1, bytes_per_sample=2, sample_rate=sample_rate).wait_done()\n"
   ]
  },
  {
   "cell_type": "code",
   "execution_count": null,
   "metadata": {},
   "outputs": [],
   "source": [
    "# zašuměný signál\n",
    "# převedeme signál na 16bitový integer (2 byte), aby jej šlo přehrát\n",
    "noisy_signal_int = (noisy_signal*2**14).astype(np.int16)\n",
    "\n",
    "# přehrajeme signál\n",
    "sa.play_buffer(noisy_signal_int, num_channels=1, bytes_per_sample=2, sample_rate=sample_rate).wait_done()\n"
   ]
  },
  {
   "cell_type": "code",
   "execution_count": null,
   "metadata": {},
   "outputs": [],
   "source": [
    "# Aplikujeme rychlou Fourierovu transformaci (FFT)\n",
    "noisy_fft = fftpack.fft(noisy_signal)\n",
    "clean_fft = fftpack.fft(signal)\n",
    "\n",
    "# Vypočítáme frekvenční spektrum\n",
    "frequencies = fftpack.fftfreq(len(signal), duration/sample_rate)"
   ]
  },
  {
   "cell_type": "code",
   "execution_count": null,
   "metadata": {},
   "outputs": [],
   "source": [
    "fig, (ax1, ax2) = plt.subplots(nrows=2, ncols=1, figsize=(10, 6))\n",
    "\n",
    "ax1.plot(t, signal)\n",
    "ax1.set_title('Časový průběh signálu')\n",
    "ax1.set_xlabel('Čas [s]')\n",
    "ax1.set_ylabel('Amplituda')\n",
    "ax1.set_xlim(0, 0.01)\n",
    "\n",
    "ax2.plot(frequencies, np.abs(clean_fft))\n",
    "ax2.set_title('Frekvenční spektrum')\n",
    "ax2.set_xlabel('Frekvence [Hz]')\n",
    "ax2.set_ylabel('Amplituda')\n",
    "ax2.set_xlim(0, 2500)\n",
    "\n",
    "plt.tight_layout()\n",
    "plt.show()"
   ]
  },
  {
   "cell_type": "code",
   "execution_count": null,
   "metadata": {},
   "outputs": [],
   "source": [
    "fig, (ax1, ax2) = plt.subplots(nrows=2, ncols=1, figsize=(10, 6))\n",
    "\n",
    "ax1.plot(t, noisy_signal)\n",
    "ax1.set_title('Časový průběh signálu')\n",
    "ax1.set_xlabel('Čas [s]')\n",
    "ax1.set_ylabel('Amplituda')\n",
    "ax1.set_xlim(0, 0.01)\n",
    "\n",
    "ax2.plot(frequencies, np.abs(noisy_fft))\n",
    "ax2.set_title('Frekvenční spektrum')\n",
    "ax2.set_xlabel('Frekvence [Hz]')\n",
    "ax2.set_ylabel('Amplituda')\n",
    "ax2.set_xlim(0, 2500)\n",
    "\n",
    "plt.tight_layout()\n",
    "plt.show()\n"
   ]
  },
  {
   "cell_type": "code",
   "execution_count": null,
   "metadata": {},
   "outputs": [],
   "source": [
    "# vidíme, že šum je v frekvenčním spektru pěkně oddělen od základní frekvence\n",
    "\n",
    "# Filtrujeme šum v frekvenčním spektru, tak, že vypustíme všechny malé amplitudy\n",
    "mask = np.abs(noisy_fft) > 200\n",
    "filtered_fft = noisy_fft * mask\n",
    "\n",
    "# Aplikujeme inverzní rychlou Fourierovu transformaci (IFFT)\n",
    "filtered_signal = np.real(fftpack.ifft(filtered_fft))\n"
   ]
  },
  {
   "cell_type": "code",
   "execution_count": null,
   "metadata": {},
   "outputs": [],
   "source": [
    "fig, (ax1, ax2) = plt.subplots(nrows=2, ncols=1, figsize=(10, 6))\n",
    "\n",
    "ax1.plot(t, filtered_signal)\n",
    "ax1.set_title('Časový průběh signálu')\n",
    "ax1.set_xlabel('Čas [s]')\n",
    "ax1.set_ylabel('Amplituda')\n",
    "ax1.set_xlim(0, 0.01)\n",
    "\n",
    "ax2.plot(frequencies, np.abs(filtered_fft))\n",
    "ax2.set_title('Frekvenční spektrum')\n",
    "ax2.set_xlabel('Frekvence [Hz]')\n",
    "ax2.set_ylabel('Amplituda')\n",
    "ax2.set_xlim(0, 2500)\n",
    "\n",
    "plt.tight_layout()\n",
    "plt.show()\n"
   ]
  },
  {
   "cell_type": "code",
   "execution_count": null,
   "metadata": {},
   "outputs": [],
   "source": [
    "# filtrovaný signál\n",
    "# převedeme signál na 16bitový integer (2 byte), aby jej šlo přehrát\n",
    "filtered_signal_int = (filtered_signal * 2**14).astype(np.int16)\n",
    "\n",
    "# přehrajeme signál\n",
    "sa.play_buffer(filtered_signal_int, num_channels=1, bytes_per_sample=2, sample_rate=sample_rate).wait_done()\n"
   ]
  },
  {
   "attachments": {},
   "cell_type": "markdown",
   "metadata": {},
   "source": [
    "## `SciPy.integrate`: Numerická integrace a řešení diferenciálních rovnic\n",
    "\n",
    "### Vyčíslení určitého integrálu\n",
    "Numerical evaluation of a function of the type\n",
    "Často potřebujeme numericky vyčíslit určitý integrál, tj.\n",
    "\n",
    "$\\displaystyle \\int_a^b f(x) {\\rm d}x$\n",
    "\n",
    "Numerické integraci se často říká kvadratura, anglicky *quadrature*. Podle toho se jmenují o funkce v modulu `scipy.integrate`, např. `quad`, `dblquad`, `tplquad` nebo obecné `nquad`."
   ]
  },
  {
   "cell_type": "code",
   "execution_count": null,
   "metadata": {},
   "outputs": [],
   "source": [
    "import scipy.integrate"
   ]
  },
  {
   "cell_type": "markdown",
   "metadata": {},
   "source": [
    "Zkusíme spočítat jednodychý integrál:\n",
    "\n",
    "$\\displaystyle \\int_0^1 x {\\rm d}x$"
   ]
  },
  {
   "cell_type": "code",
   "execution_count": null,
   "metadata": {},
   "outputs": [],
   "source": [
    "val, abserr = sp.integrate.quad(lambda x: x, 0, 1)\n",
    "print(f\"výsledek = {val:g} ± {abserr:.2g}\")"
   ]
  },
  {
   "attachments": {},
   "cell_type": "markdown",
   "metadata": {},
   "source": [
    "Můžeme dokonce pracovat s nekonečnými mezemi.\n",
    "\n",
    "$$\\displaystyle \\int_{-\\infty}^\\infty e^{-x^2} {\\rm d}x$$"
   ]
  },
  {
   "cell_type": "code",
   "execution_count": null,
   "metadata": {},
   "outputs": [],
   "source": [
    "val, abserr = sp.integrate.quad(lambda x: np.exp(-x ** 2), -np.Inf, np.Inf)\n",
    "print(f\"výsledek = {val:g} ± {abserr:.2g}\")\n",
    "print(f\"rozdíl od přesné hodnoty (√π) = {val - np.sqrt(np.pi):g}\")\n"
   ]
  },
  {
   "attachments": {},
   "cell_type": "markdown",
   "metadata": {},
   "source": [
    "### Obyčejné diferenciální rovnice (ODR)\n",
    "\n",
    "`scipy.integrate` (ano, řešení ODR je v tomto modulu, protože řešením ODR je určitý integrál) obsahuje `odeint`, které je jednodušší, a objektové rozhraní `ode`, které umožňuje větší kontrolu.\n"
   ]
  },
  {
   "cell_type": "markdown",
   "metadata": {},
   "source": [
    "ODR (nebo jejich soustava) je často zadaná jako\n",
    "\n",
    "$y' = f(y, t)$\n",
    "\n",
    "s počátečními podmínkami\n",
    "\n",
    "$y(t=0) = y_0$\n",
    "\n",
    "`odeint` pak lze použít jednoduše:\n",
    "\n",
    "    y_t = odeint(f, y_0, t)\n",
    "\n",
    "kde `t` je předem zadané pole, ve kterých požadujeme řešení."
   ]
  },
  {
   "attachments": {},
   "cell_type": "markdown",
   "metadata": {},
   "source": [
    "#### Příklad 1: jednoduché kyvadlo\n",
    "\n",
    "Rovnice jednoduchého fyzikálního kyvadla je\n",
    "\n",
    "Zrychlení kyvadla $\\theta ''$ závisí na pozici $\\theta$ a gravitační konstanty $g$ a délky kyvadla $L$.\n",
    "\n",
    "$\\displaystyle {\\theta ''} = - \\frac{g}{L}\\theta$\n",
    "\n",
    "Řešení je známé, použijeme jej pro kontrolu:\n",
    "\n",
    "$\\displaystyle {\\theta} = \\theta_0 \\cos\\left( \\sqrt{\\frac{g}{L}} t \\right) $\n",
    "\n",
    "Zkusme si tuto rovnici vyřešit numericky. Jelikož potřebujeme rovnice prvního řádu, definujeme vektor $x = \\left(\\theta , \\theta ' \\right)$, takže\n",
    "\n",
    "$\\displaystyle {x_1 '} = x_2$\n",
    "\n",
    "$\\displaystyle {x_2 '} = - \\frac{g}{L}\\theta $\n"
   ]
  },
  {
   "cell_type": "code",
   "execution_count": null,
   "metadata": {},
   "outputs": [],
   "source": [
    "from scipy.constants import g\n",
    "\n",
    "L = 0.5\n",
    "m = 0.1\n",
    "\n",
    "def dx_pendulum(x, t):\n",
    "    \"\"\"\n",
    "    The right-hand side of the pendulum ODE\n",
    "    \"\"\"\n",
    "    theta, dtheta = x[0], x[1]\n",
    "    \n",
    "    d_theta_dt = dtheta\n",
    "    d_dtheta_dt = - g / L * theta\n",
    "    \n",
    "    return d_theta_dt, d_dtheta_dt"
   ]
  },
  {
   "cell_type": "code",
   "execution_count": null,
   "metadata": {},
   "outputs": [],
   "source": [
    "# počáteční stav = pozice a rychlost\n",
    "x0 = [np.pi / 8, 0]\n",
    "# časy pro řešení\n",
    "t = np.linspace(0, 10, 250)\n",
    "# a konečně řešení\n",
    "x = sp.integrate.odeint(dx_pendulum, x0, t)"
   ]
  },
  {
   "cell_type": "code",
   "execution_count": null,
   "metadata": {},
   "outputs": [],
   "source": [
    "# analytické řešení\n",
    "x_anal = x0[0] * np.cos(np.sqrt(g / L) * t)"
   ]
  },
  {
   "cell_type": "code",
   "execution_count": null,
   "metadata": {},
   "outputs": [],
   "source": [
    "plt.plot(t, x[:, 0], 'r', label=r\"$\\theta$\")\n",
    "plt.plot(t, x_anal, 'k--', label=u\"přesné řešení\")\n",
    "plt.legend()\n",
    "plt.xlabel(\"Čas [s]\")\n",
    "plt.ylabel(\"Poloha\")"
   ]
  },
  {
   "attachments": {},
   "cell_type": "markdown",
   "metadata": {},
   "source": [
    "## `Scipy.interpolate`: Interpolace v bodech\n",
    "\n",
    "Scipy nabízí jednoduché možnosti pro interpolaci a aproximaci dat."
   ]
  },
  {
   "cell_type": "code",
   "execution_count": null,
   "metadata": {},
   "outputs": [],
   "source": [
    "import scipy.interpolate"
   ]
  },
  {
   "cell_type": "markdown",
   "metadata": {},
   "source": [
    "### Příklad interpolace\n",
    "Vyrobíme si nějaká zašuměná data pomocí známé funkce (např. sin) a zkusíme je interpolovat pomocí `interp1d`."
   ]
  },
  {
   "cell_type": "code",
   "execution_count": null,
   "metadata": {},
   "outputs": [],
   "source": [
    "def f(x):\n",
    "    return np.sin(x)"
   ]
  },
  {
   "cell_type": "code",
   "execution_count": null,
   "metadata": {},
   "outputs": [],
   "source": [
    "n = np.arange(0, 10)  # hodnoty x, ve kterých máme měření\n",
    "x = np.linspace(0, 9, 100) # hodnoty x, ve kterých chceme interpolovat\n",
    "\n",
    "y_meas = f(n) + 0.1 * np.random.randn(len(n))  # vytvoříme měření s šumem\n",
    "y_real = f(x) # vytvoříme přesné hodnoty\n",
    "\n",
    "# interpolace vytvoří objekt, který lze použít pro interpolaci\n",
    "linear_interpolation = sp.interpolate.interp1d(n, y_meas)\n",
    "linear_interpolation\n"
   ]
  },
  {
   "cell_type": "code",
   "execution_count": null,
   "metadata": {},
   "outputs": [],
   "source": [
    "# a teď můžeme interpolovat\n",
    "y_interp1 = linear_interpolation(x)\n",
    "\n",
    "# defaultně se používá lineární interpolace, ale můžeme použít i jiné\n",
    "cubic_interpolation = sp.interpolate.interp1d(n, y_meas, kind='cubic')\n",
    "y_interp2 = cubic_interpolation(x)"
   ]
  },
  {
   "cell_type": "code",
   "execution_count": null,
   "metadata": {},
   "outputs": [],
   "source": [
    "fig, ax = plt.subplots(figsize=(10,4))\n",
    "ax.plot(n, y_meas, 'bs', label='noisy data')\n",
    "ax.plot(x, y_real, 'k', lw=2, label='true function')\n",
    "ax.plot(x, y_interp1, 'r', label='linear interp')\n",
    "ax.plot(x, y_interp2, 'g', label='cubic interp')\n",
    "ax.legend(loc=3);"
   ]
  },
  {
   "attachments": {},
   "cell_type": "markdown",
   "metadata": {},
   "source": [
    "## `SciPy.optimize`: Numerické optimalizace\n",
    "Tento modul obsahuje nástroje pro numerickou optimalizaci. Obsahuje velké množství funkcí, zde si ukážeme pouze dva vzorové příklady.\n",
    "\n",
    "- **Hledání minima funkce** - například pomocí `fmin`, `fmin_bound`, ...\n",
    "- **Hledání kořenů funkce** - například pomocí `fsolve`, `root`, `root_scalar`, ..."
   ]
  },
  {
   "cell_type": "code",
   "execution_count": null,
   "metadata": {},
   "outputs": [],
   "source": [
    "import scipy.optimize as opt\n",
    "import matplotlib.pyplot as plt\n",
    "import numpy as np\n",
    "\n",
    "f = lambda x: 10 * np.sin(x) + 0.1 * x + 0.1 * x*x\n",
    "x = np.linspace(-4 * np.pi, 4 * np.pi, 100)\n",
    "plt.plot(x, f(x))"
   ]
  },
  {
   "cell_type": "code",
   "execution_count": null,
   "metadata": {},
   "outputs": [],
   "source": [
    "# nalezení minima funkce\n",
    "# funkce fmin() má parametr x0, kterým se nastavuje počáteční bod\n",
    "x_min = opt.fmin(func=f, x0=0)\n",
    "print(f\"Minimum je v bodě {x_min} a má hodnotu {f(x_min)}.\")\n"
   ]
  },
  {
   "cell_type": "code",
   "execution_count": null,
   "metadata": {},
   "outputs": [],
   "source": [
    "# co se stane když nastavíme x0 daleko od minima?\n",
    "x_min = opt.fmin(func=f, x0=10)\n",
    "print(f\"Minimum je v bodě {x_min} a má hodnotu {f(x_min)}.\")\n",
    "# najde nejbližší lokální minimum!\n"
   ]
  },
  {
   "cell_type": "code",
   "execution_count": null,
   "metadata": {},
   "outputs": [],
   "source": [
    "# pokud víme, že je minimum v nějakém intervalu, můžeme použít fminbound()\n",
    "x_min = opt.fminbound(func=f, x1=-10, x2=10)\n",
    "print(f\"Minimum je v bodě {x_min} a má hodnotu {f(x_min)}.\")"
   ]
  },
  {
   "cell_type": "code",
   "execution_count": null,
   "metadata": {},
   "outputs": [],
   "source": [
    "# hledání kořenů funkce\n",
    "# funkce fsolve() má parametr x0, kterým se nastavuje počáteční bod\n",
    "x_root = opt.fsolve(func=f, x0=5)\n",
    "print(f\"Kořen je v bodě {x_root} a má hodnotu {f(x_root)}.\")"
   ]
  },
  {
   "cell_type": "code",
   "execution_count": null,
   "metadata": {},
   "outputs": [],
   "source": [
    "# hledání všech kořenů na intervalu je složitější\n",
    "# nejprve musíme najít intervaly, kde funkce mění znaménko\n",
    "\n",
    "a, b = -20, 20 # budeme hledat kořeny na intervalu <a, b>\n",
    "resolution = 1000\n",
    "\n",
    "# Identify the subintervals where the function changes sign\n",
    "x_vals = np.linspace(a, b, resolution)\n",
    "sign_changes = []\n",
    "\n",
    "# projdeme všechny body na intervalu a zjistíme, kde se znaménko funkce mění\n",
    "for i in range(len(x_vals) - 1):\n",
    "    if np.sign(f(x_vals[i])) != np.sign(f(x_vals[i + 1])):\n",
    "        sign_changes.append((x_vals[i], x_vals[i + 1]))\n",
    "\n",
    "# pro všechny dvojice, kde se znaménko mění, použijeme root_scalar()\n",
    "roots = []\n",
    "for interval in sign_changes:\n",
    "    result = opt.root_scalar(f, bracket=interval)\n",
    "    roots.append(result.root)\n",
    "\n",
    "roots = np.array(roots)\n",
    "\n",
    "print(f\"Kořeny jsou v bodech {roots} a mají hodnoty {f(roots)}.\")\n"
   ]
  }
 ],
 "metadata": {
  "anaconda-cloud": {},
  "kernelspec": {
   "display_name": "Python 3",
   "language": "python",
   "name": "python3"
  },
  "language_info": {
   "codemirror_mode": {
    "name": "ipython",
    "version": 3
   },
   "file_extension": ".py",
   "mimetype": "text/x-python",
   "name": "python",
   "nbconvert_exporter": "python",
   "pygments_lexer": "ipython3",
   "version": "3.10.10"
  }
 },
 "nbformat": 4,
 "nbformat_minor": 4
}
