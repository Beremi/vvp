{
 "cells": [
  {
   "cell_type": "markdown",
   "metadata": {},
   "source": [
    "Cílem kurzu je seznámit se s programovacím jazykem *Python*, zejména s jeho praktickým využitím pro vědecké a inženýrské účely."
   ]
  },
  {
   "attachments": {},
   "cell_type": "markdown",
   "metadata": {},
   "source": [
    "# Proč Python?\n",
    "- velmi nízká vstupní bariéra (jednoduchost, přehlednost, intuitivnost)\n",
    "- velmi široké možnosti využití (věda, inženýrství, webové aplikace, desktopové aplikace, ...)\n",
    "- velmi široká komunita a podpora (velké množství knihoven, dokumentace, tutoriály, ...)\n",
    "- jednoduchost napojení na programy v jiných jazycíh (např. C, C++, Fortran, ...)\n",
    "- nezávislý na OS\n",
    "- open-source (svobodná licence)\n",
    "\n",
    "**Další dobré vlastnosti:**\n",
    "\n",
    "* objektové programování\n",
    "* výborně čitelná syntaxe\n",
    "* automatické jednotkové testování\n",
    "* snadná automatická dokumentace vlastního kódu\n",
    "* široká uživatelská základna, dostupná pomoc (google, http://stackoverflow.com)\n",
    "\n",
    "**Největší výhodou Pythonu je množství dostupných knihoven:**\n",
    "* Potřebujete získat data více či méně tradičním způsobem (z webu, z divného formátu souboru)?\n",
    "* Potřebujete zpracovávat komplikovaným způsobem text?\n",
    "* Potřebujete ke svému programu GUI?\n",
    "* Chcete mít webové rozhraní?\n",
    "* Chcete si poslat mail, až bude výpočet dokončen?\n",
    "* Potřebujete pustit ze svého programu jiný proces a komunikovat s ním?\n",
    "\n",
    "Na všechny tyto úkoly v Pythonu najdete knihovnu (často již ve standardní knihovně), zatímco ve specializovaném vědeckém SW (MATLAB, IDL) byste tento problém řešili obtížně.\n",
    "\n",
    "Viz databáze na [PyPi](https://pypi.python.org/pypi), která obsahuje 36 000 balíčků (různé kvality).\n",
    "\n",
    "\n",
    "## Proč NE Python?\n",
    "- pomalý (v porovnání s některými jinými jazyky -- např. C, C++, Fortran)\n",
    "    - to je ale v Pythonu do velké míry napraveno jednoduchou vazbou na ostatní \"rychlé\" jazyky (například pro lineární algebru se používá knihovna NumPy, která má výpočetní část napsanou v C a Fortranu)\n",
    "- nevhodný (lze to ale je to natolik komplikované, že se to běžně nedělá) pro vytváření programů, které poběží mimo prostředí Pythonu (například .exe soubor ve Windows, což je například velice jednoduché u jazyků jako je C, C++ nebo Fortran)\n",
    "    - toto nám naštěstí nevadí, nebudeme psát software, který by měl běžet mimo prostředí Pythonu\n",
    "- dynamické typování dělá statickou analýzu kódu obtížnější (na mnoho chyb narazíme až při běhu programu, oproti např. Rustu, kde kompilátor odhalí téměř všechny možné problémy kódu)\n",
    "    - toto je běžně řešeno testováním = Unit testy (jednotkové testy)"
   ]
  },
  {
   "attachments": {},
   "cell_type": "markdown",
   "metadata": {},
   "source": [
    "# Historie \n",
    "Historie sahá do roku 1980, implementaci zahájil v roce 1989 [Guido Van Rossum](http://www.python.org/~guido/). Ten je v současnosti stále hlavní postavou (tzv. Benevolent Dictator for Life---BDFL) Python komunity, i když donedávna pracoval pro Google a v současnosti pro Dropbox. Více např. na [wikipedii](http://en.wikipedia.org/wiki/History_of_Python). Vydání Pythonu v datumech:\n",
    "\n",
    "* Python 1.0 - 1994\n",
    "* Python 2.0 - 2000\n",
    "    * mrtvá verze\n",
    "* Python 3.0 - 2008\n",
    "    * nyní jsme na Pythonu 3.10 (3.11 už také vyšel, ale ještě není běžně používán)\n",
    "    * v blízké budoucnosti se vývoj pythonu bude soustředit zejména na zrychlení (v dlouhodobém horizontu je vplánu docílit až 4x zrychlení)\n",
    "    \n",
    "Python žil nějakou dobu paralelně ve verzi 2 a 3. Což částečně komplikovalo práci/vývoj/výuku/... neboť verze nebyly plně kompatibilní. Nyní je ale Python 2 už oficiálně \"mrtev\". \n",
    "\n",
    "## Python: myšlenka vs. implementace\n",
    "Python jakožto jazyk (logická struktura) je jeden, existuje však více implementací jeho interpreteru (t.j. programu, který zpracovává a vykonává příkazy). Referenčním interpreterem je v C napsaný *CPython* = ten co je nejčastější a budeme jej používat i my. \n",
    "\n",
    "Ostatní implementace namátkou:\n",
    "\n",
    "* [Jython](http://www.jython.org/) \n",
    "* [IronPython](http://ironpython.net/) \n",
    "* [PyPy](http://pypy.org/)\n",
    "\n",
    "Celkem přehledné vysvětlení toho, co je který \"Python\" zač, nalezenete v článku [Why are there so many Pythons?](http://www.toptal.com/python/why-are-there-so-many-pythons)."
   ]
  },
  {
   "attachments": {},
   "cell_type": "markdown",
   "metadata": {},
   "source": [
    "## Nástroje pro práci s Pythonem\n",
    "\n",
    "### Editor / vývojové prostředí\n",
    "V tomto kurzu budeme používat  **[Visual Studion Code](https://code.visualstudio.com)**. \n",
    "- modulární editor s dobrou podporou pro Python (a Jupyter notebooky)\n",
    "- podporuje různé jazyky (Python, C++, C#, Java, JavaScript, PHP, HTML, CSS, ...)\n",
    "    - tedy může sloužit jako centrální IDE pro vývoj všech vašich programů\n",
    "- integrace s Git (verzovacím systémem)\n",
    "- integrovaný formátor kódu, lze vybrat např.:\n",
    "    - [autopep8](https://pypi.python.org/pypi/autopep8)\n",
    "    - [black](https://black.readthedocs.io/en/stable/)\n",
    "- integrovaný linting (hledání chyb v kódu), lze vybrat např.:\n",
    "    - [bandit](https://pypi.python.org/pypi/bandit)\n",
    "    - [flake8](https://pypi.python.org/pypi/flake8)\n",
    "- integrovaný debugger\n",
    "- velmi rychlý (oproti např. standardnímu Visual Studiu)\n",
    "- free a open-source\n",
    "- široká komunita a intenzivní vývoj podporovaný Microsoftem\n",
    "- dostupný prakticky na jakémkoliv zařízení Windows, Linux, Mac OS, webový prohlížeč\n",
    "\n",
    "Další pěkné Editory pro python:\n",
    "* [PyCharm](https://www.jetbrains.com/pycharm/) - \"The Most Intelligent Python IDE\"\n",
    "* [Spyder](https://www.spyder-ide.org/) - Vývojové prostředí inspirované Malabem\n",
    "\n",
    "\n",
    "**Ze strany Pythonu je k dispozici několik nástrojů pro jednoduchou práci:**\n",
    "* **[IPython](http://ipython.org)** - vylepšená konzole pro komunikaci s Python interpreterem - zabudovaná i ve `VS Code`\n",
    "* **[Jupyter](https://jupyter.org/)** - notebook, který umožňuje kombinovat text, kód (který posílá do IPythonu) a výstupy do jednoho dokumentu - zabudován i ve `VS Code`\n",
    "* **[Sphinx](http://sphinx-doc.org)** - vytváření všech možných druhů dokumentace (nejčastěji webová) ze zdrojových kódů\n",
    "* **[pip](http://www.pip-installer.org/)** - správa balíčků)\n",
    "* **[virtualenv](http://www.virtualenv.org/)** -  správa vlastních nezávislých prostředí"
   ]
  },
  {
   "attachments": {},
   "cell_type": "markdown",
   "metadata": {},
   "source": [
    "\n",
    "## Základní vlastnosti Pythonu\n",
    "\n",
    "* *Dynamicky typovaný* jazyk\n",
    "    - typy proměnných se určují až při běhu programu, proměnná může měnit typ objektu na který ukazuje, programátor nemusí explicitně deklarovat typy proměnných\n",
    "    - Duck Typing - nepotřebujeme vědět jaký typ je proměnná, stačí když má atributy/metody, které potřebujeme `if it walks like a duck and it quacks like a duck, then it must be a duck`\n",
    "* *Silně typovaný* (strongly typed) jazyk\n",
    "    - nelze provádět operace mezi proměnnými různých typů\n",
    "    - sčítání int a float - sice v jednom řádku jednoduše provedeme, ale vnitřně se int nejprve převede na float\n",
    "    - tato vlastnost je částečně \"za oponou\", tedy můžeme (a pro mnoho standardních typů to tak je) definovat vlastní operace sčítání, které vnizřně přidají převod typu. Tedy uživatelsky můžeme sčítat int a float aniž bychom řešili převod sami\n",
    "* Čistě *interpretovaný* jazyk, který běží ve vlstním virtuálním stroji (Python Interpreter).\n",
    "    - skripty se překládají (až při běhu/zavolání) do strojového kódu a ten se pak vyhodnocuje ve virtuálním stroji\n",
    "    - toto je obrovská výhoda při prototypování, protože můžeme postupně upravovat kód který tvoříme a stále pracovat se stejnými daty\n",
    "    - další výhoda je, že po doběhnutí našeho kódu zůstávají data v paměti a až podle toho \"co nám vyšlo\" můžeme provádět vizualizaci/zhodnocení výsledků\n",
    "* Obsahuje *garbage collector*, který využívá *reference counting*.\n",
    "    - reference counting - každý objekt si počítá, kolikrát je na něj odkazováno\n",
    "    - garbage collector - automaticky smaže (dealokuje) objekty, které již nejsou potřeba = počet referencí je 0\n",
    "    - tedy nemusíme aktivně kontrolovat kdy je potřeba uvolnit paměť (jako napříklat v C)\n",
    "* Obsahuje *rozsáhlou knihovnu* modulů a funkcí:\n",
    "    - vestavěné moduly (např. `math`, `os`, `sys`, `re`, `random`, `time`, `datetime`, `itertools`, `functools`, `collections`, `multiprocessing`, `threading`, `logging`, `unittest`, `argparse`, `pickle`, `json`, `csv`, ...)\n",
    "    - knihovny pro vědecké výpočty:\n",
    "        - **[Numpy](http://numpy.org)** - rychlé maticové operace\n",
    "        - **[Scipy](http://scipy.org)** - soubor všech různých vědeckých nástrojů\n",
    "        - **[Matplotlib](http://matplotlib.org)** - interaktivní grafy, možnost výstupu v kvalitě pro publikace\n",
    "        - **[SymPy](http://sympy.org)** - symbolické manipulace\n",
    "        - **[Pandas](http://pandas.pydata.org/)** - analýza data\n",
    "    - knihovny pro webové aplikace (např. `flask`, `django`, `requests`, `beautifulsoup`, `selenium`, ...)\n",
    "    - mnoho dalších (vždy když máte potřebu začít programovat nějakou funckionalitu, je dobré se nejprve podívat, jestli ji někdo nevytvořil již předem - např. [PyPI](https://pypi.python.org/pypi))\n",
    "* *Svobodná licence* (Python Software Foundation License -- [PSFL](http://docs.python.org/3/license.html))\n",
    "    - obrovská výhoda například oproti Matlabu, který je placený"
   ]
  },
  {
   "attachments": {},
   "cell_type": "markdown",
   "metadata": {},
   "source": [
    "# Takto vypadá \"Hello world! v Pythonu\n",
    "Výpis textu na obrazovku je velice jednoduchý, stačí použít funkci `print`.\n",
    "\n",
    "Když už jsme u funkcí, tak pro pořádek: funcke se volá (používá) tak, že za název funkce v kulatých závorkách zapisujeme parametry, které funkce přijímá. Funkce může mít libobolné množství parametrů (i žádný, pak jsou závorky prázdné), pokud má parametrů více, jsou odděleny čárkou."
   ]
  },
  {
   "cell_type": "code",
   "execution_count": null,
   "metadata": {},
   "outputs": [],
   "source": [
    "print(\"Hello world!\")\n"
   ]
  },
  {
   "attachments": {},
   "cell_type": "markdown",
   "metadata": {},
   "source": [
    "A když už jsme zvládli \"Hello world!\", tak si ukážeme i co znamená, že je Python Dynamicky a silně typovaný jazyk."
   ]
  },
  {
   "cell_type": "code",
   "execution_count": null,
   "metadata": {},
   "outputs": [],
   "source": [
    "a = 1  # dynamicky typovaná proměnná\n",
    "b = \"ahoj\"  # další dynamicky typovaná proměnná\n",
    "c = 0.3  # další dynamicky typovaná proměnná\n"
   ]
  },
  {
   "cell_type": "code",
   "execution_count": null,
   "metadata": {},
   "outputs": [],
   "source": [
    "print(a)\n",
    "print(b)\n",
    "print(c)\n",
    "print(a + c)  # silně typovaný jazyk, ale toto je implementováno\n",
    "print(a + b)  # by byla chyba - silně typovaný jazyk, a toto není implementováno\n"
   ]
  },
  {
   "attachments": {},
   "cell_type": "markdown",
   "metadata": {},
   "source": [
    "Zmínili jsme obrovské množství rozšíření. Do vlastního pracovního prostředí si je můžeme tzv. naimportovat. To znamená, že si je \"přidáme\" do našeho kódu. Toho můžeme docílit pomocí příkazu `import`"
   ]
  },
  {
   "cell_type": "code",
   "execution_count": null,
   "metadata": {},
   "outputs": [],
   "source": [
    "import math\n"
   ]
  },
  {
   "attachments": {},
   "cell_type": "markdown",
   "metadata": {},
   "source": [
    "K dokumentaci modulů se dostaneme pomocí příkazu `help`, případně můžeme vypsat všechny jeho součásti pomocí příkazu `dir`"
   ]
  },
  {
   "cell_type": "code",
   "execution_count": null,
   "metadata": {},
   "outputs": [],
   "source": [
    "help(math)\n",
    "dir(math)\n"
   ]
  }
 ],
 "metadata": {
  "kernelspec": {
   "display_name": "Python 3",
   "language": "python",
   "name": "python3"
  },
  "language_info": {
   "codemirror_mode": {
    "name": "ipython",
    "version": 3
   },
   "file_extension": ".py",
   "mimetype": "text/x-python",
   "name": "python",
   "nbconvert_exporter": "python",
   "pygments_lexer": "ipython3",
   "version": "3.10.9"
  },
  "vscode": {
   "interpreter": {
    "hash": "e7370f93d1d0cde622a1f8e1c04877d8463912d04d973331ad4851f04de6915a"
   }
  }
 },
 "nbformat": 4,
 "nbformat_minor": 2
}
