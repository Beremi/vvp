{
 "cells": [
  {
   "attachments": {},
   "cell_type": "markdown",
   "metadata": {},
   "source": [
    "# Crash course neboli rychlý úvod do Pythonu\n",
    "\n",
    "**I. Úvod do Pythonu**\n",
    "- indentace a užití mezer/tabulátorů\n",
    "- komentáře\n",
    "- proměnné\n",
    "- funkce\n",
    "- `for` \n",
    "- `if` \n",
    "    \n",
    "**II. Úvod do NumPy**\n",
    "- Co je to NumPy?\n",
    "- Vytváření NumPy matic a vektorů\n",
    "- Indexování a slicing\n",
    "- Základní operace\n",
    "- Maticové operace (Dot product, matrix multiplication)\n",
    "- Řešení soustav lineárních rovnic\n",
    "\n",
    "**III. Vykreslování s Matplotlibem**\n",
    "- Co je to Matplotlib?\n",
    "- Základní vykreslování (line plots, image plots)"
   ]
  },
  {
   "attachments": {},
   "cell_type": "markdown",
   "metadata": {},
   "source": [
    "# I. Úvod do Pythonu\n"
   ]
  },
  {
   "attachments": {},
   "cell_type": "markdown",
   "metadata": {},
   "source": [
    "# 1.1. Příkazy/řádky\n",
    "V Pythonu se příkazy oddělují pomocí nového řádku. Pokud potřebujeme (například kvůli přílišné délce řádku) příkaz rozdělit na více řádků, použijeme znak `\\` a pokračujeme se zbytkem příkazu na dalším řádku (bez odsazení). Konec příkazu není třeba označovat (například pomocí `;` jako je to např v C), středník však na konec řádku dát můžeme (nebude to mít žádný vliv). Pokud chceme dát několik příkažů na jeden řádek, oddělíme je pomocí středníku."
   ]
  },
  {
   "cell_type": "code",
   "execution_count": 7,
   "metadata": {},
   "outputs": [
    {
     "name": "stdout",
     "output_type": "stream",
     "text": [
      "Ahoj světe!\n",
      "Ahoj světe!\n",
      "Ahoj světe!\n"
     ]
    }
   ],
   "source": [
    "print(\"Ahoj světe!\")\n",
    "print(\"Ahoj \\\n",
    "světe\\\n",
    "!\")\n",
    "print(\"Ahoj \", end=\"\"); print(\"světe!\")\n"
   ]
  },
  {
   "attachments": {},
   "cell_type": "markdown",
   "metadata": {},
   "source": [
    "## 1.2. Indentace a užití mezer/tabulátorů\n",
    "\n",
    "Python se liší od mnoha jiných programovacích jazyků tím, že tzv. indentace je pro něj závazná a je součástí syntaxe. Výrazem \"závázná indentace\" nemyšlíme, že by bylo nutné používat přesně daný počet mezer/tabulátorů, ale že odsazení bloku kódu (a je jedno jak velké) udává to že se jedná o jeden `blok`. \n",
    "\n",
    "`Bloky` v pythonu následují typicky za dojtečku `:` (např. `if`, `for`, `def`). Pokud bychom chtěli udělat separátní blok pouze z důvodu využití lokálního prostoru (tak jak by se to např v C udělalo pomocí složených závorek `{}`), tak toto v Pythonu nelze (odsazení bez `:` je chyba a program se nepřeloží).\n",
    "\n",
    "Běžně se však pro jeden level odsazení používají 4 mezery nebo 1 tabulátor. VS Code (alespoň výchozí nastavení) automaticky přepisuje tabulátory na 4 mezery (např. po uložení souboru). \n",
    "\n",
    "Mino odsazení, tj. kdekoliv uvnitř příkazu (mimo definici řetězce :-)) jsou mezery a tabulátory ignorovány.\n",
    "\n",
    "Ve VS Code je"
   ]
  },
  {
   "cell_type": "code",
   "execution_count": 18,
   "metadata": {},
   "outputs": [
    {
     "name": "stdout",
     "output_type": "stream",
     "text": [
      "0\n",
      "1\n",
      "2\n",
      "3\n",
      "4\n",
      "5\n",
      "6\n",
      "7\n",
      "8\n",
      "9\n"
     ]
    }
   ],
   "source": [
    "def foo()       :\n",
    "    for i in                    range(10)               :\n",
    "        print(      i      )\n",
    "\n",
    "foo(            )"
   ]
  },
  {
   "cell_type": "code",
   "execution_count": null,
   "metadata": {},
   "outputs": [],
   "source": [
    "def foo()       :\n",
    "    for i in                    range(10)               :\n",
    "        print(      i      )\n",
    "\n",
    "foo(            )"
   ]
  },
  {
   "attachments": {},
   "cell_type": "markdown",
   "metadata": {},
   "source": [
    "\n",
    "## 1.3. Komentáře\n",
    "\n",
    "\"Pravé\" komentáře v Pythonu se píšou pouze pomocí znaku `#` a jsou jednořádkové. Vše, co je za znakem `#`, je považováno za komentář. Není však omezeno kolik takovách komentářů a kde přesně budou umístěny. V případě, že bychom chtěli napsat víceřádkový komentář (například docsstring), tak je v Pythonu zvykem použít řetězec uvozeený trojicí uvozovek `\"\"\"` nebo `'''`, který není přiřazen žádné proměnné.\n"
   ]
  },
  {
   "cell_type": "code",
   "execution_count": 3,
   "metadata": {},
   "outputs": [
    {
     "name": "stdout",
     "output_type": "stream",
     "text": [
      "foo\n",
      "3\n"
     ]
    }
   ],
   "source": [
    "def foo():\n",
    "    \"\"\"_summary_ of foo:\n",
    "    \n",
    "    nothing to see here\n",
    "    \"\"\"    \n",
    "    print('foo') # vytiskneme foo\n",
    "    \n",
    "foo() # zavolame funkci foo\n",
    "\n",
    "# jednoduchá aritmetika\n",
    "a = 1 # a je jedna\n",
    "b = 2                       # b je dva\n",
    "c = a + b        # c je tři\n",
    "print(c) # vytiskneme tři"
   ]
  },
  {
   "attachments": {},
   "cell_type": "markdown",
   "metadata": {},
   "source": [
    "## 1.4. Proměnné\n",
    "\n",
    "Proměnné v Pythonu se píší bez specifikace datového typu. Pokud chceme použít proměnnou, musíme ji nejprve definovat. V následujícím příkladu definujeme proměnnou `a` s hodnotou 5 a proměnnou `b` s hodnotou"
   ]
  },
  {
   "cell_type": "code",
   "execution_count": 2,
   "metadata": {},
   "outputs": [
    {
     "name": "stdout",
     "output_type": "stream",
     "text": [
      "0\n",
      "1\n",
      "2\n",
      "3\n",
      "4\n",
      "5\n",
      "5\n",
      "6\n",
      "7\n",
      "zdar\n",
      "8\n",
      "9\n"
     ]
    }
   ],
   "source": [
    "for i in range(10):\n",
    "    print(i)\n",
    "    if i == 5:\n",
    "        print(i)\n",
    "    else:\n",
    "        if i == 7:\n",
    "            print(\"zdar\")\n"
   ]
  },
  {
   "cell_type": "code",
   "execution_count": null,
   "metadata": {},
   "outputs": [],
   "source": []
  }
 ],
 "metadata": {
  "kernelspec": {
   "display_name": "Python 3",
   "language": "python",
   "name": "python3"
  },
  "language_info": {
   "codemirror_mode": {
    "name": "ipython",
    "version": 3
   },
   "file_extension": ".py",
   "mimetype": "text/x-python",
   "name": "python",
   "nbconvert_exporter": "python",
   "pygments_lexer": "ipython3",
   "version": "3.10.9"
  },
  "orig_nbformat": 4,
  "vscode": {
   "interpreter": {
    "hash": "e7370f93d1d0cde622a1f8e1c04877d8463912d04d973331ad4851f04de6915a"
   }
  }
 },
 "nbformat": 4,
 "nbformat_minor": 2
}
