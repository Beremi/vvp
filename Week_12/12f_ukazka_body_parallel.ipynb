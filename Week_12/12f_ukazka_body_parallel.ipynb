{
 "cells": [
  {
   "cell_type": "markdown",
   "metadata": {},
   "source": [
    "# Modelová úloha - vzdálenosti mezi body v 3D\n",
    "Zadání: pro N bodů v 3 rozměrném prostoru spočítejte vzájemnou vzdálenost $d$, která je pro dva body $x,y$ definovaná jako $\\sqrt {\\sum_{i=1}^3 {{{\\left( {{x_i} - {y_i}} \\right)}^2}} } $. Výslekem je tedy (symetrická) matice $N\\times N$."
   ]
  },
  {
   "cell_type": "code",
   "execution_count": null,
   "metadata": {},
   "outputs": [],
   "source": [
    "import numpy as np\n",
    "points_count = 1000\n",
    "points_np = np.random.rand(points_count, 3)"
   ]
  },
  {
   "cell_type": "markdown",
   "metadata": {},
   "source": [
    "## Numba - sériová verze\n",
    "\n",
    "Viz minulá hodina."
   ]
  },
  {
   "cell_type": "code",
   "execution_count": null,
   "metadata": {},
   "outputs": [],
   "source": [
    "import math\n",
    "import numba\n",
    "\n",
    "@numba.jit(nopython=True)\n",
    "def dist_numba(points):\n",
    "    n = points.shape[0]\n",
    "    distances_all = np.zeros((n, n))\n",
    "    for i in range(n):\n",
    "        for j in range(n):\n",
    "            tmp_sum = 0\n",
    "            for k in range(3):\n",
    "                rozdil = points[i, k] - points[j, k]\n",
    "                tmp_sum += rozdil*rozdil\n",
    "            tmp_dist = math.sqrt(tmp_sum)\n",
    "            distances_all[i, j] = tmp_dist\n",
    "\n",
    "    return distances_all"
   ]
  },
  {
   "cell_type": "code",
   "execution_count": null,
   "metadata": {},
   "outputs": [],
   "source": [
    "%time _ = dist_numba(points_np)"
   ]
  },
  {
   "cell_type": "code",
   "execution_count": null,
   "metadata": {},
   "outputs": [],
   "source": [
    "%timeit _ = dist_numba(points_np)"
   ]
  },
  {
   "cell_type": "markdown",
   "metadata": {},
   "source": [
    "## Cython - sériová verze\n",
    "- použijeme Jupyter cell magic `%%cython`\n",
    "- `--compile-args=-O3` - optimalizace při kompilaci\n",
    "- `--compile-args=-w` - potlačení warningů (deprecated API)"
   ]
  },
  {
   "cell_type": "code",
   "execution_count": null,
   "metadata": {},
   "outputs": [],
   "source": [
    "%load_ext Cython"
   ]
  },
  {
   "cell_type": "code",
   "execution_count": null,
   "metadata": {},
   "outputs": [],
   "source": [
    "%%cython --compile-args=-O3 --compile-args=-w\n",
    "\n",
    "import numpy as np  # pythoní numpy\n",
    "cimport numpy as cnp  # cythoní numpy pro statické typování\n",
    "from libc.math cimport sqrt\n",
    "cimport cython\n",
    "\n",
    "ctypedef cnp.float64_t DTYPE_t  # alias pro typ float64\n",
    "\n",
    "@cython.boundscheck(False)  # vypnutí kontrol přístupu mimo pole -> chyba = segfault\n",
    "@cython.wraparound(False)  # vypnutí záporných indexů -> chyba = segfault\n",
    "def dist_cython(cnp.ndarray[DTYPE_t, ndim=2] points):\n",
    "    cdef int n = points.shape[0]\n",
    "    cdef cnp.ndarray[DTYPE_t, ndim=2] distances_all = np.zeros((n, n), dtype=np.float64)\n",
    "    cdef int i, j, k  # všechny iterační proměnné musí být definované\n",
    "    cdef DTYPE_t tmp_sum, rozdil, tmp_dist  # pomocné proměnné\n",
    "\n",
    "    for i in range(n):\n",
    "        for j in range(n):\n",
    "            tmp_sum = 0\n",
    "            for k in range(3):\n",
    "                rozdil = points[i, k] - points[j, k]\n",
    "                tmp_sum += rozdil * rozdil\n",
    "            tmp_dist = sqrt(tmp_sum)\n",
    "            distances_all[i, j] = tmp_dist\n",
    "\n",
    "    return distances_all"
   ]
  },
  {
   "cell_type": "code",
   "execution_count": null,
   "metadata": {},
   "outputs": [],
   "source": [
    "%timeit _ = dist_cython(points_np)"
   ]
  },
  {
   "cell_type": "code",
   "execution_count": null,
   "metadata": {},
   "outputs": [],
   "source": [
    "# vyzkoušíme si, jestli to funguje\n",
    "res1 = dist_numba(points_np)\n",
    "res2 = dist_cython(points_np)\n",
    "np.allclose(res1, res2)"
   ]
  },
  {
   "cell_type": "markdown",
   "metadata": {},
   "source": [
    "## Porovnání nejlepších variant"
   ]
  },
  {
   "cell_type": "code",
   "execution_count": null,
   "metadata": {},
   "outputs": [],
   "source": [
    "import time\n",
    "import matplotlib.pyplot as plt\n",
    "\n",
    "velikosti = [2**i for i in range(6, 15)]\n",
    "time_numba = []\n",
    "time_cython = []\n",
    "\n",
    "for n in velikosti:\n",
    "    points_np = np.random.rand(n, 3)\n",
    "\n",
    "    start = time.time()\n",
    "    _ = dist_numba(points_np)\n",
    "    time_numba.append(time.time() - start)\n",
    "\n",
    "    start = time.time()\n",
    "    _ = dist_cython(points_np)\n",
    "    time_cython.append(time.time() - start)\n",
    "\n",
    "    print(n, time_numba[-1], time_cython[-1])\n",
    "\n",
    "# log-log grafy\n",
    "plt.loglog(velikosti, time_numba, label=\"numba\")\n",
    "plt.loglog(velikosti, time_cython, label=\"cython\")\n",
    "plt.xlabel(\"Počet bodů\")\n",
    "plt.ylabel(\"Čas [s]\")\n",
    "plt.grid()\n",
    "plt.title(\"Porovnání rychlosti numba vs cython\")\n",
    "plt.legend()"
   ]
  },
  {
   "cell_type": "markdown",
   "metadata": {},
   "source": [
    "# Paralelní implementace:"
   ]
  },
  {
   "cell_type": "code",
   "execution_count": null,
   "metadata": {},
   "outputs": [],
   "source": [
    "points_count = 1000\n",
    "points_np = np.random.rand(points_count, 3)"
   ]
  },
  {
   "cell_type": "markdown",
   "metadata": {},
   "source": [
    "## Numba - paralelní verze\n",
    "\n",
    "- stačí nám tag `parallel=True` a `prange` místo `range`"
   ]
  },
  {
   "cell_type": "code",
   "execution_count": null,
   "metadata": {},
   "outputs": [],
   "source": [
    "@numba.jit(nopython=True, parallel=True)\n",
    "def dist_numba_parallel(points):\n",
    "    n = points.shape[0]\n",
    "    distances_all = np.zeros((n, n))\n",
    "    for i in numba.prange(n):\n",
    "        for j in numba.prange(n):\n",
    "            tmp_sum = 0\n",
    "            for k in range(3):\n",
    "                rozdil = points[i, k] - points[j, k]\n",
    "                tmp_sum += rozdil*rozdil\n",
    "            tmp_dist = math.sqrt(tmp_sum)\n",
    "            distances_all[i, j] = tmp_dist\n",
    "\n",
    "    return distances_all"
   ]
  },
  {
   "cell_type": "code",
   "execution_count": null,
   "metadata": {},
   "outputs": [],
   "source": [
    "%time _ = dist_numba_parallel(points_np)"
   ]
  },
  {
   "cell_type": "code",
   "execution_count": null,
   "metadata": {},
   "outputs": [],
   "source": [
    "%timeit _ = dist_numba_parallel(points_np)"
   ]
  },
  {
   "cell_type": "markdown",
   "metadata": {},
   "source": [
    "## Cython - paralelní verze"
   ]
  },
  {
   "cell_type": "markdown",
   "metadata": {},
   "source": [
    "Verze s redundatním výpočtem vzdálenosti mezi body, bude se lépe paralelizovat."
   ]
  },
  {
   "cell_type": "markdown",
   "metadata": {},
   "source": [
    "- použijeme `prange()`\n",
    "- přidáme kompilační argumenty `--compile-args=-fopenmp` pro použití OpenMP, a `--link-args=-fopenmp` pro linkování s OpenMP knihovnou"
   ]
  },
  {
   "cell_type": "code",
   "execution_count": null,
   "metadata": {},
   "outputs": [],
   "source": [
    "%%cython --compile-args=-O3  --compile-args=-w --compile-args=-fopenmp --link-args=-fopenmp\n",
    "\n",
    "import numpy as np\n",
    "cimport numpy as cnp\n",
    "from libc.math cimport sqrt\n",
    "cimport cython\n",
    "from cython.parallel import prange # toto je zde nové\n",
    "\n",
    "ctypedef cnp.float64_t DTYPE_t\n",
    "\n",
    "@cython.boundscheck(False)\n",
    "@cython.wraparound(False)\n",
    "cpdef dist_cython_parallel(cnp.ndarray[DTYPE_t, ndim=2] points, int n_threads):\n",
    "    cdef int n = points.shape[0]\n",
    "    cdef cnp.ndarray[DTYPE_t, ndim=2] distances_all = np.zeros((n, n), dtype=np.float64)\n",
    "    cdef int i, j, k\n",
    "    cdef DTYPE_t tmp_sum, rozdil, tmp_dist\n",
    "\n",
    "\n",
    "    for i in prange(n, nogil=True, num_threads=n_threads): # toto je zde nové\n",
    "        for j in prange(n, num_threads=n_threads):\n",
    "            tmp_sum = 0  # Reset tmp_sum for each new pair of points\n",
    "            for k in range(3):\n",
    "                rozdil = points[i, k] - points[j, k]\n",
    "                tmp_sum = tmp_sum + rozdil * rozdil # toto je zde nové\n",
    "            tmp_dist = sqrt(tmp_sum)\n",
    "            distances_all[i, j] = tmp_dist\n",
    "\n",
    "    return distances_all"
   ]
  },
  {
   "cell_type": "code",
   "execution_count": null,
   "metadata": {},
   "outputs": [],
   "source": [
    "%timeit _ = dist_cython_parallel(points_np,8)"
   ]
  },
  {
   "cell_type": "code",
   "execution_count": null,
   "metadata": {},
   "outputs": [],
   "source": [
    "# vyzkoušíme si, jestli to funguje\n",
    "res1 = dist_numba_parallel(points_np)\n",
    "res2 = dist_cython_parallel(points_np, 16)\n",
    "np.allclose(res1, res2)"
   ]
  },
  {
   "cell_type": "markdown",
   "metadata": {},
   "source": [
    "# Benchmarking"
   ]
  },
  {
   "cell_type": "code",
   "execution_count": null,
   "metadata": {},
   "outputs": [],
   "source": [
    "import time\n",
    "import matplotlib.pyplot as plt\n",
    "\n",
    "pocet_bodu =[2**i for i in range(10, 14)]\n",
    "time_cython_serial = []\n",
    "time_numba_serial = []\n",
    "\n",
    "all_num_threads = [4, 8, 16]\n",
    "time_cython_parallel = [[] for _ in all_num_threads]\n",
    "time_numba_parallel = [[] for _ in all_num_threads]\n",
    "\n",
    "\n",
    "\n",
    "n_loops = 10\n",
    "\n",
    "def measure_multi(n,func):\n",
    "    tmp_time = []\n",
    "    for i in range(n):\n",
    "        start = time.time()\n",
    "        _ = func(points_np)\n",
    "        tmp_time.append(time.time() - start)\n",
    "    return min(tmp_time)\n",
    "\n",
    "for n in pocet_bodu:\n",
    "    points_np = np.random.rand(n, 3)\n",
    "    \n",
    "    time_cython_serial.append(measure_multi(n_loops, dist_cython))\n",
    "    time_numba_serial.append(measure_multi(n_loops, dist_numba))\n",
    "\n",
    "    for idx, n_threads in enumerate(all_num_threads):\n",
    "        cython_par_test_wrap = lambda points_np: dist_cython_parallel(points_np, n_threads)\n",
    "        time_cython_parallel[idx].append(measure_multi(n_loops, cython_par_test_wrap))\n",
    "        numba.set_num_threads(n_threads)\n",
    "        time_numba_parallel[idx].append(measure_multi(n_loops, dist_numba_parallel))\n",
    "\n",
    "\n",
    "    min_time = min([time_cython_parallel[idx][-1] for idx, _ in enumerate(all_num_threads)])\n",
    "    ratio = time_numba_serial[-1]/min_time\n",
    "    print(f\"velikost {n}, čas sekvenční {time_cython_serial[-1]}, nejlepší paralelní {min_time}, poměr {ratio}\")\n",
    "\n",
    "# log-log grafy\n",
    "plt.loglog(pocet_bodu, time_cython_serial, label='cython serial')\n",
    "plt.loglog(pocet_bodu, time_numba_serial, label='numba serial', linestyle=':')\n",
    "for idx, n_threads in enumerate(all_num_threads):\n",
    "    plt.loglog(pocet_bodu, time_cython_parallel[idx], label='cython parallel' + str(n_threads))\n",
    "    plt.loglog(pocet_bodu, time_numba_parallel[idx], label='numba parallel' + str(n_threads), linestyle=':')\n",
    "\n",
    "plt.legend()\n",
    "plt.grid()\n",
    "plt.xlabel(\"Počet bodů\")\n",
    "plt.ylabel(\"Čas [s]\")\n",
    "plt.title(\"Porovnání rychlosti numba vs cython\")\n",
    "plt.show()"
   ]
  }
 ],
 "metadata": {
  "kernelspec": {
   "display_name": "Python 3",
   "language": "python",
   "name": "python3"
  },
  "language_info": {
   "codemirror_mode": {
    "name": "ipython",
    "version": 3
   },
   "file_extension": ".py",
   "mimetype": "text/x-python",
   "name": "python",
   "nbconvert_exporter": "python",
   "pygments_lexer": "ipython3",
   "version": "3.13.2"
  },
  "orig_nbformat": 4
 },
 "nbformat": 4,
 "nbformat_minor": 2
}
