{
 "cells": [
  {
   "cell_type": "markdown",
   "metadata": {},
   "source": []
  },
  {
   "cell_type": "code",
   "execution_count": null,
   "metadata": {},
   "outputs": [],
   "source": [
    "import numpy as np\n",
    "import numba"
   ]
  },
  {
   "cell_type": "code",
   "execution_count": null,
   "metadata": {},
   "outputs": [],
   "source": [
    "n = 1600\n",
    "A = np.random.rand(n, n)\n",
    "B = np.random.rand(n, n)\n",
    "C = np.zeros((n, n), dtype=np.float64)"
   ]
  },
  {
   "cell_type": "code",
   "execution_count": null,
   "metadata": {},
   "outputs": [],
   "source": [
    "%%timeit\n",
    "C = A @ B"
   ]
  },
  {
   "cell_type": "code",
   "execution_count": null,
   "metadata": {},
   "outputs": [],
   "source": [
    "@numba.jit(nopython=True)\n",
    "def matmul_numba(A, B, C):\n",
    "    n = A.shape[0]\n",
    "    for i in numba.prange(n):\n",
    "        for j in numba.prange(n):\n",
    "            sum = 0.0\n",
    "            for k in range(n):\n",
    "                sum += A[i, k] * B[k, j]\n",
    "            C[i, j] = sum"
   ]
  },
  {
   "cell_type": "code",
   "execution_count": null,
   "metadata": {},
   "outputs": [],
   "source": [
    "matmul_numba(A, B, C)"
   ]
  },
  {
   "cell_type": "code",
   "execution_count": null,
   "metadata": {},
   "outputs": [],
   "source": [
    "%%timeit\n",
    "matmul_numba(A, B, C)"
   ]
  },
  {
   "cell_type": "code",
   "execution_count": null,
   "metadata": {},
   "outputs": [],
   "source": [
    "1000/25"
   ]
  },
  {
   "cell_type": "code",
   "execution_count": null,
   "metadata": {},
   "outputs": [],
   "source": [
    "CS = 20\n",
    "NCHUNKS = int(A.shape[0]/CS)\n",
    "\n",
    "@numba.jit(nopython=True, parallel=True)\n",
    "def dot_chunked(A, B, C):\n",
    "    for i in numba.prange(NCHUNKS):\n",
    "        for j in numba.prange(NCHUNKS):\n",
    "            for k in range(NCHUNKS):\n",
    "                for ii in range(i * CS, (i + 1) * CS):\n",
    "                    for jj in range(j * CS, (j + 1) * CS):\n",
    "                        for kk in range(k * CS, (k + 1) * CS):\n",
    "                            C[ii, jj] += A[ii, kk] * B[kk, jj]"
   ]
  },
  {
   "cell_type": "code",
   "execution_count": null,
   "metadata": {},
   "outputs": [],
   "source": [
    "C = np.zeros((n, n), dtype=np.float64)"
   ]
  },
  {
   "cell_type": "code",
   "execution_count": null,
   "metadata": {},
   "outputs": [],
   "source": [
    "dot_chunked(A, B, C)"
   ]
  },
  {
   "cell_type": "code",
   "execution_count": null,
   "metadata": {},
   "outputs": [],
   "source": [
    "%%timeit\n",
    "dot_chunked(A, B, C)"
   ]
  },
  {
   "cell_type": "code",
   "execution_count": null,
   "metadata": {},
   "outputs": [],
   "source": [
    "CC = C.copy()"
   ]
  },
  {
   "cell_type": "code",
   "execution_count": null,
   "metadata": {},
   "outputs": [],
   "source": [
    "np.allclose(C, CC)"
   ]
  },
  {
   "cell_type": "code",
   "execution_count": null,
   "metadata": {},
   "outputs": [],
   "source": [
    "C[:3, :3]"
   ]
  },
  {
   "cell_type": "code",
   "execution_count": null,
   "metadata": {},
   "outputs": [],
   "source": [
    "CC[:3, :3]"
   ]
  },
  {
   "cell_type": "code",
   "execution_count": null,
   "metadata": {},
   "outputs": [],
   "source": [
    "C = A @ B\n",
    "C[:3, :3]"
   ]
  },
  {
   "cell_type": "code",
   "execution_count": null,
   "metadata": {},
   "outputs": [],
   "source": [
    "%load_ext cython"
   ]
  },
  {
   "cell_type": "code",
   "execution_count": null,
   "metadata": {},
   "outputs": [],
   "source": [
    "%%cython --compile-args=-O3\n",
    "# cython: language_level=3\n",
    "import numpy as np\n",
    "cimport numpy as cnp\n",
    "\n",
    "def matrix_multiply(cnp.ndarray[cnp.float64_t, ndim=2] A,\n",
    "                    cnp.ndarray[cnp.float64_t, ndim=2] B,\n",
    "                    cnp.ndarray[cnp.float64_t, ndim=2] C):\n",
    "    cdef int n = A.shape[0]\n",
    "    cdef int i, j, k\n",
    "    cdef double sum\n",
    "    for i in range(n):\n",
    "        for j in range(n):\n",
    "            sum = 0.0\n",
    "            for k in range(n):\n",
    "                sum += A[i, k] * B[k, j]\n",
    "            C[i, j] = sum\n"
   ]
  },
  {
   "cell_type": "code",
   "execution_count": null,
   "metadata": {},
   "outputs": [],
   "source": [
    "%%time\n",
    "matrix_multiply(A, B, C)"
   ]
  },
  {
   "cell_type": "code",
   "execution_count": null,
   "metadata": {},
   "outputs": [],
   "source": [
    "%%time\n",
    "matmul_numba(A, B, C)"
   ]
  }
 ],
 "metadata": {
  "kernelspec": {
   "display_name": ".venv",
   "language": "python",
   "name": "python3"
  },
  "language_info": {
   "codemirror_mode": {
    "name": "ipython",
    "version": 3
   },
   "file_extension": ".py",
   "mimetype": "text/x-python",
   "name": "python",
   "nbconvert_exporter": "python",
   "pygments_lexer": "ipython3",
   "version": "3.12.3"
  }
 },
 "nbformat": 4,
 "nbformat_minor": 2
}
