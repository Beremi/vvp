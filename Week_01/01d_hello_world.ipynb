{
 "cells": [
  {
   "cell_type": "markdown",
   "metadata": {},
   "source": [
    "# Takto vypadá \"Hello world! v Pythonu\n",
    "Výpis textu na obrazovku je velice jednoduchý, stačí použít funkci `print`.\n",
    "\n",
    "Když už jsme u funkcí, tak pro pořádek: funcke se volá (používá) tak, že za název funkce v kulatých závorkách zapisujeme parametry, které funkce přijímá. Funkce může mít libobolné množství parametrů (i žádný, pak jsou závorky prázdné), pokud má parametrů více, jsou odděleny čárkou."
   ]
  },
  {
   "cell_type": "code",
   "execution_count": null,
   "metadata": {},
   "outputs": [],
   "source": [
    "print(\"Hello world!\")\n"
   ]
  },
  {
   "cell_type": "markdown",
   "metadata": {},
   "source": [
    "A když už jsme zvládli \"Hello world!\", tak si ukážeme i co znamená, že je Python Dynamicky a silně typovaný jazyk."
   ]
  },
  {
   "cell_type": "code",
   "execution_count": null,
   "metadata": {},
   "outputs": [],
   "source": [
    "a = 1  # dynamicky typovaná proměnná\n",
    "b = \"ahoj\"  # další dynamicky typovaná proměnná\n",
    "c = 0.3  # další dynamicky typovaná proměnná\n"
   ]
  },
  {
   "cell_type": "code",
   "execution_count": null,
   "metadata": {},
   "outputs": [],
   "source": [
    "print(a)\n",
    "print(b)\n",
    "print(c)\n",
    "print(a + c)  # silně typovaný jazyk, ale toto je implementováno\n",
    "# print(a + b)  # by byla chyba - silně typovaný jazyk, a toto není implementováno\n"
   ]
  },
  {
   "cell_type": "markdown",
   "metadata": {},
   "source": [
    "Zmínili jsme obrovské množství rozšíření. Do vlastního pracovního prostředí si je můžeme tzv. naimportovat. To znamená, že si je \"přidáme\" do našeho kódu. Toho můžeme docílit pomocí příkazu `import`"
   ]
  },
  {
   "cell_type": "code",
   "execution_count": null,
   "metadata": {},
   "outputs": [],
   "source": [
    "import math\n"
   ]
  },
  {
   "cell_type": "markdown",
   "metadata": {},
   "source": [
    "K dokumentaci modulů se dostaneme pomocí příkazu `help`, případně můžeme vypsat všechny jeho součásti pomocí příkazu `dir`"
   ]
  },
  {
   "cell_type": "code",
   "execution_count": null,
   "metadata": {},
   "outputs": [],
   "source": [
    "help(math)\n",
    "dir(math)\n"
   ]
  },
  {
   "cell_type": "markdown",
   "metadata": {},
   "source": [
    "# Úvod do Pythonu\n"
   ]
  },
  {
   "cell_type": "markdown",
   "metadata": {},
   "source": [
    "# 1.1. Příkazy/řádky\n",
    "V Pythonu se příkazy oddělují pomocí nového řádku. Pokud potřebujeme (například kvůli přílišné délce řádku) příkaz rozdělit na více řádků, použijeme znak `\\` a pokračujeme se zbytkem příkazu na dalším řádku. Konec příkazu není třeba označovat (například pomocí `;` jako je to například v C), středník však na konec řádku dát můžeme (nebude to mít žádný vliv). Pokud chceme dát několik příkazů na jeden řádek, oddělíme je pomocí středníku.\n"
   ]
  },
  {
   "cell_type": "code",
   "execution_count": null,
   "metadata": {},
   "outputs": [],
   "source": [
    "print(\"Ahoj světe!\")\n",
    "print(\"Ahoj \\\n",
    "světe\\\n",
    "!\")\n",
    "print(\"Ahoj \", end=\"\"); print(\"světe!\")\n"
   ]
  },
  {
   "cell_type": "markdown",
   "metadata": {},
   "source": [
    "## 1.2. Indentace a užití mezer/tabulátorů\n",
    "\n",
    "Python se liší od mnoha jiných programovacích jazyků tím, že tzv. indentace je pro něj závazná a je součástí syntaxe. Výrazem \"závazná indentace\" nemyslíme, že by bylo nutné používat přesně daný počet mezer/tabulátorů, ale že odsazení bloku kódu (a je jedno, jak velké) udává, že se jedná o jeden `blok`. \n",
    "\n",
    "`Bloky` v Pythonu typicky následují za dvojtečkou `:` (např. `if`, `for`, `def`). Pokud bychom chtěli udělat separátní blok pouze z důvodu využití lokálního prostoru (tak, jak by se to například v C udělalo pomocí složených závorek `{}`), tak toto v Pythonu nelze (odsazení bez `:` je chyba a program se nepřeloží).\n",
    "\n",
    "Běžně se pro jeden úroveň odsazení používají 4 mezery nebo 1 tabulátor. VS Code (alespoň výchozí nastavení) automaticky přepisuje tabulátory na 4 mezery (např. po uložení souboru). \n",
    "\n",
    "Mimo odsazení, tj. kdekoliv uvnitř příkazu (mimo definici řetězce) jsou mezery a tabulátory ignorovány.\n",
    "\n",
    "Ve VS Code je obsažen automatický formátovací nástroj, který všechny bloky kódu automaticky odsadí dle zvoleného stylu (4 mezery) a přidá mezery mezi operátory a operandy. Tento nástroj se spouští pomocí klávesové zkratky `Ctrl+Shift+I` nebo `Cmd+Shift+I` (podle toho, zda používáte Windows nebo Mac).\n",
    "\n",
    "**Standardní \"neformální\" dohoda o formátování je:**\n",
    "- 4 mezery pro odsazení\n",
    "- mezera mezi operátory a operandy\n",
    "- mezera po čárce\n",
    "- prázdný řádek na konci souboru\n",
    "- prázdný řádek mezi bloky kódu\n",
    "- dva prázdné řádky mezi definicemi funkcí\n",
    "\n",
    "Tímto se také řídí automatický formátovací nástroj ve VS Code.\n",
    "\n",
    "**Koukněte se, co je ještě validní kód z hlediska mezer/tabulátorů a odsazení. Poté vyzkoušejte automatické formátování.**\n"
   ]
  },
  {
   "cell_type": "code",
   "execution_count": null,
   "metadata": {},
   "outputs": [],
   "source": [
    "def       foo()       :\n",
    "    for  i       in                    range(  10   )               :\n",
    "                       print(      i      )\n",
    "                       print(       i +     1)\n",
    "\n",
    "foo(            )"
   ]
  },
  {
   "cell_type": "markdown",
   "metadata": {},
   "source": [
    "\n",
    "## 1.3. Komentáře\n",
    "\n",
    "\"Pravé\" komentáře v Pythonu se píšou pouze pomocí znaku `#` a jsou jednořádkové. Vše, co je za znakem `#`, je považováno za komentář. Není však omezeno, kolik takových komentářů a kde přesně budou umístěny. V případě, že bychom chtěli napsat víceřádkový komentář (například docstring), tak je v Pythonu zvykem použít řetězec uvozený trojicí uvozovek `\"\"\"` nebo `'''`, který není přiřazen žádné proměnné.\n",
    "\n"
   ]
  },
  {
   "cell_type": "code",
   "execution_count": null,
   "metadata": {},
   "outputs": [],
   "source": [
    "def foo():\n",
    "    \"\"\"_summary_ of foo:\n",
    "    \n",
    "    nothing to see here\n",
    "    \"\"\"    \n",
    "    print('foo') # vytiskneme foo\n",
    "    \n",
    "foo() # zavolame funkci foo\n",
    "\n",
    "# jednoduchá aritmetika\n",
    "a = 1 # a je jedna\n",
    "b = 2                       # b je dva\n",
    "c = a + b        # c je tři\n",
    "print(c) # vytiskneme tři"
   ]
  },
  {
   "cell_type": "markdown",
   "metadata": {},
   "source": [
    "## 1.4. Proměnné\n",
    "\n",
    "Proměnné v Pythonu se definují pomocí znaku `=`. V Pythonu není nutné definovat typ proměnné, takže například `a = 1` je validní příkaz. Python je tzv. case-sensitive jazyk, takže proměnné `a` a `A` jsou dvě různé proměnné."
   ]
  },
  {
   "cell_type": "code",
   "execution_count": null,
   "metadata": {},
   "outputs": [],
   "source": [
    "a = 1\n",
    "A = 2\n",
    "a1 = 3\n",
    "print(a, A, a1)"
   ]
  },
  {
   "cell_type": "markdown",
   "metadata": {},
   "source": [
    "## 1.5. Funkce\n",
    "Funkce se definují pomocí klíčového slova `def` a za ním následuje název funkce a seznam parametrů. Funkce vrací hodnotu pomocí klíčového slova `return`."
   ]
  },
  {
   "cell_type": "code",
   "execution_count": null,
   "metadata": {},
   "outputs": [],
   "source": [
    "def foo1():\n",
    "    print(\"nothing to see here\")\n",
    "    \n",
    "    \n",
    "def foo2(a):\n",
    "    return a\n",
    "\n",
    "\n",
    "def foo3(a, b):\n",
    "    return a + b\n",
    "\n",
    "print(foo1())\n",
    "print(foo2(1))\n",
    "print(foo3(1, 2))"
   ]
  }
 ],
 "metadata": {
  "kernelspec": {
   "display_name": "Python 3",
   "language": "python",
   "name": "python3"
  },
  "language_info": {
   "codemirror_mode": {
    "name": "ipython",
    "version": 3
   },
   "file_extension": ".py",
   "mimetype": "text/x-python",
   "name": "python",
   "nbconvert_exporter": "python",
   "pygments_lexer": "ipython3",
   "version": "3.13.2"
  }
 },
 "nbformat": 4,
 "nbformat_minor": 2
}
