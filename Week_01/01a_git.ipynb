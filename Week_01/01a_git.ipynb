{
 "cells": [
  {
   "attachments": {},
   "cell_type": "markdown",
   "metadata": {},
   "source": [
    "# Úvod do Gitu\n",
    "\n",
    "Tento text slouží jako základní úvod do používání Gitu s důrazem na použití grafického uživatelského rozhraní (GUI) ve Visual Studio Code (VS Code). Příkazy pro terminál jsou také zmíněny, budeme se však zaměřovat na použití GUI.\n",
    "\n",
    "- Výchozím bodem pro práci s Gitem bude záložka `Source Control` umístěná v levém panelu VS Code.\n",
    "- Pro získání lepšího přehledu o větvích a vizualizaci historie commitů doporučujeme nainstalovat doplněk `Git Graph`.\n"
   ]
  },
  {
   "cell_type": "markdown",
   "metadata": {},
   "source": [
    "## Git a GitHub\n",
    "\n",
    "### Co je Git?\n",
    "\n",
    "Git je distribuovaný systém pro správu verzí, který umožňuje vývojářům sledovat změny v souborech a koordinovat práci na těchto souborech mezi více lidmi. \n",
    "\n",
    "- Správa verzí: Umožňuje ukládání a sledování změn v souborech formou \"commitů\", což jsou záznamy o stavu souborů v určitém čase.\n",
    "\n",
    "\n",
    "### Co je GitHub?\n",
    "\n",
    "GitHub je webová platforma založená na Gitu, která poskytuje hosting pro software development a jeho verzování. Umožňuje vývojářům ukládat své Git repozitáře online a poskytuje nástroje pro týmovou spolupráci, jako jsou sledování problémů (issue tracking), revize kódu (code review) a integrační služby. GitHub je jednou z nejpopulárnějších platforem pro hosting kódu a je široce používán v komunitě open-source.\n",
    "\n",
    "## Co je repozitář?\n",
    "\n",
    "Repozitář v Gitu je základní prvek, který obsahuje všechny soubory projektu a historii jejich změn. Může existovat jak lokálně na počítači vývojáře (lokální repozitář), tak online na platformě jako je GitHub (vzdálený repozitář). Každá kopie repozitáře obsahuje jeho kompletní historii změn.\n",
    "\n",
    "### Co je lokální repozitář?\n",
    "\n",
    "\"Lokální\" repozitář v kontextu Gitu odkazuje na repozitář uložený na počítači vývojáře. Jedná se o osobní kopii projektu, kde může vývojář provádět změny, aniž by ovlivnil ostatní. Změny v lokálním repozitáři nejsou automaticky synchronizovány s vzdáleným repozitářem. Synchronizace probíhá explicitně pomocí příkazů jako `git push`.\n",
    "\n",
    "### Co je remote?\n",
    "\n",
    "\"Remote\" nebo \"vzdálený\" repozitář v kontextu Gitu odkazuje na online kopii projektového repozitáře, která slouží jako centrální místo pro shromažďování a sdílení změn mezi všemi členy týmu. Vývojáři mohou \"pushovat\" (odesílat) změny do vzdáleného repozitáře nebo \"pullnout\" (stahovat) aktualizace z něj, což umožňuje synchronizaci práce mezi různými lokálními repozitáři.\n",
    "\n",
    "### Vztah mezi lokálním a vzdáleným repozitářem\n",
    "\n",
    "Vztah mezi lokálním a vzdáleným repozitářem je klíčový pro distribuovanou práci v Gitu. Lokální repozitář je osobní kopie projektu vývojáře, kde může provádět změny bez ovlivnění ostatních. Vzdálený repozitář, typicky hostovaný na platformě jako GitHub, slouží jako centrální bod, kde se změny z různých lokálních repozitářů shromažďují a synchronizují. Tento model umožňuje vývojářům sdílet a spolupracovat na kódu efektivně, zatímco udržují kompletní kontrolu nad vlastními lokálními pracovními kopiemi.\n"
   ]
  },
  {
   "attachments": {},
   "cell_type": "markdown",
   "metadata": {},
   "source": [
    "# Inicializace lokálního repozitáře\n",
    "\n",
    "Pro vytvoření nového repozitáře použijeme v GUI VS Code možnost inicializace repozitáře, která je dostupná přes záložku Source Control. Tato akce odpovídá příkazu `git init` v terminálu.\n",
    "\n",
    "Pro stažení existujícího repozitáře můžeme rovněž využít GUI VS Code, konkrétně možnost klonování repozitáře, která je dostupná v téže záložce Source Control. Tato operace odpovídá příkazu `git clone` v terminálu.\n",
    "\n",
    "**Obě tyto akce jsou možné provést přímo z GUI VS Code, což zjednodušuje práci s Git repozitáři.**\n"
   ]
  },
  {
   "attachments": {},
   "cell_type": "markdown",
   "metadata": {},
   "source": [
    "## Sdělení Gitu, kdo jsme\n",
    "\n",
    "Pro identifikaci autora jednotlivých záznamů změn (commitů) je potřeba Gitu sdělit jméno a email autora. Toto lze provést pomocí následujících příkazů:\n",
    "- Nastavení jména: `git config --global user.name \"vaše jméno\"`\n",
    "- Nastavení emailu: `git config --global user.email \"váš email\"`\n",
    "\n",
    "Toto nastavení je aplikováno lokálně pro všechny repozitáře na vašem počítači. Jméno a email, které zadáte, nemusí nutně odpovídat vašim skutečným údajům. Nicméně, pokud plánujete sdílet repozitář s ostatními, například na GitHubu, tyto informace budou veřejně viditelné jako součást vašich commitů.\n"
   ]
  },
  {
   "attachments": {},
   "cell_type": "markdown",
   "metadata": {},
   "source": [
    "## Přihlášení k GitHubu ve VS Code\n",
    "\n",
    "Pro přihlášení k GitHubu ve Visual Studio Code:\n",
    "1. Klikněte na ikonu profilu v levém dolním rohu VS Code.\n",
    "2. Vyberte \"Setting Synchronizace\" nebo \"Settings Sync\", což otevře okno pro přihlášení.\n",
    "3. Postupujte podle instrukcí pro přihlášení k vašemu GitHub účtu.\n",
    "\n",
    "Toto přihlášení nabízí dva hlavní benefity:\n",
    "- Umožňuje snadné \"pushování\" změn do vašich repozitářů na GitHubu přímo z VS Code.\n",
    "- Synchronizuje vaše nastavení VS Code mezi různými počítači, což zjednodušuje práci na různých zařízeních.\n"
   ]
  },
  {
   "attachments": {},
   "cell_type": "markdown",
   "metadata": {},
   "source": [
    "# První commit\n",
    "\n",
    "Pro zaznamenání změn v kódu je potřeba nejprve přidat změny do \"staging area\" pomocí GUI ve Visual Studio Code:\n",
    "\n",
    "1. Otevřete záložku Source Control v levém panelu.\n",
    "2. U jednotlivých souborů, které chcete přidat do staging area, klikněte na značku `+` nebo použijte možnost `Stage All Changes` pro přidání všech změn najednou (alternativou jsou příkazy `git add`).\n",
    "\n",
    "Staging area je prostředník mezi vašimi pracovními soubory a historií repozitáře. Přidáním souborů do staging area připravíte změny, které chcete zaznamenat v dalším commitu.\n",
    "\n",
    "Pro samotné zaznamenání změn (commit):\n",
    "1. Do pole pro zprávu (Message) ve Source Control zadejte popis změny.\n",
    "2. Potvrďte commit kliknutím na tlačítko `✓ Commit`.\n",
    "\n",
    "Tímto způsobem můžete snadno zaznamenávat změny v kódu přímo z prostředí VS Code bez nutnosti používat příkazy v terminálu.\n"
   ]
  },
  {
   "cell_type": "markdown",
   "metadata": {},
   "source": [
    "## Pushnutí změn na GitHub\n",
    "\n",
    "### Přidání vzdáleného (remote) repozitáře\n",
    "Abychom mohli sdílet naše lokální změny s ostatními nebo je uložit na bezpečné místo jako je GitHub, je třeba nejprve přidat vzdálený repozitář. To obvykle zahrnuje vytvoření nového repozitáře na GitHubu a jeho propojení s naším lokálním repozitářem pomocí příkazu `git remote add origin URL repozitáře`. \n",
    "\n",
    "Pokud však používáme Visual Studio Code a jsme přihlášeni k našemu GitHub účtu, můžeme tento proces zjednodušit:\n",
    "\n",
    "1. Po provedení commitu v Source Control panelu VS Code se nám může zobrazit nabídka pro publikaci (Publish) našich změn.\n",
    "2. Tato možnost nám umožní automaticky vytvořit nový repozitář na GitHubu a propojit jej s naším lokálním repozitářem.\n",
    "\n",
    "Přihlášení k GitHubu ve VS Code a využití této integrované funkcionality nám umožňuje efektivněji spravovat naše repozitáře a snadněji sdílet naše práce s komunitou nebo týmem.\n"
   ]
  },
  {
   "attachments": {},
   "cell_type": "markdown",
   "metadata": {},
   "source": [
    "### Pushnutí změn na GitHub\n",
    "\n",
    "Pro zaznamenání změn v lokálním repozitáři na vzdáleném repozitáři, jako je GitHub, je třeba použít funkci push. Tím se změny v lokálním repozitáři \"pushnou\" (odesílají) do vzdáleného repozitáře.\n",
    "\n",
    "1. Po vytvoření commitu ve Visual Studio Code můžete snadno pushnout změny na GitHub pomocí tlačítka pro synchronizaci, které se automaticky objeví v dolní části okna VS Code.\n",
    "2. Pokud jste právě vytvořili nový repozitář a je to váš první push, VS Code vás pravděpodobně požádá o výběr vzdáleného repozitáře a větve, do které chcete změny pushnout.\n",
    "\n",
    "Toto tlačítko pro synchronizaci ulehčuje proces pushování změn na GitHub, protože minimalizuje potřebu manuálně zadávat příkazy v terminálu nebo navigovat přes GitHub webové rozhraní.\n"
   ]
  },
  {
   "cell_type": "markdown",
   "metadata": {},
   "source": [
    "# Vytvoření nové větve (branch) a merge větví ve VS Code\n",
    "\n",
    "## Vytvoření nové větve\n",
    "Pro práci na různých funkcionalitách současně je užitečné vytvořit novou větev. Výchozí větev je obvykle pojmenována `master` nebo `main`. Novou větev vytvoříme a přepneme se do ní v několika krocích:\n",
    "\n",
    "1. Ve VS Code otevřete nabídku `...` v Source Control panelu, která se nachází v horním pravém rohu.\n",
    "2. Vyberte možnost pro vytvoření nové větve a zadejte její název.\n",
    "3. Pro přepnutí mezi větvemi použijte stejnou nabídku a vyberte požadovanou větev.\n",
    "\n",
    "## Merge větví\n",
    "Pro sloučení změn z jedné větve do jiné:\n",
    "\n",
    "1. Ujistěte se, že jste ve větvi, do které chcete změny sloučit.\n",
    "2. Otevřete nabídku `...` a vyberte možnost pro merge větví.\n",
    "3. Zadejte název větve, kterou chcete sloučit s aktuální větví.\n",
    "\n",
    "## Merge konflikt\n",
    "Pokud dojde k konfliktu během merge, VS Code zobrazí konfliktní řádky podobně jako:\n",
    "\n",
    "```python\n",
    "<<<<<<< HEAD\n",
    "print('Hello world!')\n",
    "=======\n",
    "print('Hello world!!!')\n",
    ">>>>>>> new_branch\n",
    "```\n",
    "\n",
    "Zde `<<<<<<< HEAD` označuje začátek konfliktu, `=======` odděluje změny z jedné větve od druhé a `>>>>>>>` ukončuje konflikt. Konflikt je nutné vyřešit ručně, lze však přímo v editoru."
   ]
  }
 ],
 "metadata": {
  "kernelspec": {
   "display_name": "Python 3",
   "language": "python",
   "name": "python3"
  },
  "language_info": {
   "name": "python",
   "version": "3.13.2"
  },
  "orig_nbformat": 4,
  "vscode": {
   "interpreter": {
    "hash": "e7370f93d1d0cde622a1f8e1c04877d8463912d04d973331ad4851f04de6915a"
   }
  }
 },
 "nbformat": 4,
 "nbformat_minor": 2
}
