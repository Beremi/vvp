{
 "cells": [
  {
   "attachments": {},
   "cell_type": "markdown",
   "metadata": {},
   "source": [
    "# Úvod do gitu\n",
    "Všechny příkazy zmíněné zde jsou pro terminál. Jsou zde zmíněné pouze jako reference, budeme předpokládat použítí GUI v VS Code.\n",
    "\n",
    "- Našim výchozím bodem je záložka `Source Control` v levém panelu.\n",
    "- Bude se nám také hodit doplněk `Git Graph` pro lepší přehled o větvích."
   ]
  },
  {
   "cell_type": "markdown",
   "metadata": {},
   "source": [
    "\n",
    "## Git a GitHub\n",
    "\n",
    "### Co je Git?\n",
    "\n",
    "Git je distribuovaný systém pro správu verzí, který umožňuje vývojářům sledovat změny v souborech a koordinovat práci na těchto souborech mezi více lidmi. \n",
    "\n",
    "- správa verzí: ukládání a sledování změn v souborech formou \"commitů\" (uložení stavu souborů v daném čase)\n",
    "\n",
    "\n",
    "### Co je GitHub?\n",
    "\n",
    "GitHub je webová platforma založená na Gitu, která poskytuje hosting pro software development a jeho verzování pomocí Gitu. Umožňuje vývojářům ukládat své Git repozitáře online a poskytuje nástroje pro týmovou spolupráci, jako jsou issue tracking, code review, a integrační služby. GitHub je jednou z nejpopulárnějších platforem pro hosting kódu a je široce používán v komunitě open-source.\n",
    "\n",
    "## Co je repozitář?\n",
    "\n",
    "Repozitář v Gitu je základní prvek, který obsahuje všechny soubory projektu a historii jejich změn. Může existovat lokálně na počítači vývojáře (lokální repozitář) nebo online na platformě jako je GitHub (vzdálený repozitář). Každá kopie repozitáře obsahuje jeho kompletní historii.\n",
    "\n",
    "### Co je lokální repozitář?\n",
    "\n",
    "\"Lokální\" v kontextu Gitu se odkazuje na repozitář, který je uložen na počítači vývojáře. Může se jednat o kopii repozitáře hostovaného na platformě jako je GitHub. Avšak změny v lokálním repozitáři nejsou automaticky synchronizovány s vzdáleným repozitářem. Synchonizace se provádí explicitně pomocí příkazů jako je `git push`.\n",
    "\n",
    "### Co je remote?\n",
    "\n",
    "\"Remote\" v kontextu Gitu se odkazuje na vzdálený repozitář. Je to online kopie projektového repozitáře, která slouží jako centrální místo, kde se shromažďují a sdílejí změny mezi všemi členy týmu. Vývojáři mohou \"pushovat\" změny do vzdáleného repozitáře nebo \"pullnout\" aktualizace z něj, což umožňuje synchronizaci práce mezi různými lokálními repozitáři.\n",
    "\n",
    "### Vztah mezi lokálním a vzdáleným repozitářem\n",
    "\n",
    "Vztah mezi lokálním a vzdáleným repozitářem je klíčový pro distribuovanou práci v Gitu. Lokální repozitář je osobní kopie projektu vývojáře, kde může provádět změny bez ovlivnění ostatních. Vzdálený repozitář, typicky hostovaný na platformě jako GitHub, slouží jako centrální bod, kde se změny z různých lokálních repozitářů shromažďují a synchronizují. Tento model umožňuje vývojářům sdílet a spolupracovat na kódu efektivně, zatímco udržují kompletní kontrolu nad vlastními lokálními pracovními kopiemi.\n"
   ]
  },
  {
   "attachments": {},
   "cell_type": "markdown",
   "metadata": {},
   "source": [
    "# Inicializace lokálního repozitáře\n",
    "\n",
    "Pokud chceme vytvořit nový repozitář, použijeme příkaz `git init`.\n",
    "\n",
    "Pokud chceme stáhnout existující repozitář, použijeme příkaz `git clone`\n",
    "\n",
    "**Obojí je možné udělat přes záložku Source Control v VS Code**"
   ]
  },
  {
   "attachments": {},
   "cell_type": "markdown",
   "metadata": {},
   "source": [
    "## Sdělme Gitu kdo jsme\n",
    "\n",
    "U jednotlivých záznamů změny kódu je třeba mít vždy i jejich autora. Pokud to git neví automaticky, můžeme to udělat pomocí příkazů \n",
    "- `git config --global user.name \"vašejmeno\"`\n",
    "- `git config --global user.email \"vaš.email\"` \n",
    "\n",
    "Toto nastavení je pouze lokální, jméno i email nemusí být skutečné. Ale pokud repozitář nakonec sdílíte s ostatními (např. na GitHubu), budou tyto hodnoty vidět."
   ]
  },
  {
   "attachments": {},
   "cell_type": "markdown",
   "metadata": {},
   "source": [
    "## Přihlášení k GitHubu ve VS Code\n",
    "V pravo dole v VS Code je ikona profilu. Kliknutím na Setting synchronizace se otevře okno, kde se můžete přihlásit k GitHubu.\n",
    "\n",
    "Toto má dvě hlavní výhody:\n",
    "- můžete jednoduše \"pushnout\" změny do repozitáře na GitHubu\n",
    "- nastavení VS Code se synchronizuje mezi různými počítači"
   ]
  },
  {
   "attachments": {},
   "cell_type": "markdown",
   "metadata": {},
   "source": [
    "# První commit\n",
    "\n",
    "Pokud chceme zaznamenat změny v kódu, musíme je nejprve přidat do \"staging area\". To uděláme pomocí příkazu `git add`. Pokud chceme přidat všechny změny, použijeme příkaz `git add .`.\n",
    "\n",
    "**Toto je možné udělat přes záložku Source Control v VS Code - značka `+` buď u jednotlivých souborů nebo u záložky changes**\n",
    "\n",
    "Staging area je místo, kde se nacházejí změny, které chceme zaznamenat. Tím, že je přidáme do staging area, ještě nezaznamenáme změny v kódu. Pokud chceme změny zaznamenat, použijeme příkaz `git commit -m \"popis změny\"`. \n",
    "\n",
    "**Toto je možné udělat přes záložku Source Control v VS Code - Message a tlačítko `✓ Commit`**"
   ]
  },
  {
   "attachments": {},
   "cell_type": "markdown",
   "metadata": {},
   "source": [
    "## Pushnutí změn na GitHub"
   ]
  },
  {
   "cell_type": "markdown",
   "metadata": {},
   "source": [
    "\n",
    "### Přidání vzdáleného (remote) repozitáře\n",
    "Doposud jsme vše dělali lokálně na tomto PC, tedy GitHub (nebo jakýkoliv jiný vzdálený repozitář) nebyl do procesu zapojen. Poprvé je třeba přidat vzdálený repozitář pomocí příkazu `git remote add origin URL repozitáře`. V našem případě žádný vzdálený repozitář zatím nemáme a musíme jej vytvořit. To můžeme udělat přes webové rozhraní GitHubu. Nebo automaticky přes VS Code.\n",
    "\n",
    "**Pokud jsme ve VS Code přihlášení k GitHubu, můžeme vytvořit nový repozitář  jednoduše v Source Control - po commitu se zobrazí nabítka pro Publish** "
   ]
  },
  {
   "attachments": {},
   "cell_type": "markdown",
   "metadata": {},
   "source": [
    "### Pushnutí změn na GitHub\n",
    "\n",
    "Pokud chceme změny zaznamenat na vzdáleném repozitáři (např. na GitHubu), použijeme příkaz `git push`. Pokud jste vytvořili nový repozitář, budete muset zvolit vzdálený repozitář a větev (branch). \n",
    "\n",
    "**Ve VS Code je tlačítko na synchronizaci automaticky po commitu**"
   ]
  },
  {
   "attachments": {},
   "cell_type": "markdown",
   "metadata": {},
   "source": [
    "# Vytvoření nové větve (branch)\n",
    "\n",
    "Pokud chceme v repozitáři pracovat na více věcech současně, můžeme vytvořit novou větev. Základní větev je vždy `master` nebo `main`. Novou větev vytvoříme pomocí příkazu `git branch nazev_vetve` a přepneme se do ní pomocí příkazu `git checkout nazev_vetve`. \n",
    "\n",
    "**Ve VS Code můžeme obojí udělat přes nabídku `...` v horním pravém rohu.**"
   ]
  },
  {
   "attachments": {},
   "cell_type": "markdown",
   "metadata": {},
   "source": [
    "## Merge větví\n",
    "Pokud chceme změny z jedné větve přenést do jiné, použijeme příkaz `git merge nazev_vetve`. \n",
    "\n",
    "**Ve VS Code můžeme obojí udělat přes nabídku `...` v horním pravém rohu.**"
   ]
  },
  {
   "attachments": {},
   "cell_type": "markdown",
   "metadata": {},
   "source": [
    "## Merge konflikt\n",
    "Pokud se změny v různých větvích dotýkají stejných řádků kódu, může dojít k konfliktu. V takovém případě se v kódu objeví následující značky:\n",
    "```python\n",
    "<<<<<<< HEAD\n",
    "print('Hello world!')\n",
    "=======\n",
    "print('Hello world!!!')\n",
    ">>>>>>> new_branch\n",
    "```\n",
    "Tato značka `<<<<<<<` označuje začátek konfliktu, `=======` odděluje změny z jedné větve od změn z jiné větve a `>>>>>>>` ukončuje konflikt. Konflikt je třeba ručně vyřešit. \n",
    "\n",
    "**Ve VS Code můžeme konflikty řešit přímo v editoru.** "
   ]
  }
 ],
 "metadata": {
  "kernelspec": {
   "display_name": "Python 3",
   "language": "python",
   "name": "python3"
  },
  "language_info": {
   "name": "python",
   "version": "3.10.9"
  },
  "orig_nbformat": 4,
  "vscode": {
   "interpreter": {
    "hash": "e7370f93d1d0cde622a1f8e1c04877d8463912d04d973331ad4851f04de6915a"
   }
  }
 },
 "nbformat": 4,
 "nbformat_minor": 2
}
