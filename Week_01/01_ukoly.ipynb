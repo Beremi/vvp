{
 "cells": [
  {
   "cell_type": "markdown",
   "metadata": {},
   "source": [
    "# Sada úkolů pro osvojení základů Gitu\n",
    "\n",
    "Tato sada úkolů vás provede základními operacemi Gitu v lokálním repozitáři s konkrétními kroky, které je třeba provést. Návod je primárně určen pro práci s GUI ve Visual Studio Code (VSCode) v části Source Control, avšak jsou zde uvedeny i odpovídající příkazy pro Git jako alternativní možnost.\n",
    "\n",
    "## Úkol 1: Inicializace repozitáře\n",
    "- Otevřete VSCode v nové složce pro váš projekt.\n",
    "- Inicializujte Git repozitář pomocí GUI ve VSCode v části Source Control. (Alternativně `git init`.)\n",
    "\n",
    "## Úkol 2: První soubor a commit\n",
    "- Vytvořte nový soubor `a.txt` a vložte do něj text `První soubor` použitím editoru ve VSCode.\n",
    "- Přidejte soubor do staging area pomocí GUI ve VSCode. (Alternativně `git add a.txt`.)\n",
    "- Zaznamenejte změny committem pomocí GUI, s popisem `Přidán soubor a.txt`. (Alternativně `git commit -m \"Přidán soubor a.txt\"`.)\n",
    "\n",
    "## Úkol 3: Další soubory a commity\n",
    "- Vytvořte soubor `b.txt` s textem `Druhý soubor` a `c.txt` s textem `Třetí soubor` použitím editoru ve VSCode.\n",
    "- Přidejte oba soubory do staging area a zaznamenejte změny committem pomocí GUI ve VSCode, s popisem `Přidány soubory b.txt a c.txt`. (Alternativně `git add .` následovaným `git commit -m \"Přidány soubory b.txt a c.txt\"`.)\n",
    "\n",
    "## Úkol 4: Práce s větvemi\n",
    "- Vytvořte novou větev `funkce1` pomocí GUI ve VSCode. (Alternativně `git branch funkce1` následovaným `git checkout funkce1`.)\n",
    "- V této větvi upravte soubor `b.txt` přidáním textu `Změna v rámci funkce1` použitím editoru ve VSCode.\n",
    "- Zaznamenejte změny committem pomocí GUI ve VSCode, s popisem `Upraven b.txt v rámci funkce1`. (Alternativně `git commit -am \"Upraven b.txt v rámci funkce1\"`.)\n",
    "\n",
    "## Úkol 5: Sloučení větví\n",
    "- Přepněte se do hlavní větve pomocí GUI ve VSCode. (Alternativně `git checkout master` nebo `git checkout main`.)\n",
    "- Sloučte větev `funkce1` do hlavní větve pomocí GUI ve VSCode. (Alternativně `git merge funkce1`.)\n",
    "\n",
    "## Úkol 6: Základní řešení konfliktů při sloučení\n",
    "- Vytvořte novou větev `funkce2` a v ní upravte `a.txt` tak, že text změníte na `První soubor ve větvi funkce2` použitím GUI ve VSCode. (Alternativně `git checkout -b funkce2` následovaným editací a committem.)\n",
    "- Přepněte se zpět do hlavní větve pomocí GUI ve VSCode. (Alternativně `git checkout master`.)\n",
    "- V hlavní větvi upravte `a.txt` tak, že text změníte na `První soubor ve větvi master` použitím GUI ve VSCode a zaznamenejte změnu.\n",
    "- Pokuste se sloučit `funkce2` do hlavní větve pomocí GUI ve VSCode. Při detekci konfliktu, otevřete `a.txt` ve VSCode a vyřešte konflikt s využitím vizuálních nástrojů pro řešení konfliktů, které VSCode nabízí.\n",
    "- Po vyřešení konfliktů dokončete sloučení pomocí GUI ve VSCode. (Alternativně `git commit` pro dokončení merge.)\n"
   ]
  },
  {
   "cell_type": "markdown",
   "metadata": {},
   "source": [
    "---"
   ]
  },
  {
   "cell_type": "markdown",
   "metadata": {},
   "source": [
    "\n",
    "# Vytvoření repozitářů pro odevzdávání domácích úkolů a projektů\n",
    "\n",
    "Cílem je vytvořit repozitář pro domácí úkoly (`vvp-DU`) a následně jej publikovat na GitHubu jako **veřejný** repozitář.\n",
    "\n",
    "## Předpoklady\n",
    "\n",
    "- Ujistěte se, že jste přihlášeni do VSCode pomocí vašeho GitHub účtu.\n",
    "\n",
    "## Úkol 1: Vytvoření lokálního repozitáře pro domácí úkoly\n",
    "\n",
    "1. Vytvořte novou složku `vvp-DU` na vašem počítači.\n",
    "2. Otevřete tuto složku ve VSCode.\n",
    "3. Inicializujte Git repozitář v této složce použitím GUI ve VSCode v části Source Control. (Alternativně můžete použít příkaz `git init` v terminálu.)\n",
    "4. Vytvořte soubor `README.md` s následujícím obsahem:\n",
    "\n",
    "```\n",
    "# Repozitář pro domácí úkoly do předmětu Vědecké Výpočty v Pythonu\n",
    "\n",
    "Toto je repozitář pro odevzdávání domácích úkolů do předmětu Vědecké Výpočty v Pythonu. Autor: [jméno] a [login].\n",
    "```\n",
    "\n",
    "5. Přidejte soubor `README.md` do Gitu pomocí GUI ve VSCode a proveďte commit s popisem, například \"Inicializace repozitáře a přidání README\". (Alternativně můžete použít příkazy `git add README.md` následované `git commit -m \"Inicializace repozitáře a přidání README\"` v terminálu.)\n"
   ]
  },
  {
   "cell_type": "markdown",
   "metadata": {},
   "source": [
    "## Úkol 2: Publikování lokálního repozitáře na GitHub\n",
    "\n",
    "1. Ve VSCode otevřete panel Source Control kliknutím na ikonu `Source Control`.\n",
    "2. V horní části panelu Source Control klikněte na tlačítko `...` pro rozšířené možnosti a vyberte `Publish Branch` z nabídky.\n",
    "3. Pokud ještě nejste přihlášeni do GitHubu, VSCode vás vyzve k přihlášení.\n",
    "4. Při vytváření repozitáře na GitHubu vyberte možnost `Public` (veřejný) a jako název repozitáře zadejte `vvp-DU`.\n",
    "5. Pro publikování repozitáře na GitHub klikněte na `Publish Branch`.\n",
    "6. Po publikování ověřte na GitHubu, že repozitář `vvp-DU` byl úspěšně vytvořen, že obsahuje soubor `README.md` a je nastaven jako veřejný (`public`).\n"
   ]
  },
  {
   "cell_type": "markdown",
   "metadata": {},
   "source": [
    "---\n",
    "\n",
    "# Úkoly: Úvod do Pythonu"
   ]
  },
  {
   "cell_type": "markdown",
   "metadata": {},
   "source": [
    "1. Vypiš své jméno pomocí `print()`"
   ]
  },
  {
   "cell_type": "code",
   "execution_count": null,
   "metadata": {},
   "outputs": [],
   "source": []
  },
  {
   "cell_type": "markdown",
   "metadata": {},
   "source": [
    "2. Vytvoř proměnnou s textem svého jména a tu vypiš."
   ]
  },
  {
   "cell_type": "code",
   "execution_count": null,
   "metadata": {},
   "outputs": [],
   "source": []
  },
  {
   "cell_type": "markdown",
   "metadata": {},
   "source": [
    "\n",
    "3. Vypiš proměnnou obsahující číslo 10."
   ]
  },
  {
   "cell_type": "code",
   "execution_count": null,
   "metadata": {},
   "outputs": [],
   "source": []
  },
  {
   "cell_type": "markdown",
   "metadata": {},
   "source": [
    "\n",
    "4. Vyrob proměnné s čísly 2 a 3. Sečti je a vypiš výsledek."
   ]
  },
  {
   "cell_type": "code",
   "execution_count": null,
   "metadata": {},
   "outputs": [],
   "source": []
  },
  {
   "cell_type": "markdown",
   "metadata": {},
   "source": [
    "\n",
    "5. Vyrob proměnnou s hodnotou 2.5 a vypiš její dvojnásobek.\n"
   ]
  },
  {
   "cell_type": "code",
   "execution_count": null,
   "metadata": {},
   "outputs": [],
   "source": []
  }
 ],
 "metadata": {
  "kernelspec": {
   "display_name": "Python 3",
   "language": "python",
   "name": "python3"
  },
  "language_info": {
   "codemirror_mode": {
    "name": "ipython",
    "version": 3
   },
   "file_extension": ".py",
   "mimetype": "text/x-python",
   "name": "python",
   "nbconvert_exporter": "python",
   "pygments_lexer": "ipython3",
   "version": "3.13.2"
  }
 },
 "nbformat": 4,
 "nbformat_minor": 2
}
