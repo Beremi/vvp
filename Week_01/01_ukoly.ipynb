{
 "cells": [
  {
   "cell_type": "markdown",
   "metadata": {},
   "source": [
    "# Sada úkolů pro ozkoušení Gitu\n",
    "\n",
    "Tyto úkoly vás provedou základními operacemi Gitu v lokálním repozitáři s konkrétními příklady úkonů, které mají být provedeny. Návod je zaměřen na práci ve Visual Studio Code (VSCode), ale pro ilustraci jsou přidány i příslušné Git příkazy.\n",
    "\n",
    "## Úkol 1: Inicializace repozitáře\n",
    "- Otevřete VSCode v nové složce pro váš projekt.\n",
    "- Inicializujte Git repozitář (`git init`).\n",
    "\n",
    "## Úkol 2: První soubor a commit\n",
    "- Vytvořte nový soubor `a.txt` a vložte do něj text `První soubor`.\n",
    "- Přidejte soubory do staging area (`git add`).\n",
    "- Commitněte změny s popiskem `Přidán soubor a.txt`.\n",
    "\n",
    "## Úkol 3: Další soubory a commity\n",
    "- Vytvořte soubor `b.txt` s textem `Druhý soubor` a `c.txt` s textem `Třetí soubor`.\n",
    "- Přidejte oba soubory do staging area a commitněte změny s popiskem `Přidány soubory b.txt a c.txt`.\n",
    "\n",
    "## Úkol 4: Práce s větvemi\n",
    "- Vytvořte novou větev `funkce1`.\n",
    "- V této větvi upravte soubor `b.txt` přidáním textu `Změna v rámci funkce1`.\n",
    "- Commitněte změny (do větve `funkce1`) s popiskem `Upraven b.txt v rámci funkce1`.\n",
    "\n",
    "## Úkol 5: Merge větví\n",
    "- Vraťte se do hlavní větve (`git checkout master` nebo `git checkout main`).\n",
    "- Sloučte větev `funkce1` do hlavní větve (v terminálu `git merge funkce1`).\n",
    "\n",
    "\n",
    "## Úkol 6: Základní řešení merge konfliktů\n",
    "- Vytvořte novou větev `funkce2` a v ní upravte `a.txt` tak že text změníme na `První soubor ve větvi funkce2.`.\n",
    "- Změny commitněte.\n",
    "- Přepněte se zpět do hlavní větve.\n",
    "- V hlavní větvi upravte `a.txt` tak že text změníme na `První soubor ve větvi master.`.\n",
    "- Pokuste se sloučit `funkce2` do hlavní větve. **Git hlásí konflikt.**\n",
    "- Otevřete `b.txt` ve VSCode a vyřešte konflikt. VSCode nabízí vizuální nástroje pro řešení konfliktů, včetně možnosti vybrat změny z jedné větve, druhé, nebo je smíchat.\n",
    "- Po vyřešení konfliktů dokončete merge.\n",
    "\n"
   ]
  },
  {
   "cell_type": "markdown",
   "metadata": {},
   "source": [
    "---"
   ]
  },
  {
   "cell_type": "markdown",
   "metadata": {},
   "source": [
    "# Vytvoření repozitářů pro odevzdávání domácích úkolů a projektů\n",
    "\n",
    "Cílem je vytvořit repozitáře pro domácí úkoly (`vvp-DU`) a projekty (`vvp-projekt`). A přesunout je na GitHub v **public** režimu.\n",
    "\n",
    "## Předpoklady\n",
    "\n",
    "- Být přihlášený do VSCode pomocí GitHub účtu.\n",
    "\n",
    "## Úkol 1: Vytvoření lokálního repozitáře pro domácí úkoly\n",
    "\n",
    "1. Vytvořte novou složku `vvp-DU` na vašem počítači.\n",
    "2. Otevřete tuto složku ve VSCode.\n",
    "3. Inicializujte Git repozitář v této složce .\n",
    "4. Vytvořte soubor `README.md` s následujícím obsahem:\n",
    "\n",
    "```\n",
    "# Repozitář pro domácí úkoly do předmětu Vědecké Výpočty v Pythonu\n",
    "\n",
    "Toto je repozitář pro odevzdávání domácích úkolů do předmětu Vědecké Výpočty v Pythonu. Autor: jméno a login.\n",
    "```\n",
    "\n",
    "5. Přidejte soubor do Gitu a proveďte commit.\n"
   ]
  },
  {
   "cell_type": "markdown",
   "metadata": {},
   "source": [
    "## Úkol 2: Vydání (Publish) lokálního repozitáře na GitHub\n",
    "\n",
    "1. Ve VSCode, klikněte na ikonu `Source Control`.\n",
    "2. V horní části panelu Source Control klikněte na `...` a vyberte `Publish Branch`.\n",
    "3. Budete vyzváni k přihlášení do GitHubu, pokud již nejste přihlášeni.\n",
    "4. Vyberte možnost vytvořit repozitář jako `Public` a zadejte název `vvp-DU`.\n",
    "5. Klikněte na `Publish Branch` pro vytvoření repozitáře na GitHubu.\n",
    "6. Zkotrolujte na GitHubu, že repozitář `vvp-DU` byl vytvořen, obsahuje soubor `README.md` a je veřejný (`public`).\n"
   ]
  },
  {
   "cell_type": "markdown",
   "metadata": {},
   "source": [
    "---\n",
    "\n",
    "# Úkoly: Úvod do Pythonu"
   ]
  },
  {
   "cell_type": "markdown",
   "metadata": {},
   "source": [
    "1. Vypiš své jméno pomocí `print()`"
   ]
  },
  {
   "cell_type": "code",
   "execution_count": null,
   "metadata": {
    "vscode": {
     "languageId": "plaintext"
    }
   },
   "outputs": [],
   "source": []
  },
  {
   "cell_type": "markdown",
   "metadata": {},
   "source": [
    "2. Vytvoř proměnnou s textem svého jména a tu vypiš."
   ]
  },
  {
   "cell_type": "code",
   "execution_count": null,
   "metadata": {
    "vscode": {
     "languageId": "plaintext"
    }
   },
   "outputs": [],
   "source": []
  },
  {
   "cell_type": "markdown",
   "metadata": {},
   "source": [
    "\n",
    "3. Vypiš proměnnou obsahující číslo 10."
   ]
  },
  {
   "cell_type": "code",
   "execution_count": null,
   "metadata": {
    "vscode": {
     "languageId": "plaintext"
    }
   },
   "outputs": [],
   "source": []
  },
  {
   "cell_type": "markdown",
   "metadata": {},
   "source": [
    "\n",
    "4. Vyrob proměnné s čísly 2 a 3. Sečti je a vypiš výsledek."
   ]
  },
  {
   "cell_type": "code",
   "execution_count": null,
   "metadata": {
    "vscode": {
     "languageId": "plaintext"
    }
   },
   "outputs": [],
   "source": []
  },
  {
   "cell_type": "markdown",
   "metadata": {},
   "source": [
    "\n",
    "5. Vyrob proměnnou s hodnotou 2.5 a vypiš její dvojnásobek.\n"
   ]
  },
  {
   "cell_type": "code",
   "execution_count": null,
   "metadata": {
    "vscode": {
     "languageId": "plaintext"
    }
   },
   "outputs": [],
   "source": []
  }
 ],
 "metadata": {
  "language_info": {
   "name": "python"
  }
 },
 "nbformat": 4,
 "nbformat_minor": 2
}
