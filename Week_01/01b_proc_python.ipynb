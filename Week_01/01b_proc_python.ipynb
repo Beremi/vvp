{
 "cells": [
  {
   "cell_type": "markdown",
   "metadata": {},
   "source": [
    "Cílem kurzu je seznámit se s programovacím jazykem Python, zejména s jeho praktickým využitím pro vědecké a inženýrské účely.\n"
   ]
  },
  {
   "attachments": {},
   "cell_type": "markdown",
   "metadata": {},
   "source": [
    "# Proč Python?\n",
    "- Velmi nízká vstupní bariéra díky jednoduchosti, přehlednosti a intuitivnosti syntaxe.\n",
    "- Široké spektrum využití od vědy a inženýrství přes webové a desktopové aplikace až po automatizaci a data science.\n",
    "- Obrovská komunita a podpora poskytující bohaté zdroje knihoven, dokumentace a tutoriálů.\n",
    "- Snadná integrace s kódem napsaným v jiných programovacích jazycích jako C, C++, Fortran, atd.\n",
    "- Nezávislost na operačním systému.\n",
    "- Open-source charakter s volně dostupnou licencí.\n",
    "\n",
    "**Další výhody:**\n",
    "\n",
    "* Podpora objektově orientovaného programování.\n",
    "* Výborně čitelná a strukturovaná syntaxe.\n",
    "* Možnosti pro automatické jednotkové testování.\n",
    "* Jednoduchost vytváření automatické dokumentace kódu.\n",
    "* Široká uživatelská základna a snadná dostupnost pomoci online (např. Google, Stack Overflow).\n",
    "\n",
    "**Největší předností Pythonu je bohatost dostupných knihoven pro:**\n",
    "* Získávání dat z různých zdrojů a formátů.\n",
    "* Složité zpracování textu.\n",
    "* Vývoj GUI pro aplikace.\n",
    "* Tvorbu webových rozhraní.\n",
    "* Odesílání e-mailů po dokončení výpočtů.\n",
    "* Spouštění a komunikaci s externími procesy.\n",
    "\n",
    "Pro všechny tyto úkoly existuje v Pythonu odpovídající knihovna, často již ve standardní knihovně, zatímco ve specializovaném softwaru jako MATLAB nebo IDL by řešení bylo složitější. PyPi databáze obsahuje přes 36 000 balíčků různé kvality.\n",
    "\n",
    "## Proč NE Python?\n",
    "- Relativně pomalejší v porovnání s jazyky jako C, C++ nebo Fortran, což je částečně kompenzováno snadnou integrací s těmito rychlejšími jazyky (např. NumPy).\n",
    "- Méně vhodný pro vytváření standalone aplikací (např. .exe soubory), což ale není překážkou pro většinu projektů v Pythonu.\n",
    "- Dynamické typování může ztížit statickou analýzu kódu a odhalení některých chyb až při běhu programu. Tento problém je obvykle řešen důkladným testováním, včetně jednotkových testů.\n"
   ]
  },
  {
   "attachments": {},
   "cell_type": "markdown",
   "metadata": {},
   "source": [
    "# Historie Pythonu\n",
    "Historie Pythonu se začala psát v roce 1980, ale jeho implementaci zahájil [Guido Van Rossum](http://www.python.org/~guido/) v roce 1989. Guido byl až do nedávné doby hlavní postavou Python komunity jako tzv. Benevolent Dictator for Life (BDFL), přestože pracoval pro Google a později pro Dropbox. Více informací o historii Pythonu naleznete například na [wikipedii](http://en.wikipedia.org/wiki/History_of_Python).\n",
    "\n",
    "Vydání Pythonu v datumech:\n",
    "\n",
    "- Python 1.0 v roce 1994\n",
    "- Python 2.0 v roce 2000\n",
    "  - Tato verze je nyní považována za zastaralou.\n",
    "- Python 3.0 v roce 2008\n",
    "  - Aktuálně je používána verze Pythonu 3.11, verze 3.12 byla také již vydána, ale není ještě běžně rozšířená.\n",
    "  - Do budoucna se plánuje soustředit na zrychlení Pythonu, s cílem dosáhnout až 4x rychlejšího výkonu (v CPythonu).\n",
    "\n",
    "Python existoval nějakou dobu ve dvou paralelních verzích, 2 a 3, což komplikovalo práci, vývoj a výuku kvůli částečné nekompatibilitě mezi verzemi. Nyní je však Python 2 oficiálně ukončen.\n",
    "\n",
    "## Python: myšlenka vs. implementace\n",
    "Python jako jazyk je jednotný, ale existuje několik implementací jeho interpreteru, tedy programu, který zpracovává a vykonává příkazy. Referenčním interpreterem je *CPython*, který je napsaný v jazyce C a je nejčastěji používanou verzí.\n",
    "\n",
    "Mezi další implementace patří:\n",
    "\n",
    "- [Jython](http://www.jython.org/), který běží na Java platformě.\n",
    "- [IronPython](http://ironpython.net/), který je určen pro .NET platformu.\n",
    "- [PyPy](http://pypy.org/), který se zaměřuje na rychlost a efektivitu.\n",
    "\n",
    "Další informace o různých implementacích Pythonu a důvodech jejich existence naleznete v článku [Why are there so many Pythons?](http://www.toptal.com/python/why-are-there-so-many-pythons).\n"
   ]
  },
  {
   "attachments": {},
   "cell_type": "markdown",
   "metadata": {},
   "source": [
    "## Nástroje pro práci s Pythonem\n",
    "\n",
    "### Editor / vývojové prostředí\n",
    "Pro tento kurz budeme používat **[Visual Studio Code](https://code.visualstudio.com)**:\n",
    "- Modulární editor s rozsáhlou podporou pro Python, včetně podpory pro Jupyter notebooky.\n",
    "- Podpora širokého spektra jazyků, což umožňuje používat VS Code jako centrální vývojové prostředí pro všechny vaše projekty.\n",
    "- Integrovaná podpora pro Git, což zjednodušuje správu verzí.\n",
    "- Nabízí integrované nástroje pro formátování kódu, jako jsou [autopep8](https://pypi.python.org/pypi/autopep8) a [black](https://black.readthedocs.io/en/stable/).\n",
    "- Možnosti pro linting kódu s nástroji jako [bandit](https://pypi.python.org/pypi/bandit) a [flake8](https://pypi.python.org/pypi/flake8) pro identifikaci potenciálních chyb a problémů.\n",
    "- Integrovaný debugger pro snadné hledání a opravování chyb v kódu.\n",
    "- Rychlý a efektivní v porovnání s jinými IDE, jako je standardní Visual Studio.\n",
    "- Dostupný jako free a open-source.\n",
    "- Široká podpora a aktivní vývoj pod záštitou Microsoftu.\n",
    "- Dostupný na různých platformách včetně Windows, Linux, Mac OS a dokonce i jako webová aplikace.\n",
    "\n",
    "Další oblíbené editory a vývojová prostředí pro Python:\n",
    "- [PyCharm](https://www.jetbrains.com/pycharm/) - pokročilé IDE od JetBrains, speciálně navržené pro Python.\n",
    "- [Spyder](https://www.spyder-ide.org/) - vývojové prostředí inspirované MATLABem, oblíbené mezi vědci a inženýry.\n",
    "\n",
    "**Nástroje Pythonu pro efektivní vývoj:**\n",
    "- **[IPython](http://ipython.org)** - pokročilá interaktivní konzole, která zlepšuje standardní interakci s Python interpreterem.\n",
    "- **[Jupyter](https://jupyter.org/)** - umožňuje vytvářet notebooky kombinující spustitelný kód, text a vizualizace.\n",
    "- **[Sphinx](http://sphinx-doc.org)** - nástroj pro generování rozmanitých typů dokumentace z komentářů ve zdrojovém kódu.\n",
    "- **[pip](http://www.pip-installer.org/)** - standardní správce balíčků pro Python, který usnadňuje instalaci a správu knihoven.\n",
    "- **[virtualenv](http://www.virtualenv.org/)** - nástroj pro vytváření izolovaných Python prostředí, které umožňují správu závislostí pro jednotlivé projekty bez vzájemného ovlivňování.\n"
   ]
  },
  {
   "attachments": {},
   "cell_type": "markdown",
   "metadata": {},
   "source": [
    "## Základní vlastnosti Pythonu\n",
    "\n",
    "* **Dynamicky typovaný jazyk**\n",
    "  - Typy proměnných se určují až za běhu programu, což umožňuje proměnné měnit typ objektu, na který odkazují, bez nutnosti explicitní deklarace typů proměnných.\n",
    "  - Podporuje princip \"Duck Typing\" - `if it walks like a duck and it quacks like a duck, then it must be a duck`, tedy pokud něco vypadá a chová se jako kachna, pak to musí být kachna. To znamená, že je důležité, co objekt dělá, ne jaký má typ.\n",
    "\n",
    "* **Silně typovaný jazyk**\n",
    "  - Nelze implicitně provádět operace mezi proměnnými různých typů, což zabraňuje některým typům chyb.\n",
    "  - Sčítání `int` a `float` je možné, ale interně se `int` převádí na `float`, aby byla operace možná.\n",
    "\n",
    "* **Interpretovaný jazyk**\n",
    "  - Python kód se překládá a vykonává za běhu pomocí Python interpreteru. To umožňuje rychlé prototypování a interaktivní práci s kódem.\n",
    "  - Skripty jsou překládány do bytekódu, který se pak vykonává v Python virtuálním stroji.\n",
    "\n",
    "* **Automatické správa paměti**\n",
    "  - Obsahuje garbage collector, který používá reference counting pro automatickou dealokaci nepotřebných objektů.\n",
    "  - Uvolňuje programátory od nutnosti explicitně spravovat paměť.\n",
    "\n",
    "* **Rozsáhlá knihovna dostupných balíků**\n",
    "  - Python nabízí širokou škálu modulů a funkcí pro různé účely, od práce se soubory, přes regulární výrazy, až po vědecké výpočty.\n",
    "  - Pro vědecké výpočty jsou k dispozici specializované knihovny jako Numpy, Scipy, Matplotlib, SymPy a Pandas.\n",
    "  - Existují knihovny pro vývoj webových aplikací, databázové operace, síťovou komunikaci a mnoho dalších.\n",
    "\n",
    "* **Svobodná licence**\n",
    "  - Python je distribuován pod Python Software Foundation License (PSFL), což je svobodná licence umožňující široké využití jazyka v komerčních i nekomerčních projektech.\n",
    "\n",
    "Python je tak vhodný pro široké spektrum úkolů, od jednoduchých skriptů a automatizace, přes vědecké výpočty, až po vývoj komplexních aplikací.\n"
   ]
  }
 ],
 "metadata": {
  "kernelspec": {
   "display_name": "Python 3",
   "language": "python",
   "name": "python3"
  },
  "language_info": {
   "codemirror_mode": {
    "name": "ipython",
    "version": 3
   },
   "file_extension": ".py",
   "mimetype": "text/x-python",
   "name": "python",
   "nbconvert_exporter": "python",
   "pygments_lexer": "ipython3",
   "version": "3.13.2"
  },
  "vscode": {
   "interpreter": {
    "hash": "e7370f93d1d0cde622a1f8e1c04877d8463912d04d973331ad4851f04de6915a"
   }
  }
 },
 "nbformat": 4,
 "nbformat_minor": 2
}
