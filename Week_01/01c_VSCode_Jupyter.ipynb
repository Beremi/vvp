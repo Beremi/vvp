{
 "cells": [
  {
   "cell_type": "markdown",
   "metadata": {},
   "source": [
    "# VSCode pro Python\n",
    "\n",
    "VSCode je skvělý editor kódu, který nabízí širokou škálu funkcí pro vývojáře Pythonu. Pojďme se podívat na některé z nejdůležitějších:\n",
    "\n",
    "**Levý panel:**\n",
    "\n",
    "* **Source Control:** Zobrazuje stav vašich souborů v systému kontroly verzí (např. Git).\n",
    "* **Explorer:** Zobrazuje stromovou strukturu vašich souborů a složek.\n",
    "* **Extensions:** Zobrazuje seznam nainstalovaných doplňků.\n",
    "\n",
    "**Ctrl+Shift+P:**\n",
    "\n",
    "Stisknutím `Ctrl`+`Shift`+`P` otevřete příkazovou paletu, která vám umožňuje rychle spouštět příkazy a vyhledávat funkce. To je skvělý způsob, jak se rychle naučit nové funkce a zefektivnit svou práci.\n",
    "\n",
    "**Doplňky pro Python:**\n",
    "\n",
    "Několik doplňků, které byste měli zvážit pro vývojáře Pythonu:\n",
    "\n",
    "* **Python:** Základní doplněk pro Python, který vám umožňuje spouštět kód, ladit a formátovat.\n",
    "* **Pylance:** Vylepšená podpora pro Python, která vám poskytuje pokročilé funkce, jako je napovídání kódu a refaktorování.\n",
    "* **Python Debugger:** Umožňuje vám ladit váš kód pomocí ladícího rozhraní.\n",
    "* **Jupyter:** Umožňuje spouštět Jupyter notebooky přímo v VSCode.\n",
    "* **flake8:** Kontroluje váš kód, zda neobsahuje stylistické a syntaktické chyby.\n",
    "* **autopep8:** Automaticky formátuje váš kód podle standardu PEP8.\n"
   ]
  },
  {
   "cell_type": "markdown",
   "metadata": {},
   "source": [
    "# Používání Jupyter Notebooku ve VS Code\n",
    "Ve VS Code můžeme (pomocí rozšíření) používat Jupyter notebooky (jako je tento). Stačí přidat příponu `.ipynb` na konec souboru a stane se pro VS Code Jupyter notebookem. Výhodou je, že můžeme používat všechny výhody VS Code (např. ladění, kontrolu syntaxe, ...).\n",
    "\n",
    "Jsou dva typy buněk - buňky s kódem a buňky s textem (Markdown). \n",
    "\n",
    "## Specifické klávesové zkratky pro Jupyter notebooky\n",
    "- `Ctrl + Enter` - spustí danou buňku s kódem\n",
    "- `Shift + Enter` - spustí danou buňku s kódem a přejde na další buňku\n",
    "- `Alt + Enter` - spustí danou buňku s kódem a vytvoří novou buňku pod ní\n",
    "- `Esc + A` - vytvoří novou buňku nad aktuální\n",
    "- `Esc + B` - vytvoří novou buňku pod aktuální\n",
    "- `Esc + DD` - smaže aktuální buňku\n",
    "- `Esc + M` - přepne aktuální buňku na Markdown\n",
    "- `Esc + Y` - přepne aktuální buňku na kód\n",
    "- `Esc + L` - zapne/vypne čísla řádků\n",
    "- `Esc + O` - zobrazí/skryje výstupy buňky\n"
   ]
  }
 ],
 "metadata": {
  "language_info": {
   "name": "python"
  }
 },
 "nbformat": 4,
 "nbformat_minor": 2
}
