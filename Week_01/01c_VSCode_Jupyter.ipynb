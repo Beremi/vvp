{
 "cells": [
  {
   "cell_type": "markdown",
   "metadata": {},
   "source": [
    "# VSCode pro Python\n",
    "\n",
    "VSCode je vynikající editor kódu pro Python s mnoha funkcemi, které usnadňují vývoj:\n",
    "\n",
    "**Levý panel:**\n",
    "\n",
    "- **Source Control:** Umožňuje správu verzí pomocí systémů jako Git. Zobrazuje změny v souborech a umožňuje rychlou interakci s verzovacím systémem.\n",
    "- **Explorer:** Nabízí přehlednou stromovou strukturu projektu, umožňuje snadné procházení souborů a složek.\n",
    "- **Extensions:** Umožňuje procházet, instalovat a spravovat rozšíření, která rozšiřují funkčnost VSCode.\n",
    "\n",
    "**`Ctrl+Shift+P`:**\n",
    "\n",
    "- Tato klávesová zkratka otevře příkazovou paletu, díky které můžete rychle vyhledávat a spouštět různé příkazy ve VSCode. Je to centrální bod pro efektivní ovládání editoru.\n",
    "\n",
    "**Důležitá rozšíření pro Python:**\n",
    "\n",
    "- **Python:** Oficiální rozšíření od Microsoftu pro podporu Pythonu v VSCode. Poskytuje funkcionalitu pro spouštění skriptů, ladění, testování a práci s virtuálními prostředími.\n",
    "- **Pylance:** Rozšíření pro vylepšenou podporu jazyka Python, včetně rychlého napovídání, analýzy kódu a dalších vylepšení.\n",
    "- **Python Debugger:** Integrace pokročilého debuggeru do VSCode, což umožňuje efektivně ladit kód přímo v editoru.\n",
    "- **Jupyter:** Umožňuje pracovat s Jupyter notebooky přímo v editoru, včetně spouštění buněk a vizualizace výstupů.\n",
    "- **flake8:** Rozšíření pro kontrolu kódu proti pravidlům PEP8 a identifikaci chyb v Pythonu.\n",
    "- **autopep8:** Automatické formátování kódu podle konvencí PEP8, což usnadňuje psaní čistého a standardizovaného kódu.\n",
    "\n",
    "Tato rozšíření a funkce z VSCode činí z vývoje v Pythonu plynulý a efektivní proces.\n"
   ]
  },
  {
   "cell_type": "markdown",
   "metadata": {},
   "source": [
    "# Používání Jupyter Notebooku ve VS Code\n",
    "VS Code umožňuje s rozšířením pro Python používat Jupyter notebooky přímo v editoru. Přidáním přípony `.ipynb` k souboru jej VS Code rozpozná jako Jupyter notebook, což vám umožní kombinovat spustitelný kód s bohatě formátovaným textem v Markdownu, obrázky a vizualizacemi v jednom dokumentu.\n",
    "\n",
    "## Typy buněk\n",
    "- **Buňky s kódem:** umožňují psát a spouštět Python kód.\n",
    "- **Buňky s textem:** používají formát Markdown pro psaní dokumentace, poznámek nebo teoretických vysvětlení.\n",
    "\n",
    "## Klávesové zkratky pro práci s Jupyter notebooky ve VS Code\n",
    "- `Ctrl + Enter` spustí aktuální buňku bez posunu k další.\n",
    "- `Shift + Enter` spustí aktuální buňku a přesune kurzor do další buňky. Pokud další buňka neexistuje, vytvoří novou buňku s kódem pod aktuální.\n",
    "- `Alt + Enter` spustí aktuální buňku a vloží novou buňku s kódem bezprostředně pod ní.\n",
    "- `Esc + A` vytvoří novou buňku nad aktuálně vybranou buňkou.\n",
    "- `Esc + B` vytvoří novou buňku pod aktuálně vybranou buňkou.\n",
    "- `Esc + DD` (stiskněte D dvakrát) odstraní vybranou buňku.\n",
    "- `Esc + M` přepne vybranou buňku na Markdown pro psaní textu.\n",
    "- `Esc + Y` přepne vybranou buňku zpět na kód.\n",
    "- `Esc + L` zapne nebo vypne čísla řádků ve vybrané buňce.\n",
    "- `Esc + O` zobrazí nebo skryje výstup vybrané buňky.\n",
    "\n",
    "Tyto zkratky a funkce usnadňují práci s Jupyter notebooky ve VS Code, čímž podporují efektivní vývoj a dokumentaci Python projektů.\n"
   ]
  }
 ],
 "metadata": {
  "kernelspec": {
   "display_name": "Python 3",
   "language": "python",
   "name": "python3"
  },
  "language_info": {
   "name": "python",
   "version": "3.13.2"
  }
 },
 "nbformat": 4,
 "nbformat_minor": 2
}
