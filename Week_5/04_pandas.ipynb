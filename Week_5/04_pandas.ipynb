{
 "cells": [
  {
   "cell_type": "markdown",
   "metadata": {},
   "source": [
    "Na (malinko změněném) [převzatém příkladu](http://nbviewer.ipython.org/github/cs109/content/blob/master/lec_04_wrangling.ipynb) si ukážeme, jako pomocí [Pandas](http://pandas.pydata.org/) spolu s [Matplotlib](http://matplotlib.org/) a [ggplot](https://github.com/yhat/ggplot/) analyzovat data. Pandas je z velké části inspirován R-kem, konkrétně `data.frame` třídou, která se v Pandas nazývá `DataFrame`. Jedná se o 2D tabulární strukturu, podobnou relační databázi (SQL) nebo tabulce Excelu. Pandas využívá NumPy pro většinu výpočtů, které jsou tím pádem velice rychlé, a zároveň umožňuje velice flexibilní manipulaci s daty.\n",
    "<!-- TEASER_END -->"
   ]
  },
  {
   "attachments": {},
   "cell_type": "markdown",
   "metadata": {},
   "source": [
    "# Pandas\n",
    "\n",
    "Materiály převzaty z: Companion to Lecture 4 of [Harvard CS109: Data Science](http://cs109.org) course."
   ]
  },
  {
   "cell_type": "code",
   "execution_count": null,
   "metadata": {},
   "outputs": [],
   "source": [
    "# pokud nemáme knihovnu pandas, tak ji nainstalujeme\n",
    "# !pip install pandas -U"
   ]
  },
  {
   "cell_type": "code",
   "execution_count": null,
   "metadata": {
    "collapsed": false
   },
   "outputs": [],
   "source": [
    "import matplotlib.pyplot as plt\n",
    "import pandas as pd\n",
    "import numpy as np"
   ]
  },
  {
   "attachments": {},
   "cell_type": "markdown",
   "metadata": {},
   "source": [
    "Máme připravený dataset s informacemi o top filmech dle [IMDB](http://www.imdb.com/). Soubor imdb_top_10000.txt)"
   ]
  },
  {
   "cell_type": "code",
   "execution_count": null,
   "metadata": {
    "collapsed": false
   },
   "outputs": [],
   "source": [
    "# prvních několik řádků\n",
    "!head imdb_top_10000.txt"
   ]
  },
  {
   "attachments": {},
   "cell_type": "markdown",
   "metadata": {},
   "source": [
    "## 1. Sestavte DataFrame\n",
    "\n",
    "Textový soubor je oddělen tabulátory a nemá žádná záhlaví sloupců. Nastavíme příslušná klíčová slova v `pd.read_csv`, aby se dataset bez problému načetl."
   ]
  },
  {
   "cell_type": "code",
   "execution_count": null,
   "metadata": {
    "collapsed": false
   },
   "outputs": [],
   "source": [
    "names = ['imdbID', 'title', 'year', 'score', 'votes', 'runtime', 'genres']\n",
    "data = pd.read_csv('imdb_top_10000.txt', delimiter='\\t', names=names).dropna()\n",
    "print(\"Number of rows: %i\" % data.shape[0])\n",
    "data.head()  # print the first 5 rows"
   ]
  },
  {
   "attachments": {},
   "cell_type": "markdown",
   "metadata": {},
   "source": [
    "Všimněte si pěkného html formátování výsledného DataFrame."
   ]
  },
  {
   "attachments": {},
   "cell_type": "markdown",
   "metadata": {},
   "source": [
    "## 2. Vyčistěte DataFrame\n",
    "\n",
    "V tomto okamžiku existuje několik problémů s DataFrame:\n",
    "\n",
    "1. Sloupec runtime popisuje číslo, ale je uložen jako řetězec\n",
    "2. Sloupec žánry není atomický – sdružuje několik žánrů dohromady. To ztěžuje například extrahování filmů, které jsou komedie.\n",
    "3. Rok filmu se opakuje ve sloupci název a rok\n",
    "\n",
    "### Oprava sloupce runtime\n",
    "\n",
    "Následující úryvek převede řetězec jako '142 minut.' na číslo 142:"
   ]
  },
  {
   "cell_type": "code",
   "execution_count": null,
   "metadata": {
    "collapsed": false
   },
   "outputs": [],
   "source": [
    "dirty = '142 mins.'\n",
    "number, text = dirty.split(' ')\n",
    "clean = int(number)\n",
    "print(number)"
   ]
  },
  {
   "attachments": {},
   "cell_type": "markdown",
   "metadata": {},
   "source": [
    "Můžeme to udělat najednou pro všechny záznamy pomocí list comprehension"
   ]
  },
  {
   "cell_type": "code",
   "execution_count": null,
   "metadata": {
    "collapsed": false
   },
   "outputs": [],
   "source": [
    "clean_runtime = [float(r.split(' ')[0]) for r in data.runtime]\n",
    "data['runtime'] = clean_runtime\n",
    "data.head()"
   ]
  },
  {
   "attachments": {},
   "cell_type": "markdown",
   "metadata": {},
   "source": [
    "### Rozdělení žánrů\n",
    "Můžeme použít koncept *indicator variables* k rozdělení sloupce žánry do mnoha sloupců. Každý nový sloupec bude odpovídat jednomu žánru a každá buňka bude mít hodnotu True nebo False."
   ]
  },
  {
   "cell_type": "code",
   "execution_count": null,
   "metadata": {
    "collapsed": false
   },
   "outputs": [],
   "source": [
    "# vyrobíme seznam unikátních žánrů\n",
    "\n",
    "genres = set()\n",
    "for m in data.genres:\n",
    "    genres.update(g for g in m.split('|'))\n",
    "genres = sorted(genres)\n",
    "print(genres)"
   ]
  },
  {
   "cell_type": "code",
   "execution_count": null,
   "metadata": {},
   "outputs": [],
   "source": [
    "# každý žánr přidáme jako nový sloupec do tabulky\n",
    "for genre in genres:\n",
    "    data[genre] = [genre in movie.split('|') for movie in data.genres]\n",
    "         \n",
    "data.head()"
   ]
  },
  {
   "attachments": {},
   "cell_type": "markdown",
   "metadata": {},
   "source": [
    "### Odebírání roku z názvu\n",
    "Každý prvek můžeme opravit odstraněním posledních 7 znaků"
   ]
  },
  {
   "cell_type": "code",
   "execution_count": null,
   "metadata": {
    "collapsed": false
   },
   "outputs": [],
   "source": [
    "data['title'] = [t[0:-7] for t in data.title]\n",
    "data.head()"
   ]
  },
  {
   "attachments": {},
   "cell_type": "markdown",
   "metadata": {},
   "source": [
    "## 3. Prozkoumejte globální vlastnosti\n",
    "\n",
    "Dále se seznámíme s některými základními, globálními souhrny tabulky DataFrame.\n",
    "\n",
    "### V příslušných sloupcích zavolejte `describe`."
   ]
  },
  {
   "cell_type": "code",
   "execution_count": null,
   "metadata": {
    "collapsed": false
   },
   "outputs": [],
   "source": [
    "data[['score', 'runtime', 'year', 'votes']].describe(include='all')"
   ]
  },
  {
   "cell_type": "code",
   "execution_count": null,
   "metadata": {
    "collapsed": false
   },
   "outputs": [],
   "source": [
    "# hmmm, a runtime = 0?!\n",
    "print(len(data[data.runtime == 0]))\n"
   ]
  },
  {
   "cell_type": "code",
   "execution_count": null,
   "metadata": {},
   "outputs": [],
   "source": [
    "# lepší by bylo nahradit nulou za NaN, 0 smysl nedává, ať nás neplete\n",
    "data.runtime[data.runtime==0] = np.nan"
   ]
  },
  {
   "cell_type": "code",
   "execution_count": null,
   "metadata": {
    "collapsed": false
   },
   "outputs": [],
   "source": [
    "data.runtime.describe()"
   ]
  },
  {
   "cell_type": "markdown",
   "metadata": {},
   "source": [
    "### Make some basic plots"
   ]
  },
  {
   "cell_type": "code",
   "execution_count": null,
   "metadata": {
    "collapsed": false
   },
   "outputs": [],
   "source": [
    "plt.hist(data.year, bins=np.arange(1950, 2013), color='#cccccc')\n",
    "plt.xlabel(\"Release Year\")"
   ]
  },
  {
   "attachments": {},
   "cell_type": "markdown",
   "metadata": {},
   "source": [
    "**Grafy pomocí [ggplot](https://github.com/yhat/ggplot/) balíčku. Pro uživatele R.**"
   ]
  },
  {
   "cell_type": "code",
   "execution_count": null,
   "metadata": {},
   "outputs": [],
   "source": [
    "# instalace pomocí knihovny plotnine\n",
    "# !pip install plotnine -U"
   ]
  },
  {
   "cell_type": "code",
   "execution_count": null,
   "metadata": {
    "collapsed": false
   },
   "outputs": [],
   "source": [
    "import plotnine as p9"
   ]
  },
  {
   "cell_type": "code",
   "execution_count": null,
   "metadata": {
    "collapsed": false
   },
   "outputs": [],
   "source": [
    "p = p9.ggplot(data, p9.aes(x='year'))\n",
    "p + p9.geom_histogram(binwidth=1) + p9.ggtitle(\"Movies per year histogram\")\n"
   ]
  },
  {
   "cell_type": "code",
   "execution_count": null,
   "metadata": {
    "collapsed": false
   },
   "outputs": [],
   "source": [
    "plt.hist(data.score, bins=20, color='#cccccc',density=True)\n",
    "plt.xlabel(\"IMDB rating\")"
   ]
  },
  {
   "cell_type": "code",
   "execution_count": null,
   "metadata": {
    "collapsed": false
   },
   "outputs": [],
   "source": [
    "plt.hist(data.runtime.dropna(), bins=50, color='#cccccc',density=True)\n",
    "plt.xlabel(\"Runtime distribution\")"
   ]
  },
  {
   "cell_type": "code",
   "execution_count": null,
   "metadata": {
    "collapsed": false
   },
   "outputs": [],
   "source": [
    "#hmm, more bad, recent movies. Real, or a selection bias?\n",
    "\n",
    "plt.scatter(data.year, data.score, lw=0, alpha=.08, color='k')\n",
    "plt.xlabel(\"Year\")\n",
    "plt.ylabel(\"IMDB Rating\")"
   ]
  },
  {
   "cell_type": "code",
   "execution_count": null,
   "metadata": {
    "collapsed": false
   },
   "outputs": [],
   "source": [
    "plt.scatter(data.votes, data.score, lw=0, alpha=.2, color='k')\n",
    "plt.xlabel(\"Number of Votes\")\n",
    "plt.ylabel(\"IMDB Rating\")\n",
    "plt.xscale('log')"
   ]
  },
  {
   "attachments": {},
   "cell_type": "markdown",
   "metadata": {},
   "source": [
    "### Vybírání prvků dle podmínek"
   ]
  },
  {
   "cell_type": "code",
   "execution_count": null,
   "metadata": {
    "collapsed": false
   },
   "outputs": [],
   "source": [
    "# low-score movies with lots of votes\n",
    "data[(data.votes > 9e4) & (data.score < 5)][['title', 'year', 'score', 'votes', 'genres']]"
   ]
  },
  {
   "cell_type": "code",
   "execution_count": null,
   "metadata": {
    "collapsed": false
   },
   "outputs": [],
   "source": [
    "# The lowest rated movies\n",
    "data[data.score == data.score.min()][['title', 'year', 'score', 'votes', 'genres']]"
   ]
  },
  {
   "cell_type": "code",
   "execution_count": null,
   "metadata": {
    "collapsed": false
   },
   "outputs": [],
   "source": [
    "# The highest rated movies\n",
    "data[data.score == data.score.max()][['title', 'year', 'score', 'votes', 'genres']]"
   ]
  },
  {
   "attachments": {},
   "cell_type": "markdown",
   "metadata": {},
   "source": [
    "### Spusťte agregační funkce jako `sum` na několika řádcích nebo sloupcích"
   ]
  },
  {
   "attachments": {},
   "cell_type": "markdown",
   "metadata": {},
   "source": [
    "*Jaké žánry jsou nejčastější?*"
   ]
  },
  {
   "cell_type": "code",
   "execution_count": null,
   "metadata": {
    "collapsed": false
   },
   "outputs": [],
   "source": [
    "#sum sums over rows by default\n",
    "genre_count = np.sort(data[genres].sum())[::-1]\n",
    "pd.DataFrame({'Genre': genres, 'Genre Count': genre_count})"
   ]
  },
  {
   "attachments": {},
   "cell_type": "markdown",
   "metadata": {},
   "source": [
    "*Kolik žánrů má film v průměru?*"
   ]
  },
  {
   "cell_type": "code",
   "execution_count": null,
   "metadata": {
    "collapsed": false
   },
   "outputs": [],
   "source": [
    "#axis=1 sums over columns instead\n",
    "genre_count = data[genres].sum(axis=1) \n",
    "print(f\"Average movie has {genre_count.mean()} genres\")\n",
    "genre_count.describe()"
   ]
  },
  {
   "attachments": {},
   "cell_type": "markdown",
   "metadata": {},
   "source": [
    "## Prozkoumejte vlastnosti skupin"
   ]
  },
  {
   "attachments": {},
   "cell_type": "markdown",
   "metadata": {},
   "source": [
    "Rozdělme filmy podle desetiletí"
   ]
  },
  {
   "cell_type": "code",
   "execution_count": null,
   "metadata": {
    "collapsed": false
   },
   "outputs": [],
   "source": [
    "decade =  (data.year // 10) * 10\n",
    "\n",
    "tyd = data[['title', 'year']]\n",
    "tyd['decade'] = decade\n",
    "\n",
    "tyd.head()"
   ]
  },
  {
   "cell_type": "markdown",
   "metadata": {},
   "source": [
    "[GroupBy](http://pandas.pydata.org/pandas-docs/dev/groupby.html) will gather movies into groups with equal decade values"
   ]
  },
  {
   "cell_type": "code",
   "execution_count": null,
   "metadata": {
    "collapsed": false
   },
   "outputs": [],
   "source": [
    "# mean score for all movies in each decade\n",
    "decade_mean = data.groupby(decade).score.mean()\n",
    "decade_mean.name = 'Decade Mean'\n",
    "print(decade_mean)"
   ]
  },
  {
   "cell_type": "code",
   "execution_count": null,
   "metadata": {},
   "outputs": [],
   "source": [
    "# vykreslíme si graf (předchozí scatter plot) s průměrem hodnocení za dekádu\n",
    "plt.plot(decade_mean.index, decade_mean.values, 'o-',\n",
    "        color='r', lw=3, label='Decade Average')\n",
    "plt.scatter(data.year, data.score, alpha=.04, lw=0, color='k')\n",
    "plt.xlabel(\"Year\")\n",
    "plt.ylabel(\"Score\")\n",
    "plt.legend(frameon=False)"
   ]
  },
  {
   "attachments": {},
   "cell_type": "markdown",
   "metadata": {},
   "source": [
    "Můžeme jít ještě dále a vypočítat rozptyl v každédekádě"
   ]
  },
  {
   "cell_type": "code",
   "execution_count": null,
   "metadata": {
    "collapsed": false
   },
   "outputs": [],
   "source": [
    "grouped_scores = data.groupby(decade).score\n",
    "\n",
    "mean = grouped_scores.mean()\n",
    "std = grouped_scores.std()\n",
    "print(std)"
   ]
  },
  {
   "cell_type": "code",
   "execution_count": null,
   "metadata": {},
   "outputs": [],
   "source": [
    "# a přikreslit tento udaj jako \"fill\" kolem průměru\n",
    "plt.plot(decade_mean.index, decade_mean.values, 'o-',\n",
    "        color='r', lw=3, label='Decade Average')\n",
    "plt.fill_between(decade_mean.index, (decade_mean + std).values,\n",
    "                 (decade_mean - std).values, color='r', alpha=.2)\n",
    "plt.scatter(data.year, data.score, alpha=.04, lw=0, color='k')\n",
    "plt.xlabel(\"Year\")\n",
    "plt.ylabel(\"Score\")\n",
    "plt.legend(frameon=False)"
   ]
  },
  {
   "attachments": {},
   "cell_type": "markdown",
   "metadata": {},
   "source": [
    "Objekt GroupBy můžete také iterovat. Každá iterace poskytuje dvě proměnné: jednu z odlišných hodnot skupinového klíče a podmnožinu datového rámce, kde se klíč rovná této hodnotě. Jak najít nejoblíbenější film každý rok:"
   ]
  },
  {
   "cell_type": "code",
   "execution_count": null,
   "metadata": {
    "collapsed": false
   },
   "outputs": [],
   "source": [
    "for year, subset in data.groupby('year'):\n",
    "    print(year, subset[subset.score == subset.score.max()].title.values)"
   ]
  },
  {
   "attachments": {},
   "cell_type": "markdown",
   "metadata": {},
   "source": [
    "### Malé násobky\n",
    "\n",
    "Rozdělme filmy podle žánru a podívejme se, jak se liší jejich rok vydání/doba spuštění/skóre IMDB.\n",
    "Distribuce pro všechny filmy je zobrazena jako šedé pozadí.\n",
    "\n",
    "Toto není standardní groupby, takže zde nemůžeme použít metodu `groupby`. Je potřeba ruční smyčka"
   ]
  },
  {
   "cell_type": "code",
   "execution_count": null,
   "metadata": {
    "collapsed": false
   },
   "outputs": [],
   "source": [
    "#create a 4x6 grid of plots.\n",
    "fig, axes = plt.subplots(nrows=4, ncols=6, figsize=(12, 8), \n",
    "                         tight_layout=True)\n",
    "\n",
    "bins = np.arange(1950, 2013, 3)\n",
    "for ax, genre in zip(axes.ravel(), genres):\n",
    "    ax.hist(data[data[genre] == 1].year, density=True,\n",
    "            bins=bins, histtype='stepfilled', color='r', alpha=.3, ec='none')\n",
    "    ax.hist(data.year, bins=bins, histtype='stepfilled', ec='None', density=True, zorder=0, color='#cccccc')\n",
    "    \n",
    "    ax.annotate(genre, xy=(1955, 3e-2), fontsize=14)\n",
    "    ax.xaxis.set_ticks(np.arange(1950, 2013, 30))\n",
    "    ax.set_yticks([])\n",
    "    ax.set_xlabel('Year')"
   ]
  },
  {
   "cell_type": "code",
   "execution_count": null,
   "metadata": {
    "collapsed": false
   },
   "outputs": [],
   "source": [
    "fig, axes = plt.subplots(nrows=4, ncols=6, figsize=(12, 8), tight_layout=True)\n",
    "\n",
    "bins = np.arange(30, 240, 10)\n",
    "\n",
    "for ax, genre in zip(axes.ravel(), genres):\n",
    "    ax.hist(data[data[genre] == 1].runtime, density=True,\n",
    "            bins=bins, histtype='stepfilled', color='r', ec='none', alpha=.3)\n",
    "               \n",
    "    ax.hist(data.runtime, bins=bins, density=True,\n",
    "            histtype='stepfilled', ec='none', color='#cccccc',\n",
    "            zorder=0)\n",
    "    \n",
    "    ax.set_xticks(np.arange(30, 240, 60))\n",
    "    ax.set_yticks([])\n",
    "    ax.set_xlabel(\"Runtime [min]\")\n",
    "    ax.annotate(genre, xy=(230, .02), ha='right', fontsize=12)"
   ]
  },
  {
   "cell_type": "code",
   "execution_count": null,
   "metadata": {
    "collapsed": false
   },
   "outputs": [],
   "source": [
    "fig, axes = plt.subplots(nrows=4, ncols=6, figsize=(12, 8), tight_layout=True)\n",
    "\n",
    "bins = np.arange(0, 10, .5)\n",
    "\n",
    "for ax, genre in zip(axes.ravel(), genres):\n",
    "    ax.hist(data[data[genre] == 1].score, density=True,\n",
    "            bins=bins, histtype='stepfilled', color='r', ec='none', alpha=.3)\n",
    "               \n",
    "    ax.hist(data.score, bins=bins,\n",
    "            histtype='stepfilled', ec='none', color='#cccccc', density=True,\n",
    "            zorder=0)\n",
    "    \n",
    "    ax.set_yticks([])\n",
    "    ax.set_xlabel(\"Score\")\n",
    "    ax.annotate(genre, xy=(0, .2), ha='left', fontsize=12)"
   ]
  },
  {
   "cell_type": "markdown",
   "metadata": {},
   "source": [
    "## Other Resources\n",
    "\n",
    "* Chapters 5 and 7 of [Python for Data Analysis](http://www.amazon.com/Python-Data-Analysis-Wes-McKinney/dp/1449319793)\n",
    "* Jupyter Notebook on [Data wrangling with Pandas](http://nbviewer.ipython.org/urls/gist.github.com/fonnesbeck/5850413/raw/3a9406c73365480bc58d5e75bc80f7962243ba17/2.+Data+Wrangling+with+Pandas.ipynb)\n",
    "* [Lecture 4](https://drive.google.com/folderview?id=0BxYkKyLxfsNVd0xicUVDS1dIS0k&usp=sharing) of Harvard's CS 109: Data Science"
   ]
  }
 ],
 "metadata": {
  "kernelspec": {
   "display_name": "Python 3",
   "language": "python",
   "name": "python3"
  },
  "language_info": {
   "codemirror_mode": {
    "name": "ipython",
    "version": 3
   },
   "file_extension": ".py",
   "mimetype": "text/x-python",
   "name": "python",
   "nbconvert_exporter": "python",
   "pygments_lexer": "ipython3",
   "version": "3.10.9"
  }
 },
 "nbformat": 4,
 "nbformat_minor": 0
}
