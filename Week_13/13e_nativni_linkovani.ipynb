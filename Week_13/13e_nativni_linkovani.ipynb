{
 "cells": [
  {
   "attachments": {},
   "cell_type": "markdown",
   "metadata": {},
   "source": [
    "# Vytváření Python rozharaní pro C kód v Pythonu\n",
    "Python poskytuje hlavičkové soubory pro C, které umožňují přistupovat k Python objektům. \n",
    "Pomocí těchto hlavičkových souborů lze vytvářet C knihovnu, které se pro Python bude tvářit jako nativní Python knihovna.\n",
    "\n",
    "Ukážeme si malou ukázku, více v dokumentaci [zde](https://docs.python.org/3/c-api/)."
   ]
  },
  {
   "attachments": {},
   "cell_type": "markdown",
   "metadata": {},
   "source": [
    "### Parsování vstupu z Pythonu do C\n",
    "\n",
    "Funkce která bude volána z Pythonu bude v C vypadat nějak takto:\n",
    "\n",
    "```c\n",
    "static PyObject* moje_fce(PyObject *self, PyObject *args) \n",
    "```\n",
    "\n",
    "Tedy všechny vstupy z Pythonu budou předány jako `PyObject *args`. A očekává se návratová hodnota `PyObject*`.\n",
    "\n",
    "Proto prvním hlavním stavebním kamenem C API je parsování vstupu z Pythonu do C.\n",
    "\n",
    "Funkce `PyArg_ParseTuple` je součástí Python C API a slouží k parsování argumentů předaných z Pythonu do funkce v jazyce C. Umožňuje konverzi Python objektů předaných jako argumenty do vaší C funkce na hodnoty v jazyce C.\n",
    "\n",
    "Signatura funkce je následující:\n",
    "`int PyArg_ParseTuple(PyObject *args, const char *format, ...);`\n",
    "\n",
    "**Parametry**\n",
    "\n",
    "1.  `args`: Ukazatel na Python tuple objekt obsahující argumenty předané z Pythonu. (Tedy to co přišlo jako `*args`)\n",
    "2.  `format`: Formátovací řetězec, který specifikuje očekávané typy a počet argumentů v tuple. Každý znak ve formátovacím řetězci odpovídá očekávanému typu argumentu.\n",
    "    *   `s`: Řetězec (ukončený nulou)\n",
    "    *   `i`: Celé číslo\n",
    "    *   `f`: Číslo s plovoucí řádovou čárkou\n",
    "    *   `d`: Dvojitá přesnost (double)\n",
    "    *   `O`: Python objekt (obecný)\n",
    "    *   `|`: Udává, že následující argumenty jsou volitelné\n",
    "    *   `O!`: Python objekt specifického typu, následovaný ukazatelem na Python typový objekt\n",
    "3.  `...`: Proměnný počet ukazatelů na proměnné v jazyce C, které budou obsahovat převedené hodnoty argumentů. Tyto ukazatele by měly odpovídat počtu a pořadí specifikátorů formátu ve formátovacím řetězci.\n",
    "\n"
   ]
  },
  {
   "attachments": {},
   "cell_type": "markdown",
   "metadata": {},
   "source": [
    "### Vytváření obektů/struktur viditelných pro Python\n",
    "#### Metody\n",
    "`PyMethodDef` je struktura v Python C API, která definuje metody modulu, obsahuje následující záznamy:\n",
    "\n",
    "1. Název metody jako řetězec (např. \"my_c_function\").\n",
    "2. Ukazatel na C funkci, která implementuje metodu (např. `my_c_function`).\n",
    "3. Příznak způsobu předání argumentů (`METH_VARARGS` pro proměnný počet argumentů ve formě n-tice).\n",
    "4. Řetězec s dokumentací metody (\"Multiply all elements of a NumPy array by 2\").\n",
    "\n",
    "Seznam metod je pak pole těchto struktur, které uvádí metody, které budou v modulu dostupné. \n",
    "\n",
    "Poslední prvek pole musí obsahovat nuly a NULL ukazatele, které slouží jako ukončovací značka pro pole metod.\n",
    "\n",
    "\n",
    "```c\n",
    "static PyMethodDef MyCModuleMethods[] = {\n",
    "    {\"my_c_function\", my_c_function, METH_VARARGS, \"Multiply all elements of a NumPy array by 2\"},\n",
    "    {NULL, NULL, 0, NULL}\n",
    "};\n",
    "```\n",
    "\n",
    "Při vytváření C modulu pro Python je toto pole metod předáno do funkce `PyModule_Create`, která vytvoří modul s definovanými metodami.\n"
   ]
  },
  {
   "attachments": {},
   "cell_type": "markdown",
   "metadata": {},
   "source": [
    "#### Modul\n",
    "Informace o modulu definuje struktura `PyModuleDef` z Python C API. Skládá se z:\n",
    "\n",
    "1. `PyModuleDef_HEAD_INIT`: Makro pro inicializaci hlavičky struktury modulu.\n",
    "2. Název modulu jako řetězec (např. \"my_c_module\").\n",
    "3. Ukazatel na řetězec s dokumentací modulu (v tomto případě `NULL`, protože dokumentace není poskytnuta).\n",
    "4. Velikost prostoru modulu (`-1` značí, že modul nemá žádný stav a všechny jeho funkce jsou globální).\n",
    "5. Ukazatel na pole metod definovaných v modulu (viz stuktura `PyMethodDef`).\n",
    "\n",
    "\n",
    "```c\n",
    "static struct PyModuleDef my_c_module = {\n",
    "    PyModuleDef_HEAD_INIT,\n",
    "    \"my_c_module\",\n",
    "    NULL,\n",
    "    -1,\n",
    "    MyCModuleMethods\n",
    "};\n",
    "```\n",
    "\n",
    "Tato struktura modulu je poté předána do funkce `PyModule_Create`, která vytvoří modul s definovanými metodami a případným stavem."
   ]
  },
  {
   "attachments": {},
   "cell_type": "markdown",
   "metadata": {},
   "source": [
    "#### Inicializace modulu\n",
    "Pro nás poslední \"povinnou\" částí je inicializace modulu ať skutečně vše co jsme doposud definovali (zatím jenom struktury v C) je viditelné pro Python.\n",
    "\n",
    "Funkce `PyMODINIT_FUNC PyInit_my_c_module(void)` je inicializační funkce modulu, která se volá, když Python načítá váš C modul. Tato funkce má následující úkoly:\n",
    "\n",
    "1. Vytvořit modul pomocí funkce `PyModule_Create`, která přijímá ukazatel na strukturu `PyModuleDef` (v tomto případě `&my_c_module`).\n",
    "2. Zkontrolovat, zda se modul úspěšně vytvořil. Pokud `module` je `NULL`, vrátit `NULL` a ukončit inicializaci.\n",
    "3. Inicializovat externí závislosti, pokud existují. V tomto příkladu se volá funkce `import_array()` pro inicializaci NumPy C API.\n",
    "4. Vrátit vytvořený modul, který bude následně zaregistrován v Pythonu.\n",
    "\n",
    "```c\n",
    "PyMODINIT_FUNC PyInit_my_c_module(void) {\n",
    "    PyObject* module = PyModule_Create(&my_c_module);\n",
    "    if (module == NULL) {\n",
    "        return NULL;\n",
    "    }\n",
    "\n",
    "    // Initialize the NumPy C API\n",
    "    import_array();\n",
    "\n",
    "    return module;\n",
    "}\n",
    "```\n",
    "\n",
    "Tato inicializační funkce musí vracet `PyMODINIT_FUNC` a musí mít název `PyInit_` následovaný názvem modulu."
   ]
  },
  {
   "cell_type": "code",
   "execution_count": null,
   "metadata": {},
   "outputs": [],
   "source": [
    "%%writefile mvc_mylib.c\n",
    "\n",
    "#define NPY_NO_DEPRECATED_API NPY_1_7_API_VERSION\n",
    "\n",
    "#include <Python.h>\n",
    "#include <numpy/arrayobject.h>\n",
    "#include \"matrix_vector_multiply.c\"\n",
    "\n",
    "static PyObject* mvp_func_py(PyObject *self, PyObject *args) {\n",
    "    // Declare variables\n",
    "    PyArrayObject *matrix, *vector, *result;\n",
    "    int rows, cols;\n",
    "\n",
    "    if (!PyArg_ParseTuple(args, \"O!O!O!\", &PyArray_Type, &matrix, &PyArray_Type, &vector, &PyArray_Type, &result)) {\n",
    "        return NULL;\n",
    "    }\n",
    "\n",
    "    rows = (int)PyArray_DIM(matrix, 0);\n",
    "    cols = (int)PyArray_DIM(matrix, 1);\n",
    "\n",
    "    matrix_vector_multiply((float *)PyArray_DATA(matrix), (float *)PyArray_DATA(vector), (float *)PyArray_DATA(result), rows, cols);\n",
    "\n",
    "    Py_RETURN_NONE;\n",
    "};\n",
    "\n",
    "static PyMethodDef MatrixVectorMultiplyMethods[] = {\n",
    "    {\"mvp_func_py\", mvp_func_py, METH_VARARGS, \"Perform matrix-vector multiplication.\"},\n",
    "    {NULL, NULL, 0, NULL}\n",
    "};\n",
    "\n",
    "static struct PyModuleDef matrix_vector_multiply_module = {\n",
    "    PyModuleDef_HEAD_INIT,\n",
    "    \"mvc_mylib\",\n",
    "    NULL,\n",
    "    -1,\n",
    "    MatrixVectorMultiplyMethods\n",
    "};\n",
    "\n",
    "PyMODINIT_FUNC PyInit_mvc_mylib(void) {\n",
    "    PyObject* module = PyModule_Create(&matrix_vector_multiply_module);\n",
    "    import_array();\n",
    "    return module;\n",
    "};"
   ]
  },
  {
   "cell_type": "code",
   "execution_count": null,
   "metadata": {},
   "outputs": [],
   "source": [
    "%%writefile setup.py\n",
    "from setuptools import setup, Extension\n",
    "import numpy as np\n",
    "\n",
    "matrix_vector_multiply_module = Extension(\n",
    "    'mvc_mylib',\n",
    "    sources=['mvc_mylib.c'],\n",
    "    include_dirs=[np.get_include()],\n",
    ")\n",
    "\n",
    "setup(\n",
    "    name='mvc_mylib',\n",
    "    version='1.0',\n",
    "    description='A C extension for multiplying a matrix and a vector',\n",
    "    ext_modules=[matrix_vector_multiply_module],\n",
    ")\n"
   ]
  },
  {
   "cell_type": "code",
   "execution_count": null,
   "metadata": {},
   "outputs": [],
   "source": [
    "!python setup.py build_ext --inplace"
   ]
  },
  {
   "cell_type": "code",
   "execution_count": null,
   "metadata": {},
   "outputs": [],
   "source": [
    "import numpy as np\n",
    "import mvc_mylib\n"
   ]
  },
  {
   "cell_type": "code",
   "execution_count": null,
   "metadata": {},
   "outputs": [],
   "source": [
    "matrix = np.array([[1, 2, 3, 4],\n",
    "                   [5, 6, 7, 8],\n",
    "                   [9, 10, 11, 12]], dtype=np.float32)\n",
    "\n",
    "vector = np.array([2, 1, 3, 0], dtype=np.float32)\n",
    "result = np.zeros((3), dtype=np.float32)\n",
    "\n",
    "mvc_mylib.mvp_func_py(matrix, vector, result)\n",
    "\n",
    "print(\"Result:\")\n",
    "print(result)"
   ]
  },
  {
   "cell_type": "code",
   "execution_count": null,
   "metadata": {},
   "outputs": [],
   "source": [
    "matrix@vector"
   ]
  }
 ],
 "metadata": {
  "kernelspec": {
   "display_name": "usr",
   "language": "python",
   "name": "python3"
  },
  "language_info": {
   "codemirror_mode": {
    "name": "ipython",
    "version": 3
   },
   "file_extension": ".py",
   "mimetype": "text/x-python",
   "name": "python",
   "nbconvert_exporter": "python",
   "pygments_lexer": "ipython3",
   "version": "3.13.1"
  },
  "orig_nbformat": 4
 },
 "nbformat": 4,
 "nbformat_minor": 2
}
