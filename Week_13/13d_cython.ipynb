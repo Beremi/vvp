{
 "cells": [
  {
   "attachments": {},
   "cell_type": "markdown",
   "metadata": {},
   "source": [
    "## Vyrobení Wrapperu okolo C funkce pomocí Cythonu\n",
    "K načtení C filu z Cythonu budeme potřebovat následující příkazy:\n",
    "\n",
    "- `cdef extern from \"matrix_vector_multiply.c\"`: Tento příkaz importuje externí C funkci `matrix_vector_multiply` z hlavičkového souboru \"matrix_vector_multiply.c\". Tímto způsobem lze v Cythonu volat funkce napsané v jazyce C.\n",
    "ozhraní mezi rychlými C funkcemi a Python kódem.\n",
    "- `cnp.ndarray[cnp.float32_t, ndim=2]`, `cnp.ndarray[cnp.float32_t, ndim=1]`: Tyto typy definují NumPy pole s konkrétním datovým typem a počtem dimenzí. V tomto případě se jedná o pole s jednoduchou přesností plovoucích čísel (float32) a jednorozměrné nebo dvourozměrné pole.\n",
    "- `<float*> &matrix[0, 0], <float*> &vector[0], <float*> &result[0]`: Tyto konstrukce provádějí type casting ukazatelů na datový typ `float*`. Díky tomu je možné předat adresy prvků NumPy polí do C funkce.\n",
    "\n",
    "Pro kompilaci je třeba dodat cestu odkud se mají brát C soubory. Při použití cell magic stačí přidat `-I .` parametr, ten řekne cythonu, že se má koukat na zdrojáky do současné složky."
   ]
  },
  {
   "cell_type": "code",
   "execution_count": null,
   "metadata": {},
   "outputs": [],
   "source": [
    "import numpy as np\n",
    "\n",
    "matrix = np.array([[1, 2, 3], [4, 5, 6]], dtype=np.float32)\n",
    "\n",
    "vector = np.array([1, 2, 3], dtype=np.float32)\n",
    "result = np.zeros((2), dtype=np.float32)"
   ]
  },
  {
   "cell_type": "code",
   "execution_count": null,
   "metadata": {},
   "outputs": [],
   "source": [
    "%load_ext Cython"
   ]
  },
  {
   "cell_type": "code",
   "execution_count": null,
   "metadata": {},
   "outputs": [],
   "source": [
    "%%cython -I .\n",
    "cimport numpy as cnp\n",
    "import numpy as np\n",
    "\n",
    "cdef extern from \"matrix_vector_multiply.c\":\n",
    "    void matrix_vector_multiply(float *matrix, float *vector, float *result, int rows, int cols)\n",
    "\n",
    "def mvp_func_cy(cnp.ndarray[cnp.float32_t, ndim=2] matrix, cnp.ndarray[cnp.float32_t, ndim=1] vector, cnp.ndarray[cnp.float32_t, ndim=1] result):\n",
    "    cdef int rows = matrix.shape[0]\n",
    "    cdef int cols = matrix.shape[1]\n",
    "    \n",
    "    matrix_vector_multiply(<float*> &matrix[0, 0], <float*> &vector[0], <float*> &result[0], rows, cols)\n"
   ]
  },
  {
   "cell_type": "code",
   "execution_count": null,
   "metadata": {},
   "outputs": [],
   "source": [
    "mvp_func_cy(matrix, vector, result)\n",
    "\n",
    "print(\"Result:\")\n",
    "print(result)"
   ]
  },
  {
   "attachments": {},
   "cell_type": "markdown",
   "metadata": {},
   "source": [
    "Pokud bychom chtěli použít setup.py, bude to vypadat následovně:"
   ]
  },
  {
   "cell_type": "code",
   "execution_count": null,
   "metadata": {},
   "outputs": [],
   "source": [
    "%%writefile mvp_cy.pyx\n",
    "\n",
    "cimport numpy as cnp\n",
    "import numpy as np\n",
    "\n",
    "cdef extern from \"matrix_vector_multiply.c\":\n",
    "    void matrix_vector_multiply(float *matrix, float *vector, float *result, int rows, int cols)\n",
    "\n",
    "def mvp_func_cy(cnp.ndarray[cnp.float32_t, ndim=2] matrix, cnp.ndarray[cnp.float32_t, ndim=1] vector, cnp.ndarray[cnp.float32_t, ndim=1] result):\n",
    "    cdef int rows = matrix.shape[0]\n",
    "    cdef int cols = matrix.shape[1]\n",
    "    \n",
    "    matrix_vector_multiply(<float*> &matrix[0, 0], <float*> &vector[0], <float*> &result[0], rows, cols)\n"
   ]
  },
  {
   "cell_type": "code",
   "execution_count": null,
   "metadata": {},
   "outputs": [],
   "source": [
    "%%writefile setup.py\n",
    "\n",
    "from setuptools import setup, Extension\n",
    "from Cython.Build import cythonize\n",
    "import numpy as np\n",
    "\n",
    "ext_modules = [\n",
    "    Extension(\n",
    "        \"mvp_cy\",\n",
    "        [\"mvp_cy.pyx\"],\n",
    "        include_dirs=[np.get_include(),\".\"],\n",
    "        language=\"c\",\n",
    "    )\n",
    "]\n",
    "\n",
    "setup(\n",
    "    name=\"mvp_cy\",\n",
    "    ext_modules=cythonize(ext_modules),\n",
    ")\n"
   ]
  },
  {
   "cell_type": "code",
   "execution_count": null,
   "metadata": {},
   "outputs": [],
   "source": [
    "!python setup.py build_ext --inplace"
   ]
  },
  {
   "cell_type": "code",
   "execution_count": null,
   "metadata": {},
   "outputs": [],
   "source": [
    "import mvp_cy"
   ]
  },
  {
   "cell_type": "code",
   "execution_count": null,
   "metadata": {},
   "outputs": [],
   "source": [
    "mvp_cy.mvp_func_cy(matrix, vector, result)\n",
    "print(\"Result:\")\n",
    "print(result)"
   ]
  }
 ],
 "metadata": {
  "kernelspec": {
   "display_name": "usr",
   "language": "python",
   "name": "python3"
  },
  "language_info": {
   "codemirror_mode": {
    "name": "ipython",
    "version": 3
   },
   "file_extension": ".py",
   "mimetype": "text/x-python",
   "name": "python",
   "nbconvert_exporter": "python",
   "pygments_lexer": "ipython3",
   "version": "3.13.1"
  },
  "orig_nbformat": 4
 },
 "nbformat": 4,
 "nbformat_minor": 2
}
