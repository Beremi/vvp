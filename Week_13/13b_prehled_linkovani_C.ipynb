{
 "cells": [
  {
   "attachments": {},
   "cell_type": "markdown",
   "metadata": {},
   "source": [
    "# Linkování C kódu a C knihoven s Pythonem\n",
    "\n",
    "V této části si ukážeme, jak lze v Pythonu používat C knihovny a kód. \n",
    "\n",
    "- Využijeme knihovnu `ctypes` případně `cffi` (pro načítání knihoven) \n",
    "- Nativní Pythonovské rozhraní pro C, případně `cython`"
   ]
  },
  {
   "attachments": {},
   "cell_type": "markdown",
   "metadata": {},
   "source": [
    "## Nejprve C kód\n",
    "Máme jednoduchý C kód, který provádí násobení matice a vektoru. \n",
    "\n",
    "Krátké opakování C:\n",
    "- `*` před proměnnou znamená, že se jedná o ukazatel\n",
    "- pole se v C zapisuje jako ukazatel na první prvek, sami o sobě neobsahují informaci o délce a tvaru\n",
    "- `void` znamená, že funkce nic nevrací\n"
   ]
  },
  {
   "cell_type": "code",
   "execution_count": null,
   "metadata": {},
   "outputs": [],
   "source": [
    "%%writefile matrix_vector_multiply.c\n",
    "\n",
    "void matrix_vector_multiply(float *matrix, float *vector, float *result, int rows, int cols) {\n",
    "    for (int i = 0; i < rows; i++) {\n",
    "        result[i] = 0;\n",
    "        for (int j = 0; j < cols; j++) {\n",
    "            result[i] += matrix[i * cols + j] * vector[j];\n",
    "        }\n",
    "    }\n",
    "}\n"
   ]
  },
  {
   "attachments": {},
   "cell_type": "markdown",
   "metadata": {},
   "source": [
    "#### Kompilejme C kód\n",
    "Pro uživatele linuxu je tento krok velmi jednoduchý, neboť všechny potřebné komponenty již máte v systému.\n",
    "\n",
    "Pokud se Vám pod Windows podaří zkompilovat C kód (ať už Microsoft Visual Studio C++ compiler (MSVC) nebo MinGW-w64) bude vašim výstupem `.dll` knihovna, tak pak pozor při načítání. V tomto případě bude potřeba použít `WinDLL` místo `CDLL`."
   ]
  },
  {
   "cell_type": "code",
   "execution_count": null,
   "metadata": {},
   "outputs": [],
   "source": [
    "!gcc -shared -fPIC -o libmatrix_vector_multiply.so matrix_vector_multiply.c"
   ]
  }
 ],
 "metadata": {
  "kernelspec": {
   "display_name": "Python 3",
   "language": "python",
   "name": "python3"
  },
  "language_info": {
   "codemirror_mode": {
    "name": "ipython",
    "version": 3
   },
   "file_extension": ".py",
   "mimetype": "text/x-python",
   "name": "python",
   "nbconvert_exporter": "python",
   "pygments_lexer": "ipython3",
   "version": "3.12.3"
  },
  "orig_nbformat": 4
 },
 "nbformat": 4,
 "nbformat_minor": 2
}
