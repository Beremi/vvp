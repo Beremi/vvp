{
 "cells": [
  {
   "attachments": {},
   "cell_type": "markdown",
   "metadata": {},
   "source": [
    "# Knihovna Multiprocessing\n",
    "\n",
    "Knihovna `multiprocessing` poskytuje API, které je podobné API `threading`.\n",
    "\n",
    "Multiprocessing toho umí mnohem více než si tady stihneme ukázat, viz [dokumentace](https://docs.python.org/3/library/multiprocessing.html)."
   ]
  },
  {
   "attachments": {},
   "cell_type": "markdown",
   "metadata": {},
   "source": [
    "## Vytváření procesů:\n",
    "Pro vytvoření procesu použijeme třídu `Process` z knihovny multiprocessing.\n",
    "\n",
    "Proces vytvoříme pomocí konstruktoru třídy `Process`, která přijímá tyto parametry:\n",
    "* `target=None` - ukazatel na funkci, která se má provést v procesu\n",
    "* `name=None` - název procesu\n",
    "* `args=()`/`kwargs={}` - n-tice/slovník argumentů, které se mají předat funkci\n",
    "\n"
   ]
  },
  {
   "cell_type": "code",
   "execution_count": null,
   "metadata": {},
   "outputs": [],
   "source": [
    "import multiprocessing\n",
    "\n",
    "def square(x):\n",
    "    print(x * x)\n",
    "\n",
    "numbers = [1, 2, 3, 4, 5]\n",
    "processes = []\n",
    "\n",
    "for number in numbers:\n",
    "    process = multiprocessing.Process(target=square, args=(number,))\n",
    "    processes.append(process)\n",
    "    process.start()\n",
    "\n",
    "for process in processes:\n",
    "    process.join()\n"
   ]
  },
  {
   "attachments": {},
   "cell_type": "markdown",
   "metadata": {},
   "source": [
    "### Processes vs Threads\n",
    "* Procesy jsou oddělené instance programu.\n",
    "* Mohou běžet současně na více jádrech procesoru."
   ]
  },
  {
   "cell_type": "code",
   "execution_count": null,
   "metadata": {},
   "outputs": [],
   "source": [
    "def vypocet():\n",
    "    a = 0\n",
    "    for i in range(100000000):\n",
    "        a += i\n",
    "    return a"
   ]
  },
  {
   "cell_type": "code",
   "execution_count": null,
   "metadata": {},
   "outputs": [],
   "source": [
    "%time vypocet()"
   ]
  },
  {
   "cell_type": "code",
   "execution_count": null,
   "metadata": {},
   "outputs": [],
   "source": [
    "import threading\n",
    "import time\n",
    "\n",
    "zacatek = time.time()\n",
    "\n",
    "vlakno1 = threading.Thread(target=vypocet)\n",
    "vlakno2 = threading.Thread(target=vypocet)\n",
    "\n",
    "vlakno1.start()\n",
    "vlakno2.start()\n",
    "\n",
    "vlakno1.join()\n",
    "vlakno2.join()\n",
    "\n",
    "konec = time.time()\n",
    "print(\"Doba trvání: \", konec - zacatek)\n"
   ]
  },
  {
   "cell_type": "code",
   "execution_count": null,
   "metadata": {},
   "outputs": [],
   "source": [
    "import multiprocessing\n",
    "import time\n",
    "\n",
    "zacatek = time.time()\n",
    "\n",
    "proces1 = multiprocessing.Process(target=vypocet)\n",
    "proces2 = multiprocessing.Process(target=vypocet)\n",
    "\n",
    "proces1.start()\n",
    "proces2.start()\n",
    "\n",
    "proces1.join()\n",
    "proces2.join()\n",
    "\n",
    "konec = time.time()\n",
    "print(\"Doba trvání: \", konec - zacatek)"
   ]
  },
  {
   "attachments": {},
   "cell_type": "markdown",
   "metadata": {},
   "source": [
    "## Nastavení výstupních dat:\n",
    "\n",
    "Pro předání vstupních dat lze použít přímo \"jakékoliv\" objekty Pythonu. Pokud však chceme sesbírat výstupy jednotlivých procesů musíme použít knihovnu multiprocessing a třídy `Queue` případně `Pipe`. Zde je příklad použití Queue:"
   ]
  },
  {
   "cell_type": "code",
   "execution_count": null,
   "metadata": {},
   "outputs": [],
   "source": [
    "from multiprocessing import Process, Queue\n",
    "\n",
    "def square(x, output_queue):\n",
    "    output_queue.put(x * x)\n",
    "\n",
    "\n",
    "numbers = [1, 2, 3, 4, 5]\n",
    "output_queue = Queue()\n",
    "processes = []\n",
    "\n",
    "for number in numbers:\n",
    "    process = Process(target=square, args=(number, output_queue))\n",
    "    processes.append(process)\n",
    "    process.start()\n",
    "\n",
    "for process in processes:\n",
    "    process.join()\n",
    "\n",
    "while not output_queue.empty():\n",
    "    print(output_queue.get())\n"
   ]
  },
  {
   "attachments": {},
   "cell_type": "markdown",
   "metadata": {},
   "source": [
    "## Komunikace mezi procesy:\n",
    "Pro komunikaci mezi procesy můžeme použít opět `Queue` nebo `Pipe`. \n",
    "\n",
    "Takto lze použít `Pipe`:"
   ]
  },
  {
   "cell_type": "code",
   "execution_count": null,
   "metadata": {},
   "outputs": [],
   "source": [
    "from multiprocessing import Process, Pipe\n",
    "\n",
    "def square(x, conn):\n",
    "    conn.send(x * x)\n",
    "    conn.send(x * x * x)\n",
    "    conn.close()\n",
    "\n",
    "\n",
    "numbers = [1, 2, 3, 4, 5]\n",
    "processes = []\n",
    "parent_conns = []\n",
    "\n",
    "for number in numbers:\n",
    "    parent_conn, child_conn = Pipe()\n",
    "    parent_conns.append(parent_conn)\n",
    "    process = Process(target=square, args=(number, child_conn))\n",
    "    processes.append(process)\n",
    "    process.start()\n",
    "\n",
    "for process in processes:\n",
    "    process.join()\n",
    "\n",
    "for parent_conn in parent_conns:\n",
    "    print(parent_conn.recv())\n",
    "    print(parent_conn.recv())\n",
    "    parent_conn.close()\n",
    "\n",
    "\n"
   ]
  },
  {
   "cell_type": "code",
   "execution_count": null,
   "metadata": {},
   "outputs": [],
   "source": [
    "from multiprocessing import Process, Pipe\n",
    "import time\n",
    "\n",
    "def child_process(conn):\n",
    "    time.sleep(2)\n",
    "    conn.send(\"Hello from child process!\")\n",
    "    conn.close()\n",
    "\n",
    "\n",
    "parent_conn, child_conn = Pipe()\n",
    "p = Process(target=child_process, args=(child_conn,))\n",
    "p.start()\n",
    "\n",
    "while not parent_conn.poll(0.5):  # Poll with a timeout of 0.5 seconds\n",
    "    print(\"No message received yet, waiting...\")\n",
    "message = parent_conn.recv()\n",
    "print(f\"Received message: {message}\")\n",
    "\n",
    "p.join()\n"
   ]
  },
  {
   "attachments": {},
   "cell_type": "markdown",
   "metadata": {},
   "source": [
    "Pozor!! Metoda poll vrací True i tehdy pokud druhá strana ukončila spojení (close) a už není žádná zpráva k dispozici."
   ]
  },
  {
   "attachments": {},
   "cell_type": "markdown",
   "metadata": {},
   "source": [
    "## Synchronizace mezi procesy (barrier):\n",
    "Pro synchronizaci procesů můžeme použít třídu Barrier z knihovny multiprocessing:"
   ]
  },
  {
   "cell_type": "code",
   "execution_count": null,
   "metadata": {},
   "outputs": [],
   "source": [
    "from multiprocessing import Process, Barrier\n",
    "import time\n",
    "\n",
    "def worker(barrier, id):\n",
    "    print(f'Worker {id} - before barrier')\n",
    "    time.sleep(1)\n",
    "    barrier.wait()\n",
    "    print(f'Worker {id} - after barrier')\n",
    "\n",
    "\n",
    "num_workers = 5\n",
    "barrier = Barrier(num_workers)\n",
    "processes = [Process(target=worker, args=(barrier, i)) for i in range(num_workers)]\n",
    "\n",
    "for process in processes:\n",
    "    process.start()\n",
    "\n",
    "for process in processes:\n",
    "    process.join()\n"
   ]
  },
  {
   "attachments": {},
   "cell_type": "markdown",
   "metadata": {},
   "source": [
    "## Sdílená data\n",
    "Pro sdílení dat mezi procesy můžeme použít třídy `Value` a `Array` z knihovny multiprocessing. Případně můžeme použít třídu `Manager`."
   ]
  },
  {
   "cell_type": "code",
   "execution_count": null,
   "metadata": {},
   "outputs": [],
   "source": [
    "from multiprocessing import Process, Value, Array\n",
    "import time\n",
    "\n",
    "def f1(n, a):\n",
    "    for i in range(len(a)):\n",
    "        a[i] = -a[i]\n",
    "\n",
    "    n.value = 1\n",
    "\n",
    "def f2(n, a):\n",
    "    while n.value == 0:\n",
    "        print(\"Waiting...\")\n",
    "    print(a[:])\n",
    "\n",
    "\n",
    "num = Value('d', 0.0)\n",
    "arr = Array('i', range(10))\n",
    "\n",
    "p2 = Process(target=f2, args=(num, arr))\n",
    "p2.start()\n",
    "\n",
    "p1 = Process(target=f1, args=(num, arr))\n",
    "p1.start()\n",
    "\n",
    "\n",
    "\n",
    "p1.join()\n",
    "p2.join()\n"
   ]
  },
  {
   "attachments": {},
   "cell_type": "markdown",
   "metadata": {},
   "source": [
    "## Pool procesů\n",
    "`Pool` je třída v knihovně multiprocessing, která poskytuje jednoduchý způsob pro paralelní zpracování úkolů. `Pool` vytváří skupinu (pool) pracovních procesů a umožňuje automatické rozdělení úkolů mezi tyto procesy.\n",
    "\n",
    "`Pool` je vhodný pro situace, kdy máme mnoho nezávislých úkolů, které mají být zpracovány paralelně. Nejčastěji se používá s funkcí `map`, která aplikuje danou funkci na každý prvek zadaného seznamu a vrátí výsledky v pořadí, ve kterém byly zadané.\n"
   ]
  },
  {
   "cell_type": "code",
   "execution_count": null,
   "metadata": {},
   "outputs": [],
   "source": [
    "from multiprocessing import Pool\n",
    "import os\n",
    "\n",
    "def square(x):\n",
    "    # get the process id of the current process\n",
    "    process_id = os.getpid()\n",
    "    print(f\"Process ID: {process_id} zpracovává číslo {x}\\n\", end=\"\")\n",
    "    return x * x\n",
    "\n",
    "\n",
    "numbers = [i for i in range(10)]\n",
    "with Pool(processes=4) as pool:\n",
    "    results = pool.map(square, numbers)\n",
    "print(results)\n"
   ]
  }
 ],
 "metadata": {
  "kernelspec": {
   "display_name": "Python 3",
   "language": "python",
   "name": "python3"
  },
  "language_info": {
   "codemirror_mode": {
    "name": "ipython",
    "version": 3
   },
   "file_extension": ".py",
   "mimetype": "text/x-python",
   "name": "python",
   "nbconvert_exporter": "python",
   "pygments_lexer": "ipython3",
   "version": "3.10.10"
  },
  "orig_nbformat": 4
 },
 "nbformat": 4,
 "nbformat_minor": 2
}
