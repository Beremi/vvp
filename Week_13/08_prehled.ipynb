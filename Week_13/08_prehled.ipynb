{
 "cells": [
  {
   "attachments": {},
   "cell_type": "markdown",
   "metadata": {},
   "source": [
    "# Pythons GIL\n",
    "\n",
    "GIL, neboli Global Interpreter Lock, je zámek používaný v CPythonu (implementaci Pythonu kterou používáme) k omezení paralelního přístupu k objektům a zajištění \"bezpečné\" práce s objekty.\n",
    "\n",
    "## Proč GIL existuje?\n",
    "\n",
    "Python používá automatickou správu paměti a referenční počítání k uvolňování paměti. Pro zajištění správného fungování těchto funkcí a zabránění `race conditions`, které by mohly vést k nesprávnému chování programu, byl zaveden GIL.\n",
    "\n",
    "## Jak GIL ovlivňuje vícevláknové programy?\n",
    "\n",
    "V důsledku GIL mohou ve CPython interpretu běžet současně pouze vlákna, která neprovádějí Python byte-kód. Toto omezení znamená, že čistě Pythonovský kód nemůže využít více než jedno jádro najednou.\n"
   ]
  },
  {
   "attachments": {},
   "cell_type": "markdown",
   "metadata": {},
   "source": [
    "# Jak tedy v Pythonu vytvořit program, který nebude striktě sekvenční?\n",
    "\n",
    "Klíčové jsou zde tři informace:\n",
    "- GIL je zámek interpretu, můžeme vyzkoušet spustit více interpretů najednou\n",
    "    - modul `multiprocessing` - umožňuje spouštět více interpretů najednou\n",
    "    - knihovna `mpi4py` - umožňuje spouštět více interpretů najednou a komunikovat mezi nimi pomocí MPI protokolu\n",
    "- GIL se vztahuje k Pythonovskému byte-kódu, můžeme tedy paralelně počítat v modulu implementovaném v jiném jazyce\n",
    "    - `numpy` - linearní algebra je implementována v C/Fortranu, numpy proto může využívat OpenMP pro paralelizaci\n",
    "    - `numba` - můžeme použít dekorátor `@njit(parallel=True)` případně funkci `prange` pro paralelizaci cyklů, výsledek je v C = tedy mimo Python GIL\n",
    "    - `cython` - obdobně jako numba\n",
    "    - mnoho dalších knihoven jako jsou `pandas`, `scipy`, `scikit-learn`, `tensorflow`, `pytorch`, ...\n",
    "- GIL se vzthahuje pouze na vlákna která vykonávají Python byte-kód\n",
    "    - modul `threading` - umožňuje spouštět vlákna, pokud například načítáme data z disku, nebo čekáme na síťovou komunikaci, můžeme využít vlákna pro \"paralelizaci\" těchto čekacích operací "
   ]
  }
 ],
 "metadata": {
  "kernelspec": {
   "display_name": "Python 3",
   "language": "python",
   "name": "python3"
  },
  "language_info": {
   "codemirror_mode": {
    "name": "ipython",
    "version": 3
   },
   "file_extension": ".py",
   "mimetype": "text/x-python",
   "name": "python",
   "nbconvert_exporter": "python",
   "pygments_lexer": "ipython3",
   "version": "3.10.10"
  },
  "orig_nbformat": 4
 },
 "nbformat": 4,
 "nbformat_minor": 2
}
