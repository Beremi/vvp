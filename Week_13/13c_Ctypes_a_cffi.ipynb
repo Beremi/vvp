{
 "cells": [
  {
   "attachments": {},
   "cell_type": "markdown",
   "metadata": {},
   "source": [
    "# Načtení C shared knihovny (`.so`) pomocí Ctypes (uvnitř NumPy)\n",
    "\n",
    "Moduly Ctypes a Numpy lze použít pro snadnou integraci mezi jazyky Python a C.\n",
    "\n",
    "- `Ctypes` je modul Pythonu, který poskytuje kompatibilní datové typy pro C a Python, a umožňuje volat funkce z dynamicky sdílených knihoven napsaných v jazyce C.\n",
    "- `Numpy` obsahuje integraci `Ctypes` - lze tedy použít čistě Ctypes, případně Ctypes podmodul v Numpy\n",
    "\n",
    "\n",
    "Pro nalinkování předchozí funkce `matrix_vector_multiply` z C knihovny `libmatrix_vector_multiply.so` je třeba:\n",
    "\n",
    "\n",
    "1. Načítání dynamicky sdílené knihovny: Kód načítá dynamicky sdílenou knihovnu (také známou jako \"shared library\" nebo \".so\" soubor), která obsahuje funkce a datové struktury napsané v jazyce C. Toto se provádí pomocí `ctypes.CDLL` nebo `np.ctypeslib.load_library`.\n",
    "2. Přistoupení k oběktu reprezentujícímu C funkci (používá se `.` syntaxe, jako u modulů)\n",
    "3. Mapování C datových typů na Python datové typy: Kód mapuje C datové typy na jejich odpovídající Python datové typy pomocí ctypes modulu.  Definuje se atribut `argtypes` pro každou C funkci, která se volá, a `restype` pro funkce, které vrací hodnotu.\n",
    "\n",
    "\n",
    "Více informací o Ctypes naleznete v [dokumentaci](https://docs.python.org/3/library/ctypes.html), nebo v NumPy [dokumentaci](https://numpy.org/doc/stable/reference/routines.ctypeslib.html)."
   ]
  },
  {
   "cell_type": "code",
   "execution_count": null,
   "metadata": {},
   "outputs": [],
   "source": [
    "import numpy as np\n",
    "\n",
    "# Load the shared library\n",
    "lib_matrix_vector_multiply = np.ctypeslib.load_library(libname='libmatrix_vector_multiply.so', loader_path='.')\n",
    "\n",
    "# Define the matrix_vector_multiply function from the shared library\n",
    "matrix_vector_multiply = lib_matrix_vector_multiply.matrix_vector_multiply\n",
    "matrix_vector_multiply.argtypes = [np.ctypeslib.ndpointer(dtype=np.float32),\n",
    "                                   np.ctypeslib.ndpointer(dtype=np.float32),\n",
    "                                   np.ctypeslib.ndpointer(dtype=np.float32),\n",
    "                                   np.ctypeslib.c_intp,\n",
    "                                   np.ctypeslib.c_intp]\n",
    "\n",
    "matrix = np.array([[1, 2, 3],\n",
    "                    [4, 5, 6]], dtype=np.float32)\n",
    "\n",
    "vector = np.array([1, 2, 3], dtype=np.float32)\n",
    "result = np.zeros((2), dtype=np.float32)\n",
    "\n",
    "matrix_vector_multiply(matrix, vector, result, matrix.shape[0], matrix.shape[1])\n",
    "\n",
    "print(\"Result vector:\")\n",
    "print(result)\n"
   ]
  },
  {
   "cell_type": "code",
   "execution_count": null,
   "metadata": {},
   "outputs": [],
   "source": [
    "matrix@vector"
   ]
  },
  {
   "attachments": {},
   "cell_type": "markdown",
   "metadata": {},
   "source": [
    "Totéž přímo pomocí Ctypes:"
   ]
  },
  {
   "cell_type": "code",
   "execution_count": null,
   "metadata": {},
   "outputs": [],
   "source": [
    "import ctypes\n",
    "import numpy as np\n",
    "\n",
    "# Načtěte sdílenou knihovnu\n",
    "lib_matrix_vector_multiply = ctypes.CDLL('./libmatrix_vector_multiply.so')\n",
    "\n",
    "# Definujte funkci matrix_vector_multiply ze sdílené knihovny\n",
    "matrix_vector_multiply = lib_matrix_vector_multiply.matrix_vector_multiply\n",
    "matrix_vector_multiply.argtypes = [ctypes.POINTER(ctypes.c_float),\n",
    "                                   ctypes.POINTER(ctypes.c_float),\n",
    "                                   ctypes.POINTER(ctypes.c_float),\n",
    "                                   ctypes.c_int,\n",
    "                                   ctypes.c_int]\n",
    "\n",
    "matrix = np.array([[1, 2, 3],\n",
    "                    [4, 5, 6]], dtype=np.float32)\n",
    "\n",
    "vector = np.array([1, 2, 3], dtype=np.float32)\n",
    "result = np.zeros((2), dtype=np.float32)\n",
    "\n",
    "# Konverze numpy polí na C pole\n",
    "matrix_ptr = matrix.ctypes.data_as(ctypes.POINTER(ctypes.c_float))\n",
    "vector_ptr = vector.ctypes.data_as(ctypes.POINTER(ctypes.c_float))\n",
    "result_ptr = result.ctypes.data_as(ctypes.POINTER(ctypes.c_float))\n",
    "\n",
    "matrix_vector_multiply(matrix_ptr, vector_ptr, result_ptr, matrix.shape[0], matrix.shape[1])\n",
    "\n",
    "print(\"Result vector:\")\n",
    "print(result)\n"
   ]
  },
  {
   "attachments": {},
   "cell_type": "markdown",
   "metadata": {},
   "source": [
    "### Takto to dělá CFFI\n",
    "\n",
    "Jednou z výhod CFFI je možnost automatického načtení typů z hlavičnového souboru."
   ]
  },
  {
   "cell_type": "code",
   "execution_count": null,
   "metadata": {},
   "outputs": [],
   "source": [
    "%%writefile matrix_vector_multiply.h\n",
    "\n",
    "void matrix_vector_multiply(float *matrix, float *vector, float *result, int rows, int cols);"
   ]
  },
  {
   "cell_type": "code",
   "execution_count": null,
   "metadata": {},
   "outputs": [],
   "source": [
    "#!pip install cffi"
   ]
  },
  {
   "cell_type": "code",
   "execution_count": null,
   "metadata": {},
   "outputs": [],
   "source": [
    "import numpy as np\n",
    "from cffi import FFI\n",
    "\n",
    "ffi = FFI()\n",
    "\n",
    "# Načtěte obsah hlavičkového souboru\n",
    "with open('matrix_vector_multiply.h', 'r') as f:\n",
    "    header = f.read()\n",
    "\n",
    "# Zadejte hlavičkový soubor s deklarací funkce\n",
    "ffi.cdef(header)\n",
    "\n",
    "# Načtěte sdílenou knihovnu\n",
    "lib_matrix_vector_multiply = ffi.dlopen('./libmatrix_vector_multiply.so')\n",
    "\n",
    "matrix = np.array([[1, 2, 3],\n",
    "                   [4, 5, 6]], dtype=np.float32)\n",
    "\n",
    "vector = np.array([1, 2, 3], dtype=np.float32)\n",
    "result = np.zeros((2), dtype=np.float32)\n",
    "\n",
    "# Konverze numpy polí na C pole\n",
    "matrix_ptr = ffi.cast(\"float *\", matrix.ctypes.data)\n",
    "vector_ptr = ffi.cast(\"float *\", vector.ctypes.data)\n",
    "result_ptr = ffi.cast(\"float *\", result.ctypes.data)\n",
    "\n",
    "lib_matrix_vector_multiply.matrix_vector_multiply(matrix_ptr, vector_ptr, result_ptr, matrix.shape[0], matrix.shape[1])\n",
    "\n",
    "print(\"Result vector:\")\n",
    "print(result)"
   ]
  },
  {
   "cell_type": "code",
   "execution_count": null,
   "metadata": {},
   "outputs": [],
   "source": [
    "matrix@vector"
   ]
  }
 ],
 "metadata": {
  "kernelspec": {
   "display_name": "usr",
   "language": "python",
   "name": "python3"
  },
  "language_info": {
   "codemirror_mode": {
    "name": "ipython",
    "version": 3
   },
   "file_extension": ".py",
   "mimetype": "text/x-python",
   "name": "python",
   "nbconvert_exporter": "python",
   "pygments_lexer": "ipython3",
   "version": "3.13.1"
  },
  "orig_nbformat": 4
 },
 "nbformat": 4,
 "nbformat_minor": 2
}
