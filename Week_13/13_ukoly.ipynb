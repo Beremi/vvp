{
 "cells": [
  {
   "cell_type": "markdown",
   "metadata": {},
   "source": [
    "# Úkoly:\n",
    "## mpi4py\n",
    "\n",
    "Vytvořte program v Pythonu (`mpi4py`), který:\n",
    "1. Spočte součet čísel 1 až $n$.\n",
    "2. Rozdělí tento výpočet mezi $m$ mpi procesů.\n",
    "3. Každý proces spočítá součet své části rozsahu.\n",
    "4. Hlavní procesor (rank 0) shromáždí výsledky od ostatních procesorů a spočítá celkovou sumu a vypíše.\n"
   ]
  },
  {
   "cell_type": "code",
   "execution_count": null,
   "metadata": {},
   "outputs": [],
   "source": []
  },
  {
   "cell_type": "markdown",
   "metadata": {},
   "source": [
    "## Linkování C do Pythonu\n",
    "\n",
    "1. V souboru `pruchod_grafem.c` je implementována funkce `reachable_in_n_steps`, použijte ji pro výpočet rpůchodu grafem v Pythonu.\n",
    "    - Zkompilejte soubor `pruchod_grafem.c` do dynamické knihovny.\n",
    "    - Načtěte pouze .so soubor pomocí `ctypes`  nebo `cffi` a zavolejte funkci `reachable_in_n_steps`.\n",
    "    - Pomocí Cythonu vytvořte rozhraní pro volání funkce `reachable_in_n_steps` z Pythonu.\n",
    "    - Porovnjte s metodami z minulých cvičení, BONUS - kdo opraví moji chybu v implementaci?\n",
    "\n",
    "**HINT1: int v C je np.int32 v Numpy.**\n",
    "\n",
    "**HINT2: u numpy array je parametr order, který určuje jestli se má pole držet v paměti po řádcích (C) nebo po sloupcích (F).**"
   ]
  },
  {
   "cell_type": "code",
   "execution_count": null,
   "metadata": {},
   "outputs": [],
   "source": []
  }
 ],
 "metadata": {
  "kernelspec": {
   "display_name": ".venv",
   "language": "python",
   "name": "python3"
  },
  "language_info": {
   "codemirror_mode": {
    "name": "ipython",
    "version": 3
   },
   "file_extension": ".py",
   "mimetype": "text/x-python",
   "name": "python",
   "nbconvert_exporter": "python",
   "pygments_lexer": "ipython3",
   "version": "3.12.3"
  }
 },
 "nbformat": 4,
 "nbformat_minor": 2
}
