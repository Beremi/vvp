{
 "cells": [
  {
   "attachments": {},
   "cell_type": "markdown",
   "metadata": {},
   "source": [
    "# Než začneme\n",
    "Veškeré potřebné informace ohlytně stylu a formátování naleznete v PEP 8, viz [https://peps.python.org/pep-0008/](https://peps.python.org/pep-0008/). "
   ]
  },
  {
   "attachments": {},
   "cell_type": "markdown",
   "metadata": {},
   "source": [
    "# Pojmenovávání proměnných, funkcí, tříd, modulů a balíčků\n",
    "\n",
    "V Pythonu platí následující konvence pojmenování:\n",
    "\n",
    "1. **Proměnné**:\n",
    "   - Používejte malá písmena a podtržítka pro oddělení slov(`snake_case`).\n",
    "   - Například: jmeno_uzivatele, pocet_aut\n",
    "2. **Funkce**:\n",
    "   - Stejně jako proměnné, použijte malá písmena a podtržítka pro oddělení slov(`snake_case`).\n",
    "   - Například: vypocet_obvodu, ziskej_data\n",
    "3. **Třídy**:\n",
    "   - Použijte `PascalCase` (občas také nazývání jako `CamelCase`), kde každé slovo začíná velkým písmenem a nejsou zde žádná podtržítka.\n",
    "   - Například: MujSeznam, Osoba\n",
    "4. **Moduly**:\n",
    "   - Použijte malá písmena a podtržítka pro oddělení slov, pokud je to nezbytně nutné.\n",
    "   - Například: muj_modul, nastroje\n",
    "5. **Balíčky**:\n",
    "   - Použijte malá písmena bez podtržítek.\n",
    "   - Například: mujbalicek, databaze\n",
    "6. **Konstanty**:\n",
    "   - Použijte velká písmena a podtržítka pro oddělení slov.\n",
    "   - Například: MAX_POCET, RYCHLOST_SVETLA\n",
    "\n",
    "\n",
    "**Obecná pravidla**:\n",
    "   - Názvy by měly být popisné a ne příliš dlouhé - je třeba najít rovnováhu mezi přehledností kódu a jeho čitelností.\n",
    "   - Nepoužívejte názvy, které by mohly být zaměněny s klíčovými slovy Pythonu(např. `class `, `if `, `else ` atd.).\n",
    "   - Pokud je danný problém typycký název, který se kryje s Pythonovým klíčovým slovem, použijte podtržítko na konci názvu (např. `class_`).\n",
    "   - Buďte jednotní v jazyce, kterým pojmenováváte proměnné, funkce, třídy, moduly a balíčky. \n",
    "   - Pokud implementujete nějaký algoritmus, který je popsán v nějaké literatuře, použijte názvy proměnných, které jsou použity v této literatuře a v komenářích vysvětlete, co daná proměnná reprezentuje (např. `x` a `y` pro souřadnice bodu). Je také vhodné přidat odkaz na literaturu, která popisuje daný algoritmus.\n",
    "   - Názvy, které jsou viditelné pro uživatele jako veřejné části API, by měly dodržovat konvence, které odrážejí použití spíše než implementaci. - tedy mohou porušovat některá pravidla, která jsou uvedena výše.\n",
    "   - Názvy proměnných a funkcí, které nejsou určeny pro použití (např. jako součást API), začínají podtržítkem. Například: `_nazev_promenne`, `_nazev_funkce`. Tato konvence je poměrně důležitá, neboť Python neumožňuje \"schovat\" část implementace před uživatelem.\n"
   ]
  },
  {
   "attachments": {},
   "cell_type": "markdown",
   "metadata": {},
   "source": [
    "# Docstringy"
   ]
  },
  {
   "attachments": {},
   "cell_type": "markdown",
   "metadata": {},
   "source": [
    "## Plain-text\n",
    "Jednoduchý a přímočarý formát, který se skládá z prostého textu bez zvláštního formátování. Jde snadno napsat, ale nemusí poskytovat dostatečnou strukturu pro velké projekty nebo nástroje, které automaticky generují dokumentaci.\n",
    "\n",
    "**Pro nás preferovaná varianta společně s type hintingem.**"
   ]
  },
  {
   "cell_type": "code",
   "execution_count": 13,
   "metadata": {},
   "outputs": [],
   "source": [
    "def add(a: int | float, b : int | float) -> int | float:\n",
    "    \"\"\"\n",
    "    Tato funkce bere jako vstup dvě čísla a vrátí jejich součet.\n",
    "    \"\"\"\n",
    "    return a + b\n"
   ]
  },
  {
   "attachments": {},
   "cell_type": "markdown",
   "metadata": {},
   "source": [
    "## reStructuredText (reST): \n",
    "Lehký značkovací jazyk, který se běžně používá pro dokumentační řetězce v Pythonu, zejména pro velké projekty nebo při použití Sphinxu pro generování dokumentace. Má jednoduchou syntaxi a umožňuje bohaté formátování."
   ]
  },
  {
   "cell_type": "code",
   "execution_count": 14,
   "metadata": {},
   "outputs": [],
   "source": [
    "def add(a, b):\n",
    "    \"\"\"\n",
    "    Tato funkce bere jako vstup dvě čísla a vrátí jejich součet.\n",
    "\n",
    "    :param a: První číslo k sečítání\n",
    "    :type a: int nebo float\n",
    "    :param b: Druhé číslo k sečítání\n",
    "    :type b: int nebo float\n",
    "    :return: Součet čísel a a b\n",
    "    :rtype: int nebo float\n",
    "    \"\"\"\n",
    "    return a + b\n"
   ]
  },
  {
   "attachments": {},
   "cell_type": "markdown",
   "metadata": {},
   "source": [
    "## Google styl: \n",
    "Formát, který je jasný, stručný a snadno čitelný. Je populární v komunitě Pythonu a používá ho mnoho projektů, včetně těch uvnitř Google."
   ]
  },
  {
   "cell_type": "code",
   "execution_count": null,
   "metadata": {},
   "outputs": [],
   "source": [
    "def add(a, b):\n",
    "    \"\"\"\n",
    "    Tato funkce bere jako vstup dvě čísla a vrátí jejich součet.\n",
    "\n",
    "    Args:\n",
    "        a (int nebo float): První číslo k sečítání\n",
    "        b (int nebo float): Druhé číslo k sečítání\n",
    "\n",
    "    Returns:\n",
    "        int nebo float: Součet čísel a a b\n",
    "    \"\"\"\n",
    "    return a + b\n"
   ]
  },
  {
   "attachments": {},
   "cell_type": "markdown",
   "metadata": {},
   "source": [
    "## NumPy styl: \n",
    "Formát, který je speciálně navržen pro dokumentaci vědeckých projektů v Pythonu, jako jsou ty, které používají knihovny NumPy, SciPy nebo související. Je podobný Google stylu, ale má některé další konvence pro dokumentaci vědeckých funkcí."
   ]
  },
  {
   "cell_type": "code",
   "execution_count": null,
   "metadata": {},
   "outputs": [],
   "source": [
    "def add(a, b):\n",
    "    \"\"\"\n",
    "    Tato funkce bere jako vstup dvě čísla a vrátí jejich součet\n",
    "\n",
    "    Parametry\n",
    "    ----------\n",
    "    a : int nebo float\n",
    "        První číslo k sečítání\n",
    "    b : int nebo float\n",
    "        Druhé číslo k sečítání\n",
    "\n",
    "    Návratové hodnoty\n",
    "    -------\n",
    "    int nebo float\n",
    "        Součet čísel a a b\n",
    "    \"\"\"\n",
    "    return a + b\n"
   ]
  },
  {
   "attachments": {},
   "cell_type": "markdown",
   "metadata": {},
   "source": [
    "# Obecné návyky a doporučení\n"
   ]
  },
  {
   "attachments": {},
   "cell_type": "markdown",
   "metadata": {},
   "source": [
    "\n",
    "## DRY = \"Don't Repeat Yourself\" (\"Neopakuj se\") \n",
    "\n",
    "- Je to zásada, která říká, že každý úsek informací nebo kódu by měl být definován pouze na jednom místě a neměl by být duplikován. \n",
    "- DRY pomáhá vytvářet kratší, čitelnější a udržitelnější (se snažší údržbou) kód.\n"
   ]
  },
  {
   "cell_type": "code",
   "execution_count": 1,
   "metadata": {},
   "outputs": [
    {
     "name": "stdout",
     "output_type": "stream",
     "text": [
      "bmi subjekt1 = 30\n",
      "bmi subjekt2 = 29\n",
      "bmi subjekt3 = 29\n",
      "bmi subjekt4 = 24\n",
      "bmi subjekt5 = 28\n"
     ]
    }
   ],
   "source": [
    "# špatně\n",
    "# Data subjektu = [váha_kg, výška_m]\n",
    "subjekt1 = [80, 1.62]\n",
    "subjekt2 = [69, 1.53]\n",
    "subjekt3 = [80, 1.66]\n",
    "subjekt4 = [80, 1.79]\n",
    "subjekt5 = [72, 1.60]\n",
    "\n",
    "bmi_subjekt1 = int(subjekt1[0] / subjekt1[1]**2)\n",
    "print(\"bmi {} = {}\".format('subjekt1', bmi_subjekt1))\n",
    "\n",
    "bmi_subjekt2 = int(subjekt2[0] / subjekt2[1]**2)\n",
    "print(\"bmi {} = {}\".format('subjekt2', bmi_subjekt2))\n",
    "\n",
    "bmi_subjekt3 = int(subjekt3[0] / subjekt3[1]**2)\n",
    "print(\"bmi {} = {}\".format('subjekt3', bmi_subjekt3))\n",
    "\n",
    "bmi_subjekt4 = int(subjekt4[0] / subjekt4[1]**2)\n",
    "print(\"bmi {} = {}\".format('subjekt4', bmi_subjekt4))\n",
    "\n",
    "bmi_subjekt5 = int(subjekt5[0] / subjekt5[1]**2)\n",
    "print(\"bmi {} = {}\".format('subjekt5', bmi_subjekt5))\n"
   ]
  },
  {
   "cell_type": "code",
   "execution_count": 5,
   "metadata": {},
   "outputs": [
    {
     "name": "stdout",
     "output_type": "stream",
     "text": [
      "bmi subjekt1 = 30\n",
      "bmi subjekt2 = 29\n",
      "bmi subjekt3 = 29\n",
      "bmi subjekt4 = 24\n",
      "bmi subjekt5 = 28\n"
     ]
    }
   ],
   "source": [
    "# dobře\n",
    "def vypocti_bmi(vaha_kg, vyska_m):\n",
    "    return int(vaha_kg / vyska_m**2)\n",
    "\n",
    "\n",
    "subjekty = {\n",
    "    'subjekt1': [80, 1.62],\n",
    "    'subjekt2': [69, 1.53],\n",
    "    'subjekt3': [80, 1.66],\n",
    "    'subjekt4': [80, 1.79],\n",
    "    'subjekt5': [72, 1.60]\n",
    "}\n",
    "\n",
    "for jmeno, (vaha, vyska) in subjekty.items():\n",
    "    bmi = vypocti_bmi(vaha, vyska)\n",
    "    print(f\"bmi {jmeno} = {bmi}\")\n"
   ]
  },
  {
   "attachments": {},
   "cell_type": "markdown",
   "metadata": {},
   "source": [
    "## KISS (Keep It Simple, Stupid) \n",
    "\n",
    "je zásada používaná v programování a návrhu systémů, která zdůrazňuje důležitost jednoduchosti a snadného pochopení. KISS princip říká, že většina systémů funguje lépe, pokud jsou jednoduché, než když jsou složité. Tím se snižuje riziko chyb, zjednodušuje údržbu, zlepšuje testovatelnost a čitelnost kódu. \n",
    "\n",
    "\n",
    "**Udržování jednoduchosti v kódu zahrnuje**:\n",
    "\n",
    "1. Používání jasných a srozumitelných názvů proměnných a funkcí.\n",
    "2. Rozdělení problémů na menší, snadno řešitelné úkoly a omezení délky funkcí na rozumné minimum  \n",
    "    - ryzbytí na více funkcí, kde bude každá zodpovdná za jednu část problému \n",
    "    - Občas značeno jako `SRP` (Single Responsibility Principle)\n",
    "3. Snaha o minimalizaci zanoření a složitosti kódu.\n",
    "4. Používání komentářů a dokumentace pro vysvětlení složitých částí kódu.\n"
   ]
  },
  {
   "attachments": {},
   "cell_type": "markdown",
   "metadata": {},
   "source": [
    "1. Používání jasných a srozumitelných názvů proměnných a funkcí.\n"
   ]
  },
  {
   "cell_type": "code",
   "execution_count": 6,
   "metadata": {},
   "outputs": [
    {
     "name": "stdout",
     "output_type": "stream",
     "text": [
      "50\n"
     ]
    }
   ],
   "source": [
    "# špatně \n",
    "def f(x, y):\n",
    "    return x * y\n",
    "\n",
    "\n",
    "a = 10\n",
    "b = 5\n",
    "c = f(a, b)\n",
    "print(c)\n"
   ]
  },
  {
   "cell_type": "code",
   "execution_count": 7,
   "metadata": {},
   "outputs": [
    {
     "name": "stdout",
     "output_type": "stream",
     "text": [
      "50\n"
     ]
    }
   ],
   "source": [
    "# dobře \n",
    "def vynasob(x, y):\n",
    "    return x * y\n",
    "\n",
    "\n",
    "delka = 10\n",
    "sirka = 5\n",
    "obsah = vynasob(delka, sirka)\n",
    "print(obsah)\n"
   ]
  },
  {
   "attachments": {},
   "cell_type": "markdown",
   "metadata": {},
   "source": [
    "2. Rozdělení problémů na menší, snadno řešitelné úkoly, rozdělení zodpovědnosti funkcí\n"
   ]
  },
  {
   "cell_type": "code",
   "execution_count": null,
   "metadata": {},
   "outputs": [],
   "source": [
    "# špatně \n",
    "\n",
    "def vypocti_prumer_a_vypis(cisla):\n",
    "    suma = sum(cisla)\n",
    "    prumer = suma / len(cisla)\n",
    "    print(prumer)\n",
    "\n",
    "\n",
    "cisla = [1, 2, 3, 4, 5]\n",
    "vypocti_prumer_a_vypis(cisla)\n"
   ]
  },
  {
   "cell_type": "code",
   "execution_count": null,
   "metadata": {},
   "outputs": [],
   "source": [
    "# dobře\n",
    "\n",
    "def vypocti_prumer(cisla):\n",
    "    suma = sum(cisla)\n",
    "    prumer = suma / len(cisla)\n",
    "    return prumer\n",
    "\n",
    "\n",
    "cisla = [1, 2, 3, 4, 5]\n",
    "\n",
    "prumer = vypocti_prumer_a_vypis(cisla)\n",
    "print(prumer)\n"
   ]
  },
  {
   "cell_type": "code",
   "execution_count": 8,
   "metadata": {},
   "outputs": [
    {
     "name": "stdout",
     "output_type": "stream",
     "text": [
      "3.1415926542141035\n"
     ]
    }
   ],
   "source": [
    "# špatně\n",
    "\n",
    "def vypocet_pi_newton(n_rada, n_odmocnina):\n",
    "    a = 1 / 16\n",
    "    s = a / 3\n",
    "    for i in range(2, n_rada + 1):\n",
    "        a = a * (2 * i - 3) / 8 / (i)\n",
    "        s += a / (2 * i + 1)\n",
    "\n",
    "    val_squared = 3\n",
    "    x = val_squared\n",
    "    for i in range(n_odmocnina):\n",
    "        x = (x + val_squared / x) / 2\n",
    "\n",
    "    odhad_pi = 12 * (-x / 8 + 1 / 2 - s)\n",
    "\n",
    "    return odhad_pi\n",
    "\n",
    "print(vypocet_pi_newton(10, 5))"
   ]
  },
  {
   "cell_type": "code",
   "execution_count": 9,
   "metadata": {},
   "outputs": [
    {
     "name": "stdout",
     "output_type": "stream",
     "text": [
      "3.1415926542141035\n"
     ]
    }
   ],
   "source": [
    "# dobře\n",
    "\n",
    "def odmocnina(a, max_iter=10):\n",
    "    x = a\n",
    "    for i in range(max_iter):\n",
    "        x = (x + a / x) / 2\n",
    "    return x\n",
    "\n",
    "def sum_rada_newton(n):\n",
    "    a = 1 / 16\n",
    "    s = a / 3\n",
    "    for i in range(2, n + 1):\n",
    "        a = a * (2 * i - 3) / 8 / (i)\n",
    "        s += a / (2 * i + 1)\n",
    "    return s\n",
    "\n",
    "def vypocet_pi_newton(n_rada, n_odmocnina):\n",
    "    s = sum_rada_newton(n_rada)\n",
    "    sqrt_3 = odmocnina(3, n_odmocnina)\n",
    "    odhad_pi = 12 * (-sqrt_3 / 8 + 1 / 2 - s)\n",
    "    return odhad_pi\n",
    "\n",
    "print(vypocet_pi_newton(10, 5))"
   ]
  },
  {
   "attachments": {},
   "cell_type": "markdown",
   "metadata": {},
   "source": [
    "3. Snaha o minimalizaci zanoření a složitosti kódu.\n"
   ]
  },
  {
   "cell_type": "code",
   "execution_count": 11,
   "metadata": {},
   "outputs": [
    {
     "name": "stdout",
     "output_type": "stream",
     "text": [
      "3\n",
      "3\n",
      "3\n",
      "3\n"
     ]
    }
   ],
   "source": [
    "def slozita_kontrola(x, y):\n",
    "    if x > 0:\n",
    "        if y > 0:\n",
    "            return x + y\n",
    "        else:\n",
    "            return x - y\n",
    "    else:\n",
    "        if y > 0:\n",
    "            return y - x\n",
    "        else:\n",
    "            return -x - y\n",
    "        \n",
    "print(slozita_kontrola(1, 2))\n",
    "print(slozita_kontrola(1, -2))\n",
    "print(slozita_kontrola(-1, 2))\n",
    "print(slozita_kontrola(-1, -2))"
   ]
  },
  {
   "cell_type": "code",
   "execution_count": 12,
   "metadata": {},
   "outputs": [
    {
     "name": "stdout",
     "output_type": "stream",
     "text": [
      "3\n",
      "3\n",
      "3\n",
      "3\n"
     ]
    }
   ],
   "source": [
    "def jednoducha_kontrola(x, y):\n",
    "    if x > 0 and y > 0:\n",
    "        return x + y\n",
    "    elif x > 0:\n",
    "        return x - y\n",
    "    elif y > 0:\n",
    "        return y - x\n",
    "    else:\n",
    "        return -x - y\n",
    "\n",
    "print(jednoducha_kontrola(1, 2))\n",
    "print(jednoducha_kontrola(1, -2))\n",
    "print(jednoducha_kontrola(-1, 2))\n",
    "print(jednoducha_kontrola(-1, -2))"
   ]
  },
  {
   "attachments": {},
   "cell_type": "markdown",
   "metadata": {},
   "source": [
    "4. Používání komentářů a dokumentace pro vysvětlení složitých částí kódu."
   ]
  },
  {
   "cell_type": "code",
   "execution_count": null,
   "metadata": {},
   "outputs": [],
   "source": [
    "# špatně\n",
    "\n",
    "def det(A):\n",
    "    return A[0][0] * A[1][1] - A[0][1] * A[1][0]\n"
   ]
  },
  {
   "cell_type": "code",
   "execution_count": null,
   "metadata": {},
   "outputs": [],
   "source": [
    "# dobře\n",
    "from typing import List\n",
    "\n",
    "def determinant(matice: List[List[float]]) -> float:\n",
    "    \"\"\"Spočítá determinant 2x2 matice.\n",
    "\n",
    "    Args:\n",
    "        matice (List[List[float]]): matice 2x2 v listu\n",
    "\n",
    "    Returns:\n",
    "        float: determinant matice\n",
    "    \"\"\"\n",
    "    return matice[0][0] * matice[1][1] - matice[0][1] * matice[1][0]"
   ]
  },
  {
   "attachments": {},
   "cell_type": "markdown",
   "metadata": {},
   "source": [
    "## YAGNI (You Aren't Gonna Need It)\n",
    "\n",
    "zaměřuje se na neimplementování funkcí a částí kódu, které nejsou aktuálně potřeba, a na odolávání pokušení přidávat do kódu funkcionalitu \"pro jistotu\" nebo \"pro budoucí potřeby\".\n",
    "\n",
    "Neznamená to však, že nemáte mít promyšlený návrh tak, aby budoucí rozšíření bylo proveditelné bez přepsání existujícího kódu.\n",
    "\n",
    "Typicky to znamená:\n",
    "- předčasná optimalizace\n",
    "- předčasná a přílišná abstrakce\n",
    "- generalizace kódu, pro funkcionality, které nejsou aktuálně potřeba\n"
   ]
  },
  {
   "attachments": {},
   "cell_type": "markdown",
   "metadata": {},
   "source": [
    "# LoD (Law of Demeter) \n",
    "je návrhový princip používaný v objektově orientovaném programování, který se zaměřuje na snížení závislostí mezi objekty a jejich spolupráci. Cílem tohoto principu je omezit, jak moc jednotlivé objekty vědí o struktuře a chování ostatních objektů, což zlepšuje modularitu a snižuje závislost mezi komponentami.\n",
    "\n",
    "LoD stanovuje, že metoda objektu by měla komunikovat pouze s:\n",
    "\n",
    "- Samotným objektem.\n",
    "- Parametry, které přijímá metoda.\n",
    "- Jakýmkoli objektem, který metoda vytvoří nebo instancuje.\n",
    "- Jakýmkoli objektem, který je přímo součástí objektu (jeho atributy).\n",
    "\n",
    "V naší praxi to hlavně znamená, že je třeba dobře rozmyslet kam daná metoda patří. Snažíme se vyhnout \"maitanance\" třídám/funkcím, které mají v sobě functionality, které by měly být v jiných třídách/funkcích."
   ]
  },
  {
   "cell_type": "markdown",
   "metadata": {},
   "source": []
  }
 ],
 "metadata": {
  "kernelspec": {
   "display_name": "Python 3",
   "language": "python",
   "name": "python3"
  },
  "language_info": {
   "codemirror_mode": {
    "name": "ipython",
    "version": 3
   },
   "file_extension": ".py",
   "mimetype": "text/x-python",
   "name": "python",
   "nbconvert_exporter": "python",
   "pygments_lexer": "ipython3",
   "version": "3.10.10"
  },
  "orig_nbformat": 4
 },
 "nbformat": 4,
 "nbformat_minor": 2
}
