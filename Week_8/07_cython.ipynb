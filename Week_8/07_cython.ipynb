{
 "cells": [
  {
   "attachments": {},
   "cell_type": "markdown",
   "metadata": {},
   "source": [
    "# Cython\n",
    "Cython je výkonný \"programovací jazyk\" (metajazyk?), který kombinuje jednoduchost Pythonu s rychlostí a efektivitou C. Umožňuje psát kód v Python-like formátu, který je automaticky převeden do C a zkompilován, což významně zefektivňuje danný kód. "
   ]
  },
  {
   "attachments": {},
   "cell_type": "markdown",
   "metadata": {},
   "source": [
    "Jelikož cython vyžaduje kompilaci C a C++ kódu, je nutné mít kompilátor. V případě Windows je nutné mít nějakou Microsoft Microsoft Visual C/C++ (MSVC) - [https://wiki.python.org/moin/WindowsCompilers](https://wiki.python.org/moin/WindowsCompilers)."
   ]
  },
  {
   "cell_type": "code",
   "execution_count": null,
   "metadata": {},
   "outputs": [],
   "source": [
    "#!pip install cython"
   ]
  },
  {
   "attachments": {},
   "cell_type": "markdown",
   "metadata": {},
   "source": [
    "## Základní použití\n",
    "Pokud chceme využít Cython musíme vyrobit:\n",
    "- soubor s příponou .pyx ve kterém je zdrojový kód pro Cython\n",
    "- soubor s informacemi pro kompilátor (setup.py)"
   ]
  },
  {
   "attachments": {},
   "cell_type": "markdown",
   "metadata": {},
   "source": [
    "### Soubor s příponou .pyx"
   ]
  },
  {
   "cell_type": "code",
   "execution_count": null,
   "metadata": {},
   "outputs": [],
   "source": [
    "%%writefile hello_cython.pyx\n",
    "print(\"Ahoj, Cythone!\")"
   ]
  },
  {
   "attachments": {},
   "cell_type": "markdown",
   "metadata": {},
   "source": [
    "### Soubor s informacemi pro kompilátor (setup.py)"
   ]
  },
  {
   "cell_type": "code",
   "execution_count": null,
   "metadata": {},
   "outputs": [],
   "source": [
    "%%writefile setup.py\n",
    "from setuptools import setup\n",
    "from Cython.Build import cythonize\n",
    "\n",
    "setup(\n",
    "    ext_modules=cythonize(\"hello_cython.pyx\")\n",
    ")\n"
   ]
  },
  {
   "attachments": {},
   "cell_type": "markdown",
   "metadata": {},
   "source": [
    "setup.py je v Pythonu zavedený typ souboru pro kompilaci/sestavování/build/instalaci Python modulů. V tomto souboru je nutné specifikovat, jaký modul se má kompilovat, jaké jsou jeho závislosti a další informace.\n",
    "\n",
    "V našem případě má soubor tyto řádky:\n",
    "- `from setuptools import setup` - importuje funkci setup z knihovny setuptools, která se stará o kompilaci\n",
    "- `from Cython.Build import cythonize` - importuje funkci cythonize z knihovny Cython, která se stará o překlad z .pyx\n",
    "- `setup(ext_modules=cythonize(\"cython_test.pyx\"))` - volá funkci setup, která se stará o kompilaci a v ní funkci cythonize která dělá překlad z .pyx"
   ]
  },
  {
   "cell_type": "code",
   "execution_count": null,
   "metadata": {},
   "outputs": [],
   "source": [
    "!python setup.py build_ext --inplace"
   ]
  },
  {
   "attachments": {},
   "cell_type": "markdown",
   "metadata": {},
   "source": [
    "A máme sestaveno!\n",
    "\n",
    "Vypsalo to mnoho textu, pro nás je důležité volání (v Linuxu gcc) kompilace a její úspěšné dokončení.\n",
    "\n",
    "Pokud nás zajímá co vlastně příkaz dělá tak toto reprezentují jeho části:\n",
    "- `python setup.py` - spustí soubor setup.py v Pythonu\n",
    "- `build_ext` - příkaz pro kompilaci pythonovské extension - tedy něco co půjde naimportovat do Pythonu\n",
    "- `--inplace` - příkaz pro kompilaci v místě, tedy po kompilaci se výsledek nakopíruje zase sem, jinak by zůstal v adresáři build"
   ]
  },
  {
   "attachments": {},
   "cell_type": "markdown",
   "metadata": {},
   "source": [
    "Vyzkoušíme tento zkompilovaný modul v Pythonu:"
   ]
  },
  {
   "cell_type": "code",
   "execution_count": null,
   "metadata": {},
   "outputs": [],
   "source": [
    "import hello_cython"
   ]
  },
  {
   "attachments": {},
   "cell_type": "markdown",
   "metadata": {},
   "source": [
    "To bylo vše, a fungovalo to."
   ]
  },
  {
   "attachments": {},
   "cell_type": "markdown",
   "metadata": {},
   "source": [
    "## Cython proměnné, funkce a Numpy\n",
    "Zatím jsme neudělali moc užitečného. Pojďme se podívat jak se v cythonu vlastně píše kód.\n",
    "\n",
    "### Deklarace proměnných s konkrétními typy:\n",
    "- `cdef int a` - deklarace proměnné a typu int\n",
    "- `cdef float b` - deklarace proměnné a typu float\n",
    "- `cdef double c` - deklarace proměnné a typu double\n",
    "- `cdef str d` - deklarace proměnné a typu str\n",
    "\n",
    "### Deklarace funkcí s konkrétními argumenty a návratovými typy:\n",
    "- `cdef int add(int a, int b):` - deklarace funkce add, která má 2 argumenty typu int a vrací int takováto funkce **nelze volat z Pythonu**\n",
    "- `cpdef int add(int a, int b):` - deklarace funkce add, která má 2 argumenty typu int a vrací int takováto funkce **lze volat z Pythonu**\n",
    "\n",
    "### Deklarace proměnných s typy z Numpy:\n",
    "Je třeba mít importy jak pro cython tak pro python \n",
    "```python\n",
    "import numpy as np\n",
    "cimport numpy as cnp\n",
    "```\n",
    "Pak se proměnné deklarují jako:\n",
    "- `cdef cnp.ndarray[cnp.float64_t, ndim=1] a` - deklarace proměnné a typu numpy array s jedním rozměrem a typem float64\n",
    "\n",
    "Pro rychlou práci s Numpy poli lze funcki nastavit s:\n",
    "- `@cython.boundscheck(False)` - vypne kontrolu indexů - tedy pokud šáhneme mimo pole tak to nevyhodí chybu - **používat až když víme, že náš kód je správný** - jinak to může vést od tahání hodnt z jiných polí na blízkých paměťových adresách až po segfault\n",
    "- `@cython.wraparound(False)` - vypne wraparound - tedy vypne možnost použít záporné indexy"
   ]
  },
  {
   "attachments": {},
   "cell_type": "markdown",
   "metadata": {},
   "source": [
    "## Vyzkoušejme si to na nějakém příkladu"
   ]
  },
  {
   "cell_type": "code",
   "execution_count": null,
   "metadata": {},
   "outputs": [],
   "source": [
    "%%writefile my_dot.pyx\n",
    "import numpy as np\n",
    "cimport numpy as np\n",
    "from libc.math cimport sqrt\n",
    "import cython # je zde kvůli dekorátorům\n",
    "\n",
    "@cython.boundscheck(False)\n",
    "@cython.wraparound(False)\n",
    "cpdef double my_dot(np.ndarray[np.float64_t, ndim=1] a, np.ndarray[np.float64_t, ndim=1] b):\n",
    "    cdef int i\n",
    "    cdef int n = a.shape[0]\n",
    "    cdef double result = 0.0\n",
    "    for i in range(n):\n",
    "        result += a[i] * b[i]\n",
    "    return result\n",
    "\n",
    "@cython.boundscheck(False)\n",
    "@cython.wraparound(False)\n",
    "cpdef double my_norm(np.ndarray[np.float64_t, ndim=1] a):\n",
    "    cdef int i\n",
    "    cdef int n = a.shape[0]\n",
    "    cdef double result = 0.0\n",
    "    for i in range(n):\n",
    "        result += a[i] * a[i]\n",
    "    return sqrt(result)"
   ]
  },
  {
   "attachments": {},
   "cell_type": "markdown",
   "metadata": {},
   "source": [
    "* `cimport` je analogie `import`, pracuje ale s Cython definicemi funkcí (.pxd soubory).\n",
    "* Podobně `libc` je speciální modul Cythonu. Obsahuje funkce z C standardní knihovny. Např. odmocnina je v něm implementována jako `libc.math.sqrt`."
   ]
  },
  {
   "cell_type": "code",
   "execution_count": null,
   "metadata": {},
   "outputs": [],
   "source": [
    "%%writefile setup.py\n",
    "from setuptools import setup, Extension\n",
    "from Cython.Build import cythonize\n",
    "import numpy as np\n",
    "\n",
    "ext_modules = [\n",
    "    Extension(\n",
    "        name = \"my_dot\",\n",
    "        sources=[\"my_dot.pyx\"],\n",
    "        include_dirs=[np.get_include()],  # include path for NumPy headers\n",
    "        extra_compile_args=[\"-O3\"],  # optional, to enable optimization flags\n",
    "    )\n",
    "]\n",
    "\n",
    "setup(\n",
    "    ext_modules=cythonize(ext_modules),\n",
    ")\n",
    "\n"
   ]
  },
  {
   "attachments": {},
   "cell_type": "markdown",
   "metadata": {},
   "source": [
    "\n",
    "Pro větší kódy (používající nějaké knihovny) musíme použít Extension. Extension je třída, která se stará o kompilaci a překlad z cythonu do C. A umožňuje oproti předchozímu příkladu specifikovat:\n",
    "- jméno modulu (name)\n",
    "- zdrojové soubory (sources) - v našem případě jen jeden .pyx ale může být více\n",
    "- závislosti (include_dirs) - v našem případě numpy - nalinkuje se pro kompilaci\n",
    "- další parametry kompilátoru (extra_compile_args) - v našem případě -O3 - optimizace na úrovni 3"
   ]
  },
  {
   "cell_type": "code",
   "execution_count": null,
   "metadata": {},
   "outputs": [],
   "source": [
    "!python setup.py build_ext --inplace"
   ]
  },
  {
   "cell_type": "code",
   "execution_count": null,
   "metadata": {},
   "outputs": [],
   "source": [
    "import my_dot"
   ]
  },
  {
   "cell_type": "code",
   "execution_count": null,
   "metadata": {},
   "outputs": [],
   "source": [
    "import numpy as np\n",
    "a = np.random.rand(1_000_000)\n",
    "b = np.random.rand(1_000_000)\n"
   ]
  },
  {
   "cell_type": "code",
   "execution_count": null,
   "metadata": {},
   "outputs": [],
   "source": [
    "%timeit c = my_dot.my_dot(a, b)"
   ]
  },
  {
   "cell_type": "code",
   "execution_count": null,
   "metadata": {},
   "outputs": [],
   "source": [
    "%timeit c = np.dot(a, b)"
   ]
  },
  {
   "cell_type": "code",
   "execution_count": null,
   "metadata": {},
   "outputs": [],
   "source": [
    "print(my_dot.my_dot(a, b), np.dot(a, b))"
   ]
  },
  {
   "cell_type": "code",
   "execution_count": null,
   "metadata": {},
   "outputs": [],
   "source": [
    "%timeit c = my_dot.my_norm(a)"
   ]
  },
  {
   "cell_type": "code",
   "execution_count": null,
   "metadata": {},
   "outputs": [],
   "source": [
    "%timeit c = np.linalg.norm(a)"
   ]
  },
  {
   "attachments": {},
   "cell_type": "markdown",
   "metadata": {},
   "source": [
    "## Cython v Jupyteru\n",
    "To, že musíme vytvářet .pyx soubor a setup.py je dost nepříjemné pokud chceme okoušet jednoduchou utilitu. \n",
    "\n",
    "V Jupyteru/IPythonu je možné použít magic příkaz %%cython, který umožňuje psát cython kód přímo v bunňce Jupyteru.\n",
    "\n",
    "%%cython přijímá mnoho dodatečných parametrů (to co se objevuje v setup.py), viz dokumentace."
   ]
  },
  {
   "cell_type": "code",
   "execution_count": null,
   "metadata": {},
   "outputs": [],
   "source": [
    "# je třeba nejdříve načíst Ipython extension pro cython\n",
    "%load_ext Cython"
   ]
  },
  {
   "cell_type": "code",
   "execution_count": null,
   "metadata": {},
   "outputs": [],
   "source": [
    "%%cython\n",
    "\n",
    "import numpy as np\n",
    "cimport numpy as np\n",
    "from libc.math cimport sqrt\n",
    "import cython # je zde kvůli dekorátorům\n",
    "\n",
    "@cython.boundscheck(False)\n",
    "@cython.wraparound(False)\n",
    "cpdef double my_dot2(np.ndarray[np.float64_t, ndim=1] a, np.ndarray[np.float64_t, ndim=1] b):\n",
    "    cdef int i\n",
    "    cdef int n = a.shape[0]\n",
    "    cdef double result = 0.0\n",
    "    for i in range(n):\n",
    "        result += a[i] * b[i]\n",
    "    return result\n",
    "\n",
    "@cython.boundscheck(False)\n",
    "@cython.wraparound(False)\n",
    "cpdef double my_norm2(np.ndarray[np.float64_t, ndim=1] a):\n",
    "    cdef int i\n",
    "    cdef int n = a.shape[0]\n",
    "    cdef double result = 0.0\n",
    "    for i in range(n):\n",
    "        result += a[i] * a[i]\n",
    "    return sqrt(result)"
   ]
  },
  {
   "cell_type": "code",
   "execution_count": null,
   "metadata": {},
   "outputs": [],
   "source": [
    "%timeit c = my_dot2(a, b)"
   ]
  },
  {
   "cell_type": "code",
   "execution_count": null,
   "metadata": {},
   "outputs": [],
   "source": [
    "%timeit c = my_norm2(a)"
   ]
  },
  {
   "attachments": {},
   "cell_type": "markdown",
   "metadata": {},
   "source": [
    "### Cython toho nabízí mnoho\n",
    "Podívejte se na http://docs.cython.org co všechno Cython nabízí -- není toho málo, např.\n",
    "\n",
    "* použití C++\n",
    "* šablony (templates)\n",
    "* OpenMP (k tomu se možná ještě dostaneme)\n",
    "* vytváření C-API\n",
    "* třídy (cdef classes)"
   ]
  },
  {
   "cell_type": "markdown",
   "metadata": {},
   "source": []
  }
 ],
 "metadata": {
  "kernelspec": {
   "display_name": "Python 3",
   "language": "python",
   "name": "python3"
  },
  "language_info": {
   "codemirror_mode": {
    "name": "ipython",
    "version": 3
   },
   "file_extension": ".py",
   "mimetype": "text/x-python",
   "name": "python",
   "nbconvert_exporter": "python",
   "pygments_lexer": "ipython3",
   "version": "3.10.10"
  },
  "orig_nbformat": 4
 },
 "nbformat": 4,
 "nbformat_minor": 2
}
