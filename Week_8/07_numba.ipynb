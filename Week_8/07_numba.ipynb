{
 "cells": [
  {
   "attachments": {},
   "cell_type": "markdown",
   "metadata": {},
   "source": [
    "# `numba`\n",
    "\n",
    "Numba je balíček který umožňuje kompilaci Python kódu pomocí [LLVM](http://llvm.org/). \n",
    "\n",
    "Podporuje just-in-time kompilaci pomocí dekorátoru `jit` (http://numba.pydata.org/numba-doc/latest/user/jit.html). - tedy kompilaci v okamžiku prvního spuštění."
   ]
  },
  {
   "cell_type": "code",
   "execution_count": null,
   "metadata": {},
   "outputs": [],
   "source": [
    "#!pip install numba"
   ]
  },
  {
   "attachments": {},
   "cell_type": "markdown",
   "metadata": {},
   "source": [
    "## Numba.jit\n",
    "```\n",
    "@numba.jit(\n",
    "    signature=None, \n",
    "    nopython=False, \n",
    "    nogil=False, \n",
    "    cache=False, \n",
    "    forceobj=False, \n",
    "    parallel=False, \n",
    "    error_model='python', \n",
    "    fastmath=False, locals={}\n",
    ")\n",
    "```\n",
    "Numba.jit se dá použít jako dekorátor (nebo jako funkce, stejně jako ostatní dekorátory).\n",
    "\n",
    "Její parametry jsou:\n",
    "- `signature` - specifikuje typy vstupních a výstupních parametrů. Pokud není specifikováno, použije se automatická detekce typů.\n",
    "- `nopython` - pokud je `True`, Numba se pokusí vygenerovat kód, který nepoužívá Python C API. Pokud se to nepodaří, vyhodí chybu. Je to jen přepínač, ať vidíme chybu místo fallbacku do objektového módu.\n",
    "- `nogil` - pokud je `True`, Numba se pokusí vygenerovat kód, který nepoužívá Python GIL. Více k GILu příště.\n",
    "- `cache` - pokud je `True`, Numba uloží zkompilovaný kód do souboru a příště ho použije. Jinak pro každý kernel vygeneruje nový kód.\n",
    "- `forceobj` - pokud je `True`, Numba vždy použije objektový mód.\n",
    "- `parallel` - pokud je `True`, Numba se pokusí paralelizovat cykly.\n",
    "- `error_model` - specifikuje jak Numba zachází s chybami. Možnosti jsou `python` (vyhodí Python výjimku), `numpy` (vyhodí Numpy výjimku) a `omit` (ignoruje chyby).\n",
    "- `fastmath` - pokud je `True`, Numba použije rychlejší, ale méně přesnou matematiku. (typicky float místo double precision)\n",
    "- `locals` - slovník, který specifikuje typy lokálních proměnných. Používá se pro optimalizaci."
   ]
  },
  {
   "cell_type": "code",
   "execution_count": null,
   "metadata": {},
   "outputs": [],
   "source": [
    "def my_dot_python(a, b):\n",
    "    result = 0\n",
    "    for i in range(len(a)):\n",
    "        result += a[i] * b[i]\n",
    "    return result"
   ]
  },
  {
   "cell_type": "code",
   "execution_count": null,
   "metadata": {},
   "outputs": [],
   "source": [
    "import numpy as np\n",
    "a = np.random.rand(1000000)\n",
    "b = np.random.rand(1000000)"
   ]
  },
  {
   "cell_type": "code",
   "execution_count": null,
   "metadata": {},
   "outputs": [],
   "source": [
    "%time c = my_dot_python(a, b)"
   ]
  },
  {
   "cell_type": "code",
   "execution_count": null,
   "metadata": {},
   "outputs": [],
   "source": [
    "import numba\n",
    "my_dot_numba = numba.jit(my_dot_python)"
   ]
  },
  {
   "cell_type": "code",
   "execution_count": null,
   "metadata": {},
   "outputs": [],
   "source": [
    "%time c = my_dot_numba(a, b)"
   ]
  },
  {
   "cell_type": "code",
   "execution_count": null,
   "metadata": {},
   "outputs": [],
   "source": [
    "@numba.jit(signature_or_function='float64(float64[:], float64[:])',\n",
    "           nopython=True,\n",
    "           parallel=True,\n",
    "           fastmath=True,\n",
    "           locals={'result': numba.float64})\n",
    "def my_dot_numba2(a, b):\n",
    "    result = 0\n",
    "    for i in range(len(a)):\n",
    "        result += a[i] * b[i]\n",
    "    return result"
   ]
  },
  {
   "cell_type": "code",
   "execution_count": null,
   "metadata": {},
   "outputs": [],
   "source": [
    "%time c = my_dot_numba2(a, b)"
   ]
  },
  {
   "attachments": {},
   "cell_type": "markdown",
   "metadata": {},
   "source": [
    "## Numba.stencil\n",
    "Poměrně pěkný nástroj uvnitř Numby je tzv. stencil kernel. Umožňuje jednoduše a hlavně efektivně implementovat stencil výpočty pomocí relativních indexů."
   ]
  },
  {
   "cell_type": "code",
   "execution_count": null,
   "metadata": {},
   "outputs": [],
   "source": [
    "from numba import stencil\n",
    "\n",
    "@stencil()\n",
    "def kernel1(a):\n",
    "    tmp_sum = 0.0\n",
    "    return 0.25 * (a[0, 1] + a[1, 0] + a[0, -1] + a[-1, 0])\n"
   ]
  },
  {
   "cell_type": "code",
   "execution_count": null,
   "metadata": {},
   "outputs": [],
   "source": [
    "import numpy as np\n",
    "n = 5\n",
    "input_arr = np.arange(n*n).reshape((n, n))\n",
    "# pad with zeros\n",
    "input_arr = np.pad(input_arr, 1, mode='constant', constant_values=0)\n",
    "print(input_arr)"
   ]
  },
  {
   "cell_type": "code",
   "execution_count": null,
   "metadata": {},
   "outputs": [],
   "source": [
    "kernel1(input_arr)"
   ]
  },
  {
   "cell_type": "code",
   "execution_count": null,
   "metadata": {},
   "outputs": [],
   "source": []
  }
 ],
 "metadata": {
  "kernelspec": {
   "display_name": "Python 3",
   "language": "python",
   "name": "python3"
  },
  "language_info": {
   "codemirror_mode": {
    "name": "ipython",
    "version": 3
   },
   "file_extension": ".py",
   "mimetype": "text/x-python",
   "name": "python",
   "nbconvert_exporter": "python",
   "pygments_lexer": "ipython3",
   "version": "3.10.10"
  },
  "orig_nbformat": 4
 },
 "nbformat": 4,
 "nbformat_minor": 2
}
