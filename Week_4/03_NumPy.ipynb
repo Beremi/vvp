{
    "cells": [
        {
            "attachments": {},
            "cell_type": "markdown",
            "metadata": {},
            "source": [
                "[NumPy](http://www.numpy.org) je základní Python knihovna pro práci s numerickými daty, konkrétně s 1- až n-rozměrnými maticemi. Implementace (pro CPython) je z velké části napsána v C a Fortranu a používá BLAS knihovny. Numpy tak umožňuje pracovat s numerickými daty ve stylu Python kontejnerů (existují samozřejmě rozdíly) a zároveň zachovat rychlost kompilovaných jazyků.\n",
                "\n",
                "V této lekci projdeme:\n",
                "- Co je to `numpy` ndarray?\n",
                "- Vytváření `numpy` polí.\n",
                "- Indexování a slicing `numpy` polí.\n",
                "- Co je to `numpy` array view?\n",
                "- Broadcasting.\n",
                "- Elementwise operace.\n",
                "- Maticové operace."
            ]
        },
        {
            "attachments": {},
            "cell_type": "markdown",
            "metadata": {},
            "source": [
                "Tento notebook s úctou vykrádá:  [Lectures on scientific computing with Python](http://github.com/jrjohansson/scientific-python-lectures) a [numerical_python_course](https://gitlab.com/coobas/numerical_python_course)"
            ]
        },
        {
            "attachments": {},
            "cell_type": "markdown",
            "metadata": {},
            "source": [
                "# Importujeme numpy\n",
                "\n",
                "Chceme-li použít `numpy`, je samozřejmě nutné modul importovat. Obvykle se použivá zkratka `np`: \n"
            ]
        },
        {
            "cell_type": "code",
            "execution_count": null,
            "metadata": {
                "jupyter": {
                    "outputs_hidden": false
                }
            },
            "outputs": [],
            "source": [
                "import numpy as np\n"
            ]
        },
        {
            "attachments": {},
            "cell_type": "markdown",
            "metadata": {},
            "source": [
                "## Proč NumPy?\n",
                "\n",
                "* Python seznamy jsou příliš obecné. Mohou obsahovat jakýkoliv druh objektu. Jsou dynamicky typované. Nepodporují matematické funkce, jako maticové násobení. \n",
                "\n",
                "* NumPy pole jsou staticky typovaná a homogenní. Typ prvků je určen při vytvoření pole.\n",
                "* NumPy pole jsou efektivně uložena v paměti.\n",
                "* Díky těmto vlastnostem lze implementovat matematické operace, jako je násobení nebo sčítání, v rychlém, kompilovaném jazyce (C/Fortran)."
            ]
        },
        {
            "attachments": {},
            "cell_type": "markdown",
            "metadata": {},
            "source": [
                "# `NumPy` pole: `ndarray`\n",
                "\n",
                "`ndarray` je základní datový typ v `numpy`. Jedná se o n-rozměrné pole (vektor, matice, tensor) se záznamy stejného typu (typicky) čísly (integers, floats, complex numbers)."
            ]
        },
        {
            "cell_type": "code",
            "execution_count": null,
            "metadata": {},
            "outputs": [],
            "source": [
                "# numpy.ndarray\n",
                "help(np.ndarray)\n"
            ]
        },
        {
            "cell_type": "code",
            "execution_count": null,
            "metadata": {},
            "outputs": [],
            "source": [
                "# konstruktor můžeme použít pro vytvoření pole\n",
                "# hlavní povinný parametr je shape = velikost v jednotlivých dimenzích\n",
                "A = np.ndarray(shape=(2, 3, 2))\n",
                "A\n"
            ]
        },
        {
            "attachments": {},
            "cell_type": "markdown",
            "metadata": {},
            "source": [
                "Toto ale není běžný způsob, jakým bychom si `numpy` pole vytvářeli. Většinou budeme chtít pole s nějakými konkétními hodnotami. Zde se pouze alokovala paměť ale její hodnota není definována = je taková jaké bity byly na daném místě v paměti předtím.\n"
            ]
        },
        {
            "attachments": {},
            "cell_type": "markdown",
            "metadata": {},
            "source": [
                "## Vlastnosti `ndarray`\n",
                "\n",
                "`ndarray` má mnoho zajímavách metod a atributů. Některé z nich jsou:\n",
                "- `ndarray.ndim` - počet rozměrů\n",
                "- `ndarray.shape` - velikost pole v jednotlivých rozměrech\n",
                "- `ndarray.size` - celkový počet prvků v poli\n",
                "- `ndarray.dtype` - typ prvků v poli\n",
                "- `ndarray.itemsize` - velikost jednoho prvku v bajtech\n",
                "- `ndarray.nbytes` - celková velikost pole v bajtech\n",
                "- `ndarray.strides` - posuny v bajtech mezi jednotlivými prvky v jednotlivých rozměrech\n",
                "- `ndarray.data` - buffer obsahující samotná data\n",
                "- ...\n"
            ]
        },
        {
            "cell_type": "code",
            "execution_count": null,
            "metadata": {},
            "outputs": [],
            "source": [
                "# seznam všech atributů a metod\n",
                "dir(A)\n"
            ]
        },
        {
            "cell_type": "code",
            "execution_count": null,
            "metadata": {},
            "outputs": [],
            "source": [
                "print(A.ndim)\n",
                "print(A.shape)\n",
                "print(A.size)\n",
                "\n",
                "print(A.dtype)\n",
                "\n",
                "print(A.itemsize)\n",
                "print(A.nbytes)\n",
                "print(A.strides)\n",
                "\n",
                "print(A.data)\n"
            ]
        },
        {
            "attachments": {},
            "cell_type": "markdown",
            "metadata": {},
            "source": [
                "Běžně se používá pořadí prvků v paměti jako C (row-major), je možné nastavit pořadí jako Fortran (column-major) a to pomocí atributu `order`."
            ]
        },
        {
            "cell_type": "code",
            "execution_count": 7,
            "metadata": {},
            "outputs": [
                {
                    "name": "stdout",
                    "output_type": "stream",
                    "text": [
                        "(8, 16, 48)\n"
                    ]
                }
            ],
            "source": [
                "# vytvoření pole s jiným vnitřním pořadím\n",
                "A = np.ndarray(shape=(2, 3, 2), order='F')\n",
                "print(A.strides)\n"
            ]
        },
        {
            "attachments": {},
            "cell_type": "markdown",
            "metadata": {},
            "source": [
                "## Typy prvků v numpy poli\n",
                "Obecný objekt pro reprezentaci datového typu v `numpy` je `dtype`, který obsahuje veškeré informace o datovém typu.\n",
                "\n",
                "Nicméně, vetšinou nám stačí velmi jednoduchý typ jako je například `int`, `float` a v těchto případech nemusíme typ zadávat pomocí objektu `dtype`.\n",
                "\n",
                "\n",
                "**Základní typy:**\n",
                "\n",
                "Celá čísla:\n",
                "- `numpy.int8` - 8-bit integer\n",
                "- `numpy.int16` - 16-bit integer\n",
                "- `numpy.int32` - 32-bit integer\n",
                "- `numpy.int64` - 64-bit integer\n",
                "- třídu `int` (bez `numpy.`) - zvolí velikost integeru podle platformy (32-bit integer na 32-bit platformě, 64-bit integer na 64-bit platformě)\n",
                "\n",
                "Desetinná čísla:\n",
                "- `numpy.float16` - 16-bit floating point\n",
                "- `numpy.float32` - 32-bit floating point\n",
                "- `numpy.float64` - 64-bit floating point\n",
                "- `numpy.float128` - 128-bit floating point\n",
                "- třída `float` (bez `numpy.`) - zvolí velikost floating point podle platformy (32-bit floating point na 32-bit platformě, 64-bit floating point na 64-bit platformě)\n",
                "\n",
                "Komplexní čísla:\n",
                "- `numpy.complex64` - 64-bit complex number\n",
                "- `numpy.complex128` - 128-bit complex number\n",
                "- `numpy.complex256` - 256-bit complex number\n",
                "- třídu `complex` (bez `numpy.`) - zvolí velikost complex number podle platformy (64-bit complex number na 32-bit platformě, 128-bit complex number na 64-bit platformě)\n",
                "\n",
                "Boolean:\n",
                "- `bool` (bez `numpy.`)  - boolean"
            ]
        },
        {
            "cell_type": "code",
            "execution_count": null,
            "metadata": {},
            "outputs": [],
            "source": [
                "A = np.ndarray(shape=(1), dtype=np.int8)\n",
                "print(A)\n",
                "print(A.itemsize)\n",
                "print(\"---\")\n",
                "A = np.ndarray(shape=(1), dtype=np.int16)\n",
                "print(A)\n",
                "print(A.itemsize)\n",
                "print(\"---\")\n",
                "A = np.ndarray(shape=(1), dtype=np.int32)\n",
                "print(A)\n",
                "print(A.itemsize)\n",
                "print(\"---\")\n",
                "A = np.ndarray(shape=(1), dtype=np.int64)\n",
                "print(A)\n",
                "print(A.itemsize)\n",
                "print(\"---\")\n",
                "A = np.ndarray(shape=(1), dtype=int)\n",
                "print(A)\n",
                "print(A.itemsize)\n"
            ]
        },
        {
            "cell_type": "code",
            "execution_count": null,
            "metadata": {},
            "outputs": [],
            "source": [
                "A = np.ndarray(shape=(1), dtype=np.float16)\n",
                "print(A)\n",
                "print(A.itemsize)\n",
                "print(\"---\")\n",
                "A = np.ndarray(shape=(1), dtype=np.float32)\n",
                "print(A)\n",
                "print(A.itemsize)\n",
                "print(\"---\")\n",
                "A = np.ndarray(shape=(1), dtype=np.float64)\n",
                "print(A)\n",
                "print(A.itemsize)\n",
                "print(\"---\")\n",
                "A = np.ndarray(shape=(1), dtype=np.float128)\n",
                "print(A)\n",
                "print(A.itemsize)\n",
                "print(\"---\")\n",
                "A = np.ndarray(shape=(1), dtype=float)\n",
                "print(A)\n",
                "print(A.itemsize)\n"
            ]
        },
        {
            "cell_type": "code",
            "execution_count": null,
            "metadata": {},
            "outputs": [],
            "source": [
                "A = np.ndarray(shape=(1), dtype=np.complex64)\n",
                "print(A)\n",
                "print(A.itemsize)\n",
                "print(\"---\")\n",
                "A = np.ndarray(shape=(1), dtype=np.complex128)\n",
                "print(A)\n",
                "print(A.itemsize)\n",
                "print(\"---\")\n",
                "A = np.ndarray(shape=(1), dtype=np.complex256)\n",
                "print(A)\n",
                "print(A.itemsize)\n",
                "print(\"---\")\n",
                "A = np.ndarray(shape=(1), dtype=complex)\n",
                "print(A)\n",
                "print(A.itemsize)\n"
            ]
        },
        {
            "cell_type": "code",
            "execution_count": 20,
            "metadata": {},
            "outputs": [
                {
                    "name": "stdout",
                    "output_type": "stream",
                    "text": [
                        "[ True]\n",
                        "1\n"
                    ]
                }
            ],
            "source": [
                "A = np.ndarray(shape=(1), dtype=bool)\n",
                "print(A)\n",
                "print(A.itemsize)\n"
            ]
        },
        {
            "attachments": {},
            "cell_type": "markdown",
            "metadata": {},
            "source": [
                "**Komplikovanější typy:**\n",
                "\n",
                "Je jich mnoho, může se hodit například\n",
                "- `numpy.datetime64` - datetime64\n",
                "\n",
                "Pokročilejší typy definujeme pomocí objektu `dtype`. Více viz [dokumentace 1](https://numpy.org/doc/stable/reference/generated/numpy.dtype.html) a [dokumentace 2](https://numpy.org/doc/stable/reference/arrays.dtypes.html)."
            ]
        },
        {
            "cell_type": "code",
            "execution_count": null,
            "metadata": {},
            "outputs": [],
            "source": [
                "A = np.array(['2007-07-13', '2006-01-13', '2010-08-13'], dtype=np.datetime64)\n",
                "print(A)\n",
                "print(A.itemsize)\n",
                "print(A.dtype)\n"
            ]
        },
        {
            "attachments": {},
            "cell_type": "markdown",
            "metadata": {},
            "source": [
                "Komplikovanější typy definujeme pomocí objektu `dtype`. Například pro ukázku:\n",
                "\n",
                "```python \n",
                "my_dt = np.dtype([('název prvního sloupce', 'i4'), ('název druhého sloupce', 'f8'), ('název třetího sloupce', 'S5')])\n",
                "```\n",
                "\n",
                "Argumentem funkce np.dtype je seznam n-tic, kde každá n-tice reprezentuje \"sloupec\" v poli NumPy. V tomto příkladu máme tři sloupce.\n",
                "\n",
                "První prvek každé n-tice je název sloupce a druhý prvek je řetězec, který reprezentuje datový typ pro tento sloupec. V tomto příkladu máme:\n",
                "\n",
                "`np.int32` neboli `'i4'`: datový typ celého čísla o velikosti 4 bytů\n",
                "`np.float64` neboli `'f8'`: datový typ s pohyblivou řádovou čárkou o velikosti 8 bytů\n",
                "`np.string_, 5` neboli `'S5'`: datový typ řetězce s maximální délkou 5 bytů"
            ]
        },
        {
            "cell_type": "code",
            "execution_count": null,
            "metadata": {},
            "outputs": [],
            "source": [
                "# ukazka, kde prvkem je trojice integer, float, string s delkou 5\n",
                "my_dt = np.dtype([('sloupec s číslem', np.int32),\n",
                "                  ('sloupec s floatem', np.float64),\n",
                "                  ('sloupec s pěti znaky', np.string_, 5)])\n",
                "\n",
                "# vytvoříme 2x2 matici se záznami daného typu\n",
                "A = np.array([[(1, 2.0, \"hello\"), (3, 4.0, \"world\")],\n",
                "              [(5, 6.0, \"numpy\"), (5, 6.0, \"numpy\")]], dtype=my_dt)\n",
                "\n",
                "print(A)\n",
                "print(A.itemsize)\n",
                "print(A[0, 0])\n",
                "print(A['sloupec s pěti znaky'])\n"
            ]
        },
        {
            "cell_type": "code",
            "execution_count": null,
            "metadata": {},
            "outputs": [],
            "source": [
                "A[1, 1] = (10, 20.0, \"hello world\")\n",
                "print(A)\n"
            ]
        },
        {
            "attachments": {},
            "cell_type": "markdown",
            "metadata": {},
            "source": [
                "## Vytváření numpy polí\n",
                "Existuje několik základních způsobů, jak vytvořit nové numpy pole:\n",
                "\n",
                "- Z nějakého kontejneru typu seznam (`list`) nebo `tuple`.\n",
                "    - např. `np.array([1, 2, 3])`\n",
                "- Pomocí funkce numpy, která generuje `ndarray` s konkrétními hodnotami\n",
                "    - např. `np.zeros((2, 3))` vytvoří pole o velikosti 2x3, kde jsou všechny prvky rovny 0\n",
                "    - např. `np.ones((2, 3))` vytvoří pole o velikosti 2x3, kde jsou všechny prvky rovny 1\n",
                "    - např. `np.full((2, 3), 5)` vytvoří pole o velikosti 2x3, kde jsou všechny prvky rovny 5\n",
                "    - např. `np.arange(10)` vytvoří pole o velikosti 10, kde jsou všechny prvky rovny 0, 1, 2, 3, 4, 5, 6, 7, 8, 9\n",
                "    - např. `np.linspace(0, 1, 5)` vytvoří pole o velikosti 5, kde jsou všechny prvky rovny 0, 0.25, 0.5, 0.75, 1\n",
                "    - např. `np.logspace(0, 1, 5)` vytvoří pole o velikosti 5, kde jsou všechny prvky rovny 1, 1.778, 3.162, 5.623, 10\n",
                "    - např. `np.random.random((2, 3))` vytvoří pole o velikosti 2x3, kde jsou všechny prvky rovny náhodným číslům z intervalu [0, 1)\n",
                "    - např. `np.random.normal(0, 1, (2, 3))` vytvoří pole o velikosti 2x3, kde jsou všechny prvky rovny náhodným číslům z normálního rozdělení s průměrem 0 a směrodatnou odchylkou 1\n",
                "    - např. `np.random.randint(0, 10, (2, 3))` vytvoří pole o velikosti 2x3, kde jsou všechny prvky rovny náhodným celým číslům z intervalu [0, 10)\n",
                "    - Z jiného numpy pole\n",
                "        - např. pomocí výběru (slicing), pozor na to, že se vytvoří nové pole, které sdílí data s původním polem (view)\n",
                "        - např. pomocí `np.diag` pro vytvoření pole z diagonály jiného pole\n",
                "        - např. pomocí `np.diagflat` pro vytvoření pole s diagonálou z jiného pole\n",
                "- Načtením ze souboru\n",
                "    - např. `np.loadtxt('filename.txt')` načte pole ze souboru `filename.txt`\n",
                "    - např. `np.genfromtxt('filename.txt', delimiter=',')` načte pole ze souboru `filename.txt` s oddělovačem čárka\n"
            ]
        },
        {
            "attachments": {},
            "cell_type": "markdown",
            "metadata": {},
            "source": [
                "### Vytváření numpy polí z python kontejnerů"
            ]
        },
        {
            "cell_type": "code",
            "execution_count": null,
            "metadata": {},
            "outputs": [],
            "source": [
                "muj_list = [1, 2, 3, 4, 5]\n",
                "A = np.array(muj_list)\n",
                "print(A)\n",
                "print(A.dtype)\n"
            ]
        },
        {
            "cell_type": "markdown",
            "metadata": {},
            "source": [
                "Vícerozměrné pole (matice) se vytvoří z vnořeného seznamu."
            ]
        },
        {
            "cell_type": "code",
            "execution_count": null,
            "metadata": {
                "jupyter": {
                    "outputs_hidden": false
                }
            },
            "outputs": [],
            "source": [
                "matrix = np.array([[1, 2], [3, 4]])\n",
                "matrix\n"
            ]
        },
        {
            "cell_type": "code",
            "execution_count": null,
            "metadata": {},
            "outputs": [],
            "source": [
                "muj_touple = (1, 2, 3, 4, 5)\n",
                "A = np.array(muj_touple)\n",
                "print(A)\n",
                "print(A.dtype)\n"
            ]
        },
        {
            "attachments": {},
            "cell_type": "markdown",
            "metadata": {},
            "source": [
                "Ze `set` a `dict` se vytvoří něco jiného než bychom asi očekávali."
            ]
        },
        {
            "cell_type": "code",
            "execution_count": null,
            "metadata": {},
            "outputs": [],
            "source": [
                "muj_set = {1, 2, 3, 4, 5}\n",
                "A = np.array(muj_set)\n",
                "print(A)\n",
                "print(type(A))\n",
                "print(A.dtype)\n",
                "print(A.shape)\n",
                "print(A.size)\n",
                "print(A.ndim)\n",
                "print(A.itemsize)\n"
            ]
        },
        {
            "cell_type": "code",
            "execution_count": null,
            "metadata": {},
            "outputs": [],
            "source": [
                "muj_dict = {'a': 1, 'b': 2, 'c': 3, 'd': 4, 'e': 5}\n",
                "A = np.array(muj_dict)\n",
                "print(A)\n",
                "print(type(A))\n",
                "print(A.dtype)\n",
                "print(A.shape)\n",
                "print(A.size)\n",
                "print(A.ndim)\n",
                "print(A.itemsize)\n"
            ]
        },
        {
            "attachments": {},
            "cell_type": "markdown",
            "metadata": {},
            "source": [
                "### Numpy funkce pro vytváření ndarray\n",
                "Zejména velká pole by bylo nepraktické inicializovat pomocí seznamů. Naštěstí v numpy existují [funkce](http://docs.scipy.org/doc/numpy/reference/routines.array-creation.html), které generují typická pole."
            ]
        },
        {
            "attachments": {},
            "cell_type": "markdown",
            "metadata": {},
            "source": [
                "**`arange`** vygeneruje posloupnost, syntaxe je stejná jako `range`, ale funguje i pro desetinná a záporná čísla."
            ]
        },
        {
            "cell_type": "code",
            "execution_count": 8,
            "metadata": {
                "jupyter": {
                    "outputs_hidden": false
                }
            },
            "outputs": [
                {
                    "data": {
                        "text/plain": [
                            "array([0, 1, 2, 3, 4, 5, 6, 7, 8, 9])"
                        ]
                    },
                    "execution_count": 8,
                    "metadata": {},
                    "output_type": "execute_result"
                }
            ],
            "source": [
                "np.arange(0, 10, 1)  # argumenty: start, stop, step\n"
            ]
        },
        {
            "cell_type": "code",
            "execution_count": 11,
            "metadata": {
                "jupyter": {
                    "outputs_hidden": false
                }
            },
            "outputs": [
                {
                    "data": {
                        "text/plain": [
                            "array([-1. , -0.9, -0.8, -0.7, -0.6, -0.5, -0.4, -0.3, -0.2, -0.1])"
                        ]
                    },
                    "execution_count": 11,
                    "metadata": {},
                    "output_type": "execute_result"
                }
            ],
            "source": [
                "np.arange(-1, 0, 0.1)"
            ]
        },
        {
            "cell_type": "markdown",
            "metadata": {},
            "source": [
                "**`linspace`** a **`logspace`** vytváří posloupnosti s daným počtem prvků."
            ]
        },
        {
            "cell_type": "code",
            "execution_count": null,
            "metadata": {
                "jupyter": {
                    "outputs_hidden": false
                }
            },
            "outputs": [],
            "source": [
                "# první a poslední prvek jsou obsaženy ve výsledku\n",
                "# argumenty jsou odkud, kam, kolik prvků\n",
                "np.linspace(0, 10, 5)\n"
            ]
        },
        {
            "cell_type": "code",
            "execution_count": null,
            "metadata": {
                "jupyter": {
                    "outputs_hidden": false
                }
            },
            "outputs": [],
            "source": [
                "# podobně jako linspace, ale výsledek je base**x\n",
                "np.logspace(0, 10, 11, base=10)\n"
            ]
        },
        {
            "cell_type": "markdown",
            "metadata": {},
            "source": [
                "**`ones`** a **`zeros`** vytvoří pole ze samých nul nebo jedniček."
            ]
        },
        {
            "cell_type": "code",
            "execution_count": null,
            "metadata": {
                "jupyter": {
                    "outputs_hidden": false
                }
            },
            "outputs": [],
            "source": [
                "np.ones(3)\n"
            ]
        },
        {
            "cell_type": "code",
            "execution_count": null,
            "metadata": {
                "jupyter": {
                    "outputs_hidden": false
                }
            },
            "outputs": [],
            "source": [
                "# pokud chceme 2 a více rozměrů, musíme zadat rozměr jako tuple\n",
                "np.zeros((2, 3))\n"
            ]
        },
        {
            "cell_type": "code",
            "execution_count": 25,
            "metadata": {},
            "outputs": [
                {
                    "data": {
                        "text/plain": [
                            "array([['hello world', 'hello world', 'hello world'],\n",
                            "       ['hello world', 'hello world', 'hello world']], dtype='<U11')"
                        ]
                    },
                    "execution_count": 25,
                    "metadata": {},
                    "output_type": "execute_result"
                }
            ],
            "source": [
                "# matice s string hodnotami pomocí np.full\n",
                "np.full((2, 3), \"hello world\")"
            ]
        },
        {
            "cell_type": "markdown",
            "metadata": {},
            "source": [
                "**`mgrid`** tvoří pravidelnou mříž."
            ]
        },
        {
            "cell_type": "code",
            "execution_count": 12,
            "metadata": {
                "jupyter": {
                    "outputs_hidden": false
                }
            },
            "outputs": [
                {
                    "name": "stdout",
                    "output_type": "stream",
                    "text": [
                        "x = \n",
                        "[[0 0 0]\n",
                        " [1 1 1]]\n",
                        "y = \n",
                        "[[0 1 2]\n",
                        " [0 1 2]]\n"
                    ]
                }
            ],
            "source": [
                "# všimněte si syntaxe s hranatými závorkami, mgrid se nevolá jako funkce\n",
                "x, y = np.mgrid[0:2, 0:3]\n",
                "print(f\"x = \\n{x}\")\n",
                "print(f\"y = \\n{y}\")\n"
            ]
        },
        {
            "attachments": {},
            "cell_type": "markdown",
            "metadata": {},
            "source": [
                "Náhodná data vytvoří funkce z modulu **`random`**, základní z nich je **`rand`**."
            ]
        },
        {
            "cell_type": "code",
            "execution_count": 15,
            "metadata": {
                "jupyter": {
                    "outputs_hidden": false
                }
            },
            "outputs": [
                {
                    "data": {
                        "text/plain": [
                            "array([[0.48352943, 0.92177125],\n",
                            "       [0.26157178, 0.25383211],\n",
                            "       [0.53283155, 0.60083829],\n",
                            "       [0.83713735, 0.52587014]])"
                        ]
                    },
                    "execution_count": 15,
                    "metadata": {},
                    "output_type": "execute_result"
                }
            ],
            "source": [
                "# několik náhodných čísel [0, 1] s rovnoměrným rozdělením\n",
                "np.random.rand(4,2)\n"
            ]
        },
        {
            "cell_type": "markdown",
            "metadata": {},
            "source": [
                "**`diagflat`** vytvoří diagonální matici, **`diagonal`** vrátí diagonálu matice."
            ]
        },
        {
            "cell_type": "code",
            "execution_count": 16,
            "metadata": {
                "jupyter": {
                    "outputs_hidden": false
                }
            },
            "outputs": [
                {
                    "data": {
                        "text/plain": [
                            "array([[1, 0, 0],\n",
                            "       [0, 2, 0],\n",
                            "       [0, 0, 3]])"
                        ]
                    },
                    "execution_count": 16,
                    "metadata": {},
                    "output_type": "execute_result"
                }
            ],
            "source": [
                "# diagonální matice\n",
                "diag = np.diagflat([1, 2, 3])\n",
                "diag\n"
            ]
        },
        {
            "cell_type": "code",
            "execution_count": 17,
            "metadata": {
                "jupyter": {
                    "outputs_hidden": false
                }
            },
            "outputs": [
                {
                    "data": {
                        "text/plain": [
                            "array([1, 2, 3])"
                        ]
                    },
                    "execution_count": 17,
                    "metadata": {},
                    "output_type": "execute_result"
                }
            ],
            "source": [
                "# vrátí diagonálu jako vektor\n",
                "np.diagonal(diag)\n"
            ]
        },
        {
            "cell_type": "markdown",
            "metadata": {},
            "source": [
                "## Práce se soubory\n",
                "\n",
                "### ASCII soubory\n",
                "S textovými (ASCII) soubory obsahující data se setkáváme stále často, přestože to z mnoha důvodů není ideální formát. Na čtení ASCII (spadá sem i CSV) máme v Numpy `genfromtxt` a `loadtxt`. V [dokumentaci](http://docs.scipy.org/doc/numpy/reference/routines.io.html) se dozvíte, jak přesně fungují a jaké mají argumenty."
            ]
        },
        {
            "cell_type": "markdown",
            "metadata": {},
            "source": [
                "Pomocí `%%file` vytvoříme soubor `ascii_data_1.txt`"
            ]
        },
        {
            "cell_type": "code",
            "execution_count": null,
            "metadata": {
                "jupyter": {
                    "outputs_hidden": false
                }
            },
            "outputs": [],
            "source": [
                "% % file ascii_data_1.txt\n",
                "1 - 6.1 - 6.1 - 6.1 1\n",
                "2 - 15.4 - 15.4 - 15.4 1\n",
                "3 - 15.0 - 15.0 - 15.0 1\n",
                "4 - 19.3 - 19.3 - 19.3 1\n",
                "5 - 16.8 - 16.8 - 16.8 1\n",
                "6 - 11.4 - 11.4 - 11.4 1\n",
                "7 - 7.6 - 7.6 - 7.6 1\n",
                "8 - 7.1 - 7.1 - 7.1 1\n",
                "9 - 10.1 - 10.1 - 10.1 1\n",
                "10 - 9.5 - 9.5 - 9.5 1\n"
            ]
        },
        {
            "cell_type": "markdown",
            "metadata": {},
            "source": [
                "Nyní se pokusíme soubor načíst pomocí `genfromtxt`."
            ]
        },
        {
            "cell_type": "code",
            "execution_count": null,
            "metadata": {
                "jupyter": {
                    "outputs_hidden": false
                }
            },
            "outputs": [],
            "source": [
                "data = np.genfromtxt('ascii_data_1.txt')\n",
                "print(data)\n"
            ]
        },
        {
            "cell_type": "markdown",
            "metadata": {},
            "source": [
                "`loadtxt` by mělo fungovat také:"
            ]
        },
        {
            "cell_type": "code",
            "execution_count": null,
            "metadata": {
                "jupyter": {
                    "outputs_hidden": false
                }
            },
            "outputs": [],
            "source": [
                "np.loadtxt('ascii_data_1.txt')\n"
            ]
        },
        {
            "cell_type": "markdown",
            "metadata": {},
            "source": [
                "`savetxt` můžeme použít na uložení."
            ]
        },
        {
            "cell_type": "code",
            "execution_count": null,
            "metadata": {
                "jupyter": {
                    "outputs_hidden": false
                }
            },
            "outputs": [],
            "source": [
                "np.savetxt(\"ascii_data_1_new.txt\", data, fmt=\"%6g\")\n"
            ]
        },
        {
            "cell_type": "markdown",
            "metadata": {},
            "source": [
                "Soubor můžeme vypsat:"
            ]
        },
        {
            "cell_type": "code",
            "execution_count": null,
            "metadata": {},
            "outputs": [],
            "source": [
                "print(open(\"ascii_data_1_new.txt\", \"r\").read())\n"
            ]
        },
        {
            "cell_type": "markdown",
            "metadata": {},
            "source": [
                "Obecně se snažte textovým souborům (včetně csv apod.) pro numerická datavyhýbat. Jejich formát je vždy do značné míry neurčitý a na disku zabírají zbytečně moc místa. Výhodou je pouze jednoduchost zobrazení v textovém editoru nebo příkazové řadce."
            ]
        },
        {
            "cell_type": "markdown",
            "metadata": {},
            "source": [
                "### Binární formáty\n",
                "\n",
                "Pro numerická data se daleko více hodí binární soubory, které jsou dobře definované a úsporné na místo. Pokud použijeme vhodný a rozšířený formát, nemusíme se bát ani přenositelnosti.\n",
                "\n",
                "Numpy má vlastní NPY formát. Ten je pochopitelně jednoduchý na používání v NumPy, s přenositelností (pro stále ještě neuživatele Pythonu a obecně další systémy) je to ale už horší. Pomocí `save` a `load` můžete jednoduše ukládat a nahrávat Numpy objekty."
            ]
        },
        {
            "cell_type": "code",
            "execution_count": null,
            "metadata": {
                "jupyter": {
                    "outputs_hidden": false
                }
            },
            "outputs": [],
            "source": [
                "np.save(\"ascii_data_1_new.npy\", data)\n"
            ]
        },
        {
            "cell_type": "code",
            "execution_count": null,
            "metadata": {
                "jupyter": {
                    "outputs_hidden": false
                }
            },
            "outputs": [],
            "source": [
                "np.load(\"ascii_data_1_new.npy\")\n"
            ]
        },
        {
            "cell_type": "markdown",
            "metadata": {},
            "source": [
                "Velice dobrým a rozšířeným standardem je pak [HDF5](https://www.hdfgroup.org/solutions/hdf5/). Pro Python je jednoduché tento foromát používat pomocí knihovny [h5py](https://www.h5py.org/)."
            ]
        },
        {
            "cell_type": "code",
            "execution_count": null,
            "metadata": {},
            "outputs": [],
            "source": [
                "# pokud nemáte h5py nainstalované, můžete jednoduše nainstalovat přímo z notebooku momocí\n",
                "# %conda install h5py\n",
                "# nebo pokud používáte pip prostředí\n",
                "# %pip install h5py\n"
            ]
        },
        {
            "cell_type": "code",
            "execution_count": null,
            "metadata": {},
            "outputs": [],
            "source": [
                "import h5py\n"
            ]
        },
        {
            "cell_type": "markdown",
            "metadata": {},
            "source": [
                "V HDF5 souborech jsou data ve stromové struktuře (obdoba aresářů a souborů). Soubor se dvěma datasety můžeme vytvořit např. takto:"
            ]
        },
        {
            "cell_type": "code",
            "execution_count": null,
            "metadata": {},
            "outputs": [],
            "source": [
                "with h5py.File(\"test_hdf5.h5\", \"w\") as hdf5_file:\n",
                "    hdf5_file.create_dataset(\"data\", data=data)\n",
                "    hdf5_file.create_dataset(\"random\", data=np.random.random_sample((3, 4)))\n"
            ]
        },
        {
            "cell_type": "code",
            "execution_count": null,
            "metadata": {},
            "outputs": [],
            "source": [
                "with h5py.File(\"test_hdf5.h5\", \"r\") as hdf5_file:\n",
                "    # musíme data \"nahrát\" pomocí [:], jinak by byl výsledek jen \"ukazatel\" na data\n",
                "    data_hdf5 = hdf5_file[\"data\"][:]\n"
            ]
        },
        {
            "cell_type": "code",
            "execution_count": null,
            "metadata": {},
            "outputs": [],
            "source": [
                "data_hdf5\n"
            ]
        },
        {
            "cell_type": "markdown",
            "metadata": {},
            "source": [
                "Jelikož v HDF5 souboru může být velké množství dat (mnoho datasetů, velká data), je čtení dat z HDF5 \"lazy\": Dokud data opravdu nepotřebujeme v paměti (např. v NumPy poli), data zůstávají jen v souboru a v paměti máme jen jejich popis, jakýsi ukazatel na data.\n",
                "\n",
                "To můžete vyzkoušet vymazáním `[:]` z načítání data v předchozí ukázce."
            ]
        },
        {
            "cell_type": "markdown",
            "metadata": {},
            "source": [
                "## Práce s NumPy poli\n",
                "\n",
                "### Indexování a řezání"
            ]
        },
        {
            "cell_type": "code",
            "execution_count": null,
            "metadata": {},
            "outputs": [],
            "source": [
                "vector = np.linspace(0, 3, 7)\n",
                "vector\n"
            ]
        },
        {
            "cell_type": "markdown",
            "metadata": {},
            "source": [
                "Numpy pole můžeme indexovat podobně jako list.\n",
                "\n",
                "První prvek vektoru:"
            ]
        },
        {
            "cell_type": "code",
            "execution_count": null,
            "metadata": {
                "jupyter": {
                    "outputs_hidden": false
                }
            },
            "outputs": [],
            "source": [
                "vector[0]\n"
            ]
        },
        {
            "cell_type": "code",
            "execution_count": null,
            "metadata": {},
            "outputs": [],
            "source": [
                "matrix = np.array([[1, 2], [3, 4]], dtype=int)\n",
                "matrix\n"
            ]
        },
        {
            "cell_type": "markdown",
            "metadata": {},
            "source": [
                "Pro matice můžeme použít rozšířeného indexování - více argumentů pro řez:"
            ]
        },
        {
            "cell_type": "code",
            "execution_count": null,
            "metadata": {
                "jupyter": {
                    "outputs_hidden": false
                }
            },
            "outputs": [],
            "source": [
                "matrix[1, 1]\n"
            ]
        },
        {
            "cell_type": "markdown",
            "metadata": {},
            "source": [
                "Pokud jeden index vynecháme, vrátí numpy N-1 rozměrný řez."
            ]
        },
        {
            "cell_type": "code",
            "execution_count": null,
            "metadata": {
                "jupyter": {
                    "outputs_hidden": false
                }
            },
            "outputs": [],
            "source": [
                "matrix[1]\n"
            ]
        },
        {
            "cell_type": "markdown",
            "metadata": {},
            "source": [
                "Toho samého docílíme pomocí `:`"
            ]
        },
        {
            "cell_type": "code",
            "execution_count": null,
            "metadata": {
                "jupyter": {
                    "outputs_hidden": false
                }
            },
            "outputs": [],
            "source": [
                "matrix[1, :]\n"
            ]
        },
        {
            "cell_type": "markdown",
            "metadata": {},
            "source": [
                "První sloupec:"
            ]
        },
        {
            "cell_type": "code",
            "execution_count": null,
            "metadata": {
                "jupyter": {
                    "outputs_hidden": false
                }
            },
            "outputs": [],
            "source": [
                "matrix[:, 1]\n"
            ]
        },
        {
            "cell_type": "markdown",
            "metadata": {},
            "source": [
                "Můžeme také přiřazovat honoty do indexovaných polí."
            ]
        },
        {
            "cell_type": "code",
            "execution_count": null,
            "metadata": {
                "jupyter": {
                    "outputs_hidden": false
                }
            },
            "outputs": [],
            "source": [
                "matrix[0, 0] = -10\n",
                "print(matrix)\n"
            ]
        },
        {
            "cell_type": "markdown",
            "metadata": {},
            "source": [
                "Funguje to i pro více prvků:"
            ]
        },
        {
            "cell_type": "code",
            "execution_count": null,
            "metadata": {
                "jupyter": {
                    "outputs_hidden": false
                }
            },
            "outputs": [],
            "source": [
                "matrix[1, :] = 0\n",
                "print(matrix)\n"
            ]
        },
        {
            "cell_type": "markdown",
            "metadata": {},
            "source": [
                "Řezy mají stejnou syntaxi jako pro seznamy (řezy jsou ostatně koncept Pythonu jako takového). Pro připomenutí, tato syntaxe je `[dolní_mez : horní_mez : krok]`."
            ]
        },
        {
            "cell_type": "code",
            "execution_count": null,
            "metadata": {
                "jupyter": {
                    "outputs_hidden": false
                }
            },
            "outputs": [],
            "source": [
                "my_array = np.arange(1, 10)\n",
                "my_array\n"
            ]
        },
        {
            "cell_type": "markdown",
            "metadata": {},
            "source": [
                "Jednoduchý řez s krokem 1:"
            ]
        },
        {
            "cell_type": "code",
            "execution_count": null,
            "metadata": {
                "jupyter": {
                    "outputs_hidden": false
                }
            },
            "outputs": [],
            "source": [
                "my_array[1:3]\n"
            ]
        },
        {
            "cell_type": "markdown",
            "metadata": {},
            "source": [
                "Řez s krokem 2"
            ]
        },
        {
            "cell_type": "code",
            "execution_count": null,
            "metadata": {
                "jupyter": {
                    "outputs_hidden": false
                }
            },
            "outputs": [],
            "source": [
                "my_array[:-2:2]\n"
            ]
        },
        {
            "cell_type": "markdown",
            "metadata": {},
            "source": [
                "**Řezy jsou mutable**: pokud do nich něco přiřadíme, projeví se to na původním objektu."
            ]
        },
        {
            "cell_type": "code",
            "execution_count": null,
            "metadata": {
                "jupyter": {
                    "outputs_hidden": false
                }
            },
            "outputs": [],
            "source": [
                "my_array[1:3] = [-2, -3]\n",
                "my_array\n"
            ]
        },
        {
            "cell_type": "markdown",
            "metadata": {},
            "source": [
                "Řezy fungují i pro vícerozměrné matice."
            ]
        },
        {
            "cell_type": "code",
            "execution_count": null,
            "metadata": {
                "jupyter": {
                    "outputs_hidden": false
                }
            },
            "outputs": [],
            "source": [
                "my_array = np.array([[n + m * 10 for n in range(5)] for m in range(5)])\n",
                "my_array\n"
            ]
        },
        {
            "cell_type": "markdown",
            "metadata": {},
            "source": [
                "Část původní matice"
            ]
        },
        {
            "cell_type": "code",
            "execution_count": null,
            "metadata": {
                "jupyter": {
                    "outputs_hidden": false
                }
            },
            "outputs": [],
            "source": [
                "my_array[3:, 1:-1]\n"
            ]
        },
        {
            "cell_type": "markdown",
            "metadata": {},
            "source": [
                "Řez s krokem 2"
            ]
        },
        {
            "cell_type": "code",
            "execution_count": null,
            "metadata": {
                "jupyter": {
                    "outputs_hidden": false
                }
            },
            "outputs": [],
            "source": [
                "my_array[::2, ::2]\n"
            ]
        },
        {
            "cell_type": "markdown",
            "metadata": {},
            "source": [
                "### Jetě elegantnější vyřezávání\n",
                "Pro řezy můžeme použít nejen čísla, ale také přímo pole. Např. pro výběr některých řádků"
            ]
        },
        {
            "cell_type": "code",
            "execution_count": null,
            "metadata": {
                "jupyter": {
                    "outputs_hidden": false
                }
            },
            "outputs": [],
            "source": [
                "row_indices = [1, 2]\n",
                "my_array[row_indices]\n"
            ]
        },
        {
            "cell_type": "markdown",
            "metadata": {},
            "source": [
                "Můžeme indexovat i dvěma poli:"
            ]
        },
        {
            "cell_type": "code",
            "execution_count": null,
            "metadata": {
                "jupyter": {
                    "outputs_hidden": false
                }
            },
            "outputs": [],
            "source": [
                "my_array[[1, 2, 3], [1, -1, 0]]\n"
            ]
        },
        {
            "cell_type": "markdown",
            "metadata": {},
            "source": [
                "Můžeme také použít **maskování**. Např. vytvoříme masku dělitelnosti třemi."
            ]
        },
        {
            "cell_type": "code",
            "execution_count": null,
            "metadata": {
                "jupyter": {
                    "outputs_hidden": false
                }
            },
            "outputs": [],
            "source": [
                "mask3 = my_array % 3 == 0\n",
                "print(mask3)\n"
            ]
        },
        {
            "cell_type": "markdown",
            "metadata": {},
            "source": [
                "Tuto masku pak můžeme použít pro vytvoření řezu."
            ]
        },
        {
            "cell_type": "code",
            "execution_count": null,
            "metadata": {
                "jupyter": {
                    "outputs_hidden": false
                }
            },
            "outputs": [],
            "source": [
                "my_array[mask3]\n"
            ]
        },
        {
            "cell_type": "markdown",
            "metadata": {},
            "source": [
                "### Cvičení\n",
                "\n",
                "1. Z pole 8x8 samých nul vyvořte pomocí řezů co nejelegantnějším způsobem 8x8 matici, která vypadá jako šachovnice.\n",
                "```\n",
                "0 1 0 1 0 1 0 1\n",
                "1 0 1 0 1 0 1 0\n",
                "0 1 0 1 0 1 0 1\n",
                "1 0 1 0 1 0 1 0\n",
                "0 1 0 1 0 1 0 1\n",
                "1 0 1 0 1 0 1 0\n",
                "0 1 0 1 0 1 0 1\n",
                "1 0 1 0 1 0 1 0\n",
                "```\n",
                "2. Pomocí `np.random.randint` vytvořte vektor dvouciferných kladných celých čísel. Poté pomocí indexu typu masky nahraďte liché hodnoty jejich opačnou hodnotou. Např. [11, 20, 42, 33] -> [-11, 20, 42, -33]."
            ]
        },
        {
            "cell_type": "markdown",
            "metadata": {},
            "source": [
                "## Lineární algebra\n",
                "Numpy dokáže velice obratně a efektivně pracovat s vektory, maticemi a n-dimenzionálními poli obecně. Toho je potřeba využívat a kdekoli to je možné použít *vektorizovaný kód*, tj. co nejvíce formulovat úlohy pomocí vektorových a maticových operací, jako jsou např. násobení matic."
            ]
        },
        {
            "cell_type": "markdown",
            "metadata": {},
            "source": [
                "### Operace se skaláry\n",
                "Jak bychom asi očekávali, skalárem můžeme násobit, dělit, můžeme ho přičítat nebo odečítat."
            ]
        },
        {
            "cell_type": "code",
            "execution_count": null,
            "metadata": {
                "jupyter": {
                    "outputs_hidden": false
                }
            },
            "outputs": [],
            "source": [
                "v1 = np.arange(0, 5)\n"
            ]
        },
        {
            "cell_type": "code",
            "execution_count": null,
            "metadata": {
                "jupyter": {
                    "outputs_hidden": false
                }
            },
            "outputs": [],
            "source": [
                "v1 * 2\n"
            ]
        },
        {
            "cell_type": "code",
            "execution_count": null,
            "metadata": {
                "jupyter": {
                    "outputs_hidden": false
                }
            },
            "outputs": [],
            "source": [
                "v1 + 2\n"
            ]
        },
        {
            "cell_type": "code",
            "execution_count": null,
            "metadata": {
                "jupyter": {
                    "outputs_hidden": false
                }
            },
            "outputs": [],
            "source": [
                "np.ones((3, 3)) / 4\n"
            ]
        },
        {
            "attachments": {},
            "cell_type": "markdown",
            "metadata": {},
            "source": [
                "## Maticové operace po prvcích\n",
                "Operace jako násobení, sčítání atd. jsou v numpy standardně *po prvcích*, není to tedy klasická maticová (vektorová) algebra."
            ]
        },
        {
            "cell_type": "code",
            "execution_count": null,
            "metadata": {},
            "outputs": [],
            "source": [
                "m1 = np.array([[n + m * 10 for n in range(5)] for m in range(5)])\n",
                "m1\n"
            ]
        },
        {
            "cell_type": "code",
            "execution_count": null,
            "metadata": {
                "jupyter": {
                    "outputs_hidden": false
                }
            },
            "outputs": [],
            "source": [
                "m1 * m1\n"
            ]
        },
        {
            "cell_type": "code",
            "execution_count": null,
            "metadata": {
                "jupyter": {
                    "outputs_hidden": false
                }
            },
            "outputs": [],
            "source": [
                "v1 * v1\n"
            ]
        },
        {
            "cell_type": "markdown",
            "metadata": {},
            "source": [
                "Pokud se dají pole rozšířit na společný rozměr, numpy to za nás udělá."
            ]
        },
        {
            "cell_type": "code",
            "execution_count": null,
            "metadata": {
                "jupyter": {
                    "outputs_hidden": false
                }
            },
            "outputs": [],
            "source": [
                "v1.shape, m1.shape\n"
            ]
        },
        {
            "cell_type": "markdown",
            "metadata": {},
            "source": [
                "Výsledek bude mít rozměr `m1.shape`"
            ]
        },
        {
            "cell_type": "code",
            "execution_count": null,
            "metadata": {
                "jupyter": {
                    "outputs_hidden": false
                }
            },
            "outputs": [],
            "source": [
                "m1 * v1\n"
            ]
        },
        {
            "cell_type": "markdown",
            "metadata": {},
            "source": [
                "## Maticová algebra\n",
                "Klasickou maticovou algebru zajišťuje pro pole typu `ndarray` funkce `dot` nebo operátor `@` ([PEP-465](https://www.python.org/dev/peps/pep-0465/)):"
            ]
        },
        {
            "cell_type": "code",
            "execution_count": null,
            "metadata": {
                "jupyter": {
                    "outputs_hidden": false
                }
            },
            "outputs": [],
            "source": [
                "# maticové násobení dvou matic\n",
                "np.dot(m1, m1)\n"
            ]
        },
        {
            "cell_type": "code",
            "execution_count": null,
            "metadata": {},
            "outputs": [],
            "source": [
                "m1 @ m1\n"
            ]
        },
        {
            "cell_type": "code",
            "execution_count": null,
            "metadata": {
                "jupyter": {
                    "outputs_hidden": false
                }
            },
            "outputs": [],
            "source": [
                "# maticové násobení vektoru a matice\n",
                "np.dot(m1, v1)\n"
            ]
        },
        {
            "cell_type": "code",
            "execution_count": null,
            "metadata": {
                "jupyter": {
                    "outputs_hidden": false
                }
            },
            "outputs": [],
            "source": [
                "# skalární součin\n",
                "v1 @ v1\n"
            ]
        },
        {
            "cell_type": "markdown",
            "metadata": {},
            "source": [
                "## Transformace\n",
                "Už jsme viděli `.T` pro transponování. Existuje také funkce a metoda `transpose`. Dále existuje třeba `conjugate` pro komplexní sdružení."
            ]
        },
        {
            "cell_type": "code",
            "execution_count": null,
            "metadata": {
                "jupyter": {
                    "outputs_hidden": false
                }
            },
            "outputs": [],
            "source": [
                "C = np.array([[1j, 2j], [3j, 4j]])\n",
                "C\n"
            ]
        },
        {
            "cell_type": "code",
            "execution_count": null,
            "metadata": {
                "jupyter": {
                    "outputs_hidden": false
                }
            },
            "outputs": [],
            "source": [
                "np.conjugate(C)      # nebo C.conjugate()\n"
            ]
        },
        {
            "cell_type": "code",
            "execution_count": null,
            "metadata": {
                "jupyter": {
                    "outputs_hidden": false
                }
            },
            "outputs": [],
            "source": [
                "# Hermitovské sdružení\n",
                "C.conjugate().T\n"
            ]
        },
        {
            "cell_type": "markdown",
            "metadata": {},
            "source": [
                "Reálnou a imaginární část dostaneme pomocí `real` a `imag` nebo `.real` a `.imag` properties:"
            ]
        },
        {
            "cell_type": "code",
            "execution_count": null,
            "metadata": {
                "jupyter": {
                    "outputs_hidden": false
                }
            },
            "outputs": [],
            "source": [
                "np.real(C)\n"
            ]
        },
        {
            "cell_type": "code",
            "execution_count": null,
            "metadata": {
                "jupyter": {
                    "outputs_hidden": false
                }
            },
            "outputs": [],
            "source": [
                "C.imag\n"
            ]
        },
        {
            "cell_type": "markdown",
            "metadata": {},
            "source": [
                "Komplexní číslo rozložíme na absolutní hodnotu a úhel pomocí `abs` a `angle`."
            ]
        },
        {
            "cell_type": "code",
            "execution_count": null,
            "metadata": {
                "jupyter": {
                    "outputs_hidden": false
                }
            },
            "outputs": [],
            "source": [
                "np.angle(C + 1)\n"
            ]
        },
        {
            "cell_type": "code",
            "execution_count": null,
            "metadata": {
                "jupyter": {
                    "outputs_hidden": false
                }
            },
            "outputs": [],
            "source": [
                "np.abs(C + 1)\n"
            ]
        },
        {
            "cell_type": "markdown",
            "metadata": {},
            "source": [
                "### Cvičení\n",
                "\n",
                "1. Ověřte empiricky na náhodné matici, že platí $(AB)^T = B^T A^T$\n"
            ]
        },
        {
            "cell_type": "markdown",
            "metadata": {},
            "source": [
                "## Základní funkce lineární algebry"
            ]
        },
        {
            "cell_type": "markdown",
            "metadata": {},
            "source": [
                "V Numpy existuje modul `linalg`. Pokročilejší lineární algebru je ale třeba hledat jinde, např. ve SciPy. \n",
                "\n",
                "Invertovat matici můžeme pomocí `linalg.inv`."
            ]
        },
        {
            "cell_type": "code",
            "execution_count": null,
            "metadata": {},
            "outputs": [],
            "source": [
                "m2 = np.array([[1., 1.5], [-1, 2]])\n",
                "m2\n"
            ]
        },
        {
            "cell_type": "code",
            "execution_count": null,
            "metadata": {},
            "outputs": [],
            "source": [
                "np.linalg.inv(m2)\n"
            ]
        },
        {
            "cell_type": "code",
            "execution_count": null,
            "metadata": {
                "jupyter": {
                    "outputs_hidden": false
                }
            },
            "outputs": [],
            "source": [
                "# toto by měla být jednotková matice\n",
                "np.linalg.inv(m2) @ m2\n"
            ]
        },
        {
            "cell_type": "markdown",
            "metadata": {},
            "source": [
                "`linalg.det` vypočítá determinant."
            ]
        },
        {
            "cell_type": "code",
            "execution_count": null,
            "metadata": {
                "jupyter": {
                    "outputs_hidden": false
                }
            },
            "outputs": [],
            "source": [
                "np.linalg.det(m2)\n"
            ]
        },
        {
            "cell_type": "markdown",
            "metadata": {},
            "source": [
                "## Zpracování dat\n",
                "\n",
                "Numpy je vhodné pro práci se soubory dat, pro které poskytuje řadu funkcí, např. statistických.\n",
                "\n",
                "Zkusme nějakou statistiku na souboru teplot ve Stockholmu. Data si můžete stáhnout z [Gitlabu](https://gitlab.com/coobas/numerical_python_course/-/raw/dda96848bd96e0d1f0e06b2639f48c7f464f8bb1/lecture_notes.cz/data/stockholm_td_adj.dat?inline=false)."
            ]
        },
        {
            "cell_type": "code",
            "execution_count": null,
            "metadata": {
                "jupyter": {
                    "outputs_hidden": false
                }
            },
            "outputs": [],
            "source": [
                "data = np.genfromtxt('data/stockholm_td_adj.dat')\n",
                "np.shape(data)\n"
            ]
        },
        {
            "cell_type": "code",
            "execution_count": null,
            "metadata": {},
            "outputs": [],
            "source": [
                "data[:2, :]\n"
            ]
        },
        {
            "cell_type": "markdown",
            "metadata": {},
            "source": [
                "#### mean (aritmetický průměr)"
            ]
        },
        {
            "cell_type": "code",
            "execution_count": null,
            "metadata": {
                "jupyter": {
                    "outputs_hidden": false
                }
            },
            "outputs": [],
            "source": [
                "# the temperature data is in column 3\n",
                "print(\n",
                "    \"The daily mean temperature in Stockholm over the last 200 year so has been about {:.1f} °C.\".format(\n",
                "        np.mean(data[:, 3])\n",
                "    )\n",
                ")\n"
            ]
        },
        {
            "cell_type": "markdown",
            "metadata": {},
            "source": [
                "#### směrodatná odchylka a variance"
            ]
        },
        {
            "cell_type": "code",
            "execution_count": null,
            "metadata": {
                "jupyter": {
                    "outputs_hidden": false
                }
            },
            "outputs": [],
            "source": [
                "np.std(data[:, 3]), np.var(data[:, 3])\n"
            ]
        },
        {
            "cell_type": "markdown",
            "metadata": {},
            "source": [
                "#### min a max"
            ]
        },
        {
            "cell_type": "code",
            "execution_count": null,
            "metadata": {
                "jupyter": {
                    "outputs_hidden": false
                }
            },
            "outputs": [],
            "source": [
                "# nejnižší denní teplota\n",
                "data[:, 3].min()\n"
            ]
        },
        {
            "cell_type": "code",
            "execution_count": null,
            "metadata": {
                "jupyter": {
                    "outputs_hidden": false
                }
            },
            "outputs": [],
            "source": [
                "# nejvyšší denní teplota\n",
                "data[:, 3].max()\n"
            ]
        },
        {
            "cell_type": "markdown",
            "metadata": {},
            "source": [
                "#### sum, prod, trace"
            ]
        },
        {
            "cell_type": "code",
            "execution_count": null,
            "metadata": {
                "jupyter": {
                    "outputs_hidden": false
                }
            },
            "outputs": [],
            "source": [
                "d = np.arange(1, 11)\n",
                "d\n"
            ]
        },
        {
            "cell_type": "code",
            "execution_count": null,
            "metadata": {
                "jupyter": {
                    "outputs_hidden": false
                }
            },
            "outputs": [],
            "source": [
                "# sečíst všechny prvky\n",
                "np.sum(d)\n"
            ]
        },
        {
            "cell_type": "code",
            "execution_count": null,
            "metadata": {
                "jupyter": {
                    "outputs_hidden": false
                }
            },
            "outputs": [],
            "source": [
                "# násobek všech prvků\n",
                "np.prod(d)\n"
            ]
        },
        {
            "cell_type": "code",
            "execution_count": null,
            "metadata": {
                "jupyter": {
                    "outputs_hidden": false
                }
            },
            "outputs": [],
            "source": [
                "# kumulativní součet\n",
                "np.cumsum(d)\n"
            ]
        },
        {
            "cell_type": "code",
            "execution_count": null,
            "metadata": {
                "jupyter": {
                    "outputs_hidden": false
                }
            },
            "outputs": [],
            "source": [
                "# kumulativní násobení\n",
                "np.cumprod(d)\n"
            ]
        },
        {
            "cell_type": "code",
            "execution_count": null,
            "metadata": {
                "jupyter": {
                    "outputs_hidden": false
                }
            },
            "outputs": [],
            "source": [
                "# stejné jako diag(m1).sum()\n",
                "np.trace(m1)\n"
            ]
        },
        {
            "cell_type": "markdown",
            "metadata": {},
            "source": [
                "## Výpočty s částmi polí\n",
                "\n",
                "Výpočty můžeme také provádět na podmnožinách dat pomocí indexování (jednoduchého či pokročilého) a dalších metod ukázaných níže.\n",
                "\n",
                "Vraťme se k údajům o teplotě."
            ]
        },
        {
            "cell_type": "code",
            "execution_count": null,
            "metadata": {
                "jupyter": {
                    "outputs_hidden": false
                }
            },
            "outputs": [],
            "source": [
                "data[1]\n"
            ]
        },
        {
            "cell_type": "markdown",
            "metadata": {},
            "source": [
                "Format je: rok, měsíc, den, průměrná teplota, nejnižší teplota, nejvyšší teplota, poloha.\n",
                "\n",
                "Pokud chceme spočítat průměrnou teplotu v konkrétním měsíci, např únoru, můžeme použít *maskování*.\n"
            ]
        },
        {
            "cell_type": "code",
            "execution_count": null,
            "metadata": {
                "jupyter": {
                    "outputs_hidden": false
                }
            },
            "outputs": [],
            "source": [
                "np.unique(data[:, 1])  # měsíce mají hodnoty 1 - 12\n"
            ]
        },
        {
            "cell_type": "code",
            "execution_count": null,
            "metadata": {
                "jupyter": {
                    "outputs_hidden": false
                }
            },
            "outputs": [],
            "source": [
                "# vytvoříme masku\n",
                "mask_feb = data[:, 1] == 2\n"
            ]
        },
        {
            "cell_type": "code",
            "execution_count": null,
            "metadata": {
                "jupyter": {
                    "outputs_hidden": false
                }
            },
            "outputs": [],
            "source": [
                "# masku použijeme jako index\n",
                "print(u\"Průměrná únorová teplota je {:.1f} °C\".format(np.mean(data[mask_feb, 3])))\n"
            ]
        },
        {
            "cell_type": "markdown",
            "metadata": {},
            "source": [
                "Získání průměrných teplot pro všechny měsíce je také jednoduché.\n"
            ]
        },
        {
            "cell_type": "code",
            "execution_count": null,
            "metadata": {
                "jupyter": {
                    "outputs_hidden": false
                }
            },
            "outputs": [],
            "source": [
                "months = np.arange(1, 13)\n",
                "monthly_mean = [np.mean(data[data[:, 1] == month, 3]) for month in months]\n",
                "\n",
                "# teď používáme matplotlib, se kterým se naučíme příště :)\n",
                "fig, ax = plt.subplots()\n",
                "ax.bar(months, monthly_mean)\n",
                "ax.set_xlabel(\"Month\")\n",
                "ax.set_ylabel(\"Monthly avg. temp.\")\n"
            ]
        },
        {
            "cell_type": "markdown",
            "metadata": {},
            "source": [
                "### Výpočty s vícerozměrnými daty\n",
                "\n",
                "Pokud je funkce jako `min`, `max` apod. použita na vícerozměrné pole, je někdy účelem ji aplikovat na celé pole, jindy zase po řádcích nebo sloupcích. K tomuto účelu slouží argument `axis`."
            ]
        },
        {
            "cell_type": "code",
            "execution_count": null,
            "metadata": {
                "jupyter": {
                    "outputs_hidden": false
                }
            },
            "outputs": [],
            "source": [
                "m = np.random.rand(3, 4)\n",
                "m\n"
            ]
        },
        {
            "cell_type": "code",
            "execution_count": null,
            "metadata": {
                "jupyter": {
                    "outputs_hidden": false
                }
            },
            "outputs": [],
            "source": [
                "# globální max\n",
                "m.max()\n"
            ]
        },
        {
            "cell_type": "code",
            "execution_count": null,
            "metadata": {
                "jupyter": {
                    "outputs_hidden": false
                }
            },
            "outputs": [],
            "source": [
                "# max pro každý sloupec\n",
                "m.max(axis=0)\n"
            ]
        },
        {
            "cell_type": "code",
            "execution_count": null,
            "metadata": {
                "jupyter": {
                    "outputs_hidden": false
                }
            },
            "outputs": [],
            "source": [
                "# max pro každý řádek\n",
                "m.max(axis=1)\n"
            ]
        },
        {
            "cell_type": "markdown",
            "metadata": {},
            "source": [
                "Argument `axis` používá mnoho dalších funkcí z numpy."
            ]
        },
        {
            "cell_type": "markdown",
            "metadata": {},
            "source": [
                "## Změny rozměrů a spojování polí\n",
                "\n",
                "Rozměr Numpy polí může být měněn bez kopírování samotných dat, což výrazně tyto operace zrychluje."
            ]
        },
        {
            "cell_type": "code",
            "execution_count": null,
            "metadata": {
                "jupyter": {
                    "outputs_hidden": false
                }
            },
            "outputs": [],
            "source": [
                "m1\n"
            ]
        },
        {
            "cell_type": "code",
            "execution_count": null,
            "metadata": {
                "jupyter": {
                    "outputs_hidden": false
                }
            },
            "outputs": [],
            "source": [
                "n, m = m1.shape\n"
            ]
        },
        {
            "cell_type": "markdown",
            "metadata": {},
            "source": [
                "Např. takto můžeme vytvořit jednorozměrné pole"
            ]
        },
        {
            "cell_type": "code",
            "execution_count": null,
            "metadata": {
                "jupyter": {
                    "outputs_hidden": false
                }
            },
            "outputs": [],
            "source": [
                "m1.reshape((1, n * m))\n"
            ]
        },
        {
            "cell_type": "markdown",
            "metadata": {},
            "source": [
                "Nebo použít -1 pro automatické dopočítání"
            ]
        },
        {
            "cell_type": "code",
            "execution_count": null,
            "metadata": {},
            "outputs": [],
            "source": [
                "m1.reshape((1, -1))\n"
            ]
        },
        {
            "cell_type": "markdown",
            "metadata": {},
            "source": [
                "Ovšem pozor: jelikož data jsou společná, změna v novém poli se projeví i v původním! Numpy to nazývá *views* - pohledy."
            ]
        },
        {
            "cell_type": "code",
            "execution_count": null,
            "metadata": {},
            "outputs": [],
            "source": [
                "m2 = m1.reshape((1, -1))\n"
            ]
        },
        {
            "cell_type": "code",
            "execution_count": null,
            "metadata": {
                "jupyter": {
                    "outputs_hidden": false
                }
            },
            "outputs": [],
            "source": [
                "m2[0, 0:5] = 5  # modify the array\n",
                "m2\n"
            ]
        },
        {
            "cell_type": "markdown",
            "metadata": {},
            "source": [
                "Změny se projeví i v původním `m1`"
            ]
        },
        {
            "cell_type": "code",
            "execution_count": null,
            "metadata": {
                "jupyter": {
                    "outputs_hidden": false
                }
            },
            "outputs": [],
            "source": [
                "m1\n"
            ]
        },
        {
            "cell_type": "markdown",
            "metadata": {},
            "source": [
                "Funkce `flatten` vytvoří jednorozměrné pole (vektor), data jsou v tomto případě kopírována."
            ]
        },
        {
            "cell_type": "code",
            "execution_count": null,
            "metadata": {
                "jupyter": {
                    "outputs_hidden": false
                }
            },
            "outputs": [],
            "source": [
                "m1.flatten()\n"
            ]
        },
        {
            "cell_type": "markdown",
            "metadata": {},
            "source": [
                "### Přidávání dimenzí: `newaxis`\n",
                "\n",
                "Pomocí `newaxis` můžeme jednoduše pomocí řezů přidávat dimenze. Např. převod 1d vektoru na sloupcovou nebo řádkovou matici."
            ]
        },
        {
            "cell_type": "code",
            "execution_count": null,
            "metadata": {
                "jupyter": {
                    "outputs_hidden": false
                }
            },
            "outputs": [],
            "source": [
                "v = np.array([1, 2, 3])\n",
                "v.shape\n"
            ]
        },
        {
            "cell_type": "code",
            "execution_count": null,
            "metadata": {
                "jupyter": {
                    "outputs_hidden": false
                }
            },
            "outputs": [],
            "source": [
                "# vytvoříme sloupec\n",
                "vc = v[:, np.newaxis]\n",
                "vc\n"
            ]
        },
        {
            "cell_type": "code",
            "execution_count": null,
            "metadata": {
                "jupyter": {
                    "outputs_hidden": false
                }
            },
            "outputs": [],
            "source": [
                "vc.shape\n"
            ]
        },
        {
            "cell_type": "code",
            "execution_count": null,
            "metadata": {
                "jupyter": {
                    "outputs_hidden": false
                }
            },
            "outputs": [],
            "source": [
                "# řádek\n",
                "v[np.newaxis, :].shape\n"
            ]
        },
        {
            "cell_type": "markdown",
            "metadata": {},
            "source": [
                "### Spojování a opakování\n",
                "\n",
                "Na spojování a opakování máme funkce `repeat`, `tile`, `vstack`, `hstack` a `concatenate`."
            ]
        },
        {
            "cell_type": "code",
            "execution_count": null,
            "metadata": {
                "jupyter": {
                    "outputs_hidden": false
                }
            },
            "outputs": [],
            "source": [
                "a = np.array([[1, 2], [3, 4]])\n",
                "a\n"
            ]
        },
        {
            "cell_type": "code",
            "execution_count": null,
            "metadata": {
                "jupyter": {
                    "outputs_hidden": false
                }
            },
            "outputs": [],
            "source": [
                "# opakování po prvcích\n",
                "np.repeat(a, 3)\n"
            ]
        },
        {
            "cell_type": "code",
            "execution_count": null,
            "metadata": {
                "jupyter": {
                    "outputs_hidden": false
                }
            },
            "outputs": [],
            "source": [
                "# skládání celých polí\n",
                "np.tile(a, (3, 2))\n"
            ]
        },
        {
            "cell_type": "markdown",
            "metadata": {},
            "source": [
                "`concatenate` spojí dvě pole"
            ]
        },
        {
            "cell_type": "code",
            "execution_count": null,
            "metadata": {
                "jupyter": {
                    "outputs_hidden": false
                }
            },
            "outputs": [],
            "source": [
                "b = np.array([[5, 6]])\n"
            ]
        },
        {
            "cell_type": "code",
            "execution_count": null,
            "metadata": {
                "jupyter": {
                    "outputs_hidden": false
                }
            },
            "outputs": [],
            "source": [
                "np.concatenate((a, b), axis=0)\n"
            ]
        },
        {
            "cell_type": "code",
            "execution_count": null,
            "metadata": {
                "jupyter": {
                    "outputs_hidden": false
                }
            },
            "outputs": [],
            "source": [
                "# musíme použít b.T\n",
                "np.concatenate((a, b.T), axis=1)\n"
            ]
        },
        {
            "cell_type": "markdown",
            "metadata": {},
            "source": [
                "`hstack` a `vstack` skládá pole horizontáleně nebo vertikálně"
            ]
        },
        {
            "cell_type": "code",
            "execution_count": null,
            "metadata": {
                "jupyter": {
                    "outputs_hidden": false
                }
            },
            "outputs": [],
            "source": [
                "np.vstack((a, b))\n"
            ]
        },
        {
            "cell_type": "code",
            "execution_count": null,
            "metadata": {
                "jupyter": {
                    "outputs_hidden": false
                }
            },
            "outputs": [],
            "source": [
                "np.hstack((a, b.T))\n"
            ]
        },
        {
            "cell_type": "markdown",
            "metadata": {},
            "source": [
                "### Cvičení\n",
                "1. Pro náhodné 1D vektory $u, v$ vypočítejte dyadický součin $uv$ ($uv_{ij} = u_iv_j$) pomocí `newaxis`.\n",
                "2. Vytvořte šachovnicovou matici pomocí `tile`."
            ]
        },
        {
            "cell_type": "markdown",
            "metadata": {},
            "source": [
                "## Kopírování dat\n",
                "\n",
                "Python obecně přiřazuje proměnné pomocí referencí. Numpy objekty nejsou výjimkou."
            ]
        },
        {
            "cell_type": "code",
            "execution_count": null,
            "metadata": {
                "jupyter": {
                    "outputs_hidden": false
                }
            },
            "outputs": [],
            "source": [
                "A = np.array([[1, 2], [3, 4]])\n",
                "A\n"
            ]
        },
        {
            "cell_type": "code",
            "execution_count": null,
            "metadata": {
                "jupyter": {
                    "outputs_hidden": false
                }
            },
            "outputs": [],
            "source": [
                "# B je teď identický objekt s A\n",
                "B = A\n"
            ]
        },
        {
            "cell_type": "code",
            "execution_count": null,
            "metadata": {
                "jupyter": {
                    "outputs_hidden": false
                }
            },
            "outputs": [],
            "source": [
                "# změna v B se projeví v A\n",
                "B[0, 0] = 10\n",
                "A\n"
            ]
        },
        {
            "cell_type": "markdown",
            "metadata": {},
            "source": [
                "Pokud chceme data zkopírovat, tj. pokud bychom chtěli aby `A` bylo nezávislé na `B`, můžeme použít metodu nebo funci `copy`."
            ]
        },
        {
            "cell_type": "code",
            "execution_count": null,
            "metadata": {
                "jupyter": {
                    "outputs_hidden": false
                }
            },
            "outputs": [],
            "source": [
                "B = A.copy()\n",
                "# nebo B = np.copy(A)\n"
            ]
        },
        {
            "cell_type": "code",
            "execution_count": null,
            "metadata": {
                "jupyter": {
                    "outputs_hidden": false
                }
            },
            "outputs": [],
            "source": [
                "# změny v B už se neprojeví v A\n",
                "B[0, 0] = -5\n",
                "A\n"
            ]
        },
        {
            "cell_type": "markdown",
            "metadata": {},
            "source": [
                "## Iterace\n",
                "\n",
                "Obecně se iteraci vyhýbáme a přednost dáváme vektorovým operacím (viz níže). Někdy je ale iterace nevyhnutelná."
            ]
        },
        {
            "cell_type": "code",
            "execution_count": null,
            "metadata": {
                "jupyter": {
                    "outputs_hidden": false
                }
            },
            "outputs": [],
            "source": [
                "v = np.array([1, 2, 3, 4])\n",
                "\n",
                "for element in v:\n",
                "    print(element)\n"
            ]
        },
        {
            "cell_type": "markdown",
            "metadata": {},
            "source": [
                "Iteruje se přes první index (po řádcích)."
            ]
        },
        {
            "cell_type": "code",
            "execution_count": null,
            "metadata": {
                "jupyter": {
                    "outputs_hidden": false
                }
            },
            "outputs": [],
            "source": [
                "M = np.array([[1, 2], [3, 4]])\n",
                "\n",
                "for row in M:\n",
                "    print(\"row: {}\".format(row))\n"
            ]
        },
        {
            "cell_type": "markdown",
            "metadata": {},
            "source": [
                "Pokud potřebujeme také indexy, použijeme `enumerate`. (Vzpomínáte?)"
            ]
        },
        {
            "cell_type": "code",
            "execution_count": null,
            "metadata": {
                "jupyter": {
                    "outputs_hidden": false
                }
            },
            "outputs": [],
            "source": [
                "for row_idx, row in enumerate(M):\n",
                "    print(\"row_idx\", row_idx, \"row\", row)\n",
                "\n",
                "    for col_idx, element in enumerate(row):\n",
                "        print(\"col_idx\", col_idx, \"element\", element)\n",
                "\n",
                "        # update the matrix M: square each element\n",
                "        M[row_idx, col_idx] = element ** 2\n"
            ]
        },
        {
            "cell_type": "code",
            "execution_count": null,
            "metadata": {
                "jupyter": {
                    "outputs_hidden": false
                }
            },
            "outputs": [],
            "source": [
                "# each element in M is now squared\n",
                "M\n"
            ]
        },
        {
            "cell_type": "markdown",
            "metadata": {},
            "source": [
                "## Vektorové funkce\n",
                "\n",
                "Jak jsme již říkali, vektorové (vektorizované) funkce jsou obecně daleko rychlejší než iterace. Numpy nám naštěstí cestu od skalární po vektorovou funkci usnadňuje."
            ]
        },
        {
            "cell_type": "code",
            "execution_count": null,
            "metadata": {
                "jupyter": {
                    "outputs_hidden": false
                }
            },
            "outputs": [],
            "source": [
                "def Theta(x):\n",
                "    \"\"\"\n",
                "    Scalar implemenation of the Heaviside step function.\n",
                "    \"\"\"\n",
                "    if x >= 0:\n",
                "        return 1\n",
                "    else:\n",
                "        return 0\n"
            ]
        },
        {
            "cell_type": "code",
            "execution_count": null,
            "metadata": {
                "jupyter": {
                    "outputs_hidden": false
                }
            },
            "outputs": [],
            "source": [
                "# toto bychom chtěli, ale asi to nebude fungovat\n",
                "Theta(np.array([-3, -2, -1, 0, 1, 2, 3]))\n"
            ]
        },
        {
            "cell_type": "markdown",
            "metadata": {},
            "source": [
                "Pro vektorizaci naší funkce nám Numpy nabízí `vectorize`."
            ]
        },
        {
            "cell_type": "code",
            "execution_count": null,
            "metadata": {
                "jupyter": {
                    "outputs_hidden": false
                }
            },
            "outputs": [],
            "source": [
                "Theta_vec = np.vectorize(Theta)\n"
            ]
        },
        {
            "cell_type": "code",
            "execution_count": null,
            "metadata": {
                "jupyter": {
                    "outputs_hidden": false
                }
            },
            "outputs": [],
            "source": [
                "Theta_vec(np.array([-3, -2, -1, 0, 1, 2, 3]))\n"
            ]
        },
        {
            "cell_type": "markdown",
            "metadata": {},
            "source": [
                "To bylo celkem snadné ... Můžeme také (a pokud to jde tak bychom měli) přepsat naši funkci tak, aby fungovala jak pro skaláry tak pro pole."
            ]
        },
        {
            "cell_type": "code",
            "execution_count": null,
            "metadata": {
                "jupyter": {
                    "outputs_hidden": false
                }
            },
            "outputs": [],
            "source": [
                "def Theta_numpy(x):\n",
                "    \"\"\"\n",
                "    Vector-aware implemenation of the Heaviside step function.\n",
                "    \"\"\"\n",
                "    return 1 * (x >= 0)\n"
            ]
        },
        {
            "cell_type": "code",
            "execution_count": null,
            "metadata": {
                "jupyter": {
                    "outputs_hidden": false
                }
            },
            "outputs": [],
            "source": [
                "Theta_numpy(np.array([-3, -2, -1, 0, 1, 2, 3]))\n"
            ]
        },
        {
            "cell_type": "code",
            "execution_count": null,
            "metadata": {
                "jupyter": {
                    "outputs_hidden": false
                }
            },
            "outputs": [],
            "source": [
                "# funguje i pro skalár\n",
                "Theta_numpy(-1.2), Theta_numpy(2.6)\n"
            ]
        },
        {
            "cell_type": "markdown",
            "metadata": {},
            "source": [
                "Pojďme zkusit porovnat rychlost vektorizovaných funkcí. Tipnete si jaká bude rychlejší, případně jak moc rychlejší?"
            ]
        },
        {
            "cell_type": "code",
            "execution_count": null,
            "metadata": {},
            "outputs": [],
            "source": [
                "randvec = np.random.random_sample((10000)) * 2000 - 1000\n"
            ]
        },
        {
            "cell_type": "code",
            "execution_count": null,
            "metadata": {},
            "outputs": [],
            "source": [
                "%timeit Theta_vec(randvec)\n"
            ]
        },
        {
            "cell_type": "code",
            "execution_count": null,
            "metadata": {},
            "outputs": [],
            "source": [
                "%timeit Theta_numpy(randvec)\n"
            ]
        },
        {
            "cell_type": "markdown",
            "metadata": {},
            "source": [
                "## Používání polí v podmínkách\n",
                "Pokud chceme testovat po prvcích, v podmínkách pak použijeme metody `all` nebo `any`."
            ]
        },
        {
            "cell_type": "code",
            "execution_count": null,
            "metadata": {
                "jupyter": {
                    "outputs_hidden": false
                }
            },
            "outputs": [],
            "source": [
                "M\n"
            ]
        },
        {
            "cell_type": "code",
            "execution_count": null,
            "metadata": {
                "jupyter": {
                    "outputs_hidden": false
                }
            },
            "outputs": [],
            "source": [
                "# výsledkem M > 5 je pole boolovských hodnot\n",
                "M > 5\n"
            ]
        },
        {
            "cell_type": "code",
            "execution_count": null,
            "metadata": {
                "jupyter": {
                    "outputs_hidden": false
                }
            },
            "outputs": [],
            "source": [
                "if (M > 5).any():\n",
                "    print(\"M obsahuje alespoň jeden prvek větší než 5\")\n",
                "else:\n",
                "    print(\"M neobsahuje žádný prvek větší než 5\")\n"
            ]
        },
        {
            "cell_type": "code",
            "execution_count": null,
            "metadata": {
                "jupyter": {
                    "outputs_hidden": false
                }
            },
            "outputs": [],
            "source": [
                "if (M > 5).all():\n",
                "    print(\"všechny prvky v M jsou větší než 5\")\n",
                "else:\n",
                "    print(\"M obsahuje alespoň jeden prvek menší rovno 5\")\n"
            ]
        },
        {
            "cell_type": "markdown",
            "metadata": {},
            "source": [
                "## Změna typů\n",
                "Numpy pole jsou *staticky typovaná*. Pro změnu typu můžeme použít metodu `astype` (případně `asarray`)."
            ]
        },
        {
            "cell_type": "code",
            "execution_count": null,
            "metadata": {
                "jupyter": {
                    "outputs_hidden": false
                }
            },
            "outputs": [],
            "source": [
                "M.dtype\n"
            ]
        },
        {
            "cell_type": "code",
            "execution_count": null,
            "metadata": {
                "jupyter": {
                    "outputs_hidden": false
                }
            },
            "outputs": [],
            "source": [
                "M2 = M.astype(float)\n",
                "M2\n"
            ]
        },
        {
            "cell_type": "code",
            "execution_count": null,
            "metadata": {
                "jupyter": {
                    "outputs_hidden": false
                }
            },
            "outputs": [],
            "source": [
                "M2.dtype\n"
            ]
        },
        {
            "cell_type": "code",
            "execution_count": null,
            "metadata": {
                "jupyter": {
                    "outputs_hidden": false
                }
            },
            "outputs": [],
            "source": [
                "M3 = M.astype(bool)\n",
                "M3\n"
            ]
        },
        {
            "cell_type": "markdown",
            "metadata": {},
            "source": [
                "## Další čtení"
            ]
        },
        {
            "cell_type": "markdown",
            "metadata": {},
            "source": [
                "* https://numpy.org/\n",
                "* https://jakevdp.github.io/PythonDataScienceHandbook/02.00-introduction-to-numpy.html\n",
                "* http://www.labri.fr/perso/nrougier/teaching/numpy.100/index.html"
            ]
        },
        {
            "cell_type": "code",
            "execution_count": null,
            "metadata": {},
            "outputs": [],
            "source": []
        }
    ],
    "metadata": {
        "kernelspec": {
            "display_name": "Python 3",
            "language": "python",
            "name": "python3"
        },
        "language_info": {
            "codemirror_mode": {
                "name": "ipython",
                "version": 3
            },
            "file_extension": ".py",
            "mimetype": "text/x-python",
            "name": "python",
            "nbconvert_exporter": "python",
            "pygments_lexer": "ipython3",
            "version": "3.10.9"
        }
    },
    "nbformat": 4,
    "nbformat_minor": 4
}