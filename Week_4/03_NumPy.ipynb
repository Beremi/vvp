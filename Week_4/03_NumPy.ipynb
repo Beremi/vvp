{
    "cells": [
        {
            "attachments": {},
            "cell_type": "markdown",
            "metadata": {},
            "source": [
                "[NumPy](http://www.numpy.org) je základní Python knihovna pro práci s numerickými daty, konkrétně s 1- až n-rozměrnými maticemi. Implementace (pro CPython) je z velké části napsána v C a Fortranu a používá BLAS knihovny. Numpy tak umožňuje pracovat s numerickými daty ve stylu Python kontejnerů (existují samozřejmě rozdíly) a zároveň zachovat rychlost kompilovaných jazyků.\n",
                "\n",
                "V této lekci projdeme:\n",
                "- Co je to `numpy` ndarray?\n",
                "- Vytváření `numpy` polí.\n",
                "- Indexování a slicing `numpy` polí.\n",
                "- Co je to `numpy` array view?\n",
                "- Broadcasting.\n",
                "- Elementwise operace.\n",
                "- Maticové operace."
            ]
        },
        {
            "attachments": {},
            "cell_type": "markdown",
            "metadata": {},
            "source": [
                "Tento notebook s úctou vykrádá:  [Lectures on scientific computing with Python](http://github.com/jrjohansson/scientific-python-lectures) a [numerical_python_course](https://gitlab.com/coobas/numerical_python_course)"
            ]
        },
        {
            "attachments": {},
            "cell_type": "markdown",
            "metadata": {},
            "source": [
                "# Importujeme numpy\n",
                "\n",
                "Chceme-li použít `numpy`, je samozřejmě nutné modul importovat. Obvykle se použivá zkratka `np`: \n"
            ]
        },
        {
            "cell_type": "code",
            "execution_count": null,
            "metadata": {
                "jupyter": {
                    "outputs_hidden": false
                }
            },
            "outputs": [],
            "source": [
                "import numpy as np\n"
            ]
        },
        {
            "attachments": {},
            "cell_type": "markdown",
            "metadata": {},
            "source": [
                "## Proč NumPy?\n",
                "\n",
                "* Python seznamy jsou příliš obecné. Mohou obsahovat jakýkoliv druh objektu. Jsou dynamicky typované. Nepodporují matematické funkce, jako maticové násobení. \n",
                "\n",
                "* NumPy pole jsou staticky typovaná a homogenní. Typ prvků je určen při vytvoření pole.\n",
                "* NumPy pole jsou efektivně uložena v paměti.\n",
                "* Díky těmto vlastnostem lze implementovat matematické operace, jako je násobení nebo sčítání, v rychlém, kompilovaném jazyce (C/Fortran)."
            ]
        },
        {
            "attachments": {},
            "cell_type": "markdown",
            "metadata": {},
            "source": [
                "# `NumPy` pole: `ndarray`\n",
                "\n",
                "`ndarray` je základní datový typ v `numpy`. Jedná se o n-rozměrné pole (vektor, matice, tensor) se záznamy stejného typu (typicky) čísly (integers, floats, complex numbers)."
            ]
        },
        {
            "cell_type": "code",
            "execution_count": null,
            "metadata": {},
            "outputs": [],
            "source": [
                "# numpy.ndarray\n",
                "help(np.ndarray)\n"
            ]
        },
        {
            "cell_type": "code",
            "execution_count": null,
            "metadata": {},
            "outputs": [],
            "source": [
                "# konstruktor můžeme použít pro vytvoření pole\n",
                "# hlavní povinný parametr je shape = velikost v jednotlivých dimenzích\n",
                "A = np.ndarray(shape=(2, 3, 2))\n",
                "A\n"
            ]
        },
        {
            "attachments": {},
            "cell_type": "markdown",
            "metadata": {},
            "source": [
                "Toto ale není běžný způsob, jakým bychom si `numpy` pole vytvářeli. Většinou budeme chtít pole s nějakými konkétními hodnotami. Zde se pouze alokovala paměť ale její hodnota není definována = je taková jaké bity byly na daném místě v paměti předtím.\n"
            ]
        },
        {
            "attachments": {},
            "cell_type": "markdown",
            "metadata": {},
            "source": [
                "## Vlastnosti `ndarray`\n",
                "\n",
                "`ndarray` má mnoho zajímavách metod a atributů. Některé z nich jsou:\n",
                "- `ndarray.ndim` - počet rozměrů\n",
                "- `ndarray.shape` - velikost pole v jednotlivých rozměrech\n",
                "- `ndarray.size` - celkový počet prvků v poli\n",
                "- `ndarray.dtype` - typ prvků v poli\n",
                "- `ndarray.itemsize` - velikost jednoho prvku v bajtech\n",
                "- `ndarray.nbytes` - celková velikost pole v bajtech\n",
                "- `ndarray.strides` - posuny v bajtech mezi jednotlivými prvky v jednotlivých rozměrech\n",
                "- `ndarray.data` - buffer obsahující samotná data\n",
                "- ...\n"
            ]
        },
        {
            "cell_type": "code",
            "execution_count": null,
            "metadata": {},
            "outputs": [],
            "source": [
                "# seznam všech atributů a metod\n",
                "dir(A)\n"
            ]
        },
        {
            "cell_type": "code",
            "execution_count": null,
            "metadata": {},
            "outputs": [],
            "source": [
                "print(A.ndim)\n",
                "print(A.shape)\n",
                "print(A.size)\n",
                "\n",
                "print(A.dtype)\n",
                "\n",
                "print(A.itemsize)\n",
                "print(A.nbytes)\n",
                "print(A.strides)\n",
                "\n",
                "print(A.data)\n"
            ]
        },
        {
            "attachments": {},
            "cell_type": "markdown",
            "metadata": {},
            "source": [
                "Běžně se používá pořadí prvků v paměti jako C (row-major), je možné nastavit pořadí jako Fortran (column-major) a to pomocí atributu `order`."
            ]
        },
        {
            "cell_type": "code",
            "execution_count": null,
            "metadata": {},
            "outputs": [],
            "source": [
                "# vytvoření pole s jiným vnitřním pořadím\n",
                "A = np.ndarray(shape=(2, 3, 2), order='F')\n",
                "print(A.strides)\n"
            ]
        },
        {
            "attachments": {},
            "cell_type": "markdown",
            "metadata": {},
            "source": [
                "## Typy prvků v numpy poli\n",
                "Obecný objekt pro reprezentaci datového typu v `numpy` je `dtype`, který obsahuje veškeré informace o datovém typu.\n",
                "\n",
                "Nicméně, vetšinou nám stačí velmi jednoduchý typ jako je například `int`, `float` a v těchto případech nemusíme typ zadávat pomocí objektu `dtype`.\n",
                "\n",
                "\n",
                "**Základní typy:**\n",
                "\n",
                "Celá čísla:\n",
                "- `numpy.int8` - 8-bit integer\n",
                "- `numpy.int16` - 16-bit integer\n",
                "- `numpy.int32` - 32-bit integer\n",
                "- `numpy.int64` - 64-bit integer\n",
                "- třídu `int` (bez `numpy.`) - zvolí velikost integeru podle platformy (32-bit integer na 32-bit platformě, 64-bit integer na 64-bit platformě)\n",
                "\n",
                "Desetinná čísla:\n",
                "- `numpy.float16` - 16-bit floating point\n",
                "- `numpy.float32` - 32-bit floating point\n",
                "- `numpy.float64` - 64-bit floating point\n",
                "- `numpy.float128` - 128-bit floating point\n",
                "- třída `float` (bez `numpy.`) - zvolí velikost floating point podle platformy (32-bit floating point na 32-bit platformě, 64-bit floating point na 64-bit platformě)\n",
                "\n",
                "Komplexní čísla:\n",
                "- `numpy.complex64` - 64-bit complex number\n",
                "- `numpy.complex128` - 128-bit complex number\n",
                "- `numpy.complex256` - 256-bit complex number\n",
                "- třídu `complex` (bez `numpy.`) - zvolí velikost complex number podle platformy (64-bit complex number na 32-bit platformě, 128-bit complex number na 64-bit platformě)\n",
                "\n",
                "Boolean:\n",
                "- `bool` (bez `numpy.`)  - boolean"
            ]
        },
        {
            "cell_type": "code",
            "execution_count": null,
            "metadata": {},
            "outputs": [],
            "source": [
                "A = np.ndarray(shape=(1), dtype=np.int8)\n",
                "print(A)\n",
                "print(A.itemsize)\n",
                "print(\"---\")\n",
                "A = np.ndarray(shape=(1), dtype=np.int16)\n",
                "print(A)\n",
                "print(A.itemsize)\n",
                "print(\"---\")\n",
                "A = np.ndarray(shape=(1), dtype=np.int32)\n",
                "print(A)\n",
                "print(A.itemsize)\n",
                "print(\"---\")\n",
                "A = np.ndarray(shape=(1), dtype=np.int64)\n",
                "print(A)\n",
                "print(A.itemsize)\n",
                "print(\"---\")\n",
                "A = np.ndarray(shape=(1), dtype=int)\n",
                "print(A)\n",
                "print(A.itemsize)\n"
            ]
        },
        {
            "cell_type": "code",
            "execution_count": null,
            "metadata": {},
            "outputs": [],
            "source": [
                "A = np.ndarray(shape=(1), dtype=np.float16)\n",
                "print(A)\n",
                "print(A.itemsize)\n",
                "print(\"---\")\n",
                "A = np.ndarray(shape=(1), dtype=np.float32)\n",
                "print(A)\n",
                "print(A.itemsize)\n",
                "print(\"---\")\n",
                "A = np.ndarray(shape=(1), dtype=np.float64)\n",
                "print(A)\n",
                "print(A.itemsize)\n",
                "print(\"---\")\n",
                "A = np.ndarray(shape=(1), dtype=np.float128)\n",
                "print(A)\n",
                "print(A.itemsize)\n",
                "print(\"---\")\n",
                "A = np.ndarray(shape=(1), dtype=float)\n",
                "print(A)\n",
                "print(A.itemsize)\n"
            ]
        },
        {
            "cell_type": "code",
            "execution_count": null,
            "metadata": {},
            "outputs": [],
            "source": [
                "A = np.ndarray(shape=(1), dtype=np.complex64)\n",
                "print(A)\n",
                "print(A.itemsize)\n",
                "print(\"---\")\n",
                "A = np.ndarray(shape=(1), dtype=np.complex128)\n",
                "print(A)\n",
                "print(A.itemsize)\n",
                "print(\"---\")\n",
                "A = np.ndarray(shape=(1), dtype=np.complex256)\n",
                "print(A)\n",
                "print(A.itemsize)\n",
                "print(\"---\")\n",
                "A = np.ndarray(shape=(1), dtype=complex)\n",
                "print(A)\n",
                "print(A.itemsize)\n"
            ]
        },
        {
            "cell_type": "code",
            "execution_count": null,
            "metadata": {},
            "outputs": [],
            "source": [
                "A = np.ndarray(shape=(1), dtype=bool)\n",
                "print(A)\n",
                "print(A.itemsize)\n"
            ]
        },
        {
            "attachments": {},
            "cell_type": "markdown",
            "metadata": {},
            "source": [
                "**Komplikovanější typy:**\n",
                "\n",
                "Je jich mnoho, může se hodit například\n",
                "- `numpy.datetime64` - datetime64\n",
                "\n",
                "Pokročilejší typy definujeme pomocí objektu `dtype`. Více viz [dokumentace 1](https://numpy.org/doc/stable/reference/generated/numpy.dtype.html) a [dokumentace 2](https://numpy.org/doc/stable/reference/arrays.dtypes.html)."
            ]
        },
        {
            "cell_type": "code",
            "execution_count": null,
            "metadata": {},
            "outputs": [],
            "source": [
                "A = np.array(['2007-07-13', '2006-01-13', '2010-08-13'], dtype=np.datetime64)\n",
                "print(A)\n",
                "print(A.itemsize)\n",
                "print(A.dtype)\n"
            ]
        },
        {
            "attachments": {},
            "cell_type": "markdown",
            "metadata": {},
            "source": [
                "Komplikovanější typy definujeme pomocí objektu `dtype`. Například pro ukázku:\n",
                "\n",
                "```python \n",
                "my_dt = np.dtype([('název prvního sloupce', 'i4'), ('název druhého sloupce', 'f8'), ('název třetího sloupce', 'S5')])\n",
                "```\n",
                "\n",
                "Argumentem funkce np.dtype je seznam n-tic, kde každá n-tice reprezentuje \"sloupec\" v poli NumPy. V tomto příkladu máme tři sloupce.\n",
                "\n",
                "První prvek každé n-tice je název sloupce a druhý prvek je řetězec, který reprezentuje datový typ pro tento sloupec. V tomto příkladu máme:\n",
                "\n",
                "`np.int32` neboli `'i4'`: datový typ celého čísla o velikosti 4 bytů\n",
                "`np.float64` neboli `'f8'`: datový typ s pohyblivou řádovou čárkou o velikosti 8 bytů\n",
                "`np.string_, 5` neboli `'S5'`: datový typ řetězce s maximální délkou 5 bytů"
            ]
        },
        {
            "cell_type": "code",
            "execution_count": null,
            "metadata": {},
            "outputs": [],
            "source": [
                "# ukazka, kde prvkem je trojice integer, float, string s delkou 5\n",
                "my_dt = np.dtype([('sloupec s číslem', np.int32),\n",
                "                  ('sloupec s floatem', np.float64),\n",
                "                  ('sloupec s pěti znaky', np.string_, 5)])\n",
                "\n",
                "# vytvoříme 2x2 matici se záznami daného typu\n",
                "A = np.array([[(1, 2.0, \"hello\"), (3, 4.0, \"world\")],\n",
                "              [(5, 6.0, \"numpy\"), (5, 6.0, \"numpy\")]], dtype=my_dt)\n",
                "\n",
                "print(A)\n",
                "print(A.itemsize)\n",
                "print(A[0, 0])\n",
                "print(A['sloupec s pěti znaky'])\n"
            ]
        },
        {
            "cell_type": "code",
            "execution_count": null,
            "metadata": {},
            "outputs": [],
            "source": [
                "A[1, 1] = (10, 20.0, \"hello world\")\n",
                "print(A)\n"
            ]
        },
        {
            "attachments": {},
            "cell_type": "markdown",
            "metadata": {},
            "source": [
                "## Vytváření numpy polí\n",
                "Existuje několik základních způsobů, jak vytvořit nové numpy pole:\n",
                "\n",
                "- Z nějakého kontejneru typu seznam (`list`) nebo `tuple`.\n",
                "    - např. `np.array([1, 2, 3])`\n",
                "- Pomocí funkce numpy, která generuje `ndarray` s konkrétními hodnotami\n",
                "    - např. `np.zeros((2, 3))` vytvoří pole o velikosti 2x3, kde jsou všechny prvky rovny 0\n",
                "    - např. `np.ones((2, 3))` vytvoří pole o velikosti 2x3, kde jsou všechny prvky rovny 1\n",
                "    - např. `np.full((2, 3), 5)` vytvoří pole o velikosti 2x3, kde jsou všechny prvky rovny 5\n",
                "    - např. `np.arange(10)` vytvoří pole o velikosti 10, kde jsou všechny prvky rovny 0, 1, 2, 3, 4, 5, 6, 7, 8, 9\n",
                "    - např. `np.linspace(0, 1, 5)` vytvoří pole o velikosti 5, kde jsou všechny prvky rovny 0, 0.25, 0.5, 0.75, 1\n",
                "    - např. `np.logspace(0, 1, 5)` vytvoří pole o velikosti 5, kde jsou všechny prvky rovny 1, 1.778, 3.162, 5.623, 10\n",
                "    - např. `np.random.random((2, 3))` vytvoří pole o velikosti 2x3, kde jsou všechny prvky rovny náhodným číslům z intervalu [0, 1)\n",
                "    - např. `np.random.normal(0, 1, (2, 3))` vytvoří pole o velikosti 2x3, kde jsou všechny prvky rovny náhodným číslům z normálního rozdělení s průměrem 0 a směrodatnou odchylkou 1\n",
                "    - např. `np.random.randint(0, 10, (2, 3))` vytvoří pole o velikosti 2x3, kde jsou všechny prvky rovny náhodným celým číslům z intervalu [0, 10)\n",
                "    - Z jiného numpy pole\n",
                "        - např. pomocí výběru (slicing), pozor na to, že se vytvoří nové pole, které sdílí data s původním polem (view)\n",
                "        - např. pomocí `np.diag` pro vytvoření pole z diagonály jiného pole\n",
                "        - např. pomocí `np.diagflat` pro vytvoření pole s diagonálou z jiného pole\n",
                "        - např. pomocí `np.triu` pro vytvoření pole s horní trojúhelníkovou maticí z jiného pole\n",
                "        - např. pomocí `np.tril` pro vytvoření pole s dolní trojúhelníkovou maticí z jiného pole\n",
                "        - např. pomocí slepení (concatenation) pomocí `np.concatenate`, `np.vstack`, `np.hstack`\n",
                "        - např. pomocí `np.repeat` a `np.tile` pro opakování pole\n",
                "- Načtením ze souboru\n",
                "    - např. `np.loadtxt('filename.txt')` načte pole ze souboru `filename.txt`\n",
                "    - např. `np.genfromtxt('filename.txt', delimiter=',')` načte pole ze souboru `filename.txt` s oddělovačem čárka\n"
            ]
        },
        {
            "attachments": {},
            "cell_type": "markdown",
            "metadata": {},
            "source": [
                "### Vytváření numpy polí z python kontejnerů"
            ]
        },
        {
            "cell_type": "code",
            "execution_count": null,
            "metadata": {},
            "outputs": [],
            "source": [
                "muj_list = [1, 2, 3, 4, 5]\n",
                "A = np.array(muj_list)\n",
                "print(A)\n",
                "print(A.dtype)\n"
            ]
        },
        {
            "cell_type": "markdown",
            "metadata": {},
            "source": [
                "Vícerozměrné pole (matice) se vytvoří z vnořeného seznamu."
            ]
        },
        {
            "cell_type": "code",
            "execution_count": null,
            "metadata": {
                "jupyter": {
                    "outputs_hidden": false
                }
            },
            "outputs": [],
            "source": [
                "matrix = np.array([[1, 2], [3, 4]])\n",
                "matrix\n"
            ]
        },
        {
            "cell_type": "code",
            "execution_count": null,
            "metadata": {},
            "outputs": [],
            "source": [
                "muj_touple = (1, 2, 3, 4, 5)\n",
                "A = np.array(muj_touple)\n",
                "print(A)\n",
                "print(A.dtype)\n"
            ]
        },
        {
            "attachments": {},
            "cell_type": "markdown",
            "metadata": {},
            "source": [
                "Ze `set` a `dict` se vytvoří něco jiného než bychom asi očekávali."
            ]
        },
        {
            "cell_type": "code",
            "execution_count": null,
            "metadata": {},
            "outputs": [],
            "source": [
                "muj_set = {1, 2, 3, 4, 5}\n",
                "A = np.array(muj_set)\n",
                "print(A)\n",
                "print(type(A))\n",
                "print(A.dtype)\n",
                "print(A.shape)\n",
                "print(A.size)\n",
                "print(A.ndim)\n",
                "print(A.itemsize)\n"
            ]
        },
        {
            "cell_type": "code",
            "execution_count": null,
            "metadata": {},
            "outputs": [],
            "source": [
                "muj_dict = {'a': 1, 'b': 2, 'c': 3, 'd': 4, 'e': 5}\n",
                "A = np.array(muj_dict)\n",
                "print(A)\n",
                "print(type(A))\n",
                "print(A.dtype)\n",
                "print(A.shape)\n",
                "print(A.size)\n",
                "print(A.ndim)\n",
                "print(A.itemsize)\n"
            ]
        },
        {
            "attachments": {},
            "cell_type": "markdown",
            "metadata": {},
            "source": [
                "### Numpy funkce pro vytváření ndarray\n",
                "Zejména velká pole by bylo nepraktické inicializovat pomocí seznamů. Naštěstí v numpy existují [funkce](http://docs.scipy.org/doc/numpy/reference/routines.array-creation.html), které generují typická pole."
            ]
        },
        {
            "attachments": {},
            "cell_type": "markdown",
            "metadata": {},
            "source": [
                "**`arange`** vygeneruje posloupnost, syntaxe je stejná jako `range`, ale funguje i pro desetinná a záporná čísla."
            ]
        },
        {
            "cell_type": "code",
            "execution_count": null,
            "metadata": {
                "jupyter": {
                    "outputs_hidden": false
                }
            },
            "outputs": [],
            "source": [
                "np.arange(0, 10, 1)  # argumenty: start, stop, step\n"
            ]
        },
        {
            "cell_type": "code",
            "execution_count": null,
            "metadata": {
                "jupyter": {
                    "outputs_hidden": false
                }
            },
            "outputs": [],
            "source": [
                "np.arange(-1, 0, 0.1)"
            ]
        },
        {
            "cell_type": "markdown",
            "metadata": {},
            "source": [
                "**`linspace`** a **`logspace`** vytváří posloupnosti s daným počtem prvků."
            ]
        },
        {
            "cell_type": "code",
            "execution_count": null,
            "metadata": {
                "jupyter": {
                    "outputs_hidden": false
                }
            },
            "outputs": [],
            "source": [
                "# první a poslední prvek jsou obsaženy ve výsledku\n",
                "# argumenty jsou odkud, kam, kolik prvků\n",
                "np.linspace(0, 10, 5)\n"
            ]
        },
        {
            "cell_type": "code",
            "execution_count": null,
            "metadata": {
                "jupyter": {
                    "outputs_hidden": false
                }
            },
            "outputs": [],
            "source": [
                "# podobně jako linspace, ale výsledek je base**x\n",
                "np.logspace(0, 10, 11, base=10)\n"
            ]
        },
        {
            "cell_type": "markdown",
            "metadata": {},
            "source": [
                "**`ones`** a **`zeros`** vytvoří pole ze samých nul nebo jedniček."
            ]
        },
        {
            "cell_type": "code",
            "execution_count": null,
            "metadata": {
                "jupyter": {
                    "outputs_hidden": false
                }
            },
            "outputs": [],
            "source": [
                "np.ones(3)\n"
            ]
        },
        {
            "cell_type": "code",
            "execution_count": null,
            "metadata": {
                "jupyter": {
                    "outputs_hidden": false
                }
            },
            "outputs": [],
            "source": [
                "# pokud chceme 2 a více rozměrů, musíme zadat rozměr jako tuple\n",
                "np.zeros((2, 3))\n"
            ]
        },
        {
            "cell_type": "code",
            "execution_count": null,
            "metadata": {},
            "outputs": [],
            "source": [
                "# matice s string hodnotami pomocí np.full\n",
                "np.full((2, 3), \"hello world\")"
            ]
        },
        {
            "attachments": {},
            "cell_type": "markdown",
            "metadata": {},
            "source": [
                "- **`meshgrid`** je funkce která tvoří pravidelnou mřížku bodů dle dělení v jednotlivých dimenzích \n",
                "- **`mgrid`** je jakási \"zkratka\" pro **`meshgrid`**, jedná se o objek třídy `MGridClass` který má metodu **`__getitem__`** která umožňuje zadání pomocí indexů (např. `mgrid[0:5, 0:5]`) - **velmi nestandardní syntaxe**!\n",
                "    - Navíc: z dokumentace třídy: \"However, if the step length is a **complex number** (e.g. 5j), then\n",
                "    the integer part of its magnitude is interpreted as specifying the\n",
                "    number of points to create between the start and stop values, where\n",
                "    the stop value **is inclusive**.\"\n",
                "    - oproti `mashgrid` jsou argumenty (oddělené čárkou), v jiném pořadí protože osa `x` jsou sloupce a osa `y` jsou řádky (při indexování v `[ ]`)\n",
                "- **`ogrid`** funguje stejně jako **`mgrid`**, ale vrací pouze 1D pole reprezentující hrany mřížky (např. `ogrid[0:5, 0:5]` vrací 2 pole o velikosti 5, které obsahují hodnoty 0, 1, 2, 3, 4)"
            ]
        },
        {
            "cell_type": "code",
            "execution_count": null,
            "metadata": {},
            "outputs": [],
            "source": [
                "# mashgrid\n",
                "x = np.linspace(-1, 1, 4)\n",
                "y = np.linspace(1, 2, 3)\n",
                "X, Y = np.meshgrid(x, y)\n",
                "print(X)\n",
                "print(Y)"
            ]
        },
        {
            "cell_type": "code",
            "execution_count": null,
            "metadata": {
                "jupyter": {
                    "outputs_hidden": false
                }
            },
            "outputs": [],
            "source": [
                "# všimněte si syntaxe s hranatými závorkami, mgrid se nevolá jako funkce\n",
                "X, Y = np.mgrid[0:0.6:0.2, 0:0.6:0.2]\n",
                "print(X)\n",
                "print(Y)\n",
                "Y, X = np.mgrid[1:2:3j, -1:1:4j]\n",
                "print(X)\n",
                "print(Y)"
            ]
        },
        {
            "cell_type": "code",
            "execution_count": null,
            "metadata": {},
            "outputs": [],
            "source": [
                "# výstupy jsou řádkové a sloupcové vektory\n",
                "y, x = np.ogrid[1:2:3j, -1:1:4j]\n",
                "print(x)\n",
                "print(y)\n"
            ]
        },
        {
            "attachments": {},
            "cell_type": "markdown",
            "metadata": {},
            "source": [
                "Náhodná data vytvoří funkce z modulu **`random`**, základní z nich je **`rand`**."
            ]
        },
        {
            "cell_type": "code",
            "execution_count": null,
            "metadata": {
                "jupyter": {
                    "outputs_hidden": false
                }
            },
            "outputs": [],
            "source": [
                "# několik náhodných čísel [0, 1] s rovnoměrným rozdělením\n",
                "print(np.random.rand(4,2))\n",
                "# několik náhodných čísel s normálním rozdělením\n",
                "print(np.random.randn(4,2))\n",
                "# několik náhodných celých čísel\n",
                "print(np.random.randint(0, 10, (4,2)))"
            ]
        },
        {
            "cell_type": "markdown",
            "metadata": {},
            "source": [
                "**`diagflat`** vytvoří diagonální matici, **`diagonal`** vrátí diagonálu matice."
            ]
        },
        {
            "cell_type": "code",
            "execution_count": null,
            "metadata": {
                "jupyter": {
                    "outputs_hidden": false
                }
            },
            "outputs": [],
            "source": [
                "# diagonální matice\n",
                "diag = np.diagflat([1, 2, 3])\n",
                "print(diag)\n"
            ]
        },
        {
            "cell_type": "code",
            "execution_count": null,
            "metadata": {
                "jupyter": {
                    "outputs_hidden": false
                }
            },
            "outputs": [],
            "source": [
                "# vrátí diagonálu jako vektor\n",
                "print(np.diagonal(diag))\n"
            ]
        },
        {
            "attachments": {},
            "cell_type": "markdown",
            "metadata": {},
            "source": [
                "Definované výřezy z manice `triu` a `tril` vrací horní a dolní trojúhelníkovou matici. \n",
                "- parametr `k` určuje, o kolik se má diagonála posunout od hlavní diagonály (k=0 je hlavní diagonála, k>0 je diagonála nad hlavní diagonálou, k<0 je diagonála pod hlavní diagonálou)\n",
                "- pozor na `k` při použití s `tril` a `triu` číslování je absolutní = tj. pokud nám jde o vynechání vedlejší diagonály tak musíme použít `k=1` pro triu a `k=-1` pro tril"
            ]
        },
        {
            "cell_type": "code",
            "execution_count": null,
            "metadata": {},
            "outputs": [],
            "source": [
                "A = np.array([[1, 2, 3], [4, 5, 6], [7, 8, 9]])\n",
                "print(A)\n",
                "print(np.triu(A, k=1))\n",
                "print(np.tril(A, k=1))\n"
            ]
        },
        {
            "attachments": {},
            "cell_type": "markdown",
            "metadata": {},
            "source": [
                "Lepení matic pomocí `concatenate`, `vstack` a `hstack`. Dimenze skrze které lepíme musí být shodné."
            ]
        },
        {
            "cell_type": "code",
            "execution_count": null,
            "metadata": {},
            "outputs": [],
            "source": [
                "A = np.array([[1, 2], [4, 5], [7, 8]])\n",
                "B = np.array([[3, 4], [6, 7], [9, 10]])\n",
                "print(A)\n",
                "print(B)\n",
                "print(\"----\")\n",
                "print(np.concatenate((A, B), axis=0))\n",
                "print(np.concatenate((A, B), axis=1))\n",
                "print(\"----\")\n",
                "print(np.vstack((A, B)))\n",
                "print(np.hstack((A, B)))\n"
            ]
        },
        {
            "attachments": {},
            "cell_type": "markdown",
            "metadata": {},
            "source": [
                "### Opakování numpy polí\n",
                "\n",
                "Na opakování máme funkce `repeat` a `tile`"
            ]
        },
        {
            "cell_type": "code",
            "execution_count": null,
            "metadata": {},
            "outputs": [],
            "source": [
                "a = np.array([[1, 2], [3, 4]])\n",
                "a\n"
            ]
        },
        {
            "cell_type": "code",
            "execution_count": null,
            "metadata": {},
            "outputs": [],
            "source": [
                "# opakování po prvcích\n",
                "np.repeat(a, 3)\n"
            ]
        },
        {
            "cell_type": "code",
            "execution_count": null,
            "metadata": {},
            "outputs": [],
            "source": [
                "# skládání celých polí\n",
                "np.tile(a, (3, 2))\n"
            ]
        },
        {
            "attachments": {},
            "cell_type": "markdown",
            "metadata": {},
            "source": [
                "# Num/y a práce se soubory\n",
                "\n",
                "### ASCII soubory\n",
                "S textovými (ASCII) soubory obsahující data se setkáváme stále často, přestože to z mnoha důvodů není ideální formát. Na čtení ASCII (spadá sem i CSV) máme v Numpy `genfromtxt` a `loadtxt`. V [dokumentaci](http://docs.scipy.org/doc/numpy/reference/routines.io.html) se dozvíte, jak přesně fungují a jaké mají argumenty."
            ]
        },
        {
            "cell_type": "markdown",
            "metadata": {},
            "source": [
                "Pomocí `%%file` vytvoříme soubor `ascii_data_1.txt`"
            ]
        },
        {
            "cell_type": "code",
            "execution_count": null,
            "metadata": {
                "jupyter": {
                    "outputs_hidden": false
                }
            },
            "outputs": [],
            "source": [
                "%%file ascii_data_1.txt\n",
                "1 -6.1 -6.1 -6.1 1\n",
                "2 -15.4 -15.4 -15.4 1\n",
                "3 -15.0 -15.0 -15.0 1\n",
                "4 -19.3 -19.3 -19.3 1\n",
                "5 -16.8 -16.8 -16.8 1\n",
                "6 -11.4 -11.4 -11.4 1\n",
                "7 -7.6 -7.6 -7.6 1\n",
                "8 -7.1 -7.1 -7.1 1\n",
                "9 -10.1 -10.1 -10.1 1\n",
                "10 -9.5 -9.5 -9.5 1\n"
            ]
        },
        {
            "cell_type": "markdown",
            "metadata": {},
            "source": [
                "Nyní se pokusíme soubor načíst pomocí `genfromtxt`."
            ]
        },
        {
            "cell_type": "code",
            "execution_count": null,
            "metadata": {
                "jupyter": {
                    "outputs_hidden": false
                }
            },
            "outputs": [],
            "source": [
                "data = np.genfromtxt('ascii_data_1.txt')\n",
                "print(data)\n"
            ]
        },
        {
            "cell_type": "markdown",
            "metadata": {},
            "source": [
                "`loadtxt` by mělo fungovat také:"
            ]
        },
        {
            "cell_type": "code",
            "execution_count": null,
            "metadata": {
                "jupyter": {
                    "outputs_hidden": false
                }
            },
            "outputs": [],
            "source": [
                "data = np.loadtxt('ascii_data_1.txt')\n",
                "print(data)"
            ]
        },
        {
            "attachments": {},
            "cell_type": "markdown",
            "metadata": {},
            "source": [
                "`savetxt` můžeme použít na uložení\n",
                "- parametr `fmt` určuje formát, který se použije pro uložení dat\n",
                " - např. `fmt=\"%.2f\"` uloží data s 2 desetinnými místy\n",
                " - např. `fmt=\"%6g\"` uloží data s prázdnými místy doplněnými nulami na 6 míst"
            ]
        },
        {
            "cell_type": "code",
            "execution_count": null,
            "metadata": {
                "jupyter": {
                    "outputs_hidden": false
                }
            },
            "outputs": [],
            "source": [
                "np.savetxt(\"ascii_data_1_new.txt\", np.random.rand(5,3), fmt=\"%.2f\")\n",
                "np.savetxt(\"ascii_data_2_new.txt\", data, fmt=\"%6g\")\n"
            ]
        },
        {
            "cell_type": "markdown",
            "metadata": {},
            "source": [
                "Soubor můžeme vypsat:"
            ]
        },
        {
            "cell_type": "code",
            "execution_count": null,
            "metadata": {},
            "outputs": [],
            "source": [
                "%less ascii_data_1_new.txt\n"
            ]
        },
        {
            "cell_type": "code",
            "execution_count": null,
            "metadata": {},
            "outputs": [],
            "source": [
                "%less ascii_data_2_new.txt\n"
            ]
        },
        {
            "attachments": {},
            "cell_type": "markdown",
            "metadata": {},
            "source": [
                "Obecně se snažte textovým souborům (včetně csv apod.) pro numerická data vyhýbat. Jejich formát je vždy do značné míry neurčitý a na disku zabírají zbytečně moc místa. Výhodou je pouze jednoduchost zobrazení v textovém editoru nebo příkazové řadce."
            ]
        },
        {
            "attachments": {},
            "cell_type": "markdown",
            "metadata": {},
            "source": [
                "### Binární formáty\n",
                "\n",
                "Pro numerická data se daleko více hodí binární soubory, které jsou dobře definované a úsporné na místo. Pokud použijeme vhodný a rozšířený formát, nemusíme se bát ani přenositelnosti.\n",
                "\n",
                "Numpy má vlastní NPY formát. Ten je pochopitelně jednoduchý na používání v NumPy, s přenositelností (pro neuživatele Pythonu a obecně další systémy) je to ale už horší. Pomocí `save` a `load` můžete jednoduše ukládat a nahrávat Numpy objekty."
            ]
        },
        {
            "cell_type": "code",
            "execution_count": null,
            "metadata": {
                "jupyter": {
                    "outputs_hidden": false
                }
            },
            "outputs": [],
            "source": [
                "np.save(\"binary_data_1_new.npy\", np.random.rand(5,3))\n"
            ]
        },
        {
            "cell_type": "code",
            "execution_count": null,
            "metadata": {
                "jupyter": {
                    "outputs_hidden": false
                }
            },
            "outputs": [],
            "source": [
                "data = np.load(\"binary_data_1_new.npy\")\n",
                "print(data)"
            ]
        },
        {
            "cell_type": "code",
            "execution_count": null,
            "metadata": {},
            "outputs": [],
            "source": [
                "# pojďmě porovnat kolik místa zabírají jednotlivé soubory\n",
                "data = np.random.rand(100, 100)\n",
                "np.save(\"binary_data_1_new.npy\", data)\n",
                "np.savetxt(\"ascii_data_1_new.txt\", data)\n",
                "%ls -l"
            ]
        },
        {
            "attachments": {},
            "cell_type": "markdown",
            "metadata": {},
            "source": [
                "## HDF5 formát\n",
                "Velice dobrým a rozšířeným standardem je pak [HDF5](https://www.hdfgroup.org/solutions/hdf5/). Pro Python je jednoduché tento foromát používat pomocí knihovny [h5py](https://www.h5py.org/)."
            ]
        },
        {
            "cell_type": "code",
            "execution_count": null,
            "metadata": {},
            "outputs": [],
            "source": [
                "# pokud nemáte h5py nainstalované, můžete jednoduše nainstalovat přímo z notebooku momocí\n",
                "# %conda install h5py\n",
                "# nebo pokud používáte pip prostředí\n",
                "# %pip install h5py\n"
            ]
        },
        {
            "cell_type": "code",
            "execution_count": null,
            "metadata": {},
            "outputs": [],
            "source": [
                "# můžete instalovat přímo z notebooku, stačí odstranit komentář\n",
                "# !pip install h5py -U"
            ]
        },
        {
            "cell_type": "code",
            "execution_count": null,
            "metadata": {},
            "outputs": [],
            "source": [
                "import h5py\n"
            ]
        },
        {
            "cell_type": "markdown",
            "metadata": {},
            "source": [
                "V HDF5 souborech jsou data ve stromové struktuře (obdoba aresářů a souborů). Soubor se dvěma datasety můžeme vytvořit např. takto:"
            ]
        },
        {
            "cell_type": "code",
            "execution_count": null,
            "metadata": {},
            "outputs": [],
            "source": [
                "data_pole = np.array([[1, 2, 3], [4, 5, 6], [7, 8, 9]], dtype=np.int32)\n",
                "data_binary = np.array([True, False, True, False, True, False], dtype=bool)\n",
                "with h5py.File(\"test_hdf5.h5\", \"w\") as hdf5_file:\n",
                "    hdf5_file.create_dataset(\"data1\", data=data_pole)\n",
                "    hdf5_file.create_dataset(\"data_nahodne\", data=np.random.random_sample((3, 4)))\n",
                "    hdf5_file.create_dataset(\"data_binarni\", data=data_binary)\n"
            ]
        },
        {
            "cell_type": "code",
            "execution_count": null,
            "metadata": {},
            "outputs": [],
            "source": [
                "with h5py.File(\"test_hdf5.h5\", \"r\") as hdf5_file:\n",
                "    data_hdf5 = hdf5_file[\"data1\"]\n",
                "    print(data_hdf5)\n",
                "    # musíme data \"nahrát\" pomocí [:], jinak by byl výsledek jen \"ukazatel\" na data\n",
                "    data_pole = hdf5_file[\"data1\"][:]\n",
                "    data_binary = hdf5_file[\"data_binarni\"][:]\n",
                "    data_nahodne = hdf5_file[\"data_nahodne\"][:]\n",
                "\n"
            ]
        },
        {
            "cell_type": "code",
            "execution_count": null,
            "metadata": {},
            "outputs": [],
            "source": [
                "# \"ukazatel\" na data přestane fungovat, pokud soubor zavřeme\n",
                "data_hdf5\n"
            ]
        },
        {
            "attachments": {},
            "cell_type": "markdown",
            "metadata": {},
            "source": [
                "Jelikož v HDF5 souboru může být velké množství dat (mnoho datasetů, velká data), je čtení dat z HDF5 \"lazy\": Dokud data opravdu nepotřebujeme v paměti (např. v NumPy poli), data zůstávají jen v souboru a v paměti máme jen jejich popis, jakýsi ukazatel na data."
            ]
        },
        {
            "attachments": {},
            "cell_type": "markdown",
            "metadata": {},
            "source": [
                "# Práce s NumPy poli\n"
            ]
        },
        {
            "attachments": {},
            "cell_type": "markdown",
            "metadata": {},
            "source": [
                "## Indexování a řezání\n",
                "Řezání (tzv. slicing) jsme si již ukazovali při indexaci Listů. V NumPy polích funguje stejně. "
            ]
        },
        {
            "cell_type": "code",
            "execution_count": null,
            "metadata": {},
            "outputs": [],
            "source": [
                "vector = np.linspace(0, 3, 7)\n",
                "print(vector)\n",
                "print(vector[1])\n",
                "print(vector[1:4])\n",
                "print(vector[1:4:2])\n"
            ]
        },
        {
            "attachments": {},
            "cell_type": "markdown",
            "metadata": {},
            "source": [
                "Pokud máme více dimenzionální pole (ndarray), adresujeme jednotlivé dimenze pomocí čárky. Např. `a[1,2]` je prvek na druhém řádku a třetím sloupci (indexujeme od 0)."
            ]
        },
        {
            "cell_type": "code",
            "execution_count": null,
            "metadata": {},
            "outputs": [],
            "source": [
                "matrix = np.array([[1, 2, 3], [4, 5, 6], [7, 8, 9]])\n",
                "print(matrix)\n",
                "print(matrix[0, 1])\n",
                "print(matrix[0, :])\n",
                "print(matrix[:, 1])\n",
                "\n"
            ]
        },
        {
            "attachments": {},
            "cell_type": "markdown",
            "metadata": {},
            "source": [
                "Pokud indexujeme výběr jak v řádcích, tak v sloupcích, dostáváme výřez, který splňuje obě podmínky."
            ]
        },
        {
            "cell_type": "code",
            "execution_count": null,
            "metadata": {
                "jupyter": {
                    "outputs_hidden": false
                }
            },
            "outputs": [],
            "source": [
                "print(matrix[0:2, 1:3])\n"
            ]
        },
        {
            "attachments": {},
            "cell_type": "markdown",
            "metadata": {},
            "source": [
                "Pokud jeden index vynecháme, vrátí numpy N-1 rozměrný řez - zde vrací řádek:"
            ]
        },
        {
            "cell_type": "code",
            "execution_count": null,
            "metadata": {
                "jupyter": {
                    "outputs_hidden": false
                }
            },
            "outputs": [],
            "source": [
                "matrix[1]\n"
            ]
        },
        {
            "cell_type": "markdown",
            "metadata": {},
            "source": [
                "Toho samého docílíme pomocí `:`"
            ]
        },
        {
            "cell_type": "code",
            "execution_count": null,
            "metadata": {
                "jupyter": {
                    "outputs_hidden": false
                }
            },
            "outputs": [],
            "source": [
                "matrix[1, :]\n"
            ]
        },
        {
            "cell_type": "markdown",
            "metadata": {},
            "source": [
                "První sloupec:"
            ]
        },
        {
            "cell_type": "code",
            "execution_count": null,
            "metadata": {
                "jupyter": {
                    "outputs_hidden": false
                }
            },
            "outputs": [],
            "source": [
                "matrix[:, 1]\n"
            ]
        },
        {
            "cell_type": "code",
            "execution_count": null,
            "metadata": {},
            "outputs": [],
            "source": [
                "matrix[:]"
            ]
        },
        {
            "cell_type": "markdown",
            "metadata": {},
            "source": [
                "Můžeme také přiřazovat honoty do indexovaných polí."
            ]
        },
        {
            "cell_type": "code",
            "execution_count": null,
            "metadata": {
                "jupyter": {
                    "outputs_hidden": false
                }
            },
            "outputs": [],
            "source": [
                "matrix[0, 0] = -10\n",
                "print(matrix)\n"
            ]
        },
        {
            "attachments": {},
            "cell_type": "markdown",
            "metadata": {},
            "source": [
                "Funguje to i pro více prvků, pak máme dvě možnosti:\n",
                "- přiřadíme hodnotu, která se bude všude vyskytovat\n",
                "- přiřadíme pole stejných rozměrů jako je výřez"
            ]
        },
        {
            "cell_type": "code",
            "execution_count": null,
            "metadata": {
                "jupyter": {
                    "outputs_hidden": false
                }
            },
            "outputs": [],
            "source": [
                "matrix[1, :] = 0\n",
                "print(matrix)\n"
            ]
        },
        {
            "cell_type": "code",
            "execution_count": null,
            "metadata": {},
            "outputs": [],
            "source": [
                "matrix[:, 2] = np.array([1, 2, 3])\n",
                "print(matrix)"
            ]
        },
        {
            "attachments": {},
            "cell_type": "markdown",
            "metadata": {},
            "source": [
                "### Další možnosti řezání\n",
                "Zatím jsme si ukázali řezání v syntaxi `a[od:do:step]`, kde jsme uvažovali každý z parametrů jako celé kladné číslo. Řezy však umožňují i využití záporných čísel. Například:\n",
                "- `a[-1]` je poslední prvek\n",
                "- `a[-2]` je předposlední prvek\n",
                "- `a[:-1]` je vše kromě posledního prvku\n",
                "Déle můžeme uvažovat také záporné kroky, např. `a[::-1]` je všechny prvky v opačném pořadí.\n",
                "**Toto funguje i pro Listy.**"
            ]
        },
        {
            "cell_type": "code",
            "execution_count": null,
            "metadata": {},
            "outputs": [],
            "source": [
                "vector = np.arange(1, 10)\n",
                "print(vector[-1])\n",
                "print(vector[-3:])\n",
                "print(vector[::-1])\n",
                "print(vector[-5::-1])"
            ]
        },
        {
            "attachments": {},
            "cell_type": "markdown",
            "metadata": {},
            "source": [
                "### Indexace pomocí seznamu indexů a masek\n",
                "Pro řezy můžeme použít nejen čísla nebo Slice, ale také přímo pole s indexy prvků, které chceme vybrat."
            ]
        },
        {
            "cell_type": "code",
            "execution_count": null,
            "metadata": {
                "jupyter": {
                    "outputs_hidden": false
                }
            },
            "outputs": [],
            "source": [
                "vector = np.arange(1, 10)\n",
                "vyber = np.array([5, 2, 1, 8])\n",
                "print(vector)\n",
                "print(vector[vyber])\n"
            ]
        },
        {
            "attachments": {},
            "cell_type": "markdown",
            "metadata": {},
            "source": [
                "Tento list může obsahovat také záporné indexy, ty se pak počítají od konce pole. Indexy se samozřejmě mohou opakovat."
            ]
        },
        {
            "cell_type": "code",
            "execution_count": null,
            "metadata": {},
            "outputs": [],
            "source": [
                "vyber = np.array([-3, -2, -1, 6, 7, 8])\n",
                "print(vector)\n",
                "print(vector[vyber])"
            ]
        },
        {
            "attachments": {},
            "cell_type": "markdown",
            "metadata": {},
            "source": [
                "Pokud ale indexace obsahuje index mimo rozsah, dostaneme chybu."
            ]
        },
        {
            "cell_type": "code",
            "execution_count": null,
            "metadata": {},
            "outputs": [],
            "source": [
                "vyber = np.array([1, 2, 10])\n",
                "print(vector)\n",
                "print(vector[vyber])"
            ]
        },
        {
            "attachments": {},
            "cell_type": "markdown",
            "metadata": {},
            "source": [
                "Totéž funguje v případě indexace matice."
            ]
        },
        {
            "cell_type": "code",
            "execution_count": null,
            "metadata": {
                "jupyter": {
                    "outputs_hidden": false
                }
            },
            "outputs": [],
            "source": [
                "matrix = np.array([[1, 2, 3], [4, 5, 6], [7, 8, 9]])\n",
                "vyber_x = np.array([0, 1, 2])\n",
                "vyber_y = np.array([1, 2, 0])\n",
                "print(matrix)\n",
                "print(\"---\")\n",
                "print(matrix[vyber_x, vyber_y])\n"
            ]
        },
        {
            "attachments": {},
            "cell_type": "markdown",
            "metadata": {},
            "source": [
                "Všimněte si, že výběrem nebyla matice, ale pouze vektor obsahující indexované prvky dle jejich x,y souřadnic.\n",
                "\n",
                "Tedy indexační vektory musí mít stejný počet prvků."
            ]
        },
        {
            "cell_type": "code",
            "execution_count": null,
            "metadata": {},
            "outputs": [],
            "source": [
                "vyber_x = np.array([0, 1, 2])\n",
                "vyber_y = np.array([1, 0])\n",
                "print(matrix[vyber_x, vyber_y])\n"
            ]
        },
        {
            "attachments": {},
            "cell_type": "markdown",
            "metadata": {},
            "source": [
                "#### Maskování\n",
                "Můžeme také použít **maskování**. Tedy indexovat pole pomocí pole hodnot True/False o stejném rozměru jako je:\n",
                "- původní pole\n",
                "- jedna z dimenzí původního pole \n",
                "\n",
                "Výsledkem je vektor obsahující pouze prvky (těmi v druhém případě ale mohou být i řádky nebo sloupce), které odpovídají hodnotě True v masce."
            ]
        },
        {
            "cell_type": "code",
            "execution_count": null,
            "metadata": {
                "jupyter": {
                    "outputs_hidden": false
                }
            },
            "outputs": [],
            "source": [
                "matrix = np.array([[1, 2, 3], [4, 5, 6], [7, 8, 9]])\n",
                "mask = np.array([[True, False, True], [False, True, False], [True, False, True]])\n",
                "print(mask)\n",
                "print(matrix[mask])\n"
            ]
        },
        {
            "cell_type": "code",
            "execution_count": null,
            "metadata": {},
            "outputs": [],
            "source": [
                "mask = np.array([True, False, True])\n",
                "print(matrix[mask, :])\n",
                "print(matrix[:, mask])"
            ]
        },
        {
            "attachments": {},
            "cell_type": "markdown",
            "metadata": {},
            "source": [
                "# NumPy View a kopie\n",
                "Při indexování a řezání můžeme přiřadit výřez do nové proměnné. NumPy však \"standardní\" řezy reprezentuje jako tzv. **view** na původní pole. To znamená, že nová proměnná obsahující řez původního pole ukazuje na stejná data v paměti. A tedy pokud změníme data v nové proměnné, změní se i data v původním poli.\n"
            ]
        },
        {
            "cell_type": "code",
            "execution_count": null,
            "metadata": {},
            "outputs": [],
            "source": [
                "A = np.array([[1, 2, 3], [4, 5, 6], [7, 8, 9]])\n",
                "B = A[:1,1:]\n",
                "print(A)\n",
                "print(B)\n",
                "B[:,:] = -1\n",
                "print(A)\n",
                "print(B)"
            ]
        },
        {
            "cell_type": "markdown",
            "metadata": {},
            "source": [
                "\n",
                "Toto může být mnohdy velice užitečné. Potlačit to můžeme vždy pomocí metody `copy`.\n",
                "\n",
                "**Né všechny metody výběru dat z matice však vrací view.**\n",
                "Řezání pomocí `:` typicky vrací view. Kdežto řezání pomocí seznamu indexů vrací kopii. To zda vrací view nebo kopii lze zjistit pomocí atributu `flags` a jeho atributu `OWNDATA`.\n",
                "\n",
                "To zda ndarray s flagem `OWNDATA : False` sdílí data s jiným ndarray objektem lze zjistit pomocí atributu `base`, který vrátí ndarray objekt, který je zdrojem dat."
            ]
        },
        {
            "cell_type": "code",
            "execution_count": null,
            "metadata": {},
            "outputs": [],
            "source": [
                "A = np.array([[1, 2, 3], [4, 5, 6], [7, 8, 9]])\n",
                "B = A[:1,1:]\n",
                "print(A.flags)\n",
                "print(B.flags)"
            ]
        },
        {
            "cell_type": "code",
            "execution_count": null,
            "metadata": {},
            "outputs": [],
            "source": [
                "print(id(A))\n",
                "print(id(B.base))\n",
                "print(A is B.base)"
            ]
        },
        {
            "attachments": {},
            "cell_type": "markdown",
            "metadata": {},
            "source": [
                "Pokud si nejsme jisti, zda použitá indexace vrací view nebo kopii, je dobré konzultovat dokumentaci NumPy viz [tady](https://docs.scipy.org/doc/numpy/reference/arrays.indexing.html), nebo si to ověřit na testovacím kódu pomocí `base` a `flags`."
            ]
        },
        {
            "cell_type": "code",
            "execution_count": null,
            "metadata": {},
            "outputs": [],
            "source": [
                "A = np.array([[1, 2, 3], [4, 5, 6], [7, 8, 9]])\n",
                "print(id(A))\n",
                "mask = np.array([True, False, True])\n",
                "# slicing\n",
                "B = A[:,1]\n",
                "print(\"Slicing: \", id(B.base))\n",
                "# masking\n",
                "B = A[mask, :]\n",
                "print(\"Masking: \", id(B.base))\n",
                "# fancy indexing\n",
                "B = A[:, [1]]\n",
                "print(\"Fancy indexing: \", id(B.base))\n",
                "# diag\n",
                "B = np.diag(A, k=-1)\n",
                "print(\"Diag: \", id(B.base))\n",
                "# triu/tril\n",
                "B = np.triu(A)\n",
                "print(\"Triu: \", id(B.base))"
            ]
        },
        {
            "attachments": {},
            "cell_type": "markdown",
            "metadata": {},
            "source": [
                "# Lineární algebra\n",
                "Numpy dokáže velice obratně a efektivně pracovat s vektory, maticemi a n-dimenzionálními poli obecně. Toho je potřeba využívat a kdekoli to je možné použít *vektorizovaný kód*, tj. co nejvíce formulovat úlohy pomocí vektorových a maticových operací, jako jsou např. násobení matic."
            ]
        },
        {
            "cell_type": "markdown",
            "metadata": {},
            "source": [
                "### Operace se skaláry\n",
                "Jak bychom asi očekávali, skalárem můžeme násobit, dělit, můžeme ho přičítat nebo odečítat."
            ]
        },
        {
            "cell_type": "code",
            "execution_count": null,
            "metadata": {
                "jupyter": {
                    "outputs_hidden": false
                }
            },
            "outputs": [],
            "source": [
                "v1 = np.arange(0, 5)\n"
            ]
        },
        {
            "cell_type": "code",
            "execution_count": null,
            "metadata": {
                "jupyter": {
                    "outputs_hidden": false
                }
            },
            "outputs": [],
            "source": [
                "v1 * 2\n"
            ]
        },
        {
            "cell_type": "code",
            "execution_count": null,
            "metadata": {
                "jupyter": {
                    "outputs_hidden": false
                }
            },
            "outputs": [],
            "source": [
                "v1 + 2\n"
            ]
        },
        {
            "cell_type": "code",
            "execution_count": null,
            "metadata": {
                "jupyter": {
                    "outputs_hidden": false
                }
            },
            "outputs": [],
            "source": [
                "np.ones((3, 3)) / 4\n"
            ]
        },
        {
            "attachments": {},
            "cell_type": "markdown",
            "metadata": {},
            "source": [
                "## Maticové operace po prvcích\n",
                "Operace jako násobení, sčítání atd. jsou v numpy standardně *po prvcích*, není to tedy klasická maticová (vektorová) algebra."
            ]
        },
        {
            "cell_type": "code",
            "execution_count": null,
            "metadata": {},
            "outputs": [],
            "source": [
                "m1 = np.array([[n + m * 10 for n in range(5)] for m in range(5)])\n",
                "m1\n"
            ]
        },
        {
            "cell_type": "code",
            "execution_count": null,
            "metadata": {
                "jupyter": {
                    "outputs_hidden": false
                }
            },
            "outputs": [],
            "source": [
                "m1 * m1\n"
            ]
        },
        {
            "cell_type": "code",
            "execution_count": null,
            "metadata": {
                "jupyter": {
                    "outputs_hidden": false
                }
            },
            "outputs": [],
            "source": [
                "v1 * v1\n"
            ]
        },
        {
            "attachments": {},
            "cell_type": "markdown",
            "metadata": {},
            "source": [
                "## Broadcasting\n",
                "Termín `Broadcasting` popisuje, jak NumPy zachází s poli s různými tvary během aritmetických operací. S výhradou určitých omezení je menší pole „vysíláno“ přes větší pole, takže mají kompatibilní tvary. Broadcasting poskytuje prostředky pro vektorizaci operací pole tak, aby smyčkování probíhalo v C namísto Pythonu. Dělá to bez vytváření zbytečných kopií dat a obvykle vede k efektivní implementaci algoritmů.\n",
                "\n",
                "Podrobnější popis broadcastingu je v dokumentaci NumPy viz [tady](https://docs.scipy.org/doc/numpy/user/basics.broadcasting.html)."
            ]
        },
        {
            "cell_type": "code",
            "execution_count": null,
            "metadata": {
                "jupyter": {
                    "outputs_hidden": false
                }
            },
            "outputs": [],
            "source": [
                "v1.shape, m1.shape\n"
            ]
        },
        {
            "cell_type": "markdown",
            "metadata": {},
            "source": [
                "Výsledek bude mít rozměr `m1.shape`"
            ]
        },
        {
            "cell_type": "code",
            "execution_count": null,
            "metadata": {
                "jupyter": {
                    "outputs_hidden": false
                }
            },
            "outputs": [],
            "source": [
                "m1 * v1\n"
            ]
        },
        {
            "cell_type": "markdown",
            "metadata": {},
            "source": [
                "## Maticová algebra\n",
                "Klasickou maticovou algebru zajišťuje pro pole typu `ndarray` funkce `dot` nebo operátor `@` ([PEP-465](https://www.python.org/dev/peps/pep-0465/)):"
            ]
        },
        {
            "cell_type": "code",
            "execution_count": null,
            "metadata": {},
            "outputs": [],
            "source": [
                "v1 = np.arange(0, 5)\n",
                "m1 = np.array([[n + m * 10 for n in range(5)] for m in range(5)])\n",
                "print(v1)\n",
                "print(m1)\n"
            ]
        },
        {
            "cell_type": "code",
            "execution_count": null,
            "metadata": {
                "jupyter": {
                    "outputs_hidden": false
                }
            },
            "outputs": [],
            "source": [
                "# maticové násobení dvou matic\n",
                "np.dot(m1, m1)\n"
            ]
        },
        {
            "cell_type": "code",
            "execution_count": null,
            "metadata": {},
            "outputs": [],
            "source": [
                "m1 @ m1\n"
            ]
        },
        {
            "cell_type": "code",
            "execution_count": null,
            "metadata": {
                "jupyter": {
                    "outputs_hidden": false
                }
            },
            "outputs": [],
            "source": [
                "# maticové násobení vektoru a matice\n",
                "np.dot(m1, v1)\n"
            ]
        },
        {
            "cell_type": "code",
            "execution_count": null,
            "metadata": {
                "jupyter": {
                    "outputs_hidden": false
                }
            },
            "outputs": [],
            "source": [
                "# skalární součin\n",
                "v1 @ v1\n"
            ]
        },
        {
            "cell_type": "markdown",
            "metadata": {},
            "source": [
                "## Transformace\n",
                "Už jsme viděli `.T` pro transponování. Existuje také funkce a metoda `transpose`. Dále existuje třeba `conjugate` pro komplexní sdružení."
            ]
        },
        {
            "cell_type": "code",
            "execution_count": null,
            "metadata": {},
            "outputs": [],
            "source": [
                "A = np.array([[1, 2, 3], [4, 5, 6], [7, 8, 9]])\n",
                "print(A.T)\n",
                "print(A.transpose())\n",
                "print(np.transpose(A))"
            ]
        },
        {
            "cell_type": "code",
            "execution_count": null,
            "metadata": {},
            "outputs": [],
            "source": [
                "# transpozice je \"view\"\n",
                "print(id(A))\n",
                "B = A.T\n",
                "print(id(B.base))"
            ]
        },
        {
            "cell_type": "code",
            "execution_count": null,
            "metadata": {
                "jupyter": {
                    "outputs_hidden": false
                }
            },
            "outputs": [],
            "source": [
                "C = np.array([[1j, 2j], [3j, 4j]])\n",
                "C\n"
            ]
        },
        {
            "cell_type": "code",
            "execution_count": null,
            "metadata": {
                "jupyter": {
                    "outputs_hidden": false
                }
            },
            "outputs": [],
            "source": [
                "np.conjugate(C)      # nebo C.conjugate()\n"
            ]
        },
        {
            "cell_type": "code",
            "execution_count": null,
            "metadata": {
                "jupyter": {
                    "outputs_hidden": false
                }
            },
            "outputs": [],
            "source": [
                "# Hermitovské sdružení\n",
                "C.conjugate().T\n"
            ]
        },
        {
            "cell_type": "code",
            "execution_count": null,
            "metadata": {},
            "outputs": [],
            "source": [
                "# Hermitovské sdružení není! \"view\" kvůli conjugate()\n",
                "print(id(C))\n",
                "B = C.conjugate()\n",
                "print(id(B.base))"
            ]
        },
        {
            "cell_type": "markdown",
            "metadata": {},
            "source": [
                "Reálnou a imaginární část dostaneme pomocí `real` a `imag` nebo `.real` a `.imag` properties:"
            ]
        },
        {
            "cell_type": "code",
            "execution_count": null,
            "metadata": {
                "jupyter": {
                    "outputs_hidden": false
                }
            },
            "outputs": [],
            "source": [
                "np.real(C)\n"
            ]
        },
        {
            "cell_type": "code",
            "execution_count": null,
            "metadata": {
                "jupyter": {
                    "outputs_hidden": false
                }
            },
            "outputs": [],
            "source": [
                "C.imag\n"
            ]
        },
        {
            "cell_type": "markdown",
            "metadata": {},
            "source": [
                "Komplexní číslo rozložíme na absolutní hodnotu a úhel pomocí `abs` a `angle`."
            ]
        },
        {
            "cell_type": "code",
            "execution_count": null,
            "metadata": {
                "jupyter": {
                    "outputs_hidden": false
                }
            },
            "outputs": [],
            "source": [
                "print(np.angle(C))\n",
                "# výsledek je v radiánech a všechny hodnoty byly čistě komplexní\n",
                "print(np.angle(C+1))\n"
            ]
        },
        {
            "cell_type": "code",
            "execution_count": null,
            "metadata": {
                "jupyter": {
                    "outputs_hidden": false
                }
            },
            "outputs": [],
            "source": [
                "np.abs(C + 1)\n"
            ]
        },
        {
            "cell_type": "markdown",
            "metadata": {},
            "source": [
                "## Základní funkce lineární algebry"
            ]
        },
        {
            "cell_type": "markdown",
            "metadata": {},
            "source": [
                "V Numpy existuje modul `linalg`. Pokročilejší lineární algebru je ale třeba hledat jinde, např. ve SciPy. \n",
                "\n",
                "Invertovat matici můžeme pomocí `linalg.inv`."
            ]
        },
        {
            "cell_type": "code",
            "execution_count": null,
            "metadata": {},
            "outputs": [],
            "source": [
                "m2 = np.array([[1., 1.5], [-1, 2]])\n",
                "m2\n"
            ]
        },
        {
            "cell_type": "code",
            "execution_count": null,
            "metadata": {},
            "outputs": [],
            "source": [
                "np.linalg.inv(m2)\n"
            ]
        },
        {
            "cell_type": "code",
            "execution_count": null,
            "metadata": {
                "jupyter": {
                    "outputs_hidden": false
                }
            },
            "outputs": [],
            "source": [
                "# toto by měla být jednotková matice\n",
                "np.linalg.inv(m2) @ m2\n"
            ]
        },
        {
            "cell_type": "markdown",
            "metadata": {},
            "source": [
                "`linalg.det` vypočítá determinant."
            ]
        },
        {
            "cell_type": "code",
            "execution_count": null,
            "metadata": {
                "jupyter": {
                    "outputs_hidden": false
                }
            },
            "outputs": [],
            "source": [
                "np.linalg.det(m2)\n"
            ]
        },
        {
            "attachments": {},
            "cell_type": "markdown",
            "metadata": {},
            "source": [
                "## Zpracování dat\n",
                "\n",
                "Numpy obsahuje mnoho funkcí pro zpracování dat. Některé z nich jsou:\n",
                "- `np.sort` - seřadí pole\n",
                "- `np.unique` - vrátí unikátní prvky pole\n",
                "- `np.mean` - vypočítá průměr\n",
                "- `np.std` - vypočítá směrodatnou odchylku\n",
                "- `np.sum` - vypočítá součet\n",
                "- `np.cumsum` - vypočítá kumulativní součet\n",
                "- `np.prod` - vypočítá součin\n",
                "- `np.cumprod` - vypočítá kumulativní součin\n",
                "- `np.diff` - vypočítá rozdíly mezi sousedními prvky\n",
                "- ... a mnoho dalších viz [matematické funkce](https://docs.scipy.org/doc/numpy/reference/routines.math.html) a [statistické funcke](https://docs.scipy.org/doc/numpy/reference/routines.statistics.html) "
            ]
        },
        {
            "cell_type": "code",
            "execution_count": null,
            "metadata": {
                "jupyter": {
                    "outputs_hidden": false
                }
            },
            "outputs": [],
            "source": [
                "data = np.random.randint(0, 20, (15))\n",
                "print(data)\n"
            ]
        },
        {
            "attachments": {},
            "cell_type": "markdown",
            "metadata": {},
            "source": [
                "Setřízené a unikátní prvky pole získáme pomocí `np.sort` a `np.unique`."
            ]
        },
        {
            "cell_type": "code",
            "execution_count": null,
            "metadata": {},
            "outputs": [],
            "source": [
                "print(np.sort(data))\n",
                "print(np.unique(data))\n",
                "# pokud bychom chtěli indexy setříděných prvků\n",
                "print(np.argsort(data))\n"
            ]
        },
        {
            "cell_type": "markdown",
            "metadata": {},
            "source": [
                "#### mean (aritmetický průměr)"
            ]
        },
        {
            "cell_type": "code",
            "execution_count": null,
            "metadata": {
                "jupyter": {
                    "outputs_hidden": false
                }
            },
            "outputs": [],
            "source": [
                "print(np.mean(data))"
            ]
        },
        {
            "attachments": {},
            "cell_type": "markdown",
            "metadata": {},
            "source": [
                "#### směrodatná odchylka a rozptyl"
            ]
        },
        {
            "cell_type": "code",
            "execution_count": null,
            "metadata": {
                "jupyter": {
                    "outputs_hidden": false
                }
            },
            "outputs": [],
            "source": [
                "print(np.std(data))\n",
                "print(np.var(data))\n"
            ]
        },
        {
            "cell_type": "markdown",
            "metadata": {},
            "source": [
                "#### min a max"
            ]
        },
        {
            "cell_type": "code",
            "execution_count": null,
            "metadata": {
                "jupyter": {
                    "outputs_hidden": false
                }
            },
            "outputs": [],
            "source": [
                "print(data.min())\n",
                "print(data.max())\n"
            ]
        },
        {
            "cell_type": "markdown",
            "metadata": {},
            "source": [
                "#### sum, prod, trace"
            ]
        },
        {
            "cell_type": "code",
            "execution_count": null,
            "metadata": {
                "jupyter": {
                    "outputs_hidden": false
                }
            },
            "outputs": [],
            "source": [
                "print(np.sum(data))\n",
                "print(np.prod(data))\n"
            ]
        },
        {
            "cell_type": "code",
            "execution_count": null,
            "metadata": {
                "jupyter": {
                    "outputs_hidden": false
                }
            },
            "outputs": [],
            "source": [
                "# lze dělat i řádkové a sloupcové součty\n",
                "A = np.array([[1, 2, 3], [4, 5, 6], [7, 8, 9]])\n",
                "print(A)\n",
                "print(np.sum(A, axis=0))\n",
                "print(np.sum(A, axis=1))\n"
            ]
        },
        {
            "cell_type": "code",
            "execution_count": null,
            "metadata": {},
            "outputs": [],
            "source": [
                "# stopa matice = součet prvků na diagonále\n",
                "print(np.trace(A))"
            ]
        },
        {
            "cell_type": "code",
            "execution_count": null,
            "metadata": {},
            "outputs": [],
            "source": [
                "print(data)"
            ]
        },
        {
            "cell_type": "code",
            "execution_count": null,
            "metadata": {
                "jupyter": {
                    "outputs_hidden": false
                }
            },
            "outputs": [],
            "source": [
                "# kumulativní součet\n",
                "np.cumsum(data)\n"
            ]
        },
        {
            "cell_type": "code",
            "execution_count": null,
            "metadata": {
                "jupyter": {
                    "outputs_hidden": false
                }
            },
            "outputs": [],
            "source": [
                "# kumulativní násobení\n",
                "np.cumprod(data)\n"
            ]
        },
        {
            "attachments": {},
            "cell_type": "markdown",
            "metadata": {},
            "source": [
                "# Změny rozměrů polí\n",
                "\n",
                "Rozměr Numpy polí může být měněn bez kopírování samotných dat, což výrazně tyto operace zrychluje.\n",
                "\n",
                "Tedy je možné udělat novou proměnnou typu ndarray jakožto \"view\" na původní data, ale s jiným rozměrem."
            ]
        },
        {
            "cell_type": "code",
            "execution_count": null,
            "metadata": {
                "jupyter": {
                    "outputs_hidden": false
                }
            },
            "outputs": [],
            "source": [
                "m1 = np.array([[1, 2, 3], [4, 5, 6], [7, 8, 9]])\n",
                "print(m1)"
            ]
        },
        {
            "cell_type": "code",
            "execution_count": null,
            "metadata": {
                "jupyter": {
                    "outputs_hidden": false
                }
            },
            "outputs": [],
            "source": [
                "n, m = m1.shape\n",
                "print(m,n)"
            ]
        },
        {
            "attachments": {},
            "cell_type": "markdown",
            "metadata": {},
            "source": [
                "Např. takto můžeme vytvořit jednorozměrné pole (řádkový vektor):"
            ]
        },
        {
            "cell_type": "code",
            "execution_count": null,
            "metadata": {
                "jupyter": {
                    "outputs_hidden": false
                }
            },
            "outputs": [],
            "source": [
                "m2 = m1.reshape((1, n * m))\n",
                "print(m2)\n",
                "print(m2.shape)"
            ]
        },
        {
            "cell_type": "markdown",
            "metadata": {},
            "source": [
                "Nebo použít -1 pro automatické dopočítání"
            ]
        },
        {
            "cell_type": "code",
            "execution_count": null,
            "metadata": {},
            "outputs": [],
            "source": [
                "m1.reshape((1, -1))\n"
            ]
        },
        {
            "attachments": {},
            "cell_type": "markdown",
            "metadata": {},
            "source": [
                "Kdybychom chtěli skutečný 1D vector, můžeme použít:\n",
                "- reshape\n",
                "- ravel\n",
                "- flatten, pozor jako jediná vrací kopii místo view"
            ]
        },
        {
            "cell_type": "code",
            "execution_count": null,
            "metadata": {},
            "outputs": [],
            "source": [
                "m2 = m1.reshape((n * m))\n",
                "print(m2)\n",
                "print(m2.shape)\n",
                "print(m2.base is m1)\n",
                "# nebo\n",
                "m2 = m1.reshape((-1))\n",
                "print(m2)\n",
                "print(m2.shape)\n",
                "print(m2.base is m1)\n",
                "# nebo\n",
                "m2 = m1.flatten() \n",
                "print(m2)\n",
                "print(m2.shape)\n",
                "print(m2.base is m1)\n",
                "# nebo \n",
                "m2 = m1.ravel()\n",
                "print(m2)\n",
                "print(m2.shape)\n",
                "print(m2.base is m1)\n"
            ]
        },
        {
            "attachments": {},
            "cell_type": "markdown",
            "metadata": {},
            "source": [
                "### Přidávání dimenzí: `newaxis`\n",
                "\n",
                "Pomocí `newaxis` můžeme jednoduše pomocí řezů přidávat dimenze. Např. převod 1d vektoru na sloupcovou nebo řádkovou matici.\n",
                "\n",
                "`newaxis` je pouze konstanta o hodnotě `None`, jedinným účelem je lepší čitelnost kódu.\n",
                "\n",
                "Stále se bude jednat o view na původní data."
            ]
        },
        {
            "cell_type": "code",
            "execution_count": null,
            "metadata": {
                "jupyter": {
                    "outputs_hidden": false
                }
            },
            "outputs": [],
            "source": [
                "v = np.array([1, 2, 3])\n",
                "v.shape\n"
            ]
        },
        {
            "cell_type": "code",
            "execution_count": null,
            "metadata": {
                "jupyter": {
                    "outputs_hidden": false
                }
            },
            "outputs": [],
            "source": [
                "# vytvoříme sloupec\n",
                "vc = v[:, np.newaxis]\n",
                "vc\n"
            ]
        },
        {
            "cell_type": "code",
            "execution_count": null,
            "metadata": {},
            "outputs": [],
            "source": [
                "vc = v[:, None]\n",
                "print(vc)\n",
                "print(vc.base is v)\n"
            ]
        },
        {
            "cell_type": "code",
            "execution_count": null,
            "metadata": {
                "jupyter": {
                    "outputs_hidden": false
                }
            },
            "outputs": [],
            "source": [
                "vc.shape\n"
            ]
        },
        {
            "cell_type": "markdown",
            "metadata": {},
            "source": [
                "## Iterace\n",
                "\n",
                "Obecně se iteraci vyhýbáme a přednost dáváme vektorovým operacím (viz níže). Někdy je ale iterace nevyhnutelná."
            ]
        },
        {
            "cell_type": "code",
            "execution_count": null,
            "metadata": {
                "jupyter": {
                    "outputs_hidden": false
                }
            },
            "outputs": [],
            "source": [
                "v = np.array([1, 2, 3, 4])\n",
                "\n",
                "for element in v:\n",
                "    print(element)\n"
            ]
        },
        {
            "cell_type": "markdown",
            "metadata": {},
            "source": [
                "Iteruje se přes první index (po řádcích)."
            ]
        },
        {
            "cell_type": "code",
            "execution_count": null,
            "metadata": {
                "jupyter": {
                    "outputs_hidden": false
                }
            },
            "outputs": [],
            "source": [
                "M = np.array([[1, 2], [3, 4]])\n",
                "\n",
                "for row in M:\n",
                "    print(\"row: {}\".format(row))\n"
            ]
        },
        {
            "attachments": {},
            "cell_type": "markdown",
            "metadata": {},
            "source": [
                "# Vektorové funkce\n",
                "\n",
                "Jak jsme již říkali, vektorové (vektorizované) funkce jsou obecně daleko rychlejší než iterace. Numpy nám naštěstí cestu od skalární po vektorovou funkci usnadňuje."
            ]
        },
        {
            "cell_type": "code",
            "execution_count": null,
            "metadata": {
                "jupyter": {
                    "outputs_hidden": false
                }
            },
            "outputs": [],
            "source": [
                "def Theta(x):\n",
                "    \"\"\"\n",
                "    Scalar implemenation of the Heaviside step function.\n",
                "    \"\"\"\n",
                "    if x >= 0:\n",
                "        return 1\n",
                "    else:\n",
                "        return 0\n"
            ]
        },
        {
            "cell_type": "code",
            "execution_count": null,
            "metadata": {
                "jupyter": {
                    "outputs_hidden": false
                }
            },
            "outputs": [],
            "source": [
                "# toto bychom chtěli, ale asi to nebude fungovat\n",
                "Theta(np.array([-3, -2, -1, 0, 1, 2, 3]))\n"
            ]
        },
        {
            "cell_type": "markdown",
            "metadata": {},
            "source": [
                "Pro vektorizaci naší funkce nám Numpy nabízí `vectorize`."
            ]
        },
        {
            "cell_type": "code",
            "execution_count": null,
            "metadata": {
                "jupyter": {
                    "outputs_hidden": false
                }
            },
            "outputs": [],
            "source": [
                "Theta_vec = np.vectorize(Theta)\n"
            ]
        },
        {
            "cell_type": "code",
            "execution_count": null,
            "metadata": {
                "jupyter": {
                    "outputs_hidden": false
                }
            },
            "outputs": [],
            "source": [
                "Theta_vec(np.array([-3, -2, -1, 0, 1, 2, 3]))\n"
            ]
        },
        {
            "cell_type": "markdown",
            "metadata": {},
            "source": [
                "To bylo celkem snadné ... Můžeme také (a pokud to jde tak bychom měli) přepsat naši funkci tak, aby fungovala jak pro skaláry tak pro pole."
            ]
        },
        {
            "cell_type": "code",
            "execution_count": null,
            "metadata": {
                "jupyter": {
                    "outputs_hidden": false
                }
            },
            "outputs": [],
            "source": [
                "def Theta_numpy(x):\n",
                "    \"\"\"\n",
                "    Vector-aware implemenation of the Heaviside step function.\n",
                "    \"\"\"\n",
                "    return 1 * (x >= 0)\n"
            ]
        },
        {
            "cell_type": "code",
            "execution_count": null,
            "metadata": {
                "jupyter": {
                    "outputs_hidden": false
                }
            },
            "outputs": [],
            "source": [
                "Theta_numpy(np.array([-3, -2, -1, 0, 1, 2, 3]))\n"
            ]
        },
        {
            "cell_type": "code",
            "execution_count": null,
            "metadata": {
                "jupyter": {
                    "outputs_hidden": false
                }
            },
            "outputs": [],
            "source": [
                "# funguje i pro skalár\n",
                "Theta_numpy(-1.2), Theta_numpy(2.6)\n"
            ]
        },
        {
            "cell_type": "markdown",
            "metadata": {},
            "source": [
                "Pojďme zkusit porovnat rychlost vektorizovaných funkcí. Tipnete si jaká bude rychlejší, případně jak moc rychlejší?"
            ]
        },
        {
            "cell_type": "code",
            "execution_count": null,
            "metadata": {},
            "outputs": [],
            "source": [
                "randvec = np.random.random_sample((10000)) * 2000 - 1000\n"
            ]
        },
        {
            "cell_type": "code",
            "execution_count": null,
            "metadata": {},
            "outputs": [],
            "source": [
                "%timeit Theta_vec(randvec)\n"
            ]
        },
        {
            "cell_type": "code",
            "execution_count": null,
            "metadata": {},
            "outputs": [],
            "source": [
                "%timeit Theta_numpy(randvec)\n"
            ]
        },
        {
            "attachments": {},
            "cell_type": "markdown",
            "metadata": {},
            "source": [
                "# Používání polí v podmínkách\n",
                "Pokud chceme testovat po prvcích, v podmínkách pak použijeme metody `all` nebo `any`."
            ]
        },
        {
            "cell_type": "code",
            "execution_count": null,
            "metadata": {
                "jupyter": {
                    "outputs_hidden": false
                }
            },
            "outputs": [],
            "source": [
                "M = np.array([[1, 2, 3], [4, 5, 6], [7, 8, 9]])\n"
            ]
        },
        {
            "cell_type": "code",
            "execution_count": null,
            "metadata": {
                "jupyter": {
                    "outputs_hidden": false
                }
            },
            "outputs": [],
            "source": [
                "# výsledkem M > 5 je pole boolovských hodnot\n",
                "M > 5\n"
            ]
        },
        {
            "cell_type": "code",
            "execution_count": null,
            "metadata": {
                "jupyter": {
                    "outputs_hidden": false
                }
            },
            "outputs": [],
            "source": [
                "if (M > 5).any():\n",
                "    print(\"M obsahuje alespoň jeden prvek větší než 5\")\n",
                "else:\n",
                "    print(\"M neobsahuje žádný prvek větší než 5\")\n"
            ]
        },
        {
            "cell_type": "code",
            "execution_count": null,
            "metadata": {
                "jupyter": {
                    "outputs_hidden": false
                }
            },
            "outputs": [],
            "source": [
                "if (M > 5).all():\n",
                "    print(\"všechny prvky v M jsou větší než 5\")\n",
                "else:\n",
                "    print(\"M obsahuje alespoň jeden prvek menší rovno 5\")\n"
            ]
        },
        {
            "attachments": {},
            "cell_type": "markdown",
            "metadata": {},
            "source": [
                "# Změna typů\n",
                "Numpy pole jsou *staticky typovaná*. Pro změnu typu můžeme použít metodu `astype` (případně `asarray`)."
            ]
        },
        {
            "cell_type": "code",
            "execution_count": null,
            "metadata": {
                "jupyter": {
                    "outputs_hidden": false
                }
            },
            "outputs": [],
            "source": [
                "M = np.array([[1, 2, 3], [4, 5, 6], [7, 8, 9]])\n",
                "M.dtype\n"
            ]
        },
        {
            "cell_type": "code",
            "execution_count": null,
            "metadata": {
                "jupyter": {
                    "outputs_hidden": false
                }
            },
            "outputs": [],
            "source": [
                "M2 = M.astype(float)\n",
                "M2\n"
            ]
        },
        {
            "cell_type": "code",
            "execution_count": null,
            "metadata": {},
            "outputs": [],
            "source": [
                "# přetypování udělá kopii\n",
                "print(M2.base is M)"
            ]
        },
        {
            "cell_type": "code",
            "execution_count": null,
            "metadata": {},
            "outputs": [],
            "source": [
                "# pokudd bychom chtěli \"view\", tedy vyhodnotit data jako float\n",
                "# použijeme metodu view, ale pozor 1 jakožto int není 1.0 jakožto float\n",
                "M2 = M.view(float)\n",
                "print(M2)\n",
                "print(M2.base is M)"
            ]
        },
        {
            "cell_type": "code",
            "execution_count": null,
            "metadata": {
                "jupyter": {
                    "outputs_hidden": false
                }
            },
            "outputs": [],
            "source": [
                "M3 = M.astype(bool)\n",
                "M3\n"
            ]
        },
        {
            "cell_type": "markdown",
            "metadata": {},
            "source": [
                "## Další čtení"
            ]
        },
        {
            "cell_type": "markdown",
            "metadata": {},
            "source": [
                "* https://numpy.org/\n",
                "* https://jakevdp.github.io/PythonDataScienceHandbook/02.00-introduction-to-numpy.html\n",
                "* http://www.labri.fr/perso/nrougier/teaching/numpy.100/index.html"
            ]
        },
        {
            "cell_type": "code",
            "execution_count": null,
            "metadata": {},
            "outputs": [],
            "source": []
        }
    ],
    "metadata": {
        "kernelspec": {
            "display_name": "Python 3",
            "language": "python",
            "name": "python3"
        },
        "language_info": {
            "codemirror_mode": {
                "name": "ipython",
                "version": 3
            },
            "file_extension": ".py",
            "mimetype": "text/x-python",
            "name": "python",
            "nbconvert_exporter": "python",
            "pygments_lexer": "ipython3",
            "version": "3.10.9"
        }
    },
    "nbformat": 4,
    "nbformat_minor": 4
}
