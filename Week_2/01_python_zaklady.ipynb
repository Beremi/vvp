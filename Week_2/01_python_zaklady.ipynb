{
 "cells": [
  {
   "attachments": {},
   "cell_type": "markdown",
   "metadata": {},
   "source": [
    "# Než začneme\n",
    "V této lekci si ukážeme základy Pythonu. Postupně projdeme:\n",
    "- proměnné a datové typy\n",
    "- operátory\n",
    "- klíčová slova a vestavěné funkce\n",
    "- funkce\n",
    "- podmínky a cykly\n",
    "\n",
    "## Import knihoven\n",
    "Kdykoliv budeme v současném souboru použít část kódu, která je v jiném souboru, můžeme to udělat pomocí tzv. `import`u. Importujeme-li knihovnu/funkci/třídu/... můžeme ji používat stejně jako kdybychom ji měli napsanou zde.\n",
    "\n",
    "Při importu máme možnosti vybrat, co chceme importovat. Případně přejmenovat některé části, aby se nám lépe používaly."
   ]
  },
  {
   "cell_type": "code",
   "execution_count": null,
   "metadata": {},
   "outputs": [],
   "source": [
    "import numpy\n",
    "from numpy import arctan\n",
    "import numpy as np\n",
    "from numpy import arctan as atan\n",
    "\n",
    "x = 0.5\n",
    "print(numpy.arctan(x))\n",
    "print(np.arctan(x))\n",
    "print(arctan(x))\n",
    "print(atan(x))\n"
   ]
  },
  {
   "attachments": {},
   "cell_type": "markdown",
   "metadata": {},
   "source": [
    "## Používání Jupiter Notebooku ve VS Code\n",
    "Ve VS Code můžeme (pomocí rozšíření) používat Jupyter notebooky (jako je tento). Stačí přidat příponu `.ipynb` na konec souboru a stane se pro VS Code Jupyter notebookem. Výhodou je, že můžeme používat všechny výhody VS Code (např. debugování, lintování, ...).\n",
    "\n",
    "Jsou dva typy buňek - buňky s kódem a buňky s textem (Markdown). \n",
    "\n",
    "### Specifické klávesové zkratky pro Jupyter notebooky\n",
    "- `Ctrl + Enter` - spustí daný řádek kódu\n",
    "- `Shift + Enter` - spustí daný řádek kódu a přejde na další řádek\n",
    "- `Alt + Enter` - spustí daný řádek kódu a vytvoří nový řádek pod ním\n",
    "- `Esc + a` - vytvoří nový řádek nad aktuálním\n",
    "- `Esc + b` - vytvoří nový řádek pod aktuálním\n",
    "- `Esc + dd` - smaže aktuální řádek\n",
    "- `Esc + m` - přepne aktuální řádek na Markdown\n",
    "- `Esc + y` - přepne aktuální řádek na kód\n",
    "- `Esc + l` - zobrazí/zneviditelní čísla řádků\n",
    "- `Esc + o` - zobrazí/zneviditelní výstupy buňky"
   ]
  },
  {
   "cell_type": "markdown",
   "metadata": {},
   "source": [
    "\n",
    "# Proměnné a typy"
   ]
  },
  {
   "attachments": {},
   "cell_type": "markdown",
   "metadata": {},
   "source": [
    "## Názvy proměnných\n",
    "V názvech proměnných v Pythonu se mohou vyskytovat alfanumerické znaky `a-z`, `A-Z`, `0-9` a některé speciální znaky, jako například `_`. Název nemůže začínat číslicí.\n",
    "\n",
    "Základní přiřazování hodnoty je pomocí operátoru `=`."
   ]
  },
  {
   "cell_type": "code",
   "execution_count": null,
   "metadata": {
    "tags": []
   },
   "outputs": [],
   "source": [
    "nazev_promenne = 5\n",
    "print(nazev_promenne)"
   ]
  },
  {
   "attachments": {},
   "cell_type": "markdown",
   "metadata": {},
   "source": [
    "## Všechno je to objekt!\n",
    "Všechny proměnné v Pythonu jsou objekty. To znamená, že každá proměnná má svou hodnotu, svůj typ a mnoho dalších vlastností. Všechny objekty mají nějaké vlastnosti a některé z nich jsou přístupné pomocí tečky (`.`). Pokud máme proměnnou `a` a chceme zjistit, jaké typy má, můžeme použít `a.__class__` nebo `type(a)`.\n",
    "\n",
    "\n",
    "Konkrétní instance objektu je uložena někde v paměti. Proměnná je jen název, kterým se k ní můžeme dostat. Pokud chceme zjistit, kde je uložena hodnota proměnné, můžeme použít funkci `id()`."
   ]
  },
  {
   "cell_type": "code",
   "execution_count": null,
   "metadata": {},
   "outputs": [],
   "source": [
    "nazev_promenne = 5\n",
    "print(type(nazev_promenne))\n",
    "print(nazev_promenne.__class__)\n",
    "print(id(nazev_promenne))"
   ]
  },
  {
   "attachments": {},
   "cell_type": "markdown",
   "metadata": {},
   "source": [
    "## Měnné a neměnné typy\n",
    "V Pythonu existují dva základní typy objektů/proměnných: měnné a neměnné. Měnné typy mohou být změněny, nezměnné ne.\n",
    "\n",
    "Ale co to vlastně znamená? \n",
    "- je třeba uvažovat separátně o proměnné a o její hodnotě = místu v paměti\n",
    "- pokud je typ měnný, můžeme jeho hodnotu změnit, aniž bychom změnili místo v paměti, kde je uložena = tedy `id()` proměnné zůstane stejný\n",
    "- pokud je typ neměnný, můžeme jeho hodnotu změnit, ale místo v paměti, kde je uložena, se změní = tedy `id()` proměnné se změní\n",
    "\n",
    "\n",
    "Měnné typy jsou například `list`, `dict`, `set` a `bytearray`.\n",
    "\n",
    "Nezměnné typy jsou například `int`, `float`, `bool`, `complex`, `str`, `tuple`, `range`, `bytes` a `frozenset`."
   ]
  },
  {
   "cell_type": "code",
   "execution_count": null,
   "metadata": {},
   "outputs": [],
   "source": [
    "moje_promenna = 5\n",
    "print(id(moje_promenna))\n",
    "moje_promenna = moje_promenna + 1\n",
    "print(id(moje_promenna))"
   ]
  },
  {
   "attachments": {},
   "cell_type": "markdown",
   "metadata": {},
   "source": [
    "## Základní typy\n",
    "\n",
    "Mezi základní typy patří:\n",
    " - `Integers (int)` - celá čísla\n",
    " - `Floats (float)` - desetinná čísla s omezenou přesností\n",
    " - `Boolean (bool)` - booleovské/logické hodnoty - 0/1\n",
    " - `Complex (complex)` - komplexní čísla\n",
    " - `String (str)` - řetězce "
   ]
  },
  {
   "cell_type": "code",
   "execution_count": null,
   "metadata": {},
   "outputs": [],
   "source": [
    "x = -1\n",
    "print(type(x))\n",
    "x = 3_564_562\n",
    "print(type(x))\n"
   ]
  },
  {
   "cell_type": "code",
   "execution_count": null,
   "metadata": {},
   "outputs": [],
   "source": [
    "x = 5.3\n",
    "print(type(x))\n",
    "x = 563e-12\n",
    "print(type(x))"
   ]
  },
  {
   "cell_type": "code",
   "execution_count": null,
   "metadata": {},
   "outputs": [],
   "source": [
    "x = True\n",
    "print(type(x))\n",
    "x = False\n",
    "print(type(x))"
   ]
  },
  {
   "cell_type": "code",
   "execution_count": null,
   "metadata": {},
   "outputs": [],
   "source": [
    "x = 5.2 + 1.2j\n",
    "print(type(x))\n",
    "print(x.real)\n",
    "print(x.imag)\n",
    "print(type(x.imag))"
   ]
  },
  {
   "cell_type": "code",
   "execution_count": null,
   "metadata": {},
   "outputs": [],
   "source": [
    "x = \"a\"\n",
    "print(type(x))\n",
    "x = 'b'\n",
    "print(type(x))\n",
    "x = \"ahoj\"\n",
    "print(type(x))\n",
    "print(x[1:3])"
   ]
  },
  {
   "attachments": {},
   "cell_type": "markdown",
   "metadata": {},
   "source": [
    "## Kontejtery\n",
    "\n",
    "Dalšími základními typy v Pythonu jsou tzv. kontejtery (krabice, přihrádky, ...). Tyto slouží pro organizaci většího množství objektů (jako jsou čísla, řetězce, další kontejnery, ...).\n",
    "\n",
    "K jednotlivým elementům v kontejneru se můžeme dostat pomocí indexu. Ten se zadává do hranatých závorek za objekt kontejneru. `kontejner[index]`\n",
    "\n",
    "`Pozor! indexujeme od nuly`\n",
    "\n",
    "Základní typy kontejnerů v pythonu jsou:\n",
    " - `tuple ()` - číslovaná série, která nelze po vytvoření měnit\n",
    " - `list []` - oproti touple lze měnit, tedy např. měnit hodnoty, přidávat elementy\n",
    " - `set {}` - nečíslovaná množina prvků, lze měnit, ale lze do ní vkládat pouze neměnitelné typy\n",
    " - `dictionary { : }` - množina prvků organizovaná dle klíče, klíče mohou být jakékoliv neměnitelné typy"
   ]
  },
  {
   "cell_type": "markdown",
   "metadata": {},
   "source": [
    "\n",
    " ### Tuple\n",
    " Touple je tzv. neměnný kontejner, tedy po vytvoření nelze měnit. Pokus o změnu vyvolá chybu."
   ]
  },
  {
   "cell_type": "code",
   "execution_count": null,
   "metadata": {},
   "outputs": [],
   "source": [
    "muj_tuple = (5, 1.2, \"písmenko\")\n",
    "print(type(muj_tuple))\n",
    "print(muj_tuple)\n",
    "print(muj_tuple[1])"
   ]
  },
  {
   "cell_type": "code",
   "execution_count": null,
   "metadata": {},
   "outputs": [],
   "source": [
    "muj_tuple[1] = 2"
   ]
  },
  {
   "attachments": {},
   "cell_type": "markdown",
   "metadata": {},
   "source": [
    "### List\n",
    "List je podobný jako touple, ale lze do něj přidávat a měnit prvky."
   ]
  },
  {
   "cell_type": "code",
   "execution_count": null,
   "metadata": {},
   "outputs": [],
   "source": [
    "muj_list = [5, 1.2, \"písmenko\"]\n",
    "print(type(muj_list))\n",
    "print(muj_list)\n",
    "print(muj_list[1])\n",
    "\n",
    "muj_list = list(muj_tuple)\n",
    "muj_list[1] = 2\n",
    "muj_list.append(3)\n",
    "print(muj_list)"
   ]
  },
  {
   "attachments": {},
   "cell_type": "markdown",
   "metadata": {},
   "source": [
    "List je měnný typ, takže změna jeho hodnot nezmění místo v paměti, kde je uložen. Tedy `id()` listu zůstane stejný."
   ]
  },
  {
   "cell_type": "code",
   "execution_count": null,
   "metadata": {},
   "outputs": [],
   "source": [
    "muj_list = [5, 1.2, \"písmenko\"]\n",
    "print(id(muj_list))\n",
    "print(muj_list)\n",
    "muj_list[0] = 2\n",
    "print(id(muj_list))\n",
    "print(muj_list)\n"
   ]
  },
  {
   "attachments": {},
   "cell_type": "markdown",
   "metadata": {},
   "source": [
    "Měnitelnost listu (a dalších měnitělných typů) může být poněkud záludná, pokud nevíme jak se přesně chová."
   ]
  },
  {
   "cell_type": "code",
   "execution_count": null,
   "metadata": {},
   "outputs": [],
   "source": [
    "muj_list = [5, 1.2, \"písmenko\"]\n",
    "muj_list2 = muj_list\n",
    "print(muj_list)\n",
    "print(muj_list2)\n",
    "\n",
    "muj_list2[0] = 2\n",
    "print(muj_list)\n",
    "print(muj_list2)\n",
    "# operátor = pro měnné typy pouze kopíruje referenci na objekt!"
   ]
  },
  {
   "cell_type": "code",
   "execution_count": null,
   "metadata": {},
   "outputs": [],
   "source": [
    "print(id(muj_list))\n",
    "print(id(muj_list2))"
   ]
  },
  {
   "attachments": {},
   "cell_type": "markdown",
   "metadata": {},
   "source": [
    "Pokud chceme mít v proměnné `muj_list2` stejné hodnoty ale né stejnou instanci hodnot, můžeme použít `muj_list2 = muj_list[:]` nebo `muj_list2 = muj_list.copy()`."
   ]
  },
  {
   "cell_type": "code",
   "execution_count": null,
   "metadata": {},
   "outputs": [],
   "source": [
    "# ukázka s .copy()\n",
    "muj_list = [5, 1.2, \"písmenko\"]\n",
    "muj_list2 = muj_list.copy()\n",
    "print(muj_list)\n",
    "print(muj_list2)\n",
    "\n",
    "muj_list2[0] = 2\n",
    "print(muj_list)\n",
    "print(muj_list2)\n",
    "# operátor .copy() vytvoří nový objekt\n",
    "\n",
    "print(id(muj_list))\n",
    "print(id(muj_list2))"
   ]
  },
  {
   "attachments": {},
   "cell_type": "markdown",
   "metadata": {},
   "source": [
    "Aby to nebylo tak jednoduché, představme si zanořené listy:"
   ]
  },
  {
   "cell_type": "code",
   "execution_count": null,
   "metadata": {},
   "outputs": [],
   "source": [
    "# zanořené listy s .copy()\n",
    "muj_list = [5, 1.2, \"písmenko\", [1, 2, 3]]\n",
    "muj_list2 = muj_list.copy()\n",
    "print(muj_list)\n",
    "print(muj_list2)\n",
    "\n",
    "muj_list2[3][0] = 2\n",
    "muj_list2[0] = 2\n",
    "print(muj_list)\n",
    "print(muj_list2)\n",
    "# operátor .copy() vytvoří nový objekt, ale zanořené listy jsou stejné!\n",
    "\n",
    "print(id(muj_list))\n",
    "print(id(muj_list2))"
   ]
  },
  {
   "attachments": {},
   "cell_type": "markdown",
   "metadata": {},
   "source": [
    "Pokud bychom chtěli toto chování obejít, existuje funkce `deepcopy()` z modulu `copy`."
   ]
  },
  {
   "cell_type": "code",
   "execution_count": null,
   "metadata": {},
   "outputs": [],
   "source": [
    "# zanořené listy s .deepcopy()\n",
    "import copy\n",
    "muj_list = [5, 1.2, \"písmenko\", [1, 2, 3]]\n",
    "muj_list2 = copy.deepcopy(muj_list)\n",
    "print(muj_list)\n",
    "print(muj_list2)\n",
    "\n",
    "muj_list2[3][0] = 2\n",
    "muj_list2[0] = 2\n",
    "print(muj_list)\n",
    "print(muj_list2)\n",
    "# operátor .deepcopy() vytvoří nový objekt i pro zanořené listy!\n",
    "\n",
    "print(id(muj_list))\n",
    "print(id(muj_list2))"
   ]
  },
  {
   "attachments": {},
   "cell_type": "markdown",
   "metadata": {},
   "source": [
    "Nachvíli zpátky k `tuple`.\n",
    "\n",
    "Tuple je sice neměnný, ale lze do něj vložit list, který lze měnit. Toto je však poměrně nešikovné, neboť ztrácíme výhodu neměnnosti tuple jako celku."
   ]
  },
  {
   "cell_type": "code",
   "execution_count": null,
   "metadata": {},
   "outputs": [],
   "source": [
    "muj_touple = (5, 1.2, \"písmenko\", [1, 2, 3])\n",
    "muj_touple[3][1] = 5"
   ]
  },
  {
   "attachments": {},
   "cell_type": "markdown",
   "metadata": {},
   "source": [
    "#### Slicing\n",
    "List můžeme indexovat pomocí tzv. slicingu. Slicing je zápis, kterým se získává podseznam z původního seznamu. Zápis je následující: `seznam[od:do:krok]`. Pokud je `od` vynecháno, začínáme od začátku seznamu. Pokud je `do` vynecháno, končíme na konci seznamu. Pokud je `krok` vynecháno, je roven 1.\n",
    "\n",
    "Slice (`od:do:krok`) je také objekt, tak jak už v pythonu všechno."
   ]
  },
  {
   "cell_type": "code",
   "execution_count": null,
   "metadata": {},
   "outputs": [],
   "source": [
    "muj_list = [1, 2, 3, 4, 5, 6, 7, 8, 9, 10]\n",
    "\n",
    "print(muj_list[::])\n",
    "print(muj_list[2::])\n",
    "print(muj_list[:6:])\n",
    "print(muj_list[::2])\n",
    "print(muj_list[1:7:3])\n",
    "muj_slice = slice(1, 7, 3)\n",
    "print(type(muj_slice))\n",
    "print(muj_list[muj_slice])\n"
   ]
  },
  {
   "attachments": {},
   "cell_type": "markdown",
   "metadata": {},
   "source": [
    "### Set\n",
    "Set je množina prvků, která je nečíslovaná a lze do ní vkládat pouze neměnitelné typy. Pokud se pokusíme do setu vložit měnitelný typ, vyvolá se chyba."
   ]
  },
  {
   "cell_type": "code",
   "execution_count": null,
   "metadata": {},
   "outputs": [],
   "source": [
    "muj_set = {\"a\", 0 , 5.1}\n",
    "print(type(muj_set))\n",
    "print(muj_set)\n",
    "muj_set.add(0)\n",
    "muj_set.add(1.2)\n",
    "print(muj_set)\n",
    "muj_set.remove(0)\n",
    "print(muj_set)\n",
    "\n",
    "muj_set1 = {\"a\", 0, 5.1}\n",
    "muj_set2 = {\"b\", \"a\", 1, 5.1}\n",
    "print(muj_set1 | muj_set2)\n",
    "print(muj_set1 & muj_set2)"
   ]
  },
  {
   "cell_type": "code",
   "execution_count": null,
   "metadata": {},
   "outputs": [],
   "source": [
    "# chyba pokud do setu pridame list\n",
    "muj_set = {\"a\", 0 , 5.1, [1, 2, 3]}"
   ]
  },
  {
   "attachments": {},
   "cell_type": "markdown",
   "metadata": {},
   "source": [
    "### Dictionary\n",
    "Slovník je množina prvků organizovaná dle klíče. Klíč může být jakýkoliv neměnitelný typ. Hodnoty mohou být jakékoliv typy."
   ]
  },
  {
   "cell_type": "code",
   "execution_count": null,
   "metadata": {},
   "outputs": [],
   "source": [
    "muj_slovnik = {1: \"prvek 1\", \"2\": 0, (0, \"a\"):[1, \"ahoj\"]}\n",
    "\n",
    "print(type(muj_slovnik))\n",
    "print(muj_slovnik)\n",
    "\n",
    "print(muj_slovnik.keys())\n",
    "print(muj_slovnik.values())\n",
    "print(muj_slovnik.items())\n",
    "\n",
    "print(muj_slovnik[(0, \"a\")])\n",
    "print(muj_slovnik[1])\n",
    "\n",
    "print(muj_slovnik.get(1))\n",
    "# pokud klic neexistuje, vraci None, pozor na rozdíl oproti přístupu přes []\n",
    "print(muj_slovnik.get(2))"
   ]
  },
  {
   "cell_type": "code",
   "execution_count": null,
   "metadata": {},
   "outputs": [],
   "source": [
    "# když se pokusíme o přístup k neexistujícímu klíči, tak dostaneme chybu\n",
    "print(muj_slovnik[2])"
   ]
  },
  {
   "attachments": {},
   "cell_type": "markdown",
   "metadata": {},
   "source": [
    "## Konverze mezi typy\n",
    "V Pythonu se nejedná o \"skutečnou\" konverzi, ale o vytvoření nové instance daného typu s hodnotou z předchozího typu. Níže vypsané funkce jsou tzv. konstruktory daného typu (objektu).\n",
    "- `int()` - převede argument na celé číslo\n",
    "- `float()` - převede argument na desetinné číslo\n",
    "- `bool()` - převede argument na logickou hodnotu\n",
    "- `str()` - převede argument na řetězec\n",
    "- `tuple()` - převede argument na tuple\n",
    "- `list()` - převede argument na list\n",
    "- `set()` - převede argument na set"
   ]
  },
  {
   "cell_type": "code",
   "execution_count": null,
   "metadata": {},
   "outputs": [],
   "source": [
    "# příklady přetypování\n",
    "x = 5\n",
    "print(x)\n",
    "print(type(x))\n",
    "y = float(x)\n",
    "print(y)\n",
    "print(type(y))\n",
    "z = str(x)\n",
    "print(z)\n",
    "print(type(z))\n"
   ]
  },
  {
   "cell_type": "code",
   "execution_count": null,
   "metadata": {},
   "outputs": [],
   "source": [
    "x = \"5\"\n",
    "print(x)\n",
    "print(type(x))\n",
    "y = float(x)\n",
    "print(y)\n",
    "print(type(y))\n",
    "z = int(x)\n",
    "print(z)\n",
    "print(type(z))"
   ]
  },
  {
   "cell_type": "code",
   "execution_count": null,
   "metadata": {},
   "outputs": [],
   "source": [
    "a = (1, 2, 3)\n",
    "print(list(a))\n",
    "print(set(a))"
   ]
  },
  {
   "attachments": {},
   "cell_type": "markdown",
   "metadata": {},
   "source": [
    "# Operátory v Pythonu\n",
    "\n",
    "## Unární operátory\n",
    "\n",
    "- `not` &ensp; negace logické hodnoty\n",
    "- `+` &ensp; pouze indikátor kladné hodnoty (v podstatě nic nedělá)\n",
    "- `-` &ensp; otočení znaménka (int, float)\n",
    "- `~` &ensp; bit-wise flip, přehození bitů (pouze int)\n",
    "- `*` &ensp; rozbalení iterable objektu - dobírání `excess` objektů při rozbalování listu\n"
   ]
  },
  {
   "cell_type": "code",
   "execution_count": null,
   "metadata": {},
   "outputs": [],
   "source": [
    "x = True\n",
    "print(not x)"
   ]
  },
  {
   "cell_type": "code",
   "execution_count": null,
   "metadata": {},
   "outputs": [],
   "source": [
    "x = 3\n",
    "print(+x)"
   ]
  },
  {
   "cell_type": "code",
   "execution_count": null,
   "metadata": {},
   "outputs": [],
   "source": [
    "x = -3\n",
    "print(-x)"
   ]
  },
  {
   "cell_type": "code",
   "execution_count": null,
   "metadata": {},
   "outputs": [],
   "source": [
    "x = 6\n",
    "print(bin(x))\n",
    "print(bin(~x))\n",
    "print(~x)\n",
    "# divné že? problém je v reprezentaci int v pythonu, konkrétně záporných hodnot (two's complement representation)"
   ]
  },
  {
   "cell_type": "code",
   "execution_count": null,
   "metadata": {},
   "outputs": [],
   "source": [
    "x = [1, 2, 3, 4, 5]\n",
    "a, b, *c = x\n",
    "print(a)\n",
    "print(b)\n",
    "print(c)"
   ]
  },
  {
   "attachments": {},
   "cell_type": "markdown",
   "metadata": {},
   "source": [
    "\n",
    "## Binární operátory\n",
    "\n",
    "### Aritmetické\n",
    " - `+`  &ensp; Addition\tx + y\t\n",
    " - `-`\t&ensp; Subtraction\tx - y\t\n",
    " - `*`\t&ensp; Multiplication\tx * y\t\n",
    " - `/`\t&ensp; Division\tx / y\t\n",
    " - `%`\t&ensp; Modulus\tx % y\t\n",
    " - `**` &ensp; Exponentiation\tx ** y\t\n",
    " - `//` &ensp; Floor division\tx // y"
   ]
  },
  {
   "cell_type": "code",
   "execution_count": null,
   "metadata": {},
   "outputs": [],
   "source": [
    "print(2 + 3)\n",
    "print(3 - 2)\n",
    "print(2 * 3)\n",
    "print(6 / 3)\n",
    "print(7 % 3)\n",
    "print(2 ** 3)\n",
    "print(7 // 3)"
   ]
  },
  {
   "attachments": {},
   "cell_type": "markdown",
   "metadata": {},
   "source": [
    "### Bitwise\n",
    "\n",
    "- `&` &ensp; AND - bitové a zároveň\n",
    "- `|` &ensp; OR - bitové nebo\n",
    "- `^` &ensp; XOR - bitové a exkluzivní nebo\n",
    "- `<<` &ensp; Zero fill left shift - posune bity doleva, doplní nulami\n",
    "- `>>` &ensp; Signed right shift - posune bity doprava"
   ]
  },
  {
   "cell_type": "code",
   "execution_count": null,
   "metadata": {},
   "outputs": [],
   "source": [
    "x = 0b1010\n",
    "y = 0b1100\n",
    "print(x)\n",
    "print(y)"
   ]
  },
  {
   "cell_type": "code",
   "execution_count": null,
   "metadata": {},
   "outputs": [],
   "source": [
    "print(x & y)\n",
    "print(bin(x & y)) \n",
    "\n",
    "print(x | y)\n",
    "print(bin(x | y))\n",
    "\n",
    "print(x ^ y)\n",
    "print(bin(x ^ y))\n",
    "\n",
    "print(x << 2)\n",
    "print(bin(x << 2))\n",
    "\n",
    "print(x >> 2)\n",
    "print(bin(x >> 2))"
   ]
  },
  {
   "attachments": {},
   "cell_type": "markdown",
   "metadata": {},
   "source": [
    "### S True/False výstupem\n",
    "\n",
    "\n",
    "- `is`  &ensp; porovnává, zda jsou dva objekty stejné (ne stejná data ale stejné id())\n",
    "- `is not` &ensp; negace `is`\n",
    "- `in` &ensp;\tporovnávání, zda je prvek v množině (listu)\n",
    "- `not in` &ensp;\tnegace `in`\n",
    "- `and` &ensp; \tlogické a zároveň mezi dvěmi logickými hodnotami\n",
    "- `or` &ensp;\tlogické nebo mezi dvěmi logickými hodnotami\n",
    "- `==`\t&ensp; rovnost (mezi porovnatelnými typy)\t\n",
    "- `!=`\t&ensp; nerovno\n",
    "- `>`\t&ensp; větší\n",
    "- `<` &ensp;\tmenší\n",
    "- `>=`\t&ensp; větší nebo rovno\n",
    "- `<=` &ensp;\tmenší nebo rovno"
   ]
  },
  {
   "cell_type": "code",
   "execution_count": null,
   "metadata": {},
   "outputs": [],
   "source": [
    "x = [1, 2, 3]\n",
    "y = [1, 2, 3]\n",
    "z = x\n",
    "print(x is y) \n",
    "print(x is z)"
   ]
  },
  {
   "cell_type": "code",
   "execution_count": null,
   "metadata": {},
   "outputs": [],
   "source": [
    "x = [1, 2, 3]\n",
    "y = [1, 2, 3]\n",
    "z = x\n",
    "print(x is not y)\n",
    "print(x is not z) "
   ]
  },
  {
   "cell_type": "code",
   "execution_count": null,
   "metadata": {},
   "outputs": [],
   "source": [
    "x = [1, 2, 3]\n",
    "y = 2\n",
    "print(y in x) "
   ]
  },
  {
   "cell_type": "code",
   "execution_count": null,
   "metadata": {},
   "outputs": [],
   "source": [
    "x = [1, 2, 3]\n",
    "y = 4\n",
    "print(y not in x)"
   ]
  },
  {
   "cell_type": "code",
   "execution_count": null,
   "metadata": {},
   "outputs": [],
   "source": [
    "print(True and False)\n",
    "print(True and True)\n"
   ]
  },
  {
   "cell_type": "code",
   "execution_count": null,
   "metadata": {},
   "outputs": [],
   "source": [
    "print(True or False)\n",
    "print(True or True)\n",
    "print(False or False)\n"
   ]
  },
  {
   "cell_type": "code",
   "execution_count": null,
   "metadata": {},
   "outputs": [],
   "source": [
    "x = 3\n",
    "y = 4\n",
    "print(x == y)\n",
    "\n",
    "x = 2/3\n",
    "y = 1 - 1/3\n",
    "print(x == y)\n",
    "\n",
    "x = [1, 2]\n",
    "y = [1, 2, 3]\n",
    "print(x == y)\n",
    "y.pop()\n",
    "print(x == y)"
   ]
  },
  {
   "cell_type": "code",
   "execution_count": null,
   "metadata": {},
   "outputs": [],
   "source": [
    "x = 3\n",
    "y = 4\n",
    "print(x != y)\n",
    "\n",
    "x = [1, 2]\n",
    "y = [1, 2, 3]\n",
    "print(x != y)"
   ]
  },
  {
   "cell_type": "code",
   "execution_count": null,
   "metadata": {},
   "outputs": [],
   "source": [
    "x = 3\n",
    "y = 4\n",
    "print(x > y)\n",
    "\n",
    "x = [1, 2]\n",
    "y = [1, 2, 3]\n",
    "print(x > y)\n",
    "print(x < y)\n",
    "\n",
    "x = [1, 5]\n",
    "y = [1, 2, 3]\n",
    "print(x > y)\n",
    "print(x < y)\n",
    "# co se vlastně děje?"
   ]
  },
  {
   "attachments": {},
   "cell_type": "markdown",
   "metadata": {},
   "source": [
    "Některé operátory mají vlastní (netriviální/neintuitivní) definice pro jiné než číselné datové typy\n",
    "\n",
    "`[1, 5] < [1, 2, 3]` porovnává oba seznamy prvky po prvcích a vrátí `True`, pokud je první prvek prvního seznamu menší než první prvek druhého seznamu. Pokud jsou první prvky rovny, porovná druhé prvky a tak dále."
   ]
  },
  {
   "cell_type": "code",
   "execution_count": null,
   "metadata": {},
   "outputs": [],
   "source": [
    "print([1,2] < [1,3])\n",
    "print([2,1] < [1,3])"
   ]
  },
  {
   "cell_type": "code",
   "execution_count": null,
   "metadata": {},
   "outputs": [],
   "source": [
    "x = [1, \"5\"]\n",
    "y = [1, 2, \"3\"]\n",
    "print(x > y)\n",
    "print(x < y)\n",
    "# prvky uvnitř musí být mezi sebou porovnatelné"
   ]
  },
  {
   "cell_type": "code",
   "execution_count": null,
   "metadata": {},
   "outputs": [],
   "source": [
    "x = {1, \"5\"}\n",
    "y = {1, 2, \"3\"}\n",
    "z = {1, \"3\"}\n",
    "print(x > y)\n",
    "print(x < y)\n",
    "print(x > z)\n",
    "print(x < z)\n",
    "print(y > z)\n",
    "print(y < z)\n",
    "# pro množiny je definice jakožto \"je podmnožina?\""
   ]
  },
  {
   "cell_type": "code",
   "execution_count": null,
   "metadata": {},
   "outputs": [],
   "source": [
    "x = 3\n",
    "y = 4\n",
    "print(x < y)"
   ]
  },
  {
   "cell_type": "code",
   "execution_count": null,
   "metadata": {},
   "outputs": [],
   "source": [
    "x = 3\n",
    "y = 4\n",
    "print(x >= y)"
   ]
  },
  {
   "cell_type": "code",
   "execution_count": null,
   "metadata": {},
   "outputs": [],
   "source": [
    "x = 3\n",
    "y = 4\n",
    "print(x <= y)"
   ]
  },
  {
   "attachments": {},
   "cell_type": "markdown",
   "metadata": {},
   "source": [
    "### Přiřazovací operátory\n",
    "\n",
    "- `=` &ensp;\tpř.: `x = 5` stejné jako `x = 5`\n",
    "- `+=` &ensp;\tpř.: `x += 3` stejné jako `x = x + 3`\t\n",
    "- `-=` &ensp;\tpř.: `x -= 3` stejné jako `x = x - 3`\t\n",
    "- `*=` &ensp;\tpř.: `x *= 3` stejné jako `x = x * 3`\t\n",
    "- `/=` &ensp;\tpř.: `x /= 3` stejné jako `x = x / 3`\t\n",
    "- `%=` &ensp;\tpř.: `x %= 3` stejné jako `x = x % 3`\t\n",
    "- `//=` &ensp;\tpř.: `x //= 3` stejné jako `x = x // 3`\t\n",
    "- `**=` &ensp;\tpř.: `x **= 3` stejné jako `x = x ** 3`\t\n",
    "- `&=` &ensp;\tpř.: `x &= 3` stejné jako `x = x & 3`\t\n",
    "- `|=` &ensp;\tpř.: `x |= 3` stejné jako `x = x | 3`\t\n",
    "- `^=` &ensp;\tpř.: `x ^= 3` stejné jako `x = x ^ 3`\t\n",
    "- `>>=` &ensp;\tpř.: `x >>= 3` stejné jako `x = x >> 3`\t\n",
    "- `<<=` &ensp;\tpř.: `x <<= 3` stejné jako `x = x << 3`"
   ]
  },
  {
   "attachments": {},
   "cell_type": "markdown",
   "metadata": {},
   "source": [
    "## Ternarní operátory\n",
    "\n",
    "- výraz_True `if` podmínka `else` výraz_False &ensp; - &ensp; zjednodušení if/else pro jednoduché jednořádkové přiřazení"
   ]
  },
  {
   "cell_type": "code",
   "execution_count": null,
   "metadata": {},
   "outputs": [],
   "source": [
    "x = 3\n",
    "y = 4\n",
    "max_value = x if x > y else y\n",
    "print(max_value)"
   ]
  },
  {
   "attachments": {},
   "cell_type": "markdown",
   "metadata": {},
   "source": [
    "# Klíčová slova\n",
    "\n",
    "    and       del       from      not       while\n",
    "    as        elif      global    or        with\n",
    "    assert    else      if        pass      yield\n",
    "    break     except    import    print\n",
    "    class     exec      in        raise\n",
    "    continue  finally   is        return\n",
    "    def       for       lambda    try\n",
    "\n",
    "Některá už známe, ostatní brzy poznáme, důležité je nepoužívat je jako názvy proměných."
   ]
  },
  {
   "attachments": {},
   "cell_type": "markdown",
   "metadata": {},
   "source": [
    "# Některé důležité vestavěné funkce \n",
    "Vestavěných funkcí, nebo [Built-in functions](http://docs.python.org/3/library/functions.html), je v Pythonu (v porovnání s jinými jazyky) minimum. Zde zmíníme některé z nich (s některými jsme se už setkali):\n",
    "\n",
    "* `dir` -- seznam jmen (funkcí, proměnných, metod) v daném kontextu\n",
    "* `eval` -- vrátí hodnotu výrazu zadanou řetězcem (to je možné, protože Python je interpretovaný jazyk)\n",
    "* `help` -- nápověda (neboli zobrazení 'docstring'\n",
    "* `len` -- délka (počet položek) proměnné (řetězce, pole apod.)\n",
    "* `open` -- otevření souboru\n",
    "* `print` -- výpis řetězce do stream\n",
    "* `input` -- načtení vstupu od uživatele (stdin)\n",
    "* `str`, `repr` -- text reprezentující daný objekt\n",
    "* `type` -- vrátí typ argumentu\n",
    "\n",
    "Blíže se s těmito a dalšími vestavěnými funkcemi se seznámíme brzy."
   ]
  },
  {
   "attachments": {},
   "cell_type": "markdown",
   "metadata": {},
   "source": [
    "# Funkce v Pythonu\n",
    "Máme základní dva typy jak definovat vlastní funkci v pythonu. První je funkce definovaná pomocí klíčového slova `def`, druhý je lambda funkce (neboli tzv. anonymní funkce).\n",
    "\n",
    "## Funkce\n",
    "- Funkce v Pythonu jsou definovány klíčovým slovem `def`\n",
    "- následuje jméno funkce\n",
    "- parametry jsou definovány v závorkách za jménem funkce, oddělené čárkou\n",
    "    - parametry mohou mít defaultní hodnotu, toto se definuje pomocí `=` za jménem parametru\n",
    "- vnitřek funkce je odsazený\n",
    "- návratová hodnota se vrací pomocí klíčového slova `return`\n",
    "    - funkce vždy vrací formálně pouze jednu hodnotu, ale může vracet libovolný objekt (např. seznam, slovník, ...)\n",
    "    - v případě, že chceme vrátit více hodnot, můžeme použít tzv. tuple, tedy zabalit všechny výstupové hodnoty do jednoho objektu\n",
    "    - pokud funkce neobsahuje klíčové slovo `return`, vrací `None`"
   ]
  },
  {
   "cell_type": "code",
   "execution_count": null,
   "metadata": {},
   "outputs": [],
   "source": [
    "# ukázka jednoduché funkce pro sečtení dvou čísel\n",
    "def secti(a, b):\n",
    "    return a + b\n",
    "\n",
    "a = 3\n",
    "b = 4\n",
    "c = secti(a, b)\n",
    "print(c)\n",
    "print(secti(a, b))\n",
    "print(secti(3, 4))"
   ]
  },
  {
   "attachments": {},
   "cell_type": "markdown",
   "metadata": {},
   "source": [
    "Připomínáme, že v Pythonu je vše objekt..."
   ]
  },
  {
   "cell_type": "code",
   "execution_count": null,
   "metadata": {},
   "outputs": [],
   "source": [
    "def secti(a, b):\n",
    "    return a + b\n",
    "\n",
    "print(type(secti))\n",
    "print(id(secti))\n",
    "nove_secti = secti\n",
    "print(nove_secti(3, 4))\n",
    "print(type(nove_secti))\n",
    "print(id(nove_secti))"
   ]
  },
  {
   "cell_type": "code",
   "execution_count": null,
   "metadata": {},
   "outputs": [],
   "source": [
    "# funkce vracející více proměnných\n",
    "def secti_odecti(a, b):\n",
    "    return a + b, a - b\n",
    "\n",
    "a = 3\n",
    "b = 4\n",
    "c, d = secti_odecti(a, b)\n",
    "print(c, d)\n",
    "print(secti_odecti(a, b))"
   ]
  },
  {
   "cell_type": "code",
   "execution_count": null,
   "metadata": {},
   "outputs": [],
   "source": [
    "# funkce s defaultní hodnotou parametru\n",
    "def secti(a, b=1):\n",
    "    return a + b\n",
    "\n",
    "a = 3\n",
    "b = 4\n",
    "c = secti(a, b)\n",
    "print(c)\n",
    "\n"
   ]
  },
  {
   "attachments": {},
   "cell_type": "markdown",
   "metadata": {},
   "source": [
    "## Rekurze\n",
    "Rekurze znamená, že pro výpočet funkce volá samu sebe."
   ]
  },
  {
   "cell_type": "code",
   "execution_count": null,
   "metadata": {},
   "outputs": [],
   "source": [
    "# funkce počítající sumu čísel 1 až n\n",
    "def suma_n(n):\n",
    "    print(\"Vstoupil jsem do funkce s parametrem n = \", n)\n",
    "    # bez ifu se v rekurzi neobejdeme, vysvětlíme si ho později\n",
    "    if n == 1:\n",
    "        return 1\n",
    "    return suma_n(n - 1) + n\n",
    "\n",
    "print(suma_n(5))"
   ]
  },
  {
   "attachments": {},
   "cell_type": "markdown",
   "metadata": {},
   "source": [
    "\n",
    "## Lambda funkce\n",
    "Lambda funkce jsou tzv. anonymní funkce, které jsou definovány pomocí klíčového slova `lambda`. Lambda funkce jsou vždy jednořádkové a nemají jméno (respektivě jejich jméno je jméno proměnné do které ji ukládáme). Lambda funkce se používají především v případě, kdy potřebujeme definovat funkci, která se použije pouze jednou. Lambda funkce se používají především v kombinaci s jinými funkcemi, např. `map`, `filter`, `reduce`, `sorted`, `sort` apod.\n",
    "\n",
    "Základní syntaxe je následující:\n",
    "- `lambda` parametry: výraz\n",
    "Často lze naléz v kombinaci s ternárním operátorem (výraz_True `if` podmínka `else` výraz_False)\n",
    "- `lambda` parametry: výraz_True `if` podmínka `else` výraz_False"
   ]
  },
  {
   "cell_type": "code",
   "execution_count": null,
   "metadata": {},
   "outputs": [],
   "source": [
    "# jednoduchá lambda funkce\n",
    "funkce = lambda x: x + 1\n",
    "y = funkce(3)\n",
    "print(y)"
   ]
  },
  {
   "cell_type": "code",
   "execution_count": null,
   "metadata": {},
   "outputs": [],
   "source": [
    "# lambda funkce v kombinaci if else\n",
    "funkce = lambda x: x + 1 if x > 0 else x - 1\n",
    "print(funkce(3))\n",
    "print(funkce(-3))"
   ]
  },
  {
   "cell_type": "code",
   "execution_count": null,
   "metadata": {},
   "outputs": [],
   "source": [
    "# lambda funkce může volat i samu sebe, tzv rekurze\n",
    "# jednoduchá lambda funkce pro výpočet faktoriálu\n",
    "faktorial = lambda x: 1 if x == 0 else x * faktorial(x - 1)\n",
    "print(faktorial(4))"
   ]
  },
  {
   "attachments": {},
   "cell_type": "markdown",
   "metadata": {},
   "source": [
    "# Podmínky a řízení toku\n",
    "- if/elif/else\n",
    "- for\n",
    "- while\n",
    "- match (Python 3.10)\n",
    "\n",
    "## if/elif/else\n",
    "- `if` &ensp; podmínka:\n",
    "- `elif` &ensp; podmínka:\n",
    "- `else`:\n"
   ]
  },
  {
   "cell_type": "code",
   "execution_count": null,
   "metadata": {},
   "outputs": [],
   "source": [
    "# ukázka if else syntaxe\n",
    "x = 3\n",
    "y = 4\n",
    "z = 5\n",
    "if x > y:\n",
    "    if x > z:\n",
    "        max_value = x\n",
    "    else:\n",
    "        max_value = z\n",
    "else:\n",
    "    if y > z:\n",
    "        max_value = y\n",
    "    else:\n",
    "        max_value = z\n",
    "    \n",
    "print(max_value)"
   ]
  },
  {
   "cell_type": "code",
   "execution_count": null,
   "metadata": {},
   "outputs": [],
   "source": [
    "# ukázka s elif\n",
    "x = 3\n",
    "y = 4\n",
    "z = 5\n",
    "if x > y:\n",
    "    if x > z:\n",
    "        max_value = x\n",
    "    else:\n",
    "        max_value = z\n",
    "elif y > z:\n",
    "    max_value = y\n",
    "else:\n",
    "    max_value = z   \n",
    "    \n",
    "print(max_value)"
   ]
  },
  {
   "attachments": {},
   "cell_type": "markdown",
   "metadata": {},
   "source": [
    "Za klíčovým slovem `if` následuje tzv. podmínka. Podmínka není nic jiného nežli výraz vracející `True` nebo `False`. Toto může mýt složitý výraz s pomocí operátorů `and`, `or`, `not` a dalších, nebo klidně výstup funkce."
   ]
  },
  {
   "cell_type": "code",
   "execution_count": null,
   "metadata": {},
   "outputs": [],
   "source": [
    "# ukázka s komplexní podmínkou\n",
    "x = 3\n",
    "y = 4\n",
    "z = 5\n",
    "\n",
    "if x > y and x > z:\n",
    "    max_value = x\n",
    "\n",
    "if y > x and y > z:\n",
    "    max_value = y\n",
    "\n",
    "if z > x and z > y:\n",
    "    max_value = z   \n",
    "\n",
    "print(max_value)\n"
   ]
  },
  {
   "cell_type": "code",
   "execution_count": null,
   "metadata": {},
   "outputs": [],
   "source": [
    "# ukázka kde podmínku zajistí funkce\n",
    "x = 3\n",
    "y = 4\n",
    "z = 5\n",
    "\n",
    "def podminka(x, y, z):\n",
    "    return x > y and x > z\n",
    "\n",
    "if podminka(x, y, z):\n",
    "    max_value = x\n",
    "\n",
    "if podminka(y, x, z):\n",
    "    max_value = y\n",
    "\n",
    "if podminka(z, x, y):\n",
    "    max_value = z\n",
    "    \n",
    "print(max_value)\n"
   ]
  },
  {
   "attachments": {},
   "cell_type": "markdown",
   "metadata": {},
   "source": [
    "\n",
    "\n",
    "## for cyklus\n",
    "- `for` &ensp; proměnná &ensp; `in` &ensp; seznam:\n",
    "    - seznam může být jakýkoliv iterovatelný objekt (např. seznam, řetězec, soubor, slovník, ...)\n",
    "- `else`:\n",
    "   - `else` se provede, pokud cyklus skončí bez `break`u\n",
    "- `break` &ensp; \n",
    "   - &ensp; ukončení cyklu\n",
    "- `continue` &ensp; \n",
    "   - &ensp; přeskočení zbytku kódu v aktuální iteraci a pokračování v další iteraci\n",
    "- `pass` &ensp; \n",
    "   - cyklus nesmí být prázdný, pokud něco například testujeme, ale ještě nevím co v cyklu budeme dělat, použijeme `pass`\n"
   ]
  },
  {
   "cell_type": "code",
   "execution_count": null,
   "metadata": {},
   "outputs": [],
   "source": [
    "# ukázka for cyklu\n",
    "můj_list = [1, 2, 3, 4, 5]\n",
    "for item in můj_list:\n",
    "    print(item)"
   ]
  },
  {
   "cell_type": "code",
   "execution_count": null,
   "metadata": {},
   "outputs": [],
   "source": [
    "# ukázka for cyklu s else\n",
    "for item in range(5):\n",
    "    print(item)\n",
    "else:\n",
    "    print(\"cyklus dokončen\")"
   ]
  },
  {
   "cell_type": "code",
   "execution_count": null,
   "metadata": {},
   "outputs": [],
   "source": [
    "# ukázka for cyklu s break\n",
    "for item in range(5):\n",
    "    print(item)\n",
    "    if item == 2:\n",
    "        break"
   ]
  },
  {
   "cell_type": "code",
   "execution_count": null,
   "metadata": {},
   "outputs": [],
   "source": [
    "# ukázka for cyklu s continue\n",
    "for item in range(5):\n",
    "    print(item)\n",
    "    if item == 2:\n",
    "        continue\n",
    "    print(\"potom continue\")"
   ]
  },
  {
   "cell_type": "code",
   "execution_count": null,
   "metadata": {},
   "outputs": [],
   "source": [
    "# ukázka prázdného cyklu\n",
    "for item in range(5):\n",
    "    pass"
   ]
  },
  {
   "attachments": {},
   "cell_type": "markdown",
   "metadata": {},
   "source": [
    "### Krátce k iterovatelným objektům\n",
    "- iterovatelný objekt je objekt, který umožňuje iteraci (procházení) svých prvků\n",
    "- iterovatelný objekt je objekt, který implementuje metodu `__iter__` (nebo `__getitem__`), která vrací iterátor\n",
    "- iterátor je objekt, který implementuje metodu `__next__`, která vrací další prvek iterovaného objektu\n",
    "\n",
    "Mezi nejčastější iterovatelné objekty patří seznam, řetězec, soubor, slovník, ...\n",
    "- list\n",
    "- tuple\n",
    "- set\n",
    "- dict\n",
    "- str\n",
    "- range\n",
    "- file\n",
    "- ...\n",
    "\n",
    "Můžeme také zabalit iterovatelné objekty:\n",
    "- `zip` &ensp; - &ensp; zabalí iterovatelné objekty do jednoho iterátoru\n",
    "- `enumerate` &ensp; - &ensp; zabalí iterovatelný objekt do iterátoru, který vrací dvojice (index, prvek)"
   ]
  },
  {
   "cell_type": "code",
   "execution_count": null,
   "metadata": {},
   "outputs": [],
   "source": [
    "# ukázka enumerate\n",
    "muj_list_pismen = [\"a\", \"b\", \"c\", \"d\", \"e\"]\n",
    "for index, pismeno in enumerate(muj_list_pismen):\n",
    "    print(index, pismeno)"
   ]
  },
  {
   "cell_type": "code",
   "execution_count": null,
   "metadata": {},
   "outputs": [],
   "source": [
    "# ukázka zip\n",
    "muj_list_pismen = [\"a\", \"b\", \"c\", \"d\", \"e\"]\n",
    "muj_list_touplu = [(1, 2), (3, 4), (5, 6), (7, 8), (9, 10)]\n",
    "for pismeno, touple in zip(muj_list_pismen, muj_list_touplu):\n",
    "    print(pismeno, touple)\n",
    "    \n",
    "# ukázka kombinace zip a enumerate\n",
    "for index, (pismeno, touple) in enumerate(zip(muj_list_pismen, muj_list_touplu)):\n",
    "    print(index, pismeno, touple)"
   ]
  },
  {
   "cell_type": "code",
   "execution_count": null,
   "metadata": {},
   "outputs": [],
   "source": [
    "# zip ve skutečnosti vrací touple\n",
    "muj_list_pismen = [\"a\", \"b\", \"c\", \"d\", \"e\"]\n",
    "muj_list_cisel = [1, 2, 3, 4, 5]\n",
    "for prvek in zip(muj_list_pismen, muj_list_touplu):\n",
    "    print(prvek)"
   ]
  },
  {
   "attachments": {},
   "cell_type": "markdown",
   "metadata": {},
   "source": [
    "\n",
    "## while\n",
    "- `while` &ensp; podmínka:\n",
    "- `else`:\n",
    "   - `else` se provede, pokud cyklus skončí bez `break`u\n",
    "- `break` &ensp;\n",
    "    - &ensp; ukončení cyklu\n",
    "- `continue` &ensp;\n",
    "    - &ensp; přeskočení zbytku kódu v aktuální iteraci a pokračování v další iteraci\n",
    "- pozor na nekonečné smyčky!\n",
    "\n"
   ]
  },
  {
   "cell_type": "code",
   "execution_count": null,
   "metadata": {},
   "outputs": [],
   "source": [
    "# ukázka while cyklu\n",
    "x = 0\n",
    "while x < 5:\n",
    "    print(x)\n",
    "    x += 1"
   ]
  },
  {
   "cell_type": "code",
   "execution_count": null,
   "metadata": {},
   "outputs": [],
   "source": [
    "# while cyklus s else\n",
    "x = 0\n",
    "while x < 5:\n",
    "    print(x)\n",
    "    x += 1\n",
    "else:\n",
    "    print(\"cyklus dokončen\")"
   ]
  },
  {
   "cell_type": "code",
   "execution_count": null,
   "metadata": {},
   "outputs": [],
   "source": [
    "# ukázka while cyklu s break\n",
    "x = 0\n",
    "while x < 5:\n",
    "    print(x)\n",
    "    x += 1\n",
    "    if x == 3:\n",
    "        break\n",
    "else:\n",
    "    print(\"cyklus dokončen\")"
   ]
  },
  {
   "cell_type": "code",
   "execution_count": null,
   "metadata": {},
   "outputs": [],
   "source": [
    "# ukázka while cyklu s continue\n",
    "x = 0\n",
    "while x < 5:\n",
    "    print(x)\n",
    "    x += 1\n",
    "    if x == 3:\n",
    "        continue\n",
    "    print(\"potom continue\")\n",
    "else:\n",
    "    print(\"cyklus dokončen\")"
   ]
  },
  {
   "cell_type": "code",
   "execution_count": null,
   "metadata": {},
   "outputs": [],
   "source": [
    "# ukázka nekonečné smyčky\n",
    "x = 0\n",
    "while x < 5:\n",
    "    print(x)"
   ]
  },
  {
   "attachments": {},
   "cell_type": "markdown",
   "metadata": {},
   "source": [
    "V Pythonu není syntaxe pro do-while cyklus, ale je možné jej vytvořit pomocí while cyklu a `break`u. Ale není to dobrá praxe."
   ]
  },
  {
   "cell_type": "code",
   "execution_count": null,
   "metadata": {},
   "outputs": [],
   "source": [
    "# do while cyklus\n",
    "x = 0\n",
    "while True:\n",
    "    print(x)\n",
    "    x += 1\n",
    "    if x == 5:\n",
    "        break"
   ]
  },
  {
   "attachments": {},
   "cell_type": "markdown",
   "metadata": {},
   "source": [
    "## match (Python 3.10)\n",
    "Match je nová konstrukce, která umožňuje porovnávat hodnoty s pomocí patternů. Základní syntaxe je následující:\n",
    "- `match` &ensp; výraz:\n",
    "    - `case` &ensp; pattern &ensp; `if` &ensp; podmínka:\n",
    "    - `case` &ensp; pattern:\n",
    "    - `case` &ensp; _:\n",
    "- `match` vrací výsledek vyhodnocení patternu, který se shoduje s hodnotou výrazu\n",
    "\n",
    "Všechny patterny jsou v Pythonu vlastně výrazy, které se vyhodnocují a vrací `True` nebo `False` podle toho, zda se pattern shoduje s hodnotou výrazu. Pokud se shoduje, provede se kód v case bloku. Paterny mohou být velice komplikované, my si zde ukážeme pouze základní užití."
   ]
  },
  {
   "cell_type": "code",
   "execution_count": null,
   "metadata": {},
   "outputs": [],
   "source": [
    "# ukázka match case\n",
    "vyraz = \"ahoj\"\n",
    "match vyraz:\n",
    "    case \"ahoj\":\n",
    "        print(\"taky ahoj\")\n",
    "    case \"nazdar\":\n",
    "        print(\"taky nazdar\")\n",
    "    case _:\n",
    "        print(\"to neznám\")"
   ]
  },
  {
   "cell_type": "code",
   "execution_count": null,
   "metadata": {},
   "outputs": [],
   "source": [
    "# ukázka match case s více možnostmi v jednom case\n",
    "vyraz = \"ahoj\"\n",
    "match vyraz:\n",
    "    case \"ahoj\" | \"nazdar\":\n",
    "        print(\"taky ahoj\")\n",
    "    case _:\n",
    "        print(\"to neznám\")"
   ]
  },
  {
   "cell_type": "code",
   "execution_count": null,
   "metadata": {},
   "outputs": [],
   "source": [
    "# ukázka match case s if\n",
    "list_vyrazu = [\"ahoj\", \"měj se\", \"cau\"]\n",
    "match list_vyrazu:\n",
    "    case [\"ahoj\", *zbytek] if len(zbytek[0]) < 5:\n",
    "        print(\"ahoj, nazdar\")\n",
    "    case [vyraz, *zbytek]:\n",
    "        print(\"ahoj a cokoliv, konkrétně = \", zbytek)\n",
    "    case _:\n",
    "        print(\"něco jiného\")"
   ]
  },
  {
   "cell_type": "code",
   "execution_count": null,
   "metadata": {},
   "outputs": [],
   "source": []
  }
 ],
 "metadata": {
  "kernelspec": {
   "display_name": "Python 3",
   "language": "python",
   "name": "python3"
  },
  "language_info": {
   "codemirror_mode": {
    "name": "ipython",
    "version": 3
   },
   "file_extension": ".py",
   "mimetype": "text/x-python",
   "name": "python",
   "nbconvert_exporter": "python",
   "pygments_lexer": "ipython3",
   "version": "3.10.9"
  },
  "orig_nbformat": 4,
  "vscode": {
   "interpreter": {
    "hash": "e7370f93d1d0cde622a1f8e1c04877d8463912d04d973331ad4851f04de6915a"
   }
  }
 },
 "nbformat": 4,
 "nbformat_minor": 2
}
