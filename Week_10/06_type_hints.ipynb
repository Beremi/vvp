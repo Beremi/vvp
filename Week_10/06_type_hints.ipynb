{
 "cells": [
  {
   "attachments": {},
   "cell_type": "markdown",
   "metadata": {},
   "source": [
    "# Úvod do Type Hintingu v Pythonu\n",
    "\n",
    "Type hinting je vlastnost Pythonu, která umožňuje vývojářům poskytovat náznaky očekávaných datových typů argumentů funkcí a návratových hodnot. Tato praxe činí kód čitelnějším a udržovatelnějším a zároveň umožňuje lepší analýzu kódu, automatické dokončování a kontrolu chyb pomocí editorů a linterů.\n",
    "\n",
    "Zde se seznámíme se základy type hinting v Pythonu:\n",
    "\n",
    "1. Základní syntaxe\n",
    "2. Základní type hinty\n",
    "3. Modul typing\n",
    "4. Type aliasy\n",
    "5. Generické typy\n",
    "6. Type hinty pro NumPy"
   ]
  },
  {
   "attachments": {},
   "cell_type": "markdown",
   "metadata": {},
   "source": [
    "## 1. Základní syntaxe\n",
    "\n",
    "Chceme-li definovat očekávané typy argumentů a návratových hodnot funkcí, použijeme tzv. anotace typů. Anotace typů jsou zápisy za názvem proměnné, oddělené dvojtečkou (`:`). Návratový typ se zaznamenává za `->` před dvojtečkou na konci řádku s `def`. \n"
   ]
  },
  {
   "cell_type": "code",
   "execution_count": 5,
   "metadata": {},
   "outputs": [],
   "source": [
    "def jmeno_funkce(argument1: int, argument2: str) -> int:\n",
    "    return 0"
   ]
  },
  {
   "attachments": {},
   "cell_type": "markdown",
   "metadata": {},
   "source": [
    "Stjně můžeme definovat typ u jednotlivých proměnných."
   ]
  },
  {
   "cell_type": "code",
   "execution_count": 6,
   "metadata": {},
   "outputs": [],
   "source": [
    "cislo_pi : float = 3.14\n",
    "nejaky_text : str = \"Ahoj světe!\""
   ]
  },
  {
   "attachments": {},
   "cell_type": "markdown",
   "metadata": {},
   "source": [
    "Můžeme si linter nastavit, aby nám hlásil chyby, pokud se požadované typy pomocí type hintingu neshodují s typy proměnných, které jsou v kódu použity. Nicméně typy hinting nemá žádný vliv na běh programu, takže pokud se neshodují, program běží stejně."
   ]
  },
  {
   "cell_type": "code",
   "execution_count": 7,
   "metadata": {},
   "outputs": [
    {
     "data": {
      "text/plain": [
       "0"
      ]
     },
     "execution_count": 7,
     "metadata": {},
     "output_type": "execute_result"
    }
   ],
   "source": [
    "jmeno_funkce(cislo_pi, nejaky_text)"
   ]
  },
  {
   "attachments": {},
   "cell_type": "markdown",
   "metadata": {},
   "source": [
    "## 2. Základní type hinty\n",
    "Vestavěné typy v Pythonu se dají použít jako type hinty, například:\n",
    "1. **int**: Celá čísla (integer)\n",
    "2. **float**: Desetinná čísla (floating-point)\n",
    "3. **bool**: Boolovské hodnoty (True/False)\n",
    "4. **str**: Řetězce (string)\n",
    "5. **bytes**: Bytové řetězce (sequence of bytes)\n",
    "6. **list**: Seznam (list)\n",
    "7. **tuple**: N-tice (tuple)\n",
    "8. **dict**: Slovník (dictionary)\n",
    "9. **set**: Množina (set)\n",
    "10. **frozenset**: Neměnná množina (frozen set)\n",
    "11. **object**: Základní třída pro všechny objekty v Pythonu\n",
    "12. **type**: Typ objektu\n",
    "13. **None**: Konstanta reprezentující žádnou hodnotu nebo prázdný stav (NoneType)\n",
    "14. **complex**: Komplexní čísla\n",
    "15. **bytearray**: Pole bytů (mutable sequence of bytes)\n",
    "16. **memoryview**: Objekt memoryview pro práci s pamětovými bloky\n",
    "17. **range**: Rozsah čísel (immutable sequence of numbers)"
   ]
  },
  {
   "cell_type": "code",
   "execution_count": 8,
   "metadata": {},
   "outputs": [
    {
     "data": {
      "text/plain": [
       "0"
      ]
     },
     "execution_count": 8,
     "metadata": {},
     "output_type": "execute_result"
    }
   ],
   "source": [
    "def foo2(bar: list) -> int:\n",
    "    return 0\n",
    "\n",
    "promenna : list = [1, 2, 3]\n",
    "foo2(promenna)"
   ]
  },
  {
   "cell_type": "code",
   "execution_count": 9,
   "metadata": {},
   "outputs": [
    {
     "name": "stdout",
     "output_type": "stream",
     "text": [
      "0\n",
      "1\n"
     ]
    }
   ],
   "source": [
    "def foo3(bar: range) -> None:\n",
    "    for i in bar:\n",
    "        print(i)\n",
    "\n",
    "a = range(2)\n",
    "foo3(a)"
   ]
  },
  {
   "attachments": {},
   "cell_type": "markdown",
   "metadata": {},
   "source": [
    "Dále můžeme používat vlastní třídy jako type hinty."
   ]
  },
  {
   "cell_type": "code",
   "execution_count": 10,
   "metadata": {},
   "outputs": [
    {
     "data": {
      "text/plain": [
       "2"
      ]
     },
     "execution_count": 10,
     "metadata": {},
     "output_type": "execute_result"
    }
   ],
   "source": [
    "class Trida:\n",
    "    def __init__(self, promenna: int):\n",
    "        self.promenna = promenna\n",
    "\n",
    "    def metoda(self, promenna: int) -> int:\n",
    "        return self.promenna + promenna\n",
    "    \n",
    "def foo4(bar: Trida) -> int:\n",
    "    return bar.metoda(1)\n",
    "\n",
    "promenna = Trida(1)\n",
    "foo4(promenna)"
   ]
  },
  {
   "attachments": {},
   "cell_type": "markdown",
   "metadata": {},
   "source": [
    "Podívejte se na rozdíl v nápovědě k metodě `metoda` v příkladu níže. V prvním případě je nápověda k metodě `metoda` vytvořena pomocí type hintingu, v druhém případě není jasné, co metoda `metoda` očekává jako argumenty a co vrátí neboť není jasné jaké třídy jsou použity."
   ]
  },
  {
   "cell_type": "code",
   "execution_count": 11,
   "metadata": {},
   "outputs": [
    {
     "data": {
      "text/plain": [
       "2"
      ]
     },
     "execution_count": 11,
     "metadata": {},
     "output_type": "execute_result"
    }
   ],
   "source": [
    "def foo5(bar):\n",
    "    return bar.metoda(1)\n",
    "\n",
    "foo4(promenna)"
   ]
  },
  {
   "attachments": {},
   "cell_type": "markdown",
   "metadata": {},
   "source": [
    "\n",
    "## 3. Modul typing\n",
    "\n",
    "Modul `typing` je knihovna zavedená v Pythonu 3.5, která rozšiřuje možnosti type hinting o další specializované typy:\n",
    "- List s předepsaným typemm prvků (např. `List[int]`)\n",
    "- Předepsaná délka kontejneru (např. `List[int, 3]`, nebo `List[int, int, int]`)"
   ]
  },
  {
   "cell_type": "code",
   "execution_count": 12,
   "metadata": {},
   "outputs": [],
   "source": [
    "from typing import List, Tuple, Dict, Union, Optional\n",
    "\n",
    "# List s definovaným typem\n",
    "seznam_celych_cisel: List[int] = [1, 2, 3]\n",
    "\n",
    "# Tuple s definovaným typem a počtem prvků\n",
    "ntice_celych_cisel: Tuple[int, int, int] = (1, 2, 3)\n",
    "\n",
    "# Dict s definovaným typem klíče a hodnoty\n",
    "slovnik_celych_cisel: Dict[str, int] = {\"jedna\": 1, \"dva\": 2, \"tri\": 3}"
   ]
  },
  {
   "attachments": {},
   "cell_type": "markdown",
   "metadata": {},
   "source": [
    "\n",
    "### Kombinace typů\n",
    "\n",
    "`Union` a `Optional` jsou dva užitečné typy, které poskytuje modul `typing`. Níže je podrobnější popis těchto dvou typů.\n"
   ]
  },
  {
   "cell_type": "markdown",
   "metadata": {},
   "source": [
    "\n",
    "#### Union\n",
    "\n",
    "`Union` se používá, když je třeba vyjádřit, že hodnota může být jedním z více možných typů. Typ `Union` vytváří sjednocení (union) mezi zadanými typy a naznačuje, že hodnota může být jakýmkoli z těchto typů.\n",
    "\n"
   ]
  },
  {
   "cell_type": "code",
   "execution_count": 13,
   "metadata": {},
   "outputs": [
    {
     "name": "stdout",
     "output_type": "stream",
     "text": [
      "Hodnota je: 42\n",
      "Hodnota je: Ahoj\n"
     ]
    }
   ],
   "source": [
    "from typing import Union\n",
    "\n",
    "\n",
    "def vypis_hodnotu(hodnota: Union[int, str]) -> None:\n",
    "    print(f\"Hodnota je: {hodnota}\")\n",
    "\n",
    "\n",
    "vypis_hodnotu(42)  # Hodnota je: 42\n",
    "vypis_hodnotu(\"Ahoj\")  # Hodnota je: Ahoj\n"
   ]
  },
  {
   "attachments": {},
   "cell_type": "markdown",
   "metadata": {},
   "source": [
    "#### Optional\n",
    "`Optional` je zvláštní případ `Union`, který se používá, když hodnota může být daným typem nebo None. V podstatě `Optional[Typ]` je ekvivalent `Union[Typ, None]`."
   ]
  },
  {
   "cell_type": "code",
   "execution_count": 14,
   "metadata": {},
   "outputs": [],
   "source": [
    "from typing import Optional, List\n",
    "\n",
    "def najdi_index(hledany_prvek: str, seznam_prvku: List[str]) -> Optional[int]:\n",
    "    if hledany_prvek in seznam_prvku:\n",
    "        return seznam_prvku.index(hledany_prvek)\n",
    "    else:\n",
    "        return None\n",
    "\n",
    "prvky = [\"jablko\", \"hruska\", \"banan\"]\n",
    "index_jablka = najdi_index(\"jablko\", prvky)  # index_jablka = 0\n",
    "index_pomeranc = najdi_index(\"pomeranc\", prvky)  # index_pomeranc = None\n"
   ]
  },
  {
   "attachments": {},
   "cell_type": "markdown",
   "metadata": {},
   "source": [
    "#### Nová syntaxe od Pythonu 3.10\n",
    "V Pythonu 3.10 byla přidána nová syntaxe pro `Union` a `Optional`. Nová syntaxe umožňuje použít `|` místo `Union` a `None` místo `Optional`."
   ]
  },
  {
   "cell_type": "code",
   "execution_count": 15,
   "metadata": {},
   "outputs": [
    {
     "name": "stdout",
     "output_type": "stream",
     "text": [
      "Hodnota je: 42\n",
      "Hodnota je: Ahoj\n"
     ]
    }
   ],
   "source": [
    "# Příklad s Union\n",
    "from typing import List\n",
    "\n",
    "\n",
    "def vypis_hodnotu(hodnota: int | str) -> None:\n",
    "    print(f\"Hodnota je: {hodnota}\")\n",
    "\n",
    "\n",
    "vypis_hodnotu(42)  # Hodnota je: 42\n",
    "vypis_hodnotu(\"Ahoj\")  # Hodnota je: Ahoj\n",
    "\n",
    "# Příklad s Optional\n",
    "\n",
    "\n",
    "def najdi_index(hledany_prvek: str, seznam_prvku: List[str]) -> int | None:\n",
    "    if hledany_prvek in seznam_prvku:\n",
    "        return seznam_prvku.index(hledany_prvek)\n",
    "    else:\n",
    "        return None\n",
    "\n",
    "\n",
    "prvky = [\"jablko\", \"hruska\", \"banan\"]\n",
    "index_jablka = najdi_index(\"jablko\", prvky)  # index_jablka = 0\n",
    "index_pomeranc = najdi_index(\"pomeranc\", prvky)  # index_pomeranc = None\n"
   ]
  },
  {
   "attachments": {},
   "cell_type": "markdown",
   "metadata": {},
   "source": [
    "### Splecifické hodnoty `Literal`\n",
    "\n",
    "`Literal` je typ, který umožňuje definovat konkrétní hodnoty, které může mít proměnná. `Literal` je užitečný, pokud chceme definovat konkrétní hodnoty, které může mít proměnná, například pro výběr z možností v rozbalovacím menu. "
   ]
  },
  {
   "cell_type": "code",
   "execution_count": 16,
   "metadata": {},
   "outputs": [
    {
     "name": "stdout",
     "output_type": "stream",
     "text": [
      "Setting status to: approved\n",
      "Setting status to: unknown\n"
     ]
    }
   ],
   "source": [
    "from typing import Literal\n",
    "\n",
    "\n",
    "def set_status(status: Literal['pending', 'approved', 'rejected']) -> None:\n",
    "    print(f\"Setting status to: {status}\")\n",
    "\n",
    "\n",
    "# This will work\n",
    "set_status('approved')\n",
    "\n",
    "# This will raise a type error during static type checking\n",
    "set_status('unknown')\n"
   ]
  },
  {
   "attachments": {},
   "cell_type": "markdown",
   "metadata": {},
   "source": [
    "### Anotace typů pro dodatečnou dokumentace `Annotated`\n",
    "\n",
    "Slouží k přidání dodatečných informací k anotaci typu bez toho abychom měnili typ. Funkčnost `Annotated` je podobná jako kdybychom tyto informace přidali jako docstring.\n",
    " "
   ]
  },
  {
   "cell_type": "code",
   "execution_count": 17,
   "metadata": {},
   "outputs": [
    {
     "name": "stdout",
     "output_type": "stream",
     "text": [
      "Processing name: Alice\n",
      "Processing name: Bob\n",
      "Processing name: Charlie\n",
      "Processing name: David\n",
      "Processing name: Eve\n",
      "Processing name: Alice\n",
      "Processing name: Bob\n",
      "Processing name: Charlie\n",
      "Processing name: David\n",
      "Processing name: Eve\n",
      "Processing name: Frank\n"
     ]
    }
   ],
   "source": [
    "from typing import Annotated, List\n",
    "\n",
    "# Define a custom annotation\n",
    "\n",
    "\n",
    "def max_length(length: int) -> int:\n",
    "    return length\n",
    "\n",
    "\n",
    "def process_names(names: Annotated[List[str], max_length(5)]) -> None:\n",
    "    for name in names:\n",
    "        print(f\"Processing name: {name}\")\n",
    "\n",
    "\n",
    "names = [\"Alice\", \"Bob\", \"Charlie\", \"David\", \"Eve\"]\n",
    "process_names(names)\n",
    "\n",
    "names2 = [\"Alice\", \"Bob\", \"Charlie\", \"David\", \"Eve\", \"Frank\"]\n",
    "process_names(names2)"
   ]
  },
  {
   "attachments": {},
   "cell_type": "markdown",
   "metadata": {},
   "source": [
    "## 4. Type aliasy\n",
    "Type aliasy lze použít k vytvoření čitelnějších type hintů:"
   ]
  },
  {
   "cell_type": "code",
   "execution_count": 18,
   "metadata": {},
   "outputs": [
    {
     "data": {
      "text/plain": [
       "2.8284271247461903"
      ]
     },
     "execution_count": 18,
     "metadata": {},
     "output_type": "execute_result"
    }
   ],
   "source": [
    "from typing import List, Tuple\n",
    "\n",
    "Souradnice = Tuple[float, float]\n",
    "Cesta = List[Souradnice]\n",
    "\n",
    "\n",
    "def vypocet_vzdalenosti(cesta: Cesta) -> float:\n",
    "    vzdalenost = 0\n",
    "    for i, souradnice in enumerate(cesta):\n",
    "        if i == 0:\n",
    "            continue\n",
    "        x1, y1 = cesta[i - 1]\n",
    "        x2, y2 = souradnice\n",
    "        vzdalenost += ((x2 - x1) ** 2 + (y2 - y1) ** 2) ** 0.5\n",
    "    return vzdalenost\n",
    "\n",
    "cesta = [(0.1, 0.1), (1.1, 1.1), (2.1, 2.1)]\n",
    "vypocet_vzdalenosti(cesta)\n"
   ]
  },
  {
   "attachments": {},
   "cell_type": "markdown",
   "metadata": {},
   "source": [
    "## 5. Generika\n",
    "Generika jsou užitečná pokud chceme pouze specifikovat, že v některých částech kódu má být stejný typ, ale je nám už jedno jaký typ přesně to bude."
   ]
  },
  {
   "cell_type": "code",
   "execution_count": 19,
   "metadata": {},
   "outputs": [
    {
     "data": {
      "text/plain": [
       "1"
      ]
     },
     "execution_count": 19,
     "metadata": {},
     "output_type": "execute_result"
    }
   ],
   "source": [
    "from typing import List, TypeVar\n",
    "\n",
    "T = TypeVar(\"T\")\n",
    "\n",
    "\n",
    "def najdi_prvni(prvky: List[T], cil: T) -> int:\n",
    "    for i, prvek in enumerate(prvky):\n",
    "        if prvek == cil:\n",
    "            return i\n",
    "    return -1\n",
    "\n",
    "prvky = [1, 2, 3]\n",
    "najdi_prvni(prvky, 2)\n",
    "\n",
    "prvky = [\"jablko\", \"hruska\", \"banan\"]\n",
    "najdi_prvni(prvky, \"hruska\")\n"
   ]
  },
  {
   "cell_type": "code",
   "execution_count": 20,
   "metadata": {},
   "outputs": [
    {
     "data": {
      "text/plain": [
       "-1"
      ]
     },
     "execution_count": 20,
     "metadata": {},
     "output_type": "execute_result"
    }
   ],
   "source": [
    "prvky = [1.3, 2.4, 3.5]\n",
    "najdi_prvni(prvky, \"3\")\n"
   ]
  },
  {
   "attachments": {},
   "cell_type": "markdown",
   "metadata": {},
   "source": [
    "U generických typů můžeme specifikovat seznam typů, které může generický typ obsahovat."
   ]
  },
  {
   "cell_type": "code",
   "execution_count": 21,
   "metadata": {},
   "outputs": [
    {
     "data": {
      "text/plain": [
       "1"
      ]
     },
     "execution_count": 21,
     "metadata": {},
     "output_type": "execute_result"
    }
   ],
   "source": [
    "from typing import TypeVar\n",
    "\n",
    "OmezenyTyp = TypeVar(\"OmezenyTyp\", int, str)\n",
    "\n",
    "\n",
    "def najdi_prvni(prvky: List[OmezenyTyp], cil: OmezenyTyp) -> int:\n",
    "    for i, prvek in enumerate(prvky):\n",
    "        if prvek == cil:\n",
    "            return i\n",
    "    return -1\n",
    "\n",
    "prvky = [1, 2, 3]\n",
    "najdi_prvni(prvky, 2)\n",
    "\n",
    "prvky = [\"jablko\", \"hruska\", \"banan\"]\n",
    "najdi_prvni(prvky, \"hruska\")\n"
   ]
  },
  {
   "cell_type": "code",
   "execution_count": 22,
   "metadata": {},
   "outputs": [
    {
     "data": {
      "text/plain": [
       "2"
      ]
     },
     "execution_count": 22,
     "metadata": {},
     "output_type": "execute_result"
    }
   ],
   "source": [
    "\n",
    "prvky = [1.3, 2.4, 3.5]\n",
    "najdi_prvni(prvky, 3.5)\n",
    "\n"
   ]
  },
  {
   "attachments": {},
   "cell_type": "markdown",
   "metadata": {},
   "source": [
    "## 6. Type hinty pro NumPy\n",
    "\n",
    "Type hinting v NumPy je trochu komplikovanější. Vestavěné nástroje Pythonu umožňují pouze kontrolu, jestli se jedná o objekt `ndarray`. My bychom ale chtěli, aby se kontrola typů pro `ndarray` prováděla na úrovni vlastnosti pole, například `ndarray.shape` nebo `ndarray.dtype`.\n",
    "\n",
    "Částečně nám s tímto může pomoci modul `numpy.typing`, který umožňuje definovat type hinty pro datový typ obsažený v `ndarray`. "
   ]
  },
  {
   "cell_type": "code",
   "execution_count": 23,
   "metadata": {},
   "outputs": [
    {
     "name": "stdout",
     "output_type": "stream",
     "text": [
      "[[1. 2. 3.]\n",
      " [4. 5. 6.]\n",
      " [7. 8. 9.]]\n"
     ]
    }
   ],
   "source": [
    "import numpy as np\n",
    "from numpy.typing import NDArray\n",
    "\n",
    "\n",
    "def process_array(arr: NDArray[np.float64]) -> None:\n",
    "    print(arr)\n",
    "\n",
    "\n",
    "input_array = np.array([\n",
    "    [1.0, 2.0, 3.0],\n",
    "    [4.0, 5.0, 6.0],\n",
    "    [7.0, 8.0, 9.0]\n",
    "])\n",
    "\n",
    "process_array(input_array)\n"
   ]
  },
  {
   "cell_type": "code",
   "execution_count": 24,
   "metadata": {},
   "outputs": [
    {
     "name": "stdout",
     "output_type": "stream",
     "text": [
      "[1 2 3]\n"
     ]
    }
   ],
   "source": [
    "input_array = np.array([1, 2, 3], dtype=np.int8)\n",
    "process_array(input_array)\n"
   ]
  },
  {
   "attachments": {},
   "cell_type": "markdown",
   "metadata": {},
   "source": [
    "Bohužel modul `numpy.typing` zatím neumožňuje definovat type hinty pro velikost pole. Toto lze pouze naznačit pomocí `Annotated` z modulu `typing`. Takové naznačení se ale nekontroluje, slouží pouze jako součást nápovědy."
   ]
  },
  {
   "cell_type": "code",
   "execution_count": 25,
   "metadata": {},
   "outputs": [],
   "source": [
    "from typing import Annotated, Literal\n",
    "\n",
    "def foo1(arr: Annotated[NDArray[np.int32], Literal[4]]) -> None:\n",
    "    print(arr)\n",
    "\n",
    "def foo2(arr: Annotated[NDArray[np.float64], Literal[3, 3]]) -> None:\n",
    "    print(arr)\n",
    "\n"
   ]
  },
  {
   "attachments": {},
   "cell_type": "markdown",
   "metadata": {},
   "source": [
    "Tento nepříjemný stav type hintingu v NumPy se naštěstí posouvá k řešení. V mezičase vznikají knihovny, které toto chování nahrazují. \n",
    "\n",
    "Například knihovna `nptyping`. Bohužel však tato knihovna není plně kompatibilní s type checkingem a vlastnosti `ndarray` jsou brány podobně jako při `Annotated`."
   ]
  },
  {
   "cell_type": "code",
   "execution_count": 26,
   "metadata": {},
   "outputs": [],
   "source": [
    "#!pip install -U nptyping"
   ]
  },
  {
   "cell_type": "code",
   "execution_count": 29,
   "metadata": {},
   "outputs": [
    {
     "name": "stdout",
     "output_type": "stream",
     "text": [
      "-2.0000000000000004\n",
      "0.0\n",
      "-2.0000000000000004\n"
     ]
    }
   ],
   "source": [
    "from nptyping import NDArray, Int, Float, Shape\n",
    "\n",
    "def foo(arr: NDArray[Shape[\"2, 2\"], Int]) -> int:\n",
    "    return np.linalg.det(arr)\n",
    "\n",
    "arr = np.array([[1, 2], [3, 4]])\n",
    "print(foo(arr))\n",
    "\n",
    "arr = np.array([[1, 2, 3], [4, 5, 6], [7, 8, 9]])\n",
    "print(foo(arr))\n",
    "\n",
    "arr = np.array([[1, 2], [3, 4]], dtype=np.float64)\n",
    "print(foo(arr))\n"
   ]
  },
  {
   "attachments": {},
   "cell_type": "markdown",
   "metadata": {},
   "source": [
    "Na druhou stranu umožňuje knihovna `nptyping` jednoduchou kontrolu typů pro `ndarray` pomocí `isinstance`."
   ]
  },
  {
   "cell_type": "code",
   "execution_count": 30,
   "metadata": {},
   "outputs": [
    {
     "name": "stdout",
     "output_type": "stream",
     "text": [
      "True\n",
      "False\n",
      "False\n"
     ]
    }
   ],
   "source": [
    "arr = np.array([[1, 2], [3, 4]], dtype=np.float64)\n",
    "print(isinstance(arr, NDArray[Shape[\"2, 2\"], Float])) # type: ignore\n",
    "\n",
    "arr = np.array([[1, 2], [3, 4]], dtype=np.int32)\n",
    "print(isinstance(arr, NDArray[Shape[\"2, 2\"], Float]))  # type: ignore\n",
    "\n",
    "arr = np.array([[1, 2, 3], [4, 5, 6], [7, 8, 9]], dtype=np.float64)\n",
    "print(isinstance(arr, NDArray[Shape[\"2, 2\"], Float]))  # type: ignore\n"
   ]
  },
  {
   "attachments": {},
   "cell_type": "markdown",
   "metadata": {},
   "source": [
    "## 7. Type hinty při běhu\n",
    "\n",
    "Type hinty sice nejsou přímo vyhodnocovány, ale můžeme se na ně podívat pomocí `__annotations__` atributu třídy."
   ]
  },
  {
   "cell_type": "code",
   "execution_count": 31,
   "metadata": {},
   "outputs": [
    {
     "name": "stdout",
     "output_type": "stream",
     "text": [
      "{'par': <class 'int'>, 'par2': <class 'str'>, 'return': None}\n"
     ]
    }
   ],
   "source": [
    "def foo(par: int, par2: str) -> None:\n",
    "    print(par, par2)\n",
    "\n",
    "print(foo.__annotations__)"
   ]
  },
  {
   "cell_type": "code",
   "execution_count": null,
   "metadata": {},
   "outputs": [],
   "source": []
  }
 ],
 "metadata": {
  "kernelspec": {
   "display_name": "Python 3",
   "language": "python",
   "name": "python3"
  },
  "language_info": {
   "codemirror_mode": {
    "name": "ipython",
    "version": 3
   },
   "file_extension": ".py",
   "mimetype": "text/x-python",
   "name": "python",
   "nbconvert_exporter": "python",
   "pygments_lexer": "ipython3",
   "version": "3.10.10"
  },
  "orig_nbformat": 4
 },
 "nbformat": 4,
 "nbformat_minor": 2
}
