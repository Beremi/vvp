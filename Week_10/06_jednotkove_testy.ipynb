{
 "cells": [
  {
   "attachments": {},
   "cell_type": "markdown",
   "metadata": {},
   "source": [
    "# Jednotkové testy"
   ]
  },
  {
   "attachments": {},
   "cell_type": "markdown",
   "metadata": {},
   "source": [
    "- Jednotkové testy slouží k automatizovanému ověření funkčnosti programu.\n",
    "- Jednotkový test se zaměřuje vždy na nějakou \"jednotku\" - malou část funkčnosti kódu.\n",
    "\n",
    "V **kompilovaných** jazycích (**Rust**, C++, Java) za nás část kontroly kódu udělá kompilátor, který zkontroluje, že nepoužíváme nedeklarované proměnné, že jsou všechny proměnné správného typu, ... Sice se tak nevyhneme chybám v logice programu, ale obvykle se tak odchytí alespoň překlepy. V Pythonu (a jiných skriptovacích jazycích) **žádná kontrola předem neexistuje** - jediná kontrola při načítání kódu se týká syntaktické správnosti. Z toho vyplývá, že kód v Pythonu je mnohem náchylnějším vůči chybám a o to více bychom ho měli kontrolovat. Jednotkové testování je v tomto nejmocnějším nástrojem."
   ]
  },
  {
   "attachments": {},
   "cell_type": "markdown",
   "metadata": {},
   "source": [
    "## Použití v praxi - unittest a pytest"
   ]
  },
  {
   "cell_type": "markdown",
   "metadata": {},
   "source": [
    "Ve standardní knihovně Pythonu je modul **unittest**, v němž jsou všechny potřebné třídy a metody. Naše testy by měly dědit **unittest.TestCase** (typicky v jedné třídě několik testů patřících k sobě)"
   ]
  },
  {
   "cell_type": "markdown",
   "metadata": {},
   "source": [
    "**Příklad**: Mějme pěknou třídu Auto, o které si myslím, že musí fungovat. Je s ní nějaký problém?"
   ]
  },
  {
   "cell_type": "code",
   "execution_count": null,
   "metadata": {
    "collapsed": false,
    "jupyter": {
     "outputs_hidden": false
    }
   },
   "outputs": [],
   "source": [
    "%%file auto.py\n",
    "# -*- coding: utf8 -*-\n",
    "class Auto(object):\n",
    "    def __init__(self, spotreba, rychlost):\n",
    "        self.spotreba = spotreba\n",
    "        self.rychlost = rychlost\n",
    "        self.cas = 0\n",
    "        self.vzdalenost = 0\n",
    "        self.nadrz = 50\n",
    "        \n",
    "    def ujed(self, vzdalenost):\n",
    "        self.vzdalenost += vzdalenost\n",
    "        self.cas += vzdalenost / self.rychlost\n",
    "        self.nadrz -= vzdalenost * self.spotreba\n",
    "\n"
   ]
  },
  {
   "cell_type": "markdown",
   "metadata": {},
   "source": [
    "Napíšeme si několik testů, protože si auto chceme \"proklepnout\", a najednou uvidíme, jak je naše třída děravá!"
   ]
  },
  {
   "cell_type": "code",
   "execution_count": null,
   "metadata": {
    "collapsed": false,
    "jupyter": {
     "outputs_hidden": false
    }
   },
   "outputs": [],
   "source": [
    "%%file auto_test.py\n",
    "\n",
    "# -*- coding: utf8 -*-\n",
    "from auto import Auto\n",
    "import unittest\n",
    "\n",
    "class AutoTest(unittest.TestCase):             # Dědíme z třídy unittest.TestCase\n",
    "    def test_vypocet_spotreby(self):\n",
    "        auto = Auto(10, 200)                   # Dost žere, ale je rychlé\n",
    "        nadrz1 = auto.nadrz\n",
    "        auto.ujed(100)\n",
    "        nadrz2 = auto.nadrz\n",
    "        self.assertEqual(10, nadrz1 - nadrz2)  # Víme, že auto mělo spotřebovat 10 litrů\n",
    "        \n",
    "    def test_neprazdna_nadrz(self):\n",
    "        auto = Auto(8, 100)\n",
    "        with self.assertRaises(Exception):\n",
    "            auto.ujed(1000)                    # Dojde benzín\n",
    "        self.assertTrue(auto.nadrz == 0)       # I poté musí nádrž být nejhůře prázdná    \n",
    "        \n",
    "    def test_nesmyslnych_aut(self):\n",
    "        with self.assertRaises(Exception):\n",
    "            auto = Auto(0, 100)                # Auto bez spotřeby!\n",
    "        with self.assertRaises(Exception):\n",
    "            auto = Auto(10, 0)                 # Auto, které neumí jezdit!\n",
    "        with self.assertRaises(Exception):\n",
    "            auto = Auto(-10, 100)              # Auto, které vyrábí benzín.\n",
    "\n",
    "    def test_nezaporna_vzdalenost(self):       # Metody začínající na \"test_\" jsou automaticky spuštěny\n",
    "        auto = Auto(8, 100)\n",
    "        with self.assertRaises(Exception):\n",
    "            auto.ujed(-1)\n",
    "    \n",
    "if __name__ == \"__main__\":\n",
    "    unittest.main()                 # Tímto pustíme testy"
   ]
  },
  {
   "cell_type": "code",
   "execution_count": null,
   "metadata": {
    "collapsed": false,
    "jupyter": {
     "outputs_hidden": false
    }
   },
   "outputs": [],
   "source": [
    "!python auto_test.py"
   ]
  },
  {
   "cell_type": "markdown",
   "metadata": {},
   "source": [
    "* Neřešili jsme, v jakých jednotkách počítáme spotřebu.\n",
    "* Dovolili jsme si vytvořit nesmyslná auta!\n",
    "* Dovolili jsme přečerpání nádrže.\n",
    "* Nevadilo nám, že auto ujetím záporné vzdálenosti vyrábí benzín.\n",
    "\n",
    "Zkusíme tedy opravit..."
   ]
  },
  {
   "cell_type": "code",
   "execution_count": null,
   "metadata": {
    "collapsed": false,
    "jupyter": {
     "outputs_hidden": false
    }
   },
   "outputs": [],
   "source": [
    "%%file auto.py\n",
    "\n",
    "# -*- coding: utf8 -*-\n",
    "from __future__ import division\n",
    "\n",
    "class Auto(object):\n",
    "    def __init__(self, spotreba, rychlost):\n",
    "        if spotreba <= 0:\n",
    "            raise Exception(\"Auto musí mít nezápornou spotřebu.\")\n",
    "        if rychlost <= 0:\n",
    "            raise Exception(\"Auto musí jezdit nezápornou rychlostí.\")\n",
    "        self.spotreba = spotreba\n",
    "        self.rychlost = rychlost\n",
    "        self.cas = 0\n",
    "        self.vzdalenost = 0\n",
    "        self.nadrz = 50\n",
    "        \n",
    "    def ujed(self, vzdalenost):\n",
    "        if vzdalenost < 0:\n",
    "            raise Exception(\"Vzdálenost musí být nezáporná.\")\n",
    "        if (vzdalenost * self.spotreba / 100) > self.nadrz:\n",
    "            # Auto ujede, kolik může a pak vyhodí výjimku\n",
    "            skutecna_vzdalenost = 100 * (self.nadrz / self.spotreba) \n",
    "            self.ujed(skutecna_vzdalenost)    # Rekurze :-)\n",
    "            raise Exception(\"Došel benzín\")\n",
    "        self.vzdalenost += vzdalenost\n",
    "        self.cas += vzdalenost / self.rychlost\n",
    "        self.nadrz -= (vzdalenost * self.spotreba / 100)"
   ]
  },
  {
   "cell_type": "code",
   "execution_count": null,
   "metadata": {
    "collapsed": false,
    "jupyter": {
     "outputs_hidden": false
    }
   },
   "outputs": [],
   "source": [
    "!python auto_test.py"
   ]
  },
  {
   "cell_type": "markdown",
   "metadata": {},
   "source": [
    "A je to. **Hurá!**"
   ]
  },
  {
   "attachments": {},
   "cell_type": "markdown",
   "metadata": {},
   "source": [
    "### pytest\n",
    "\n",
    "Pokud vám přišla konstrukce pomocí tříd (`TestCase`) poněkud krkolomná, nejste zdaleka sami. Ve většině případů se používá pro testování nějaké rozšíření (framework), psaní a spouštění testů zjednoduší. Nejlepší volbou je v tuto chvíli [pytest](https://pytest.org).\n",
    "\n",
    "Předchozí test by vypadal asi takto:"
   ]
  },
  {
   "cell_type": "code",
   "execution_count": null,
   "metadata": {},
   "outputs": [],
   "source": [
    "%%file test_auto_pytest.py\n",
    "\n",
    "# -*- coding: utf8 -*-\n",
    "from auto import Auto\n",
    "import pytest\n",
    "\n",
    "def test_vypocet_spotreby():\n",
    "    auto = Auto(10, 200)                   # Dost žere, ale je rychlé\n",
    "    nadrz1 = auto.nadrz\n",
    "    auto.ujed(100)\n",
    "    nadrz2 = auto.nadrz\n",
    "    assert 10 == nadrz1 - nadrz2           # Víme, že auto mělo spotřebovat 10 litrů\n",
    "\n",
    "def test_neprazdna_nadrz():\n",
    "    auto = Auto(8, 100)\n",
    "    with pytest.raises(Exception):\n",
    "        auto.ujed(1000)                    # Dojde benzín\n",
    "    assert auto.nadrz == 0                 # I poté musí nádrž být nejhůře prázdná    \n",
    "\n",
    "def test_nesmyslnych_aut():\n",
    "    with pytest.raises(Exception):\n",
    "        auto = Auto(0, 100)                # Auto bez spotřeby!\n",
    "    with pytest.raises(Exception):\n",
    "        auto = Auto(10, 0)                 # Auto, které neumí jezdit!\n",
    "    with pytest.raises(Exception):\n",
    "        auto = Auto(-10, 100)              # Auto, které vyrábí benzín.\n",
    "\n",
    "def test_nezaporna_vzdalenost():       # Metody začínající na \"test_\" jsou automaticky spuštěny\n",
    "    auto = Auto(8, 100)\n",
    "    with pytest.raises(Exception):\n",
    "        auto.ujed(-1)"
   ]
  },
  {
   "cell_type": "markdown",
   "metadata": {},
   "source": [
    "Testy z tohoto souboru pak můžeme spustit takto:"
   ]
  },
  {
   "cell_type": "code",
   "execution_count": null,
   "metadata": {},
   "outputs": [],
   "source": [
    "!pytest -vv test_auto_pytest.py"
   ]
  },
  {
   "cell_type": "markdown",
   "metadata": {},
   "source": [
    "Ještě jednodušší je nechat `pytest` prohledat aktuální adresář a spustit všechny testy (včetně tradičních `unittest` testů)."
   ]
  },
  {
   "cell_type": "code",
   "execution_count": null,
   "metadata": {},
   "outputs": [],
   "source": [
    "!pytest -vv ."
   ]
  },
  {
   "attachments": {},
   "cell_type": "markdown",
   "metadata": {},
   "source": [
    "## Testování ve VSCode\n",
    "VSCode umožňuje automaticky načítat vaše soubory s unittesty a umožňuje pak volání (případně automatické volání) z GUI. Má také pěknou vizualizaci výsledků testů.\n",
    "\n",
    "K těmto funcionalitám se dostaneme pomocí ikony Testing (zkumavka) v navigation panelu na levo."
   ]
  },
  {
   "attachments": {},
   "cell_type": "markdown",
   "metadata": {},
   "source": [
    "## Mypy\n",
    "\n",
    "Pokud používáme type hinting, můžeme provézt kontrolu správného používání typů pomocí Mypy."
   ]
  },
  {
   "cell_type": "code",
   "execution_count": null,
   "metadata": {},
   "outputs": [],
   "source": [
    "!mypy mujbalik/mujbalik/"
   ]
  },
  {
   "attachments": {},
   "cell_type": "markdown",
   "metadata": {},
   "source": [
    "Toto však nemusí být úplně nutné, pokud máme správně nastavenou statickou kontrolu v IDE. Pak se toto kontroluje už v průběhu psaní kódu."
   ]
  }
 ],
 "metadata": {
  "kernelspec": {
   "display_name": "Python 3",
   "language": "python",
   "name": "python3"
  },
  "language_info": {
   "codemirror_mode": {
    "name": "ipython",
    "version": 3
   },
   "file_extension": ".py",
   "mimetype": "text/x-python",
   "name": "python",
   "nbconvert_exporter": "python",
   "pygments_lexer": "ipython3",
   "version": "3.10.10"
  }
 },
 "nbformat": 4,
 "nbformat_minor": 4
}
