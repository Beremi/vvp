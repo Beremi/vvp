{
 "cells": [
  {
   "attachments": {},
   "cell_type": "markdown",
   "metadata": {},
   "source": [
    "# Sphinx pro automatické generování dokumentace z docstringů a type hintů\n",
    "Sphinx pravděpodobně znáte z prohlížení dokumentace různých Python balíčků. V současnosti je automaticky generovaná dokumentace standardem (už nikdo nevyvíjí dokumentaci ručně) a Sphinx je jedním z nejlepších nástrojů pro její generování.\n",
    "\n",
    "Sphinx je napsaný v Pythonu a je dostupný na PyPI. Instalaci můžete provést pomocí pip:"
   ]
  },
  {
   "cell_type": "code",
   "execution_count": null,
   "metadata": {},
   "outputs": [],
   "source": [
    "#!pip install sphinx"
   ]
  },
  {
   "cell_type": "code",
   "execution_count": null,
   "metadata": {},
   "outputs": [],
   "source": [
    "# sphinx má mnoho theme, oblíbené je např.\n",
    "#!pip install sphinx_rtd_theme"
   ]
  },
  {
   "attachments": {},
   "cell_type": "markdown",
   "metadata": {},
   "source": [
    "# Quickstart\n",
    "Sphinx má pěkný tutoriál, viz [http://www.sphinx-doc.org/en/master/usage/quickstart.html](http://www.sphinx-doc.org/en/master/usage/quickstart.html). \n",
    "\n",
    "My si zde ukážeme jen naprosto nejelementárnější použití."
   ]
  },
  {
   "attachments": {},
   "cell_type": "markdown",
   "metadata": {},
   "source": [
    "## Složka s projektem\n",
    "Předpokládáme souborovou strukturu projektu (mujbalik):\n",
    "\n",
    "```\n",
    "mujbalik\n",
    "│\n",
    "├── mujbalik \n",
    "│   ├── knihovna.py\n",
    "│   ├── literatura.py\n",
    "│   ├── ucty.py\n",
    "|   └── __init__.py\n",
    "└── examples.ipynb\n",
    "```"
   ]
  },
  {
   "attachments": {},
   "cell_type": "markdown",
   "metadata": {},
   "source": [
    "# Inicializace Sphinx dokumentace\n",
    "Vytvořte si v kořenové složce projektu složku `docs`:\n",
    "\n",
    "```\n",
    "mujbalik\n",
    "│\n",
    "├── mujbalik \n",
    "│   ├── knihovna.py\n",
    "│   ├── literatura.py\n",
    "│   ├── ucty.py\n",
    "|   └── __init__.py\n",
    "├── docs\n",
    "└── examples.ipynb\n",
    "```\n",
    "\n",
    "Přesuňte se do `docs` a v ní spusťte příkaz `sphinx-quickstart`.\n",
    "\n",
    "Sphinx se vás zeptá na několik věcí, jako je název projektu, jméno autora, verzi, atd.\n",
    "\n",
    "Po skončení inicializace se vytvoří ve složce `docs` složka `source` a složka `build`. Také se vytvoří makefile, který vám umožní snadno generovat dokumentaci."
   ]
  },
  {
   "attachments": {},
   "cell_type": "markdown",
   "metadata": {},
   "source": [
    "## Autodoc pro vytvoření šablony dokumentace dle struktury projektu\n",
    "Ve složce `source` uvnitř složky `docs` jsou již nyní soubory `.rst`. Mohly bychom již ručně vyrobit strukturu dokumentace. To však nechceme a spokojíme se s automatickou strkturou dokumentace, kterou vytvoříme pomocí Sphinx pluginu `autodoc`.\n",
    "\n",
    "Ve složce `docs` spusťte příkaz `sphinx-apidoc -o ./source ../mujbalik`. První parametr je cesta k výstupní složce, druhý parametr je cesta k projektu, který chceme dokumentovat (z `docs` je to o jednu složku výše a pak do složky `mujbalik`)."
   ]
  },
  {
   "attachments": {},
   "cell_type": "markdown",
   "metadata": {},
   "source": [
    "## Generování dokumentace\n",
    "Pro vygenerování dokumentace je třeba zajistit, že Sphinx umí najít složku s projektem. Toho docílíme pomocí souboru `conf.py`, který se nachází v `docs/source`. V souboru `conf.py` je potřeba přidat aresu na cestu k projektu:\n",
    "\n",
    "```python\n",
    "# toto přidáme kamkoliv v souboru\n",
    "import os\n",
    "import sys\n",
    "sys.path.insert(0, os.path.abspath('../..'))\n",
    "```\n",
    "\n",
    "Proč přidáváme cestu o dvě složky výše ('../..')? Protože v `docs/source` je soubor `conf.py` a od něj je to o dvě složky výše do rootu projektu.\n",
    "\n",
    "V souboru `conf.py` můžeme také nastavit theme dokumentace. Výchozí je `alabaster`, ale můžeme si vybrat i jiné. Například `sphinx_rtd_theme`:\n",
    "\n",
    "```python\n",
    "html_theme = 'sphinx_rtd_theme'\n",
    "```\n",
    "\n",
    "Nyní můžeme dokumentaci vygenerovat pomocí příkazu `make html` v `docs`. Výsledná dokumentace se nachází v `docs/build/html`."
   ]
  }
 ],
 "metadata": {
  "language_info": {
   "name": "python"
  },
  "orig_nbformat": 4
 },
 "nbformat": 4,
 "nbformat_minor": 2
}
