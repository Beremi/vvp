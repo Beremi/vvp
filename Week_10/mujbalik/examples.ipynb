{
 "cells": [
  {
   "attachments": {},
   "cell_type": "markdown",
   "metadata": {},
   "source": [
    "Balíček se jmenuje mujbalik. V něm jsou tři moduly knihovna, literatura, učty. Hlavní třídy součástí uživatelského rozhraní se dají načíst přímo z knihovny mujbalik."
   ]
  },
  {
   "cell_type": "code",
   "execution_count": 1,
   "metadata": {},
   "outputs": [],
   "source": [
    "from mujbalik import Kniha, Casopis, Dospely, Dite, Knihovna"
   ]
  },
  {
   "attachments": {},
   "cell_type": "markdown",
   "metadata": {},
   "source": [
    "Ukázka definice objektu reprezentující celou knihovnu a naplnění knihami a čtenáři."
   ]
  },
  {
   "cell_type": "code",
   "execution_count": 2,
   "metadata": {},
   "outputs": [],
   "source": [
    "knihovna = Knihovna()\n",
    "\n",
    "knihovna.pridat_knihu(Kniha(\"Kniha 1\", \"Autor 1\", 2020, False))\n",
    "knihovna.pridat_knihu(Kniha(\"Kniha 2\", \"Autor 2\", 2019, False, pocet_vytisku=2))\n",
    "knihovna.pridat_knihu(Kniha(\"Kniha 3\", \"Autor 3\", 2023, True))\n",
    "knihovna.pridat_knihu(Casopis(\"Časopis 1\", 2020, 1, False))\n",
    "knihovna.pridat_knihu(Casopis(\"Časopis 2\", 2021, 2, False, pocet_vytisku=2))\n",
    "knihovna.pridat_knihu(Casopis(\"Časopis 3\", 2022, 1, True))\n",
    "\n",
    "knihovna.pridat_ctenare(Dospely(jmeno=\"Jan\", prijmeni=\"Novák\", ctenar_id=1))\n",
    "knihovna.pridat_ctenare(Dospely(jmeno=\"Petr\", prijmeni=\"Novák\", ctenar_id=2))\n",
    "knihovna.pridat_ctenare(Dite(jmeno=\"Jan\", prijmeni=\"Novák\", ctenar_id=3))"
   ]
  },
  {
   "attachments": {},
   "cell_type": "markdown",
   "metadata": {},
   "source": [
    "Výpis knih, uživatelů a jejich výpůjček."
   ]
  },
  {
   "cell_type": "code",
   "execution_count": 3,
   "metadata": {},
   "outputs": [
    {
     "name": "stdout",
     "output_type": "stream",
     "text": [
      "-----------------------\n",
      "Seznam knih v knihovně:\n",
      "Kniha 1 od Autor 1 (2020), kusů: 1, vypůjčeno: 0\n",
      "Kniha 2 od Autor 2 (2019), kusů: 2, vypůjčeno: 0\n",
      "Kniha 3 od Autor 3 (2023), kusů: 1, vypůjčeno: 0 (vhodná pro děti)\n",
      "Časopis 1 (2020), číslo 1, kusů: 1, vypůjčeno: 0\n",
      "Časopis 2 (2021), číslo 2, kusů: 2, vypůjčeno: 0\n",
      "Časopis 3 (2022), číslo 1, kusů: 1, vypůjčeno: 0 (vhodná pro děti)\n",
      "-----------------------\n",
      "-----------------------\n",
      "Seznam čtenářů knihovny:\n",
      "Jan Novák (ID: 1), počet vypůjčených kusů: 0\n",
      "Petr Novák (ID: 2), počet vypůjčených kusů: 0\n",
      "Jan Novák (ID: 3), počet vypůjčených kusů: 0\n",
      "-----------------------\n",
      "-----------------------\n",
      "Seznam výpůjček:\n",
      "Seznam vypůjčených kusů čtenáře Jan Novák:\n",
      "Seznam vypůjčených kusů čtenáře Petr Novák:\n",
      "Seznam vypůjčených kusů čtenáře Jan Novák:\n",
      "-----------------------\n"
     ]
    }
   ],
   "source": [
    "knihovna.vypsat_knihy()\n",
    "knihovna.vypsat_ctenare()\n",
    "knihovna.vypsat_vypujcene_knihy()"
   ]
  },
  {
   "attachments": {},
   "cell_type": "markdown",
   "metadata": {},
   "source": [
    "Demonstrace výpůjček jednotlivých knih."
   ]
  },
  {
   "cell_type": "code",
   "execution_count": 4,
   "metadata": {},
   "outputs": [],
   "source": [
    "knihovna.vypujcit_knihu(1, Kniha(\"Kniha 1\", \"Autor 1\", 2020))\n",
    "knihovna.vypujcit_knihu(1, Casopis(\"Časopis 1\", 2020, 1))\n",
    "knihovna.vypujcit_knihu(1, Kniha(\"Kniha 2\", \"Autor 2\", 2019))\n",
    "knihovna.vypujcit_knihu(2, Kniha(\"Kniha 2\", \"Autor 2\", 2019))\n",
    "knihovna.vypujcit_knihu(2, Casopis(\"Časopis 2\", 2021, 2))\n",
    "knihovna.vypujcit_knihu(3, Kniha(\"Kniha 3\", \"Autor 3\", 2023))\n",
    "knihovna.vypujcit_knihu(3, Casopis(\"Časopis 3\", 2022, 1))"
   ]
  },
  {
   "attachments": {},
   "cell_type": "markdown",
   "metadata": {},
   "source": [
    "Výpis knih, uživatelů a jejich výpůjček."
   ]
  },
  {
   "cell_type": "code",
   "execution_count": 5,
   "metadata": {},
   "outputs": [
    {
     "name": "stdout",
     "output_type": "stream",
     "text": [
      "-----------------------\n",
      "Seznam knih v knihovně:\n",
      "Kniha 1 od Autor 1 (2020), kusů: 1, vypůjčeno: 1\n",
      "Kniha 2 od Autor 2 (2019), kusů: 2, vypůjčeno: 2\n",
      "Kniha 3 od Autor 3 (2023), kusů: 1, vypůjčeno: 1 (vhodná pro děti)\n",
      "Časopis 1 (2020), číslo 1, kusů: 1, vypůjčeno: 1\n",
      "Časopis 2 (2021), číslo 2, kusů: 2, vypůjčeno: 1\n",
      "Časopis 3 (2022), číslo 1, kusů: 1, vypůjčeno: 1 (vhodná pro děti)\n",
      "-----------------------\n",
      "-----------------------\n",
      "Seznam čtenářů knihovny:\n",
      "Jan Novák (ID: 1), počet vypůjčených kusů: 3\n",
      "Petr Novák (ID: 2), počet vypůjčených kusů: 2\n",
      "Jan Novák (ID: 3), počet vypůjčených kusů: 2\n",
      "-----------------------\n",
      "-----------------------\n",
      "Seznam výpůjček:\n",
      "Seznam vypůjčených kusů čtenáře Jan Novák:\n",
      "Kniha 1 od Autor 1 (2020), kusů: 1, vypůjčeno: 1\n",
      "Časopis 1 (2020), číslo 1, kusů: 1, vypůjčeno: 1\n",
      "Kniha 2 od Autor 2 (2019), kusů: 2, vypůjčeno: 2\n",
      "Seznam vypůjčených kusů čtenáře Petr Novák:\n",
      "Kniha 2 od Autor 2 (2019), kusů: 2, vypůjčeno: 2\n",
      "Časopis 2 (2021), číslo 2, kusů: 2, vypůjčeno: 1\n",
      "Seznam vypůjčených kusů čtenáře Jan Novák:\n",
      "Kniha 3 od Autor 3 (2023), kusů: 1, vypůjčeno: 1 (vhodná pro děti)\n",
      "Časopis 3 (2022), číslo 1, kusů: 1, vypůjčeno: 1 (vhodná pro děti)\n",
      "-----------------------\n"
     ]
    }
   ],
   "source": [
    "knihovna.vypsat_knihy()\n",
    "knihovna.vypsat_ctenare()\n",
    "knihovna.vypsat_vypujcene_knihy()\n"
   ]
  },
  {
   "attachments": {},
   "cell_type": "markdown",
   "metadata": {},
   "source": [
    "Demonstrace procesu vracení knihy."
   ]
  },
  {
   "cell_type": "code",
   "execution_count": 6,
   "metadata": {},
   "outputs": [],
   "source": [
    "knihovna.vratit_knihu(1, Kniha(\"Kniha 1\", \"Autor 1\", 2020))\n",
    "knihovna.vratit_knihu(1, Casopis(\"Časopis 1\", 2020, 1))\n",
    "knihovna.vratit_knihu(1, Kniha(\"Kniha 2\", \"Autor 2\", 2019))\n",
    "knihovna.vratit_knihu(2, Kniha(\"Kniha 2\", \"Autor 2\", 2019))\n",
    "knihovna.vratit_knihu(3, Kniha(\"Kniha 3\", \"Autor 3\", 2023))\n"
   ]
  },
  {
   "attachments": {},
   "cell_type": "markdown",
   "metadata": {},
   "source": [
    "Výpis knih, uživatelů a jejich výpůjček."
   ]
  },
  {
   "cell_type": "code",
   "execution_count": 7,
   "metadata": {},
   "outputs": [
    {
     "name": "stdout",
     "output_type": "stream",
     "text": [
      "-----------------------\n",
      "Seznam knih v knihovně:\n",
      "Kniha 1 od Autor 1 (2020), kusů: 1, vypůjčeno: 0\n",
      "Kniha 2 od Autor 2 (2019), kusů: 2, vypůjčeno: 0\n",
      "Kniha 3 od Autor 3 (2023), kusů: 1, vypůjčeno: 0 (vhodná pro děti)\n",
      "Časopis 1 (2020), číslo 1, kusů: 1, vypůjčeno: 0\n",
      "Časopis 2 (2021), číslo 2, kusů: 2, vypůjčeno: 1\n",
      "Časopis 3 (2022), číslo 1, kusů: 1, vypůjčeno: 1 (vhodná pro děti)\n",
      "-----------------------\n",
      "-----------------------\n",
      "Seznam čtenářů knihovny:\n",
      "Jan Novák (ID: 1), počet vypůjčených kusů: 0\n",
      "Petr Novák (ID: 2), počet vypůjčených kusů: 1\n",
      "Jan Novák (ID: 3), počet vypůjčených kusů: 1\n",
      "-----------------------\n",
      "-----------------------\n",
      "Seznam výpůjček:\n",
      "Seznam vypůjčených kusů čtenáře Jan Novák:\n",
      "Seznam vypůjčených kusů čtenáře Petr Novák:\n",
      "Časopis 2 (2021), číslo 2, kusů: 2, vypůjčeno: 1\n",
      "Seznam vypůjčených kusů čtenáře Jan Novák:\n",
      "Časopis 3 (2022), číslo 1, kusů: 1, vypůjčeno: 1 (vhodná pro děti)\n",
      "-----------------------\n"
     ]
    }
   ],
   "source": [
    "knihovna.vypsat_knihy()\n",
    "knihovna.vypsat_ctenare()\n",
    "knihovna.vypsat_vypujcene_knihy()\n"
   ]
  },
  {
   "attachments": {},
   "cell_type": "markdown",
   "metadata": {},
   "source": [
    "Ukázky kontroly výpůjček. Pokud chceme nesplnitelnou věc, vrací se ValueError."
   ]
  },
  {
   "cell_type": "code",
   "execution_count": 8,
   "metadata": {},
   "outputs": [
    {
     "ename": "ValueError",
     "evalue": "Všechny knihy jsou vypůjčené.",
     "output_type": "error",
     "traceback": [
      "\u001b[0;31m---------------------------------------------------------------------------\u001b[0m",
      "\u001b[0;31mValueError\u001b[0m                                Traceback (most recent call last)",
      "Cell \u001b[0;32mIn[8], line 2\u001b[0m\n\u001b[1;32m      1\u001b[0m \u001b[39m# překročit limit výpůjček\u001b[39;00m\n\u001b[0;32m----> 2\u001b[0m knihovna\u001b[39m.\u001b[39;49mvypujcit_knihu(\u001b[39m1\u001b[39;49m, Casopis(\u001b[39m\"\u001b[39;49m\u001b[39mČasopis 3\u001b[39;49m\u001b[39m\"\u001b[39;49m, \u001b[39m2022\u001b[39;49m, \u001b[39m1\u001b[39;49m))\n",
      "File \u001b[0;32m~/Repositories/vvp/Week_7/mujbalik/mujbalik/knihovna.py:47\u001b[0m, in \u001b[0;36mKnihovna.vypujcit_knihu\u001b[0;34m(self, ctenar_id, kniha)\u001b[0m\n\u001b[1;32m     43\u001b[0m \u001b[39mif\u001b[39;00m (\u001b[39mnot\u001b[39;00m kniha_v_knihovne\u001b[39m.\u001b[39mvhodna_pro_deti) \u001b[39mand\u001b[39;00m \\\n\u001b[1;32m     44\u001b[0m         \u001b[39misinstance\u001b[39m(ctenar, Dite):\n\u001b[1;32m     45\u001b[0m     \u001b[39mraise\u001b[39;00m \u001b[39mValueError\u001b[39;00m(\u001b[39m\"\u001b[39m\u001b[39mKniha/časopis není vhodná pro děti.\u001b[39m\u001b[39m\"\u001b[39m)\n\u001b[0;32m---> 47\u001b[0m kniha_v_knihovne\u001b[39m.\u001b[39;49mvypujc()\n\u001b[1;32m     48\u001b[0m ctenar\u001b[39m.\u001b[39mvypujcit_knihu(kniha_v_knihovne)\n",
      "File \u001b[0;32m~/Repositories/vvp/Week_7/mujbalik/mujbalik/literatura.py:30\u001b[0m, in \u001b[0;36mLiteratura.vypujc\u001b[0;34m(self)\u001b[0m\n\u001b[1;32m     28\u001b[0m \u001b[39m\u001b[39m\u001b[39m\"\"\"Metoda pro výpůjčku knihy.\"\"\"\u001b[39;00m\n\u001b[1;32m     29\u001b[0m \u001b[39mif\u001b[39;00m \u001b[39mself\u001b[39m\u001b[39m.\u001b[39mpocet_vypujcek \u001b[39m>\u001b[39m\u001b[39m=\u001b[39m \u001b[39mself\u001b[39m\u001b[39m.\u001b[39mpocet_vytisku:\n\u001b[0;32m---> 30\u001b[0m     \u001b[39mraise\u001b[39;00m \u001b[39mValueError\u001b[39;00m(\u001b[39m\"\u001b[39m\u001b[39mVšechny knihy jsou vypůjčené.\u001b[39m\u001b[39m\"\u001b[39m)\n\u001b[1;32m     32\u001b[0m \u001b[39mself\u001b[39m\u001b[39m.\u001b[39mpocet_vypujcek \u001b[39m+\u001b[39m\u001b[39m=\u001b[39m \u001b[39m1\u001b[39m\n",
      "\u001b[0;31mValueError\u001b[0m: Všechny knihy jsou vypůjčené."
     ]
    }
   ],
   "source": [
    "# překročit limit výpůjček\n",
    "knihovna.vypujcit_knihu(1, Casopis(\"Časopis 3\", 2022, 1))\n"
   ]
  },
  {
   "cell_type": "code",
   "execution_count": 9,
   "metadata": {},
   "outputs": [
    {
     "ename": "ValueError",
     "evalue": "Kniha/časopis není v knihovně.",
     "output_type": "error",
     "traceback": [
      "\u001b[0;31m---------------------------------------------------------------------------\u001b[0m",
      "\u001b[0;31mValueError\u001b[0m                                Traceback (most recent call last)",
      "Cell \u001b[0;32mIn[9], line 2\u001b[0m\n\u001b[1;32m      1\u001b[0m \u001b[39m# půjčit knihu, která není v knihovně\u001b[39;00m\n\u001b[0;32m----> 2\u001b[0m knihovna\u001b[39m.\u001b[39;49mvypujcit_knihu(\u001b[39m1\u001b[39;49m, Kniha(\u001b[39m\"\u001b[39;49m\u001b[39mKniha 4\u001b[39;49m\u001b[39m\"\u001b[39;49m, \u001b[39m\"\u001b[39;49m\u001b[39mAutor 4\u001b[39;49m\u001b[39m\"\u001b[39;49m, \u001b[39m2024\u001b[39;49m))\n",
      "File \u001b[0;32m~/Repositories/vvp/Week_7/mujbalik/mujbalik/knihovna.py:41\u001b[0m, in \u001b[0;36mKnihovna.vypujcit_knihu\u001b[0;34m(self, ctenar_id, kniha)\u001b[0m\n\u001b[1;32m     39\u001b[0m kniha_v_knihovne \u001b[39m=\u001b[39m \u001b[39mself\u001b[39m\u001b[39m.\u001b[39m_najit_knihu(kniha)\n\u001b[1;32m     40\u001b[0m \u001b[39mif\u001b[39;00m \u001b[39mnot\u001b[39;00m kniha_v_knihovne:\n\u001b[0;32m---> 41\u001b[0m     \u001b[39mraise\u001b[39;00m \u001b[39mValueError\u001b[39;00m(\u001b[39m\"\u001b[39m\u001b[39mKniha/časopis není v knihovně.\u001b[39m\u001b[39m\"\u001b[39m)\n\u001b[1;32m     43\u001b[0m \u001b[39mif\u001b[39;00m (\u001b[39mnot\u001b[39;00m kniha_v_knihovne\u001b[39m.\u001b[39mvhodna_pro_deti) \u001b[39mand\u001b[39;00m \\\n\u001b[1;32m     44\u001b[0m         \u001b[39misinstance\u001b[39m(ctenar, Dite):\n\u001b[1;32m     45\u001b[0m     \u001b[39mraise\u001b[39;00m \u001b[39mValueError\u001b[39;00m(\u001b[39m\"\u001b[39m\u001b[39mKniha/časopis není vhodná pro děti.\u001b[39m\u001b[39m\"\u001b[39m)\n",
      "\u001b[0;31mValueError\u001b[0m: Kniha/časopis není v knihovně."
     ]
    }
   ],
   "source": [
    "# půjčit knihu, která není v knihovně\n",
    "knihovna.vypujcit_knihu(1, Kniha(\"Kniha 4\", \"Autor 4\", 2024))"
   ]
  },
  {
   "cell_type": "code",
   "execution_count": 10,
   "metadata": {},
   "outputs": [
    {
     "ename": "ValueError",
     "evalue": "Kniha/časopis není vhodná pro děti.",
     "output_type": "error",
     "traceback": [
      "\u001b[0;31m---------------------------------------------------------------------------\u001b[0m",
      "\u001b[0;31mValueError\u001b[0m                                Traceback (most recent call last)",
      "Cell \u001b[0;32mIn[10], line 2\u001b[0m\n\u001b[1;32m      1\u001b[0m \u001b[39m# vypůjčit knihu, která není age appropriate\u001b[39;00m\n\u001b[0;32m----> 2\u001b[0m knihovna\u001b[39m.\u001b[39;49mvypujcit_knihu(\u001b[39m3\u001b[39;49m, Kniha(\u001b[39m\"\u001b[39;49m\u001b[39mKniha 1\u001b[39;49m\u001b[39m\"\u001b[39;49m, \u001b[39m\"\u001b[39;49m\u001b[39mAutor 1\u001b[39;49m\u001b[39m\"\u001b[39;49m, \u001b[39m2020\u001b[39;49m))\n",
      "File \u001b[0;32m~/Repositories/vvp/Week_7/mujbalik/mujbalik/knihovna.py:45\u001b[0m, in \u001b[0;36mKnihovna.vypujcit_knihu\u001b[0;34m(self, ctenar_id, kniha)\u001b[0m\n\u001b[1;32m     41\u001b[0m     \u001b[39mraise\u001b[39;00m \u001b[39mValueError\u001b[39;00m(\u001b[39m\"\u001b[39m\u001b[39mKniha/časopis není v knihovně.\u001b[39m\u001b[39m\"\u001b[39m)\n\u001b[1;32m     43\u001b[0m \u001b[39mif\u001b[39;00m (\u001b[39mnot\u001b[39;00m kniha_v_knihovne\u001b[39m.\u001b[39mvhodna_pro_deti) \u001b[39mand\u001b[39;00m \\\n\u001b[1;32m     44\u001b[0m         \u001b[39misinstance\u001b[39m(ctenar, Dite):\n\u001b[0;32m---> 45\u001b[0m     \u001b[39mraise\u001b[39;00m \u001b[39mValueError\u001b[39;00m(\u001b[39m\"\u001b[39m\u001b[39mKniha/časopis není vhodná pro děti.\u001b[39m\u001b[39m\"\u001b[39m)\n\u001b[1;32m     47\u001b[0m kniha_v_knihovne\u001b[39m.\u001b[39mvypujc()\n\u001b[1;32m     48\u001b[0m ctenar\u001b[39m.\u001b[39mvypujcit_knihu(kniha_v_knihovne)\n",
      "\u001b[0;31mValueError\u001b[0m: Kniha/časopis není vhodná pro děti."
     ]
    }
   ],
   "source": [
    "# vypůjčit knihu, která není age appropriate\n",
    "knihovna.vypujcit_knihu(3, Kniha(\"Kniha 1\", \"Autor 1\", 2020))"
   ]
  },
  {
   "cell_type": "code",
   "execution_count": null,
   "metadata": {},
   "outputs": [],
   "source": []
  }
 ],
 "metadata": {
  "kernelspec": {
   "display_name": "Python 3",
   "language": "python",
   "name": "python3"
  },
  "language_info": {
   "codemirror_mode": {
    "name": "ipython",
    "version": 3
   },
   "file_extension": ".py",
   "mimetype": "text/x-python",
   "name": "python",
   "nbconvert_exporter": "python",
   "pygments_lexer": "ipython3",
   "version": "3.10.10"
  },
  "orig_nbformat": 4
 },
 "nbformat": 4,
 "nbformat_minor": 2
}
