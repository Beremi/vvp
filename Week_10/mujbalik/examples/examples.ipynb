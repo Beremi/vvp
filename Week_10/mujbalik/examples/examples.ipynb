{
 "cells": [
  {
   "attachments": {},
   "cell_type": "markdown",
   "metadata": {},
   "source": [
    "Balíček se jmenuje mujbalik. V něm jsou tři moduly knihovna, literatura, učty. Hlavní třídy součástí uživatelského rozhraní se dají načíst přímo z knihovny mujbalik."
   ]
  },
  {
   "cell_type": "code",
   "execution_count": null,
   "metadata": {},
   "outputs": [],
   "source": [
    "from mujbalik import Kniha, Casopis, Dospely, Dite, Knihovna"
   ]
  },
  {
   "attachments": {},
   "cell_type": "markdown",
   "metadata": {},
   "source": [
    "Ukázka definice objektu reprezentující celou knihovnu a naplnění knihami a čtenáři."
   ]
  },
  {
   "cell_type": "code",
   "execution_count": null,
   "metadata": {},
   "outputs": [],
   "source": [
    "knihovna = Knihovna()\n",
    "\n",
    "knihovna.pridat_knihu(Kniha(\"Kniha 1\", \"Autor 1\", 2020, False))\n",
    "knihovna.pridat_knihu(Kniha(\"Kniha 2\", \"Autor 2\", 2019, False, pocet_vytisku=2))\n",
    "knihovna.pridat_knihu(Kniha(\"Kniha 3\", \"Autor 3\", 2023, True))\n",
    "knihovna.pridat_knihu(Casopis(\"Časopis 1\", 2020, 1, False))\n",
    "knihovna.pridat_knihu(Casopis(\"Časopis 2\", 2021, 2, False, pocet_vytisku=2))\n",
    "knihovna.pridat_knihu(Casopis(\"Časopis 3\", 2022, 1, True))\n",
    "\n",
    "knihovna.pridat_ctenare(Dospely(jmeno=\"Jan\", prijmeni=\"Novák\", ctenar_id=1))\n",
    "knihovna.pridat_ctenare(Dospely(jmeno=\"Petr\", prijmeni=\"Novák\", ctenar_id=2))\n",
    "knihovna.pridat_ctenare(Dite(jmeno=\"Jan\", prijmeni=\"Novák\", ctenar_id=3))"
   ]
  },
  {
   "attachments": {},
   "cell_type": "markdown",
   "metadata": {},
   "source": [
    "Výpis knih, uživatelů a jejich výpůjček."
   ]
  },
  {
   "cell_type": "code",
   "execution_count": null,
   "metadata": {},
   "outputs": [],
   "source": [
    "knihovna.vypsat_knihy()\n",
    "knihovna.vypsat_ctenare()\n",
    "knihovna.vypsat_vypujcene_knihy()"
   ]
  },
  {
   "attachments": {},
   "cell_type": "markdown",
   "metadata": {},
   "source": [
    "Demonstrace výpůjček jednotlivých knih."
   ]
  },
  {
   "cell_type": "code",
   "execution_count": null,
   "metadata": {},
   "outputs": [],
   "source": [
    "knihovna.vypujcit_knihu(1, Kniha(\"Kniha 1\", \"Autor 1\", 2020))\n",
    "knihovna.vypujcit_knihu(1, Casopis(\"Časopis 1\", 2020, 1))\n",
    "knihovna.vypujcit_knihu(1, Kniha(\"Kniha 2\", \"Autor 2\", 2019))\n",
    "knihovna.vypujcit_knihu(2, Kniha(\"Kniha 2\", \"Autor 2\", 2019))\n",
    "knihovna.vypujcit_knihu(2, Casopis(\"Časopis 2\", 2021, 2))\n",
    "knihovna.vypujcit_knihu(3, Kniha(\"Kniha 3\", \"Autor 3\", 2023))\n",
    "knihovna.vypujcit_knihu(3, Casopis(\"Časopis 3\", 2022, 1))"
   ]
  },
  {
   "attachments": {},
   "cell_type": "markdown",
   "metadata": {},
   "source": [
    "Výpis knih, uživatelů a jejich výpůjček."
   ]
  },
  {
   "cell_type": "code",
   "execution_count": null,
   "metadata": {},
   "outputs": [],
   "source": [
    "knihovna.vypsat_knihy()\n",
    "knihovna.vypsat_ctenare()\n",
    "knihovna.vypsat_vypujcene_knihy()\n"
   ]
  },
  {
   "attachments": {},
   "cell_type": "markdown",
   "metadata": {},
   "source": [
    "Demonstrace procesu vracení knihy."
   ]
  },
  {
   "cell_type": "code",
   "execution_count": null,
   "metadata": {},
   "outputs": [],
   "source": [
    "knihovna.vratit_knihu(1, Kniha(\"Kniha 1\", \"Autor 1\", 2020))\n",
    "knihovna.vratit_knihu(1, Casopis(\"Časopis 1\", 2020, 1))\n",
    "knihovna.vratit_knihu(1, Kniha(\"Kniha 2\", \"Autor 2\", 2019))\n",
    "knihovna.vratit_knihu(2, Kniha(\"Kniha 2\", \"Autor 2\", 2019))\n",
    "knihovna.vratit_knihu(3, Kniha(\"Kniha 3\", \"Autor 3\", 2023))\n"
   ]
  },
  {
   "attachments": {},
   "cell_type": "markdown",
   "metadata": {},
   "source": [
    "Výpis knih, uživatelů a jejich výpůjček."
   ]
  },
  {
   "cell_type": "code",
   "execution_count": null,
   "metadata": {},
   "outputs": [],
   "source": [
    "knihovna.vypsat_knihy()\n",
    "knihovna.vypsat_ctenare()\n",
    "knihovna.vypsat_vypujcene_knihy()\n"
   ]
  },
  {
   "attachments": {},
   "cell_type": "markdown",
   "metadata": {},
   "source": [
    "Ukázky kontroly výpůjček. Pokud chceme nesplnitelnou věc, vrací se ValueError."
   ]
  },
  {
   "cell_type": "code",
   "execution_count": null,
   "metadata": {},
   "outputs": [],
   "source": [
    "# překročit limit výpůjček\n",
    "knihovna.vypujcit_knihu(1, Casopis(\"Časopis 3\", 2022, 1))\n"
   ]
  },
  {
   "cell_type": "code",
   "execution_count": null,
   "metadata": {},
   "outputs": [],
   "source": [
    "# půjčit knihu, která není v knihovně\n",
    "knihovna.vypujcit_knihu(1, Kniha(\"Kniha 4\", \"Autor 4\", 2024))"
   ]
  },
  {
   "cell_type": "code",
   "execution_count": null,
   "metadata": {},
   "outputs": [],
   "source": [
    "# vypůjčit knihu, která není age appropriate\n",
    "knihovna.vypujcit_knihu(3, Kniha(\"Kniha 1\", \"Autor 1\", 2020))"
   ]
  },
  {
   "cell_type": "code",
   "execution_count": null,
   "metadata": {},
   "outputs": [],
   "source": []
  }
 ],
 "metadata": {
  "kernelspec": {
   "display_name": "Python 3",
   "language": "python",
   "name": "python3"
  },
  "language_info": {
   "codemirror_mode": {
    "name": "ipython",
    "version": 3
   },
   "file_extension": ".py",
   "mimetype": "text/x-python",
   "name": "python",
   "nbconvert_exporter": "python",
   "pygments_lexer": "ipython3",
   "version": "3.11.8"
  },
  "orig_nbformat": 4
 },
 "nbformat": 4,
 "nbformat_minor": 2
}
