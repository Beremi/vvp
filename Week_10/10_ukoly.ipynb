{
 "cells": [
  {
   "cell_type": "markdown",
   "metadata": {},
   "source": [
    "# Úkoly\n",
    "\n",
    "## Type Hinting"
   ]
  },
  {
   "cell_type": "markdown",
   "metadata": {},
   "source": [
    "\n",
    "- Označte typy proměnných v následujícím kódu."
   ]
  },
  {
   "cell_type": "code",
   "execution_count": null,
   "metadata": {},
   "outputs": [],
   "source": [
    "name = \"Alice\"\n",
    "age = 30\n",
    "height = 1.75"
   ]
  },
  {
   "cell_type": "markdown",
   "metadata": {},
   "source": [
    "\n",
    "- Doplňte type hinty pro argumenty a návratový typ funkce, která sčítá dvě čísla."
   ]
  },
  {
   "cell_type": "code",
   "execution_count": null,
   "metadata": {},
   "outputs": [],
   "source": [
    "def add(x, y):\n",
    "    return x + y\n",
    "\n",
    "cislo1 = 5\n",
    "cislo2 = 7\n",
    "vysledek = add(cislo1, cislo2)"
   ]
  },
  {
   "cell_type": "markdown",
   "metadata": {},
   "source": [
    "\n",
    "- Přidejte type hinty k funkci, která přijímá seznam celých čísel a vrací jejich průměr jako desetinné číslo."
   ]
  },
  {
   "cell_type": "code",
   "execution_count": null,
   "metadata": {},
   "outputs": [],
   "source": [
    "def calculate_average(numbers):\n",
    "    return sum(numbers) / len(numbers)\n",
    "\n",
    "cisla = [1, 2, 3, 4, 5]\n",
    "prumer = calculate_average(cisla)"
   ]
  },
  {
   "cell_type": "markdown",
   "metadata": {},
   "source": [
    "\n",
    "- Doplňte type hinty pro funkci, která bere řetězec a vrací `True` nebo `False` na základě toho, zda je řetězec prázdný.\n",
    "\n"
   ]
  },
  {
   "cell_type": "code",
   "execution_count": null,
   "metadata": {},
   "outputs": [],
   "source": [
    "def is_empty(s):\n",
    "    return len(s) == 0\n",
    "\n",
    "retezec = \"ahoj\"\n",
    "je_prazdny = is_empty(retezec)"
   ]
  },
  {
   "cell_type": "markdown",
   "metadata": {},
   "source": [
    "- Nastavte type hinty pro funkci, která bere slovník (kde klíče i hodnoty jsou stringy) a klíč (string), a vrací hodnotu pro daný klíč."
   ]
  },
  {
   "cell_type": "code",
   "execution_count": null,
   "metadata": {},
   "outputs": [],
   "source": [
    "def get_value(d, key):\n",
    "    return d[key]\n",
    "\n",
    "slovnik = {\"klic\": \"hodnota\"}\n",
    "hodnota = get_value(slovnik, \"klic\")"
   ]
  },
  {
   "cell_type": "markdown",
   "metadata": {},
   "source": [
    "- Přidejte type hinty k funkci, která vrací n-tý prvek z daného seznamu, předpokládejte, že je seznam homogenní - obsahuje prvky stejného typu."
   ]
  },
  {
   "cell_type": "code",
   "execution_count": null,
   "metadata": {},
   "outputs": [],
   "source": [
    "def get_nth_element(lst, n):\n",
    "    return lst[n]\n",
    "\n",
    "seznam1 = [1, 2, 3, 4, 5]\n",
    "prvek = get_nth_element(seznam1, 2)\n",
    "\n",
    "seznam2 = [\"a\", \"b\", \"c\", \"d\", \"e\"]\n",
    "prvek2 = get_nth_element(seznam2, 3)\n",
    "\n",
    "seznam3 = [int, float, str, bool, list]\n",
    "prvek3 = get_nth_element(seznam3, 4)"
   ]
  },
  {
   "cell_type": "markdown",
   "metadata": {},
   "source": [
    "\n",
    "- Opište následující funkci s type hinty pro oba vstupy a návratový typ. Předpokládejte, že je list homogenní a může obsahovat int, float nebo string. Multiplier je int.\n"
   ]
  },
  {
   "cell_type": "code",
   "execution_count": null,
   "metadata": {},
   "outputs": [],
   "source": [
    "def multiply_elements(lst, multiplier):\n",
    "    return [x * multiplier for x in lst]\n",
    "\n",
    "seznam1 = [1, 2, 3, 4, 5]\n",
    "nasobek = 10\n",
    "vysledek2 = multiply_elements(seznam1, nasobek)\n",
    "\n",
    "seznam2 = [\"a\", \"b\", \"c\", \"d\", \"e\"]\n",
    "nasobek2 = 3\n",
    "vysledek3 = multiply_elements(seznam2, nasobek2)"
   ]
  },
  {
   "cell_type": "markdown",
   "metadata": {},
   "source": [
    "\n",
    "- Doplňte type hinty k funkci, která přijímá dvě proměnné: celé číslo a volitelný řetězec, který je výchozí jako `None`."
   ]
  },
  {
   "cell_type": "code",
   "execution_count": null,
   "metadata": {},
   "outputs": [],
   "source": [
    "def display_message(number, message=None):\n",
    "    print(f\"Number: {number}, Message: {message}\")\n",
    "    \n",
    "cislo = 42\n",
    "zprava = \"Hello, world!\"\n",
    "display_message(cislo, zprava)\n",
    "\n",
    "display_message(42)"
   ]
  },
  {
   "cell_type": "markdown",
   "metadata": {},
   "source": [
    "\n",
    " - Nastavte type hinty pro funkci, která přijímá jakoukoli hodnotu a vrací její typ."
   ]
  },
  {
   "cell_type": "code",
   "execution_count": null,
   "metadata": {},
   "outputs": [],
   "source": [
    "def get_type(value):\n",
    "    return type(value)\n",
    "\n",
    "typ1 = get_type(42)\n",
    "typ2 = get_type(\"hello\")\n",
    "typ3 = get_type(3.14)"
   ]
  },
  {
   "cell_type": "markdown",
   "metadata": {},
   "source": [
    "- Otypujte správně následující kód, tak aby vstup respektující typy nikdy nevyvolal výjimku."
   ]
  },
  {
   "cell_type": "code",
   "execution_count": null,
   "metadata": {},
   "outputs": [],
   "source": [
    "def return_correct_value(parameter):\n",
    "    if parameter == \"jablko\":\n",
    "        return 1\n",
    "    if parameter == \"hruska\":\n",
    "        return 2\n",
    "    if parameter == \"banan\":\n",
    "        return 3\n",
    "    if parameter == \"pomeranc\":\n",
    "        return 4\n",
    "    raise ValueError(\"Neznámý vstup!\")\n",
    "\n",
    "print(return_correct_value(\"jablko\"))\n",
    "print(return_correct_value(\"hruska\"))\n",
    "print(return_correct_value(\"banan\"))\n",
    "print(return_correct_value(\"pomeranc\"))\n",
    "print(return_correct_value(\"meloun\"))\n",
    "print(return_correct_value(3.14))"
   ]
  },
  {
   "cell_type": "markdown",
   "metadata": {},
   "source": [
    "## Návyky"
   ]
  },
  {
   "cell_type": "markdown",
   "metadata": {},
   "source": [
    "Opravte následující kousky kódu, tak aby lépe respektovaly zásady psaní \"čitelného\" kódu.\n",
    "\n"
   ]
  },
  {
   "cell_type": "code",
   "execution_count": null,
   "metadata": {},
   "outputs": [],
   "source": [
    "def funkce(a, b):\n",
    "    c = a + b\n",
    "    return c\n",
    "\n",
    "x = 5\n",
    "y = 10\n",
    "print(funkce(x, y))"
   ]
  },
  {
   "cell_type": "code",
   "execution_count": null,
   "metadata": {},
   "outputs": [],
   "source": [
    "def kontrola(x):\n",
    "    if x > 0:\n",
    "        if x % 2 == 0:\n",
    "            return \"Kladné sudé\"\n",
    "        return \"Kladné liché\"\n",
    "    return \"Záporné nebo nula\"\n"
   ]
  },
  {
   "cell_type": "code",
   "execution_count": null,
   "metadata": {},
   "outputs": [],
   "source": [
    "def prumer(SEZNAM):\n",
    "    return sum(SEZNAM)/len(SEZNAM)\n",
    "data = [1, 2, 3, 4, 5]\n",
    "print(prumer(data))\n"
   ]
  },
  {
   "cell_type": "code",
   "execution_count": null,
   "metadata": {},
   "outputs": [],
   "source": [
    "def f(x):\n",
    "    if x < 10:\n",
    "        return x + 10\n",
    "    elif x < 20:\n",
    "        return x + 5\n",
    "    else:\n",
    "        return x\n"
   ]
  },
  {
   "cell_type": "code",
   "execution_count": null,
   "metadata": {},
   "outputs": [],
   "source": [
    "pi = 3.14\n",
    "def obvod_kruhu(r):\n",
    "    return 2 * pi * r\n"
   ]
  },
  {
   "cell_type": "code",
   "execution_count": null,
   "metadata": {},
   "outputs": [],
   "source": [
    "def fnc(a,b,c):\n",
    "    return a*b+c\n",
    "print(fnc(1,2,3))\n"
   ]
  },
  {
   "cell_type": "code",
   "execution_count": null,
   "metadata": {},
   "outputs": [],
   "source": [
    "def funkce(list):\n",
    "    for item in list:\n",
    "        print(item)\n",
    "funkce([1, 2, 3])"
   ]
  },
  {
   "cell_type": "code",
   "execution_count": null,
   "metadata": {},
   "outputs": [],
   "source": [
    "print(1 * 2)\n",
    "print(2 * 2)\n",
    "print(3 * 2)\n",
    "print(5 * 2)"
   ]
  },
  {
   "cell_type": "code",
   "execution_count": null,
   "metadata": {},
   "outputs": [],
   "source": [
    "def slozite_porovnani(x, y):\n",
    "    if x > y:\n",
    "        if y > 0:\n",
    "            return x - y\n",
    "        else:\n",
    "            return x + y\n",
    "    else:\n",
    "        if y < 0:\n",
    "            return y - x\n",
    "        else:\n",
    "            return y + x"
   ]
  }
 ],
 "metadata": {
  "kernelspec": {
   "display_name": "Python 3",
   "language": "python",
   "name": "python3"
  },
  "language_info": {
   "codemirror_mode": {
    "name": "ipython",
    "version": 3
   },
   "file_extension": ".py",
   "mimetype": "text/x-python",
   "name": "python",
   "nbconvert_exporter": "python",
   "pygments_lexer": "ipython3",
   "version": "3.11.8"
  }
 },
 "nbformat": 4,
 "nbformat_minor": 2
}
