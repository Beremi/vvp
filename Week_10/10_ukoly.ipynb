{
 "cells": [
  {
   "cell_type": "code",
   "execution_count": null,
   "metadata": {},
   "outputs": [],
   "source": [
    "import numpy as np\n",
    "import math\n",
    "import matplotlib.pyplot as plt"
   ]
  },
  {
   "cell_type": "markdown",
   "metadata": {},
   "source": [
    "# Úkoly\n",
    "\n",
    "## Type Hinting"
   ]
  },
  {
   "cell_type": "markdown",
   "metadata": {},
   "source": [
    "\n",
    "- Označte typy proměnných v následujícím kódu."
   ]
  },
  {
   "cell_type": "code",
   "execution_count": null,
   "metadata": {},
   "outputs": [],
   "source": [
    "name = \"Alice\"\n",
    "age = 30\n",
    "height = 1.75"
   ]
  },
  {
   "cell_type": "markdown",
   "metadata": {},
   "source": [
    "\n",
    "- Doplňte type hinty pro argumenty a návratový typ funkce, která sčítá dvě čísla."
   ]
  },
  {
   "cell_type": "code",
   "execution_count": null,
   "metadata": {},
   "outputs": [],
   "source": [
    "def add(x, y):\n",
    "    return x + y\n",
    "\n",
    "\n",
    "cislo1 = 5\n",
    "cislo2 = 7\n",
    "vysledek = add(cislo1, cislo2)"
   ]
  },
  {
   "cell_type": "markdown",
   "metadata": {},
   "source": [
    "\n",
    "- Přidejte type hinty k funkci, která přijímá seznam celých čísel a vrací jejich průměr jako desetinné číslo."
   ]
  },
  {
   "cell_type": "code",
   "execution_count": null,
   "metadata": {},
   "outputs": [],
   "source": [
    "def calculate_average(numbers):\n",
    "    return sum(numbers) / len(numbers)\n",
    "\n",
    "\n",
    "cisla = [1, 2, 3, 4, 5]\n",
    "prumer = calculate_average(cisla)"
   ]
  },
  {
   "cell_type": "markdown",
   "metadata": {},
   "source": [
    "\n",
    "- Doplňte type hinty pro funkci, která bere řetězec a vrací `True` nebo `False` na základě toho, zda je řetězec prázdný.\n",
    "\n"
   ]
  },
  {
   "cell_type": "code",
   "execution_count": null,
   "metadata": {},
   "outputs": [],
   "source": [
    "def is_empty(s):\n",
    "    return len(s) == 0\n",
    "\n",
    "\n",
    "retezec = \"ahoj\"\n",
    "je_prazdny = is_empty(retezec)"
   ]
  },
  {
   "cell_type": "markdown",
   "metadata": {},
   "source": [
    "- Nastavte type hinty pro funkci, která bere slovník (kde klíče i hodnoty jsou stringy) a klíč (string), a vrací hodnotu pro daný klíč."
   ]
  },
  {
   "cell_type": "code",
   "execution_count": null,
   "metadata": {},
   "outputs": [],
   "source": [
    "def get_value(d, key):\n",
    "    return d[key]\n",
    "\n",
    "\n",
    "slovnik = {\"klic\": \"hodnota\"}\n",
    "hodnota = get_value(slovnik, \"klic\")"
   ]
  },
  {
   "cell_type": "markdown",
   "metadata": {},
   "source": [
    "- Přidejte type hinty k funkci, která vrací n-tý prvek z daného seznamu, předpokládejte, že je seznam homogenní - obsahuje prvky stejného typu."
   ]
  },
  {
   "cell_type": "code",
   "execution_count": null,
   "metadata": {},
   "outputs": [],
   "source": [
    "def get_nth_element(lst, n):\n",
    "    return lst[n]\n",
    "\n",
    "\n",
    "seznam1 = [1, 2, 3, 4, 5]\n",
    "prvek = get_nth_element(seznam1, 2)\n",
    "\n",
    "seznam2 = [\"a\", \"b\", \"c\", \"d\", \"e\"]\n",
    "prvek2 = get_nth_element(seznam2, 3)\n",
    "\n",
    "seznam3 = [int, float, str, bool, list]\n",
    "prvek3 = get_nth_element(seznam3, 4)"
   ]
  },
  {
   "cell_type": "markdown",
   "metadata": {},
   "source": [
    "\n",
    "- Opište následující funkci s type hinty pro oba vstupy a návratový typ. Předpokládejte, že je list homogenní a může obsahovat int, float nebo string. Multiplier je int.\n"
   ]
  },
  {
   "cell_type": "code",
   "execution_count": null,
   "metadata": {},
   "outputs": [],
   "source": [
    "def multiply_elements(lst, multiplier):\n",
    "    return [x * multiplier for x in lst]\n",
    "\n",
    "\n",
    "seznam1 = [1, 2, 3, 4, 5]\n",
    "nasobek = 10\n",
    "vysledek2 = multiply_elements(seznam1, nasobek)\n",
    "\n",
    "seznam2 = [\"a\", \"b\", \"c\", \"d\", \"e\"]\n",
    "nasobek2 = 3\n",
    "vysledek3 = multiply_elements(seznam2, nasobek2)"
   ]
  },
  {
   "cell_type": "markdown",
   "metadata": {},
   "source": [
    "\n",
    "- Doplňte type hinty k funkci, která přijímá dvě proměnné: celé číslo a volitelný řetězec, který je výchozí jako `None`."
   ]
  },
  {
   "cell_type": "code",
   "execution_count": null,
   "metadata": {},
   "outputs": [],
   "source": [
    "def display_message(number, message=None):\n",
    "    print(f\"Number: {number}, Message: {message}\")\n",
    "\n",
    "\n",
    "cislo = 42\n",
    "zprava = \"Hello, world!\"\n",
    "display_message(cislo, zprava)\n",
    "display_message(42)"
   ]
  },
  {
   "cell_type": "markdown",
   "metadata": {},
   "source": [
    "\n",
    " - Nastavte type hinty pro funkci, která přijímá jakoukoli hodnotu a vrací její typ."
   ]
  },
  {
   "cell_type": "code",
   "execution_count": null,
   "metadata": {},
   "outputs": [],
   "source": [
    "def get_type(value):\n",
    "    return type(value)\n",
    "\n",
    "\n",
    "typ1 = get_type(42)\n",
    "typ2 = get_type(\"hello\")\n",
    "typ3 = get_type(3.14)"
   ]
  },
  {
   "cell_type": "markdown",
   "metadata": {},
   "source": [
    "- Otypujte správně následující kód, tak aby vstup respektující typy nikdy nevyvolal výjimku."
   ]
  },
  {
   "cell_type": "code",
   "execution_count": null,
   "metadata": {},
   "outputs": [],
   "source": [
    "def return_correct_value(parameter):\n",
    "    if parameter == \"jablko\":\n",
    "        return 1\n",
    "    if parameter == \"hruska\":\n",
    "        return 2\n",
    "    if parameter == \"banan\":\n",
    "        return 3\n",
    "    if parameter == \"pomeranc\":\n",
    "        return 4\n",
    "    raise ValueError(\"Neznámý vstup!\")\n",
    "\n",
    "\n",
    "print(return_correct_value(\"jablko\"))\n",
    "print(return_correct_value(\"hruska\"))\n",
    "print(return_correct_value(\"banan\"))\n",
    "print(return_correct_value(\"pomeranc\"))\n",
    "\n",
    "# toto by mělo být podtrženo červeně\n",
    "print(return_correct_value(\"meloun\"))\n",
    "print(return_correct_value(3.14))"
   ]
  },
  {
   "cell_type": "markdown",
   "metadata": {},
   "source": [
    "- otypujte následující kód"
   ]
  },
  {
   "cell_type": "code",
   "execution_count": null,
   "metadata": {},
   "outputs": [],
   "source": [
    "class Zlomek:\n",
    "    def __init__(self, citatel, jmenovatel):\n",
    "        self.citatel = citatel\n",
    "        self.jmenovatel = jmenovatel\n",
    "\n",
    "    def __add__(self, other):\n",
    "        return Zlomek(self.citatel * other.jmenovatel + other.citatel *\n",
    "                      self.jmenovatel, self.jmenovatel * other.jmenovatel)\n",
    "\n",
    "    def __str__(self):\n",
    "        return f\"{self.citatel}/{self.jmenovatel}\"\n",
    "\n",
    "\n",
    "zlomek1 = Zlomek(1, 2)\n",
    "zlomek2 = Zlomek(1, 3)\n",
    "soucet = zlomek1 + zlomek2\n",
    "print(f\"{zlomek1} + {zlomek2} = {soucet}\")"
   ]
  },
  {
   "cell_type": "markdown",
   "metadata": {},
   "source": [
    "- vyrobte tři listy (s obsahem dle type hintu) a správně otypujte:\n",
    "    - list s pouze třemi hodnotami typu int, float, float\n",
    "    - list s hodnotami typu int nebo float\n",
    "    - homogenní list (tedy všechny hodnoty jsou stejného typu) s hodnotami typu int nebo float"
   ]
  },
  {
   "cell_type": "code",
   "execution_count": null,
   "metadata": {},
   "outputs": [],
   "source": [
    "list1: list = [1, 2.0, 3.0]\n",
    "list2: list = [1, 2, 3, 4.0, 5.0]\n",
    "list3: list = [1, 2, 3, 4, 5]"
   ]
  },
  {
   "cell_type": "markdown",
   "metadata": {},
   "source": [
    "## Návyky"
   ]
  },
  {
   "cell_type": "markdown",
   "metadata": {},
   "source": [
    "Opravte následující kousky kódu, tak aby lépe respektovaly zásady psaní \"čitelného\" kódu.\n",
    "\n"
   ]
  },
  {
   "cell_type": "code",
   "execution_count": null,
   "metadata": {},
   "outputs": [],
   "source": [
    "# výpočet dráhy padajícího tělesa\n",
    "\n",
    "g = 9.81\n",
    "PocatecniRychlost = 0\n",
    "PocatecniVyska = 100\n",
    "PocetKroku = 1000\n",
    "CasovyKrok = 0.01\n",
    "\n",
    "AktualniVyska = PocatecniVyska\n",
    "AktualniRychlost = PocatecniRychlost\n",
    "\n",
    "casovyvyvoj = []\n",
    "vyskavyvoj = []\n",
    "\n",
    "for i in range(PocetKroku):\n",
    "    cas = i * CasovyKrok\n",
    "    AktualniRychlost = AktualniRychlost + g * CasovyKrok\n",
    "    AktualniVyska = max(AktualniVyska - AktualniRychlost * CasovyKrok, 0)\n",
    "    casovyvyvoj.append(cas)\n",
    "    vyskavyvoj.append(AktualniVyska)\n",
    "    if AktualniVyska == 0:\n",
    "        break\n",
    "\n",
    "plt.plot(casovyvyvoj, vyskavyvoj)"
   ]
  },
  {
   "cell_type": "code",
   "execution_count": null,
   "metadata": {},
   "outputs": [],
   "source": [
    "# odmocnina\n",
    "\n",
    "def fnc(a, b, c):\n",
    "    tmp = a\n",
    "    i = 0\n",
    "    while True:\n",
    "        i += 1\n",
    "        tmp = (tmp + a / tmp) / 2\n",
    "        if abs(tmp**2 - a) < b:\n",
    "            rr = \"Converged\"\n",
    "            break\n",
    "        if i >= c:\n",
    "            rr = \"Not converged\"\n",
    "            break\n",
    "    return tmp, i, rr\n",
    "\n",
    "\n",
    "print(fnc(1234567**2, 1e-12, 100))"
   ]
  },
  {
   "cell_type": "code",
   "execution_count": null,
   "metadata": {},
   "outputs": [],
   "source": [
    "zbozi = {\"jablko\": {\"cena\": 10,\n",
    "                    \"cena s DPH\": 1.21 * 10},\n",
    "         \"hruska\": {\"cena\": 15,\n",
    "                    \"cena s DPH\": 1.21 * 15},\n",
    "         \"banan\": {\"cena\": 20,\n",
    "                   \"cena s DPH\": 1.21 * 20},\n",
    "         \"pomeranc\": {\"cena\": 25,\n",
    "                      \"cena s DPH\": 1.21 * 25}}"
   ]
  },
  {
   "cell_type": "code",
   "execution_count": null,
   "metadata": {},
   "outputs": [],
   "source": [
    "def f(x):\n",
    "    if x > 100:\n",
    "        vystup = \"Strašně moc!\"\n",
    "    else:\n",
    "        if x <= 100 and x > 50:\n",
    "            vystup = \"Pořád hodně!\"\n",
    "        else:\n",
    "            if x <= 50 and x > 10:\n",
    "                vystup = \"Tak akorát!\"\n",
    "            else:\n",
    "                if x <= 10 and x > 0:\n",
    "                    vystup = \"Málo!\"\n",
    "                else:\n",
    "                    vystup = \"Nic!\"\n",
    "    return vystup\n",
    "\n",
    "print(f(150))\n",
    "print(f(75))\n",
    "print(f(25))\n",
    "print(f(5))\n",
    "print(f(0))"
   ]
  },
  {
   "cell_type": "code",
   "execution_count": null,
   "metadata": {},
   "outputs": [],
   "source": [
    "def obvod_kruhu(r):\n",
    "    return 2 * 3.14 * r\n",
    "\n",
    "def obsah_kruhu(r):\n",
    "    return 3.14 * r**2\n",
    "\n",
    "def povrch_koule(r):\n",
    "    return 4 * 3.14 * r**2\n",
    "\n",
    "def objem_koule(r):\n",
    "    return 4 / 3 * 3.14 * r**3\n",
    "\n",
    "print(obvod_kruhu(5))\n",
    "print(obsah_kruhu(5))\n",
    "print(povrch_koule(5))\n",
    "print(objem_koule(5))"
   ]
  },
  {
   "cell_type": "markdown",
   "metadata": {},
   "source": [
    "## Jednotkové testy\n",
    "- ve složce `ukol_jednotkove_testy` naleznete soubor `statistiky.py` ve kterém jsou implementovány tři funkce (`prumer`, `median`, `rozptyl`)\n",
    "\n",
    "\n",
    "**Úkoly:**\n",
    "- Napsat jednotkové testy (použijte např. `pytest`) pro každou funkci (`prumer`, `median`, `rozptyl`)\n",
    "   - Ujistěte se, že testy pokrývají různé případy, včetně standardních, okrajových a chybových situací (viz seznam níže)\n",
    "- Po proběhnutí unit testů opravte implementace ať veškeré testy projdou.\n",
    "\n",
    "\n",
    "**`prumer` by měl splňovat:**\n",
    "- pro prázný list funkce vrátí `None`\n",
    "- pro list `[10, -10, 20, -20]` vrátí `0`\n",
    "- pro list `[10, 5, 15]` vrátí `10`\n",
    "- pro list `[10]` vrátí `10`\n",
    "- pro listy s něčím jiným než s čísly vyhodí chybu (otestujte na `str`)\n",
    "\n",
    "**`median` by měl splňovat:**\n",
    "- pro prázdný seznam funkce vrátí `None`\n",
    "- pro seznam `[1, 3, 2]` vrátí `2` (lichý počet prvků)\n",
    "- pro seznam `[4, 3, 2, 1]` vrátí `2.5` (sudý počet prvků)\n",
    "- pro seznam `[10]` vrátí `10`\n",
    "- seznamy s něčím jiným než čísly by měly vyhodit chybu (otestujte například na `str`)\n",
    "\n",
    "**`rozptyl` by měl splňovat:**\n",
    "- pro prázdný seznam funkce vrátí `None`\n",
    "- pro seznam `[5]` vrátí `0`\n",
    "- pro seznam `[1, 2, 3, 4, 5]` vrátí `2` (rozptyl této skupiny čísel)\n",
    "- pro seznamy obsahující nečíselné hodnoty by měla funkce vyhodit chybu (otestujte například na `str`)\n"
   ]
  }
 ],
 "metadata": {
  "kernelspec": {
   "display_name": "Python 3",
   "language": "python",
   "name": "python3"
  },
  "language_info": {
   "codemirror_mode": {
    "name": "ipython",
    "version": 3
   },
   "file_extension": ".py",
   "mimetype": "text/x-python",
   "name": "python",
   "nbconvert_exporter": "python",
   "pygments_lexer": "ipython3",
   "version": "3.11.8"
  }
 },
 "nbformat": 4,
 "nbformat_minor": 2
}
