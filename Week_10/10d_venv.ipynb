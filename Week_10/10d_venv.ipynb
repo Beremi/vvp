{
 "cells": [
  {
   "cell_type": "markdown",
   "metadata": {},
   "source": [
    "# Virtuální prostředí python `venv` \n",
    "\n",
    "Jedná se o jednoduchý způsob jak vytvářet izolované prostředí pro jednotlivé projekty. Každé virtuální může mít vlastní skupinu aktivních balíčků. Dá se také vyrobit v návaznosti na jiný než systémový python (myšleno verzi pythonu).\n",
    "\n",
    "Je to velmi užitečné například při užívání balíčků, které mají specifické požadavky na verze jiných balíčků (které se pak často bijí s požadavky jiných balíčků).\n",
    "\n",
    "\n",
    "## Práce s `venv` z terminálu\n",
    "- **Vytvoření virtualního prostředí**: `python -m venv nazev_prostredi`. (`nazev_prostredi` je cesta + název složky, kde se bude virtuální prostředí ukládat.)\n",
    "- **Aktivace prostředí**:\n",
    "  - Windows: `.\\nazev_prostredi\\Scripts\\activate`\n",
    "  - macOS/Linux: `source nazev_prostredi/bin/activate`\n",
    "- **Instalace a správa balíčků** pomocí `pip` v rámci aktivovaného prostředí (které prostředí je právě aktivní je vidět v závorce vlevo od příkazové řádky).\n",
    "- **Deaktivace prostředí**: Jak opustit virtualní prostředí pomocí příkazu `deactivate`.\n",
    "\n",
    "## Práce s `venv` ve VSCode\n",
    "- Libovolné `venv` lze vybrat v nabídce `View > Command Palette > Python: Select Interpreter`.\n",
    "- Ve stejné nabídce lze i vyrobit nové virtuální prostředí pomocí pro současný projekt, bude pak uloženo v `.venv` ve složce projektu.\n",
    "- Může se hodit doplněk `Python Environment Manager`, který umožňuje graficky prohlížet dostupná prostředí a snadno přepínat mezi nimi.\n"
   ]
  }
 ],
 "metadata": {
  "kernelspec": {
   "display_name": "Python 3",
   "language": "python",
   "name": "python3"
  },
  "language_info": {
   "codemirror_mode": {
    "name": "ipython",
    "version": 3
   },
   "file_extension": ".py",
   "mimetype": "text/x-python",
   "name": "python",
   "nbconvert_exporter": "python",
   "pygments_lexer": "ipython3",
   "version": "3.11.8"
  },
  "orig_nbformat": 4
 },
 "nbformat": 4,
 "nbformat_minor": 2
}
