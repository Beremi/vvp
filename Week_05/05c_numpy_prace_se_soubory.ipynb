{
    "cells": [
        {
            "attachments": {},
            "cell_type": "markdown",
            "metadata": {},
            "source": [
                "# Importujeme numpy\n",
                "\n",
                "Chceme-li použít `numpy`, je samozřejmě nutné modul importovat. Obvykle se použivá zkratka `np`: \n"
            ]
        },
        {
            "cell_type": "code",
            "execution_count": null,
            "metadata": {
                "jupyter": {
                    "outputs_hidden": false
                }
            },
            "outputs": [],
            "source": [
                "import numpy as np\n"
            ]
        },
        {
            "attachments": {},
            "cell_type": "markdown",
            "metadata": {},
            "source": [
                "# Numpy a práce se soubory\n",
                "\n",
                "### ASCII soubory\n",
                "S textovými (ASCII) soubory obsahující data se setkáváme stále často, přestože to z mnoha důvodů není ideální formát. Na čtení ASCII (spadá sem i CSV) máme v Numpy `genfromtxt` a `loadtxt`. V [dokumentaci](http://docs.scipy.org/doc/numpy/reference/routines.io.html) se dozvíte, jak přesně fungují a jaké mají argumenty."
            ]
        },
        {
            "cell_type": "markdown",
            "metadata": {},
            "source": [
                "Pomocí `%%file` vytvoříme soubor `ascii_data_1.txt`"
            ]
        },
        {
            "cell_type": "code",
            "execution_count": null,
            "metadata": {
                "jupyter": {
                    "outputs_hidden": false
                }
            },
            "outputs": [],
            "source": [
                "%%file ascii_data_1.txt\n",
                "1 -6.1 -6.1 -6.1 1\n",
                "2 -15.4 -15.4 -15.4 1\n",
                "3 -15.0 -15.0 -15.0 1\n",
                "4 -19.3 -19.3 -19.3 1\n",
                "5 -16.8 -16.8 -16.8 1\n",
                "6 -11.4 -11.4 -11.4 1\n",
                "7 -7.6 -7.6 -7.6 1\n",
                "8 -7.1 -7.1 -7.1 1\n",
                "9 -10.1 -10.1 -10.1 1\n",
                "10 -9.5 -9.5 -9.5 1\n"
            ]
        },
        {
            "cell_type": "markdown",
            "metadata": {},
            "source": [
                "Nyní se pokusíme soubor načíst pomocí `genfromtxt`."
            ]
        },
        {
            "cell_type": "code",
            "execution_count": null,
            "metadata": {
                "jupyter": {
                    "outputs_hidden": false
                }
            },
            "outputs": [],
            "source": [
                "data = np.genfromtxt('ascii_data_1.txt')\n",
                "print(data)\n"
            ]
        },
        {
            "cell_type": "markdown",
            "metadata": {},
            "source": [
                "`loadtxt` by mělo fungovat také:"
            ]
        },
        {
            "cell_type": "code",
            "execution_count": null,
            "metadata": {
                "jupyter": {
                    "outputs_hidden": false
                }
            },
            "outputs": [],
            "source": [
                "data = np.loadtxt('ascii_data_1.txt')\n",
                "print(data)"
            ]
        },
        {
            "attachments": {},
            "cell_type": "markdown",
            "metadata": {},
            "source": [
                "`savetxt` můžeme použít na uložení\n",
                "- parametr `fmt` určuje formát, který se použije pro uložení dat\n",
                " - např. `fmt=\"%.2f\"` uloží data s 2 desetinnými místy\n",
                " - např. `fmt=\"%6g\"` uloží data s prázdnými místy doplněnými nulami na 6 míst"
            ]
        },
        {
            "cell_type": "code",
            "execution_count": null,
            "metadata": {
                "jupyter": {
                    "outputs_hidden": false
                }
            },
            "outputs": [],
            "source": [
                "np.savetxt(\"ascii_data_1_new.txt\", np.random.rand(5,3), fmt=\"%.2f\")\n",
                "np.savetxt(\"ascii_data_2_new.txt\", data, fmt=\"%6g\")\n"
            ]
        },
        {
            "cell_type": "markdown",
            "metadata": {},
            "source": [
                "Soubor můžeme vypsat:"
            ]
        },
        {
            "cell_type": "code",
            "execution_count": null,
            "metadata": {},
            "outputs": [],
            "source": [
                "%less ascii_data_1_new.txt\n"
            ]
        },
        {
            "cell_type": "code",
            "execution_count": null,
            "metadata": {},
            "outputs": [],
            "source": [
                "%less ascii_data_2_new.txt\n"
            ]
        },
        {
            "attachments": {},
            "cell_type": "markdown",
            "metadata": {},
            "source": [
                "Obecně se snažte textovým souborům (včetně csv apod.) pro numerická data vyhýbat. Jejich formát je vždy do značné míry neurčitý a na disku zabírají zbytečně moc místa. Výhodou je pouze jednoduchost zobrazení v textovém editoru nebo příkazové řadce."
            ]
        },
        {
            "attachments": {},
            "cell_type": "markdown",
            "metadata": {},
            "source": [
                "### Binární formáty\n",
                "\n",
                "Pro numerická data se daleko více hodí binární soubory, které jsou dobře definované a úsporné na místo. Pokud použijeme vhodný a rozšířený formát, nemusíme se bát ani přenositelnosti.\n",
                "\n",
                "Numpy má vlastní NPY formát. Ten je pochopitelně jednoduchý na používání v NumPy, s přenositelností (pro neuživatele Pythonu a obecně další systémy) je to ale už horší. Pomocí `save` a `load` můžete jednoduše ukládat a nahrávat Numpy objekty."
            ]
        },
        {
            "cell_type": "code",
            "execution_count": null,
            "metadata": {
                "jupyter": {
                    "outputs_hidden": false
                }
            },
            "outputs": [],
            "source": [
                "np.save(\"binary_data_1_new.npy\", np.random.rand(5,3))\n"
            ]
        },
        {
            "cell_type": "code",
            "execution_count": null,
            "metadata": {
                "jupyter": {
                    "outputs_hidden": false
                }
            },
            "outputs": [],
            "source": [
                "data = np.load(\"binary_data_1_new.npy\")\n",
                "print(data)"
            ]
        },
        {
            "cell_type": "code",
            "execution_count": null,
            "metadata": {},
            "outputs": [],
            "source": [
                "# pojďmě porovnat kolik místa zabírají jednotlivé soubory\n",
                "data = np.random.rand(100, 100)\n",
                "np.save(\"binary_data_1_new.npy\", data)\n",
                "np.savetxt(\"ascii_data_1_new.txt\", data)\n",
                "%ls -l"
            ]
        },
        {
            "attachments": {},
            "cell_type": "markdown",
            "metadata": {},
            "source": [
                "## HDF5 formát\n",
                "Velice dobrým a rozšířeným standardem je pak [HDF5](https://www.hdfgroup.org/solutions/hdf5/). Pro Python je jednoduché tento foromát používat pomocí knihovny [h5py](https://www.h5py.org/)."
            ]
        },
        {
            "cell_type": "code",
            "execution_count": null,
            "metadata": {},
            "outputs": [],
            "source": [
                "# pokud nemáte h5py nainstalované, můžete jednoduše nainstalovat přímo z notebooku momocí\n",
                "# %conda install h5py\n",
                "# nebo pokud používáte pip prostředí\n",
                "# %pip install h5py\n"
            ]
        },
        {
            "cell_type": "code",
            "execution_count": null,
            "metadata": {},
            "outputs": [],
            "source": [
                "# můžete instalovat přímo z notebooku, stačí odstranit komentář\n",
                "# !pip install h5py -U"
            ]
        },
        {
            "cell_type": "code",
            "execution_count": null,
            "metadata": {},
            "outputs": [],
            "source": [
                "import h5py\n"
            ]
        },
        {
            "cell_type": "markdown",
            "metadata": {},
            "source": [
                "V HDF5 souborech jsou data ve stromové struktuře (obdoba aresářů a souborů). Soubor se dvěma datasety můžeme vytvořit např. takto:"
            ]
        },
        {
            "cell_type": "code",
            "execution_count": null,
            "metadata": {},
            "outputs": [],
            "source": [
                "data_pole = np.array([[1, 2, 3], [4, 5, 6], [7, 8, 9]], dtype=np.int32)\n",
                "data_binary = np.array([True, False, True, False, True, False], dtype=bool)\n",
                "with h5py.File(\"test_hdf5.h5\", \"w\") as hdf5_file:\n",
                "    hdf5_file.create_dataset(\"data1\", data=data_pole)\n",
                "    hdf5_file.create_dataset(\"data_nahodne\", data=np.random.random_sample((3, 4)))\n",
                "    hdf5_file.create_dataset(\"data_binarni\", data=data_binary)\n"
            ]
        },
        {
            "cell_type": "code",
            "execution_count": null,
            "metadata": {},
            "outputs": [],
            "source": [
                "with h5py.File(\"test_hdf5.h5\", \"r\") as hdf5_file:\n",
                "    data_hdf5 = hdf5_file[\"data1\"]\n",
                "    print(data_hdf5)\n",
                "    # musíme data \"nahrát\" pomocí [:], jinak by byl výsledek jen \"ukazatel\" na data\n",
                "    data_pole = hdf5_file[\"data1\"][:]\n",
                "    data_binary = hdf5_file[\"data_binarni\"][:]\n",
                "    data_nahodne = hdf5_file[\"data_nahodne\"][:]\n",
                "\n"
            ]
        },
        {
            "cell_type": "code",
            "execution_count": null,
            "metadata": {},
            "outputs": [],
            "source": [
                "# \"ukazatel\" na data přestane fungovat, pokud soubor zavřeme\n",
                "data_hdf5\n"
            ]
        },
        {
            "attachments": {},
            "cell_type": "markdown",
            "metadata": {},
            "source": [
                "Jelikož v HDF5 souboru může být velké množství dat (mnoho datasetů, velká data), je čtení dat z HDF5 \"lazy\": Dokud data opravdu nepotřebujeme v paměti (např. v NumPy poli), data zůstávají jen v souboru a v paměti máme jen jejich popis, jakýsi ukazatel na data."
            ]
        }
    ],
    "metadata": {
        "kernelspec": {
            "display_name": "Python 3",
            "language": "python",
            "name": "python3"
        },
        "language_info": {
            "codemirror_mode": {
                "name": "ipython",
                "version": 3
            },
            "file_extension": ".py",
            "mimetype": "text/x-python",
            "name": "python",
            "nbconvert_exporter": "python",
            "pygments_lexer": "ipython3",
            "version": "3.13.2"
        }
    },
    "nbformat": 4,
    "nbformat_minor": 4
}
