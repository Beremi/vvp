{
    "cells": [
        {
            "attachments": {},
            "cell_type": "markdown",
            "metadata": {},
            "source": [
                "[NumPy](http://www.numpy.org) je základní Python knihovna pro práci s numerickými daty, konkrétně s 1- až n-rozměrnými maticemi. Implementace (pro CPython) je z velké části napsána v C a Fortranu a používá BLAS knihovny. Numpy tak umožňuje pracovat s numerickými daty ve stylu Python kontejnerů (existují samozřejmě rozdíly) a zároveň zachovat rychlost kompilovaných jazyků.\n",
                "\n",
                "V této lekci projdeme:\n",
                "- Co je to `numpy` ndarray?\n",
                "- Vytváření `numpy` polí.\n",
                "- Ukládání a načítání polí."
            ]
        },
        {
            "attachments": {},
            "cell_type": "markdown",
            "metadata": {},
            "source": [
                "Tento notebook s úctou vykrádá:  [Lectures on scientific computing with Python](http://github.com/jrjohansson/scientific-python-lectures) a [numerical_python_course](https://gitlab.com/coobas/numerical_python_course)"
            ]
        },
        {
            "attachments": {},
            "cell_type": "markdown",
            "metadata": {},
            "source": [
                "# Importujeme numpy\n",
                "\n",
                "Chceme-li použít `numpy`, je samozřejmě nutné modul importovat. Obvykle se použivá zkratka `np`: \n"
            ]
        },
        {
            "cell_type": "code",
            "execution_count": null,
            "metadata": {
                "jupyter": {
                    "outputs_hidden": false
                }
            },
            "outputs": [],
            "source": [
                "import numpy as np\n"
            ]
        },
        {
            "attachments": {},
            "cell_type": "markdown",
            "metadata": {},
            "source": [
                "## Proč NumPy?\n",
                "\n",
                "* Python seznamy jsou příliš obecné. Mohou obsahovat jakýkoliv druh objektu. Jsou dynamicky typované. Nepodporují matematické funkce, jako maticové násobení. \n",
                "\n",
                "* NumPy pole jsou staticky typovaná a homogenní. Typ prvků je určen při vytvoření pole.\n",
                "* NumPy pole jsou efektivně uložena v paměti.\n",
                "* Díky těmto vlastnostem lze implementovat matematické operace, jako je násobení nebo sčítání, v rychlém, kompilovaném jazyce (C/Fortran)."
            ]
        },
        {
            "attachments": {},
            "cell_type": "markdown",
            "metadata": {},
            "source": [
                "# `NumPy` pole: `ndarray`\n",
                "\n",
                "`ndarray` je základní datový typ v `numpy`. Jedná se o n-rozměrné pole (vektor, matice, tensor) se záznamy stejného typu (typicky) čísly (integers, floats, complex numbers)."
            ]
        },
        {
            "cell_type": "code",
            "execution_count": null,
            "metadata": {},
            "outputs": [],
            "source": [
                "# numpy.ndarray\n",
                "help(np.ndarray)\n"
            ]
        },
        {
            "cell_type": "code",
            "execution_count": null,
            "metadata": {},
            "outputs": [],
            "source": [
                "# konstruktor můžeme použít pro vytvoření pole\n",
                "# hlavní povinný parametr je shape = velikost v jednotlivých dimenzích\n",
                "A = np.ndarray(shape=(2, 3, 2))\n",
                "A\n"
            ]
        },
        {
            "attachments": {},
            "cell_type": "markdown",
            "metadata": {},
            "source": [
                "Toto ale není běžný způsob, jakým bychom si `numpy` pole vytvářeli. Většinou budeme chtít pole s nějakými konkétními hodnotami. Zde se pouze alokovala paměť ale její hodnota není definována = je taková jaké bity byly na daném místě v paměti předtím.\n"
            ]
        },
        {
            "attachments": {},
            "cell_type": "markdown",
            "metadata": {},
            "source": [
                "## Vlastnosti `ndarray`\n",
                "\n",
                "`ndarray` má mnoho zajímavách metod a atributů. Některé z nich jsou:\n",
                "- `ndarray.ndim` - počet rozměrů\n",
                "- `ndarray.shape` - velikost pole v jednotlivých rozměrech\n",
                "- `ndarray.size` - celkový počet prvků v poli\n",
                "- `ndarray.dtype` - typ prvků v poli\n",
                "- `ndarray.itemsize` - velikost jednoho prvku v bajtech\n",
                "- `ndarray.nbytes` - celková velikost pole v bajtech\n",
                "- `ndarray.strides` - posuny v bajtech mezi jednotlivými prvky v jednotlivých rozměrech\n",
                "- `ndarray.data` - buffer obsahující samotná data\n",
                "- ...\n"
            ]
        },
        {
            "cell_type": "code",
            "execution_count": null,
            "metadata": {},
            "outputs": [],
            "source": [
                "# seznam všech atributů a metod\n",
                "dir(A)\n"
            ]
        },
        {
            "cell_type": "code",
            "execution_count": null,
            "metadata": {},
            "outputs": [],
            "source": [
                "print(A.ndim)\n",
                "print(A.shape)\n",
                "print(A.size)\n",
                "\n",
                "print(A.dtype)\n",
                "\n",
                "print(A.itemsize)\n",
                "print(A.nbytes)\n",
                "print(A.strides)\n",
                "\n",
                "print(A.data)\n"
            ]
        },
        {
            "attachments": {},
            "cell_type": "markdown",
            "metadata": {},
            "source": [
                "Běžně se používá pořadí prvků v paměti jako C (row-major), je možné nastavit pořadí jako Fortran (column-major) a to pomocí atributu `order`."
            ]
        },
        {
            "cell_type": "code",
            "execution_count": null,
            "metadata": {},
            "outputs": [],
            "source": [
                "# vytvoření pole s jiným vnitřním pořadím\n",
                "A = np.ndarray(shape=(2, 3, 2), order='F')\n",
                "print(A.strides)\n"
            ]
        },
        {
            "attachments": {},
            "cell_type": "markdown",
            "metadata": {},
            "source": [
                "## Typy prvků v numpy poli\n",
                "Obecný objekt pro reprezentaci datového typu v `numpy` je `dtype`, který obsahuje veškeré informace o datovém typu.\n",
                "\n",
                "Nicméně, vetšinou nám stačí velmi jednoduchý typ jako je například `int`, `float` a v těchto případech nemusíme typ zadávat pomocí objektu `dtype`.\n",
                "\n",
                "\n",
                "**Základní typy:**\n",
                "\n",
                "Celá čísla:\n",
                "- `numpy.int8` - 8-bit integer\n",
                "- `numpy.int16` - 16-bit integer\n",
                "- `numpy.int32` - 32-bit integer\n",
                "- `numpy.int64` - 64-bit integer\n",
                "- třídu `int` (bez `numpy.`) - zvolí velikost integeru podle platformy (32-bit integer na 32-bit platformě, 64-bit integer na 64-bit platformě)\n",
                "\n",
                "Desetinná čísla:\n",
                "- `numpy.float16` - 16-bit floating point\n",
                "- `numpy.float32` - 32-bit floating point\n",
                "- `numpy.float64` - 64-bit floating point\n",
                "- `numpy.float128` - 128-bit floating point\n",
                "- třída `float` (bez `numpy.`) - zvolí velikost floating point podle platformy (32-bit floating point na 32-bit platformě, 64-bit floating point na 64-bit platformě)\n",
                "\n",
                "Komplexní čísla:\n",
                "- `numpy.complex64` - 64-bit complex number\n",
                "- `numpy.complex128` - 128-bit complex number\n",
                "- `numpy.complex256` - 256-bit complex number\n",
                "- třídu `complex` (bez `numpy.`) - zvolí velikost complex number podle platformy (64-bit complex number na 32-bit platformě, 128-bit complex number na 64-bit platformě)\n",
                "\n",
                "Boolean:\n",
                "- `bool` (bez `numpy.`)  - boolean"
            ]
        },
        {
            "cell_type": "code",
            "execution_count": null,
            "metadata": {},
            "outputs": [],
            "source": [
                "A = np.ndarray(shape=(1), dtype=np.int8)\n",
                "print(A)\n",
                "print(A.itemsize)\n",
                "print(\"---\")\n",
                "A = np.ndarray(shape=(1), dtype=np.int16)\n",
                "print(A)\n",
                "print(A.itemsize)\n",
                "print(\"---\")\n",
                "A = np.ndarray(shape=(1), dtype=np.int32)\n",
                "print(A)\n",
                "print(A.itemsize)\n",
                "print(\"---\")\n",
                "A = np.ndarray(shape=(1), dtype=np.int64)\n",
                "print(A)\n",
                "print(A.itemsize)\n",
                "print(\"---\")\n",
                "A = np.ndarray(shape=(1), dtype=int)\n",
                "print(A)\n",
                "print(A.itemsize)\n"
            ]
        },
        {
            "cell_type": "code",
            "execution_count": null,
            "metadata": {},
            "outputs": [],
            "source": [
                "A = np.ndarray(shape=(1), dtype=np.float16)\n",
                "print(A)\n",
                "print(A.itemsize)\n",
                "print(\"---\")\n",
                "A = np.ndarray(shape=(1), dtype=np.float32)\n",
                "print(A)\n",
                "print(A.itemsize)\n",
                "print(\"---\")\n",
                "A = np.ndarray(shape=(1), dtype=np.float64)\n",
                "print(A)\n",
                "print(A.itemsize)\n",
                "print(\"---\")\n",
                "A = np.ndarray(shape=(1), dtype=np.float128)\n",
                "print(A)\n",
                "print(A.itemsize)\n",
                "print(\"---\")\n",
                "A = np.ndarray(shape=(1), dtype=float)\n",
                "print(A)\n",
                "print(A.itemsize)\n"
            ]
        },
        {
            "cell_type": "code",
            "execution_count": null,
            "metadata": {},
            "outputs": [],
            "source": [
                "A = np.ndarray(shape=(1), dtype=np.complex64)\n",
                "print(A)\n",
                "print(A.itemsize)\n",
                "print(\"---\")\n",
                "A = np.ndarray(shape=(1), dtype=np.complex128)\n",
                "print(A)\n",
                "print(A.itemsize)\n",
                "print(\"---\")\n",
                "A = np.ndarray(shape=(1), dtype=np.complex256)\n",
                "print(A)\n",
                "print(A.itemsize)\n",
                "print(\"---\")\n",
                "A = np.ndarray(shape=(1), dtype=complex)\n",
                "print(A)\n",
                "print(A.itemsize)\n"
            ]
        },
        {
            "cell_type": "code",
            "execution_count": null,
            "metadata": {},
            "outputs": [],
            "source": [
                "A = np.ndarray(shape=(1), dtype=bool)\n",
                "print(A)\n",
                "print(A.itemsize)\n"
            ]
        },
        {
            "attachments": {},
            "cell_type": "markdown",
            "metadata": {},
            "source": [
                "**Komplikovanější typy:**\n",
                "\n",
                "Je jich mnoho, může se hodit například\n",
                "- `numpy.datetime64` - datetime64\n",
                "\n",
                "Pokročilejší typy definujeme pomocí objektu `dtype`. Více viz [dokumentace 1](https://numpy.org/doc/stable/reference/generated/numpy.dtype.html) a [dokumentace 2](https://numpy.org/doc/stable/reference/arrays.dtypes.html)."
            ]
        },
        {
            "cell_type": "code",
            "execution_count": null,
            "metadata": {},
            "outputs": [],
            "source": [
                "A = np.array(['2007-07-13', '2006-01-13', '2010-08-13'], dtype=np.datetime64)\n",
                "print(A)\n",
                "print(A.itemsize)\n",
                "print(A.dtype)\n"
            ]
        },
        {
            "attachments": {},
            "cell_type": "markdown",
            "metadata": {},
            "source": [
                "Komplikovanější typy definujeme pomocí objektu `dtype`. Například pro ukázku:\n",
                "\n",
                "```python \n",
                "my_dt = np.dtype([('název prvního sloupce', 'i4'), ('název druhého sloupce', 'f8'), ('název třetího sloupce', 'S5')])\n",
                "```\n",
                "\n",
                "Argumentem funkce np.dtype je seznam n-tic, kde každá n-tice reprezentuje \"sloupec\" v poli NumPy. V tomto příkladu máme tři sloupce.\n",
                "\n",
                "První prvek každé n-tice je název sloupce a druhý prvek je řetězec, který reprezentuje datový typ pro tento sloupec. V tomto příkladu máme:\n",
                "\n",
                "`np.int32` neboli `'i4'`: datový typ celého čísla o velikosti 4 bytů\n",
                "`np.float64` neboli `'f8'`: datový typ s pohyblivou řádovou čárkou o velikosti 8 bytů\n",
                "`np.bytes_, 5` neboli `'S5'`: datový typ řetězce s maximální délkou 5 bytů"
            ]
        },
        {
            "cell_type": "code",
            "execution_count": null,
            "metadata": {},
            "outputs": [],
            "source": [
                "# ukazka, kde prvkem je trojice integer, float, string s delkou 5\n",
                "my_dt = np.dtype([('sloupec s číslem', np.int32),\n",
                "                  ('sloupec s floatem', np.float64),\n",
                "                  ('sloupec s pěti znaky', np.bytes_, 5)])\n",
                "\n",
                "# vytvoříme 2x2 matici se záznami daného typu\n",
                "A = np.array([[(1, 2.0, \"hello\"), (3, 4.0, \"world\")],\n",
                "              [(5, 6.0, \"numpy\"), (5, 6.0, \"numpy\")]], dtype=my_dt)\n",
                "\n",
                "print(A)\n",
                "print(A.itemsize)\n",
                "print(A[0, 0])\n",
                "print(A['sloupec s pěti znaky'])\n"
            ]
        },
        {
            "cell_type": "code",
            "execution_count": null,
            "metadata": {},
            "outputs": [],
            "source": [
                "A[1, 1] = (10, 20.0, \"hello world\")\n",
                "print(A)\n"
            ]
        },
        {
            "cell_type": "markdown",
            "metadata": {},
            "source": [
                "# Změna typů\n",
                "Numpy pole jsou *staticky typovaná*. Pro změnu typu můžeme použít metodu `astype` (případně `asarray`)."
            ]
        },
        {
            "cell_type": "code",
            "execution_count": null,
            "metadata": {},
            "outputs": [],
            "source": [
                "M = np.array([[1, 2, 3], [4, 5, 6], [7, 8, 9]])\n",
                "M.dtype\n"
            ]
        },
        {
            "cell_type": "code",
            "execution_count": null,
            "metadata": {},
            "outputs": [],
            "source": [
                "M2 = M.astype(float)\n",
                "M2\n"
            ]
        },
        {
            "cell_type": "code",
            "execution_count": null,
            "metadata": {},
            "outputs": [],
            "source": [
                "# pokudd bychom chtěli \"view\", tedy vyhodnotit data jako float\n",
                "# použijeme metodu view, ale pozor 1 v int není 1.0 ve float\n",
                "M2 = M.view(float)\n",
                "print(M2)"
            ]
        },
        {
            "cell_type": "code",
            "execution_count": null,
            "metadata": {},
            "outputs": [],
            "source": [
                "M3 = M.astype(bool)\n",
                "M3\n"
            ]
        }
    ],
    "metadata": {
        "kernelspec": {
            "display_name": "Python 3",
            "language": "python",
            "name": "python3"
        },
        "language_info": {
            "codemirror_mode": {
                "name": "ipython",
                "version": 3
            },
            "file_extension": ".py",
            "mimetype": "text/x-python",
            "name": "python",
            "nbconvert_exporter": "python",
            "pygments_lexer": "ipython3",
            "version": "3.13.2"
        }
    },
    "nbformat": 4,
    "nbformat_minor": 4
}
