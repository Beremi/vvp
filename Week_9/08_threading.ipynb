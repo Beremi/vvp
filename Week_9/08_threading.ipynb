{
 "cells": [
  {
   "attachments": {},
   "cell_type": "markdown",
   "metadata": {},
   "source": [
    "# Knihovna threading\n",
    "Threading je modul, který umožňuje v Pythonu vytvářet vlákna. Tedy jednotlivé výpočetní čísti, které v rámci jednoho procesu (zde kernelu/interpretu) sdílejí data.\n",
    "\n",
    "Jak už bylo zmíněno, v Pythonu existuje GIL (Global interpret lock) který umožňuje v jednu chvíli pouze jednomu vláknu vykonávat python kód. Toto je sice nevýhoda z pohledu výkonu, ale na úrovni pythonu za nás řeší veškeré neduhy, které by mohly nastat při sdílení dat mezi vlákny (race conditions, deadlocks, ...).\n",
    "\n",
    "Threading nabízí mnoho dalších funkcionalit, viz [dokumentace](https://docs.python.org/3/library/threading.html):\n",
    "- `threading.Condition` - daší způsob jak synchronizovat vlákna\n",
    "- `threading.Semaphore` - synchronizace vláken pomocí semaforů\n",
    "- `threading.Timer` - časovač, který spustí funkci po určité době\n",
    "- `threading.Event` - synchronizace vláken pomocí událostí\n"
   ]
  },
  {
   "attachments": {},
   "cell_type": "markdown",
   "metadata": {},
   "source": [
    "## Vytváření vláken\n",
    "Pro vytváření vláken je potřeba vytvořit instanci třídy `Thread`. Tato třída má několik parametrů, ale nejdůležitější je parametr `target`, který určuje funkci, která se má vykonávat v novém vlákně.\n",
    "\n",
    "Další parametry konstruktoru jsou:\n",
    "- `args`/`kwargs` - tuple/slovník argumentů, které se mají předat funkci\n",
    "- `name` - jméno vlákna\n",
    "\n",
    "Vlákna mají několik metod, které jsou pro nás důležité:\n",
    "- `start()` - spustí vlákno\n",
    "- `join()` - čeká na ukončení vlákna\n",
    "- `is_alive()` - vrací `True` pokud je vlákno aktivní\n"
   ]
  },
  {
   "cell_type": "code",
   "execution_count": null,
   "metadata": {},
   "outputs": [],
   "source": [
    "import threading\n",
    "\n",
    "def some_function():\n",
    "    # kód, který se má provést ve vlákně\n",
    "    print(\"Hello from thread!\")\n",
    "\n",
    "thread = threading.Thread(target=some_function)\n",
    "thread.start()  # spustí vlákno\n",
    "thread.join()  # čeká na dokončení vlákna\n"
   ]
  },
  {
   "attachments": {},
   "cell_type": "markdown",
   "metadata": {},
   "source": [
    "Vyzkoušíme si předat vláknu argumenty:"
   ]
  },
  {
   "cell_type": "code",
   "execution_count": null,
   "metadata": {},
   "outputs": [],
   "source": [
    "import threading\n",
    "import time\n",
    "\n",
    "def vypocet(results, id):\n",
    "    a = 0\n",
    "    for i in range(100000000):\n",
    "        a += i\n",
    "    results[id] = a\n",
    "\n",
    "zacatek = time.time()\n",
    "\n",
    "results = [0]\n",
    "\n",
    "vlakno1 = threading.Thread(target=vypocet, args=(results, 0))\n",
    "\n",
    "vlakno1.start()\n",
    "\n",
    "vlakno1.join()\n",
    "\n",
    "konec = time.time()\n",
    "print(\"Doba trvání: \", konec - zacatek)\n"
   ]
  },
  {
   "cell_type": "code",
   "execution_count": null,
   "metadata": {},
   "outputs": [],
   "source": [
    "import threading\n",
    "import time\n",
    "\n",
    "def vypocet(results, id):\n",
    "    a = 0\n",
    "    for i in range(100000000):\n",
    "        a += i\n",
    "    results[id] = a\n",
    "\n",
    "zacatek = time.time()\n",
    "\n",
    "results = [0, 0]\n",
    "\n",
    "vlakno1 = threading.Thread(target=vypocet, args=(results, 0))\n",
    "vlakno2 = threading.Thread(target=vypocet, kwargs={\"results\": results, \"id\": 1})\n",
    "\n",
    "vlakno1.start()\n",
    "vlakno2.start()\n",
    "\n",
    "vlakno1.join()\n",
    "vlakno2.join()\n",
    "\n",
    "konec = time.time()\n",
    "print(\"Doba trvání: \", konec - zacatek)\n"
   ]
  },
  {
   "attachments": {},
   "cell_type": "markdown",
   "metadata": {},
   "source": [
    "Ukázali jsme si, že vlákna nejsou schopny spouštět python kód zároveň a tedy předchozí ukázka s dvěmi vlákny trvá 2x déle."
   ]
  },
  {
   "attachments": {},
   "cell_type": "markdown",
   "metadata": {},
   "source": [
    "#### Vlákna, GIL, a spouštění kódu mimo python\n",
    "Ukážeme si podobnou ukázku jako minule, ale nyní spustíme ve vláknech funkci zkompilovanou pomocí Numby, nastavenou tak ať releasne (propustí) GIL."
   ]
  },
  {
   "cell_type": "code",
   "execution_count": null,
   "metadata": {},
   "outputs": [],
   "source": [
    "from numba import jit\n",
    "\n",
    "@jit(nogil=True)\n",
    "def core(): # nějaká funkce, dělající netriviální výpočty, ať je co měřit\n",
    "    a = 0\n",
    "    n = int(1e5)\n",
    "    for i in range(n):\n",
    "        for j in range(n):\n",
    "            a += 2*i*j\n",
    "            a -= i*i\n",
    "            a -= j*j\n",
    "    return a"
   ]
  },
  {
   "cell_type": "code",
   "execution_count": null,
   "metadata": {},
   "outputs": [],
   "source": [
    "%time res = core()"
   ]
  },
  {
   "cell_type": "code",
   "execution_count": null,
   "metadata": {},
   "outputs": [],
   "source": [
    "res"
   ]
  },
  {
   "cell_type": "code",
   "execution_count": null,
   "metadata": {},
   "outputs": [],
   "source": [
    "def vypocet(results, idx):\n",
    "    a = core()\n",
    "    results[idx] = a\n",
    "\n",
    "zacatek = time.time()\n",
    "\n",
    "results = [0, 0]\n",
    "vlakno1 = threading.Thread(target=vypocet, args=(results, 0))\n",
    "vlakno2 = threading.Thread(target=vypocet, args=(results, 1))\n",
    "\n",
    "vlakno1.start()\n",
    "vlakno2.start()\n",
    "\n",
    "vlakno1.join()\n",
    "vlakno2.join()\n",
    "\n",
    "konec = time.time()\n",
    "print(\"Doba trvání: \", konec - zacatek)\n",
    "results\n",
    "\n"
   ]
  },
  {
   "attachments": {},
   "cell_type": "markdown",
   "metadata": {},
   "source": [
    "## Vlákna a sdílení dat"
   ]
  },
  {
   "cell_type": "code",
   "execution_count": null,
   "metadata": {},
   "outputs": [],
   "source": [
    "import threading\n",
    "import time\n",
    "import random\n",
    "\n",
    "data = []  # sdílená datová struktura\n",
    "\n",
    "def append_to_data(item):\n",
    "    time.sleep(random.randint(0, 10)/1000)\n",
    "    data.append(item)\n",
    "\n",
    "items = [i for i in range(20)]\n",
    "\n",
    "threads = []\n",
    "for item in items:\n",
    "    thread = threading.Thread(target=append_to_data, args=(item,))\n",
    "    thread.start()\n",
    "    threads.append(thread)\n",
    "\n",
    "for thread in threads:\n",
    "    thread.join()\n",
    "\n",
    "print(f\"Sdílená data: {data}\")\n"
   ]
  },
  {
   "attachments": {},
   "cell_type": "markdown",
   "metadata": {},
   "source": [
    "## Prioritní exekuce vlákna\n",
    "Vlákno si může vyžádat GIL na nějakou dobu pro sebe (`lock`). Pak má zajištěno, že blok kódu, který je v `lock`u, bude vykonán bez přerušení jiným vláknem. Toto je užitečné například při sdílení dat mezi vlákny."
   ]
  },
  {
   "cell_type": "code",
   "execution_count": null,
   "metadata": {},
   "outputs": [],
   "source": [
    "import threading\n",
    "\n",
    "lock = threading.Lock()  # vytvoření zámku\n",
    "shared_resource = 0\n",
    "\n",
    "def increment_shared_resource():\n",
    "    global shared_resource\n",
    "    with lock:  # získání zámku\n",
    "        shared_resource += 1\n",
    "\n",
    "threads = []\n",
    "for _ in range(10):\n",
    "    thread = threading.Thread(target=increment_shared_resource)\n",
    "    thread.start()\n",
    "    threads.append(thread)\n",
    "\n",
    "for thread in threads:\n",
    "    thread.join()\n",
    "\n",
    "print(f\"Hodnota sdíleného zdroje: {shared_resource}\")\n"
   ]
  },
  {
   "cell_type": "code",
   "execution_count": null,
   "metadata": {},
   "outputs": [],
   "source": [
    "import threading\n",
    "import time\n",
    "\n",
    "def vypis(thread_id):\n",
    "    for i in range(5):\n",
    "        time.sleep(0.001)\n",
    "        print(f\"Vlákno {thread_id} vypisuje {i}\")\n",
    "\n",
    "threads = []\n",
    "for idx in range(5):\n",
    "    thread = threading.Thread(target=vypis, args=(idx,))\n",
    "    thread.start()\n",
    "    threads.append(thread)\n",
    "\n",
    "for thread in threads:\n",
    "    thread.join()"
   ]
  },
  {
   "cell_type": "code",
   "execution_count": null,
   "metadata": {},
   "outputs": [],
   "source": [
    "import threading\n",
    "import time\n",
    "lock = threading.Lock()  # vytvoření zámku\n",
    "\n",
    "def vypis(thread_id):\n",
    "    with lock:  # získání zámku\n",
    "        for i in range(5):\n",
    "            time.sleep(0.001)\n",
    "            print(f\"Vlákno {thread_id} vypisuje {i}\")\n",
    "\n",
    "threads = []\n",
    "for idx in range(5):\n",
    "    thread = threading.Thread(target=vypis, args=(idx,))\n",
    "    thread.start()\n",
    "    threads.append(thread)\n",
    "\n",
    "for thread in threads:\n",
    "    thread.join()"
   ]
  },
  {
   "attachments": {},
   "cell_type": "markdown",
   "metadata": {},
   "source": [
    "## Synchronizace mezi vlákny = Barrier\n",
    "K synchronizaci mezi vlákny je k dispozici třída `Barrier`. `Barrier` je synchronizační mechanismus, který umožňuje skupině vláken čekat na sebe navzájem, dokud všechna vlákna nedosáhnou určitého bodu (bariéry). Jakmile dosáhnou všechna vlákna bariéry, mohou pokračovat ve své práci.\n",
    "\n",
    "Použití Barrier je jednoduché. Nejprve vytvořte instanci `Barrier` s počtem vláken, která mají čekat na bariéře. Poté se tato instance pošle do vlákna (funkce kterou vykonává) jako parametr. Bariéra se vyvolá použitím metody `wait()`."
   ]
  },
  {
   "cell_type": "code",
   "execution_count": null,
   "metadata": {},
   "outputs": [],
   "source": [
    "import threading\n",
    "import time\n",
    "\n",
    "def worker(barrier, worker_id):\n",
    "    print(f\"Vlákno {worker_id} začíná.\")\n",
    "    time.sleep(worker_id)  # simulace různých dob vykonávání vláken\n",
    "    print(f\"Vlákno {worker_id} dosáhlo bariéry č. 1.\")\n",
    "    barrier.wait()\n",
    "    print(f\"Vlákno {worker_id} opouští bariéru č. 1.\")\n",
    "\n",
    "    time.sleep(worker_id)  # simulace různých dob vykonávání vláken\n",
    "    print(f\"Vlákno {worker_id} dosáhlo bariéry č. 2.\")\n",
    "    barrier.wait()\n",
    "    print(f\"Vlákno {worker_id} opouští bariéru č. 2.\")\n",
    "\n",
    "number_of_threads = 5\n",
    "barrier = threading.Barrier(number_of_threads)\n",
    "\n",
    "threads = []\n",
    "for i in range(number_of_threads):\n",
    "    thread = threading.Thread(target=worker, args=(barrier, i))\n",
    "    threads.append(thread)\n",
    "    thread.start()\n",
    "\n",
    "for thread in threads:\n",
    "    thread.join()\n"
   ]
  },
  {
   "cell_type": "code",
   "execution_count": null,
   "metadata": {},
   "outputs": [],
   "source": []
  }
 ],
 "metadata": {
  "kernelspec": {
   "display_name": "Python 3",
   "language": "python",
   "name": "python3"
  },
  "language_info": {
   "codemirror_mode": {
    "name": "ipython",
    "version": 3
   },
   "file_extension": ".py",
   "mimetype": "text/x-python",
   "name": "python",
   "nbconvert_exporter": "python",
   "pygments_lexer": "ipython3",
   "version": "3.10.10"
  },
  "orig_nbformat": 4
 },
 "nbformat": 4,
 "nbformat_minor": 2
}
