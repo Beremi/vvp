{
 "cells": [
  {
   "attachments": {},
   "cell_type": "markdown",
   "metadata": {},
   "source": [
    "# Paralelní počítání v Cythonu (OpenMP)\n",
    "Minule jsme načnuly Cython a říkali si, že umožňuje vyžívat více vláken na procesorech s více jádry pro paralelní výpočty. Dnes se na to podíváme podrobněji.\n",
    "\n",
    "Konkrétně se podíváme na dva způsoby paralelizace:\n",
    "- určení separátní práce pro každé vlákno\n",
    "    - pomocí `with nogil, parallel():`\n",
    "- paralelizace for cyklu\n",
    "    - pomocí `prange()`\n"
   ]
  },
  {
   "attachments": {},
   "cell_type": "markdown",
   "metadata": {},
   "source": [
    "## Paralelizace pomocí `with nogil, parallel():`\n",
    "Jedná so o Cython implementaci C OpenMP direktivy `#pragma omp parallel`. Vlákna jsou vytvořena až v okamžiku, kdy se dostaneme do bloku `with nogil, parallel():`. Vlákna jsou zničena na konci bloku. Uvnitř bloku pracuje každé vlákno separátně, a lze použít OpenMP knihovny pro identifikaci vláken: `omp_get_thread_num()` a `omp_get_num_threads()`.\n",
    "\n",
    "Proměnné jsou automaticky sdílené, pokud do nějaké proměnné uložíme nový objekt (přepíšeme ji) uvnitř paralelního bloku (tedy každé vlákno bude mít svou verzi dat pro dannou proměnnou) stane se z proměnné privátní proměnná (a její obsah nebude mít po skončení paralelního bloku smysl)."
   ]
  },
  {
   "attachments": {},
   "cell_type": "markdown",
   "metadata": {},
   "source": [
    "## Paralelizace pomocí `prange()`\n",
    "Vnitřní funkcionalita je v jádru identická jako předchozí varianta (např. co se týče privátních proměnných).\n",
    "\n",
    "Co se v každém threadu děje se řídí \"automaticky\", dle původního for cyklu.\n",
    "\n",
    "Syntaxe `prange()` je v základu identická jako u `range()`, ale je nutné ji importovat z knihovny `cython.parallel`. Má však další argumenty, např.:\n",
    "- `schedule`: statické nebo dynamické rozdělení práce mezi vlákna\n",
    "- `num_threads`: počet vláken\n",
    "- `chunksize`: velikost chunku (počet iterací), který se přidělí jednomu vláknu\n",
    "- ` nogil`: zda se má použít GIL (Global Interpreter Lock) nebo ne\n",
    "- ...\n",
    "\n",
    "Cython umožňuje použití redukce do proměnné (alternativa OpenMP `reduction` direktivy). Toto se v Cythonu definuje pomocí `+=` direktivy (případně ostatních operátorů `-=`, `*=`, ...). Je třeba tyto operátory nepoužívat v paralelní části Cythonu, pokud skutečně nechceme provést redukci."
   ]
  },
  {
   "cell_type": "code",
   "execution_count": null,
   "metadata": {},
   "outputs": [],
   "source": [
    "# pro jednoduchost použijeme přímo magic commandy\n",
    "%load_ext cython"
   ]
  },
  {
   "attachments": {},
   "cell_type": "markdown",
   "metadata": {},
   "source": [
    "## Počítání normy vektoru"
   ]
  },
  {
   "attachments": {},
   "cell_type": "markdown",
   "metadata": {},
   "source": [
    "#### Původní kód z minula"
   ]
  },
  {
   "cell_type": "code",
   "execution_count": null,
   "metadata": {},
   "outputs": [],
   "source": [
    "%%cython --compile-args=-O3\n",
    "import numpy as np\n",
    "cimport numpy as np\n",
    "from libc.math cimport sqrt\n",
    "import cython # je zde kvůli dekorátorům\n",
    "\n",
    "@cython.boundscheck(False)\n",
    "@cython.wraparound(False)\n",
    "cpdef double my_norm_serial(np.ndarray[np.float64_t, ndim=1] a):\n",
    "    cdef int i\n",
    "    cdef int n = a.shape[0]\n",
    "    cdef double result = 0.0\n",
    "    for i in range(n):\n",
    "        result += a[i] * a[i]\n",
    "    return sqrt(result)"
   ]
  },
  {
   "cell_type": "code",
   "execution_count": null,
   "metadata": {},
   "outputs": [],
   "source": [
    "import numpy as np\n",
    "x = np.random.rand(int(1e7*8))\n",
    "y1 = my_norm_serial(x)\n",
    "y2 = np.linalg.norm(x)\n",
    "print(y1,y2)"
   ]
  },
  {
   "cell_type": "code",
   "execution_count": null,
   "metadata": {},
   "outputs": [],
   "source": [
    "%timeit _ = np.linalg.norm(x)"
   ]
  },
  {
   "cell_type": "code",
   "execution_count": null,
   "metadata": {},
   "outputs": [],
   "source": [
    "%timeit _ = my_norm_serial(x)"
   ]
  },
  {
   "attachments": {},
   "cell_type": "markdown",
   "metadata": {},
   "source": [
    "#### Cython s paralelizací pomocí `with nogil, parallel():`"
   ]
  },
  {
   "cell_type": "code",
   "execution_count": null,
   "metadata": {},
   "outputs": [],
   "source": [
    "%%cython --compile-args=-fopenmp --compile-args=-O3 --link-args=-fopenmp\n",
    "\n",
    "import numpy as np\n",
    "cimport numpy as np\n",
    "from libc.math cimport sqrt\n",
    "import cython\n",
    "\n",
    "from cython.parallel import parallel # paralelní část kódu\n",
    "from openmp cimport omp_get_thread_num # zjištění čísla threadu z OpenMP\n",
    "\n",
    "ctypedef np.float64_t DTYPE_t\n",
    "\n",
    "@cython.boundscheck(False)\n",
    "@cython.wraparound(False)\n",
    "cpdef double my_norm_parallel_1(np.ndarray[np.float64_t, ndim=1] a, int num_threads):\n",
    "    cdef int i\n",
    "    cdef int n = a.shape[0]\n",
    "    cdef double result = 0.0\n",
    "\n",
    "    cdef int chunk_size = n // num_threads # jakou část pole řeší každý thread\n",
    "    cdef int thread_num # číslo threadu\n",
    "    # pole pro výsledky z jednotlivých threadů\n",
    "    cdef np.ndarray[np.float64_t, ndim=1] partial_results = np.zeros((num_threads), dtype=np.float64) \n",
    "\n",
    "    with nogil, parallel(num_threads=num_threads): # paralelní část kódu, v tomto bloku je každý thread samostatný\n",
    "        thread_num = omp_get_thread_num() # zjistíme číslo threadu\n",
    "        result = 0 # výsledek pro daný thread, tímto se z results stane privátní proměnná\n",
    "        # cyklus přes část pole, kterou řeší daný thread\n",
    "        for i in range(thread_num * chunk_size, (thread_num + 1) * chunk_size):\n",
    "            result = result + a[i] * a[i] # pozor na a += b vs a = a + b\n",
    "        partial_results[thread_num] = result\n",
    "\n",
    "    # sečteme výsledky z jednotlivých threadů\n",
    "    result = 0\n",
    "    for i in range(num_threads):\n",
    "        result += partial_results[i]\n",
    "\n",
    "    return sqrt(result)"
   ]
  },
  {
   "cell_type": "code",
   "execution_count": null,
   "metadata": {},
   "outputs": [],
   "source": [
    "x = np.random.rand(int(1e7*8))\n",
    "y1 = my_norm_parallel_1(x, 4)\n",
    "y2 = np.linalg.norm(x)\n",
    "print(y1, y2)"
   ]
  },
  {
   "cell_type": "code",
   "execution_count": null,
   "metadata": {},
   "outputs": [],
   "source": [
    "%timeit _ = my_norm_parallel_1(x,16)"
   ]
  },
  {
   "cell_type": "code",
   "execution_count": null,
   "metadata": {},
   "outputs": [],
   "source": [
    "%timeit _ = np.linalg.norm(x)"
   ]
  },
  {
   "attachments": {},
   "cell_type": "markdown",
   "metadata": {},
   "source": [
    "#### Cython s paralelizací pomocí `prange()`"
   ]
  },
  {
   "cell_type": "code",
   "execution_count": null,
   "metadata": {},
   "outputs": [],
   "source": [
    "%%cython --compile-args=-fopenmp --compile-args=-O3 --link-args=-fopenmp\n",
    "\n",
    "import numpy as np\n",
    "cimport numpy as np\n",
    "from libc.math cimport sqrt\n",
    "import cython\n",
    "from cython.parallel import prange # stačí nám paralelní alternativa k range\n",
    "\n",
    "@cython.boundscheck(False)\n",
    "@cython.wraparound(False)\n",
    "cpdef double my_norm_parallel_2(np.ndarray[np.float64_t, ndim=1] a, int num_threads):\n",
    "    cdef int i\n",
    "    cdef int n = a.shape[0]\n",
    "    cdef double result = 0.0\n",
    "    for i in prange(n, nogil=True, num_threads=num_threads): # paralelní cyklus\n",
    "        result += a[i] * a[i] # += definuje redukci!!! \n",
    "    return sqrt(result)"
   ]
  },
  {
   "cell_type": "code",
   "execution_count": null,
   "metadata": {},
   "outputs": [],
   "source": [
    "x = np.random.rand(int(1e7*8))\n",
    "y1 = my_norm_parallel_2(x, 4)\n",
    "y2 = np.linalg.norm(x)\n",
    "print(y1, y2)"
   ]
  },
  {
   "cell_type": "code",
   "execution_count": null,
   "metadata": {},
   "outputs": [],
   "source": [
    "%timeit _ = my_norm_parallel_2(x, 16)"
   ]
  },
  {
   "cell_type": "code",
   "execution_count": null,
   "metadata": {},
   "outputs": [],
   "source": [
    "%timeit _ = np.linalg.norm(x)"
   ]
  },
  {
   "attachments": {},
   "cell_type": "markdown",
   "metadata": {},
   "source": [
    "### Srovnání rychlosti"
   ]
  },
  {
   "cell_type": "code",
   "execution_count": null,
   "metadata": {},
   "outputs": [],
   "source": [
    "import time\n",
    "import matplotlib.pyplot as plt\n",
    "\n",
    "\n",
    "# pro lepší měření času, budeme měřit čas pro více opakování a vybrat minimum\n",
    "def measure_multi(n,func, data):\n",
    "    tmp_time = []\n",
    "    for i in range(n):\n",
    "        start = time.time()\n",
    "        _ = func(data)\n",
    "        tmp_time.append(time.time() - start)\n",
    "    return min(tmp_time)\n",
    "\n",
    "n_loops = 10\n",
    "\n",
    "x = np.random.rand(int(1e7*8))\n",
    "\n",
    "pocet_vlaken =[2**i for i in range(11)]\n",
    "\n",
    "time_numpy = measure_multi(n_loops, lambda data : np.linalg.norm(data), x)\n",
    "\n",
    "time_paralell_1 = []\n",
    "time_paralell_2 = []\n",
    "\n",
    "\n",
    "for n in pocet_vlaken:\n",
    "\n",
    "    time_paralell_1.append(measure_multi(n_loops, lambda data : my_norm_parallel_1(data, n), x))\n",
    "    time_paralell_2.append(measure_multi(n_loops, lambda data : my_norm_parallel_2(data, n), x))\n",
    "\n",
    "    print(f\"n_threads: {n}, time: {time_paralell_1[-1]}, time: {time_paralell_2[-1]}\")\n",
    "\n",
    "# log-log grafy\n",
    "plt.loglog(pocet_vlaken, [time_numpy for _ in pocet_vlaken], label=\"numpy\")\n",
    "plt.loglog(pocet_vlaken, time_paralell_1, label=\"parallel 1\")\n",
    "plt.loglog(pocet_vlaken, time_paralell_2, label=\"parallel 2\")\n",
    "\n",
    "plt.legend()"
   ]
  },
  {
   "attachments": {},
   "cell_type": "markdown",
   "metadata": {},
   "source": [
    "# Jak paralelizmus v Cythonu zrchlí počítání vzdálenosti mezi body z minula?"
   ]
  },
  {
   "attachments": {},
   "cell_type": "markdown",
   "metadata": {},
   "source": [
    "#### Verze z minula"
   ]
  },
  {
   "cell_type": "code",
   "execution_count": null,
   "metadata": {},
   "outputs": [],
   "source": [
    "%%cython --compile-args=-O3\n",
    "\n",
    "import numpy as np\n",
    "cimport numpy as np\n",
    "from libc.math cimport sqrt\n",
    "cimport cython\n",
    "\n",
    "ctypedef np.float64_t DTYPE_t\n",
    "\n",
    "@cython.boundscheck(False)\n",
    "@cython.wraparound(False)\n",
    "cpdef dist_cython_serial_1(np.ndarray[DTYPE_t, ndim=2] points):\n",
    "    cdef int n = points.shape[0]\n",
    "    cdef np.ndarray[DTYPE_t, ndim=2] distances_all = np.zeros((n, n), dtype=np.float64)\n",
    "    cdef int i, j, k\n",
    "    cdef double tmp_sum, rozdil, tmp_dist\n",
    "\n",
    "    for i in range(n):\n",
    "        for j in range(i+1, n):\n",
    "            tmp_sum = 0\n",
    "            for k in range(3):\n",
    "                rozdil = points[i, k] - points[j, k]\n",
    "                tmp_sum += rozdil * rozdil\n",
    "            tmp_dist = sqrt(tmp_sum)\n",
    "            distances_all[i, j] = tmp_dist\n",
    "            distances_all[j, i] = tmp_dist\n",
    "\n",
    "    \n",
    "    return distances_all\n"
   ]
  },
  {
   "attachments": {},
   "cell_type": "markdown",
   "metadata": {},
   "source": [
    "Verze s redundatním výpočtem vzdálenosti mezi body, bude se lépe paralelizovat."
   ]
  },
  {
   "cell_type": "code",
   "execution_count": null,
   "metadata": {},
   "outputs": [],
   "source": [
    "%%cython --compile-args=-O3\n",
    "\n",
    "import numpy as np\n",
    "cimport numpy as np\n",
    "from libc.math cimport sqrt\n",
    "cimport cython\n",
    "\n",
    "ctypedef np.float64_t DTYPE_t\n",
    "\n",
    "@cython.boundscheck(False)\n",
    "@cython.wraparound(False)\n",
    "cpdef dist_cython_serial_2(np.ndarray[DTYPE_t, ndim=2] points):\n",
    "    cdef int n = points.shape[0]\n",
    "    cdef np.ndarray[DTYPE_t, ndim=2] distances_all = np.zeros((n, n), dtype=np.float64)\n",
    "    cdef int i, j, k\n",
    "    cdef double tmp_sum, rozdil, tmp_dist\n",
    "\n",
    "    for i in range(n):\n",
    "        for j in range(n):\n",
    "            tmp_sum = 0\n",
    "            for k in range(3):\n",
    "                rozdil = points[i, k] - points[j, k]\n",
    "                tmp_sum += rozdil * rozdil\n",
    "            tmp_dist = sqrt(tmp_sum)\n",
    "            distances_all[i, j] = tmp_dist\n",
    "\n",
    "    \n",
    "    return distances_all\n"
   ]
  },
  {
   "attachments": {},
   "cell_type": "markdown",
   "metadata": {},
   "source": [
    "#### Cython s paralelizací pomocí `prange()`"
   ]
  },
  {
   "cell_type": "code",
   "execution_count": null,
   "metadata": {},
   "outputs": [],
   "source": [
    "%%cython --compile-args=-fopenmp --compile-args=-O3 --link-args=-fopenmp\n",
    "\n",
    "import numpy as np\n",
    "cimport numpy as np\n",
    "from libc.math cimport sqrt\n",
    "cimport cython\n",
    "from cython.parallel import parallel, prange # toto je zde nové\n",
    "\n",
    "ctypedef np.float64_t DTYPE_t\n",
    "\n",
    "@cython.cdivision(True)\n",
    "@cython.boundscheck(False)\n",
    "@cython.wraparound(False)\n",
    "cpdef dist_cython_paralell(np.ndarray[DTYPE_t, ndim=2] points, int n_threads):\n",
    "    cdef int n = points.shape[0]\n",
    "    cdef np.ndarray[DTYPE_t, ndim=2] distances_all = np.zeros((n, n), dtype=np.float64)\n",
    "    cdef int i, j, k\n",
    "    cdef double tmp_sum, rozdil, tmp_dist\n",
    "\n",
    "\n",
    "    for i in prange(n, nogil=True, num_threads=n_threads): # toto je zde nové\n",
    "        for j in range(n):\n",
    "            tmp_sum = 0  # Reset tmp_sum for each new pair of points\n",
    "            for k in range(3):\n",
    "                rozdil = points[i, k] - points[j, k]\n",
    "                tmp_sum = tmp_sum + rozdil * rozdil # toto je zde nové\n",
    "            tmp_dist = sqrt(tmp_sum)\n",
    "            distances_all[i, j] = tmp_dist\n",
    "\n",
    "    return distances_all\n",
    "\n",
    "\n"
   ]
  },
  {
   "cell_type": "code",
   "execution_count": null,
   "metadata": {},
   "outputs": [],
   "source": [
    "import numpy as np\n",
    "\n",
    "# vyzkoušíme si, jak to funguje\n",
    "points_np = np.random.rand(2**13, 3)"
   ]
  },
  {
   "cell_type": "code",
   "execution_count": null,
   "metadata": {},
   "outputs": [],
   "source": [
    "%timeit _ = dist_cython_serial_1(points_np)\n"
   ]
  },
  {
   "cell_type": "code",
   "execution_count": null,
   "metadata": {},
   "outputs": [],
   "source": [
    "%timeit _ = dist_cython_serial_2(points_np)"
   ]
  },
  {
   "cell_type": "code",
   "execution_count": null,
   "metadata": {},
   "outputs": [],
   "source": [
    "%timeit _ = dist_cython_paralell(points_np,32)"
   ]
  },
  {
   "cell_type": "code",
   "execution_count": null,
   "metadata": {},
   "outputs": [],
   "source": [
    "import time\n",
    "import matplotlib.pyplot as plt\n",
    "\n",
    "pocet_vlaken =[2**i for i in range(10, 14)]\n",
    "time_cython_serial_1 = []\n",
    "time_cython_serial_2 = []\n",
    "\n",
    "all_num_threads = [2, 4, 8, 16, 32, 64, 128]\n",
    "time_cython_parallel = [[] for _ in all_num_threads]\n",
    "\n",
    "\n",
    "\n",
    "n_loops = 10\n",
    "\n",
    "def measure_multi(n,func):\n",
    "    tmp_time = []\n",
    "    for i in range(n):\n",
    "        start = time.time()\n",
    "        _ = func(points_np)\n",
    "        tmp_time.append(time.time() - start)\n",
    "    return min(tmp_time)\n",
    "\n",
    "for n in pocet_vlaken:\n",
    "    points_np = np.random.rand(n, 3)\n",
    "    \n",
    "    time_cython_serial_1.append(measure_multi(n_loops, dist_cython_serial_1))\n",
    "    time_cython_serial_2.append(measure_multi(n_loops, dist_cython_serial_2))\n",
    "\n",
    "    for idx, n_threads in enumerate(all_num_threads):\n",
    "        time_cython_parallel[idx].append(measure_multi(n_loops, lambda points_np : dist_cython_paralell(points_np, n_threads)))\n",
    "\n",
    "\n",
    "    min_time = min([time_cython_parallel[idx][-1] for idx, _ in enumerate(all_num_threads)])\n",
    "    ratio = time_cython_serial_2[-1]/min_time\n",
    "    print(f\"velikost {n}, čas sekvenční {time_cython_serial_2[-1]}, nejlepší paralelní {min_time}, poměr {ratio}\")\n",
    "\n",
    "# log-log grafy\n",
    "plt.loglog(pocet_vlaken, time_cython_serial_1, label='serial 1')\n",
    "plt.loglog(pocet_vlaken, time_cython_serial_2, label='serial 2')\n",
    "for idx, n_threads in enumerate(all_num_threads):\n",
    "    plt.loglog(pocet_vlaken, time_cython_parallel[idx], label='paralell' + str(n_threads))\n",
    "\n",
    "plt.legend()"
   ]
  },
  {
   "attachments": {},
   "cell_type": "markdown",
   "metadata": {},
   "source": [
    "## Proč je verze serial_1 tak pomalá?\n",
    "\n",
    "Důvodem je ukládání do pole, které pří indexech `[i, j] a [j, i]` zaručeně v jednom případě přistupuje do paměti v pořadí, které není sekvenční. To způsobuje, že se využívá cache paměti méně efektivně.\n",
    "\n",
    "Vyhodíme z výpočtu zápis na index `[j, i]`, tedy výstup bude horní trojúhelníková matice."
   ]
  },
  {
   "cell_type": "code",
   "execution_count": null,
   "metadata": {},
   "outputs": [],
   "source": [
    "%%cython --compile-args=-O3\n",
    "\n",
    "import numpy as np\n",
    "cimport numpy as np\n",
    "from libc.math cimport sqrt\n",
    "cimport cython\n",
    "\n",
    "ctypedef np.float64_t DTYPE_t\n",
    "\n",
    "@cython.boundscheck(False)\n",
    "@cython.wraparound(False)\n",
    "cpdef dist_cython_serial_1(np.ndarray[DTYPE_t, ndim=2] points):\n",
    "    cdef int n = points.shape[0]\n",
    "    cdef np.ndarray[DTYPE_t, ndim=2] distances_all = np.zeros((n, n), dtype=np.float64)\n",
    "    cdef int i, j, k\n",
    "    cdef double tmp_sum, rozdil, tmp_dist\n",
    "\n",
    "    for i in range(n):\n",
    "        for j in range(i+1, n):\n",
    "            tmp_sum = 0\n",
    "            for k in range(3):\n",
    "                rozdil = points[i, k] - points[j, k]\n",
    "                tmp_sum += rozdil * rozdil\n",
    "            tmp_dist = sqrt(tmp_sum)\n",
    "            distances_all[i, j] = tmp_dist\n",
    "\n",
    "    \n",
    "    return distances_all\n"
   ]
  },
  {
   "attachments": {},
   "cell_type": "markdown",
   "metadata": {},
   "source": [
    "Ozkoušíme benchmarking znova:"
   ]
  },
  {
   "cell_type": "code",
   "execution_count": null,
   "metadata": {},
   "outputs": [],
   "source": [
    "import time\n",
    "import matplotlib.pyplot as plt\n",
    "\n",
    "pocet_vlaken =[2**i for i in range(10, 14)]\n",
    "time_cython_serial_1 = []\n",
    "time_cython_serial_2 = []\n",
    "\n",
    "all_num_threads = [2, 4, 8, 16, 32, 64, 128]\n",
    "time_cython_parallel = [[] for _ in all_num_threads]\n",
    "\n",
    "\n",
    "\n",
    "n_loops = 10\n",
    "\n",
    "def measure_multi(n,func):\n",
    "    tmp_time = []\n",
    "    for i in range(n):\n",
    "        start = time.time()\n",
    "        _ = func(points_np)\n",
    "        tmp_time.append(time.time() - start)\n",
    "    return min(tmp_time)\n",
    "\n",
    "for n in pocet_vlaken:\n",
    "    points_np = np.random.rand(n, 3)\n",
    "    \n",
    "    time_cython_serial_1.append(measure_multi(n_loops, dist_cython_serial_1))\n",
    "    time_cython_serial_2.append(measure_multi(n_loops, dist_cython_serial_2))\n",
    "\n",
    "    for idx, n_threads in enumerate(all_num_threads):\n",
    "        time_cython_parallel[idx].append(measure_multi(n_loops, lambda points_np : dist_cython_paralell(points_np, n_threads)))\n",
    "\n",
    "\n",
    "    min_time = min([time_cython_parallel[idx][-1] for idx, _ in enumerate(all_num_threads)])\n",
    "    ratio = time_cython_serial_2[-1]/min_time\n",
    "    print(f\"velikost {n}, čas sekvenční {time_cython_serial_2[-1]}, nejlepší paralelní {min_time}, poměr {ratio}\")\n",
    "\n",
    "# log-log grafy\n",
    "plt.loglog(pocet_vlaken, time_cython_serial_1, label='serial 1')\n",
    "plt.loglog(pocet_vlaken, time_cython_serial_2, label='serial 2')\n",
    "for idx, n_threads in enumerate(all_num_threads):\n",
    "    plt.loglog(pocet_vlaken, time_cython_parallel[idx], label='paralell' + str(n_threads))\n",
    "\n",
    "plt.legend()"
   ]
  },
  {
   "cell_type": "code",
   "execution_count": null,
   "metadata": {},
   "outputs": [],
   "source": []
  }
 ],
 "metadata": {
  "kernelspec": {
   "display_name": "Python 3",
   "language": "python",
   "name": "python3"
  },
  "language_info": {
   "codemirror_mode": {
    "name": "ipython",
    "version": 3
   },
   "file_extension": ".py",
   "mimetype": "text/x-python",
   "name": "python",
   "nbconvert_exporter": "python",
   "pygments_lexer": "ipython3",
   "version": "3.10.10"
  },
  "orig_nbformat": 4
 },
 "nbformat": 4,
 "nbformat_minor": 2
}
