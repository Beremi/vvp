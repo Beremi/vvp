{
 "cells": [
  {
   "attachments": {},
   "cell_type": "markdown",
   "metadata": {},
   "source": [
    "# Linkování C kódu a C knihoven s Pythonem\n",
    "\n",
    "V této části si ukážeme, jak lze v Pythonu používat C knihovny a kód. \n",
    "\n",
    "- Využijeme knihovnu `ctypes` případně `cffi` (pro načítání knihoven) \n",
    "- Nativní Pythonovské rozhraní pro C, případně `cython`"
   ]
  },
  {
   "attachments": {},
   "cell_type": "markdown",
   "metadata": {},
   "source": [
    "## Nejprve C kód\n",
    "Máme jednoduchý C kód, který provádí násobení matice a vektoru. \n",
    "\n",
    "Krátké opakování C:\n",
    "- `*` před proměnnou znamená, že se jedná o ukazatel\n",
    "- pole se v C zapisuje jako ukazatel na první prvek, sami o sobě neobsahují informaci o délce a tvaru\n",
    "- `void` znamená, že funkce nic nevrací\n"
   ]
  },
  {
   "cell_type": "code",
   "execution_count": null,
   "metadata": {},
   "outputs": [],
   "source": [
    "%%writefile matrix_vector_multiply.c\n",
    "\n",
    "void matrix_vector_multiply(float *matrix, float *vector, float *result, int rows, int cols) {\n",
    "    for (int i = 0; i < rows; i++) {\n",
    "        result[i] = 0;\n",
    "        for (int j = 0; j < cols; j++) {\n",
    "            result[i] += matrix[i * cols + j] * vector[j];\n",
    "        }\n",
    "    }\n",
    "}\n"
   ]
  },
  {
   "attachments": {},
   "cell_type": "markdown",
   "metadata": {},
   "source": [
    "#### Kompilejme C kód\n",
    "Pro uživatele linuxu je tento krok velmi jednoduchý, neboť všechny potřebné komponenty již máte v systému.\n",
    "\n",
    "Pokud se Vám pod Windows podaří zkompilovat C kód (ať už Microsoft Visual Studio C++ compiler (MSVC) nebo MinGW-w64) bude vašim výstupem `.dll` knihovna, tak pak pozor při načítání. V tomto případě bude potřeba použít `WinDLL` místo `CDLL`."
   ]
  },
  {
   "cell_type": "code",
   "execution_count": null,
   "metadata": {},
   "outputs": [],
   "source": [
    "!gcc -shared -fPIC -o libmatrix_vector_multiply.so matrix_vector_multiply.c"
   ]
  },
  {
   "attachments": {},
   "cell_type": "markdown",
   "metadata": {},
   "source": [
    "# Načtení C shared knihovny (`.so`) pomocí Ctypes (uvnitř NumPy)\n",
    "\n",
    "Moduly Ctypes a Numpy lze použít pro snadnou integraci mezi jazyky Python a C.\n",
    "\n",
    "- `Ctypes` je modul Pythonu, který poskytuje kompatibilní datové typy pro C a Python, a umožňuje volat funkce z dynamicky sdílených knihoven napsaných v jazyce C.\n",
    "- `Numpy` obsahuje integraci `Ctypes` - lze tedy použít čistě Ctypes, případně Ctypes podmodul v Numpy\n",
    "\n",
    "\n",
    "Pro nalinkování předchozí funkce `matrix_vector_multiply` z C knihovny `libmatrix_vector_multiply.so` je třeba:\n",
    "\n",
    "\n",
    "1. Načítání dynamicky sdílené knihovny: Kód načítá dynamicky sdílenou knihovnu (také známou jako \"shared library\" nebo \".so\" soubor), která obsahuje funkce a datové struktury napsané v jazyce C. Toto se provádí pomocí `ctypes.CDLL` nebo `np.ctypeslib.load_library`.\n",
    "2. Přistoupení k oběktu reprezentujícímu C funkci (používá se `.` syntaxe, jako u modulů)\n",
    "3. Mapování C datových typů na Python datové typy: Kód mapuje C datové typy na jejich odpovídající Python datové typy pomocí ctypes modulu.  Definuje se atribut `argtypes` pro každou C funkci, která se volá, a `restype` pro funkce, které vrací hodnotu.\n",
    "\n",
    "\n",
    "Více informací o Ctypes naleznete v [dokumentaci](https://docs.python.org/3/library/ctypes.html), nebo v NumPy [dokumentaci](https://numpy.org/doc/stable/reference/routines.ctypeslib.html)."
   ]
  },
  {
   "cell_type": "code",
   "execution_count": null,
   "metadata": {},
   "outputs": [],
   "source": [
    "import numpy as np\n",
    "\n",
    "# Load the shared library\n",
    "lib_matrix_vector_multiply = np.ctypeslib.load_library(libname='libmatrix_vector_multiply.so', loader_path='.')\n",
    "\n",
    "# Define the matrix_vector_multiply function from the shared library\n",
    "matrix_vector_multiply = lib_matrix_vector_multiply.matrix_vector_multiply\n",
    "matrix_vector_multiply.argtypes = [np.ctypeslib.ndpointer(dtype=np.float32),\n",
    "                                   np.ctypeslib.ndpointer(dtype=np.float32),\n",
    "                                   np.ctypeslib.ndpointer(dtype=np.float32),\n",
    "                                   np.ctypeslib.c_intp,\n",
    "                                   np.ctypeslib.c_intp]\n",
    "\n",
    "matrix = np.array([[1, 2, 3],\n",
    "                    [4, 5, 6]], dtype=np.float32)\n",
    "\n",
    "vector = np.array([1, 2, 3], dtype=np.float32)\n",
    "result = np.zeros((2), dtype=np.float32)\n",
    "\n",
    "matrix_vector_multiply(matrix, vector, result, matrix.shape[0], matrix.shape[1])\n",
    "\n",
    "print(\"Result vector:\")\n",
    "print(result)\n"
   ]
  },
  {
   "cell_type": "code",
   "execution_count": null,
   "metadata": {},
   "outputs": [],
   "source": [
    "matrix@vector"
   ]
  },
  {
   "attachments": {},
   "cell_type": "markdown",
   "metadata": {},
   "source": [
    "Totéž přímo pomocí Ctypes:"
   ]
  },
  {
   "cell_type": "code",
   "execution_count": null,
   "metadata": {},
   "outputs": [],
   "source": [
    "import ctypes\n",
    "import numpy as np\n",
    "\n",
    "# Načtěte sdílenou knihovnu\n",
    "lib_matrix_vector_multiply = ctypes.CDLL('./libmatrix_vector_multiply.so')\n",
    "\n",
    "# Definujte funkci matrix_vector_multiply ze sdílené knihovny\n",
    "matrix_vector_multiply = lib_matrix_vector_multiply.matrix_vector_multiply\n",
    "matrix_vector_multiply.argtypes = [ctypes.POINTER(ctypes.c_float),\n",
    "                                   ctypes.POINTER(ctypes.c_float),\n",
    "                                   ctypes.POINTER(ctypes.c_float),\n",
    "                                   ctypes.c_int,\n",
    "                                   ctypes.c_int]\n",
    "\n",
    "matrix = np.array([[1, 2, 3],\n",
    "                    [4, 5, 6]], dtype=np.float32)\n",
    "\n",
    "vector = np.array([1, 2, 3], dtype=np.float32)\n",
    "result = np.zeros((2), dtype=np.float32)\n",
    "\n",
    "# Konverze numpy polí na C pole\n",
    "matrix_ptr = matrix.ctypes.data_as(ctypes.POINTER(ctypes.c_float))\n",
    "vector_ptr = vector.ctypes.data_as(ctypes.POINTER(ctypes.c_float))\n",
    "result_ptr = result.ctypes.data_as(ctypes.POINTER(ctypes.c_float))\n",
    "\n",
    "matrix_vector_multiply(matrix_ptr, vector_ptr, result_ptr, matrix.shape[0], matrix.shape[1])\n",
    "\n",
    "print(\"Result vector:\")\n",
    "print(result)\n"
   ]
  },
  {
   "attachments": {},
   "cell_type": "markdown",
   "metadata": {},
   "source": [
    "### Takto to dělá CFFI\n",
    "\n",
    "Jednou z výhod CFFI je možnost automatického načtení typů z hlavičnového souboru."
   ]
  },
  {
   "cell_type": "code",
   "execution_count": null,
   "metadata": {},
   "outputs": [],
   "source": [
    "%%writefile matrix_vector_multiply.h\n",
    "\n",
    "void matrix_vector_multiply(float *matrix, float *vector, float *result, int rows, int cols);"
   ]
  },
  {
   "cell_type": "code",
   "execution_count": null,
   "metadata": {},
   "outputs": [],
   "source": [
    "#!pip install cffi"
   ]
  },
  {
   "cell_type": "code",
   "execution_count": null,
   "metadata": {},
   "outputs": [],
   "source": [
    "import numpy as np\n",
    "from cffi import FFI\n",
    "\n",
    "ffi = FFI()\n",
    "\n",
    "# Načtěte obsah hlavičkového souboru\n",
    "with open('matrix_vector_multiply.h', 'r') as f:\n",
    "    header = f.read()\n",
    "\n",
    "# Zadejte hlavičkový soubor s deklarací funkce\n",
    "ffi.cdef(header)\n",
    "\n",
    "# Načtěte sdílenou knihovnu\n",
    "lib_matrix_vector_multiply = ffi.dlopen('./libmatrix_vector_multiply.so')\n",
    "\n",
    "matrix = np.array([[1, 2, 3],\n",
    "                   [4, 5, 6]], dtype=np.float32)\n",
    "\n",
    "vector = np.array([1, 2, 3], dtype=np.float32)\n",
    "result = np.zeros((2), dtype=np.float32)\n",
    "\n",
    "# Konverze numpy polí na C pole\n",
    "matrix_ptr = ffi.cast(\"float *\", matrix.ctypes.data)\n",
    "vector_ptr = ffi.cast(\"float *\", vector.ctypes.data)\n",
    "result_ptr = ffi.cast(\"float *\", result.ctypes.data)\n",
    "\n",
    "lib_matrix_vector_multiply.matrix_vector_multiply(matrix_ptr, vector_ptr, result_ptr, matrix.shape[0], matrix.shape[1])\n",
    "\n",
    "print(\"Result vector:\")\n",
    "print(result)"
   ]
  },
  {
   "cell_type": "code",
   "execution_count": null,
   "metadata": {},
   "outputs": [],
   "source": [
    "matrix@vector"
   ]
  },
  {
   "attachments": {},
   "cell_type": "markdown",
   "metadata": {},
   "source": [
    "# Vytváření Python rozharaní pro C kód v Pythonu\n",
    "Python poskytuje hlavičkové soubory pro C, které umožňují přistupovat k Python objektům. \n",
    "Pomocí těchto hlavičkových souborů lze vytvářet C knihovnu, které se pro Python bude tvářit jako nativní Python knihovna.\n",
    "\n",
    "Ukážeme si malou ukázku, více v dokumentaci [zde](https://docs.python.org/3/c-api/)."
   ]
  },
  {
   "attachments": {},
   "cell_type": "markdown",
   "metadata": {},
   "source": [
    "### Parsování vstupu z Pythonu do C\n",
    "\n",
    "Funkce která bude volána z Pythonu bude v C vypadat nějak takto:\n",
    "\n",
    "```c\n",
    "static PyObject* moje_fce(PyObject *self, PyObject *args) \n",
    "```\n",
    "\n",
    "Tedy všechny vstupy z Pythonu budou předány jako `PyObject *args`. A očekává se návratová hodnota `PyObject*`.\n",
    "\n",
    "Proto prvním hlavním stavebním kamenem C API je parsování vstupu z Pythonu do C.\n",
    "\n",
    "Funkce `PyArg_ParseTuple` je součástí Python C API a slouží k parsování argumentů předaných z Pythonu do funkce v jazyce C. Umožňuje konverzi Python objektů předaných jako argumenty do vaší C funkce na hodnoty v jazyce C.\n",
    "\n",
    "Signatura funkce je následující:\n",
    "`int PyArg_ParseTuple(PyObject *args, const char *format, ...);`\n",
    "\n",
    "**Parametry**\n",
    "\n",
    "1.  `args`: Ukazatel na Python tuple objekt obsahující argumenty předané z Pythonu. (Tedy to co přišlo jako `*args`)\n",
    "2.  `format`: Formátovací řetězec, který specifikuje očekávané typy a počet argumentů v tuple. Každý znak ve formátovacím řetězci odpovídá očekávanému typu argumentu.\n",
    "    *   `s`: Řetězec (ukončený nulou)\n",
    "    *   `i`: Celé číslo\n",
    "    *   `f`: Číslo s plovoucí řádovou čárkou\n",
    "    *   `d`: Dvojitá přesnost (double)\n",
    "    *   `O`: Python objekt (obecný)\n",
    "    *   `|`: Udává, že následující argumenty jsou volitelné\n",
    "    *   `O!`: Python objekt specifického typu, následovaný ukazatelem na Python typový objekt\n",
    "3.  `...`: Proměnný počet ukazatelů na proměnné v jazyce C, které budou obsahovat převedené hodnoty argumentů. Tyto ukazatele by měly odpovídat počtu a pořadí specifikátorů formátu ve formátovacím řetězci.\n",
    "\n"
   ]
  },
  {
   "attachments": {},
   "cell_type": "markdown",
   "metadata": {},
   "source": [
    "### Vytváření obektů/struktur viditelných pro Python\n",
    "#### Metody\n",
    "`PyMethodDef` je struktura v Python C API, která definuje metody modulu, obsahuje následující záznamy:\n",
    "\n",
    "1. Název metody jako řetězec (např. \"my_c_function\").\n",
    "2. Ukazatel na C funkci, která implementuje metodu (např. `my_c_function`).\n",
    "3. Příznak způsobu předání argumentů (`METH_VARARGS` pro proměnný počet argumentů ve formě n-tice).\n",
    "4. Řetězec s dokumentací metody (\"Multiply all elements of a NumPy array by 2\").\n",
    "\n",
    "Seznam metod je pak pole těchto struktur, které uvádí metody, které budou v modulu dostupné. \n",
    "\n",
    "Poslední prvek pole musí obsahovat nuly a NULL ukazatele, které slouží jako ukončovací značka pro pole metod.\n",
    "\n",
    "\n",
    "```c\n",
    "static PyMethodDef MyCModuleMethods[] = {\n",
    "    {\"my_c_function\", my_c_function, METH_VARARGS, \"Multiply all elements of a NumPy array by 2\"},\n",
    "    {NULL, NULL, 0, NULL}\n",
    "};\n",
    "```\n",
    "\n",
    "Při vytváření C modulu pro Python je toto pole metod předáno do funkce `PyModule_Create`, která vytvoří modul s definovanými metodami.\n"
   ]
  },
  {
   "attachments": {},
   "cell_type": "markdown",
   "metadata": {},
   "source": [
    "#### Modul\n",
    "Informace o modulu definuje struktura `PyModuleDef` z Python C API. Skládá se z:\n",
    "\n",
    "1. `PyModuleDef_HEAD_INIT`: Makro pro inicializaci hlavičky struktury modulu.\n",
    "2. Název modulu jako řetězec (např. \"my_c_module\").\n",
    "3. Ukazatel na řetězec s dokumentací modulu (v tomto případě `NULL`, protože dokumentace není poskytnuta).\n",
    "4. Velikost prostoru modulu (`-1` značí, že modul nemá žádný stav a všechny jeho funkce jsou globální).\n",
    "5. Ukazatel na pole metod definovaných v modulu (viz stuktura `PyMethodDef`).\n",
    "\n",
    "\n",
    "```c\n",
    "static struct PyModuleDef my_c_module = {\n",
    "    PyModuleDef_HEAD_INIT,\n",
    "    \"my_c_module\",\n",
    "    NULL,\n",
    "    -1,\n",
    "    MyCModuleMethods\n",
    "};\n",
    "```\n",
    "\n",
    "Tato struktura modulu je poté předána do funkce `PyModule_Create`, která vytvoří modul s definovanými metodami a případným stavem."
   ]
  },
  {
   "attachments": {},
   "cell_type": "markdown",
   "metadata": {},
   "source": [
    "#### Inicializace modulu\n",
    "Pro nás poslední \"povinnou\" částí je inicializace modulu ať skutečně vše co jsme doposud definovali (zatím jenom struktury v C) je viditelné pro Python.\n",
    "\n",
    "Funkce `PyMODINIT_FUNC PyInit_my_c_module(void)` je inicializační funkce modulu, která se volá, když Python načítá váš C modul. Tato funkce má následující úkoly:\n",
    "\n",
    "1. Vytvořit modul pomocí funkce `PyModule_Create`, která přijímá ukazatel na strukturu `PyModuleDef` (v tomto případě `&my_c_module`).\n",
    "2. Zkontrolovat, zda se modul úspěšně vytvořil. Pokud `module` je `NULL`, vrátit `NULL` a ukončit inicializaci.\n",
    "3. Inicializovat externí závislosti, pokud existují. V tomto příkladu se volá funkce `import_array()` pro inicializaci NumPy C API.\n",
    "4. Vrátit vytvořený modul, který bude následně zaregistrován v Pythonu.\n",
    "\n",
    "```c\n",
    "PyMODINIT_FUNC PyInit_my_c_module(void) {\n",
    "    PyObject* module = PyModule_Create(&my_c_module);\n",
    "    if (module == NULL) {\n",
    "        return NULL;\n",
    "    }\n",
    "\n",
    "    // Initialize the NumPy C API\n",
    "    import_array();\n",
    "\n",
    "    return module;\n",
    "}\n",
    "```\n",
    "\n",
    "Tato inicializační funkce musí vracet `PyMODINIT_FUNC` a musí mít název `PyInit_` následovaný názvem modulu."
   ]
  },
  {
   "cell_type": "code",
   "execution_count": null,
   "metadata": {},
   "outputs": [],
   "source": [
    "%%writefile mvc_mylib.c\n",
    "\n",
    "#define NPY_NO_DEPRECATED_API NPY_1_7_API_VERSION\n",
    "\n",
    "#include <Python.h>\n",
    "#include <numpy/arrayobject.h>\n",
    "#include \"matrix_vector_multiply.c\"\n",
    "\n",
    "static PyObject* mvp_func_py(PyObject *self, PyObject *args) {\n",
    "    // Declare variables\n",
    "    PyArrayObject *matrix, *vector, *result;\n",
    "    int rows, cols;\n",
    "\n",
    "    if (!PyArg_ParseTuple(args, \"O!O!O!\", &PyArray_Type, &matrix, &PyArray_Type, &vector, &PyArray_Type, &result)) {\n",
    "        return NULL;\n",
    "    }\n",
    "\n",
    "    rows = (int)PyArray_DIM(matrix, 0);\n",
    "    cols = (int)PyArray_DIM(matrix, 1);\n",
    "\n",
    "    matrix_vector_multiply((float *)PyArray_DATA(matrix), (float *)PyArray_DATA(vector), (float *)PyArray_DATA(result), rows, cols);\n",
    "\n",
    "    Py_RETURN_NONE;\n",
    "};\n",
    "\n",
    "static PyMethodDef MatrixVectorMultiplyMethods[] = {\n",
    "    {\"mvp_func_py\", mvp_func_py, METH_VARARGS, \"Perform matrix-vector multiplication.\"},\n",
    "    {NULL, NULL, 0, NULL}\n",
    "};\n",
    "\n",
    "static struct PyModuleDef matrix_vector_multiply_module = {\n",
    "    PyModuleDef_HEAD_INIT,\n",
    "    \"mvc_mylib\",\n",
    "    NULL,\n",
    "    -1,\n",
    "    MatrixVectorMultiplyMethods\n",
    "};\n",
    "\n",
    "PyMODINIT_FUNC PyInit_mvc_mylib(void) {\n",
    "    PyObject* module = PyModule_Create(&matrix_vector_multiply_module);\n",
    "    import_array();\n",
    "    return module;\n",
    "};"
   ]
  },
  {
   "cell_type": "code",
   "execution_count": null,
   "metadata": {},
   "outputs": [],
   "source": [
    "%%writefile setup.py\n",
    "from setuptools import setup, Extension\n",
    "import numpy as np\n",
    "\n",
    "matrix_vector_multiply_module = Extension(\n",
    "    'mvc_mylib',\n",
    "    sources=['mvc_mylib.c'],\n",
    "    include_dirs=[np.get_include()],\n",
    ")\n",
    "\n",
    "setup(\n",
    "    name='mvc_mylib',\n",
    "    version='1.0',\n",
    "    description='A C extension for multiplying a matrix and a vector',\n",
    "    ext_modules=[matrix_vector_multiply_module],\n",
    ")\n"
   ]
  },
  {
   "cell_type": "code",
   "execution_count": null,
   "metadata": {},
   "outputs": [],
   "source": [
    "!python setup.py build_ext --inplace"
   ]
  },
  {
   "cell_type": "code",
   "execution_count": null,
   "metadata": {},
   "outputs": [],
   "source": [
    "import numpy as np\n",
    "import mvc_mylib\n"
   ]
  },
  {
   "cell_type": "code",
   "execution_count": null,
   "metadata": {},
   "outputs": [],
   "source": [
    "matrix = np.array([[1, 2, 3, 4],\n",
    "                   [5, 6, 7, 8],\n",
    "                   [9, 10, 11, 12]], dtype=np.float32)\n",
    "\n",
    "vector = np.array([2, 1, 3, 0], dtype=np.float32)\n",
    "result = np.zeros((3), dtype=np.float32)\n",
    "\n",
    "mvc_mylib.mvp_func_py(matrix, vector, result)\n",
    "\n",
    "print(\"Result:\")\n",
    "print(result)"
   ]
  },
  {
   "cell_type": "code",
   "execution_count": null,
   "metadata": {},
   "outputs": [],
   "source": [
    "matrix@vector"
   ]
  },
  {
   "attachments": {},
   "cell_type": "markdown",
   "metadata": {},
   "source": [
    "## Totéž pomocí Cythonu\n",
    "K načtení C filu z Cythonu budeme potřebovat následující příkazy:\n",
    "\n",
    "- `cdef extern from \"matrix_vector_multiply.c\"`: Tento příkaz importuje externí C funkci `matrix_vector_multiply` z hlavičkového souboru \"matrix_vector_multiply.c\". Tímto způsobem lze v Cythonu volat funkce napsané v jazyce C.\n",
    "ozhraní mezi rychlými C funkcemi a Python kódem.\n",
    "- `cnp.ndarray[cnp.float32_t, ndim=2]`, `cnp.ndarray[cnp.float32_t, ndim=1]`: Tyto typy definují NumPy pole s konkrétním datovým typem a počtem dimenzí. V tomto případě se jedná o pole s jednoduchou přesností plovoucích čísel (float32) a jednorozměrné nebo dvourozměrné pole.\n",
    "- `<float*> &matrix[0, 0], <float*> &vector[0], <float*> &result[0]`: Tyto konstrukce provádějí type casting ukazatelů na datový typ `float*`. Díky tomu je možné předat adresy prvků NumPy polí do C funkce.\n",
    "\n",
    "Pro kompilaci je třeba dodat cestu odkud se mají brát C soubory. Při použití cell magic stačí přidat `-I .` parametr, ten řekne cythonu, že se má koukat na zdrojáky do současné složky."
   ]
  },
  {
   "cell_type": "code",
   "execution_count": null,
   "metadata": {},
   "outputs": [],
   "source": [
    "%load_ext Cython"
   ]
  },
  {
   "cell_type": "code",
   "execution_count": null,
   "metadata": {},
   "outputs": [],
   "source": [
    "%%cython -I .\n",
    "cimport numpy as cnp\n",
    "import numpy as np\n",
    "\n",
    "cdef extern from \"matrix_vector_multiply.c\":\n",
    "    void matrix_vector_multiply(float *matrix, float *vector, float *result, int rows, int cols)\n",
    "\n",
    "def mvp_func_cy(cnp.ndarray[cnp.float32_t, ndim=2] matrix, cnp.ndarray[cnp.float32_t, ndim=1] vector, cnp.ndarray[cnp.float32_t, ndim=1] result):\n",
    "    cdef int rows = matrix.shape[0]\n",
    "    cdef int cols = matrix.shape[1]\n",
    "    \n",
    "    matrix_vector_multiply(<float*> &matrix[0, 0], <float*> &vector[0], <float*> &result[0], rows, cols)\n"
   ]
  },
  {
   "cell_type": "code",
   "execution_count": null,
   "metadata": {},
   "outputs": [],
   "source": [
    "mvp_func_cy(matrix, vector, result)\n",
    "\n",
    "print(\"Result:\")\n",
    "print(result)"
   ]
  },
  {
   "attachments": {},
   "cell_type": "markdown",
   "metadata": {},
   "source": [
    "Pokud bychom chtěli použít setup.py, bude to vypadat následovně:"
   ]
  },
  {
   "cell_type": "code",
   "execution_count": null,
   "metadata": {},
   "outputs": [],
   "source": [
    "%%writefile mvp_cy.pyx\n",
    "\n",
    "cimport numpy as cnp\n",
    "import numpy as np\n",
    "\n",
    "cdef extern from \"matrix_vector_multiply.c\":\n",
    "    void matrix_vector_multiply(float *matrix, float *vector, float *result, int rows, int cols)\n",
    "\n",
    "def mvp_func_cy(cnp.ndarray[cnp.float32_t, ndim=2] matrix, cnp.ndarray[cnp.float32_t, ndim=1] vector, cnp.ndarray[cnp.float32_t, ndim=1] result):\n",
    "    cdef int rows = matrix.shape[0]\n",
    "    cdef int cols = matrix.shape[1]\n",
    "    \n",
    "    matrix_vector_multiply(<float*> &matrix[0, 0], <float*> &vector[0], <float*> &result[0], rows, cols)\n"
   ]
  },
  {
   "cell_type": "code",
   "execution_count": null,
   "metadata": {},
   "outputs": [],
   "source": [
    "%%writefile setup.py\n",
    "\n",
    "from setuptools import setup, Extension\n",
    "from Cython.Build import cythonize\n",
    "import numpy as np\n",
    "\n",
    "ext_modules = [\n",
    "    Extension(\n",
    "        \"mvp_cy\",\n",
    "        [\"mvp_cy.pyx\"],\n",
    "        include_dirs=[np.get_include(),\".\"],\n",
    "        language=\"c\",\n",
    "    )\n",
    "]\n",
    "\n",
    "setup(\n",
    "    name=\"mvp_cy\",\n",
    "    ext_modules=cythonize(ext_modules),\n",
    ")\n"
   ]
  },
  {
   "cell_type": "code",
   "execution_count": null,
   "metadata": {},
   "outputs": [],
   "source": [
    "!python setup.py build_ext --inplace"
   ]
  },
  {
   "cell_type": "code",
   "execution_count": null,
   "metadata": {},
   "outputs": [],
   "source": [
    "import mvp_cy"
   ]
  },
  {
   "cell_type": "code",
   "execution_count": null,
   "metadata": {},
   "outputs": [],
   "source": [
    "mvp_cy.mvp_func_cy(matrix, vector, result)\n",
    "print(\"Result:\")\n",
    "print(result)"
   ]
  },
  {
   "cell_type": "code",
   "execution_count": null,
   "metadata": {},
   "outputs": [],
   "source": []
  }
 ],
 "metadata": {
  "kernelspec": {
   "display_name": "Python 3",
   "language": "python",
   "name": "python3"
  },
  "language_info": {
   "codemirror_mode": {
    "name": "ipython",
    "version": 3
   },
   "file_extension": ".py",
   "mimetype": "text/x-python",
   "name": "python",
   "nbconvert_exporter": "python",
   "pygments_lexer": "ipython3",
   "version": "3.10.10"
  },
  "orig_nbformat": 4
 },
 "nbformat": 4,
 "nbformat_minor": 2
}
