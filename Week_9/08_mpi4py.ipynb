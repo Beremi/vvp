{
 "cells": [
  {
   "attachments": {},
   "cell_type": "markdown",
   "metadata": {},
   "source": [
    "# MPI v Pythonu = mpi4py\n",
    "Knihovna mpi4py je Python rozhraní pro Message Passing Interface (MPI) standard, který je široce používán pro paralelní programování. MPI je komunikační protokol umožňující výměnu zpráv mezi procesy běžícími na různých procesorech nebo uzlech v distribuovaných nebo sdílených paměťových systémech.\n",
    "\n",
    "Funkce mpi4py zahrnují:\n",
    "1. Komunikaci mezi procesy pomocí zpráv.\n",
    "2. Zasílání a přijímání dat mezi procesy.\n",
    "3. Kolektivní operace, jako je broadcast, gather a reduce.\n",
    "4. ... Mnoho dalších funkcí.\n",
    "\n",
    "Nejprve však zprovoznění knihovny. \n",
    "\n",
    "Pro zprovoznění knihovny mpi4py na Linuxu je třeba provést vyjímečně dva kroky:\n",
    "\n",
    "1. **Instalace MPI implementace**: Nejprve (pokud nemáte) je třeba nainstalovat nějakou MPI implementaci, například Open MPI nebo MPICH. Pro instalaci Open MPI na Ubuntu nebo Debianu, stačí následující příkaz: `sudo apt-get install -y openmpi-bin openmpi-common libopenmpi-dev`\n",
    "2. **Instalace mpi4py**: Nainstalujte knihovnu mpi4py pomocí Pip: `pip3 install --user mpi4py`\n",
    "\n",
    "\n",
    "Instalace MPI pod windows je standardně komplikovanější:\n",
    "\n",
    "1. **Instalace MPI implementace**: Nejprve je třeba nainstalovat nějakou MPI implementaci, například Microsoft MPI (MS-MPI). Stáhněte si instalační balíčky pro MS-MPI z [oficiální stránky](https://docs.microsoft.com/en-us/message-passing-interface/microsoft-mpi) a nainstalujte je.\n",
    "2. **Přidání MS-MPI do systémové proměnné PATH**: Ověřte, že cesty k `mpiexec.exe` a `mpiexec` jsou přidány do systémové proměnné PATH. Cesty by měly vypadat nějak takto: `C:\\Program Files\\Microsoft MPI\\Bin\\`.\n",
    "3. Restartart systému ať se zaktualizuje path, a doufat, že to bude fungovat.\n",
    "\n"
   ]
  },
  {
   "attachments": {},
   "cell_type": "markdown",
   "metadata": {},
   "source": [
    "## Ukázka jednoduchého použití\n",
    "Zde je jednoduchý příklad použití knihovny mpi4py:\n"
   ]
  },
  {
   "cell_type": "code",
   "execution_count": null,
   "metadata": {},
   "outputs": [],
   "source": [
    "%%writefile mpi_example.py\n",
    "from mpi4py import MPI\n",
    "\n",
    "comm = MPI.COMM_WORLD\n",
    "rank = comm.Get_rank()\n",
    "size = comm.Get_size()\n",
    "\n",
    "if rank == 0:\n",
    "    data = [(i+1)**2 for i in range(size)]\n",
    "else:\n",
    "    data = None\n",
    "\n",
    "data = comm.scatter(data, root=0)\n",
    "\n",
    "print(f\"Proces {rank}: přijal {data} od procesu 0\")"
   ]
  },
  {
   "cell_type": "markdown",
   "metadata": {},
   "source": [
    "\n",
    "V tomto příkladu:\n",
    "1. Importujeme knihovnu mpi4py.\n",
    "2. Získáme komunikátor `comm`, který představuje skupinu procesů.\n",
    "3. Zjistíme pořadí (rank) a počet procesů (size) v komunikátoru.\n",
    "4. Proces s rankem 0 vytvoří seznam dat a rozešle jej ostatním procesům pomocí funkce `comm.scatter`.\n",
    "5. Každý proces vypíše přijatá data.\n",
    "\n",
    "Tento kód se spouští pomocí `mpirun` nástroje:\n",
    "\n",
    "```bash\n",
    "mpirun -n 4 python3 mpi_example.py\n",
    "```\n",
    "\n",
    "Kde `-n 4` značí počet procesů, které mají být spuštěny."
   ]
  },
  {
   "cell_type": "code",
   "execution_count": null,
   "metadata": {},
   "outputs": [],
   "source": [
    "!mpirun -n 4 python3 mpi_example.py"
   ]
  },
  {
   "attachments": {},
   "cell_type": "markdown",
   "metadata": {},
   "source": [
    "## Ukázka 2 posílání zpráv a polí\n",
    "V tomto příkladu:\n",
    "\n",
    "1. Importujeme knihovnu numpy a mpi4py.\n",
    "2. Získáme komunikátor `comm`, rank a size.\n",
    "3. Vytvoříme numpy pole `send_data` o velikosti 10 pro každý proces. Pole je naplněno hodnotou ranku.\n",
    "4. Vytvoříme prázdné numpy pole `recv_data` pro přijetí dat.\n",
    "5. Nastavíme `source` a `destination` pro každý proces podle ranku.\n",
    "6. Použijeme metodu `Sendrecv` pro odeslání a přijetí dat mezi procesy.\n",
    "7. Každý proces vypíše přijatá data."
   ]
  },
  {
   "cell_type": "code",
   "execution_count": null,
   "metadata": {},
   "outputs": [],
   "source": [
    "%%writefile mpi_example2.py\n",
    "import numpy as np\n",
    "from mpi4py import MPI\n",
    "\n",
    "comm = MPI.COMM_WORLD\n",
    "rank = comm.Get_rank()\n",
    "size = comm.Get_size()\n",
    "\n",
    "# Vytvoříme pole o velikosti 10 pro každý proces\n",
    "send_data = np.full(10, rank, dtype=int)\n",
    "recv_data = np.zeros(10, dtype=int)\n",
    "\n",
    "# Proces 0 získá data od procesu 1, proces 1 od procesu 2 atd.\n",
    "# Poslední proces získá data od procesu 0\n",
    "source = rank - 1 if rank > 0 else size - 1\n",
    "destination = (rank + 1) % size\n",
    "\n",
    "# Procesy si předají data pomocí sendrecv\n",
    "comm.Sendrecv(send_data, dest=destination, recvbuf=recv_data, source=source)\n",
    "\n",
    "print(f\"Proces {rank}: Přijal data {recv_data} od procesu {source}\")"
   ]
  },
  {
   "cell_type": "code",
   "execution_count": null,
   "metadata": {},
   "outputs": [],
   "source": [
    "!mpirun -n 4 python3 mpi_example2.py"
   ]
  }
 ],
 "metadata": {
  "kernelspec": {
   "display_name": "Python 3",
   "language": "python",
   "name": "python3"
  },
  "language_info": {
   "codemirror_mode": {
    "name": "ipython",
    "version": 3
   },
   "file_extension": ".py",
   "mimetype": "text/x-python",
   "name": "python",
   "nbconvert_exporter": "python",
   "pygments_lexer": "ipython3",
   "version": "3.10.10"
  },
  "orig_nbformat": 4
 },
 "nbformat": 4,
 "nbformat_minor": 2
}
