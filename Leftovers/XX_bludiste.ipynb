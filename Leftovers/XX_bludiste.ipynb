{
 "cells": [
  {
   "cell_type": "code",
   "execution_count": 2,
   "metadata": {},
   "outputs": [],
   "source": [
    "import numpy as np\n",
    "import matplotlib.pyplot as plt\n",
    "import scipy as sp\n",
    "n = 20\n",
    "# create a 2D bool array of size n x n\n",
    "# with all elements set to False\n",
    "maze = np.zeros((n, n), dtype=bool)\n",
    "maze[2:, 0] = True\n",
    "maze[:-1, -1] = True\n",
    "maze[0, 1:] = True\n",
    "maze[-1, :-2] = True\n",
    "maze[n//3, :-3] = True\n",
    "maze[(2*n)//3, 2:] = True"
   ]
  },
  {
   "cell_type": "code",
   "execution_count": 3,
   "metadata": {},
   "outputs": [],
   "source": [
    "def get_incidence(maze):\n",
    "    (n,m) = maze.shape\n",
    "    incidence = np.zeros((n * m, n * m), dtype=int)\n",
    "    for i in range(n):\n",
    "        for j in range(m):\n",
    "            idx = i * m + j\n",
    "            if i > 0:\n",
    "                incidence[idx, idx - m] = 1\n",
    "            if i < n - 1:\n",
    "                incidence[idx, idx + m] = 1\n",
    "            if j > 0:\n",
    "                incidence[idx, idx - 1] = 1\n",
    "            if j < m - 1:\n",
    "                incidence[idx, idx + 1] = 1\n",
    "    cells = maze.copy().reshape(-1)\n",
    "    incidence[cells, :] = 0\n",
    "    incidence[:,cells] = 0\n",
    "    # fill diagonal with 1\n",
    "    incidence[np.diag_indices_from(incidence)] = 1\n",
    "    # create a sparse matrix (lil_matrix) from the incidence matrix\n",
    "    incidence = sp.sparse.lil_matrix(incidence)\n",
    "    return incidence\n"
   ]
  },
  {
   "cell_type": "code",
   "execution_count": 4,
   "metadata": {},
   "outputs": [],
   "source": [
    "def maze_ok(maze, I):\n",
    "    visited = np.zeros_like(maze, dtype=bool).reshape(-1)\n",
    "    visited[0]  = True\n",
    "\n",
    "    for _ in visited:\n",
    "        visited = I@visited > 0\n",
    "        if visited[-1]:\n",
    "            return True\n",
    "        \n",
    "    return False"
   ]
  },
  {
   "cell_type": "code",
   "execution_count": 5,
   "metadata": {},
   "outputs": [],
   "source": [
    "def enhance_maze(maze, I):\n",
    "    (n,m) = maze.shape\n",
    "    # find a random cell\n",
    "    i = np.random.randint(n)\n",
    "    j = np.random.randint(m)\n",
    "    maze_temp = maze.copy()\n",
    "    maze_temp[i, j] = True\n",
    "    I_temp = I.copy()\n",
    "    I_temp[i*m + j, :] = 0\n",
    "    I_temp[:, i*m + j] = 0\n",
    "    if maze_ok(maze_temp, I_temp):\n",
    "        return maze_temp, I_temp\n",
    "    return maze, I"
   ]
  },
  {
   "cell_type": "code",
   "execution_count": 6,
   "metadata": {},
   "outputs": [
    {
     "data": {
      "text/plain": [
       "<matplotlib.image.AxesImage at 0x7f928219b700>"
      ]
     },
     "execution_count": 6,
     "metadata": {},
     "output_type": "execute_result"
    },
    {
     "data": {
      "image/png": "[encoded data removed]",
      "text/plain": [
       "<Figure size 640x480 with 1 Axes>"
      ]
     },
     "metadata": {},
     "output_type": "display_data"
    }
   ],
   "source": [
    "maze_2 = maze.copy()\n",
    "I = get_incidence(maze_2)\n",
    "\n",
    "for i in range(300):\n",
    "    maze_2, I = enhance_maze(maze_2, I)\n",
    "\n",
    "\n",
    "plt.imshow(maze_2, cmap=plt.cm.binary, interpolation='nearest')"
   ]
  },
  {
   "cell_type": "code",
   "execution_count": 7,
   "metadata": {},
   "outputs": [],
   "source": [
    "import networkx as nx"
   ]
  },
  {
   "cell_type": "code",
   "execution_count": 8,
   "metadata": {},
   "outputs": [
    {
     "name": "stdout",
     "output_type": "stream",
     "text": [
      "True\n"
     ]
    }
   ],
   "source": [
    "# Convert incidence matrix to a graph\n",
    "incidence_matrix = I\n",
    "G = nx.DiGraph(incidence_matrix)\n",
    "\n",
    "# Check if there is a path from the first to last node\n",
    "print(nx.has_path(G, 0, n*n-1))\n",
    "\n"
   ]
  },
  {
   "cell_type": "code",
   "execution_count": 9,
   "metadata": {},
   "outputs": [
    {
     "data": {
      "text/plain": [
       "networkx.classes.digraph.DiGraph"
      ]
     },
     "execution_count": 9,
     "metadata": {},
     "output_type": "execute_result"
    }
   ],
   "source": [
    "type(G)"
   ]
  },
  {
   "cell_type": "code",
   "execution_count": 11,
   "metadata": {},
   "outputs": [
    {
     "data": {
      "text/plain": [
       "400"
      ]
     },
     "execution_count": 11,
     "metadata": {},
     "output_type": "execute_result"
    }
   ],
   "source": [
    "G.number_of_nodes()"
   ]
  },
  {
   "cell_type": "code",
   "execution_count": null,
   "metadata": {},
   "outputs": [],
   "source": []
  }
 ],
 "metadata": {
  "kernelspec": {
   "display_name": "Python 3",
   "language": "python",
   "name": "python3"
  },
  "language_info": {
   "codemirror_mode": {
    "name": "ipython",
    "version": 3
   },
   "file_extension": ".py",
   "mimetype": "text/x-python",
   "name": "python",
   "nbconvert_exporter": "python",
   "pygments_lexer": "ipython3",
   "version": "3.10.9"
  },
  "orig_nbformat": 4,
  "vscode": {
   "interpreter": {
    "hash": "e7370f93d1d0cde622a1f8e1c04877d8463912d04d973331ad4851f04de6915a"
   }
  }
 },
 "nbformat": 4,
 "nbformat_minor": 2
}
