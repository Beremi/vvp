{
 "cells": [
  {
   "attachments": {},
   "cell_type": "markdown",
   "metadata": {},
   "source": [
    "# Crash course neboli rychlý úvod do Pythonu\n",
    "\n",
    "**I. Úvod do Pythonu**\n",
    "- příkazy/řádky\n",
    "- indentace a užití mezer/tabulátorů\n",
    "- komentáře\n",
    "- proměnné\n",
    "- funkce\n",
    "- `for` \n",
    "- `if` \n",
    "    \n",
    "**II. Úvod do NumPy**\n",
    "- Co je to NumPy?\n",
    "- Vytváření NumPy matic a vektorů\n",
    "- Indexování a slicing\n",
    "- Základní operace\n",
    "- Maticové operace (Dot product, matrix multiplication)\n",
    "- Řešení soustav lineárních rovnic\n",
    "\n",
    "**III. Vykreslování s Matplotlibem**\n",
    "- Co je to Matplotlib?\n",
    "- Základní vykreslování (line plots, image plots)"
   ]
  },
  {
   "attachments": {},
   "cell_type": "markdown",
   "metadata": {},
   "source": [
    "# I. Úvod do Pythonu\n"
   ]
  },
  {
   "attachments": {},
   "cell_type": "markdown",
   "metadata": {},
   "source": [
    "# 1.1. Příkazy/řádky\n",
    "V Pythonu se příkazy oddělují pomocí nového řádku. Pokud potřebujeme (například kvůli přílišné délce řádku) příkaz rozdělit na více řádků, použijeme znak `\\` a pokračujeme se zbytkem příkazu na dalším řádku (bez odsazení). Konec příkazu není třeba označovat (například pomocí `;` jako je to např v C), středník však na konec řádku dát můžeme (nebude to mít žádný vliv). Pokud chceme dát několik příkažů na jeden řádek, oddělíme je pomocí středníku."
   ]
  },
  {
   "cell_type": "code",
   "execution_count": null,
   "metadata": {},
   "outputs": [],
   "source": [
    "print(\"Ahoj světe!\")\n",
    "print(\"Ahoj \\\n",
    "světe\\\n",
    "!\")\n",
    "print(\"Ahoj \", end=\"\"); print(\"světe!\")\n"
   ]
  },
  {
   "attachments": {},
   "cell_type": "markdown",
   "metadata": {},
   "source": [
    "## 1.2. Indentace a užití mezer/tabulátorů\n",
    "\n",
    "Python se liší od mnoha jiných programovacích jazyků tím, že tzv. indentace je pro něj závazná a je součástí syntaxe. Výrazem \"závázná indentace\" nemyšlíme, že by bylo nutné používat přesně daný počet mezer/tabulátorů, ale že odsazení bloku kódu (a je jedno jak velké) udává to že se jedná o jeden `blok`. \n",
    "\n",
    "`Bloky` v pythonu následují typicky za dojtečku `:` (např. `if`, `for`, `def`). Pokud bychom chtěli udělat separátní blok pouze z důvodu využití lokálního prostoru (tak jak by se to např v C udělalo pomocí složených závorek `{}`), tak toto v Pythonu nelze (odsazení bez `:` je chyba a program se nepřeloží).\n",
    "\n",
    "Běžně se však pro jeden level odsazení používají 4 mezery nebo 1 tabulátor. VS Code (alespoň výchozí nastavení) automaticky přepisuje tabulátory na 4 mezery (např. po uložení souboru). \n",
    "\n",
    "Mino odsazení, tj. kdekoliv uvnitř příkazu (mimo definici řetězce :-)) jsou mezery a tabulátory ignorovány.\n",
    "\n",
    "Ve VS Code je obsažen automatický formátovací nástroj, který všechny bloky kódu automaticky odsadí dle zvoleného stylu (4 mezery) a přidá mezery mezi operátory a operandy. Tento nástroj se spouští pomocí klávesové zkratky `Ctrl+Shift+I` nebo `Cmd+Shift+I` (podle toho zda používáte Windows nebo Mac).\n",
    "\n",
    "**Standardní \"neformální\" dohoda o formátování je:**\n",
    "- 4 mezery pro odsazení\n",
    "- mezera mezi operátory a operandy\n",
    "- mezera po čárce\n",
    "- prázdný řádek na konci souboru\n",
    "- prázdný řádek mezi bloky kódu\n",
    "- dva prázdné řádky mezi definicemi funkcí\n",
    "\n",
    "Tímto se také řídí automatický formátovací nástroj ve VS Code.\n",
    "\n",
    "**Koukněte se co je ještě validní kód z hlediska mezer/tabulátorů a odsazení. Poté vyzkoušejte automatické formátování.** "
   ]
  },
  {
   "cell_type": "code",
   "execution_count": null,
   "metadata": {},
   "outputs": [],
   "source": [
    "def       foo()       :\n",
    "    for  i       in                    range(  10   )               :\n",
    "                       print(      i      )\n",
    "                       print(       i +     1)\n",
    "\n",
    "foo(            )"
   ]
  },
  {
   "attachments": {},
   "cell_type": "markdown",
   "metadata": {},
   "source": [
    "\n",
    "## 1.3. Komentáře\n",
    "\n",
    "\"Pravé\" komentáře v Pythonu se píšou pouze pomocí znaku `#` a jsou jednořádkové. Vše, co je za znakem `#`, je považováno za komentář. Není však omezeno kolik takovách komentářů a kde přesně budou umístěny. V případě, že bychom chtěli napsat víceřádkový komentář (například docsstring), tak je v Pythonu zvykem použít řetězec uvozeený trojicí uvozovek `\"\"\"` nebo `'''`, který není přiřazen žádné proměnné.\n"
   ]
  },
  {
   "cell_type": "code",
   "execution_count": null,
   "metadata": {},
   "outputs": [],
   "source": [
    "def foo():\n",
    "    \"\"\"_summary_ of foo:\n",
    "    \n",
    "    nothing to see here\n",
    "    \"\"\"    \n",
    "    print('foo') # vytiskneme foo\n",
    "    \n",
    "foo() # zavolame funkci foo\n",
    "\n",
    "# jednoduchá aritmetika\n",
    "a = 1 # a je jedna\n",
    "b = 2                       # b je dva\n",
    "c = a + b        # c je tři\n",
    "print(c) # vytiskneme tři"
   ]
  },
  {
   "attachments": {},
   "cell_type": "markdown",
   "metadata": {},
   "source": [
    "## 1.4. Proměnné\n",
    "\n",
    "Proměnné v Pythonu se definují pomocí znaku `=`. V Pythonu není nutné definovat typ proměnné, takže například `a = 1` je validní příkaz. Python je tzv. case-sensitive jazyk, takže proměnné `a` a `A` jsou dvě různé proměnné."
   ]
  },
  {
   "cell_type": "code",
   "execution_count": null,
   "metadata": {},
   "outputs": [],
   "source": [
    "a = 1\n",
    "A = 2\n",
    "a1 = 3\n",
    "print(a, A, a1)"
   ]
  },
  {
   "attachments": {},
   "cell_type": "markdown",
   "metadata": {},
   "source": [
    "## 1.5. Funkce\n",
    "Funkce se definují pomocí klíčového slova `def` a za ním následuje název funkce a seznam parametrů. Funkce vrací hodnotu pomocí klíčového slova `return`."
   ]
  },
  {
   "cell_type": "code",
   "execution_count": null,
   "metadata": {},
   "outputs": [],
   "source": [
    "def foo1():\n",
    "    print(\"nothing to see here\")\n",
    "    \n",
    "    \n",
    "def foo2(a):\n",
    "    return a\n",
    "\n",
    "\n",
    "def foo3(a, b):\n",
    "    return a + b\n",
    "\n",
    "print(foo1())\n",
    "print(foo2(1))\n",
    "print(foo3(1, 2))"
   ]
  },
  {
   "attachments": {},
   "cell_type": "markdown",
   "metadata": {},
   "source": [
    "## 1.6. `for`\n",
    "`for` cyklus slouží k iteraci přes iterovatelné objekty (více k tomuto později), zde si ukážeme pouze základní použití s `range`.\n",
    "\n",
    "**range**\n",
    "- `range(n)` - vytvoří iterovatelný objekt, který obsahuje čísla od 0 do n-1\n",
    "- `range(m, n)` - vytvoří iterovatelný objekt, který obsahuje čísla od m do n-1\n",
    "- `range(m, n, k)` - vytvoří iterovatelný objekt, který obsahuje čísla od m do n-1 s krokem k"
   ]
  },
  {
   "cell_type": "code",
   "execution_count": null,
   "metadata": {},
   "outputs": [],
   "source": [
    "for i in range(5):\n",
    "    print(i)\n",
    "\n",
    "print(\"----\")\n",
    "for i in range(5, 10):\n",
    "    print(i)\n",
    "\n",
    "print(\"----\")\n",
    "for i in range(0, 10, 3):\n",
    "    print(i)\n"
   ]
  },
  {
   "attachments": {},
   "cell_type": "markdown",
   "metadata": {},
   "source": [
    "## 1.7. `if`\n",
    "`if` je klíčové slovo které začíná podmíněný blok kódu, který se vyhodnotí pouze pokud výraz=podmínka je vyhodnocen jako `True`. Dále může následovat také klíčové slovo `else` které uvozuje blok kódu, který se vyhodnotí pouze pokud výraz=podmínka je vyhodnocen jako `False`."
   ]
  },
  {
   "cell_type": "code",
   "execution_count": null,
   "metadata": {},
   "outputs": [],
   "source": [
    "a = 1\n",
    "if a > 0:\n",
    "    print(\"a is positive\")\n",
    "else:\n",
    "    print(\"a is negative\")\n"
   ]
  },
  {
   "attachments": {},
   "cell_type": "markdown",
   "metadata": {},
   "source": [
    "# 2. NumPy\n"
   ]
  },
  {
   "attachments": {},
   "cell_type": "markdown",
   "metadata": {},
   "source": [
    "## 2.1. Co je to NumPy?\n",
    "\n",
    "NumPy je knihovna pro práci s vektory a maticemi v Pythonu. Všechny funkce jsou implementovány v C a jsou tak velmi rychlé. Dále je NumPy optimalizován tak, aby byl kompatibilní s většinou ostatních knihoven pro vědecké počítačové výpočty v Pythonu, takže se dá snadno kombinovat s dalšími knihovnami. \n",
    "\n",
    "**Jak dostat NumPy do aktuálního kernelu?**\n",
    "\n",
    "Knihovnu NumPy je nutné nejprve importovat:\n"
   ]
  },
  {
   "cell_type": "code",
   "execution_count": null,
   "metadata": {},
   "outputs": [],
   "source": [
    "import numpy as np # importujeme numpy pod zkratkou np"
   ]
  },
  {
   "attachments": {},
   "cell_type": "markdown",
   "metadata": {},
   "source": [
    "## 2.2. Matice a vektory\n",
    "\n",
    "Matice a vektory můžeme vytvořit pomocí (pouze pár funkcí, více si ukážeme na cvičení dedikovaé NumPy):\n",
    "\n",
    "- `np.array()` - vytvoří vektor/matici z listu\n",
    "- `np.zeros()` - vytvoří vektor/matici o daných rozměrech, která je naplněna nulami\n",
    "- `np.ones()` - vytvoří vektor/matici o daných rozměrech, která je naplněna jedničkami\n",
    "- `np.linspace()` - vytvoří vektor o daných rozměrech, který obsahuje čísla od m do n-1 s krokem k\n",
    "- `np.eye()` - vytvoří jednotkovou matici o daných rozměrech\n",
    "- `np.random.rand()` - vytvoří vektor/matici o daných rozměrech, která je naplněna náhodnými čísly z intervalu [0, 1)"
   ]
  },
  {
   "cell_type": "code",
   "execution_count": null,
   "metadata": {},
   "outputs": [],
   "source": [
    "# ukázka inicializace vektorů\n",
    "b = np.array([1, 2, 3])\n",
    "print(b)\n",
    "\n",
    "b = np.zeros(4)\n",
    "print(b)\n",
    "\n",
    "b = np.ones(4)\n",
    "print(b)\n",
    "\n",
    "b = np.linspace(0, 1, 4)\n",
    "print(b)\n",
    "\n",
    "b = np.random.random(4)\n",
    "print(b)\n"
   ]
  },
  {
   "cell_type": "code",
   "execution_count": null,
   "metadata": {},
   "outputs": [],
   "source": [
    "# ukázka inicializace čtvercových matic\n",
    "b = np.array([[1, 2, 3], [4, 5, 6], [7, 8, 9]])\n",
    "print(b)\n",
    "\n",
    "b = np.zeros((4, 4))\n",
    "print(b)\n",
    "\n",
    "b = np.ones((4, 4))\n",
    "print(b)\n",
    "\n",
    "b = np.random.random((4, 4))\n",
    "print(b)\n",
    "\n",
    "b = np.eye(4)\n",
    "print(b)"
   ]
  },
  {
   "attachments": {},
   "cell_type": "markdown",
   "metadata": {},
   "source": [
    "## 2.3. Indexování a slicing\n",
    "Indexování je způsob, jakým se u matice/vektoru dostaneme k jednotlivým prvkům. Indexování v NumPy je velmi podobné indexování v jiných jazycích, jako například C, C++ nebo Java. Indexování začíná od nuly =  prvek má index 0.\n",
    "\n",
    "\n",
    "Slicing je způsob, jakým se u matice/vektoru dostaneme k více prvkům najednou. Slicing je velmi podobné `range` funkci a značí se pomocí `:` v indexování `[]`. Nejlépe si to ukážeme na příkladu `vec[a:b:c]`:\n",
    "- `a` - index prvního prvku, který chceme získat\n",
    "- `b` - index prvku, který už nechceme získat, tedy poslední prvek je s indexem `b-1`\n",
    "- `c` - krok, kterým chceme procházet prvky\n",
    "- `vec[a:b:c]` - vrací vektor, který obsahuje prvky s indexy `a, a+c, a+2c, ... < b`, tedy poslední prvek je `a + kc` který je menší než `b` (nemusí to být nutně `b-1`)\n",
    "- kterýkoliv z `a,b,c`  můžeme vynechat, v tom případě se použijí defaultní hodnoty `a=0, b=len(vec), c=1`"
   ]
  },
  {
   "cell_type": "code",
   "execution_count": null,
   "metadata": {},
   "outputs": [],
   "source": [
    "b = np.linspace(0, 1, 6)\n",
    "A = np.random.random((6,6))\n",
    "print(b)\n",
    "print(A)\n",
    "\n",
    "print(\"------------------------------------\")\n",
    "print(b[0])\n",
    "print(A[0, 0])\n",
    "\n",
    "print(\"------------------------------------\")\n",
    "print(b[0:2])\n",
    "print(A[0:2, 0:2])\n",
    "\n",
    "print(\"------------------------------------\")\n",
    "print(b[::3])\n",
    "print(A[::3, ::3])"
   ]
  },
  {
   "attachments": {},
   "cell_type": "markdown",
   "metadata": {},
   "source": [
    "## 2.4. Základní operace\n",
    "Na vektory a matice lze aplikovat základní operace, které pak fungují tzv. elementwise. Tedy pokud máme vektor `vec` a číslo `a`, tak `vec + a` vrací vektor, který obsahuje prvky `vec[i] + a` pro každý prvek `vec[i]`. Podobně to funguje pro většinu ostatních operací:\n",
    "- `+` - sčítání\n",
    "- `-` - odčítání\n",
    "- `*` - násobení\n",
    "- `/` - dělení\n",
    "- `**` - mocnina\n",
    "- `>` - větší než\n",
    "- `<` - menší než\n",
    "- ...\n",
    "\n",
    "Pro elementwise použití matematických funkcí lze použít funkce z knihovny NumPy:\n",
    "- `np.sqrt()` - odmocnina\n",
    "- `np.exp()` - exponenciální funkce\n",
    "- `np.log()` - logaritmus\n",
    "- `np.sin()` - sinus\n",
    "- `np.cos()` - kosinus\n",
    "- a mnoho dalších\n"
   ]
  },
  {
   "cell_type": "code",
   "execution_count": null,
   "metadata": {},
   "outputs": [],
   "source": [
    "a = np.array([1, 4, 9])\n",
    "b = np.array([2, 4, 6])\n",
    "\n",
    "print(a + b)\n",
    "print(a * b)\n",
    "print(a / b)\n",
    "print(a ** b)\n",
    "print(a < b)\n",
    "print(a > b)\n",
    "print(a == b)\n",
    "\n",
    "print(np.sqrt(a))\n"
   ]
  },
  {
   "cell_type": "code",
   "execution_count": null,
   "metadata": {},
   "outputs": [],
   "source": [
    "A = np.array([[1, 4], [9, 16]])\n",
    "B = np.array([[1, 5], [9, 13]])\n",
    "print(A)\n",
    "print(B)\n",
    "print(\"------------------------------------\")\n",
    "\n",
    "print(A + B)\n",
    "print(A * B)\n",
    "print(A / B)\n",
    "print(A ** B)\n",
    "print(A < B)\n",
    "print(A > B)\n",
    "print(A == B)\n",
    "\n",
    "print(np.sqrt(A))\n"
   ]
  },
  {
   "attachments": {},
   "cell_type": "markdown",
   "metadata": {},
   "source": [
    "## 2.5. Maticové operace\n",
    "Z lineární algebry znáte operace jako součin matic, transpozice, inverze, determinant, dot product, atd. Tyto operace lze v NumPy provádět pomocí následujících funkcí:\n",
    "- `np.dot()` - skalární součin dvou vektorů, případně násobení matice a vektoru\n",
    "- `np.matmul()` - matematický součin dvou matic, lze také použít operátor `@`\n",
    "- `np.transpose()` - transpozice matice\n",
    "- `np.linalg.inv()` - inverze matice\n",
    "- `np.linalg.det()` - determinant matice\n",
    "- `np.linalg.eig()` - vlastní čísla a vlastní vektory matice\n",
    "- `np.linalg.norm()` - norma matice\n",
    "\n",
    "**U maticových operací je třeba dát si pozor na to jakým způsobem je definován vektor. Může to být 1D pole, 2D sloupec nebo 2D řádek.**\n",
    "- 1D pole např. `np.zeros(5)`\n",
    "- 2D sloupec např. `np.zeros((5, 1))`\n",
    "- 2D řádek např. `np.zeros((1, 5))`"
   ]
  },
  {
   "cell_type": "code",
   "execution_count": null,
   "metadata": {},
   "outputs": [],
   "source": [
    "A = np.array([[3, 1], [1, 3]])\n",
    "b = np.ones(2)\n",
    "c = np.ones((2,1))\n",
    "\n",
    "print(A)\n",
    "print(b)\n",
    "print(c)\n",
    "\n",
    "print(\"------------------------------------\")\n",
    "print(np.dot(A, b))\n",
    "print(np.dot(b, A))\n",
    "print(np.dot(A, c))\n",
    "# print(np.dot(c, A)) # tohle nepojede (c je sloupec => c*A nelze)\n",
    "# print(np.dot(c, b)) # totéž: c*b nelze\n",
    "print(np.dot(b, c))\n",
    "\n",
    "# pokud je vektor skutečně vektor (dimenze 1), tak nezáleží na pořadí v dotu\n",
    "print(np.dot(b,b))"
   ]
  },
  {
   "cell_type": "code",
   "execution_count": null,
   "metadata": {},
   "outputs": [],
   "source": [
    "A = np.array([[3, 1], [1, 3]])\n",
    "B = np.array([[1, 1], [1, 2]])\n",
    "\n",
    "b = np.ones(2)\n",
    "c = np.ones((2,1))\n",
    "d = np.ones((1,2))\n",
    "\n",
    "# np.matmul(A, B) se běžně zapisuje jako A @ B\n",
    "print(A @ B)\n",
    "print(np.matmul(A, B))\n",
    "print(B @ A)\n",
    "print(np.matmul(B, A))\n",
    "\n",
    "print(\"------------------------------------\")\n",
    "\n",
    "# s b to lze oběma směry\n",
    "print(A @ b)\n",
    "print(b @ A)\n",
    "\n",
    "# s c i d to lze jen jedním směrem\n",
    "print(A @ c) # naopak by to nešlo!\n",
    "print(d @ A) # naopak by to nešlo!\n",
    "\n",
    "print(\"------------------------------------\")\n",
    "\n",
    "print(b @ b)\n",
    "print(b @ c)\n",
    "print(d @ b)\n",
    "\n",
    "print(\"------------------------------------\")\n",
    "# všimněte si rozdílu mezi výsledky\n",
    "print(c @ d) \n",
    "print(d @ c)\n"
   ]
  },
  {
   "cell_type": "code",
   "execution_count": null,
   "metadata": {},
   "outputs": [],
   "source": [
    "A = np.array([[3, 1], [1, 3]])\n",
    "\n",
    "print(np.transpose(A))\n",
    "print(np.linalg.norm(A))\n",
    "print(np.linalg.inv(A))\n",
    "print(np.linalg.det(A))\n",
    "\n",
    "D, V = np.linalg.eig(A)\n",
    "print(D)\n",
    "print(V)\n"
   ]
  },
  {
   "attachments": {},
   "cell_type": "markdown",
   "metadata": {},
   "source": [
    "## 2.6. Řešení soustav lineárních rovnic\n",
    "Pro řešení soustav lineárních rovnic lze použít funkci `np.linalg.solve()`. Funkce bere jako argumenty matici `A` a vektor `b` a vrací řešení soustavy `x` takové, že `Ax = b`. Funkce `np.linalg.solve()` je implementována pomocí LU dekompozice."
   ]
  },
  {
   "cell_type": "code",
   "execution_count": null,
   "metadata": {},
   "outputs": [],
   "source": [
    "# ukázka řešení soustavy rovnic\n",
    "A = np.array([[3, 1], [1, 3]])\n",
    "b = np.ones(2)\n",
    "\n",
    "x = np.linalg.solve(A, b)\n",
    "print(x)"
   ]
  },
  {
   "attachments": {},
   "cell_type": "markdown",
   "metadata": {},
   "source": [
    "# 3. Vykrelování pomocí Matplotlib"
   ]
  },
  {
   "attachments": {},
   "cell_type": "markdown",
   "metadata": {},
   "source": [
    "## 3.1. Co je Matplotlib?\n",
    "Matplotlib je knihovna pro vykreslování grafů v Pythonu. Je velmi populární a má velkou podporu od komunity. Matplotlib je dobře integrována s NumPy a Pandas, takže jejich výstupy lze snadno vykreslit.\n",
    "\n",
    "Podrobné informace o knihovně Matplotlib si povíme v jedné z dalších lekcí. Zde si ukážeme pouze to nejzákladnější použití pro vykreslení jednoduchých grafů.\n",
    "\n",
    "Pro základní použití Matplotlibu stačí importovat knihovnu `matplotlib.pyplot`, zvykem je použít alias `plt`.\n"
   ]
  },
  {
   "cell_type": "code",
   "execution_count": null,
   "metadata": {},
   "outputs": [],
   "source": [
    "import matplotlib.pyplot as plt"
   ]
  },
  {
   "attachments": {},
   "cell_type": "markdown",
   "metadata": {},
   "source": [
    "## 3.2. Základní vykreslování\n",
    "Zde si ukážeme:\n",
    "- jak vykreslit jednoduchý graf pomocí `plt.plot()`\n",
    "- jak vykreslit matici jako obrázek pomocí `plt.imshow()`"
   ]
  },
  {
   "cell_type": "code",
   "execution_count": null,
   "metadata": {},
   "outputs": [],
   "source": [
    "x = np.linspace(0, 2*np.pi, 100)\n",
    "y = np.sin(x)\n",
    "A = np.random.random((100, 100))\n",
    "\n",
    "plt.plot(x, y)"
   ]
  },
  {
   "cell_type": "code",
   "execution_count": null,
   "metadata": {},
   "outputs": [],
   "source": [
    "plt.imshow(A)"
   ]
  }
 ],
 "metadata": {
  "kernelspec": {
   "display_name": "Python 3",
   "language": "python",
   "name": "python3"
  },
  "language_info": {
   "codemirror_mode": {
    "name": "ipython",
    "version": 3
   },
   "file_extension": ".py",
   "mimetype": "text/x-python",
   "name": "python",
   "nbconvert_exporter": "python",
   "pygments_lexer": "ipython3",
   "version": "3.10.9"
  },
  "orig_nbformat": 4,
  "vscode": {
   "interpreter": {
    "hash": "e7370f93d1d0cde622a1f8e1c04877d8463912d04d973331ad4851f04de6915a"
   }
  }
 },
 "nbformat": 4,
 "nbformat_minor": 2
}
