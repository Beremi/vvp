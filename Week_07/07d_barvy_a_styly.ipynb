{
 "cells": [
  {
   "cell_type": "code",
   "execution_count": null,
   "metadata": {},
   "outputs": [],
   "source": [
    "# Importujeme základní vykreslovací modul\n",
    "import matplotlib.pyplot as plt \n",
    "\n",
    "# A samozřejmě numpy\n",
    "import numpy as np\n",
    "\n",
    "# Občas se hodí i matematika\n",
    "import math"
   ]
  },
  {
   "cell_type": "code",
   "execution_count": null,
   "metadata": {},
   "outputs": [],
   "source": [
    "x = np.linspace(-1, 5, 50)"
   ]
  },
  {
   "attachments": {},
   "cell_type": "markdown",
   "metadata": {},
   "source": [
    "# Barvy a styly"
   ]
  },
  {
   "attachments": {},
   "cell_type": "markdown",
   "metadata": {},
   "source": [
    "## Barvy"
   ]
  },
  {
   "cell_type": "markdown",
   "metadata": {},
   "source": [
    "V matplotlibu se barvy čar, textu apod. dají specifikovat dvěma způsoby (preferujeme druhý):\n",
    "\n",
    "* pomocí jednopísmenných zkratek přímo v argumentu pro styl metody `plot` jako v MATLABu: `b` znamená modrou, `r` červenou, `g` zelenou a tak dále."
   ]
  },
  {
   "cell_type": "code",
   "execution_count": null,
   "metadata": {},
   "outputs": [],
   "source": [
    "fig, ax = plt.subplots()\n",
    "ax.plot(x, x**2, 'b.-')       # Modrá čára s tečkami\n",
    "ax.plot(x, x**3, 'g--')      # Zelená přerušovaná čára\n",
    "plt.show()"
   ]
  },
  {
   "cell_type": "markdown",
   "metadata": {},
   "source": [
    "* pomocí keyword argumentů `color` a (případně) `alpha`. Do prvního (`color`) můžeme zadat anglický název barvy nebo její hexadecimální vyjádření (viz třeba http://www.colorcodehex.com/html-color-picker.html), druhý nepovinný argument (`alpha`) vyjadřuje míru průhlednosti (0 = zcela průhledná, 1 = zcela neprůhledná)."
   ]
  },
  {
   "cell_type": "code",
   "execution_count": null,
   "metadata": {},
   "outputs": [],
   "source": [
    "fig, ax = plt.subplots()\n",
    "\n",
    "ax.plot(x, x+1, color=\"red\", alpha=0.5) # Poloprůhledná červená\n",
    "ax.plot(x, x+2, color=\"#1155dd\")        # Jakási namodralá barva\n",
    "ax.plot(x, x + 3, color=\"#15cc55\")       # Jakási nazelenalá barva\n",
    "plt.show()"
   ]
  },
  {
   "cell_type": "markdown",
   "metadata": {},
   "source": [
    "### Styly čar a značek"
   ]
  },
  {
   "cell_type": "markdown",
   "metadata": {},
   "source": [
    "Pro nastavení vlastností čáry grafu slouží keyword argumenty metody `plot`:\n",
    "\n",
    "* `linewidth` nebo `lw` - tloušťka čáry v bodech\n",
    "* `linestyle` nebo `ls`- styl čáry\n",
    "* `color` - barva\n",
    "\n",
    "Podobně nastavení značek bodů se přidává argumenty začínajícími na `marker` v téže metodě:\n",
    "\n",
    "* `marker` - druh značky \n",
    "* `markersize` - velikost značky\n",
    "* `markerfacecolor` - barva vnitřku značky\n",
    "* `markeredgewidth` - tloušťka okraje\n",
    "* `markeredgecolor` - barva okraje\n",
    "\n"
   ]
  },
  {
   "cell_type": "code",
   "execution_count": null,
   "metadata": {},
   "outputs": [],
   "source": [
    "fig, ax = plt.subplots(figsize=(12,6))\n",
    "\n",
    "# Tloušťka čáry\n",
    "ax.plot(x, x+1, color=\"blue\", linewidth=0.25)\n",
    "ax.plot(x, x+2, color=\"blue\", linewidth=0.50)\n",
    "ax.plot(x, x+3, color=\"blue\", linewidth=1.00)\n",
    "ax.plot(x, x+4, color=\"blue\", linewidth=2.00)\n",
    "\n",
    "# Základní styly přerušované čáry ‘-‘, ‘–’, ‘-.’, ‘:’, ‘steps’\n",
    "ax.plot(x, x+5, color=\"red\", lw=2, linestyle='-')\n",
    "ax.plot(x, x+6, color=\"red\", lw=2, ls='-.')\n",
    "ax.plot(x, x+7, color=\"red\", lw=2, ls=':')\n",
    "\n",
    "# Vlastní styl přerušované čáry\n",
    "line, = ax.plot(x, x+8, color=\"black\", lw=1.50)\n",
    "line.set_dashes([5, 10, 15, 10]) # formát: délka čáry, délka mezery, ...\n",
    "\n",
    "# Výběr typu značek: marker = '+', 'o', '*', 's', ',', '.', '1', '2', '3', '4', ...\n",
    "ax.plot(x, x+ 9, color=\"green\", lw=2, ls='', marker='+')\n",
    "ax.plot(x, x+10, color=\"green\", lw=2, ls='', marker='o')\n",
    "ax.plot(x, x+11, color=\"green\", lw=2, ls='', marker='s')\n",
    "ax.plot(x, x+12, color=\"green\", lw=2, ls='', marker='1')\n",
    "\n",
    "# Velikost značek a jejich barvy (vnitřní a vnější)\n",
    "ax.plot(x, x+13, color=\"purple\", lw=1, ls='-', marker='o', markersize=2)\n",
    "ax.plot(x, x+14, color=\"purple\", lw=1, ls='-', marker='o', markersize=4)\n",
    "ax.plot(x, x+15, color=\"purple\", lw=1, ls='-', marker='o', markersize=8, markerfacecolor=\"red\")\n",
    "ax.plot(x, x+16, color=\"purple\", lw=1, ls='-', marker='s', markersize=8, \n",
    "        markerfacecolor=\"yellow\", markeredgewidth=2, markeredgecolor=\"blue\")\n",
    "plt.show()"
   ]
  },
  {
   "attachments": {},
   "cell_type": "markdown",
   "metadata": {},
   "source": [
    "# Vzhled osy"
   ]
  },
  {
   "cell_type": "markdown",
   "metadata": {},
   "source": [
    "### Umístění značek a jejich popisků"
   ]
  },
  {
   "cell_type": "markdown",
   "metadata": {},
   "source": [
    "K umístění značek slouží metody `set_xticks` a `set_yticks`, jimž jako argument předáme seznam všech hodnot, kde má být značka umístěna. Pomocí `set_xticklabels` a `set_yticklabels` pak můžeme pro každou značku specifikovat vlastní popisek (pokud nám výchozí nedostačuje)."
   ]
  },
  {
   "cell_type": "code",
   "execution_count": null,
   "metadata": {},
   "outputs": [],
   "source": [
    "fig, ax = plt.subplots(figsize=(10, 4))\n",
    "\n",
    "ax.plot(x, x**2, x, x**3, lw=2)\n",
    "\n",
    "ax.set_xticks([1, 2, 3, 4, 5])\n",
    "ax.set_xticklabels([r'$\\alpha$', r'$\\beta$', r'$\\gamma$', r'$\\delta$', r'$\\epsilon$'], fontsize=18)\n",
    "\n",
    "yticks = [0, 50, 100, 150]\n",
    "ax.set_yticks(yticks)\n",
    "ax.set_yticklabels([\"$%.1f$\" % y for y in yticks], fontsize=18)\n",
    "plt.show()"
   ]
  },
  {
   "cell_type": "markdown",
   "metadata": {},
   "source": [
    "Více detailů můžete nalézt zde: http://matplotlib.org/api/ticker_api.html."
   ]
  },
  {
   "attachments": {},
   "cell_type": "markdown",
   "metadata": {},
   "source": [
    "# Další prvky grafu"
   ]
  },
  {
   "attachments": {},
   "cell_type": "markdown",
   "metadata": {},
   "source": [
    "## Legenda"
   ]
  },
  {
   "attachments": {},
   "cell_type": "markdown",
   "metadata": {},
   "source": [
    "Pokud chceme do grafu přidat legendu, měli bychom každé datové sadě přiřadit název pomocí keyword argumentu `label`. \n",
    "Potom ještě musíme metodou `legend` legendu pro danou souřadnicovou soustavu zobrazit."
   ]
  },
  {
   "cell_type": "code",
   "execution_count": null,
   "metadata": {},
   "outputs": [],
   "source": [
    "fig = plt.figure()\n",
    "ax = fig.add_axes((0,0,1,1))\n",
    "ax.plot(x, x**2, label=\"krivka1\")\n",
    "ax.plot(x, x**3, label=\"krivka2\")\n",
    "ax.legend()\n",
    "\n",
    "plt.show()"
   ]
  },
  {
   "attachments": {},
   "cell_type": "markdown",
   "metadata": {},
   "source": [
    "Lze to i najednou přímo v příkazu `legend`, je si ale třeba dát pozor na pořadí názvů."
   ]
  },
  {
   "cell_type": "code",
   "execution_count": null,
   "metadata": {},
   "outputs": [],
   "source": [
    "fig = plt.figure()\n",
    "ax = fig.add_axes((0, 0, 1, 1))\n",
    "ax.plot(x, x**2)\n",
    "ax.plot(x, x**3)\n",
    "ax.legend(labels=('krivka1', 'krivka2'), loc='best')\n",
    "\n",
    "plt.show()"
   ]
  },
  {
   "attachments": {},
   "cell_type": "markdown",
   "metadata": {},
   "source": [
    "Metoda `legend` přijímá keyword argument `loc`, který vyjadřuje, kam má legenda přijít. Hodnoty parametru jsou číselné a vybírají se z několika předdefinovaných hodnot. Uvádíme některé nejčastější. Více viz [dokumentace](https://matplotlib.org/2.0.2/users/legend_guide.html#legend-location)\n",
    "\n",
    "Přehled různých hodnot, které může parametr `loc` přijímat:\n",
    "\n",
    "- `'best'`: Matplotlib automaticky vybere umístění legendy, kde by měla co nejméně zasahovat do datových bodů (výchozí hodnota).\n",
    "- `'upper right'`: Umístí legendu do pravého horního rohu grafu.\n",
    "- `'upper left'`: Umístí legendu do levého horního rohu grafu.\n",
    "- `'lower left'`: Umístí legendu do levého dolního rohu grafu.\n",
    "- `'lower right'`: Umístí legendu do pravého dolního rohu grafu.\n",
    "- `'right'`: Umístí legendu na pravý okraj grafu, vedle datové oblasti.\n",
    "- `'center left'`: Umístí legendu uprostřed na levém okraji grafu, vedle datové oblasti.\n",
    "- `'center right'`: Umístí legendu uprostřed na pravém okraji grafu, vedle datové oblasti.\n",
    "- `'lower center'`: Umístí legendu do spodní části grafu, uprostřed.\n",
    "- `'upper center'`: Umístí legendu do horní části grafu, uprostřed.\n",
    "- `'center'`: Umístí legendu přímo do středu grafu.\n",
    "\n",
    "Kromě těchto předdefinovaných umístění můžete legendu umístit také specifikacíem dvojice čísel reprezentujících relativní souřadnice v rámci osy grafu, kde `(0, 0)` je dolní levý roh a `(1, 1)` je horní pravý roh. Například `loc=(0.5, 0.5)` umístí legendu přímo do středu grafu."
   ]
  },
  {
   "cell_type": "code",
   "execution_count": null,
   "metadata": {},
   "outputs": [],
   "source": [
    "# Hodnoty argumentu loc\n",
    "fig = plt.figure()\n",
    "ax = fig.add_axes((0, 0, 1, 1))\n",
    "ax.plot(x, x**2, label=\"krivka1\")\n",
    "ax.plot(x, x**3, label=\"krivka2\")\n",
    "\n",
    "ax.legend(loc=(1,0))\n",
    "plt.show()"
   ]
  },
  {
   "attachments": {},
   "cell_type": "markdown",
   "metadata": {},
   "source": [
    "## Mřížka"
   ]
  },
  {
   "cell_type": "markdown",
   "metadata": {},
   "source": [
    "Zobrazení mřížky se nastavuje metodou `grid`. Její nejjednodušší varianta přijímá jeden booleovský argument a matplotlib se postará o rozumné výchozí vlasnosti. Nicméně můžeme pomocí keyword argumentů vzhled mřížky specifikovat detailněji:"
   ]
  },
  {
   "cell_type": "code",
   "execution_count": null,
   "metadata": {},
   "outputs": [],
   "source": [
    "fig, axes = plt.subplots(1, 2, figsize=(10,3))\n",
    "\n",
    "# Nastavení výchozí mřížky\n",
    "axes[0].plot(x, x**2, x, x**3, lw=2)\n",
    "axes[0].grid(True)\n",
    "\n",
    "# Nastavení výchozí mřížky s vlastnostmi\n",
    "# (alpha vyjadřuje průhlednost - 0=zcela průhledná, 1=zcela neprůhledná)\n",
    "axes[1].plot(x, x**2, x, x**3, lw=2)\n",
    "axes[1].grid(color='b', alpha=0.5, linestyle='dashed', linewidth=0.5)"
   ]
  },
  {
   "attachments": {},
   "cell_type": "markdown",
   "metadata": {},
   "source": [
    "## Libovolné textové poznámky"
   ]
  },
  {
   "attachments": {},
   "cell_type": "markdown",
   "metadata": {},
   "source": [
    "Pomocí metody `text` lze do grafů (třídy `Axes`) vkládat další poznámky nezávisle na osách. Pozice se udává v souřadnicích samotného grafu, nikoliv v relativních souřadnicích grafu. Opět můžeme použít $\\LaTeX \\text{ovou}$ syntaxi.\n",
    "\n",
    "**Pozor na souřadnice, jsou vztaženy k velikosti axes.**"
   ]
  },
  {
   "cell_type": "code",
   "execution_count": null,
   "metadata": {},
   "outputs": [],
   "source": [
    "fig, ax = plt.subplots()\n",
    "\n",
    "xx = np.linspace(-.5, 1.1, 20)\n",
    "ax.plot(xx, xx**2, xx, xx**3)\n",
    "ax.grid(True)\n",
    "\n",
    "ax.text(0.15, 0.2, r\"$y=x^2$\", fontsize=20, color=\"blue\")\n",
    "ax.text(0.65, 0.1, r\"$y=x^3$\", fontsize=20, color=\"green\")\n",
    "ax.text(0, 0, r\"[0,0]\", fontsize=20, color=\"k\")\n",
    "ax.text(1, 1, r\"[1,1]\", fontsize=20, color=\"k\")\n"
   ]
  }
 ],
 "metadata": {
  "kernelspec": {
   "display_name": "Python 3",
   "language": "python",
   "name": "python3"
  },
  "language_info": {
   "codemirror_mode": {
    "name": "ipython",
    "version": 3
   },
   "file_extension": ".py",
   "mimetype": "text/x-python",
   "name": "python",
   "nbconvert_exporter": "python",
   "pygments_lexer": "ipython3",
   "version": "3.11.8"
  }
 },
 "nbformat": 4,
 "nbformat_minor": 4
}
