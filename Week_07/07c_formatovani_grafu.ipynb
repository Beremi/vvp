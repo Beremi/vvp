{
 "cells": [
  {
   "cell_type": "code",
   "execution_count": null,
   "metadata": {},
   "outputs": [],
   "source": [
    "# Importujeme základní vykreslovací modul\n",
    "import matplotlib.pyplot as plt \n",
    "\n",
    "# A samozřejmě numpy\n",
    "import numpy as np\n",
    "\n",
    "# Občas se hodí i matematika\n",
    "import math"
   ]
  },
  {
   "attachments": {},
   "cell_type": "markdown",
   "metadata": {},
   "source": [
    "# Formátování a úpravy grafů"
   ]
  },
  {
   "attachments": {},
   "cell_type": "markdown",
   "metadata": {},
   "source": [
    "## Rozsah grafu"
   ]
  },
  {
   "cell_type": "markdown",
   "metadata": {},
   "source": [
    "Rozsahy (část plochy zobrazené v grafu) se nastavují pro každou osu souřadnic (objekt třídy `Axes`) pomocí metod `set_xlim` a `set_ylim`.\n"
   ]
  },
  {
   "cell_type": "code",
   "execution_count": null,
   "metadata": {},
   "outputs": [],
   "source": [
    "x = np.linspace(-1, 5, 50)\n",
    "\n",
    "fig, axes = plt.subplots(1, 3, figsize=(12, 4)) \n",
    "\n",
    "axes[0].plot(x, x**2, x, x**3)\n",
    "axes[0].set_title(\"výchozí rozsah\")\n",
    "\n",
    "axes[1].plot(x, x**2, x, x**3)\n",
    "axes[1].axis('tight')\n",
    "axes[1].set_title(\"těsný rozsah\")\n",
    "\n",
    "axes[2].plot(x, x**2, x, x**3)\n",
    "axes[2].set_ylim([0, 60])\n",
    "axes[2].set_xlim([2, 5])\n",
    "axes[2].set_title(\"vlastní rozsah\")\n",
    "plt.show()"
   ]
  },
  {
   "cell_type": "markdown",
   "metadata": {},
   "source": [
    "Opět, pro jeden graf lze udělat přímo z modulu `plt`:"
   ]
  },
  {
   "cell_type": "code",
   "execution_count": null,
   "metadata": {},
   "outputs": [],
   "source": [
    "x = np.linspace(-1, 5, 50)\n",
    "\n",
    "plt.plot(x, x**2, x, x**3)\n",
    "plt.title(\"vlastní rozsah\")\n",
    "plt.ylim([0, 60])\n",
    "plt.xlim([2, 5])\n",
    "plt.show()"
   ]
  },
  {
   "attachments": {},
   "cell_type": "markdown",
   "metadata": {},
   "source": [
    "# Logaritmická škála"
   ]
  },
  {
   "cell_type": "markdown",
   "metadata": {},
   "source": [
    "K nastavení logaritmické škály slouží metody `set_xscale` a `set_yscale`."
   ]
  },
  {
   "cell_type": "code",
   "execution_count": null,
   "metadata": {},
   "outputs": [],
   "source": [
    "fig, ax = plt.subplots(1, 1) \n",
    "\n",
    "ax.plot(x, x**2 - 1, x, x**3 + 1)\n",
    "ax.set_yscale(\"log\")\n",
    "# ax.set_xscale(\"log\")\n",
    "plt.show()"
   ]
  },
  {
   "cell_type": "code",
   "execution_count": null,
   "metadata": {},
   "outputs": [],
   "source": [
    "fig, ax = plt.subplots(1, 1)\n",
    "\n",
    "ax.plot(x, x**2 - 1, x, x**3 + 1)\n",
    "# ax.set_yscale(\"log\")\n",
    "ax.set_xscale(\"log\")\n",
    "plt.show()"
   ]
  },
  {
   "cell_type": "code",
   "execution_count": null,
   "metadata": {},
   "outputs": [],
   "source": [
    "fig, ax = plt.subplots(1, 1)\n",
    "\n",
    "ax.plot(x, x**2 - 1, x, x**3 + 1)\n",
    "ax.set_yscale(\"log\")\n",
    "ax.set_xscale(\"log\")\n",
    "plt.show()"
   ]
  },
  {
   "cell_type": "markdown",
   "metadata": {},
   "source": [
    "A opět, pro jeden graf lze udělat přímo z modulu `plt`:"
   ]
  },
  {
   "cell_type": "code",
   "execution_count": null,
   "metadata": {},
   "outputs": [],
   "source": [
    "plt.plot(x, x**2 - 1, x, x**3 + 1)\n",
    "plt.yscale(\"log\")\n",
    "plt.xscale(\"log\")\n",
    "plt.show()"
   ]
  },
  {
   "cell_type": "markdown",
   "metadata": {},
   "source": [
    "### Velikost obrázku, rozlišení"
   ]
  },
  {
   "cell_type": "markdown",
   "metadata": {},
   "source": [
    "Ve chvíli, kdy vytváříme graf, můžeme mu nastavit velikost a rozlišení. Jupyter Notebook si s tím zachází lehce po svém (a ručí vlastně akorát za poměr stran), ale exportujete-li obrázky do vektorových či bitmapových formátů, můžete specifikovat přesnou velikost v palcích (`figsize`) a rozlišení v dpi neboli bodech na palec (`dpi`). Oba argumenty se při vytváření obrázku předávají funkci `figure` jako \"keyword\" argumenty:"
   ]
  },
  {
   "cell_type": "code",
   "execution_count": null,
   "metadata": {},
   "outputs": [],
   "source": [
    "# Obrázek o velikost 4x1 palce s rozlišením 100 dpi\n",
    "fig = plt.figure(figsize=(4, 1), dpi=100)\n",
    "axes = fig.add_axes((0, 0, 1, 1))\n",
    "plt.show()"
   ]
  },
  {
   "cell_type": "markdown",
   "metadata": {},
   "source": [
    "Argumenty lze předat i správcům rozložením, jako je např. fuknce `subplots`."
   ]
  },
  {
   "cell_type": "code",
   "execution_count": null,
   "metadata": {},
   "outputs": [],
   "source": [
    "# Dva grafy pod sebou, které dohromady zaujímají obdélník 4x7 palců\n",
    "fig, axes = plt.subplots(2, 1, figsize=(4, 7), dpi=100)\n",
    "plt.show()"
   ]
  },
  {
   "attachments": {},
   "cell_type": "markdown",
   "metadata": {},
   "source": [
    "# Formátování textu"
   ]
  },
  {
   "attachments": {},
   "cell_type": "markdown",
   "metadata": {},
   "source": [
    "Každý textový objekt (popisek osy, legenda, titulek grafu, poznámky, ..., zkrátka instance třídy `Text`) má spoustu parametrů, které lze specifikovat. Celý výčet vlastností najdete v dokumentaci: [Zde](http://matplotlib.org/api/artist_api.html).\n",
    "\n",
    "Pro nás budou (kromě barev) podstatné parametry `fontsize` (velikost v bodech) a `family` (název nebo druh fontu). `family` akceptuje jméno existujícího fontu nebo název kategorie:\n",
    "\n",
    "* `serif` - patkové písmo\n",
    "* `sans-serif` - bezpatkové písmo (výchozí)\n",
    "* `monospace` - písmo s pevnou šířkou\n",
    "* ... jsou i další, viz dokumentace [Zde](http://matplotlib.org/users/customizing.html)\n",
    "\n",
    "Pomocí `style=\"italic\"` můžeme nastavit kurzívu, pomocí `weight=\"bold\"` tučné písmo (tlouštěk je hned několik, viz dokumentace).\n",
    "\n"
   ]
  },
  {
   "cell_type": "code",
   "execution_count": null,
   "metadata": {},
   "outputs": [],
   "source": [
    "fig, ax = plt.subplots()\n",
    "\n",
    "ax.plot(x, np.sin(x))\n",
    "ax.set_xlabel('monospace (+ bold)', family=\"monospace\", fontsize=24, weight=\"bold\")\n",
    "ax.set_ylabel('sans-serif', family=\"sans-serif\", fontsize=24)\n",
    "ax.set_title('serif (+ italic)', family=\"serif\", fontsize=24, style=\"italic\")\n",
    "plt.show()"
   ]
  },
  {
   "attachments": {},
   "cell_type": "markdown",
   "metadata": {},
   "source": [
    "# Podpora $\\LaTeX \\text{u}$"
   ]
  },
  {
   "attachments": {},
   "cell_type": "markdown",
   "metadata": {},
   "source": [
    "Matplotlib nabízí výbornou podporu $\\LaTeX \\text{u}$. Jakýkoliv text můžeme (ostatně, totéž nabízí i Jupyter Notebook!) obklopit dvěma znaky dolaru a matplotlibu tak řekneme, že jej má interpretovat jako Latexový zdroják. Například napíšeme `\"$y=x^3$\"` a dostaneme $y=x^3$. To můžeme použít v `set_xlabel`, `set_ylabel`, `set_title` i kdekoliv jinde.\n",
    "\n",
    "Pokud ale chceme vkládat příkazy LaTeXu, které začínají na zpětné lomítko `\\`, musíme si dát pozor, abychom ho správně vložili. Python totiž standardně zpětné lomítko slouží pro escape sekvence. Musíme tedy buď všechna lomítka zdvojit, nebo použít tzv. raw stringy (\"syrové řetězce\"), které se píší s `r` před uvozovkami a escape sekvence ignorují: `r\"\\alpha\"` nám vyprodukuje $\\alpha$."
   ]
  },
  {
   "cell_type": "code",
   "execution_count": null,
   "metadata": {},
   "outputs": [],
   "source": [
    "text1 = \"\\\\alpha = \\\\frac{\\\\beta}{\\\\gamma}\"\n",
    "text2 = r\"\\alpha = \\frac{\\beta}{\\gamma}\"\n",
    "text3 = \"\\alpha = \\frac{\\beta}{\\\\gamma}\"\n",
    "print(text1)\n",
    "print(text2)\n",
    "print(text3)"
   ]
  },
  {
   "cell_type": "code",
   "execution_count": null,
   "metadata": {},
   "outputs": [],
   "source": [
    "fig, ax = plt.subplots()\n",
    "\n",
    "ax.plot(x, math.pi * x**2, label=r\"$y = \\pi r^2$\")\n",
    "ax.plot(x, 1.0 / 3 * math.pi * x**3, label=r\"$y = \\frac{4}{3}\\pi r^3$\")\n",
    "ax.set_xlabel(r'$r$', fontsize=18)\n",
    "ax.set_ylabel(r'$y$', fontsize=18)\n",
    "ax.set_title('Obsah kruhu a objem koule', family=\"serif\")\n",
    "ax.legend(loc=2);     # Použití legendy viz dále\n",
    "plt.show()"
   ]
  },
  {
   "cell_type": "markdown",
   "metadata": {},
   "source": [
    "Pokud máme v systému $\\LaTeX$ nainstalován můžeme nechat sazbu přímo na něm. Toho docílíme nastavením `text.usetex = True` v konfiguraci matplotlibu:\n",
    "- `plt.rcParams['text.usetex'] = True`\n",
    "- případně `plt.rc('text', usetex=True)`"
   ]
  },
  {
   "cell_type": "code",
   "execution_count": null,
   "metadata": {},
   "outputs": [],
   "source": [
    "fig, ax = plt.subplots()\n",
    "\n",
    "plt.rc('text', usetex=True)\n",
    "\n",
    "ax.plot(x, math.pi * x**2, label=r\"$y = \\pi r^2$\")\n",
    "ax.plot(x, 1.0 / 3 * math.pi * x**3, label=r\"$y = \\frac{4}{3}\\pi r^3$\")\n",
    "ax.set_xlabel(r'$r$', fontsize=18)\n",
    "ax.set_ylabel(r'$y$', fontsize=18)\n",
    "ax.set_title('Obsah kruhu a objem koule', family=\"serif\")\n",
    "ax.legend(loc=2)     # Použití legendy viz dále\n",
    "plt.show()"
   ]
  },
  {
   "cell_type": "markdown",
   "metadata": {},
   "source": [
    "## Další globální parametry pomocí `plt.rc`\n",
    "\n",
    "- `font.family` - Rodina písma pro text v grafech. Například `'serif'`, `'sans-serif'`, `'monospace'`.\n",
    "- `font.size` - Velikost písma použitého pro text v grafech, vyjádřená v bodech.\n",
    "- `lines.linewidth` - Šířka čáry v grafech.\n",
    "- `lines.linestyle` - Styl čáry, např. `'-'`, `'--'`, `'-.'`, `':'`.\n",
    "- `figure.figsize` - Výchozí velikost obrázku v palcích (šířka, výška).\n",
    "- `figure.dpi` - Rozlišení obrázku v bodech na palec (DPI).\n",
    "- `axes.titlesize` - Velikost písma pro titulky os.\n",
    "- `axes.labelsize` - Velikost písma pro popisky os.\n",
    "- `axes.labelcolor` - Barva popisků os.\n",
    "- `axes.facecolor` - Barva pozadí oblasti os.\n",
    "- `xtick.labelsize` - Velikost písma pro popisky na x-ové ose.\n",
    "- `ytick.labelsize` - Velikost písma pro popisky na y-ové ose.\n",
    "- `xtick.color` - Barva popisků a značek na x-ové ose.\n",
    "- `ytick.color` - Barva popisků a značek na y-ové ose.\n",
    "- `legend.fontsize` - Velikost písma pro legendu.\n",
    "- `legend.loc` - Umístění legendy, např. `'upper right'`, `'upper left'`, `'lower left'`, `'lower right'`.\n",
    "- `grid.color` - Barva mřížky v grafech.\n",
    "- `grid.linestyle` - Styl čáry mřížky, např. `'-'`, `'--'`, `'-.'`, `':'`.\n",
    "- `savefig.dpi` - Rozlišení ukládaných obrázků v DPI.\n",
    "- `savefig.format` - Výchozí formát pro ukládání obrázků, např. `'png'`, `'pdf'`, `'svg'`, `'eps'`.\n"
   ]
  },
  {
   "cell_type": "code",
   "execution_count": null,
   "metadata": {},
   "outputs": [],
   "source": [
    "import matplotlib.pyplot as plt\n",
    "import numpy as np\n",
    "\n",
    "# Nastavení fontu\n",
    "plt.rc('font', family='serif', size=12)  # Rodina a velikost písma\n",
    "\n",
    "# Nastavení čar\n",
    "plt.rc('lines', linewidth=2, linestyle=':')  # Šířka a styl čáry\n",
    "\n",
    "# Nastavení obrázku\n",
    "plt.rc('figure', figsize=(10, 6), dpi=100)  # Velikost a rozlišení obrázku\n",
    "\n",
    "# Nastavení os\n",
    "plt.rc('axes', titlesize=14, labelsize=12, labelcolor='green', facecolor='lightgray')  # Titulky a popisky os\n",
    "\n",
    "# Nastavení popisků na osách\n",
    "plt.rc('xtick', labelsize=10, color='blue')  # Velikost a barva popisků na x-ové ose\n",
    "plt.rc('ytick', labelsize=10, color='blue')  # Velikost a barva popisků na y-ové ose\n",
    "\n",
    "# Nastavení legendy\n",
    "plt.rc('legend', fontsize=12, loc='upper left')  # Velikost a umístění legendy\n",
    "\n",
    "# Nastavení mřížky\n",
    "plt.rc('grid', color='gray', linestyle='--')  # Barva a styl čáry mřížky\n",
    "\n",
    "# Nastavení ukládání obrázku\n",
    "plt.rc('savefig', dpi=200, format='png')  # Rozlišení a formát ukládaných obrázků\n",
    "\n",
    "# Generování dat pro plot\n",
    "x = np.linspace(0, 10, 100)\n",
    "y = np.sin(x)\n",
    "\n",
    "# Vytvoření plotu\n",
    "plt.plot(x, y, label='sin(x)')\n",
    "plt.title('Příklad grafu')  # Titulek\n",
    "plt.xlabel('x')  # Popisek x-ové osy\n",
    "plt.ylabel('y')  # Popisek y-ové osy\n",
    "plt.grid(True)  # Zobrazení mřížky\n",
    "plt.legend()  # Zobrazení legendy\n",
    "plt.savefig('customized_plot.png')  # Uložení grafu\n",
    "plt.show()  # Zobrazení grafu"
   ]
  },
  {
   "cell_type": "code",
   "execution_count": null,
   "metadata": {},
   "outputs": [],
   "source": [
    "# Vytvoření plotu\n",
    "plt.plot(x, np.cos(x)**2, label=r'$\\cos(x)^{2}$')\n",
    "plt.plot(x, np.sin(x)**2, label=r'$\\sin(x)^{2}$')\n",
    "plt.title('Příklad grafu')  # Titulek\n",
    "plt.xlabel('x')  # Popisek x-ové osy\n",
    "plt.ylabel('y')  # Popisek y-ové osy\n",
    "plt.grid(True)  # Zobrazení mřížky\n",
    "plt.legend()  # Zobrazení legendy\n",
    "plt.savefig('customized_plot.png')  # Uložení grafu\n",
    "plt.show()  # Zobrazení grafu"
   ]
  }
 ],
 "metadata": {
  "kernelspec": {
   "display_name": "Python 3",
   "language": "python",
   "name": "python3"
  },
  "language_info": {
   "codemirror_mode": {
    "name": "ipython",
    "version": 3
   },
   "file_extension": ".py",
   "mimetype": "text/x-python",
   "name": "python",
   "nbconvert_exporter": "python",
   "pygments_lexer": "ipython3",
   "version": "3.13.2"
  }
 },
 "nbformat": 4,
 "nbformat_minor": 4
}
