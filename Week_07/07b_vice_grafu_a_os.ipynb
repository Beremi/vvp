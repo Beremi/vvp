{
 "cells": [
  {
   "cell_type": "code",
   "execution_count": null,
   "metadata": {},
   "outputs": [],
   "source": [
    "# Importujeme základní vykreslovací modul\n",
    "import matplotlib.pyplot as plt \n",
    "\n",
    "# A samozřejmě numpy\n",
    "import numpy as np\n",
    "\n",
    "# Občas se hodí i matematika\n",
    "import math"
   ]
  },
  {
   "attachments": {},
   "cell_type": "markdown",
   "metadata": {},
   "source": [
    "# Více grafů v jednom obrázku"
   ]
  },
  {
   "attachments": {},
   "cell_type": "markdown",
   "metadata": {},
   "source": [
    "## Přesné umístění"
   ]
  },
  {
   "cell_type": "markdown",
   "metadata": {},
   "source": [
    "Na vytvoření více grafů v jednom obrázku není nic magického. Prostě jen zavoláme několikrát metodu `add_axes` objektu `Figure`."
   ]
  },
  {
   "cell_type": "code",
   "execution_count": null,
   "metadata": {},
   "outputs": [],
   "source": [
    "# Vytvoříme jednoduchá data\n",
    "# (50 bodů rovnoměrně rozmístěných na úseku -1,5)\n",
    "x = np.linspace(-1, 5, 50)\n",
    "# jejich druhá mocnina (tj. parabola)\n",
    "y = x ** 2\n",
    "\n",
    "fig = plt.figure()\n",
    "\n",
    "axes1 = fig.add_axes((0.1, 0.1, 0.8, 0.8)) # Hlavní\n",
    "axes2 = fig.add_axes((0.2, 0.5, 0.4, 0.3)) # Menší, vlevo nahoře\n",
    "\n",
    "# Hlavní graf\n",
    "axes1.plot(x, y, 'r')\n",
    "axes1.set_xlabel('x')\n",
    "axes1.set_ylabel('y')\n",
    "axes1.set_title('hlavni')\n",
    "\n",
    "# Vnořený graf\n",
    "axes2.plot(y, x, 'g')\n",
    "axes2.set_xlabel('y')\n",
    "axes2.set_ylabel('x')\n",
    "axes2.set_title('detail')"
   ]
  },
  {
   "cell_type": "markdown",
   "metadata": {},
   "source": [
    "### Rozložení navržené matplotlibem"
   ]
  },
  {
   "cell_type": "markdown",
   "metadata": {},
   "source": [
    "Matplotlib nabízí různé \"správce rozložení\", které se starají o rozložení více grafů do jednoho obrázku. Nejjednodušší z nich je `subplots`."
   ]
  },
  {
   "cell_type": "code",
   "execution_count": null,
   "metadata": {},
   "outputs": [],
   "source": [
    "# Vytvoříme 1x3 podgrafy v širokém grafu.\n",
    "fig, axes = plt.subplots(nrows=1, ncols=3, figsize=(12,3))\n",
    "\n",
    "# pokud máme k dispozici LaTeX, můžeme jej použít pro hezčí vysázení titulku grafu\n",
    "# plt.rcParams['text.usetex'] = True\n",
    "\n",
    "for i, ax in enumerate(axes):\n",
    "    # V numpy vytvoříme pravidelně rozmístěné hodnoty osy x\n",
    "    x = np.linspace(0, 5, 20)\n",
    "    \n",
    "    # Umocníme na \n",
    "    power = (2. ** (2*i - 1))\n",
    "    \n",
    "    # Vypočítáme hodnoty y\n",
    "    y = x ** power\n",
    "    \n",
    "    ax.plot(x, y)\n",
    "    ax.set_xlabel('x')\n",
    "    ax.set_ylabel('y')\n",
    "    \n",
    "    # Použijeme LaTeXovou syntax pro správné vysázení titulku grafu.\n",
    "    ax.set_title(f\"$x^{{{power}}}$\")\n",
    "    \n",
    "# Opravíme rozložení, aby nám grafy nelezly přes sebe.\n",
    "fig.tight_layout()"
   ]
  },
  {
   "cell_type": "markdown",
   "metadata": {},
   "source": [
    "### Komplikovanější rozložení"
   ]
  },
  {
   "cell_type": "markdown",
   "metadata": {},
   "source": [
    "Pro vytvoření ještě komplikovanějších rozložení slouží metody `gridspec` a `subplot2grid`, viz http://matplotlib.org/users/gridspec.html."
   ]
  },
  {
   "cell_type": "code",
   "execution_count": null,
   "metadata": {},
   "outputs": [],
   "source": [
    "# Inspirující (a zároveň odstrašující) ukázka\n",
    "fig = plt.figure()\n",
    "\n",
    "# shape=(3,3) - 3 řádky, 3 sloupce\n",
    "# loc=(0,0) - začínáme v levém horním rohu\n",
    "# colspan=3 - zabíráme 3 sloupce\n",
    "# rowspan=2 - zabíráme 2 řádky\n",
    "ax1 = plt.subplot2grid(shape=(3,3), loc=(0,0), colspan=3)\n",
    "ax2 = plt.subplot2grid((3,3), (1,0), colspan=2)\n",
    "ax3 = plt.subplot2grid((3,3), (1,2), rowspan=2)\n",
    "ax4 = plt.subplot2grid((3,3), (2,0))\n",
    "ax5 = plt.subplot2grid((3,3), (2,1))\n",
    "fig.tight_layout()"
   ]
  },
  {
   "attachments": {},
   "cell_type": "markdown",
   "metadata": {},
   "source": [
    "# Dvě různé osy v jednom grafu"
   ]
  },
  {
   "cell_type": "markdown",
   "metadata": {},
   "source": [
    "Pokud chceme v jednom grafu mít pro dvě různé datové sady dvě různé osy *x* nebo dvě různé osy *y*, můžeme použít metody `twinx` a `twiny` třídy `Axes`, které vytvoří novou soustavu souřadnic se sdílenou osou *x*, potažmo *y*."
   ]
  },
  {
   "cell_type": "code",
   "execution_count": null,
   "metadata": {},
   "outputs": [],
   "source": [
    "fig, ax1 = plt.subplots()\n",
    "\n",
    "ax1.plot(x, x**2, linewidth=2, color=\"blue\")\n",
    "ax1.set_ylabel(\"area $(m^2)$\", fontsize=15, color=\"blue\")\n",
    "    \n",
    "ax2 = ax1.twinx() # Kopie soustavy souřadnic, sdílející osu x\n",
    "ax2.plot(x, x**3, linewidth=2, color=\"red\")\n",
    "ax2.set_ylabel(\"volume $(m^3)$\", fontsize=15, color=\"red\")"
   ]
  },
  {
   "cell_type": "code",
   "execution_count": null,
   "metadata": {},
   "outputs": [],
   "source": [
    "# example of a twiny plot\n",
    "fig, ax1 = plt.subplots()\n",
    "\n",
    "ax1.plot(x, x**2, linewidth=2, color=\"blue\")\n",
    "ax1.set_xlabel(\"quadratic\", fontsize=15, color=\"blue\")\n",
    "    \n",
    "ax2 = ax1.twiny() # Kopie soustavy souřadnic, sdílející osu y\n",
    "ax2.plot(x*5, x*5, linewidth=2, color=\"red\")\n",
    "ax2.set_xlabel(\"linear\", fontsize=15, color=\"red\")\n",
    "\n"
   ]
  }
 ],
 "metadata": {
  "kernelspec": {
   "display_name": "Python 3",
   "language": "python",
   "name": "python3"
  },
  "language_info": {
   "codemirror_mode": {
    "name": "ipython",
    "version": 3
   },
   "file_extension": ".py",
   "mimetype": "text/x-python",
   "name": "python",
   "nbconvert_exporter": "python",
   "pygments_lexer": "ipython3",
   "version": "3.13.2"
  }
 },
 "nbformat": 4,
 "nbformat_minor": 4
}
