{
 "cells": [
  {
   "attachments": {},
   "cell_type": "markdown",
   "metadata": {},
   "source": [
    "# Grafy v Pythonu - Matplotlib"
   ]
  },
  {
   "cell_type": "markdown",
   "metadata": {},
   "source": [
    "### Co matplotlib umí?"
   ]
  },
  {
   "attachments": {},
   "cell_type": "markdown",
   "metadata": {},
   "source": [
    "* Vytvářet 2D a 3D grafy.\n",
    "* Umožňuje vytvářet popisky v $\\LaTeX$ \n",
    "* Kontrolovat nastavení všech grafických prvků v grafu. \n",
    "* Kvalitní grafický výstup, včetně formátů PNG, PDF, SVG, EPS.\n",
    "* GUI pro interaktivní práci s grafy (zoomování, posouvání, ...).\n",
    "\n",
    "Jedna z vlastností matplotlibu, která si zaslouží zdůraznění a která velice zjednodušuje vytváření vědeckých publikací, je možnost ovládat všechny aspekty a detaily grafu z kódu. Díky tomu můžete ihned zopakovat celý proces vytváření grafu s pozměněnými daty bez nutnosti jít znovu krok po kroku.\n",
    "\n",
    "Více informací na stránkách projektu: http://matplotlib.org/"
   ]
  },
  {
   "cell_type": "code",
   "execution_count": null,
   "metadata": {},
   "outputs": [],
   "source": [
    "# Importujeme základní vykreslovací modul\n",
    "import matplotlib.pyplot as plt \n",
    "\n",
    "# A samozřejmě numpy\n",
    "import numpy as np\n",
    "\n",
    "# Občas se hodí i matematika\n",
    "import math"
   ]
  },
  {
   "cell_type": "markdown",
   "metadata": {},
   "source": [
    "# Jednoduché grafy"
   ]
  },
  {
   "cell_type": "markdown",
   "metadata": {},
   "source": [
    "### Objekty a třídy v matplolib"
   ]
  },
  {
   "attachments": {},
   "cell_type": "markdown",
   "metadata": {},
   "source": [
    "Každému prvku grafu připadá v objektovém rozhraní matplotlibu nějaký objekt:\n",
    "\n",
    "**Figure** - objekt reprezentující celý obrázek (může obsahovat více různých grafů). Standardně se vytváří voláním `plt.figure()`, což není konstruktor v pravém slova smyslu (funkce vrací nový objekt typu `Figure`, ale dělá toho ještě mnohem více).\n",
    "\n",
    "**Axes** - objekt reprezentující nějakou soustavu souřadnic (jeden obdélník), do níž lze vykreslovat data. Obvykle se vytváří voláním metody `add_axes` na existujícím objektu `Figure`. Jiné způsoby si popíšeme dále.\n",
    "\n",
    "**Line2D, ...** - každý typ grafu má vlastní třídu. \n",
    "\n",
    "**Text** - objekt reprezentující popisky všeho druhu."
   ]
  },
  {
   "attachments": {},
   "cell_type": "markdown",
   "metadata": {},
   "source": [
    "# Rozeberme si nejjednodušší graf\n"
   ]
  },
  {
   "cell_type": "code",
   "execution_count": null,
   "metadata": {},
   "outputs": [],
   "source": [
    "# Vytvoříme jednoduchá data\n",
    "# (50 bodů rovnoměrně rozmístěných na úseku -1,5)\n",
    "x = np.linspace(-1, 5, 50)\n",
    "# jejich druhá mocnina (tj. parabola)\n",
    "y = x ** 2\n",
    "\n",
    "# nový objekt Figure = prázdný obrázek\n",
    "fig = plt.figure()\n",
    "\n",
    "# U add_axes musíme zadat, jakou část obrázku zabere čtverec se souřadnicemi\n",
    "# zleva, odspodu, šířka, výška (v relativních hodnotách 0 až 1)\n",
    "axes = fig.add_axes([0.1, 0.1, 0.8, 0.8]) \n",
    "\n",
    "# Nyní vykreslíme data\n",
    "graf_funkce = axes.plot(x, y)\n",
    "# a zobrazíme obrázek\n",
    "plt.show()"
   ]
  },
  {
   "cell_type": "code",
   "execution_count": null,
   "metadata": {},
   "outputs": [],
   "source": [
    "# podívejme se na jednotlivé objekty\n",
    "print(fig)\n",
    "print(axes)\n",
    "print(graf_funkce)"
   ]
  },
  {
   "attachments": {},
   "cell_type": "markdown",
   "metadata": {},
   "source": [
    "Takovýto graf by šel samozřejmě vykreslit i jediným příkazem `plt.plot(x, y)`, který vytvoří nový objekt `Figure` a v něm nový objekt `Axes` automaticky."
   ]
  },
  {
   "cell_type": "code",
   "execution_count": null,
   "metadata": {},
   "outputs": [],
   "source": [
    "plt.plot(x, y)"
   ]
  },
  {
   "cell_type": "markdown",
   "metadata": {},
   "source": [
    "Další datovou sadu do jednoho grafu přidáme opětovným zavoláním metody `plot` pro stejný objekt `Axes`:"
   ]
  },
  {
   "cell_type": "code",
   "execution_count": null,
   "metadata": {},
   "outputs": [],
   "source": [
    "# Kratší získání Figure a Axes\n",
    "# (pomocí rozdělení obrázku na 1x1 podgraf :-))\n",
    "fig, axes = plt.subplots()\n",
    "\n",
    "# Jen voláme vícekrát plot\n",
    "axes.plot(x, y - 5)\n",
    "axes.plot(x, x - y)   # druhá datová řada, se automaticky zbarví jinou barvou"
   ]
  },
  {
   "attachments": {},
   "cell_type": "markdown",
   "metadata": {},
   "source": [
    "Můžeme také vložit několik dvojic datových sad za sebou:"
   ]
  },
  {
   "cell_type": "code",
   "execution_count": null,
   "metadata": {},
   "outputs": [],
   "source": [
    "fix, axes = plt.subplots() \n",
    "\n",
    "# Dvě datové řady najednou\n",
    "axes.plot(x, y + 5, x, y * 2)"
   ]
  },
  {
   "cell_type": "code",
   "execution_count": null,
   "metadata": {},
   "outputs": [],
   "source": [
    "# více grafů najednou lze vykreslit i pomocí sloupcového zápisu\n",
    "# první argument jsou souřadnice x po sloupcích \n",
    "# druhý argument jsou souřadnice y po sloupcích\n",
    "\n",
    "# uděláme z x sloupcový vektor\n",
    "x_col = x.reshape((-1,1))\n",
    "# matici se dvěma sloupci x\n",
    "xx = np.tile(x_col, (1,2))\n",
    "print(xx.shape)\n",
    "\n",
    "# matici se dvěma sloupci hodnot y\n",
    "yy = np.hstack((x_col ** 2 + 5, 2 * x_col ** 2))\n",
    "print(yy.shape)\n",
    "\n",
    "plt.plot(xx,yy)"
   ]
  },
  {
   "attachments": {},
   "cell_type": "markdown",
   "metadata": {},
   "source": [
    "# Popisky os (základ)"
   ]
  },
  {
   "cell_type": "markdown",
   "metadata": {},
   "source": [
    "Pro přidání popisků os a nastavování dalších parametrů voláme metody objektu `Axes` (obvykle začínají na `set_`)."
   ]
  },
  {
   "cell_type": "code",
   "execution_count": null,
   "metadata": {},
   "outputs": [],
   "source": [
    "fig, axes = plt.subplots()\n",
    "\n",
    "axes.plot(x, x ** 2, color='red', linewidth=2)  # Zopakujeme kreslení čárového grafu (+ přidáme styl)\n",
    "axes.set_xlabel('x')                            # Nastavení popisku osy x\n",
    "axes.set_ylabel('y')                            # Nastavení popisku osy y\n",
    "axes.set_title('Druha mocnina')                 # Nastavení popisku celého grafu (soustavy souřadnic)  ;"
   ]
  },
  {
   "cell_type": "markdown",
   "metadata": {},
   "source": [
    "Všechny popisky jsou typu **Text** a dá se s nimi pomocí metod tohoto objektu všemožně manipulovat."
   ]
  },
  {
   "cell_type": "code",
   "execution_count": null,
   "metadata": {},
   "outputs": [],
   "source": [
    "fig, axes = plt.subplots()\n",
    "\n",
    "axes.plot(x, x ** 2, color='red', linewidth=2)  # Zopakujeme kreslení čárového grafu (+ přidáme styl)\n",
    "axes.set_xlabel('x')                            # Nastavení popisku osy x\n",
    "axes.set_ylabel('y')                            # Nastavení popisku osy y\n",
    "title_text = axes.set_title('Druha mocnina')    # Nastavení popisku celého grafu (soustavy souřadnic)\n",
    "\n",
    "title_text.set_fontsize(20)                     # Nastavení velikosti písma\n",
    "title_text.set_color('blue')                    # Nastavení barvy písma\n",
    "title_text.set_fontname('Comic Sans MS')        # Nastavení fontu písma\n",
    "# prosím nevyužívejte Comic Sans MS v reálných grafikách :-)"
   ]
  },
  {
   "cell_type": "markdown",
   "metadata": {},
   "source": [
    "## Ukládání do souboru"
   ]
  },
  {
   "cell_type": "markdown",
   "metadata": {},
   "source": [
    "K tomuto účelu slouží metoda **savefig**:"
   ]
  },
  {
   "cell_type": "code",
   "execution_count": null,
   "metadata": {},
   "outputs": [],
   "source": [
    "# Základní uložení (typ souboru podle jména)\n",
    "fig.savefig(\"filename.png\")\n",
    "\n",
    "# Parametry\n",
    "fig.savefig(\"filename1.png\", dpi=50)\n",
    "\n",
    "# Vektorová grafika\n",
    "fig.savefig(\"filename.svg\")\n",
    "fig.savefig(\"filename.pdf\")\n",
    "\n",
    "# Další možnosti pro PDF výstup (\"profi\")\n",
    "fig.savefig(\"filename2.pdf\", bbox_inches='tight')    #-- Bez bílých okrajů\n",
    "fig.savefig(\"filename3.pdf\", bbox_inches='tight', transparent=True) #-- Bez bílých okrajů a s průhlednosti"
   ]
  },
  {
   "cell_type": "code",
   "execution_count": null,
   "metadata": {},
   "outputs": [],
   "source": [
    "# Jednoduchý způsob, jak v Jupyter Notebooku zobrazit obrázek ze souboru\n",
    "import IPython.core.display\n",
    "IPython.core.display.Image(filename=\"filename.png\")"
   ]
  },
  {
   "attachments": {},
   "cell_type": "markdown",
   "metadata": {},
   "source": [
    "# Více grafů v jednom obrázku"
   ]
  },
  {
   "attachments": {},
   "cell_type": "markdown",
   "metadata": {},
   "source": [
    "## Přesné umístění"
   ]
  },
  {
   "cell_type": "markdown",
   "metadata": {},
   "source": [
    "Na vytvoření více grafů v jednom obrázku není nic magického. Prostě jen zavoláme několikrát metodu `add_axes` objektu `Figure`."
   ]
  },
  {
   "cell_type": "code",
   "execution_count": null,
   "metadata": {},
   "outputs": [],
   "source": [
    "fig = plt.figure()\n",
    "\n",
    "axes1 = fig.add_axes([0.1, 0.1, 0.8, 0.8]) # Hlavní\n",
    "axes2 = fig.add_axes([0.2, 0.5, 0.4, 0.3]) # Menší, vlevo nahoře\n",
    "\n",
    "# Hlavní graf\n",
    "axes1.plot(x, y, 'r')\n",
    "axes1.set_xlabel('x')\n",
    "axes1.set_ylabel('y')\n",
    "axes1.set_title('hlavni')\n",
    "\n",
    "# Vnořený graf\n",
    "axes2.plot(y, x, 'g')\n",
    "axes2.set_xlabel('y')\n",
    "axes2.set_ylabel('x')\n",
    "axes2.set_title('detail');"
   ]
  },
  {
   "cell_type": "markdown",
   "metadata": {},
   "source": [
    "### Rozložení navržené matplotlibem"
   ]
  },
  {
   "cell_type": "markdown",
   "metadata": {},
   "source": [
    "Matplotlib nabízí různé \"správce rozložení\", které se starají o rozložení více grafů do jednoho obrázku. Nejjednodušší z nich je `subplots`."
   ]
  },
  {
   "cell_type": "code",
   "execution_count": null,
   "metadata": {},
   "outputs": [],
   "source": [
    "# Vytvoříme 1x3 podgrafy v širokém grafu.\n",
    "fig, axes = plt.subplots(nrows=1, ncols=3, figsize=(12,3))\n",
    "\n",
    "# pokud máme k dispozici LaTeX, můžeme jej použít pro hezčí vysázení titulku grafu\n",
    "# plt.rcParams['text.usetex'] = True\n",
    "\n",
    "for i, ax in enumerate(axes):\n",
    "    # V numpy vytvoříme pravidelně rozmístěné hodnoty osy x\n",
    "    x = np.linspace(0, 5, 20)\n",
    "    \n",
    "    # Umocníme na \n",
    "    power = (2. ** (2*i - 1))\n",
    "    \n",
    "    # Vypočítáme hodnoty y\n",
    "    y = x ** power\n",
    "    \n",
    "    ax.plot(x, y)\n",
    "    ax.set_xlabel('x')\n",
    "    ax.set_ylabel('y')\n",
    "    \n",
    "    # Použijeme LaTeXovou syntax pro správné vysázení titulku grafu.\n",
    "    ax.set_title(f\"$x^{{{power}}}$\")\n",
    "    \n",
    "# Opravíme rozložení, aby nám grafy nelezly přes sebe.\n",
    "fig.tight_layout()"
   ]
  },
  {
   "cell_type": "markdown",
   "metadata": {},
   "source": [
    "### Komplikovanější rozložení"
   ]
  },
  {
   "cell_type": "markdown",
   "metadata": {},
   "source": [
    "Pro vytvoření ještě komplikovanějších rozložení slouží metody `gridspec` a `subplot2grid`, viz http://matplotlib.org/users/gridspec.html."
   ]
  },
  {
   "cell_type": "code",
   "execution_count": null,
   "metadata": {},
   "outputs": [],
   "source": [
    "# Inspirující (a zároveň odstrašující) ukázka\n",
    "fig = plt.figure()\n",
    "ax1 = plt.subplot2grid((3,3), (0,0), colspan=3)\n",
    "ax2 = plt.subplot2grid((3,3), (1,0), colspan=2)\n",
    "ax3 = plt.subplot2grid((3,3), (1,2), rowspan=2)\n",
    "ax4 = plt.subplot2grid((3,3), (2,0))\n",
    "ax5 = plt.subplot2grid((3,3), (2,1))\n",
    "fig.tight_layout()"
   ]
  },
  {
   "attachments": {},
   "cell_type": "markdown",
   "metadata": {},
   "source": [
    "# Dvě různé osy v jednom grafu"
   ]
  },
  {
   "cell_type": "markdown",
   "metadata": {},
   "source": [
    "Pokud chceme v jednom grafu mít pro dvě různé datové sady dvě různé osy *x* nebo dvě různé osy *y*, můžeme použít metody `twinx` a `twiny` třídy `Axes`, které vytvoří novou soustavu souřadnic se sdílenou osou *x*, potažmo *y*."
   ]
  },
  {
   "cell_type": "code",
   "execution_count": null,
   "metadata": {},
   "outputs": [],
   "source": [
    "fig, ax1 = plt.subplots()\n",
    "\n",
    "ax1.plot(x, x**2, linewidth=2, color=\"blue\")\n",
    "ax1.set_ylabel(\"area $(m^2)$\", fontsize=15, color=\"blue\")\n",
    "    \n",
    "ax2 = ax1.twinx() # Kopie soustavy souřadnic, sdílející osu x\n",
    "ax2.plot(x, x**3, linewidth=2, color=\"red\")\n",
    "ax2.set_ylabel(\"volume $(m^3)$\", fontsize=15, color=\"red\")"
   ]
  },
  {
   "cell_type": "code",
   "execution_count": null,
   "metadata": {},
   "outputs": [],
   "source": [
    "# example of a twiny plot\n",
    "fig, ax1 = plt.subplots()\n",
    "\n",
    "ax1.plot(x, x**2, linewidth=2, color=\"blue\")\n",
    "ax1.set_xlabel(\"quadratic\", fontsize=15, color=\"blue\")\n",
    "    \n",
    "ax2 = ax1.twiny() # Kopie soustavy souřadnic, sdílející osu y\n",
    "ax2.plot(x*5, x*5, linewidth=2, color=\"red\")\n",
    "ax2.set_xlabel(\"linear\", fontsize=15, color=\"red\")\n",
    "\n"
   ]
  },
  {
   "attachments": {},
   "cell_type": "markdown",
   "metadata": {},
   "source": [
    "# Formátování a úpravy grafů"
   ]
  },
  {
   "attachments": {},
   "cell_type": "markdown",
   "metadata": {},
   "source": [
    "## Rozsah grafu"
   ]
  },
  {
   "cell_type": "markdown",
   "metadata": {},
   "source": [
    "Rozsahy se nastavují pro každou osu souřadnic (objekt třídy `Axes`) pomocí metod `set_xlim` a `set_ylim`."
   ]
  },
  {
   "cell_type": "code",
   "execution_count": null,
   "metadata": {},
   "outputs": [],
   "source": [
    "fig, axes = plt.subplots(1, 3, figsize=(12, 4)) \n",
    "\n",
    "axes[0].plot(x, x**2, x, x**3)\n",
    "axes[0].set_title(\"výchozí rozsah\")\n",
    "\n",
    "axes[1].plot(x, x**2, x, x**3)\n",
    "axes[1].axis('tight')\n",
    "axes[1].set_title(\"těsný rozsah\")\n",
    "\n",
    "axes[2].plot(x, x**2, x, x**3)\n",
    "axes[2].set_ylim([0, 60])\n",
    "axes[2].set_xlim([2, 5])\n",
    "axes[2].set_title(\"vlastní rozsah\");"
   ]
  },
  {
   "attachments": {},
   "cell_type": "markdown",
   "metadata": {},
   "source": [
    "# Logaritmická škála"
   ]
  },
  {
   "cell_type": "markdown",
   "metadata": {},
   "source": [
    "K nastavení logaritmické škály slouží metody `set_xscale` a `set_yscale`."
   ]
  },
  {
   "cell_type": "code",
   "execution_count": null,
   "metadata": {},
   "outputs": [],
   "source": [
    "fig, ax = plt.subplots(1, 1) \n",
    "\n",
    "ax.plot(x, x**2 - 1, x, x**3 + 1)\n",
    "ax.set_yscale(\"log\")\n",
    "# ax.set_xscale(\"log\")"
   ]
  },
  {
   "cell_type": "code",
   "execution_count": null,
   "metadata": {},
   "outputs": [],
   "source": [
    "fig, ax = plt.subplots(1, 1)\n",
    "\n",
    "ax.plot(x, x**2 - 1, x, x**3 + 1)\n",
    "# ax.set_yscale(\"log\")\n",
    "ax.set_xscale(\"log\")\n"
   ]
  },
  {
   "cell_type": "code",
   "execution_count": null,
   "metadata": {},
   "outputs": [],
   "source": [
    "fig, ax = plt.subplots(1, 1)\n",
    "\n",
    "ax.plot(x, x**2 - 1, x, x**3 + 1)\n",
    "ax.set_yscale(\"log\")\n",
    "ax.set_xscale(\"log\")\n"
   ]
  },
  {
   "cell_type": "markdown",
   "metadata": {},
   "source": [
    "### Velikost obrázku, rozlišení"
   ]
  },
  {
   "cell_type": "markdown",
   "metadata": {},
   "source": [
    "Ve chvíli, kdy vytváříme graf, můžeme mu nastavit velikost a rozlišení. Jupyter Notebook si s tím zachází lehce po svém (a ručí vlastně akorát za poměr stran), ale exportujete-li obrázky do vektorových či bitmapových formátů, můžete specifikovat přesnou velikost v palcích (`figsize`) a rozlišení v dpi neboli bodech na palec (`dpi`). Oba argumenty se při vytváření obrázku předávají funkci `figure` jako \"keyword\" argumenty:"
   ]
  },
  {
   "cell_type": "code",
   "execution_count": null,
   "metadata": {},
   "outputs": [],
   "source": [
    "# Obrázek o velikost 4x1 palce s rozlišením 100 dpi\n",
    "fig = plt.figure(figsize=(4, 1), dpi=100)\n",
    "axes = fig.add_axes([0,0,1,1])"
   ]
  },
  {
   "cell_type": "markdown",
   "metadata": {},
   "source": [
    "Argumenty lze předat i správcům rozložením, jako je např. fuknce `subplots`."
   ]
  },
  {
   "cell_type": "code",
   "execution_count": null,
   "metadata": {},
   "outputs": [],
   "source": [
    "# Dva grafy pod sebou, které dohromady zaujímají obdélník 4x7 palců\n",
    "fig, axes = plt.subplots(2, 1, figsize=(4, 7), dpi=100)"
   ]
  },
  {
   "attachments": {},
   "cell_type": "markdown",
   "metadata": {},
   "source": [
    "# Formátování textu"
   ]
  },
  {
   "attachments": {},
   "cell_type": "markdown",
   "metadata": {},
   "source": [
    "Každý textový objekt (popisek osy, legenda, titulek grafu, poznámky, ..., zkrátka instance třídy `Text`) má spoustu parametrů, které lze specifikovat. Celý výčet vlastností najdete v dokumentaci: [Zde](http://matplotlib.org/api/artist_api.html).\n",
    "\n",
    "Pro nás budou (kromě barev) podstatné parametry `fontsize` (velikost v bodech) a `family` (název nebo druh fontu). `family` akceptuje jméno existujícího fontu nebo název kategorie:\n",
    "\n",
    "* `serif` - patkové písmo\n",
    "* `sans-serif` - bezpatkové písmo (výchozí)\n",
    "* `monospace` - písmo s pevnou šířkou\n",
    "* ... jsou i další, viz dokumentace [Zde](http://matplotlib.org/users/customizing.html)\n",
    "\n",
    "Pomocí `style=\"italic\"` můžeme nastavit kurzívu, pomocí `weight=\"bold\"` tučné písmo (tlouštěk je hned několik, viz dokumentace).\n",
    "\n"
   ]
  },
  {
   "cell_type": "code",
   "execution_count": null,
   "metadata": {},
   "outputs": [],
   "source": [
    "fig, ax = plt.subplots()\n",
    "\n",
    "ax.plot(x, np.sin(x))\n",
    "ax.set_xlabel('monospace (+ bold)', family=\"monospace\", fontsize=24, weight=\"bold\")\n",
    "ax.set_ylabel('sans-serif', family=\"sans-serif\", fontsize=24)\n",
    "ax.set_title('serif (+ italic)', family=\"serif\", fontsize=24, style=\"italic\")\n"
   ]
  },
  {
   "attachments": {},
   "cell_type": "markdown",
   "metadata": {},
   "source": [
    "# Podpora $\\LaTeX \\text{u}$"
   ]
  },
  {
   "attachments": {},
   "cell_type": "markdown",
   "metadata": {},
   "source": [
    "Matplotlib nabízí výbornou podporu $\\LaTeX \\text{u}$. Jakýkoliv text můžeme (ostatně, totéž nabízí i Jupyter Notebook!) obklopit dvěma znaky dolaru a matplotlibu tak řekneme, že jej má interpretovat jako Latexový zdroják. Například napíšeme `\"$y=x^3$\"` a dostaneme $y=x^3$. To můžeme použít v `set_xlabel`, `set_ylabel`, `set_title` i kdekoliv jinde.\n",
    "\n",
    "Pokud ale chceme vkládat příkazy LaTeXu, které začínají na zpětné lomítko `\\`, musíme si dát pozor, abychom ho správně vložili. Python totiž standardně zpětné lomítko slouží pro escape sekvence. Musíme tedy buď všechna lomítka zdvojit, nebo použít tzv. raw stringy (\"syrové řetězce\"), které se píší s `r` před uvozovkami a escape sekvence ignorují: `r\"\\alpha\"` nám vyprodukuje $\\alpha$."
   ]
  },
  {
   "cell_type": "code",
   "execution_count": null,
   "metadata": {},
   "outputs": [],
   "source": [
    "fig, ax = plt.subplots()\n",
    "\n",
    "ax.plot(x, math.pi * x**2, label=r\"$y = \\pi r^2$\")\n",
    "ax.plot(x, 1.0 / 3 * math.pi * x**3, label=r\"$y = \\frac{4}{3}\\pi r^3$\")\n",
    "ax.set_xlabel(r'$r$', fontsize=18)\n",
    "ax.set_ylabel(r'$y$', fontsize=18)\n",
    "ax.set_title('Obsah kruhu a objem koule', family=\"serif\")\n",
    "ax.legend(loc=2);     # Použití legendy viz dále"
   ]
  },
  {
   "attachments": {},
   "cell_type": "markdown",
   "metadata": {},
   "source": [
    "# Barvy a styly"
   ]
  },
  {
   "attachments": {},
   "cell_type": "markdown",
   "metadata": {},
   "source": [
    "## Barvy"
   ]
  },
  {
   "cell_type": "markdown",
   "metadata": {},
   "source": [
    "V matplotlibu se barvy čar, textu apod. dají specifikovat dvěma způsoby (preferujeme druhý):\n",
    "\n",
    "* pomocí jednopísmenných zkratek přímo v argumentu pro styl metody `plot` jako v MATLABu: `b` znamená modrou, `r` červenou, `g` zelenou a tak dále."
   ]
  },
  {
   "cell_type": "code",
   "execution_count": null,
   "metadata": {},
   "outputs": [],
   "source": [
    "fig, ax = plt.subplots()\n",
    "ax.plot(x, x**2, 'b.-')       # Modrá čára s tečkami\n",
    "ax.plot(x, x**3, 'g--');      # Zelená přerušovaná čára"
   ]
  },
  {
   "cell_type": "markdown",
   "metadata": {},
   "source": [
    "* pomocí keyword argumentů `color` a (případně) `alpha`. Do prvního (`color`) můžeme zadat anglický název barvy nebo její hexadecimální vyjádření (viz třeba http://www.colorcodehex.com/html-color-picker.html), druhý nepovinný argument (`alpha`) vyjadřuje míru průhlednosti (0 = zcela průhledná, 1 = zcela neprůhledná)."
   ]
  },
  {
   "cell_type": "code",
   "execution_count": null,
   "metadata": {},
   "outputs": [],
   "source": [
    "fig, ax = plt.subplots()\n",
    "\n",
    "ax.plot(x, x+1, color=\"red\", alpha=0.5) # Poloprůhledná červená\n",
    "ax.plot(x, x+2, color=\"#1155dd\")        # Jakási namodralá barva\n",
    "ax.plot(x, x+3, color=\"#15cc55\");       # Jakási nazelenalá barva "
   ]
  },
  {
   "cell_type": "markdown",
   "metadata": {},
   "source": [
    "### Styly čar a značek"
   ]
  },
  {
   "cell_type": "markdown",
   "metadata": {},
   "source": [
    "Pro nastavení vlastností čáry grafu slouží keyword argumenty metody `plot`:\n",
    "\n",
    "* `linewidth` nebo `lw` - tloušťka čáry v bodech\n",
    "* `linestyle` nebo `ls`- styl čáry\n",
    "* `color` - barva\n",
    "\n",
    "Podobně nastavení značek bodů se přidává argumenty začínajícími na `marker` v téže metodě:\n",
    "\n",
    "* `marker` - druh značky \n",
    "* `markersize` - velikost značky\n",
    "* `markerfacecolor` - barva vnitřku značky\n",
    "* `markeredgewidth` - tloušťka okraje\n",
    "* `markeredgecolor` - barva okraje\n",
    "\n"
   ]
  },
  {
   "cell_type": "code",
   "execution_count": null,
   "metadata": {},
   "outputs": [],
   "source": [
    "fig, ax = plt.subplots(figsize=(12,6))\n",
    "\n",
    "# Tloušťka čáry\n",
    "ax.plot(x, x+1, color=\"blue\", linewidth=0.25)\n",
    "ax.plot(x, x+2, color=\"blue\", linewidth=0.50)\n",
    "ax.plot(x, x+3, color=\"blue\", linewidth=1.00)\n",
    "ax.plot(x, x+4, color=\"blue\", linewidth=2.00)\n",
    "\n",
    "# Základní styly přerušované čáry ‘-‘, ‘–’, ‘-.’, ‘:’, ‘steps’\n",
    "ax.plot(x, x+5, color=\"red\", lw=2, linestyle='-')\n",
    "ax.plot(x, x+6, color=\"red\", lw=2, ls='-.')\n",
    "ax.plot(x, x+7, color=\"red\", lw=2, ls=':')\n",
    "\n",
    "# Vlastní styl přerušované čáry\n",
    "line, = ax.plot(x, x+8, color=\"black\", lw=1.50)\n",
    "line.set_dashes([5, 10, 15, 10]) # formát: délka čáry, délka mezery, ...\n",
    "\n",
    "# Výběr typu značek: marker = '+', 'o', '*', 's', ',', '.', '1', '2', '3', '4', ...\n",
    "ax.plot(x, x+ 9, color=\"green\", lw=2, ls='', marker='+')\n",
    "ax.plot(x, x+10, color=\"green\", lw=2, ls='', marker='o')\n",
    "ax.plot(x, x+11, color=\"green\", lw=2, ls='', marker='s')\n",
    "ax.plot(x, x+12, color=\"green\", lw=2, ls='', marker='1')\n",
    "\n",
    "# Velikost značek a jejich barvy (vnitřní a vnější)\n",
    "ax.plot(x, x+13, color=\"purple\", lw=1, ls='-', marker='o', markersize=2)\n",
    "ax.plot(x, x+14, color=\"purple\", lw=1, ls='-', marker='o', markersize=4)\n",
    "ax.plot(x, x+15, color=\"purple\", lw=1, ls='-', marker='o', markersize=8, markerfacecolor=\"red\")\n",
    "ax.plot(x, x+16, color=\"purple\", lw=1, ls='-', marker='s', markersize=8, \n",
    "        markerfacecolor=\"yellow\", markeredgewidth=2, markeredgecolor=\"blue\");"
   ]
  },
  {
   "attachments": {},
   "cell_type": "markdown",
   "metadata": {},
   "source": [
    "# Vzhled osy"
   ]
  },
  {
   "cell_type": "markdown",
   "metadata": {},
   "source": [
    "### Umístění značek a jejich popisků"
   ]
  },
  {
   "cell_type": "markdown",
   "metadata": {},
   "source": [
    "K umístění značek slouží metody `set_xticks` a `set_yticks`, jimž jako argument předáme seznam všech hodnot, kde má být značka umístěna. Pomocí `set_xticklabels` a `set_yticklabels` pak můžeme pro každou značku specifikovat vlastní popisek (pokud nám výchozí nedostačuje)."
   ]
  },
  {
   "cell_type": "code",
   "execution_count": null,
   "metadata": {},
   "outputs": [],
   "source": [
    "fig, ax = plt.subplots(figsize=(10, 4))\n",
    "\n",
    "ax.plot(x, x**2, x, x**3, lw=2)\n",
    "\n",
    "ax.set_xticks([1, 2, 3, 4, 5])\n",
    "ax.set_xticklabels([r'$\\alpha$', r'$\\beta$', r'$\\gamma$', r'$\\delta$', r'$\\epsilon$'], fontsize=18)\n",
    "\n",
    "yticks = [0, 50, 100, 150]\n",
    "ax.set_yticks(yticks)\n",
    "ax.set_yticklabels([\"$%.1f$\" % y for y in yticks], fontsize=18)     ;"
   ]
  },
  {
   "cell_type": "markdown",
   "metadata": {},
   "source": [
    "Více detailů můžete nalézt zde: http://matplotlib.org/api/ticker_api.html."
   ]
  },
  {
   "attachments": {},
   "cell_type": "markdown",
   "metadata": {},
   "source": [
    "# Další prvky grafu"
   ]
  },
  {
   "attachments": {},
   "cell_type": "markdown",
   "metadata": {},
   "source": [
    "## Legenda"
   ]
  },
  {
   "attachments": {},
   "cell_type": "markdown",
   "metadata": {},
   "source": [
    "Pokud chceme do grafu přidat legendu, měli bychom každé datové sadě přiřadit název pomocí keyword argumentu `label`. \n",
    "Potom ještě musíme metodou `legend` legendu pro danou souřadnicovou soustavu zobrazit."
   ]
  },
  {
   "cell_type": "code",
   "execution_count": null,
   "metadata": {},
   "outputs": [],
   "source": [
    "fig = plt.figure()\n",
    "ax = fig.add_axes([0,0,1,1])\n",
    "ax.plot(x, x**2, label=\"krivka1\")\n",
    "ax.plot(x, x**3, label=\"krivka2\")\n",
    "ax.legend()\n"
   ]
  },
  {
   "attachments": {},
   "cell_type": "markdown",
   "metadata": {},
   "source": [
    "Lze to i najednou přímo v příkazu `legend`, je si ale třeba dát pozor na pořadí názvů."
   ]
  },
  {
   "cell_type": "code",
   "execution_count": null,
   "metadata": {},
   "outputs": [],
   "source": [
    "fig = plt.figure()\n",
    "ax = fig.add_axes([0, 0, 1, 1])\n",
    "ax.plot(x, x**2)\n",
    "ax.plot(x, x**3)\n",
    "ax.legend(labels=('krivka1', 'krivka2'), loc='best')\n"
   ]
  },
  {
   "attachments": {},
   "cell_type": "markdown",
   "metadata": {},
   "source": [
    "Metoda `legend` přijímá keyword argument `loc`, který vyjadřuje, kam má legenda přijít. Hodnoty parametru jsou číselné a vybírají se z několika předdefinovaných hodnot. Uvádíme některé nejčastější. Více viz [dokumentace](https://matplotlib.org/2.0.2/users/legend_guide.html#legend-location)"
   ]
  },
  {
   "cell_type": "code",
   "execution_count": null,
   "metadata": {},
   "outputs": [],
   "source": [
    "# Hodnoty argumentu loc\n",
    "fig = plt.figure()\n",
    "ax = fig.add_axes([0, 0, 1, 1])\n",
    "ax.plot(x, x**2, label=\"krivka1\")\n",
    "ax.plot(x, x**3, label=\"krivka2\")\n",
    "\n",
    "# ax.legend(loc=0) # Nechť matplotlib vybere, co považuje za nejvhodnější\n",
    "# ax.legend(loc=1) # Pravý horní roh\n",
    "# ax.legend(loc=2) # Levý horní roh\n",
    "# ax.legend(loc=3) # Levý dolní roh\n",
    "# ax.legend(loc=4) # Pravý dolní roh\n",
    "# ax.legend(loc=5) # Levý okraj\n",
    "# ax.legend(loc=6) # Pravý okraj\n",
    "# ax.legend(loc=7) # Střed dolního okraje\n",
    "# ax.legend(loc=8) # Střed horního okraje\n",
    "ax.legend(loc=9) # Střední místo\n"
   ]
  },
  {
   "attachments": {},
   "cell_type": "markdown",
   "metadata": {},
   "source": [
    "## Mřížka"
   ]
  },
  {
   "cell_type": "markdown",
   "metadata": {},
   "source": [
    "Zobrazení mřížky se nastavuje metodou `grid`. Její nejjednodušší varianta přijímá jeden booleovský argument a matplotlib se postará o rozumné výchozí vlasnosti. Nicméně můžeme pomocí keyword argumentů vzhled mřížky specifikovat detailněji:"
   ]
  },
  {
   "cell_type": "code",
   "execution_count": null,
   "metadata": {},
   "outputs": [],
   "source": [
    "fig, axes = plt.subplots(1, 2, figsize=(10,3))\n",
    "\n",
    "# Nastavení výchozí mřížky\n",
    "axes[0].plot(x, x**2, x, x**3, lw=2)\n",
    "axes[0].grid(True)\n",
    "\n",
    "# Nastavení výchozí mřížky s vlastnostmi\n",
    "# (alpha vyjadřuje průhlednost - 0=zcela průhledná, 1=zcela neprůhledná)\n",
    "axes[1].plot(x, x**2, x, x**3, lw=2)\n",
    "axes[1].grid(color='b', alpha=0.5, linestyle='dashed', linewidth=0.5)"
   ]
  },
  {
   "attachments": {},
   "cell_type": "markdown",
   "metadata": {},
   "source": [
    "## Libovolné textové poznámky"
   ]
  },
  {
   "attachments": {},
   "cell_type": "markdown",
   "metadata": {},
   "source": [
    "Pomocí metody `text` lze do grafů (třídy `Axes`) vkládat další poznámky nezávisle na osách. Pozice se udává v souřadnicích samotného grafu, nikoliv v relativních souřadnicích grafu. Opět můžeme použít $\\LaTeX \\text{ovou}$ syntaxi.\n",
    "\n",
    "**Pozor na souřadnice, jsou vztaženy k velikosti axes.**"
   ]
  },
  {
   "cell_type": "code",
   "execution_count": null,
   "metadata": {},
   "outputs": [],
   "source": [
    "fig, ax = plt.subplots()\n",
    "\n",
    "xx = np.linspace(-.5, 1.1, 20)\n",
    "ax.plot(xx, xx**2, xx, xx**3)\n",
    "ax.grid(True)\n",
    "\n",
    "ax.text(0.15, 0.2, r\"$y=x^2$\", fontsize=20, color=\"blue\")\n",
    "ax.text(0.65, 0.1, r\"$y=x^3$\", fontsize=20, color=\"green\")\n",
    "ax.text(0, 0, r\"[0,0]\", fontsize=20, color=\"k\")\n",
    "ax.text(1, 1, r\"[1,1]\", fontsize=20, color=\"k\")\n"
   ]
  },
  {
   "attachments": {},
   "cell_type": "markdown",
   "metadata": {},
   "source": [
    "# Další typy 2D grafů"
   ]
  },
  {
   "attachments": {},
   "cell_type": "markdown",
   "metadata": {},
   "source": [
    "Zatím jsme pracovali pouze s metodou `plot` a kreslili jsme čárové grafy. Kromě čárových pak existuje ještě mnoho dalších typů grafu. Jejich kompletní výčet najdete v [galerii](https://matplotlib.org/2.0.2/gallery.html). Uvádíme některé z nich pro ukázku:"
   ]
  },
  {
   "cell_type": "code",
   "execution_count": null,
   "metadata": {},
   "outputs": [],
   "source": [
    "import numpy.random as random\n",
    "\n",
    "n = np.array([0,1,2,3,4,5])\n",
    "xx = np.linspace(0, 1, 100) + random.randn(100)\n",
    "\n",
    "fig, axes = plt.subplots(1, 4, figsize=(12,3))\n",
    "\n",
    "# Bodový graf\n",
    "axes[0].scatter(xx, xx + random.randn(len(xx)))\n",
    "\n",
    "# Schodový graf\n",
    "axes[1].step(n, n**2, lw=2)\n",
    "\n",
    "# Sloupcový graf\n",
    "axes[2].bar(n, n**2, align=\"center\", width=0.5, alpha=0.5)\n",
    "\n",
    "# Výplň mezi křivkami\n",
    "axes[3].fill_between(x, x**2, x**3, color=\"green\", alpha=0.5)"
   ]
  },
  {
   "attachments": {},
   "cell_type": "markdown",
   "metadata": {},
   "source": [
    "## Histogram"
   ]
  },
  {
   "cell_type": "code",
   "execution_count": null,
   "metadata": {},
   "outputs": [],
   "source": [
    "n = np.random.randn(10000)     # Spousta náhodných čísel (norm.rozdělení)\n",
    "plt.hist(n, 20)                # Histogram o 20 \"binech\""
   ]
  },
  {
   "attachments": {},
   "cell_type": "markdown",
   "metadata": {},
   "source": [
    "## Polární grafy"
   ]
  },
  {
   "cell_type": "markdown",
   "metadata": {},
   "source": [
    "Můžeme samozřejmě vytvářet i polární grafy, stačí jen správně zadat argumenty metody `add_axes`:"
   ]
  },
  {
   "cell_type": "code",
   "execution_count": null,
   "metadata": {},
   "outputs": [],
   "source": [
    "fig = plt.figure(figsize=(5,5))\n",
    "\n",
    "# Polární souřadnice\n",
    "ax = fig.add_axes([0.0, 0.0, .6, .6], polar=True)\n",
    "t = np.linspace(0, 2 * math.pi, 100)\n",
    "\n",
    "# Jednoduchá spirála\n",
    "ax.plot(t, t, color='blue', lw=2)"
   ]
  },
  {
   "cell_type": "markdown",
   "metadata": {},
   "source": [
    "## Dvourozměrná vizualizace dvoudimenzionálních dat"
   ]
  },
  {
   "cell_type": "markdown",
   "metadata": {},
   "source": [
    "Pokud máme vizualizovat hodnoty závislé na hodnotách dvou parametrů, $z = f(x, y)$, můžeme buď hodnoty kódovat barevně, nebo pomocí obrysového grafu. Ukážeme si obojí."
   ]
  },
  {
   "cell_type": "code",
   "execution_count": null,
   "metadata": {},
   "outputs": [],
   "source": [
    "# Náhodně zhůvěřilá funkce\n",
    "x = np.linspace(0, 6, 100)\n",
    "y = np.linspace(0, 6, 100)\n",
    "X, Y = np.meshgrid(x, y)\n",
    "Z = ((np.sin((X + Y) ** 1.5) + 1.01) / 2) ** (np.cos(Y*3) + 1) + np.sin((X + Y) / 20)\n",
    "Z = Z.T"
   ]
  },
  {
   "attachments": {},
   "cell_type": "markdown",
   "metadata": {},
   "source": [
    "## pcolor (barevné kódování hodnoty)\n",
    "Parametr `cmap` určuje barevnou paletu, kterou se hodnoty kódují. Více barevných palet najdete v [dokumentaci](https://matplotlib.org/2.0.2/examples/color/colormaps_reference.html).\n",
    "\n",
    "Příkaz colorbar() vytvoří legendu pro barvu."
   ]
  },
  {
   "cell_type": "code",
   "execution_count": null,
   "metadata": {},
   "outputs": [],
   "source": [
    "fig, ax = plt.subplots()\n",
    "\n",
    "p = ax.pcolor(X, Y, Z, shading='auto', cmap=\"jet\", vmin=abs(Z).min(), vmax=abs(Z).max())\n",
    "cb = fig.colorbar(p, ax=ax)"
   ]
  },
  {
   "attachments": {},
   "cell_type": "markdown",
   "metadata": {},
   "source": [
    "## imshow (obrazová data)"
   ]
  },
  {
   "cell_type": "code",
   "execution_count": null,
   "metadata": {},
   "outputs": [],
   "source": [
    "fig, ax = plt.subplots()\n",
    "\n",
    "im = plt.imshow(Z, cmap=\"gray\", vmin=abs(Z).min(), vmax=abs(Z).max(), extent=[0, 1, 0, 1])\n",
    "\n",
    "# Výběr interpolace = vyhlazování\n",
    "im.set_interpolation('bilinear')\n",
    "\n",
    "cb = fig.colorbar(im, ax=ax)"
   ]
  },
  {
   "attachments": {},
   "cell_type": "markdown",
   "metadata": {},
   "source": [
    "## contour (obrysový graf)\n",
    "Podrobnosti viz [dokumentace](https://matplotlib.org/stable/api/_as_gen/matplotlib.pyplot.contour.html)."
   ]
  },
  {
   "cell_type": "code",
   "execution_count": null,
   "metadata": {},
   "outputs": [],
   "source": [
    "fig, ax = plt.subplots()\n",
    "cnt = plt.contour(X, Y, Z)"
   ]
  },
  {
   "attachments": {},
   "cell_type": "markdown",
   "metadata": {},
   "source": [
    "# 3D grafy"
   ]
  },
  {
   "cell_type": "markdown",
   "metadata": {},
   "source": [
    "Pro kreslení trojrozměrných grafů musíme nejdřív vytvořit trojrozměrnou soustavu souřadnic jako instanci třídy `Axes3D`. 3D grafy můžeme do obrázku vkládat stejně jako dvourozměrné, nejjednodušší je ale použít keyword argument `projection='3d'` u klasických metod `add_axes` a `add_subplot`."
   ]
  },
  {
   "cell_type": "code",
   "execution_count": null,
   "metadata": {},
   "outputs": [],
   "source": [
    "from mpl_toolkits.mplot3d import Axes3D"
   ]
  },
  {
   "attachments": {},
   "cell_type": "markdown",
   "metadata": {},
   "source": [
    "## Povrchové grafy"
   ]
  },
  {
   "cell_type": "code",
   "execution_count": null,
   "metadata": {},
   "outputs": [],
   "source": [
    "fig = plt.figure(figsize=(14,6))\n",
    "\n",
    "# `ax` je trojrozměrná osa (díky keyword argumentu projection)\n",
    "ax = fig.add_subplot(1, 2, 1, projection='3d')\n",
    "\n",
    "p = ax.plot_surface(X, Y, Z, rstride=4, cstride=4, linewidth=0)\n",
    "\n",
    "# Povrchový graf s doprovodnou barevnou informací\n",
    "ax = fig.add_subplot(1, 2, 2, projection='3d')\n",
    "p = ax.plot_surface(X, Y, Z, rstride=1, cstride=1, cmap=\"jet\", linewidth=0, antialiased=True)\n",
    "cb = fig.colorbar(p, shrink=0.5)"
   ]
  },
  {
   "attachments": {},
   "cell_type": "markdown",
   "metadata": {},
   "source": [
    "## Drátěný (wire-frame) graf"
   ]
  },
  {
   "cell_type": "code",
   "execution_count": null,
   "metadata": {},
   "outputs": [],
   "source": [
    "fig = plt.figure(figsize=(8,6))\n",
    "ax = fig.add_subplot(1, 1, 1, projection='3d')\n",
    "p = ax.plot_wireframe(X, Y, Z, rstride=4, cstride=4)"
   ]
  },
  {
   "attachments": {},
   "cell_type": "markdown",
   "metadata": {},
   "source": [
    "Více informací o trojrozměrných grafech najdete zde: [dokumentace](https://matplotlib.org/2.0.2/mpl_toolkits/mplot3d/tutorial.html)."
   ]
  },
  {
   "attachments": {},
   "cell_type": "markdown",
   "metadata": {},
   "source": [
    "# Backendy"
   ]
  },
  {
   "cell_type": "markdown",
   "metadata": {},
   "source": [
    "Matplotlib nabízí spoustu tzv. \"backendů\", které se starají o vytváření grafů v různých formátech (SVG, PNG, PDF, ...) a jejich zobrazování pomocí různých technologií (Qt, GTK, přímo v Jupyter Notebooku atp.). Některé jsou interaktivní, jiné ne, nebudeme si je ale ukazovat jeden po druhém.\n",
    "\n",
    "Seznam všech podporovaných backendů v aktuální instalaci matplotlibu:"
   ]
  },
  {
   "cell_type": "code",
   "execution_count": null,
   "metadata": {},
   "outputs": [],
   "source": [
    "import matplotlib\n",
    "print(matplotlib.rcsetup.all_backends)"
   ]
  },
  {
   "attachments": {},
   "cell_type": "markdown",
   "metadata": {},
   "source": [
    "Ne vždy se hodí inline backend. Především pokud chceme s grafem interaktivně pracovat (zoom, posun apod.) použijeme např. Qt5 backend pomocí\n",
    "```\n",
    "%matplotlib qt5\n",
    "```"
   ]
  },
  {
   "cell_type": "code",
   "execution_count": null,
   "metadata": {},
   "outputs": [],
   "source": [
    "%matplotlib qt5\n"
   ]
  },
  {
   "cell_type": "code",
   "execution_count": null,
   "metadata": {},
   "outputs": [],
   "source": [
    "import matplotlib.pyplot as plt\n",
    "import numpy as np\n",
    "x = np.linspace(0, 10, 100)\n",
    "plt.plot(x, np.sin(x), '-')"
   ]
  },
  {
   "cell_type": "code",
   "execution_count": null,
   "metadata": {},
   "outputs": [],
   "source": [
    "from mpl_toolkits.mplot3d import Axes3D\n",
    "\n",
    "X, Y = np.meshgrid(np.arange(-5, 5, 0.25), np.arange(-5, 5, 0.25))\n",
    "R = np.sqrt(X**2 + Y**2)\n",
    "Z = np.sin(R)\n",
    "\n",
    "fig = plt.figure()\n",
    "ax = fig.add_subplot(111, projection='3d')\n",
    "ax.plot_surface(X, Y, Z, rstride=1, cstride=1, cmap='hot')\n"
   ]
  },
  {
   "cell_type": "markdown",
   "metadata": {},
   "source": [
    "## Odkazy"
   ]
  },
  {
   "cell_type": "markdown",
   "metadata": {},
   "source": [
    "* http://www.matplotlib.org - Hlavní stránka projektu\n",
    "* http://matplotlib.org/gallery.html - Galerie se spoustou příkladů toho, co se v matplotlib dá udělat.\n",
    "* http://www.loria.fr/~rougier/teaching/matplotlib - Dobrý tutoriál (v angličtině)."
   ]
  },
  {
   "cell_type": "markdown",
   "metadata": {},
   "source": [
    "## Jak vylepšit (nebo také ne) vzhled grafů z Matplotlib\n",
    "\n",
    "* https://matplotlib.org/tutorials/introductory/customizing.html\n",
    "* https://github.com/mwaskom/seaborn"
   ]
  },
  {
   "cell_type": "markdown",
   "metadata": {},
   "source": [
    "## Další knihovny pro práci s grafy"
   ]
  },
  {
   "cell_type": "markdown",
   "metadata": {},
   "source": [
    "* **Plotly** - JavaScript knihovna s Python API a také online prostředím pro kreslení grafů: https://plot.ly/\n",
    "* **Bokeh** - interaktivní grafy pomocí HTML + JS od Continuum Analytics, http://bokeh.pydata.org/\n",
    "* **Holoviews** - vizualizace dat propojená s práci s daty samotnými.\n",
    "* a další, přehled najdete na https://pyviz.org/"
   ]
  }
 ],
 "metadata": {
  "kernelspec": {
   "display_name": "Python 3",
   "language": "python",
   "name": "python3"
  },
  "language_info": {
   "codemirror_mode": {
    "name": "ipython",
    "version": 3
   },
   "file_extension": ".py",
   "mimetype": "text/x-python",
   "name": "python",
   "nbconvert_exporter": "python",
   "pygments_lexer": "ipython3",
   "version": "3.10.9"
  }
 },
 "nbformat": 4,
 "nbformat_minor": 4
}
