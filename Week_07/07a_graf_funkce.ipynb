{
 "cells": [
  {
   "attachments": {},
   "cell_type": "markdown",
   "metadata": {},
   "source": [
    "# Grafy v Pythonu - Matplotlib"
   ]
  },
  {
   "attachments": {},
   "cell_type": "markdown",
   "metadata": {},
   "source": [
    "### Co matplotlib umí?\n",
    "\n",
    "- Vytvářet 2D a 3D grafy.\n",
    "- Umožňuje vytvářet popisky v $\\LaTeX$.\n",
    "- Kontrolovat nastavení všech grafických prvků v grafu.\n",
    "- Kvalitní grafický výstup, včetně formátů PNG, PDF, SVG, EPS.\n",
    "- GUI pro interaktivní práci s grafy (zoomování, posouvání, atd.).\n",
    "\n",
    "Jedna z vlastností Matplotlibu, která si zaslouží zdůraznění a která velice zjednodušuje vytváření vědeckých publikací, je možnost ovládat všechny aspekty a detaily grafu z kódu. Díky tomu můžete ihned zopakovat celý proces vytváření grafu s pozměněnými daty bez nutnosti jít znovu krok po kroku.\n",
    "\n",
    "Více informací na stránkách projektu: [http://matplotlib.org/](http://matplotlib.org/)\n"
   ]
  },
  {
   "cell_type": "code",
   "execution_count": null,
   "metadata": {},
   "outputs": [],
   "source": [
    "# Importujeme základní vykreslovací modul\n",
    "import matplotlib.pyplot as plt\n",
    "\n",
    "# A samozřejmě NumPy\n",
    "import numpy as np\n",
    "\n",
    "# Občas se hodí i matematika\n",
    "import math"
   ]
  },
  {
   "cell_type": "markdown",
   "metadata": {},
   "source": [
    "# Jednoduché grafy"
   ]
  },
  {
   "attachments": {},
   "cell_type": "markdown",
   "metadata": {},
   "source": [
    "### Objekty a třídy v Matplotlibu\n",
    "\n",
    "Každému prvku grafu připadá v objektovém rozhraní Matplotlibu nějaký objekt:\n",
    "\n",
    "**Figure** - objekt reprezentující celý obrázek (může obsahovat více různých grafů). Standardně se vytváří voláním `plt.figure()`, což není konstruktor v pravém slova smyslu (funkce vrací nový objekt typu `Figure`, ale dělá toho ještě mnohem více).\n",
    "\n",
    "**Axes** - objekt reprezentující nějakou soustavu souřadnic (jeden obdélník), do níž lze vykreslovat data. Obvykle se vytváří voláním metody `add_axes` na existujícím objektu `Figure`. Jiné způsoby si popíšeme dále.\n",
    "\n",
    "**Line2D, ...** - každý typ grafu má vlastní třídu.\n",
    "\n",
    "**Text** - objekt reprezentující popisky všeho druhu.\n"
   ]
  },
  {
   "attachments": {},
   "cell_type": "markdown",
   "metadata": {},
   "source": [
    "# Rozeberme si nejjednodušší graf\n"
   ]
  },
  {
   "cell_type": "code",
   "execution_count": null,
   "metadata": {},
   "outputs": [],
   "source": [
    "# Vytvoříme jednoduchá data\n",
    "# (50 bodů rovnoměrně rozmístěných na úsečce -1, 5)\n",
    "x = np.linspace(-1, 5, 50)\n",
    "# jejich druhá mocnina (tj. parabola)\n",
    "y = x ** 2\n",
    "\n",
    "# nový objekt Figure = prázdný obrázek\n",
    "fig = plt.figure(figsize=(8, 6))  # velikost obrázku v palcích (šířka, výška)\n",
    "\n",
    "# U add_axes musíme zadat, jakou část obrázku zabere obdélník se souřadnicemi\n",
    "# zleva, odspodu, šířka, výška (v relativních hodnotách 0 až 1)\n",
    "axes = fig.add_axes((0.1, 0.1, 0.8, 0.8))\n",
    "\n",
    "# Nyní vykreslíme data\n",
    "graf_funkce = axes.plot(x, y)\n",
    "# a zobrazíme obrázek\n",
    "plt.show()"
   ]
  },
  {
   "cell_type": "code",
   "execution_count": null,
   "metadata": {},
   "outputs": [],
   "source": [
    "# podívejme se na jednotlivé objekty\n",
    "print(fig)\n",
    "print(axes)\n",
    "print(graf_funkce)"
   ]
  },
  {
   "attachments": {},
   "cell_type": "markdown",
   "metadata": {},
   "source": [
    "Takovýto graf by šel samozřejmě vykreslit i jediným příkazem `plt.plot(x, y)`, který vytvoří nový objekt `Figure` a v něm nový objekt `Axes` automaticky."
   ]
  },
  {
   "cell_type": "code",
   "execution_count": null,
   "metadata": {},
   "outputs": [],
   "source": [
    "plt.plot(x, y)\n",
    "# a zobrazíme obrázek\n",
    "plt.show()"
   ]
  },
  {
   "cell_type": "markdown",
   "metadata": {},
   "source": [
    "Další datovou sadu do jednoho grafu přidáme opětovným zavoláním metody `plot` pro stejný objekt `Axes`:"
   ]
  },
  {
   "cell_type": "code",
   "execution_count": null,
   "metadata": {},
   "outputs": [],
   "source": [
    "# Kratší získání Figure a Axes\n",
    "# (pomocí rozdělení obrázku na 1x1 podgraf :-))\n",
    "fig, axes = plt.subplots()\n",
    "\n",
    "# Jen voláme vícekrát plot\n",
    "axes.plot(x, y - 5)\n",
    "axes.plot(x, x - y)   # druhá datová řada, se automaticky zbarví jinou barvou\n",
    "# a zobrazíme obrázek\n",
    "plt.show()"
   ]
  },
  {
   "cell_type": "markdown",
   "metadata": {},
   "source": [
    "Nebo opětovným zavoláním metody `plot`. "
   ]
  },
  {
   "cell_type": "code",
   "execution_count": null,
   "metadata": {},
   "outputs": [],
   "source": [
    "# Jen voláme vícekrát plot\n",
    "plt.plot(x, y - 5)\n",
    "plt.plot(x, x - y)   # druhá datová řada, se automaticky zbarví jinou barvou\n",
    "# a zobrazíme obrázek\n",
    "plt.show()"
   ]
  },
  {
   "attachments": {},
   "cell_type": "markdown",
   "metadata": {},
   "source": [
    "Můžeme také vložit několik dvojic datových sad za sebou:"
   ]
  },
  {
   "cell_type": "code",
   "execution_count": null,
   "metadata": {},
   "outputs": [],
   "source": [
    "fix, axes = plt.subplots() \n",
    "\n",
    "# Dvě datové řady najednou\n",
    "axes.plot(x, y + 5, x, y * 2)\n",
    "# a zobrazíme obrázek\n",
    "plt.show()"
   ]
  },
  {
   "cell_type": "code",
   "execution_count": null,
   "metadata": {},
   "outputs": [],
   "source": [
    "# více grafů najednou lze vykreslit i pomocí sloupcového zápisu\n",
    "# první argument jsou souřadnice x po sloupcích \n",
    "# druhý argument jsou souřadnice y po sloupcích\n",
    "\n",
    "# uděláme z x sloupcový vektor\n",
    "x_col = x.reshape((-1,1))\n",
    "# matici se dvěma sloupci x\n",
    "xx = np.tile(x_col, (1,2))\n",
    "print(xx.shape)\n",
    "\n",
    "# matici se dvěma sloupci hodnot y\n",
    "yy = np.hstack((x_col ** 2 + 5, 2 * x_col ** 2))\n",
    "print(yy.shape)\n",
    "\n",
    "plt.plot(xx,yy)\n",
    "# a zobrazíme obrázek\n",
    "plt.show()"
   ]
  },
  {
   "attachments": {},
   "cell_type": "markdown",
   "metadata": {},
   "source": [
    "# Popisky os (základ)"
   ]
  },
  {
   "cell_type": "markdown",
   "metadata": {},
   "source": [
    "Pro přidání popisků os a nastavování dalších parametrů voláme metody objektu `Axes` (obvykle začínají na `set_`)."
   ]
  },
  {
   "cell_type": "code",
   "execution_count": null,
   "metadata": {},
   "outputs": [],
   "source": [
    "fig, axes = plt.subplots()\n",
    "\n",
    "axes.plot(x, x ** 2, color='red', linewidth=2)  # Zopakujeme kreslení čárového grafu (+ přidáme styl)\n",
    "axes.set_xlabel('x')                            # Nastavení popisku osy x\n",
    "axes.set_ylabel('y')                            # Nastavení popisku osy y\n",
    "axes.set_title('Druha mocnina')                 # Nastavení popisku celého grafu (soustavy souřadnic)  ;\n",
    "\n",
    "plt.show()"
   ]
  },
  {
   "cell_type": "markdown",
   "metadata": {},
   "source": [
    "Všechny popisky jsou typu **Text** a dá se s nimi pomocí metod tohoto objektu všemožně manipulovat."
   ]
  },
  {
   "cell_type": "code",
   "execution_count": null,
   "metadata": {},
   "outputs": [],
   "source": [
    "fig, axes = plt.subplots()\n",
    "\n",
    "axes.plot(x, x ** 2, color='red', linewidth=2)  # Zopakujeme kreslení čárového grafu (+ přidáme styl)\n",
    "axes.set_xlabel('x')                            # Nastavení popisku osy x\n",
    "axes.set_ylabel('y')                            # Nastavení popisku osy y\n",
    "title_text = axes.set_title('Druha mocnina')    # Nastavení popisku celého grafu (soustavy souřadnic)\n",
    "\n",
    "title_text.set_fontsize(20)                     # Nastavení velikosti písma\n",
    "title_text.set_color('blue')                    # Nastavení barvy písma\n",
    "title_text.set_fontname('Nimbus Roman')         # Nastavení fontu písma\n",
    "\n",
    "plt.show()"
   ]
  },
  {
   "cell_type": "markdown",
   "metadata": {},
   "source": [
    "Případně lze zase (v případě jednoho grafu) použít metody modulu `plt` napřímo:"
   ]
  },
  {
   "cell_type": "code",
   "execution_count": null,
   "metadata": {},
   "outputs": [],
   "source": [
    "plt.plot(x, x ** 2, color='red', linewidth=2)  # Zopakujeme kreslení čárového grafu (+ přidáme styl)\n",
    "plt.xlabel('x')                                # Nastavení popisku osy x\n",
    "plt.ylabel('y')                                # Nastavení popisku osy y\n",
    "plt.title('Druha mocnina', fontsize=20, color='blue', fontname='Nimbus Roman')  # Nastavení popisku\n",
    "\n",
    "plt.show()"
   ]
  },
  {
   "cell_type": "markdown",
   "metadata": {},
   "source": [
    "## Ukládání do souboru"
   ]
  },
  {
   "cell_type": "markdown",
   "metadata": {},
   "source": [
    "K tomuto účelu slouží metoda **savefig**:"
   ]
  },
  {
   "cell_type": "code",
   "execution_count": null,
   "metadata": {},
   "outputs": [],
   "source": [
    "fig, axes = plt.subplots()\n",
    "\n",
    "axes.plot(x, x ** 2, color='red', linewidth=2)  # Zopakujeme kreslení čárového grafu (+ přidáme styl)\n",
    "axes.set_xlabel('x')                            # Nastavení popisku osy x\n",
    "axes.set_ylabel('y')                            # Nastavení popisku osy y\n",
    "title_text = axes.set_title('Druha mocnina')    # Nastavení popisku celého grafu (soustavy souřadnic)\n",
    "\n",
    "title_text.set_fontsize(20)                     # Nastavení velikosti písma\n",
    "title_text.set_color('blue')                    # Nastavení barvy písma\n",
    "title_text.set_fontname('Nimbus Roman')         # Nastavení fontu písma\n",
    "\n",
    "# Základní uložení (typ souboru podle jména)\n",
    "fig.savefig(\"filename.png\")\n",
    "\n",
    "# Parametry\n",
    "fig.savefig(\"filename1.png\", dpi=50)\n",
    "\n",
    "# Vektorová grafika\n",
    "fig.savefig(\"filename.svg\")\n",
    "fig.savefig(\"filename.pdf\")\n",
    "\n",
    "# Další možnosti pro PDF výstup (\"profi\")\n",
    "fig.savefig(\"filename2.pdf\", bbox_inches='tight')    #-- Bez bílých okrajů\n",
    "fig.savefig(\"filename3.pdf\", bbox_inches='tight', transparent=True) #-- Bez bílých okrajů a s průhlednosti"
   ]
  },
  {
   "cell_type": "code",
   "execution_count": null,
   "metadata": {},
   "outputs": [],
   "source": [
    "# Jednoduchý způsob, jak v Jupyter Notebooku zobrazit obrázek ze souboru\n",
    "import IPython.core.display\n",
    "IPython.core.display.Image(filename=\"filename.png\")"
   ]
  }
 ],
 "metadata": {
  "kernelspec": {
   "display_name": "Python 3",
   "language": "python",
   "name": "python3"
  },
  "language_info": {
   "codemirror_mode": {
    "name": "ipython",
    "version": 3
   },
   "file_extension": ".py",
   "mimetype": "text/x-python",
   "name": "python",
   "nbconvert_exporter": "python",
   "pygments_lexer": "ipython3",
   "version": "3.11.8"
  }
 },
 "nbformat": 4,
 "nbformat_minor": 4
}
