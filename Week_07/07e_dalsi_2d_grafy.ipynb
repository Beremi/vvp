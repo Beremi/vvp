{
 "cells": [
  {
   "cell_type": "code",
   "execution_count": null,
   "metadata": {},
   "outputs": [],
   "source": [
    "# Importujeme základní vykreslovací modul\n",
    "import matplotlib.pyplot as plt \n",
    "\n",
    "# A samozřejmě numpy\n",
    "import numpy as np\n",
    "\n",
    "# Občas se hodí i matematika\n",
    "import math"
   ]
  },
  {
   "attachments": {},
   "cell_type": "markdown",
   "metadata": {},
   "source": [
    "# Další typy 2D grafů"
   ]
  },
  {
   "attachments": {},
   "cell_type": "markdown",
   "metadata": {},
   "source": [
    "Zatím jsme pracovali pouze s metodou `plot` a kreslili jsme čárové grafy. Kromě čárových pak existuje ještě mnoho dalších typů grafu. Jejich kompletní výčet najdete v [galerii](https://matplotlib.org/2.0.2/gallery.html). Uvádíme některé z nich pro ukázku:"
   ]
  },
  {
   "cell_type": "code",
   "execution_count": null,
   "metadata": {},
   "outputs": [],
   "source": [
    "import numpy.random as random\n",
    "\n",
    "x = np.linspace(-1, 5, 50)\n",
    "n = np.array([0,1,2,3,4,5])\n",
    "xx = np.linspace(0, 1, 100) + random.randn(100)\n",
    "\n",
    "fig, axes = plt.subplots(1, 4, figsize=(12,3))\n",
    "\n",
    "# Bodový graf\n",
    "axes[0].scatter(xx, xx + random.randn(len(xx)))\n",
    "\n",
    "# Schodový graf\n",
    "axes[1].step(n, n**2, lw=2)\n",
    "\n",
    "# Sloupcový graf\n",
    "axes[2].bar(n, n**2, align=\"center\", width=0.5, alpha=0.5)\n",
    "\n",
    "# Výplň mezi křivkami\n",
    "axes[3].fill_between(x, x**2, x**3, color=\"green\", alpha=0.5)\n",
    "plt.show()"
   ]
  },
  {
   "attachments": {},
   "cell_type": "markdown",
   "metadata": {},
   "source": [
    "## Histogram"
   ]
  },
  {
   "cell_type": "code",
   "execution_count": null,
   "metadata": {},
   "outputs": [],
   "source": [
    "n = np.random.randn(10000)     # Spousta náhodných čísel (norm.rozdělení)\n",
    "plt.hist(n, 20)                # Histogram o 20 \"binech\"\n",
    "plt.show()"
   ]
  },
  {
   "attachments": {},
   "cell_type": "markdown",
   "metadata": {},
   "source": [
    "## Polární grafy"
   ]
  },
  {
   "cell_type": "markdown",
   "metadata": {},
   "source": [
    "Můžeme samozřejmě vytvářet i polární grafy, stačí jen správně zadat argumenty metody `add_axes`:"
   ]
  },
  {
   "cell_type": "code",
   "execution_count": null,
   "metadata": {},
   "outputs": [],
   "source": [
    "fig = plt.figure(figsize=(5,5))\n",
    "\n",
    "# Polární souřadnice\n",
    "ax = fig.add_axes((0, 0, 1, 1), polar=True)\n",
    "t = np.linspace(0, 10*2 * math.pi, 1000)\n",
    "\n",
    "# Jednoduchá spirála\n",
    "ax.plot(t, t, color='blue', lw=2)\n",
    "plt.show()"
   ]
  },
  {
   "cell_type": "markdown",
   "metadata": {},
   "source": [
    "## Dvourozměrná vizualizace dvoudimenzionálních dat"
   ]
  },
  {
   "cell_type": "markdown",
   "metadata": {},
   "source": [
    "Pokud máme vizualizovat hodnoty závislé na hodnotách dvou parametrů, $z = f(x, y)$, můžeme buď hodnoty kódovat barevně, nebo pomocí obrysového grafu. Ukážeme si obojí."
   ]
  },
  {
   "cell_type": "code",
   "execution_count": null,
   "metadata": {},
   "outputs": [],
   "source": [
    "# Náhodně zhůvěřilá funkce\n",
    "x = np.linspace(0, 6, 100)\n",
    "y = np.linspace(0, 6, 100)\n",
    "X, Y = np.meshgrid(x, y)\n",
    "Z = ((np.sin((X + Y) ** 1.5) + 1.01) / 2) ** (np.cos(Y*3) + 1) + np.sin((X + Y) / 20)"
   ]
  },
  {
   "attachments": {},
   "cell_type": "markdown",
   "metadata": {},
   "source": [
    "## `pcolor` vs. `pcolormesh` (barevné kódování hodnot)\n",
    "\n",
    "Obě funkce, `pcolor` a `pcolormesh`, slouží v knihovně Matplotlib pro vizualizaci dvourozměrných dat pomocí barevného kódování. Rozdíl mezi nimi spočívá především v jejich výkonu a způsobu vykreslování. Očekávají následující základní vstupy:\n",
    "\n",
    "- **X, Y**: Souřadnice mřížky, na které jsou hodnoty zobrazeny.\n",
    "- **C**: Dvourozměrné pole hodnot, které mají být zobrazeny. Velikost pole C by měla odpovídat rozměrům mřížky definované X a Y.\n",
    "- **cmap**: Barevná paleta použitá pro kódování hodnot.\n",
    "\n",
    "#### Parametr `cmap`\n",
    "Parametr `cmap` určuje barevnou paletu použitou pro kódování hodnot. Matplotlib nabízí řadu vestavěných palet, které můžete prozkoumat v [dokumentaci](https://matplotlib.org/2.0.2/examples/color/colormaps_reference.html).\n",
    "\n",
    "#### Vytvoření legendy\n",
    "Příkaz `colorbar()` přidá k grafu barevnou legendu, což umožňuje uživatelům snadno interpretovat, které hodnoty jednotlivé barvy reprezentují.\n",
    "\n",
    "Lze také omezit rozmezí barev, které se zobrazí, pomocí parametrů `vmin` a `vmax`."
   ]
  },
  {
   "cell_type": "code",
   "execution_count": null,
   "metadata": {},
   "outputs": [],
   "source": [
    "plt.pcolormesh(X, Y, Z, cmap='viridis')\n",
    "plt.colorbar()\n",
    "plt.show()"
   ]
  },
  {
   "cell_type": "code",
   "execution_count": null,
   "metadata": {},
   "outputs": [],
   "source": [
    "fig, ax = plt.subplots()\n",
    "\n",
    "p = ax.pcolor(X, Y, Z, shading='auto', cmap=\"jet\", vmin=0.5, vmax=1)\n",
    "cb = fig.colorbar(p, ax=ax)\n",
    "plt.show()"
   ]
  },
  {
   "attachments": {},
   "cell_type": "markdown",
   "metadata": {},
   "source": [
    "## `imshow` (obrazová data)\n",
    "\n",
    "Pokud chceme vykreslit pouze obrázek `Z` hodnot a nezajímá nás osa `X` a `Y` (například je uniformě dělená a konkrétní hodnoty nejsou důležité), můžeme použít funkci `imshow`. Tato funkce je obzvlášť užitečná pro zobrazení obrázků, apod..\n",
    "\n",
    "Můžeme nastavit rozsah osy `X` a `Y` pomocí parametru `extent`, ale jedná se pouze o lineární přeznačení os.\n",
    "\n"
   ]
  },
  {
   "cell_type": "code",
   "execution_count": null,
   "metadata": {},
   "outputs": [],
   "source": [
    "fig, ax = plt.subplots()\n",
    "\n",
    "im = plt.imshow(Z, cmap=\"gray\", extent=(3, 5, 1, 4))\n",
    "\n",
    "plt.colorbar()\n",
    "plt.show()"
   ]
  },
  {
   "cell_type": "markdown",
   "metadata": {},
   "source": [
    "Pozor na grafy, které nemají uniformní dělení osy `X` a `Y` :"
   ]
  },
  {
   "cell_type": "code",
   "execution_count": null,
   "metadata": {},
   "outputs": [],
   "source": [
    "# Náhodně zhůvěřilá funkce\n",
    "x = np.array([0, 1, 2, 3, 4, 5])\n",
    "y = np.array([0, 1, 4, 5, 7, 8])\n",
    "X, Y = np.meshgrid(x, y)\n",
    "Z = ((np.sin((X + Y) ** 1.5) + 1.01) / 2) ** (np.cos(Y * 3) + 1) + np.sin((X + Y) / 20)\n",
    "plt.pcolormesh(X, Y, Z, cmap='viridis')\n",
    "plt.show()\n",
    "plt.imshow(Z, cmap='viridis', origin='lower', extent=(0, 5, 0, 8), aspect='auto')\n",
    "plt.show()"
   ]
  },
  {
   "attachments": {},
   "cell_type": "markdown",
   "metadata": {},
   "source": [
    "## `contour`/`contourf` (obrysový graf)\n",
    "- `contour` vytvoří obrysový graf\n",
    "- `contourf` vytvoří obrysový graf, který je vyplněný barvou\n",
    "Podrobnosti viz [dokumentace](https://matplotlib.org/stable/api/_as_gen/matplotlib.pyplot.contour.html)."
   ]
  },
  {
   "cell_type": "code",
   "execution_count": null,
   "metadata": {},
   "outputs": [],
   "source": [
    "# Náhodně zhůvěřilá funkce\n",
    "x = np.linspace(0, 6, 1000)\n",
    "y = np.linspace(0, 6, 1000)\n",
    "X, Y = np.meshgrid(x, y)\n",
    "Z = ((np.sin((X + Y) ** 1.5) + 1.01) / 2) ** (np.cos(Y * 3) + 1) + np.sin((X + Y) / 20)\n",
    "\n",
    "cnt = plt.contour(X, Y, Z, 10, cmap=\"jet\")\n",
    "plt.colorbar()\n",
    "plt.show()\n",
    "\n",
    "plt.contourf(X, Y, Z, 10, cmap=\"jet\")\n",
    "plt.colorbar()\n",
    "plt.contour(X, Y, Z, 10, colors='k')\n",
    "plt.show()\n"
   ]
  },
  {
   "cell_type": "markdown",
   "metadata": {},
   "source": [
    "Ke grafu lze přidat i hodnoty kontur pomocí funkce `clabel`."
   ]
  },
  {
   "cell_type": "code",
   "execution_count": null,
   "metadata": {},
   "outputs": [],
   "source": [
    "plt.contourf(X, Y, Z, 5, cmap=\"jet\", alpha=0.5)\n",
    "plt.colorbar()\n",
    "CS = plt.contour(X, Y, Z, 5, colors='k', linewidths=0.5)\n",
    "plt.clabel(CS, inline=True, fontsize=5)\n",
    "plt.show()"
   ]
  }
 ],
 "metadata": {
  "kernelspec": {
   "display_name": "Python 3",
   "language": "python",
   "name": "python3"
  },
  "language_info": {
   "codemirror_mode": {
    "name": "ipython",
    "version": 3
   },
   "file_extension": ".py",
   "mimetype": "text/x-python",
   "name": "python",
   "nbconvert_exporter": "python",
   "pygments_lexer": "ipython3",
   "version": "3.11.8"
  }
 },
 "nbformat": 4,
 "nbformat_minor": 4
}
