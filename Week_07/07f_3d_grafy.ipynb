{
 "cells": [
  {
   "cell_type": "code",
   "execution_count": null,
   "metadata": {},
   "outputs": [],
   "source": [
    "# Importujeme základní vykreslovací modul\n",
    "import matplotlib.pyplot as plt \n",
    "\n",
    "# A samozřejmě numpy\n",
    "import numpy as np\n",
    "\n",
    "# Občas se hodí i matematika\n",
    "import math"
   ]
  },
  {
   "attachments": {},
   "cell_type": "markdown",
   "metadata": {},
   "source": [
    "# 3D grafy"
   ]
  },
  {
   "cell_type": "markdown",
   "metadata": {},
   "source": [
    "Pro kreslení trojrozměrných grafů musíme nejdřív vytvořit trojrozměrnou soustavu souřadnic jako instanci třídy `Axes3D`. 3D grafy můžeme do obrázku vkládat stejně jako dvourozměrné, nejjednodušší je ale použít keyword argument `projection='3d'` u klasických metod `add_axes` a `add_subplot`."
   ]
  },
  {
   "cell_type": "code",
   "execution_count": null,
   "metadata": {},
   "outputs": [],
   "source": [
    "from mpl_toolkits.mplot3d import Axes3D"
   ]
  },
  {
   "attachments": {},
   "cell_type": "markdown",
   "metadata": {},
   "source": [
    "## Povrchové grafy\n",
    "\n",
    "Metoda `plot_surface` se používá k vykreslení povrchového grafu. Základní použití vypadá takto:\n",
    "```python\n",
    "p = ax.plot_surface(X, Y, Z, rstride=4, cstride=4, linewidth=0)\n",
    "```\n",
    "- `X`, `Y`, `Z` jsou 2D pole, která reprezentují x, y, z koordináty povrchu.\n",
    "- `rstride` a `cstride` jsou parametry, které kontrolují hustotu mřížky povrchu tím, že určují krok mezi body v řádcích a sloupcích.\n",
    "- `edgecolor` nastaví barvu hran povrchu.\n",
    "- `linewidth` nastaví šířku čar mezi segmenty povrchu, 0 - odstraní viditelné linky mezi body.\n",
    "\n",
    "Další parametry např.:\n",
    "\n",
    "- `cmap=\"jet\"` aplikuje barevné schéma na povrch podle hodnoty `Z`.\n",
    "- `antialiased=True` pomáhá vyhladit hrany povrchu pro lepší vizuální prezentaci.\n"
   ]
  },
  {
   "cell_type": "code",
   "execution_count": null,
   "metadata": {},
   "outputs": [],
   "source": [
    "# Náhodně zhůvěřilá funkce\n",
    "x = np.linspace(0, 6, 100)\n",
    "y = np.linspace(0, 6, 100)\n",
    "X, Y = np.meshgrid(x, y)\n",
    "Z = ((np.sin((X + Y) ** 1.5) + 1.01) / 2) ** (np.cos(Y * 3) + 1) + np.sin((X + Y) / 20)\n",
    "Z = Z.T"
   ]
  },
  {
   "cell_type": "code",
   "execution_count": null,
   "metadata": {},
   "outputs": [],
   "source": [
    "fig = plt.figure(figsize=(14,6))\n",
    "\n",
    "# `ax` je trojrozměrná osa (díky keyword argumentu projection)\n",
    "ax = fig.add_subplot(1, 2, 1, projection='3d')\n",
    "\n",
    "p = ax.plot_surface(X, Y, Z, rstride=4, cstride=4, edgecolor=\"k\", linewidth=1)\n",
    "\n",
    "# Povrchový graf s doprovodnou barevnou informací\n",
    "ax = fig.add_subplot(1, 2, 2, projection='3d')\n",
    "p = ax.plot_surface(X, Y, Z, rstride=1, cstride=1, cmap=\"jet\", linewidth=0, antialiased=True)\n",
    "cb = fig.colorbar(p, shrink=0.5)"
   ]
  },
  {
   "attachments": {},
   "cell_type": "markdown",
   "metadata": {},
   "source": [
    "## Drátěný (wire-frame) graf"
   ]
  },
  {
   "cell_type": "code",
   "execution_count": null,
   "metadata": {},
   "outputs": [],
   "source": [
    "fig = plt.figure(figsize=(8,6))\n",
    "ax = fig.add_subplot(1, 1, 1, projection='3d')\n",
    "p = ax.plot_wireframe(X, Y, Z, rstride=4, cstride=4)"
   ]
  },
  {
   "attachments": {},
   "cell_type": "markdown",
   "metadata": {},
   "source": [
    "Více informací o trojrozměrných grafech najdete zde: [dokumentace](https://matplotlib.org/2.0.2/mpl_toolkits/mplot3d/tutorial.html)."
   ]
  },
  {
   "attachments": {},
   "cell_type": "markdown",
   "metadata": {},
   "source": [
    "# Backendy"
   ]
  },
  {
   "cell_type": "markdown",
   "metadata": {},
   "source": [
    "Matplotlib nabízí spoustu tzv. \"backendů\", které se starají o vytváření grafů v různých formátech (SVG, PNG, PDF, ...) a jejich zobrazování pomocí různých technologií (Qt, GTK, přímo v Jupyter Notebooku atp.). Některé jsou interaktivní, jiné ne, nebudeme si je ale ukazovat jeden po druhém.\n",
    "\n",
    "Seznam všech podporovaných backendů v aktuální instalaci matplotlibu:"
   ]
  },
  {
   "cell_type": "code",
   "execution_count": null,
   "metadata": {},
   "outputs": [],
   "source": [
    "import matplotlib\n",
    "print(matplotlib.rcsetup.all_backends)"
   ]
  },
  {
   "attachments": {},
   "cell_type": "markdown",
   "metadata": {},
   "source": [
    "Ne vždy se hodí inline backend. Především pokud chceme s grafem interaktivně pracovat (zoom, posun apod.) použijeme `widget` backend pomocí\n",
    "```\n",
    "%matplotlib widget\n",
    "```\n",
    "Pokud chceme zobrazit graf v novém okně, použijeme backend pro daný OS, např. na Linuxu `tk`, `gtk`, nebo `qt`. "
   ]
  },
  {
   "cell_type": "code",
   "execution_count": null,
   "metadata": {},
   "outputs": [],
   "source": [
    "%matplotlib widget"
   ]
  },
  {
   "cell_type": "code",
   "execution_count": null,
   "metadata": {},
   "outputs": [],
   "source": [
    "import matplotlib.pyplot as plt\n",
    "import numpy as np\n",
    "x = np.linspace(0, 10, 100)\n",
    "plt.plot(x, np.sin(x), '-')"
   ]
  },
  {
   "cell_type": "code",
   "execution_count": null,
   "metadata": {},
   "outputs": [],
   "source": [
    "from mpl_toolkits.mplot3d import Axes3D\n",
    "\n",
    "X, Y = np.meshgrid(np.arange(-5, 5, 0.25), np.arange(-5, 5, 0.25))\n",
    "R = np.sqrt(X**2 + Y**2)\n",
    "Z = np.sin(R)\n",
    "\n",
    "fig = plt.figure()\n",
    "ax = fig.add_subplot(111, projection='3d')\n",
    "ax.plot_surface(X, Y, Z, rstride=1, cstride=1, cmap='hot')\n"
   ]
  },
  {
   "cell_type": "markdown",
   "metadata": {},
   "source": [
    "## Odkazy"
   ]
  },
  {
   "cell_type": "markdown",
   "metadata": {},
   "source": [
    "* http://www.matplotlib.org - Hlavní stránka projektu\n",
    "* http://matplotlib.org/gallery.html - Galerie se spoustou příkladů toho, co se v matplotlib dá udělat.\n",
    "* http://www.loria.fr/~rougier/teaching/matplotlib - Dobrý tutoriál (v angličtině)."
   ]
  },
  {
   "cell_type": "markdown",
   "metadata": {},
   "source": [
    "## Jak vylepšit (nebo také ne) vzhled grafů z Matplotlib\n",
    "\n",
    "* https://matplotlib.org/tutorials/introductory/customizing.html\n",
    "* https://github.com/mwaskom/seaborn"
   ]
  },
  {
   "cell_type": "markdown",
   "metadata": {},
   "source": [
    "## Další knihovny pro práci s grafy"
   ]
  },
  {
   "cell_type": "markdown",
   "metadata": {},
   "source": [
    "* **Plotly** - JavaScript knihovna s Python API a také online prostředím pro kreslení grafů: https://plot.ly/\n",
    "* **Bokeh** - interaktivní grafy pomocí HTML + JS od Continuum Analytics, http://bokeh.pydata.org/\n",
    "* **Holoviews** - vizualizace dat propojená s práci s daty samotnými.\n",
    "* a další, přehled najdete na https://pyviz.org/"
   ]
  }
 ],
 "metadata": {
  "kernelspec": {
   "display_name": "Python 3",
   "language": "python",
   "name": "python3"
  },
  "language_info": {
   "codemirror_mode": {
    "name": "ipython",
    "version": 3
   },
   "file_extension": ".py",
   "mimetype": "text/x-python",
   "name": "python",
   "nbconvert_exporter": "python",
   "pygments_lexer": "ipython3",
   "version": "3.13.2"
  }
 },
 "nbformat": 4,
 "nbformat_minor": 4
}
