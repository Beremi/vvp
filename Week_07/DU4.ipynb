{
 "cells": [
  {
   "attachments": {},
   "cell_type": "markdown",
   "metadata": {},
   "source": [
    "# Domácí úkol\n"
   ]
  },
  {
   "cell_type": "markdown",
   "metadata": {},
   "source": [
    "## 1. Spinograf\n",
    "- **Úkol : nakreslete obrázek trajektorie bodu na spinografu pro zadané hodnoty**\n",
    "    - $ R $  (poloměr větší kružnice),\n",
    "    - $ r $  (poloměr menší kružnice), a\n",
    "    - $ d $  (vzdálenost bodu od středu menší kružnice).\n",
    "- Rozmyslete si kolik rotací musí menší kružnice udělat, aby se bod vrátil do své původní pozice. (vykreslete dráhu tak, aby byla uzavřená)\n",
    "- Vyzkoušejte alespoň pro $R=10, r=3, d=1$ a $R=7, r=2, d=5$.\n",
    "- Vykreslete pomocí tenké modré čáry, zvolte dostatek bodů, aby byla trajektorie plynulá (hladká).\n",
    "\n",
    "---\n",
    "\n",
    "### Co je to spinograf?\n",
    "Jedná se o hru/výukovou pomůcku (viz. https://en.wikipedia.org/wiki/Spirograph).\n",
    "\n",
    "Pro vysvětlení trajektorie bodu na spinografu (často označovaného jako hypotrochoida, když se menší kružnice otáčí uvnitř větší kružnice) použijeme goniometrický popis polohy bodu na kružnici v závislosti na úhlu rotace. Máme jednu větší kružnici s poloměrem  $ R $  a jednu menší kružnici s poloměrem  $ r $ , a chceme trasovat dráhu bodu, který je od středu menší kružnice vzdálen o vzdálenost  $ d $ .\n",
    "\n",
    "\n",
    "### Poloha středu menší kružnice\n",
    "\n",
    "Střed menší kružnice se otáčí uvnitř větší kružnice. Poloha středu menší kružnice v závislosti na úhlu  $ \\theta $  je dána parametrickými rovnicemi v kartézských souřadnicích:\n",
    "\n",
    "-  $ X = (R - r)  \\cos(\\theta) $ \n",
    "-  $ Y = (R - r)  \\sin(\\theta) $ \n",
    "\n",
    "kde  $ \\theta $  je úhel rotace středu menší kružnice v radiánech.\n",
    "\n",
    "### Otočení menší kružnice\n",
    "\n",
    "Menší kružnice se otočí (valí se po větší kružnici). Úhel, o který se menší kružnice otočila ve svém vlastním středu vzhledem k počátečnímu bodu, je dán délkou oblouku, který urazila:\n",
    "$$ \\theta R $$\n",
    "\n",
    "pokud chceme tento oblouk vyjádřit vzhledem k úhlu otočení v radiánech, o který se otočila menší kružnice ve svém středu,  převádíme zpětně z obvodu na úhel:\n",
    "$$ \\theta \\frac{ R}{r} $$\n",
    "poslední dvě důležitá pozotování jsou:\n",
    "- malá kružnice se otočí negativně (tedy úhel je záporný)\n",
    "- malá kružnice se otočí zároveň se svým středem, tedy k úhlu otočení musíme přičíst úhel $\\theta$\n",
    "\n",
    "Celkově máme:\n",
    "\n",
    "$$ \\phi = \\theta - \\theta \\frac{R}{r} = - \\theta \\frac{R-r}{r} $$\n",
    "\n",
    "\n",
    "### Pozice bodu na spinografu\n",
    "\n",
    "Nakonec, sloučíme pozici středu a relativní pozici bodu ve vzdálenosti $d$ od středu menší kružnice\n",
    "\n",
    "-  $ x = X + d \\cos(\\phi) = (R - r) \\cos(\\theta) + d \\cos(- \\theta \\frac{R-r}{r})$ \n",
    "-  $ y = X + d \\sin(\\phi) = (R - r) \\sin(\\theta) + d \\sin(- \\theta \\frac{R-r}{r})$ \n",
    "\n",
    "Pokud použijeme vlastnosti (sudost/lichost) gonimetricých funkcí, můžeme tyto rovnice zjednodušit na:\n",
    "\n",
    "$$ x = (R - r) \\cos(\\theta) + d \\cos(\\theta \\frac{R-r}{r})$$\n",
    "$$ y = (R - r) \\sin(\\theta) - d \\sin(\\theta \\frac{R-r}{r})$$"
   ]
  },
  {
   "cell_type": "code",
   "execution_count": null,
   "metadata": {},
   "outputs": [],
   "source": [
    "#TODO"
   ]
  },
  {
   "cell_type": "markdown",
   "metadata": {},
   "source": [
    "# 2. Prvočíselná spirála\n",
    "\n",
    "\n",
    "**Část 1.: Vykreslení \"slunečnicových bodů\"**\n",
    "\n",
    "- Vykreslete tzv. \"slunečnicové body\". Tedy prvních `N` takových bodů.\n",
    "- Vykreslete je tak aby byl vzor dobře vidět (zvolte vhodné velikosti bodů)\n",
    "\n",
    "##### Co jsou to slunečnicové body?\n",
    "Poloměr $ r $ a úhel $ \\theta $ pro každý bod (číslované přirozenými čísly: $n=1,...,N$) jsou určeny následovně:\n",
    "\n",
    "1. Zlatý úhel $ \\phi $ je dán vztahem:\n",
    "$$\n",
    "\\phi = \\pi \\cdot (3 - \\sqrt{5})\n",
    "$$\n",
    "\n",
    "2. Poloměr $ r $ je odvozen z indexu bodu $ n $ jako:\n",
    "$$\n",
    "r = \\sqrt{n}\n",
    "$$\n",
    "\n",
    "3. Úhel $ \\theta $ pro bod $ n $ je vypočítán jako:\n",
    "$$\n",
    "\\theta = n \\cdot \\phi\n",
    "$$\n",
    "\n",
    "Každý bod je poté umístěn pomocí kartézských souřadnic $(x, y)$, které jsou vypočítány pomocí:\n",
    "$$\n",
    "x = r \\cdot \\cos(\\theta)\n",
    "$$\n",
    "$$\n",
    "y = r \\cdot \\sin(\\theta)\n",
    "$$\n",
    "\n",
    "**Část 2.: Vykreslení prvočíselné spirály**\n",
    "- Vykreslete prvočíselnou spirálu pro prvních `N` prvočísel.\n",
    "- Jedná se o stejný vzor jako v případě \"slunečnicových bodů\", ale tentokrát vykreslíme pouze body, které odpovídají prvočíslům.\n"
   ]
  },
  {
   "cell_type": "code",
   "execution_count": null,
   "metadata": {},
   "outputs": [],
   "source": [
    "#TODO"
   ]
  },
  {
   "attachments": {},
   "cell_type": "markdown",
   "metadata": {},
   "source": [
    "# Bonusové úkoly\n",
    "1. Modifikujte spinograf tak, aby menší kružnice:\n",
    "    - se otáčela po vnější straně větší kružnice\n",
    "    - se otáčela po rovnostraném n-úhelníku (trojúhelník, čtverec, šestiúhelník, ...)"
   ]
  },
  {
   "cell_type": "code",
   "execution_count": null,
   "metadata": {},
   "outputs": [],
   "source": [
    "#TODO"
   ]
  }
 ],
 "metadata": {
  "kernelspec": {
   "display_name": "Python 3",
   "language": "python",
   "name": "python3"
  },
  "language_info": {
   "name": "python",
   "version": "3.10.10"
  },
  "orig_nbformat": 4
 },
 "nbformat": 4,
 "nbformat_minor": 2
}
