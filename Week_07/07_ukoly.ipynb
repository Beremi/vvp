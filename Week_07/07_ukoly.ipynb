{
 "cells": [
  {
   "attachments": {},
   "cell_type": "markdown",
   "metadata": {},
   "source": [
    "# Úkoly\n"
   ]
  },
  {
   "cell_type": "markdown",
   "metadata": {},
   "source": [
    "## Základy\n",
    "1. Vyrobte graf funkce $f(x) = \\sin (x)$ na intervalu $x \\in \\langle -2\\pi, 2\\pi \\rangle$.\n",
    "- graf vykreslete červenou barvou a linkou s tloušťkou 3\n",
    "- graf bude o velikosti 10x5 palců\n",
    "- osa x bude označena jako \"čas [s]\", osa y bude označena jako \"amplituda [m]\"\n",
    "- titulek grafu budete \"Amplitudový průběh funkce závaží na pružině\"\n",
    "- uložte graf do pdf souboru s názvem \"graf.pdf\", nastavte export aby graf neměl bílé okraje"
   ]
  },
  {
   "cell_type": "markdown",
   "metadata": {},
   "source": []
  },
  {
   "cell_type": "markdown",
   "metadata": {},
   "source": [
    "## Více grafů/os\n",
    "1. Vykreslete mřížku n x n grafů (můžete začít s n=3).\n",
    "- vyrobte list s hodnotami $\\sin (ix)$ pro $i \\in \\langle 1, n \\rangle$ pro $x \\in \\langle 0, 2\\pi \\rangle$\n",
    "- do každého grafu (se souřadnicemi i - index řádku, j - index sloupce mřížky) vykreslete graf s x hodnotami dle i-tého prvku listu a s y hodnotami dle j-tého prvku listu"
   ]
  },
  {
   "cell_type": "code",
   "execution_count": null,
   "metadata": {},
   "outputs": [],
   "source": []
  },
  {
   "cell_type": "markdown",
   "metadata": {},
   "source": [
    "2. Vykreslete grafy funkce $f(x) = \\sin (x)$ a $g(x) = 100^{\\sin(x)}$ do jednoho obrázku tak aby oba grafy byly dobře vidět (použijte separátní osy y pro každý graf)."
   ]
  },
  {
   "cell_type": "markdown",
   "metadata": {},
   "source": [
    "## Formátování grafu\n",
    "1. Vykreslete grafy funkcí $f(x) = x^2$ a $g(x) = x^3$ na intervalu $x \\in \\langle 1, 10 \\rangle$ do jednoho \"figure\".\n",
    "    - nastavte limit osy x na interval $x \\in \\langle 1, 10 \\rangle$ a osy y na interval $y \\in \\langle 1, 1000 \\rangle$\n",
    "    - nastavte měřítko osy x na logaritmické\n",
    "    - velikost grafu nastavte na 10x5 palců\n",
    "    - osa x bude označena jako \"čas [s]\", osa y bude označena jako \"amplituda [m]\"\n",
    "    - popisky obou os budou v monospace fontu a o velikosti 15"
   ]
  },
  {
   "cell_type": "code",
   "execution_count": null,
   "metadata": {},
   "outputs": [],
   "source": []
  },
  {
   "cell_type": "markdown",
   "metadata": {},
   "source": [
    "## Barvy a styly\n",
    "1. Vykreslete grafy funkcí $f(x) = \\sin (x)$ a $g(x) = \\text{e}^{-x}$ na intervalu $x \\in \\langle 0, 2\\pi \\rangle$ do jednoho \"figure\".\n",
    "    - graf $f(x)$ vykreslete červenou barvou a linkou s tloušťkou 3\n",
    "    - graf $g(x)$ vykreslete modrou barvou a tečkovanou čarou s tloušťkou 3\n",
    "    - nastavte legendu grafu tak aby byla v pravém horním rohu\n",
    "    - přidejte mřížku do grafu\n",
    "    - nastavte ticky na ose x ať odpovídají hodnotám $\\pi/4, \\pi/2, 3\\pi/4, \\pi, 5\\pi/4, 3\\pi/2, 7\\pi/4, 2\\pi$ a nastavte jim popisky v LaTeX notaci"
   ]
  },
  {
   "cell_type": "code",
   "execution_count": null,
   "metadata": {},
   "outputs": [],
   "source": []
  },
  {
   "cell_type": "markdown",
   "metadata": {},
   "source": [
    "## Další 2D grafy"
   ]
  },
  {
   "cell_type": "markdown",
   "metadata": {},
   "source": [
    "\n",
    "1. Vygenerujte náhodná data (normální rozdělení pro osu x i y, nezávisle na sobě) a zobrazte je jako scatter plot. Nastavte marker na malé kolečko, a nastavte průhlednost na 0.1. Ozkoušejte s různým mnnožstvím bodů (např. 1000, 10000, ...).\n"
   ]
  },
  {
   "cell_type": "code",
   "execution_count": null,
   "metadata": {},
   "outputs": [],
   "source": []
  },
  {
   "cell_type": "markdown",
   "metadata": {},
   "source": [
    "\n",
    "2. Vykreslete polar graf s funkcí $r = 2\\sin(3θ)$.\n"
   ]
  },
  {
   "cell_type": "code",
   "execution_count": null,
   "metadata": {},
   "outputs": [],
   "source": []
  },
  {
   "cell_type": "markdown",
   "metadata": {},
   "source": [
    "3. Pomocí pcolormesh vykreslete funkci $f(x, y) = \\sin(x) \\sin(y)$ na obdélníku $x \\in \\langle 0, 2\\pi \\rangle$, $y \\in \\langle 0, 2\\pi \\rangle$. Přidejte 5 okótokých čar pomocí contour."
   ]
  },
  {
   "cell_type": "code",
   "execution_count": null,
   "metadata": {},
   "outputs": [],
   "source": []
  },
  {
   "cell_type": "markdown",
   "metadata": {},
   "source": [
    "\n",
    "4. Vygenerujte náhodná data a zobrazte je jako histogram.\n"
   ]
  },
  {
   "cell_type": "code",
   "execution_count": null,
   "metadata": {},
   "outputs": [],
   "source": []
  },
  {
   "attachments": {},
   "cell_type": "markdown",
   "metadata": {},
   "source": [
    "## 3D grafy\n",
    "1. Vykreslete 3D wire-frame grafu funkce $$z = \\frac{\\sin(\\sqrt{x^2 + y^2})}{\\sqrt{x^2 + y^2}}$$.\n"
   ]
  },
  {
   "cell_type": "code",
   "execution_count": null,
   "metadata": {},
   "outputs": [],
   "source": []
  },
  {
   "attachments": {},
   "cell_type": "markdown",
   "metadata": {},
   "source": [
    "\n",
    "2. Vytvořte 3D surf graf s funkcí $$z = \\cos(\\sqrt{x^2 + y^2})$$\n"
   ]
  },
  {
   "cell_type": "code",
   "execution_count": null,
   "metadata": {},
   "outputs": [],
   "source": []
  }
 ],
 "metadata": {
  "kernelspec": {
   "display_name": "Python 3",
   "language": "python",
   "name": "python3"
  },
  "language_info": {
   "codemirror_mode": {
    "name": "ipython",
    "version": 3
   },
   "file_extension": ".py",
   "mimetype": "text/x-python",
   "name": "python",
   "nbconvert_exporter": "python",
   "pygments_lexer": "ipython3",
   "version": "3.11.8"
  },
  "orig_nbformat": 4
 },
 "nbformat": 4,
 "nbformat_minor": 2
}
