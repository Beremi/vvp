{
 "cells": [
  {
   "attachments": {},
   "cell_type": "markdown",
   "metadata": {},
   "source": [
    "# Reference counter in Python"
   ]
  },
  {
   "cell_type": "code",
   "execution_count": 7,
   "metadata": {},
   "outputs": [
    {
     "name": "stdout",
     "output_type": "stream",
     "text": [
      "2\n",
      "3\n",
      "5\n"
     ]
    }
   ],
   "source": [
    "import sys\n",
    "\n",
    "# create an object and assign it to a variable\n",
    "x = [1, 2, 3]\n",
    "\n",
    "# get the reference count of the object\n",
    "ref_count = sys.getrefcount(x)\n",
    "\n",
    "# print the reference count\n",
    "print(ref_count)  # Output: 2 (one reference from the variable x and one reference from the argument to getrefcount())\n",
    "\n",
    "y = x\n",
    "\n",
    "ref_count = sys.getrefcount(x)\n",
    "\n",
    "# print the reference count\n",
    "print(ref_count)  # Output: 3 (one reference from the variable x, one reference from the variable y and one reference from the argument to getrefcount())\n",
    "\n",
    "z = [x, y, 5]\n",
    "\n",
    "ref_count = sys.getrefcount(x)\n",
    "print(ref_count)  # Output: 5, +2 for the two references in the list z"
   ]
  },
  {
   "attachments": {},
   "cell_type": "markdown",
   "metadata": {},
   "source": [
    "# Instructions of the Python interpreter "
   ]
  },
  {
   "cell_type": "code",
   "execution_count": 20,
   "metadata": {},
   "outputs": [
    {
     "name": "stdout",
     "output_type": "stream",
     "text": [
      "  4           0 LOAD_CONST               1 (1)\n",
      "              2 STORE_FAST               1 (result)\n",
      "\n",
      "  5           4 LOAD_GLOBAL              0 (range)\n",
      "              6 LOAD_CONST               1 (1)\n",
      "              8 LOAD_FAST                0 (n)\n",
      "             10 LOAD_CONST               1 (1)\n",
      "             12 BINARY_ADD\n",
      "             14 CALL_FUNCTION            2\n",
      "             16 GET_ITER\n",
      "        >>   18 FOR_ITER                 6 (to 32)\n",
      "             20 STORE_FAST               2 (i)\n",
      "\n",
      "  6          22 LOAD_FAST                1 (result)\n",
      "             24 LOAD_FAST                2 (i)\n",
      "             26 INPLACE_MULTIPLY\n",
      "             28 STORE_FAST               1 (result)\n",
      "             30 JUMP_ABSOLUTE            9 (to 18)\n",
      "\n",
      "  7     >>   32 LOAD_FAST                1 (result)\n",
      "             34 RETURN_VALUE\n"
     ]
    }
   ],
   "source": [
    "import dis\n",
    "# factorial with for loop\n",
    "def factorial(n):\n",
    "    result = 1\n",
    "    for i in range(1, n + 1):\n",
    "        result *= i\n",
    "    return result\n",
    "\n",
    "dis.dis(factorial)"
   ]
  },
  {
   "cell_type": "code",
   "execution_count": null,
   "metadata": {},
   "outputs": [],
   "source": []
  }
 ],
 "metadata": {
  "kernelspec": {
   "display_name": "Python 3",
   "language": "python",
   "name": "python3"
  },
  "language_info": {
   "codemirror_mode": {
    "name": "ipython",
    "version": 3
   },
   "file_extension": ".py",
   "mimetype": "text/x-python",
   "name": "python",
   "nbconvert_exporter": "python",
   "pygments_lexer": "ipython3",
   "version": "3.10.9"
  },
  "orig_nbformat": 4,
  "vscode": {
   "interpreter": {
    "hash": "e7370f93d1d0cde622a1f8e1c04877d8463912d04d973331ad4851f04de6915a"
   }
  }
 },
 "nbformat": 4,
 "nbformat_minor": 2
}
