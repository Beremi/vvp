{
 "cells": [
  {
   "attachments": {},
   "cell_type": "markdown",
   "metadata": {},
   "source": [
    "# Pokračování v prozkoumávání Pythonu\n",
    "V této lekci se budeme zabývat pokročilejšími funkcemi Pythonu. Budeme se zabývat:\n",
    "\n",
    "- prostory jmen a obory platnosti proměnných,\n",
    "- Jupyter magics,\n",
    "- třídami\n",
    "- výjimkami,\n",
    "- práci s řetězci,\n",
    "- generátory a iterátory,\n",
    "- list comprehension,\n",
    "- práci se soubory,"
   ]
  },
  {
   "attachments": {},
   "cell_type": "markdown",
   "metadata": {},
   "source": [
    "# Prostory jmen a obor platnosti proměnných\n",
    "Prostor jmen (anglicky `namespace`) je struktura sloužící k organizaci názvů proměnných, funkcí, tříd a dalších objektů. \n",
    "Dá se představit jako slovník, kde klíčem je název objektu (název proměnné) a hodnotou je objekt sám.\n",
    "\n",
    "V Pythonu existuje čtyři druhy prostorů jmen:\n",
    "- vestavěný (`builtins`)\n",
    "    - jedná se o prostor jmen, který je vytvořen při spuštění Python interpretu\n",
    "- globální (`global`)\n",
    "    - jedná se o prostor jmen, který je vytvořen při vstupu do interaktivního režimu nebo při spuštění skriptu\n",
    "- ne-lokální (`nonlocal`)\n",
    "    - jedná se o prostor jmen, který je v bloku do nějž je zanořen aktuální blok\n",
    "- lokální (`local`)\n",
    "    - jedná se o prostor jmen, který je vytvořen při vstupu do odděleného bloku = nejčastěji funkce\n",
    "\n",
    "Toto pořadí (od posledního k prvnímu) je také pořadí, v jakém se prohledávají prostory jmen. Pokud se název objektu nenajde v lokálním prostoru jmen, tak se prohledává ne-lokální prostor jmen, pak globální a nakonec vestavěný. Pokud se objekt v žádném prostoru jmen nenajde, tak se vyvolá výjimka `NameError`.\n",
    "\n",
    "Globální a lokální prostor jmen jsou skutečně implementovány jako slovníky. Vestavěný prostor jmen je implementován jako modul `builtins`. "
   ]
  },
  {
   "cell_type": "code",
   "execution_count": null,
   "metadata": {},
   "outputs": [],
   "source": [
    "nejaka_promenna = 1\n",
    "print(type(globals()))\n",
    "print(globals())\n"
   ]
  },
  {
   "cell_type": "code",
   "execution_count": null,
   "metadata": {},
   "outputs": [],
   "source": [
    "nejaka_promenna = 1\n",
    "\n",
    "def funkce():\n",
    "    nova_promenna_uvnitr_funkce = 1\n",
    "    nejaka_promenna = 2\n",
    "    print(type(locals()))\n",
    "    print(locals())\n",
    "    \n",
    "funkce()"
   ]
  },
  {
   "cell_type": "code",
   "execution_count": null,
   "metadata": {},
   "outputs": [],
   "source": [
    "print(type(__builtins__))\n",
    "print(dir(__builtins__))"
   ]
  },
  {
   "cell_type": "code",
   "execution_count": null,
   "metadata": {},
   "outputs": [],
   "source": [
    "# pokud proměnná není v žádném jmeném prostoru, vyhodíme chybu\n",
    "print(nedefinovana_promenna)\n",
    "nedefinovana_promenna = 1"
   ]
  },
  {
   "cell_type": "code",
   "execution_count": null,
   "metadata": {},
   "outputs": [],
   "source": [
    "# pokud vyrobíme novou proměnnou zde, bude v globálním prostoru\n",
    "moje_promenna = 42\n",
    "print(id(moje_promenna))\n",
    "print(id(globals()['moje_promenna']))\n"
   ]
  },
  {
   "cell_type": "code",
   "execution_count": null,
   "metadata": {},
   "outputs": [],
   "source": [
    "# ukázka globálního prostoru\n",
    "moje_promenna = 42\n",
    "\n",
    "\n",
    "def funkce():\n",
    "    print(moje_promenna)\n",
    "\n",
    "\n",
    "funkce()\n"
   ]
  },
  {
   "cell_type": "code",
   "execution_count": null,
   "metadata": {},
   "outputs": [],
   "source": [
    "# ukázka lokálního prostoru\n",
    "moje_promenna = 42\n",
    "\n",
    "\n",
    "def funkce():\n",
    "    moje_promenna = 43\n",
    "    print(moje_promenna)\n",
    "\n",
    "\n",
    "funkce()\n"
   ]
  },
  {
   "cell_type": "code",
   "execution_count": null,
   "metadata": {},
   "outputs": [],
   "source": [
    "# ukázka nelokálního prostoru\n",
    "moje_promenna = 42\n",
    "\n",
    "\n",
    "def funkce():\n",
    "    moje_promenna = 43\n",
    "\n",
    "    def funkce2():\n",
    "        print(moje_promenna)\n",
    "\n",
    "    funkce2()\n",
    "\n",
    "\n",
    "funkce()\n"
   ]
  },
  {
   "attachments": {},
   "cell_type": "markdown",
   "metadata": {},
   "source": [
    "Pro lokální prostor jmen je vytvořen nový slovník ve chvíli, kdy je funkce definována. Tedy ne při běhu!"
   ]
  },
  {
   "cell_type": "code",
   "execution_count": null,
   "metadata": {},
   "outputs": [],
   "source": [
    "# výstup tohote není 42, 43! ale chyba\n",
    "moje_promenna = 42\n",
    "\n",
    "\n",
    "def funkce():\n",
    "    print(moje_promenna)\n",
    "    moje_promenna = 43\n",
    "    print(moje_promenna)\n",
    "\n",
    "\n",
    "funkce()\n",
    "# všimněmě si, že se nejedná o NameError, ale o UnboundLocalError"
   ]
  },
  {
   "attachments": {},
   "cell_type": "markdown",
   "metadata": {},
   "source": [
    "Přístup k objektům z globálního prostoru jmen, umožňuje objekt měnit, ale nemůže jej přepsat. Pokud se pokusíme přepsat objekt, tak se přesuneme do lokálního prostoru jmen."
   ]
  },
  {
   "cell_type": "code",
   "execution_count": null,
   "metadata": {},
   "outputs": [],
   "source": [
    "muj_list = [1, 2, 3]\n",
    "\n",
    "\n",
    "def funkce():\n",
    "    print(muj_list)\n",
    "    muj_list[0] = 42\n",
    "    muj_list.append(4)\n",
    "\n",
    "\n",
    "funkce()\n",
    "print(muj_list)\n"
   ]
  },
  {
   "attachments": {},
   "cell_type": "markdown",
   "metadata": {},
   "source": [
    "Pokud jej chceme přepsat, tak musíme použít klíčové slovo `global`. Asi nemusíme zdůrazňovat, že je to poněkud nerozumné řešení z pohledu transparentnosti kódu."
   ]
  },
  {
   "cell_type": "code",
   "execution_count": null,
   "metadata": {},
   "outputs": [],
   "source": [
    "muj_list = [1, 2, 3]\n",
    "\n",
    "print(id(muj_list))\n",
    "\n",
    "\n",
    "def funkce():\n",
    "    global muj_list\n",
    "    muj_list = [42, 2, 3]\n",
    "\n",
    "\n",
    "funkce()\n",
    "\n",
    "print(id(muj_list))\n",
    "print(muj_list)\n"
   ]
  },
  {
   "attachments": {},
   "cell_type": "markdown",
   "metadata": {},
   "source": [
    "Úplně stejně funguje i přístup k objektům z ne-lokálního prostoru jmen. Pokud jej chceme přepsat, tak musíme použít klíčové slovo `nonlocal`."
   ]
  },
  {
   "cell_type": "code",
   "execution_count": null,
   "metadata": {},
   "outputs": [],
   "source": [
    "# ukázka nonlocal\n",
    "def funkce():\n",
    "    muj_list = [1, 2, 3]\n",
    "\n",
    "    def funkce2():\n",
    "        nonlocal muj_list\n",
    "        muj_list[0] = 42\n",
    "        muj_list.append(4)\n",
    "\n",
    "    funkce2()\n",
    "    print(muj_list)\n",
    "\n",
    "\n",
    "funkce()\n"
   ]
  },
  {
   "attachments": {},
   "cell_type": "markdown",
   "metadata": {},
   "source": [
    "Asi už je teď trochu jasné i jak funguje obor platnosti proměnných. Raději ale poslední ukázka:"
   ]
  },
  {
   "cell_type": "code",
   "execution_count": null,
   "metadata": {},
   "outputs": [],
   "source": [
    "prommena = 42\n",
    "\n",
    "def funkce():\n",
    "    prommena = 43\n",
    "    print(\"1: \", prommena)\n",
    "    def funkce2():\n",
    "        prommena = 44\n",
    "        print(\"2: \", prommena)\n",
    "        \n",
    "    funkce2()\n",
    "    print(\"3: \", prommena)\n",
    "    \n",
    "print(\"4: \", prommena)\n",
    "funkce()\n",
    "print(\"5: \",prommena)"
   ]
  },
  {
   "attachments": {},
   "cell_type": "markdown",
   "metadata": {},
   "source": [
    "Vzpomínáte si, že jsme říkali, že lokální prostor je vytvořen přímo při definici funkce? Podobně to funguje pro seznam defaultních hodnot parametrů. Ten se po deklaraci funkce vytvoří a zůstává stejný pro všechny volání této funkce. Pokud je defaultní hodnota parametru měnitelného typu, tak se tyto změny projeví i v dalších voláních této funkce. \n",
    "\n",
    "Pozor, i když objekt uvnitř funkce přepíšeme, tak originální defaultní hodnota je stále zachována a připravena pro další volání funkce."
   ]
  },
  {
   "cell_type": "code",
   "execution_count": null,
   "metadata": {},
   "outputs": [],
   "source": [
    "def funkce(muj_list = []):\n",
    "    muj_list.append(42)\n",
    "    print(muj_list)\n",
    "    muj_list = []\n",
    "    \n",
    "funkce()\n",
    "funkce()\n",
    "funkce([])\n",
    "funkce()\n",
    "funkce()\n"
   ]
  },
  {
   "attachments": {},
   "cell_type": "markdown",
   "metadata": {},
   "source": [
    "Na defaultní hodnoty parametrů funkce se lze podívat pomocí atributu `__defaults__`."
   ]
  },
  {
   "cell_type": "code",
   "execution_count": null,
   "metadata": {},
   "outputs": [],
   "source": [
    "def funkce(muj_list=[], muj_string=\"\"):\n",
    "    muj_list.append(42)\n",
    "    muj_string += \"42\"\n",
    "    print(muj_list)\n",
    "    print(muj_string)\n",
    "\n",
    "\n",
    "print(funkce.__defaults__)\n",
    "funkce()\n",
    "print(funkce.__defaults__)\n",
    "funkce()\n",
    "print(funkce.__defaults__)\n",
    "funkce()\n",
    "print(funkce.__defaults__)\n",
    "funkce()\n",
    "print(funkce.__defaults__)"
   ]
  },
  {
   "attachments": {},
   "cell_type": "markdown",
   "metadata": {},
   "source": [
    "# Jupyter magics a další\n",
    "Jupyter magics jsou speciální příkazy spustitelné v Jupyter noebooku, které umožňují využívat různé funkce mimo prostředí Pythonu. \n",
    "\n",
    "Jupyter magics se spouští pomocí prefixu `%` (pro jednořádkové magics) nebo `%%` (pro víceřádkové magics).\n",
    "\n",
    "Příkazů je obrovské množství, viz například [tento seznam](https://ipython.readthedocs.io/en/stable/interactive/magics.html). Zde si uvedeme pouze pár.\n",
    "\n",
    "Nápovědu (docstring) lze k magics získat pomocí `?` za příkazem.\n",
    "\n",
    "**Jednořádkové magics:**\n",
    "- `%time` - zobrazí čas, který trvalo vykonat příkaz\n",
    "- `%timeit` - pokročilejší verze příkazu `%time`, který spustí příkaz vícekrát a zobrazí statistiku\n",
    "- `%magic` - zobrazí nápovědu k magics (výpis všech dostupných magics)\n",
    "- `%lsmagic` - zobrazí seznam dostupných magics\n",
    "- `%load` - načte zdrojový kód z externího souboru do aktuální buňky\n",
    "- `%run` - spustí externí skript\n",
    "- `%less` / `%more` / `%cat` / `%pycat` - zobrazí externí soubor v textovém editoru\n",
    "- `%system` / `!!` - spustí příkaz v systémovém terminálu - s vazbou na Jupyter (chová se jinak než `!`)\n",
    "- `%pwd` / `%cd` - zobrazí / změní aktuální pracovní adresář\n",
    "- `%who` / `%whos` - zobrazí seznam proměnných\n",
    "- `%ls` / `%ll` - zobrazí obsah aktuálního adresáře\n",
    "\n",
    "\n",
    "**Víceřádkové magics:**\n",
    "Týkají se celé buňky, ne jen jednoho příkazu.\n",
    "- `%%time` - zobrazí čas, který trvalo vykonat obsah buňky\n",
    "- `%%timeit` - pokročilejší verze příkazu `%%time`, který spustí buňku vícekrát a zobrazí statistiku\n",
    "- `%%writefile` / `%%file` - zapsat obsah buňky do externího souboru\n",
    "- `%%bash` / `%%html` / `%%javascript` / `%%latex` / ... - spustí buňku s kódem v daném jazyce\n",
    "- `%%prun` - spustí buňku pomocí profilovacího modulu `cProfile`\n"
   ]
  },
  {
   "cell_type": "code",
   "execution_count": null,
   "metadata": {},
   "outputs": [],
   "source": [
    "%magic"
   ]
  },
  {
   "cell_type": "code",
   "execution_count": null,
   "metadata": {},
   "outputs": [],
   "source": [
    "seznam_magickych_funkci = %lsmagic\n",
    "print(type(seznam_magickych_funkci))\n",
    "print(seznam_magickych_funkci)\n"
   ]
  },
  {
   "cell_type": "code",
   "execution_count": null,
   "metadata": {},
   "outputs": [],
   "source": [
    "!mkdir test"
   ]
  },
  {
   "cell_type": "code",
   "execution_count": null,
   "metadata": {},
   "outputs": [],
   "source": [
    "!!ls"
   ]
  },
  {
   "cell_type": "code",
   "execution_count": null,
   "metadata": {},
   "outputs": [],
   "source": [
    "%cd test"
   ]
  },
  {
   "cell_type": "code",
   "execution_count": null,
   "metadata": {},
   "outputs": [],
   "source": [
    "%pwd"
   ]
  },
  {
   "cell_type": "code",
   "execution_count": null,
   "metadata": {},
   "outputs": [],
   "source": [
    "%%writefile?"
   ]
  },
  {
   "cell_type": "code",
   "execution_count": null,
   "metadata": {},
   "outputs": [],
   "source": [
    "%%writefile test.py\n",
    "def funkce():\n",
    "    a = 2\n",
    "    print(\"Ahoj\")\n",
    "funkce()"
   ]
  },
  {
   "cell_type": "code",
   "execution_count": null,
   "metadata": {},
   "outputs": [],
   "source": [
    "%ll"
   ]
  },
  {
   "cell_type": "code",
   "execution_count": null,
   "metadata": {},
   "outputs": [],
   "source": [
    "%less test.py"
   ]
  },
  {
   "cell_type": "code",
   "execution_count": null,
   "metadata": {},
   "outputs": [],
   "source": [
    "%run test.py"
   ]
  },
  {
   "cell_type": "code",
   "execution_count": null,
   "metadata": {},
   "outputs": [],
   "source": [
    "%who"
   ]
  },
  {
   "cell_type": "code",
   "execution_count": null,
   "metadata": {},
   "outputs": [],
   "source": [
    "%time funkce()"
   ]
  },
  {
   "cell_type": "code",
   "execution_count": null,
   "metadata": {},
   "outputs": [],
   "source": [
    "def najdi_prvocisla(n):\n",
    "    prvocisla = [2]\n",
    "    i = prvocisla[-1]\n",
    "    while len(prvocisla) < n:\n",
    "        i += 1\n",
    "        for prvocislo in prvocisla:\n",
    "            if i % prvocislo == 0:\n",
    "                break\n",
    "        else:\n",
    "            prvocisla.append(i)\n",
    "    return prvocisla"
   ]
  },
  {
   "cell_type": "code",
   "execution_count": null,
   "metadata": {},
   "outputs": [],
   "source": [
    "%%timeit\n",
    "najdi_prvocisla(100)\n",
    "najdi_prvocisla(10)"
   ]
  },
  {
   "cell_type": "code",
   "execution_count": null,
   "metadata": {},
   "outputs": [],
   "source": [
    "%%prun\n",
    "najdi_prvocisla(1000)\n"
   ]
  },
  {
   "cell_type": "code",
   "execution_count": null,
   "metadata": {},
   "outputs": [],
   "source": [
    "print(najdi_prvocisla(100))"
   ]
  },
  {
   "cell_type": "code",
   "execution_count": null,
   "metadata": {},
   "outputs": [],
   "source": [
    "%cd ..\n",
    "%rm -rf test\n",
    "%pwd"
   ]
  },
  {
   "cell_type": "code",
   "execution_count": null,
   "metadata": {},
   "outputs": [],
   "source": [
    "%ll"
   ]
  },
  {
   "attachments": {},
   "cell_type": "markdown",
   "metadata": {},
   "source": [
    "# Třídy (class)\n",
    "Třídou je jakýkoliv uživatelský typ. Podobně jako vestavěné typy nabízí metody a data (atributy), ovšem můžeme je libovolně definovat.\n",
    "\n",
    "Třída je definována pomocí klíčového slova `class` a následuje jej její název. Vnitřek třídy je odsazený o jednu úroveň. \n"
   ]
  },
  {
   "cell_type": "code",
   "execution_count": null,
   "metadata": {},
   "outputs": [],
   "source": [
    "class MojeTrida:\n",
    "    pass"
   ]
  },
  {
   "attachments": {},
   "cell_type": "markdown",
   "metadata": {},
   "source": [
    "## Metody a atributy\n",
    "\n",
    "Metoda je puze jiný název pro funkci, která je definována uvnitř třídy.\n",
    "Definice metody musí být uvnitř bloku třídy. (*Pozn. Metody lze do třídy přidat i později, ale není to preferovaný způsob.*)\n",
    "\n",
    "Atribut je proměnná, která je definována uvnitř třídy. Atributy mohou být jakékoliv typy, včetně funkcí (ale tomu bychom už zase říkaly metoda :-) pro Python je ale všechno objekt).\n",
    "\n",
    "Běžné metody (**instance method**) se volají na konkrétním objektu. Kromě nich existují i tzv. **metody třídy** a **statické metody**, které zde nebudeme probírat.\n",
    "\n",
    "Zvláštnost (*Pozn. Ano, je to opravdu divné.*) definice metod (narozdíl od C++, Javy a dalších jazyků) je ta, že první argument metody je objekt, na kterém je metoda volána. Bez toho by metoda vůbec nevěděla, se kterým objektem pracuje! Dle konvence (která se snad nikdy neporušuje) se tento argument nazývá **self**. Při volání metody se pak vynechává a Python jej automaticky doplní.\n",
    "\n",
    "Nastavení atributu a jeho hodnoty se provádí podobně jako ukládání do proměnné, ale musíme přidat objekt a tečku. (*Pozn. Interně jsou atributy uložené ve slovnících a při přístupu k nim se prochází slovník samotného objektu, jeho třídy, jejích nadřazených tříd, ...*). Atribut daného jména nemusí přitom vůbec existovat, nemusí se nijak deklarovat.\n",
    "\n",
    "## Konstruktor\n",
    "Metoda, která inicializuje objekt - zavolá se na prázdném objektu ve chvíli, kdy vytvoříme novou instanci.\n",
    "Můžeme jej definovat, ale nemusíme - v takovém případě se použije výchozí konstruktor, který jednoduše nedělá nic (zvláštního). Konstruktor se v Pythonu vždy jmenuje **\\_\\_init\\_\\_** (dvě podtržítka před i po)."
   ]
  },
  {
   "cell_type": "code",
   "execution_count": null,
   "metadata": {},
   "outputs": [],
   "source": [
    "# ukázka jednoduché třídy MojeTrida\n",
    "class MojeTrida:\n",
    "    def __init__(self, muj_parametr):\n",
    "        self.muj_parametr = muj_parametr # atribut\n",
    "\n",
    "    def vypis_muj_parametr(self): # metoda\n",
    "        print(\"Atribut ma hodnotu: \", self.muj_parametr)\n",
    "        \n",
    "objekt_tridy = MojeTrida(\"Ahoj\") # vytvoření objektu pomocí konstruktoru\n",
    "\n",
    "objekt_tridy.vypis_muj_parametr() # volání metody\n",
    "\n",
    "print(objekt_tridy.muj_parametr) # přístup k atributu"
   ]
  },
  {
   "attachments": {},
   "cell_type": "markdown",
   "metadata": {},
   "source": [
    "V jiných jazicích se můžeme setkat s privátními/chraněnými atributy a metodami, které jsou přístupné jen zvnitř třídy. V Pythonu je to trochu jinak. Všechny atributy a metody jsou veřejné, ale jejich názvy jsou konvencí označeny jako privátní. **Všechny, které začínají podtržítkem `_`, jsou privátní** a neměly by být přístupné zvenčí třídy. V Pythonu je to ale jen konvence, která není vůbec kontrolována a můžeme se k něčemu takovému dostat i zvenčí třídy.\n",
    "\n",
    "## Property (vlastnosti)\n",
    "Vlastnosti jsou \"chytřejší\" data. Umožnují vstoupit do procesu čtení nebo nastavování atributu. Hodí se to například tehdy, pokud objekt má několik navzájem závislých parametrů a my je nechceme ukládat nezávisle; pokud chceme kontrolovat, jaká hodnota se ukládá; či pokud chceme s ukládanou nebo čtenou hodnotou ještě něco zajímavého provést (viz příklad pro kruh).\n",
    "\n",
    "Ze syntaktického hlediska musíme nejdříve definovat metodu, která nese jméno vlastnosti a která tuto vlastnost \"čte\" (resp. vrací její hodnotu). O řádek výše musíme umístit tzv. *dekorátor* (tento koncept teď nebudeme podrobně vysvětlovat, jen jej pasivně použijeme) **@property**. Chceme-li, můžeme pak vytvořit i metodu pro zápis - ta se musí jmenovat stejně, požadovat jeden argument (ukládaná hodnota) a být uvedena dekorátorem **@*jmenovlastnosti*.setter**. Podobně bychom mohli vytvořit i metodu pro mazání (dekorátor **@*jmenovlastnosti*.deleter**), ale to se již běžně nedělá.\n",
    "\n",
    "Jakmile máme takto vytvořené vlastnosti, přistupujeme k nim jako k běžným datovým atributům - voláme je bez závorek a přiřazujeme do nich pomocí znaménka \"rovná se\".\n",
    "\n",
    "*Pozn. Vlastnosti fungují podobně jako properties v C# či javabeans v Javě. Povšimněte si však, že pro přístup k vlastnostem se používá úplně stejný zápis jako pro přístup k datovým atributům. Pokud tedy budeme chtít někdy změnit chování datového atributu a udělat z něj vlastnost, klient naší třídy to nepozná a nebude muset dělat žádné změny v kódu. Není tedy vhodné přespříliš iniciativně vytvářet triviální vlastnosti, které jen obalují přístup k atributům (jako by se to jistě dělalo v Javě).*"
   ]
  },
  {
   "cell_type": "code",
   "execution_count": null,
   "metadata": {},
   "outputs": [],
   "source": [
    "import math\n",
    "\n",
    "class Kruh:\n",
    "    def __init__(self, r):\n",
    "        self.polomer = r\n",
    "\n",
    "    @property                           # Chceme definovat vlastnost pro čtení\n",
    "    def obsah(self):                    # Vypadá jako obyčejná metoda\n",
    "        return math.pi * self.polomer ** 2\n",
    "\n",
    "    @obsah.setter                       # Chceme nastavit zápis do dříve definované vlastnosti\n",
    "    def obsah(self, s):\n",
    "        print(\"Měním obsah na {}\".format(s))\n",
    "        self.polomer = math.sqrt(s / math.pi)\n",
    "\n",
    "    @obsah.deleter\n",
    "    def obsah(self):\n",
    "        pass\n",
    "\n",
    "\n",
    "kruh = Kruh(1)\n",
    "print(kruh.polomer)    # Normální datový atribut\n",
    "print(kruh.obsah)      # Property\n",
    "\n",
    "kruh.obsah = 3                          # Změníme obsah pomocí zapisovatelné vlastnosti\n",
    "print(kruh.polomer)    # Normální datový atribut\n",
    "print(kruh.obsah)      # Property\n"
   ]
  },
  {
   "attachments": {},
   "cell_type": "markdown",
   "metadata": {},
   "source": [
    "## Podtržítkové konvence\n",
    "V Pythonu obecně jsou konvence velice silně zakořeněné. Na objektech to je vidět snad nejvíce.\n",
    "\n",
    "- \"Soukromé\" atributy (atributem se v Pythonu často rozumí jak data tak metody -- vše je objekt) se pojmenovávají s podtržítkem na začátku, tj. např. `_soukroma_metoda`.\n",
    "- Atributy se dvěma podtžítky na začátku i na konci mají speciální význam (viz [dokumentace](http://docs.python.org/3/reference/datamodel.html#special-method-names)). Už jsme viděli `__init__`, podíváme se na několik dalších.\n",
    "    * `__repr__` a `__str__` převádějí objekt na řetězec.\n",
    "    * `__getattr__` a `__setattr__` slouží pro čtení a ukládání nenalezených atributů.\n",
    "    * `__call__` se zavolá pokud použijeme objekt jako funkci.\n",
    "    * `__doc__` obsahuje dokumentaci (docstring).\n",
    "    * `__dict__` obsahuje slovník se jmenným prostorem objektu.\n",
    "    * ... dále existují speciální funkce pro logické operátory, pro emulaci funkcionality kontejnerů (iterace, položky, řezy), pro aritmetické operace atd."
   ]
  },
  {
   "cell_type": "code",
   "execution_count": null,
   "metadata": {},
   "outputs": [],
   "source": [
    "# ukázka __getattr__ a __setattr__\n",
    "class MojeTrida:\n",
    "    def __init__(self, muj_parametr):\n",
    "        self.muj_parametr = muj_parametr\n",
    "\n",
    "    def __getattr__(self, item):\n",
    "        print(\"Zadáváte neexistující atribut: \", item)\n",
    "        return \"Ahoj\"\n",
    "\n",
    "    def __setattr__(self, key, value):\n",
    "        print(\"Nastavuji hodnotu atributu: \", key, \" na hodnotu: \", value)\n",
    "        object.__setattr__(self, key, value)\n",
    "        \n",
    "        \n",
    "objekt_tridy = MojeTrida(\"Ahoj\")\n",
    "print(dir(objekt_tridy))\n",
    "print(objekt_tridy.tento_parametr_neexistuje)\n",
    "objekt_tridy.definuji_novy_atribut = \"Nazdarek\"\n",
    "print(objekt_tridy.definuji_novy_atribut)\n",
    "print(dir(objekt_tridy))\n"
   ]
  },
  {
   "cell_type": "code",
   "execution_count": null,
   "metadata": {},
   "outputs": [],
   "source": [
    "# ukázka __str__ a __repr__\n",
    "# rozdíl mezi __str__ a __repr__ je v tom, že __str__ je volána při převodu objektu na řetězec \n",
    "# a __repr__ je volána při výpisu objektu (např. v interaktivním režimu)\n",
    "class MojeTrida:\n",
    "    def __init__(self, muj_parametr):\n",
    "        self.muj_parametr = muj_parametr\n",
    "\n",
    "    def __str__(self):\n",
    "        return \"Toto je objekt tridy MojeTrida\"\n",
    "\n",
    "    def __repr__(self):\n",
    "        return \"MojeTrida s parametrem: \" + str(self.muj_parametr)\n",
    "    \n",
    "objekt_tridy = MojeTrida(\"Ahoj\")\n",
    "print(objekt_tridy)\n",
    "print(str(objekt_tridy))\n",
    "print(repr(objekt_tridy))\n",
    "objekt_tridy"
   ]
  },
  {
   "cell_type": "code",
   "execution_count": null,
   "metadata": {},
   "outputs": [],
   "source": [
    "# seznam atributů __dict__\n",
    "class MojeTrida:\n",
    "    def __init__(self, muj_parametr1, muj_parametr2):\n",
    "        self.muj_parametr1 = muj_parametr1\n",
    "        self.muj_parametr2 = muj_parametr2\n",
    "\n",
    "    def vypis_moje_parametry(self):\n",
    "        print(\"Atributy mají hodnotu: \", self.muj_parametr, \", \", self.muj_parametr2)\n",
    "\n",
    "objekt_tridy = MojeTrida(\"Ahoj\", \"Sbohem\")\n",
    "print(objekt_tridy.__dict__)"
   ]
  },
  {
   "cell_type": "code",
   "execution_count": null,
   "metadata": {},
   "outputs": [],
   "source": [
    "# ukázka __call__\n",
    "class MojeTrida:\n",
    "    def __init__(self, muj_parametr):\n",
    "        self.muj_parametr = muj_parametr\n",
    "\n",
    "    def __call__(self, *args, **kwargs):\n",
    "        print(\"Voláte objekt tridy MojeTrida\")\n",
    "        \n",
    "objekt_tridy = MojeTrida(\"Ahoj\")\n",
    "objekt_tridy()"
   ]
  },
  {
   "cell_type": "code",
   "execution_count": null,
   "metadata": {},
   "outputs": [],
   "source": [
    "# ukázka __doc__\n",
    "class MojeTrida:\n",
    "    \"\"\"Toto je ukázka dokumentace třídy MojeTrida\"\"\"\n",
    "    def __init__(self, muj_parametr):\n",
    "        self.muj_parametr = muj_parametr\n",
    "\n",
    "    def vypis_muj_parametr(self):\n",
    "        \"\"\"Toto je ukázka dokumentace metody vypis_muj_parametr\"\"\"\n",
    "        print(\"Atribut ma hodnotu: \", self.muj_parametr)\n",
    "        \n",
    "objekt_tridy = MojeTrida(\"Ahoj\")\n",
    "print(objekt_tridy.__doc__)\n",
    "print(objekt_tridy.vypis_muj_parametr.__doc__)"
   ]
  },
  {
   "attachments": {},
   "cell_type": "markdown",
   "metadata": {},
   "source": [
    "### Podtržítkové metody implementující algebraické operace\n",
    "V Pythonu je možné nadefinovat chování operátorů (+,-,*,/,...) pro vlastní objekty. Toho můžeme docílit tak, že nadefinujeme speciální metody:\n",
    "- `__add__` pro operátor `+`\n",
    "- `__sub__` pro operátor `-`\n",
    "- `__mul__` pro operátor `*`\n",
    "- `__div__` pro operátor `/`\n",
    "- `__truediv__` pro operátor `/` (v Pythonu 3 je toto stejné jako `__div__`)\n",
    "- `__floordiv__` pro operátor `//`\n",
    "- `__mod__` pro operátor `%`\n",
    "- `__pow__` pro operátor `**`\n",
    "- `__lshift__` pro operátor `<<`\n",
    "- `__rshift__` pro operátor `>>`\n",
    "- `__and__` pro operátor `&`\n",
    "- `__xor__` pro operátor `^`\n",
    "- `__or__` pro operátor `|`\n",
    "- a další (viz [dokumentace](http://docs.python.org/3/reference/datamodel.html#special-method-names))."
   ]
  },
  {
   "cell_type": "code",
   "execution_count": null,
   "metadata": {},
   "outputs": [],
   "source": [
    "# ukázka třídy implementující algebraické operátory (zlomek)\n",
    "class Zlomek:\n",
    "    def __init__(self, citatel, jmenovatel):\n",
    "        self.citatel = citatel\n",
    "        self.jmenovatel = jmenovatel\n",
    "\n",
    "    def __add__(self, other):\n",
    "        return Zlomek(self.citatel * other.jmenovatel + self.jmenovatel * other.citatel, self.jmenovatel * other.jmenovatel)\n",
    "\n",
    "    def __sub__(self, other):\n",
    "        return Zlomek(self.citatel * other.jmenovatel - self.jmenovatel * other.citatel, self.jmenovatel * other.jmenovatel)\n",
    "\n",
    "    def __mul__(self, other):\n",
    "        return Zlomek(self.citatel * other.citatel, self.jmenovatel * other.jmenovatel)\n",
    "\n",
    "    def __truediv__(self, other):\n",
    "        return Zlomek(self.citatel * other.jmenovatel, self.jmenovatel * other.citatel)\n",
    "\n",
    "    def __str__(self):\n",
    "        return str(self.citatel) + \" / \" + str(self.jmenovatel)\n",
    "\n",
    "    def __repr__(self):\n",
    "        return \"Zlomek(\" + str(self.citatel) + \", \" + str(self.jmenovatel) + \")\"\n",
    "    \n",
    "zlomek1 = Zlomek(1, 2)\n",
    "zlomek2 = Zlomek(1, 3)\n",
    "print(zlomek1 + zlomek2)\n",
    "print(zlomek1 - zlomek2)\n",
    "print(zlomek1 * zlomek2)\n",
    "print(zlomek1 / zlomek2)"
   ]
  },
  {
   "attachments": {},
   "cell_type": "markdown",
   "metadata": {},
   "source": [
    "Třídy mohou také definovat funkce `__getitem__` a `__setitem__` díky kterým je možné přistupovat k objektu jako k poli/slovníku. Tato chování se pak použije v případě, že se použije operátor `[]` (např. `obj[1]`)."
   ]
  },
  {
   "cell_type": "code",
   "execution_count": null,
   "metadata": {},
   "outputs": [],
   "source": [
    "# ukázka __setitem__ a __getitem__\n",
    "class MojeTrida:\n",
    "    def __init__(self, muj_parametr):\n",
    "        self._moje_data = dict()\n",
    "        self.muj_parametr = muj_parametr + \" \"\n",
    "\n",
    "    def __setitem__(self, key, value):\n",
    "        print(\"Nastavuji hodnotu atributu: \", key, \" na hodnotu: \", value)\n",
    "        self._moje_data[key] = self.muj_parametr + str(value)\n",
    "\n",
    "    def __getitem__(self, item):\n",
    "        return self._moje_data[item]\n",
    "    \n",
    "objekt_tridy = MojeTrida(\"Ahoj\")\n",
    "objekt_tridy[0] = \"Honzo\"\n",
    "objekt_tridy[1] = \"Pepo\"\n",
    "objekt_tridy[2] = \"Jardo\"\n",
    "\n",
    "print(objekt_tridy[0])\n",
    "print(objekt_tridy[1])\n",
    "print(objekt_tridy[2])\n"
   ]
  },
  {
   "attachments": {},
   "cell_type": "markdown",
   "metadata": {},
   "source": [
    "## Dědičnost\n",
    "Třída může svoje chování (i data) odvozovat od nějaké jiné třídy, čímž si ušetříme spoustu práce při opakování společných rysů. V takovém případě řekneme, že naše nová třída (dceřinná) od té původní (rodičovské) dědí.\n",
    "\n",
    "* V dceřinné třídě můžeme změnit definici některé metody z rodičovské třídy.\n",
    "* Konstruktory se standardně dědí (*Na rozdíl od C++ či Javy, kde se musí explicitně volat, v Pythonu se volají jen pokud definujeme nový konstruktor a chceme zavolat i nadřazený.*)\n",
    "* Instance dceřinné třídy se mohou použít kdekoliv, kde počítá s objektem rodičovské třídy. *Toto platí v Pythonu ještě obecněji - obvykle se nekontrolují konkrétní typy, projde jakýkoliv objekt, který nabízí používané atributy/metody.*\n",
    "\n",
    "**Syntax:** Jméno rodičovské třídy se dává do závorky za jméno (místo object, od kterého třídy obvykle dědí)."
   ]
  },
  {
   "cell_type": "code",
   "execution_count": null,
   "metadata": {},
   "outputs": [],
   "source": [
    "class Clovek:\n",
    "    def __init__(self, jmeno):         # Konstruktor, který nastaví atribut \"jmeno\"\n",
    "        self.jmeno = jmeno\n",
    "        \n",
    "    def _rekni(self, text):            # Privátní metoda, která vypíše text\n",
    "        print(self.jmeno, \": \", text)\n",
    "\n",
    "    def predstav_se(self):\n",
    "        self._rekni(\"Jmenuji se \" + self.jmeno + \".\")\n",
    "\n",
    "    def pozdrav(self):\n",
    "        self._rekni(\"Dobrý den.\")\n",
    "\n",
    "    def rozluc_se(self):\n",
    "        self._rekni(\"Nashledanou.\")\n",
    "\n",
    "\n",
    "class Elektrikar(Clovek):\n",
    "    def oprav_televizi(self):         # Nová metoda v rodičovské třídě - jiný Clovek ji neumí\n",
    "        self._rekni(\"Bude to v cuku letu.\")\n",
    "        print(\"---Elektrikar něco šudlá.---\")\n",
    "        self._rekni(\"A je to.\")\n",
    "\n",
    "    def predstav_se(self):            # Předefinovaná metoda \"predstav_se\" využívá atribut rodičovské třídy\n",
    "        self._rekni(\"Já sem ňákej \" + self.jmeno + \".\")\n",
    "\n",
    "\n",
    "class Zakaznik(Clovek):\n",
    "    def nakupuj(self):                # Nová metoda v rodičovské třídě - jiný Clovek ji neumí\n",
    "        self._rekni(\"Prosím opravíte mi, televizi.\")\n",
    "\n",
    "\n",
    "e = Elektrikar(\"Franta Vopička\")\n",
    "z = Zakaznik(\"Tomáš Marný\")\n",
    "\n",
    "# Rozhovor\n",
    "z.pozdrav()          # Všimněte si, že \"pozdrav\" je rodičovská metoda, ale volá se \"rekni\" z dceřinné třídy.\n",
    "e.pozdrav()\n",
    "z.predstav_se()\n",
    "e.predstav_se()\n",
    "z.nakupuj()\n",
    "e.oprav_televizi()"
   ]
  },
  {
   "attachments": {},
   "cell_type": "markdown",
   "metadata": {},
   "source": [
    "## Dataclass\n",
    "Od Pythonu 3.7 je možné používat dekorátor `@dataclass`, který umožňuje jednoduše definovat třídy, které se pouze skládají z datových atributů.\n",
    "\n",
    "Výhody použití `@dataclass` je automatické generování několika metod:\n",
    "- `__init__` (konstruktor)\n",
    "- `__repr__` (reprezentace objektu jako řetězce)\n",
    "- `__eq__` (rovnost)\n",
    "- `__lt__` (menší než)\n",
    "- `__le__` (menší nebo rovno)\n",
    "- `__gt__` (větší než)\n",
    "- `__ge__` (větší nebo rovno)\n",
    "- ... a další (viz [dokumentace](https://docs.python.org/3/library/dataclasses.html#dataclasses.dataclass))."
   ]
  },
  {
   "cell_type": "code",
   "execution_count": null,
   "metadata": {},
   "outputs": [],
   "source": [
    "from dataclasses import dataclass\n",
    "\n",
    "@dataclass(order=True)\n",
    "class Point3D:\n",
    "    x: float\n",
    "    y: float\n",
    "    z: float\n",
    "    \n",
    "bod1 = Point3D(1, 2, 3)\n",
    "bod2 = Point3D(1, 3, 2)\n",
    "\n",
    "print(bod1)\n",
    "print(bod1 < bod2) # jak je toto definováno? viz dokumentace\n"
   ]
  },
  {
   "attachments": {},
   "cell_type": "markdown",
   "metadata": {},
   "source": [
    "## Další témata (zde se jimi nebudeme zabývat)\n",
    "Ale jsou to věci, které je užitečné znát, alespoň vědět, že existují.\n",
    "\n",
    "* Vícenásobná dědičnost\n",
    "* Metody třídy\n",
    "* Statické metody\n",
    "* Abstraktní třídy\n",
    "* Metatřídy (Dataclass, ...)\n",
    "* Návrhové vzory\n"
   ]
  },
  {
   "attachments": {},
   "cell_type": "markdown",
   "metadata": {},
   "source": [
    "# Výjimky a chyby\n",
    "Chyby v Pythonu můžeme rozlišit na *syntaktické chyby* a *chyby za běhu* (*run-time*). Syntaktické chyby jsou způsobeny např. nespárovanými závorkami, špatným odsazením apod. Program se syntaktickými chybami nelze vůbec spustit. Častější jsou run-time chyby, které vznikají nesprávným použitím nějaké funkce, chybějícími daty apod. Jelikož je Python interpretovaný jazyk, většina chyb se ukáže až za běhu, na rozdíl od kompilovaných jazyků, kde se mnoho chyb objeví při kompilaci.\n",
    "<!-- TEASER_END -->\n",
    "\n",
    "## Výjimky\n",
    "\n",
    "Výjimka (*exception*) je vyhozena ve chvíli, kdy dojde k chybě (respektivě ve chvíli kdy autor funkce kterou používáme považuje naše užití za chybné :-)). Pokud tuto výjimku nezachytíme (viz dále), běh programu se přeruší. Např. dělení nulou skončí výjimkou `ZeroDivisionError`:\n",
    "\n",
    "### Chytáme výjimky\n",
    "Pokud nechceme, aby běh programu skončil ve chvíli výjimky, můžeme použít `try` - `except` blok. Ten funguje tak, že rizikovou část kód umístíme do `try` bloku, do `except` bloku pak umístíme instrukce pro případ chyby (výjimky)."
   ]
  },
  {
   "cell_type": "code",
   "execution_count": null,
   "metadata": {},
   "outputs": [],
   "source": [
    "# ukázka try/except\n",
    "\n",
    "def deleni(a, b):\n",
    "    return a / b\n",
    "\n",
    "def deleni_upravene(a, b):\n",
    "    try:\n",
    "        return a / b\n",
    "    except ZeroDivisionError:\n",
    "        return \"Nelze dělit nulou!\"\n",
    "    \n",
    "print(deleni_upravene(1, 0))\n",
    "print(deleni_upravene(1, 2))\n",
    "print(deleni(1, 0))"
   ]
  },
  {
   "attachments": {},
   "cell_type": "markdown",
   "metadata": {},
   "source": [
    "`except` lze také použít bez specifikace typu výjimky, v tom případě se zachytí všechny výjimky. Toto ale není dobrá praxe, protože vlastně nevíme jaký typ chyby \"obcházíme\".\n",
    "\n",
    "Kompletní try-except blok může ještě obsahovat `else` a `finally` bloky, viz [dokumentace](http://docs.python.org/3/reference/compound_stmts.html#try). `finally` se hodí zejména pro \"úklid\", např. zavření souboru apod."
   ]
  },
  {
   "cell_type": "code",
   "execution_count": null,
   "metadata": {},
   "outputs": [],
   "source": [
    "# kopletní try/except/else/finally\n",
    "a = 1\n",
    "b = 0\n",
    "try:\n",
    "    c = a / b\n",
    "except:\n",
    "    print(\"Nastala nějaká chyba, nestarám se o to jaká.\")\n",
    "else:\n",
    "    print(\"Všechno v pořádku.\")\n",
    "finally:\n",
    "    print(\"Toto se vždy provede.\")"
   ]
  },
  {
   "attachments": {},
   "cell_type": "markdown",
   "metadata": {},
   "source": [
    "Pomocí modulu traceback si můžeme nechat vypsat podrobnější informace jak k vyjímce došlo, to se může hodit při ladění."
   ]
  },
  {
   "cell_type": "code",
   "execution_count": null,
   "metadata": {},
   "outputs": [],
   "source": [
    "import traceback\n",
    "\n",
    "a = 1\n",
    "b = 0\n",
    "try:\n",
    "    c = a / b\n",
    "except:\n",
    "    print(\"Nastala nějaká chyba, nestarám se o to jaká.\")\n",
    "    traceback.print_exc() # dá se nastavit na výstup do souboru\n",
    "else:\n",
    "    print(\"Všechno v pořádku.\")\n",
    "finally:\n",
    "    print(\"Toto se vždy provede.\")\n",
    "\n",
    "print(\"A stale jedeme dál.\")\n"
   ]
  },
  {
   "attachments": {},
   "cell_type": "markdown",
   "metadata": {},
   "source": [
    "### Vytváříme vlastní výjimky\n",
    "Výjimku můžeme samozřejmě vyhodit i v našem kódu pomocí klíčového slova `raise`. Pokud bychom chtěli např. kontrolovat vstup nějaké funkce, uděláme to takto:"
   ]
  },
  {
   "cell_type": "code",
   "execution_count": null,
   "metadata": {},
   "outputs": [],
   "source": [
    "# ukázka raise\n",
    "def zaplatit(cena):\n",
    "    if cena > 100:\n",
    "        raise ValueError(\"Cena je moc vysoká!\")\n",
    "    else:\n",
    "        print(\"Zaplatil jsem\", cena, \"Kč.\")\n",
    "        \n",
    "zaplatit(50)\n",
    "zaplatit(150)"
   ]
  },
  {
   "attachments": {},
   "cell_type": "markdown",
   "metadata": {},
   "source": [
    "# Práce s řetězci\n",
    "S řetězci jsme se už setkali, řekli jsme si také, že `str` objekt je immutable (neměnitelný).\n",
    "\n",
    "## Základní operace\n",
    "* `+` - spojení dvou řetězců\n",
    "* `*` - opakování řetězce\n",
    "* `in` - zjištění, zda je řetězec podřetězcem jiného řetězce\n",
    "* `[]` - indexování (přístup k jednotlivým znakům)\n",
    "* `[:]` - slicing (přístup k podřetězcům)\n",
    "* `len()` - délka řetězce\n",
    "* `str()` - převod na řetězec\n"
   ]
  },
  {
   "cell_type": "code",
   "execution_count": null,
   "metadata": {},
   "outputs": [],
   "source": [
    "# ukázky základních operací s řetězci\n",
    "retezec = \"ahoj\"\n",
    "retezec2 = \"svete\"\n",
    "retezec3 = \"tak tedy ahoj zeměkoule\" \n",
    "\n",
    "print(retezec + retezec2)\n",
    "print(retezec * 3)\n",
    "print(retezec[0:2])\n",
    "print(len(retezec))\n",
    "print(retezec in retezec3)\n",
    "print(retezec2 in retezec3)"
   ]
  },
  {
   "attachments": {},
   "cell_type": "markdown",
   "metadata": {},
   "source": [
    "## Vestavěné metody řetězců\n",
    "Velká/malá písmena:\n",
    "* `str.capitalize()` - první znak velký, ostatní malé\n",
    "* `str.swapcase()` - velká písmena na malá, malá na velká\n",
    "* `str.title()` - první znak každého slova velký, ostatní malé\n",
    "* `str.lower()` - malá písmena\n",
    "* `str.upper()` - velká písmena\n",
    "\n",
    "Ořezávání:\n",
    "* `str.strip([chars])` - ořezání bílých znaků (mezera, tabulátor, nový řádek) na začátku a na konci\n",
    "* `str.lstrip([chars])` - ořezání bílých znaků na začátku\n",
    "* `str.rstrip([chars])` - ořezání bílých znaků na konci\n",
    "* `str.center(width[, fillchar])` - vycentrování řetězce\n",
    "* `str.ljust(width[, fillchar])` - zarovnání vlevo\n",
    "* `str.rjust(width[, fillchar])` - zarovnání vpravo\n",
    "\n",
    "Nahrazování/řezání/spojování řetězců:\n",
    "* `str.format(*args, **kwargs)` - umožňuje definovat placeholdery v řetězci `{}` a ty pak naplnit hodnotami\n",
    "* `str.replace(old, new[, count])` - nahrazení všech výskytů podřetězce\n",
    "* `str.split([sep[, maxsplit]])` - rozdělení řetězce na seznam řetězců\n",
    "* `str.splitlines([keepends])` - rozdělení řetězce na řádky\n",
    "* `str.partition(sep)` - rozdělení řetězce na 3 části (před, sep, za)\n",
    "* `str.join(iterable)` - spojení řetězců v seznamu\n",
    "* `str.expandtabs(tabsize=8)` - nahrazení tabulátorů mezerami\n",
    "\n",
    "Počítání výskytů/znaků/...:\n",
    "* `str.count(sub[, start[, end]])` - počet výskytů podřetězce\n",
    "* `str.find(sub[, start[, end]])` - index prvního výskytu podřetězce nebo -1 pokud není nalezen\n",
    "* `str.index(sub[, start[, end]])` - index prvního výskytu podřetězce nebo vyhodí výjimku `ValueError` pokud není nalezen\n",
    "\n",
    "Zjištění některých vlastností řetězců:\n",
    "* `str.startswith(prefix[, start[, end]])` - zjištění, zda řetězec začíná daným podřetězcem\n",
    "* `str.endswith(suffix[, start[, end]])` - zjištění, zda řetězec končí daným podřetězcem\n",
    "* `str.isalnum()` - zjištění, zda řetězec obsahuje pouze alfanumerické znaky\n",
    "* `str.isalpha()` - zjištění, zda řetězec obsahuje pouze písmena\n",
    "* `str.isdecimal()` - zjištění, zda řetězec obsahuje pouze desetinná čísla\n",
    "* `str.isdigit()` - zjištění, zda řetězec obsahuje pouze čísla\n",
    "* `str.isidentifier()` - zjištění, zda řetězec je platným identifikátorem\n",
    "* `str.islower()` - zjištění, zda řetězec obsahuje pouze malá písmena\n",
    "* `str.isnumeric()` - zjištění, zda řetězec obsahuje pouze čísla\n",
    "* `str.isprintable()` - zjištění, zda řetězec je tisknutelný\n",
    "* `str.isspace()` - zjištění, zda řetězec obsahuje pouze bílé znaky\n",
    "* `str.istitle()` - zjištění, zda řetězec obsahuje pouze velká písmena\n"
   ]
  },
  {
   "cell_type": "code",
   "execution_count": null,
   "metadata": {},
   "outputs": [],
   "source": [
    "retezec = \"ahoj Svete toto je retezec\"\n",
    "print(retezec.capitalize())\n",
    "print(retezec.swapcase())\n",
    "print(retezec.title())\n",
    "print(retezec.lower())\n",
    "print(retezec.upper())"
   ]
  },
  {
   "cell_type": "code",
   "execution_count": null,
   "metadata": {},
   "outputs": [],
   "source": [
    "retezec = \"  ahoj Svete toto je retezec      \"\n",
    "print(retezec.strip())\n",
    "print(retezec.lstrip())\n",
    "print(retezec.rstrip())\n",
    "print(retezec.center(50, \"-\"))\n",
    "print(retezec.ljust(50, \".\"))\n",
    "print(retezec.rjust(50, \" \"))"
   ]
  },
  {
   "cell_type": "code",
   "execution_count": null,
   "metadata": {},
   "outputs": [],
   "source": [
    "# Základní formátování\n",
    "jmeno = \"Jan\"\n",
    "print(\"Ahoj, {}!\".format(jmeno))\n",
    "# Výstup: Ahoj, Jan!\n",
    "\n",
    "# Formátování s formátovacím specifikátorem\n",
    "vek = 30\n",
    "print(\"{} je {} let starý.\".format(jmeno, vek))\n",
    "# Výstup: Jan je 30 let starý.\n",
    "\n",
    "# Formátování s pozicemi argumentů\n",
    "print(\"{0} je {1} let starý. Nejlepším přítelem {0} je {2}.\".format(jmeno, vek, \"Jana\"))\n",
    "# Výstup: Jan je 30 let starý. Nejlepším přítelem Jan je Jana.\n",
    "\n",
    "# Formátování s klíčovými argumenty\n",
    "print(\"{jmeno} je {vek} let starý. Nejlepším přítelem {jmeno} je {pritel}.\".format(\n",
    "    jmeno=jmeno, vek=vek, pritel=\"Jana\"))\n",
    "# Výstup: Jan je 30 let starý. Nejlepším přítelem Jan je Jana."
   ]
  },
  {
   "cell_type": "code",
   "execution_count": null,
   "metadata": {},
   "outputs": [],
   "source": [
    "text = \"Ahoj světe, \\njak se máš?\"\n",
    "print(text)\n",
    "\n",
    "print(text.replace(\"Ahoj\", \"Nazdar\"))\n",
    "print(text.split())\n",
    "print(text.splitlines())\n",
    "print(text.partition(\", \"))"
   ]
  },
  {
   "cell_type": "code",
   "execution_count": null,
   "metadata": {},
   "outputs": [],
   "source": [
    "seznam = ['Ahoj', 'světe']\n",
    "print(', '.join(seznam))\n",
    "\n",
    "text = \"Ahoj\\tsvěte\"\n",
    "print(text.expandtabs())"
   ]
  },
  {
   "cell_type": "code",
   "execution_count": null,
   "metadata": {},
   "outputs": [],
   "source": [
    "text = \"Ahoj světe, jak se máš?\"\n",
    "print(text.count(\"e\"))\n",
    "print(text.find(\"světe\"))\n",
    "print(text.index(\"světe\"))\n"
   ]
  },
  {
   "cell_type": "code",
   "execution_count": null,
   "metadata": {},
   "outputs": [],
   "source": [
    "text = \"Ahoj světe, jak se máš?\"\n",
    "print(text.startswith(\"Ahoj\"))\n",
    "print(text.startswith(\"Nazdar\"))\n",
    "print(text.endswith(\"?\"))\n",
    "print(text.endswith(\"!\"))"
   ]
  },
  {
   "attachments": {},
   "cell_type": "markdown",
   "metadata": {},
   "source": [
    "## f-strings\n",
    "F-stringy (formatovací řetězce) jsou speciální syntaxe, která umožňuje vložit proměnné do řetězce pomocí zápisu {} a začínají znakem \"f\"."
   ]
  },
  {
   "cell_type": "code",
   "execution_count": null,
   "metadata": {},
   "outputs": [],
   "source": [
    "# f-strings\n",
    "jmeno = \"Jan\"\n",
    "vek = 30\n",
    "print(f\"{jmeno} je {vek} let starý.\")"
   ]
  },
  {
   "attachments": {},
   "cell_type": "markdown",
   "metadata": {},
   "source": [
    "f-strings umožňují formátovat hodnoty pomocí specifikátorů, podrobnosti viz [dokumentace](https://docs.python.org/3/library/string.html#format-specification-mini-language)."
   ]
  },
  {
   "cell_type": "code",
   "execution_count": null,
   "metadata": {},
   "outputs": [],
   "source": [
    "# f-strings s formátovacím specifikátorem\n",
    "jmeno = \"Jan\"\n",
    "vek = 30\n",
    "print(f\"{jmeno} je {vek:.2f} let starý.\")\n",
    "print(f\"{jmeno:<10} má {vek + 3:>3} let\")\n",
    "print(f\"{jmeno =}, {vek =}\")\n"
   ]
  },
  {
   "cell_type": "code",
   "execution_count": null,
   "metadata": {},
   "outputs": [],
   "source": [
    "# formátování pomocí > a < můžeme využít pro zarovnání tabulky\n",
    "print(f\"{'číslo':>6} {'mocnina':>8} {'třetí mocnina':>14}\")\n",
    "for i in range(1, 20):\n",
    "    print(f\"{i:.>6} {i**2:.>8} {i**3:.>14}\")"
   ]
  },
  {
   "attachments": {},
   "cell_type": "markdown",
   "metadata": {},
   "source": [
    "Možnosti formátování f-stringu jsou vestavěné do třídy kterou vypisujeme, konkrétně metoda `__format__`. Tato metoda je volána při použití f-stringu a použití `:`."
   ]
  },
  {
   "cell_type": "code",
   "execution_count": null,
   "metadata": {},
   "outputs": [],
   "source": [
    "class Bod3D:\n",
    "    def __init__(self, x, y, z):\n",
    "        self.x = x\n",
    "        self.y = y\n",
    "        self.z = z\n",
    "\n",
    "    def __format__(self, format_spec):\n",
    "        if format_spec == 'zyx':\n",
    "            return f\"{self.z}, {self.y}, {self.x}\"\n",
    "        elif format_spec == 'yzx':\n",
    "            return f\"{self.y}, {self.z}, {self.x}\"\n",
    "        else:\n",
    "            return f\"{self.x}, {self.y}, {self.z}\"\n",
    "        \n",
    "bod = Bod3D(1, 2, 3)\n",
    "print(f\"{bod = }\")\n",
    "print(f\"{bod:zyx}\")\n",
    "print(f\"{bod:yzx}\")\n",
    "print(f\"{bod = :}\")\n"
   ]
  },
  {
   "attachments": {},
   "cell_type": "markdown",
   "metadata": {},
   "source": [
    "# Generátory a iterátory\n",
    "Abychom se v tomto tématu lépe zorientovali, začneme s rozčleněním. Budeme používat tyto tři termíny:\n",
    "- `iterable` (iterovatelný objekt) - objekt, který umí vracet své prvky jeden po druhém\n",
    "    - kontejnery (list, slovník, ...)\n",
    "    - řetězec\n",
    "    - range\n",
    "    - objekt typu stream (např. `file`)\n",
    "- `iterator` (iterátor) - objekt, který umí iterovat (implementuje tzv. protokol iterátoru). Lze vytvořít z iterovatelného objektu pomocí funkce `iter()`.\n",
    "    - metoda `__iter__` vrací samotný objekt\n",
    "    - metoda `__next__` vrací další prvek (na konci vyhodí výjimku `StopIteration`)\n",
    "- `generator` (generátor) - je typ iterátoru. Má dvě varianty:\n",
    "    - generátor funkce - funkce, která vrací výstupy postupně pomocí `yield` místo `return`\n",
    "    - generátor výraz - výraz využívající syntaxe: **(**`výraz` **for** `proměnná` **in** `iterovatelný_objekt` **if** `podmínka`**)**\n",
    "\n",
    "\n",
    "  Pěkné vysvětlení lze najít i zde: [Iterables vs. Iterators vs. Generators](http://nvie.com/posts/iterators-vs-generators/)"
   ]
  },
  {
   "cell_type": "code",
   "execution_count": null,
   "metadata": {},
   "outputs": [],
   "source": [
    "# ukázka iterable objektů\n",
    "muj_list = [1, 2, 3, 4, 5]\n",
    "muj_string = \"ahoj\"\n",
    "muj_double = 1.5\n",
    "print(iter(muj_list))\n",
    "print(iter(muj_string))\n",
    "print(iter(muj_double))"
   ]
  },
  {
   "cell_type": "code",
   "execution_count": null,
   "metadata": {},
   "outputs": [],
   "source": [
    "# ukázka iterátorů\n",
    "muj_list = [1, 2, 3, 4, 5]\n",
    "muj_iterator = iter(muj_list)\n",
    "print(muj_iterator.__iter__())\n",
    "print(muj_iterator.__next__())\n",
    "print(next(muj_iterator))\n",
    "print(next(muj_iterator))\n",
    "print(muj_iterator.__next__())\n",
    "print(next(muj_iterator))\n",
    "print(next(muj_iterator))"
   ]
  },
  {
   "cell_type": "code",
   "execution_count": null,
   "metadata": {},
   "outputs": [],
   "source": [
    "# generator funkce\n",
    "def generator1():\n",
    "    yield \"Ahoj\"\n",
    "    yield \"světe\"\n",
    "    yield \"jak\"\n",
    "    yield \"se\"\n",
    "    yield \"máš?\"\n",
    "\n",
    "\n",
    "def generator2(start, konec):\n",
    "    for i in range(start, konec):\n",
    "        print(\"A tohle je další iterace!\")\n",
    "        yield i\n",
    "\n",
    "# ukázka použití generátoru\n",
    "gen1 = generator1()\n",
    "print(gen1)\n",
    "print(next(gen1))\n",
    "print(next(gen1))\n",
    "print(next(gen1))\n",
    "print(next(gen1))\n",
    "print(next(gen1))\n",
    "try:\n",
    "    print(next(gen1))\n",
    "except StopIteration:\n",
    "    print(f\"Generátor {gen1} vyčerpal všechny hodnoty.\")\n",
    "    \n",
    "gen2 = generator2(1, 6)\n",
    "print(gen2)\n",
    "print(next(gen2))\n",
    "print(next(gen2))\n",
    "print(next(gen2))\n",
    "print(next(gen2))\n",
    "print(next(gen2))\n",
    "try:\n",
    "    print(next(gen2))\n",
    "except StopIteration:\n",
    "    print(f\"Generátor {gen2} vyčerpal všechny hodnoty.\")\n"
   ]
  },
  {
   "cell_type": "code",
   "execution_count": null,
   "metadata": {},
   "outputs": [],
   "source": [
    "# generatorový výraz\n",
    "gen3 = (i for i in range(1, 6))\n",
    "print(gen3)\n",
    "print(next(gen3))\n",
    "print(next(gen3))\n",
    "print(next(gen3))\n",
    "print(next(gen3))\n",
    "print(next(gen3))\n",
    "try:\n",
    "    print(next(gen3))\n",
    "except StopIteration:\n",
    "    print(f\"Generátor {gen3} vyčerpal všechny hodnoty.\")"
   ]
  },
  {
   "cell_type": "code",
   "execution_count": null,
   "metadata": {},
   "outputs": [],
   "source": [
    "# generatorový výraz s podmínkou\n",
    "gen4 = (i for i in range(1, 8) if i % 2 == 0)\n",
    "print(gen4)\n",
    "print(next(gen4))\n",
    "print(next(gen4))\n",
    "print(next(gen4))\n",
    "try:\n",
    "    print(next(gen4))\n",
    "except StopIteration:\n",
    "    print(f\"Generátor {gen4} vyčerpal všechny hodnoty.\")"
   ]
  },
  {
   "attachments": {},
   "cell_type": "markdown",
   "metadata": {},
   "source": [
    "# List/Set/Dict comprehensions\n",
    "List/Set/Dict comprehensions jsou způsob, jak vytvořit seznam, množinu nebo slovník pomocí jednoho řádku kódu. Všechny tyto konstrukce jsou velmi podobné jako generator výrazy.\n",
    "- List comprehension - vytvoří seznam, syntaxe: **[**`výraz` **for** `proměnná` **in** `iterovatelný_objekt` **if** `podmínka`**]**\n",
    "- Set comprehension - vytvoří množinu, syntaxe: **{**`výraz` **for** `proměnná` **in** `iterovatelný_objekt` **if** `podmínka`**}**\n",
    "- Dict comprehension - vytvoří slovník, syntaxe: **{**`klíč` **:** `hodnota` **for** `proměnná` **in** `iterovatelný_objekt` **if** `podmínka`**}**"
   ]
  },
  {
   "cell_type": "code",
   "execution_count": null,
   "metadata": {},
   "outputs": [],
   "source": [
    "# list comprehension\n",
    "print([i for i in range(1, 6)])\n",
    "print([i for i in range(1, 6) if i % 2 == 0])\n",
    "print([i + 1 for i in range(1, 6) if i % 2 == 0])\n",
    "print([(i, i**2, i**3) for i in range(1, 6)])"
   ]
  },
  {
   "cell_type": "code",
   "execution_count": null,
   "metadata": {},
   "outputs": [],
   "source": [
    "# set comprehension\n",
    "print({i for i in range(1, 6)})\n",
    "print({i for i in range(1, 6) if i % 2 == 0})\n",
    "print({i + 1 for i in range(1, 6) if i % 2 == 0})\n",
    "print({(i, i**2, i**3) for i in range(1, 6)})"
   ]
  },
  {
   "cell_type": "code",
   "execution_count": null,
   "metadata": {},
   "outputs": [],
   "source": [
    "# dict comprehension\n",
    "print({i: i**2 for i in range(1, 6)})\n",
    "print({i: i**2 for i in range(1, 6) if i % 2 == 0})\n",
    "print({i + 1: i**2 for i in range(1, 6) if i % 2 == 0})\n",
    "print({i: (i**2, i**3) for i in range(1, 6)})"
   ]
  },
  {
   "attachments": {},
   "cell_type": "markdown",
   "metadata": {},
   "source": [
    "# Základní práce se soubory\n",
    "Pro práci se sounory je základní příkaz `open`, který vrací instanci `file`"
   ]
  },
  {
   "cell_type": "code",
   "execution_count": null,
   "metadata": {},
   "outputs": [],
   "source": [
    "%%writefile test.txt\n",
    "Ahoj, jak se máš?\n",
    "To se mi líbí!\n",
    "To ne.\n",
    "To ano.\n",
    "To ne.\n",
    "To ano."
   ]
  },
  {
   "cell_type": "code",
   "execution_count": null,
   "metadata": {},
   "outputs": [],
   "source": [
    "# ukázka otevření souboru\n",
    "soubor = open(\"test.txt\", \"r\")\n",
    "print(soubor)"
   ]
  },
  {
   "cell_type": "code",
   "execution_count": null,
   "metadata": {},
   "outputs": [],
   "source": [
    "# metody file\n",
    "print([m for m in dir(soubor) if not m.startswith(\"_\")])"
   ]
  },
  {
   "cell_type": "code",
   "execution_count": null,
   "metadata": {},
   "outputs": [],
   "source": [
    "print(soubor.read())\n",
    "soubor.close()"
   ]
  },
  {
   "attachments": {},
   "cell_type": "markdown",
   "metadata": {},
   "source": [
    "Soubor se dá procházet jakožto iterovatelný objekt, který vrací řádky souboru. Pozor na \"\\n\" na konci řádku."
   ]
  },
  {
   "cell_type": "code",
   "execution_count": null,
   "metadata": {},
   "outputs": [],
   "source": [
    "# procházení řádků souboru\n",
    "soubor = open(\"test.txt\", \"r\")\n",
    "for idx_radku, radek in enumerate(soubor):\n",
    "    print(f\"{idx_radku = }, {radek = }\")\n",
    "soubor.close()"
   ]
  },
  {
   "attachments": {},
   "cell_type": "markdown",
   "metadata": {},
   "source": [
    "Pro práci se soubory je velice užitečný (*a jednoznačně preferovaný*) blok [`with`](https://docs.python.org/3/reference/compound_stmts.html#with), který používá tzv. context managery. To nám zajistí, že soubor bude vždy zavřen, i když během práce se souborem dojde k chybě (neodchycená výjimka). Nahrazuje to tak `try..except..finally` blok. \n",
    "\n",
    "Použití je velice jednoduché, předchozí příklad by vypadal takto:"
   ]
  },
  {
   "cell_type": "code",
   "execution_count": null,
   "metadata": {},
   "outputs": [],
   "source": [
    "# ukázka užití with\n",
    "with open(\"test.txt\", \"r\") as soubor:\n",
    "    for idx_radku, radek in enumerate(soubor):\n",
    "        print(f\"{idx_radku = }, {radek = }\")"
   ]
  },
  {
   "attachments": {},
   "cell_type": "markdown",
   "metadata": {},
   "source": [
    "Zapisování do souboru je velice podobné, pouze je potřeba přidat parametr `w` (write) nebo `a` (append)."
   ]
  },
  {
   "cell_type": "code",
   "execution_count": null,
   "metadata": {},
   "outputs": [],
   "source": [
    "# vytvoření csv souboru s čísly a jejich mocninami\n",
    "with open(\"mocniny.csv\", \"w\", newline=\"\") as soubor:\n",
    "    soubor.write(\"čislo, mocnina \\n\")\n",
    "    for i in range(1, 10):\n",
    "        soubor.write(f\"{i}, {i*i} \\n\")"
   ]
  },
  {
   "cell_type": "code",
   "execution_count": null,
   "metadata": {},
   "outputs": [],
   "source": [
    "%less mocniny.csv\n"
   ]
  }
 ],
 "metadata": {
  "kernelspec": {
   "display_name": "Python 3",
   "language": "python",
   "name": "python3"
  },
  "language_info": {
   "codemirror_mode": {
    "name": "ipython",
    "version": 3
   },
   "file_extension": ".py",
   "mimetype": "text/x-python",
   "name": "python",
   "nbconvert_exporter": "python",
   "pygments_lexer": "ipython3",
   "version": "3.10.9"
  },
  "orig_nbformat": 4,
  "vscode": {
   "interpreter": {
    "hash": "e7370f93d1d0cde622a1f8e1c04877d8463912d04d973331ad4851f04de6915a"
   }
  }
 },
 "nbformat": 4,
 "nbformat_minor": 2
}
