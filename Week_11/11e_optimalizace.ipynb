{
 "cells": [
  {
   "attachments": {},
   "cell_type": "markdown",
   "metadata": {},
   "source": [
    "# Modelová úloha - vzdálenosti mezi body v 3D\n",
    "Zadání: pro N bodů v 3 rozměrném prostoru spočítejte vzájemnou vzdálenost $d$, která je pro dva body $x,y$ definovaná jako $\\sqrt {\\sum_{i=1}^3 {{{\\left( {{x_i} - {y_i}} \\right)}^2}} } $. Výslekem je tedy (symetrická) matice $N\\times N$."
   ]
  },
  {
   "attachments": {},
   "cell_type": "markdown",
   "metadata": {},
   "source": [
    "### Vstupní data\n",
    "Začneme čistě v Pythonu, body reprezentujeme jako list touplů."
   ]
  },
  {
   "cell_type": "code",
   "execution_count": null,
   "metadata": {},
   "outputs": [],
   "source": [
    "# vygeneruje list bodů, tuplů (x, y, z)\n",
    "import random\n",
    "n = 200\n",
    "points = [(random.random(), random.random(), random.random()) for i in range(n)]"
   ]
  },
  {
   "cell_type": "code",
   "execution_count": null,
   "metadata": {},
   "outputs": [],
   "source": [
    "# vykreslí body\n",
    "import matplotlib.pyplot as plt\n",
    "from mpl_toolkits.mplot3d import Axes3D\n",
    "fig = plt.figure()\n",
    "ax = fig.add_subplot(111, projection='3d')\n",
    "ax.scatter([p[0] for p in points], [p[1] for p in points], [p[2] for p in points])\n",
    "plt.show()"
   ]
  },
  {
   "attachments": {},
   "cell_type": "markdown",
   "metadata": {},
   "source": [
    "### Prvnotní nástřel - vzdálenost mezi body"
   ]
  },
  {
   "cell_type": "code",
   "execution_count": null,
   "metadata": {},
   "outputs": [],
   "source": [
    "import math\n",
    "\n",
    "def dist_py1(points):\n",
    "    distances_all = []\n",
    "    for point_1 in points:\n",
    "        distances = []\n",
    "        for point_2 in points:\n",
    "            tmp_sum = 0\n",
    "            for k in range(3):\n",
    "                rozdil = point_1[k] - point_2[k]\n",
    "                tmp_sum += rozdil ** 2\n",
    "            tmp_dist = math.sqrt(tmp_sum)\n",
    "            distances.append(tmp_dist)\n",
    "        distances_all.append(distances)\n",
    "\n",
    "    return distances_all\n"
   ]
  },
  {
   "cell_type": "code",
   "execution_count": null,
   "metadata": {},
   "outputs": [],
   "source": [
    "%time res1 = dist_py1(points)"
   ]
  },
  {
   "cell_type": "code",
   "execution_count": null,
   "metadata": {},
   "outputs": [],
   "source": [
    "plt.imshow(res1)"
   ]
  },
  {
   "attachments": {},
   "cell_type": "markdown",
   "metadata": {},
   "source": [
    "### Profilování"
   ]
  },
  {
   "cell_type": "code",
   "execution_count": null,
   "metadata": {},
   "outputs": [],
   "source": [
    "%prun res1 = dist_py1(points)"
   ]
  },
  {
   "cell_type": "code",
   "execution_count": null,
   "metadata": {},
   "outputs": [],
   "source": [
    "%load_ext line_profiler"
   ]
  },
  {
   "cell_type": "code",
   "execution_count": null,
   "metadata": {},
   "outputs": [],
   "source": [
    "%lprun -u 1e-6 -f dist_py1 res1 = dist_py1(points)"
   ]
  },
  {
   "attachments": {},
   "cell_type": "markdown",
   "metadata": {},
   "source": [
    "#### Scalene\n",
    "Mnoho profilerů potřebuje pro plnou funkcionalitu být spuštěno z příkazové řádky (jako zde Scalene).\n",
    "\n",
    "Proto uložíme náš kód do souboru, včetně generování vstupních dat a volání funkce, kterou chceme profilovat."
   ]
  },
  {
   "cell_type": "code",
   "execution_count": null,
   "metadata": {},
   "outputs": [],
   "source": [
    "%%writefile test.py\n",
    "import math\n",
    "\n",
    "def dist_py1(points):\n",
    "    distances_all = []\n",
    "    for point_1 in points:\n",
    "        distances = []\n",
    "        for point_2 in points:\n",
    "            tmp_sum = 0\n",
    "            for k in range(3):\n",
    "                rozdil = point_1[k] - point_2[k]\n",
    "                tmp_sum += rozdil ** 2\n",
    "            tmp_dist = math.sqrt(tmp_sum)\n",
    "            distances.append(tmp_dist)\n",
    "        distances_all.append(distances)\n",
    "\n",
    "    return distances_all\n",
    "\n",
    "import random\n",
    "n = 1000\n",
    "points = [(random.random(), random.random(), random.random()) for i in range(n)]\n",
    "res = dist_py1(points)"
   ]
  },
  {
   "cell_type": "code",
   "execution_count": null,
   "metadata": {},
   "outputs": [],
   "source": [
    "!scalene test.py"
   ]
  },
  {
   "attachments": {},
   "cell_type": "markdown",
   "metadata": {},
   "source": [
    "## Optimalizace na úrovni algoritmu\n",
    "\n",
    "Často je možné získat větší rychlost bez nutnosti optimalizace na úrovni kódu, ale lepším algoritmem. Mezi standardní příklady patří třídící algoritmy, kde různé algoritmy mají různou složitost. \n",
    "\n",
    "V našem případě si můžeme všimnout, že výsledek je symetrický, tedy pro všechny body platí, že vzdálenost od bodu $A$ k bodu $B$ je stejná jako vzdálenost od bodu $B$ k bodu $A$, navíc na diagonále je vždy nula.\n",
    "\n",
    "Dále můžeme nahradit `x**2` za `x*x`, které bude pravděpodobně ryhlejší."
   ]
  },
  {
   "cell_type": "code",
   "execution_count": null,
   "metadata": {},
   "outputs": [],
   "source": [
    "def dist_py2(points):\n",
    "    # nejdříve vyrobíme prázdný 2d list\n",
    "    distances_all: list[list[float]] = [[0 for _ in range(len(points))] \n",
    "                                        for _ in range(len(points))]\n",
    "    for i in range(len(points)):\n",
    "        for j in range(i+1,len(points)): # vyplníme jen hodnoty nad diagonálou\n",
    "            tmp_sum = 0\n",
    "            for k in range(3):\n",
    "                rozdil = points[i][k] - points[j][k]\n",
    "                tmp_sum += rozdil * rozdil\n",
    "            tmp_dist = math.sqrt(tmp_sum)\n",
    "            distances_all[i][j] = tmp_dist\n",
    "            distances_all[j][i] = tmp_dist\n",
    "\n",
    "    return distances_all"
   ]
  },
  {
   "cell_type": "code",
   "execution_count": null,
   "metadata": {},
   "outputs": [],
   "source": [
    "%time res2 = dist_py2(points)"
   ]
  },
  {
   "cell_type": "code",
   "execution_count": null,
   "metadata": {},
   "outputs": [],
   "source": [
    "# pro srovnání\n",
    "%time res1 = dist_py1(points)"
   ]
  },
  {
   "attachments": {},
   "cell_type": "markdown",
   "metadata": {},
   "source": [
    "Raději zkontrolujeme, že počítáme stále to stejné:"
   ]
  },
  {
   "cell_type": "code",
   "execution_count": null,
   "metadata": {},
   "outputs": [],
   "source": [
    "# zkontrolujeme jestli res1 a res2 jsou stejné pomocí numpy allclose\n",
    "import numpy as np\n",
    "print(np.allclose(res1, res2))"
   ]
  },
  {
   "attachments": {},
   "cell_type": "markdown",
   "metadata": {},
   "source": [
    "Podíváme se na profilování nové verze:"
   ]
  },
  {
   "cell_type": "code",
   "execution_count": null,
   "metadata": {},
   "outputs": [],
   "source": [
    "%lprun -u 1e-6 -f dist_py2 res2 = dist_py2(points)"
   ]
  },
  {
   "cell_type": "code",
   "execution_count": null,
   "metadata": {},
   "outputs": [],
   "source": [
    "# pro srovnání\n",
    "%lprun -u 1e-6 -f dist_py1 res1 = dist_py1(points)"
   ]
  },
  {
   "attachments": {},
   "cell_type": "markdown",
   "metadata": {},
   "source": [
    "## Optimalizace pomocí vektorizace (NumPy)\n",
    "\n",
    "Nejprve přepíšeme funkci tak, aby pracovala s NumPy polemi:"
   ]
  },
  {
   "cell_type": "code",
   "execution_count": null,
   "metadata": {},
   "outputs": [],
   "source": [
    "import numpy as np\n",
    "import math\n",
    "def dist_np1(points):\n",
    "    n = points.shape[0]\n",
    "    distances_all = np.zeros((n, n))\n",
    "    for i in range(n):\n",
    "        for j in range(i+1, n):\n",
    "            tmp_sum = 0\n",
    "            for k in range(3):\n",
    "                rozdil = points[i, k] - points[j, k]\n",
    "                tmp_sum += rozdil*rozdil\n",
    "            tmp_dist = math.sqrt(tmp_sum)\n",
    "            distances_all[i, j] = tmp_dist\n",
    "            distances_all[j, i] = tmp_dist\n",
    "\n",
    "    return distances_all"
   ]
  },
  {
   "cell_type": "code",
   "execution_count": null,
   "metadata": {},
   "outputs": [],
   "source": [
    "points_np = np.array(points)"
   ]
  },
  {
   "cell_type": "code",
   "execution_count": null,
   "metadata": {},
   "outputs": [],
   "source": [
    "%time res3 = dist_np1(points_np)"
   ]
  },
  {
   "attachments": {},
   "cell_type": "markdown",
   "metadata": {},
   "source": [
    "Tohle vůbec nepomohlo, ba naopak!\n",
    "\n",
    "Důvodem je fakt, že `numpy` je rozhraní do implementace v nízkoúrovňovém jazyce C/Fortran, které se však zde volá stále dokola (v cyklech), a tedy nasbíráme obrovský overhead."
   ]
  },
  {
   "cell_type": "code",
   "execution_count": null,
   "metadata": {},
   "outputs": [],
   "source": [
    "# pro jistotu overíme, že výsledky jsou stejné\n",
    "print(np.allclose(res1, res3))"
   ]
  },
  {
   "attachments": {},
   "cell_type": "markdown",
   "metadata": {},
   "source": [
    "## Vektorizace - zbavme se vnitřních smyček\n",
    "\n",
    "- pokusíme se zbavit vnitřních cyklů"
   ]
  },
  {
   "cell_type": "code",
   "execution_count": null,
   "metadata": {},
   "outputs": [],
   "source": [
    "import numpy as np\n",
    "import math\n",
    "def dist_np2(points):\n",
    "    n = points.shape[0]\n",
    "    distances_all = np.zeros((n, n))\n",
    "    for i in range(n):\n",
    "        rozdily = points[i, :] - points[i+1: n, :]\n",
    "        tmp_sum = np.sum(rozdily * rozdily, axis=1)\n",
    "        tmp_dist = np.sqrt(tmp_sum)\n",
    "        distances_all[i, i+1: n] = tmp_dist\n",
    "        distances_all[i+1: n, i] = tmp_dist\n",
    "\n",
    "    return distances_all"
   ]
  },
  {
   "cell_type": "code",
   "execution_count": null,
   "metadata": {},
   "outputs": [],
   "source": [
    "%time res4 = dist_np2(points_np)"
   ]
  },
  {
   "attachments": {},
   "cell_type": "markdown",
   "metadata": {},
   "source": [
    "To už je je mnohem lepší! \n",
    "\n",
    "Raději zkontrolujeme, že počítáme stále to stejné:"
   ]
  },
  {
   "cell_type": "code",
   "execution_count": null,
   "metadata": {},
   "outputs": [],
   "source": [
    "# kontrola\n",
    "print(np.allclose(res1, res4))"
   ]
  },
  {
   "cell_type": "code",
   "execution_count": null,
   "metadata": {},
   "outputs": [],
   "source": [
    "# jak vypadá profilování?\n",
    "%lprun -u 1e-6 -f dist_np2 res4 = dist_np2(points_np)"
   ]
  },
  {
   "attachments": {},
   "cell_type": "markdown",
   "metadata": {},
   "source": [
    "## Úplná vektorizace na úkor redundance výpočtů\n",
    "\n",
    "Vrátíme se zpět k původnímu kódu ale zkusíme vektorizovat vše, tedy ať nepoužíváme žádné cykly."
   ]
  },
  {
   "cell_type": "code",
   "execution_count": null,
   "metadata": {},
   "outputs": [],
   "source": [
    "import numpy as np\n",
    "import math\n",
    "def dist_np3(points):\n",
    "    # Použijeme broadcasting a spočítáme všechny rozdíly najednou\n",
    "    diffs = points[:, None, :] - points # shape (n, n, 3)\n",
    "    \n",
    "    # spočteme druhou mocninu všech rozdílů a sečteme skrz poslední osu\n",
    "    tmp_sum = np.sum(diffs*diffs, axis=-1)\n",
    "\n",
    "    distances_all = np.sqrt(tmp_sum)\n",
    "    return distances_all"
   ]
  },
  {
   "cell_type": "code",
   "execution_count": null,
   "metadata": {},
   "outputs": [],
   "source": [
    "%time res5 = dist_np3(points_np)"
   ]
  },
  {
   "cell_type": "code",
   "execution_count": null,
   "metadata": {},
   "outputs": [],
   "source": [
    "# kontrola\n",
    "print(np.allclose(res1, res5))"
   ]
  },
  {
   "attachments": {},
   "cell_type": "markdown",
   "metadata": {},
   "source": [
    "Zdá se, že poslední redundantní verze je nejrychlejší!\n",
    "\n",
    "Teď je nařadě benchmarkování. Skutečně je to nejrychlejší vždy?"
   ]
  },
  {
   "cell_type": "code",
   "execution_count": null,
   "metadata": {},
   "outputs": [],
   "source": [
    "import time\n",
    "import matplotlib.pyplot as plt\n",
    "\n",
    "velikosti =[2**i for i in range(4, 12)]\n",
    "time_py1 = []\n",
    "time_py2 = []\n",
    "time_np2 = []\n",
    "time_np3 = []\n",
    "\n",
    "for n in velikosti:\n",
    "    points = [(random.random(), random.random(), random.random()) for i in range(n)]\n",
    "    points_np = np.array(points)\n",
    "    start = time.time()\n",
    "    res1 = dist_py1(points)\n",
    "    time_py1.append(time.time() - start)\n",
    "    start = time.time()\n",
    "    res2 = dist_py2(points)\n",
    "    time_py2.append(time.time() - start)\n",
    "    start = time.time()\n",
    "    res3 = dist_np2(points_np)\n",
    "    time_np2.append(time.time() - start)\n",
    "    start = time.time()\n",
    "    res4 = dist_np3(points_np)\n",
    "    time_np3.append(time.time() - start)\n",
    "\n",
    "    print(n, time_py1[-1], time_py2[-1], time_np2[-1], time_np3[-1])\n",
    "\n",
    "# log-log grafy\n",
    "plt.loglog(velikosti, time_py1, label=\"py1\")\n",
    "plt.loglog(velikosti, time_py2, label=\"py2\")\n",
    "plt.loglog(velikosti, time_np2, label=\"np2\")\n",
    "plt.loglog(velikosti, time_np3, label=\"np3\")\n",
    "plt.legend()"
   ]
  },
  {
   "attachments": {},
   "cell_type": "markdown",
   "metadata": {},
   "source": [
    "## Jak si povede Numba?"
   ]
  },
  {
   "attachments": {},
   "cell_type": "markdown",
   "metadata": {},
   "source": [
    "Nejlepší byl zatím kód `dist_np2`, zkusíme jej \"zakomplilovat\" pomocí Numby."
   ]
  },
  {
   "cell_type": "code",
   "execution_count": null,
   "metadata": {},
   "outputs": [],
   "source": [
    "from numba import jit\n",
    "dist_np2_numba = jit(dist_np2, nopython=True)"
   ]
  },
  {
   "cell_type": "code",
   "execution_count": null,
   "metadata": {},
   "outputs": [],
   "source": [
    "# srovnání dist_np2 a dist_np2_numba\n",
    "points_np = np.random.rand(1000, 3)\n",
    "res1 = dist_np2(points_np)\n",
    "res2 = dist_np2_numba(points_np)\n",
    "print(np.allclose(res1, res2))"
   ]
  },
  {
   "attachments": {},
   "cell_type": "markdown",
   "metadata": {},
   "source": [
    "Při testování se kód zároveň kompiluje což je třeba mít na mysli při měření času."
   ]
  },
  {
   "cell_type": "code",
   "execution_count": null,
   "metadata": {},
   "outputs": [],
   "source": [
    "%timeit res1 = dist_np2(points_np)"
   ]
  },
  {
   "cell_type": "code",
   "execution_count": null,
   "metadata": {},
   "outputs": [],
   "source": [
    "%timeit res2 = dist_np2_numba(points_np)"
   ]
  },
  {
   "attachments": {},
   "cell_type": "markdown",
   "metadata": {},
   "source": [
    "Zkusíme ještě původní verzi se smyčkami `dist_np1`:"
   ]
  },
  {
   "cell_type": "code",
   "execution_count": null,
   "metadata": {},
   "outputs": [],
   "source": [
    "dist_np1_numba = jit(dist_np1, nopython=True)"
   ]
  },
  {
   "cell_type": "code",
   "execution_count": null,
   "metadata": {},
   "outputs": [],
   "source": [
    "res1 = dist_np2(points_np)\n",
    "res2 = dist_np1_numba(points_np)\n",
    "print(np.allclose(res1, res2))"
   ]
  },
  {
   "cell_type": "code",
   "execution_count": null,
   "metadata": {},
   "outputs": [],
   "source": [
    "%timeit res2 = dist_np1_numba(points_np)"
   ]
  },
  {
   "attachments": {},
   "cell_type": "markdown",
   "metadata": {},
   "source": [
    "Obojí výrazně zrychlilo běh, a kupodivu `dist_np1_numba` je ještě rychlejší než `dist_np2_numba`!\n",
    "\n",
    "Toto je důsledek toho, že Numba si sama překládá kód do C a optimalizuje. Užití vektorizace jí vnucuje jeden konktrétní způsob, který nemusí být vždy nejlepší (jako je to zde).\n",
    "\n",
    "Přidáme ji do benchmarku:"
   ]
  },
  {
   "cell_type": "code",
   "execution_count": null,
   "metadata": {},
   "outputs": [],
   "source": [
    "import time\n",
    "import matplotlib.pyplot as plt\n",
    "\n",
    "velikosti =[2**i for i in range(6, 14)]\n",
    "time_np2 = []\n",
    "time_np1_numba = []\n",
    "time_np2_numba = []\n",
    "\n",
    "for n in velikosti:\n",
    "    points = [(random.random(), random.random(), random.random()) for i in range(n)]\n",
    "    points_np = np.array(points)\n",
    "    start = time.time()\n",
    "    _ = dist_np2(points_np)\n",
    "    time_np2.append(time.time() - start)\n",
    "    start = time.time()\n",
    "    _ = dist_np1_numba(points_np)\n",
    "    time_np1_numba.append(time.time() - start)\n",
    "    start = time.time()\n",
    "    _ = dist_np2_numba(points_np)\n",
    "    time_np2_numba.append(time.time() - start)\n",
    "\n",
    "    print(n, time_np2[-1], time_np1_numba[-1], time_np2_numba[-1])\n",
    "\n",
    "# log-log grafy\n",
    "plt.loglog(velikosti, time_np2, label=\"np2\")\n",
    "plt.loglog(velikosti, time_np1_numba, label=\"np1_numba\")\n",
    "plt.loglog(velikosti, time_np2_numba, label=\"np2_numba\")\n",
    "plt.legend()"
   ]
  },
  {
   "attachments": {},
   "cell_type": "markdown",
   "metadata": {},
   "source": [
    "## A co Cython?"
   ]
  },
  {
   "cell_type": "code",
   "execution_count": null,
   "metadata": {},
   "outputs": [],
   "source": [
    "%load_ext Cython"
   ]
  },
  {
   "cell_type": "code",
   "execution_count": null,
   "metadata": {},
   "outputs": [],
   "source": [
    "%%cython\n",
    "\n",
    "import numpy as np\n",
    "cimport numpy as np\n",
    "from libc.math cimport sqrt\n",
    "cimport cython\n",
    "\n",
    "ctypedef np.float64_t DTYPE_t\n",
    "\n",
    "@cython.boundscheck(False)\n",
    "@cython.wraparound(False)\n",
    "def dist_cython(np.ndarray[DTYPE_t, ndim=2] points):\n",
    "    cdef int n = points.shape[0]\n",
    "    cdef np.ndarray[DTYPE_t, ndim=2] distances_all = np.zeros((n, n), dtype=np.float64)\n",
    "    cdef int i, j, k\n",
    "    cdef double tmp_sum, rozdil, tmp_dist\n",
    "\n",
    "    for i in range(n):\n",
    "        for j in range(i+1, n):\n",
    "            tmp_sum = 0\n",
    "            for k in range(3):\n",
    "                rozdil = points[i, k] - points[j, k]\n",
    "                tmp_sum += rozdil * rozdil\n",
    "            tmp_dist = sqrt(tmp_sum)\n",
    "            distances_all[i, j] = tmp_dist\n",
    "            distances_all[j, i] = tmp_dist\n",
    "\n",
    "    return distances_all\n"
   ]
  },
  {
   "cell_type": "code",
   "execution_count": null,
   "metadata": {},
   "outputs": [],
   "source": [
    "# vyzkoušíme si, jestli to funguje\n",
    "points_np = np.random.rand(1000, 3)\n",
    "res5 = dist_np2(points_np)\n",
    "res6 = dist_cython(points_np)\n",
    "np.allclose(res5, res6)"
   ]
  },
  {
   "cell_type": "code",
   "execution_count": null,
   "metadata": {},
   "outputs": [],
   "source": [
    "# časové měření\n",
    "%timeit res6 = dist_cython(points_np)"
   ]
  },
  {
   "cell_type": "code",
   "execution_count": null,
   "metadata": {},
   "outputs": [],
   "source": [
    "# porovnání s numba\n",
    "%timeit res5 = dist_np1_numba(points_np)"
   ]
  },
  {
   "attachments": {},
   "cell_type": "markdown",
   "metadata": {},
   "source": [
    "## Porovnání nejlepších variant"
   ]
  },
  {
   "cell_type": "code",
   "execution_count": null,
   "metadata": {},
   "outputs": [],
   "source": [
    "import time\n",
    "import matplotlib.pyplot as plt\n",
    "\n",
    "velikosti =[2**i for i in range(6, 14)]\n",
    "time_np2 = []\n",
    "time_np1_numba = []\n",
    "time_cython = []\n",
    "\n",
    "for n in velikosti:\n",
    "    points_np = np.random.rand(n, 3)\n",
    "    start = time.time()\n",
    "    _ = dist_np2(points_np)\n",
    "    time_np2.append(time.time() - start)\n",
    "    start = time.time()\n",
    "    _ = dist_np1_numba(points_np)\n",
    "    time_np1_numba.append(time.time() - start)\n",
    "    start = time.time()\n",
    "    _ = dist_cython(points_np)\n",
    "    time_cython.append(time.time() - start)\n",
    "\n",
    "    print(n, time_np2[-1], time_np1_numba[-1], time_cython[-1])\n",
    "\n",
    "# log-log grafy\n",
    "plt.loglog(velikosti, time_np2, label=\"np2\")\n",
    "plt.loglog(velikosti, time_np1_numba, label=\"np1_umba\")\n",
    "plt.loglog(velikosti, time_cython, label=\"cython\")\n",
    "plt.legend()"
   ]
  },
  {
   "attachments": {},
   "cell_type": "markdown",
   "metadata": {},
   "source": [
    "# Modelová úloha - hledání kam se dostaneme v grafu pokud můžeme projít n hran"
   ]
  },
  {
   "attachments": {},
   "cell_type": "markdown",
   "metadata": {},
   "source": [
    "### Vstupní data - list dvojic vrcholů = hrany"
   ]
  },
  {
   "cell_type": "code",
   "execution_count": null,
   "metadata": {},
   "outputs": [],
   "source": [
    "import random\n",
    "n = 10\n",
    "\n",
    "def vygeneruj_graf(n):\n",
    "    V = [i for i in range(n)]\n",
    "    E = []\n",
    "    start_V = 0\n",
    "    end_V = 0\n",
    "    while len(E) < 2*n:\n",
    "        start_V = end_V\n",
    "        end_V = random.randint(0, n - 1)\n",
    "        E.append((start_V, end_V))\n",
    "    return V, E\n",
    "\n",
    "V, E = vygeneruj_graf(n)"
   ]
  },
  {
   "cell_type": "code",
   "execution_count": null,
   "metadata": {},
   "outputs": [],
   "source": [
    "print(V)\n",
    "print(E)"
   ]
  },
  {
   "attachments": {},
   "cell_type": "markdown",
   "metadata": {},
   "source": [
    "## Ochutnávka knihovny networkx = vykreslení grafu"
   ]
  },
  {
   "cell_type": "code",
   "execution_count": null,
   "metadata": {},
   "outputs": [],
   "source": [
    "# !pip install networkx"
   ]
  },
  {
   "cell_type": "code",
   "execution_count": null,
   "metadata": {},
   "outputs": [],
   "source": [
    "# plot graph with vertices V and edges E\n",
    "# showing vertices with numbers and connections as lines\n",
    "import matplotlib.pyplot as plt\n",
    "import networkx as nx\n",
    "\n",
    "G = nx.Graph()\n",
    "G.add_nodes_from(V)\n",
    "G.add_edges_from(E)\n",
    "pos = nx.spring_layout(G)\n",
    "nx.draw_networkx_nodes(G, pos)\n",
    "nx.draw_networkx_edges(G, pos)\n",
    "nx.draw_networkx_labels(G, pos)\n",
    "plt.show()\n"
   ]
  },
  {
   "attachments": {},
   "cell_type": "markdown",
   "metadata": {},
   "source": [
    "## První návrh - jednoduchý Python, použití setů, listů a union"
   ]
  },
  {
   "cell_type": "code",
   "execution_count": null,
   "metadata": {},
   "outputs": [],
   "source": [
    "def reachable_in_n_steps(edges, n):\n",
    "    reachable = set()\n",
    "    reachable.add(0)\n",
    "    for i in range(n):\n",
    "        new_reachable = set()\n",
    "        for v in reachable:\n",
    "            for e in edges:\n",
    "                if e[0] == v:\n",
    "                    new_reachable.add(e[1])\n",
    "                if e[1] == v:\n",
    "                    new_reachable.add(e[0])\n",
    "        reachable = reachable.union(new_reachable)\n",
    "    return list(reachable)\n"
   ]
  },
  {
   "cell_type": "code",
   "execution_count": null,
   "metadata": {},
   "outputs": [],
   "source": [
    "reachable_in_n_steps(E, 2)"
   ]
  },
  {
   "attachments": {},
   "cell_type": "markdown",
   "metadata": {},
   "source": [
    "## Vygenerujeme větší graf"
   ]
  },
  {
   "cell_type": "code",
   "execution_count": null,
   "metadata": {},
   "outputs": [],
   "source": [
    "V, E = vygeneruj_graf(1000)"
   ]
  },
  {
   "attachments": {},
   "cell_type": "markdown",
   "metadata": {},
   "source": [
    "Jak dlouho to asi potrvá?"
   ]
  },
  {
   "cell_type": "code",
   "execution_count": null,
   "metadata": {},
   "outputs": [],
   "source": [
    "%time res1 = reachable_in_n_steps(E, 20)"
   ]
  },
  {
   "attachments": {},
   "cell_type": "markdown",
   "metadata": {},
   "source": [
    "## Profilování"
   ]
  },
  {
   "cell_type": "code",
   "execution_count": null,
   "metadata": {},
   "outputs": [],
   "source": [
    "%load_ext line_profiler"
   ]
  },
  {
   "cell_type": "code",
   "execution_count": null,
   "metadata": {},
   "outputs": [],
   "source": [
    "%lprun -f reachable_in_n_steps reachable_in_n_steps(E, 20)"
   ]
  },
  {
   "attachments": {},
   "cell_type": "markdown",
   "metadata": {},
   "source": [
    "Edge procházíme desítky miliónů krát... tohle ani rychlé být nemůže. Jak to můžeme zrychlit?\n",
    "\n",
    "- edge který jednou projdeme už nemusíme znovu procházet\n",
    "- druhý if v cyklu může být v elif, protože pokud je splněn první if, tak druhý už nás stejně nezajímá"
   ]
  },
  {
   "attachments": {},
   "cell_type": "markdown",
   "metadata": {},
   "source": [
    "## Optimalizace algoritmu"
   ]
  },
  {
   "cell_type": "code",
   "execution_count": null,
   "metadata": {},
   "outputs": [],
   "source": [
    "from copy import deepcopy\n",
    "\n",
    "def reachable_in_n_steps_v2(edges, n):\n",
    "    edges_copy = deepcopy(edges)\n",
    "    reachable = set()\n",
    "    reachable.add(0)\n",
    "    for i in range(n):\n",
    "        new_reachable = set()\n",
    "        for v in reachable:\n",
    "            edges_to_remove = []\n",
    "            for e_idx, e in enumerate(edges_copy):\n",
    "                if e[0] == v:\n",
    "                    new_reachable.add(e[1])\n",
    "                    edges_to_remove.append(e_idx)\n",
    "                elif e[1] == v:\n",
    "                    new_reachable.add(e[0])\n",
    "                    edges_to_remove.append(e_idx)\n",
    "            _ = [edges_copy.pop(e_idx) for e_idx in edges_to_remove[::-1]]\n",
    "        reachable = reachable.union(new_reachable)\n",
    "    return list(reachable)\n"
   ]
  },
  {
   "cell_type": "code",
   "execution_count": null,
   "metadata": {},
   "outputs": [],
   "source": [
    "%time res2 = reachable_in_n_steps_v2(E, 20)"
   ]
  },
  {
   "attachments": {},
   "cell_type": "markdown",
   "metadata": {},
   "source": [
    "Tohle bylo vskutku výrazné zrychlení!\n",
    "\n",
    "Raději ověříme, že počítáme stále to samé:"
   ]
  },
  {
   "cell_type": "code",
   "execution_count": null,
   "metadata": {},
   "outputs": [],
   "source": [
    "import numpy as np\n",
    "np.allclose(np.array(res1), np.array(res2))"
   ]
  },
  {
   "attachments": {},
   "cell_type": "markdown",
   "metadata": {},
   "source": [
    "## První optimalizace - použití NumPy a pole bool hodnot místo setů"
   ]
  },
  {
   "attachments": {},
   "cell_type": "markdown",
   "metadata": {},
   "source": [
    "Budeme chtít také vstup jako Numpy:"
   ]
  },
  {
   "cell_type": "code",
   "execution_count": null,
   "metadata": {},
   "outputs": [],
   "source": [
    "E_np = np.array(E)"
   ]
  },
  {
   "cell_type": "code",
   "execution_count": null,
   "metadata": {},
   "outputs": [],
   "source": [
    "def reachable_in_n_steps_np(edges, n):\n",
    "    edges_copy = edges.copy()\n",
    "    n_vertices = np.max(edges_copy) + 1\n",
    "    reachable = np.zeros((n_vertices), dtype=np.bool8)\n",
    "    reachable[0] = True\n",
    "    for i in range(n):\n",
    "        new_reachable = np.zeros((n_vertices), dtype=np.bool8)\n",
    "        for v, is_reachable in enumerate(reachable):\n",
    "            if not is_reachable:\n",
    "                continue\n",
    "            edges_hits = np.logical_or(edges_copy[:,0] == v, edges_copy[:,1] == v)\n",
    "            if np.sum(edges_hits) == 0:\n",
    "                continue\n",
    "            reachable_vertices = edges_copy[edges_hits,:].ravel()\n",
    "            new_reachable[reachable_vertices] = True\n",
    "            edges_copy = edges_copy[~edges_hits,:]\n",
    "        reachable = np.logical_or(reachable, new_reachable)\n",
    "        \n",
    "    return np.where(reachable)"
   ]
  },
  {
   "cell_type": "code",
   "execution_count": null,
   "metadata": {},
   "outputs": [],
   "source": [
    "%time res3 = reachable_in_n_steps_np(E_np, 20)"
   ]
  },
  {
   "cell_type": "code",
   "execution_count": null,
   "metadata": {},
   "outputs": [],
   "source": [
    "np.allclose(np.array(res1), np.array(res3))"
   ]
  },
  {
   "cell_type": "code",
   "execution_count": null,
   "metadata": {},
   "outputs": [],
   "source": [
    "%load_ext line_profiler"
   ]
  },
  {
   "cell_type": "code",
   "execution_count": null,
   "metadata": {},
   "outputs": [],
   "source": [
    "%lprun -f reachable_in_n_steps_np reachable_in_n_steps_np(E_np, 20)"
   ]
  },
  {
   "cell_type": "code",
   "execution_count": null,
   "metadata": {},
   "outputs": [],
   "source": [
    "from numba import jit\n",
    "import numpy as np\n",
    "\n",
    "@jit(nopython=True)\n",
    "def reachable_in_n_steps_numba(edges, n):\n",
    "    edges_copy = edges.copy()\n",
    "    n_vertices = np.max(edges_copy) + 1\n",
    "    reachable = np.zeros((n_vertices), dtype=np.bool8)\n",
    "    reachable[0] = True\n",
    "    for i in range(n):\n",
    "        new_reachable = np.zeros((n_vertices), dtype=np.bool8)\n",
    "        for v, is_reachable in enumerate(reachable):\n",
    "            if not is_reachable:\n",
    "                continue\n",
    "            edges_hits = np.logical_or(edges_copy[:,0] == v, edges_copy[:,1] == v)\n",
    "            if np.sum(edges_hits) == 0:\n",
    "                continue\n",
    "            reachable_vertices = edges_copy[edges_hits,:].ravel()\n",
    "            new_reachable[reachable_vertices] = True\n",
    "            edges_copy = edges_copy[~edges_hits,:]\n",
    "        reachable = np.logical_or(reachable, new_reachable)\n",
    "        \n",
    "    return np.where(reachable)"
   ]
  },
  {
   "cell_type": "code",
   "execution_count": null,
   "metadata": {},
   "outputs": [],
   "source": [
    "%time res4 = reachable_in_n_steps_numba(E_np, 20)"
   ]
  },
  {
   "attachments": {},
   "cell_type": "markdown",
   "metadata": {},
   "source": [
    "To už je obrovské zrychlení!\n",
    "\n",
    "Zkontrolujeme, že počítáme stále to samé:"
   ]
  },
  {
   "cell_type": "code",
   "execution_count": null,
   "metadata": {},
   "outputs": [],
   "source": [
    "np.allclose(np.array(res1), np.array(res4))"
   ]
  },
  {
   "attachments": {},
   "cell_type": "markdown",
   "metadata": {},
   "source": [
    "## Zkusíme to úplně jinak - použití matice sousednosti"
   ]
  },
  {
   "cell_type": "code",
   "execution_count": null,
   "metadata": {},
   "outputs": [],
   "source": [
    "from scipy.sparse import csc_matrix\n",
    "\n",
    "def reachable_in_n_steps_scipy(edges, n):\n",
    "    n_vertices = np.max(edges) + 1\n",
    "    idx_row = np.concatenate((edges[:,0], edges[:,1]))\n",
    "    idx_col = np.concatenate((edges[:,1], edges[:,0]))\n",
    "    values = np.ones((len(idx_row)), dtype=np.bool_)\n",
    "   \n",
    "    adjacence_csc = csc_matrix((values, (idx_row, idx_col)), \n",
    "                               shape=(n_vertices, n_vertices), dtype=np.bool_)\n",
    "\n",
    "    reachable = np.zeros((n_vertices), dtype=np.bool_)\n",
    "    reachable[0] = True\n",
    "    for i in range(n):\n",
    "        reachable = adjacence_csc.dot(reachable)\n",
    "\n",
    "    return np.where(reachable)[0]"
   ]
  },
  {
   "cell_type": "code",
   "execution_count": null,
   "metadata": {},
   "outputs": [],
   "source": [
    "%time res5 = reachable_in_n_steps_scipy(E_np, 20)"
   ]
  },
  {
   "attachments": {},
   "cell_type": "markdown",
   "metadata": {},
   "source": [
    "To je rychlé!\n",
    "\n",
    "Zkontrolujeme, že počítáme stále to samé:"
   ]
  },
  {
   "cell_type": "code",
   "execution_count": null,
   "metadata": {},
   "outputs": [],
   "source": [
    "np.allclose(np.array(res1), res5)"
   ]
  },
  {
   "cell_type": "code",
   "execution_count": null,
   "metadata": {},
   "outputs": [],
   "source": [
    "# profilovani\n",
    "%lprun -f reachable_in_n_steps_scipy reachable_in_n_steps_scipy(E_np, 20)"
   ]
  },
  {
   "attachments": {},
   "cell_type": "markdown",
   "metadata": {},
   "source": [
    "## Benchmarkování nejlepších variant"
   ]
  },
  {
   "attachments": {},
   "cell_type": "markdown",
   "metadata": {},
   "source": [
    "### Rostoucí n"
   ]
  },
  {
   "cell_type": "code",
   "execution_count": null,
   "metadata": {},
   "outputs": [],
   "source": [
    "import time\n",
    "num_vert = 2000\n",
    "V, E = vygeneruj_graf(num_vert)\n",
    "E_np = np.array(E)\n",
    "\n",
    "n_list = [2**i for i in range(0, 9)]\n",
    "times_v2 = [] # reachable_in_n_steps_v2\n",
    "times_np = [] # reachable_in_n_steps_np\n",
    "times_numba = [] # reachable_in_n_steps_numba\n",
    "times_scipy = [] # reachable_in_n_steps_scipy\n",
    "\n",
    "for n in n_list:\n",
    "    start = time.time()\n",
    "    res = reachable_in_n_steps_v2(E, n)\n",
    "    end = time.time()\n",
    "    times_v2.append(end - start)\n",
    "    \n",
    "    start = time.time()\n",
    "    res = reachable_in_n_steps_np(E_np, n)\n",
    "    end = time.time()\n",
    "    times_np.append(end - start)\n",
    "    \n",
    "    start = time.time()\n",
    "    res = reachable_in_n_steps_numba(E_np, n)\n",
    "    end = time.time()\n",
    "    times_numba.append(end - start)\n",
    "    \n",
    "    start = time.time()\n",
    "    res = reachable_in_n_steps_scipy(E_np, n)\n",
    "    end = time.time()\n",
    "    times_scipy.append(end - start)\n",
    "\n",
    "    print(n, times_v2[-1], times_np[-1], times_numba[-1], times_scipy[-1])\n",
    "\n",
    "# plot logaritmic scale on y axis\n",
    "import matplotlib.pyplot as plt\n",
    "plt.figure(figsize=(10,10))\n",
    "plt.loglog(n_list, times_v2, label='v2')\n",
    "plt.loglog(n_list, times_np, label='np')\n",
    "plt.loglog(n_list, times_numba, label='numba')\n",
    "plt.loglog(n_list, times_scipy, label='scipy')\n",
    "plt.legend()"
   ]
  },
  {
   "attachments": {},
   "cell_type": "markdown",
   "metadata": {},
   "source": [
    "### Rostoucí pořet vrcholů"
   ]
  },
  {
   "cell_type": "code",
   "execution_count": null,
   "metadata": {},
   "outputs": [],
   "source": [
    "import time\n",
    "n = 200\n",
    "num_vert_list = [2**i for i in range(5, 14)]\n",
    "times_v2 = [] # reachable_in_n_steps_v2\n",
    "times_np = [] # reachable_in_n_steps_np\n",
    "times_numba = [] # reachable_in_n_steps_numba\n",
    "times_scipy = [] # reachable_in_n_steps_scipy\n",
    "\n",
    "for num_vert in num_vert_list:\n",
    "    V, E = vygeneruj_graf(num_vert)\n",
    "    E_np = np.array(E) \n",
    "\n",
    "    start = time.time()\n",
    "    res = reachable_in_n_steps_v2(E, n)\n",
    "    end = time.time()\n",
    "    times_v2.append(end - start)\n",
    "    \n",
    "    start = time.time()\n",
    "    res = reachable_in_n_steps_np(E_np, n)\n",
    "    end = time.time()\n",
    "    times_np.append(end - start)\n",
    "    \n",
    "    start = time.time()\n",
    "    res = reachable_in_n_steps_numba(E_np, n)\n",
    "    end = time.time()\n",
    "    times_numba.append(end - start)\n",
    "    \n",
    "    start = time.time()\n",
    "    res = reachable_in_n_steps_scipy(E_np, n)\n",
    "    end = time.time()\n",
    "    times_scipy.append(end - start)\n",
    "\n",
    "    print(num_vert, times_v2[-1], times_np[-1], times_numba[-1], times_scipy[-1])\n",
    "\n",
    "# plot logaritmic scale on y axis\n",
    "import matplotlib.pyplot as plt\n",
    "plt.figure(figsize=(10,10))\n",
    "plt.loglog(num_vert_list, times_v2, label='v2')\n",
    "plt.loglog(num_vert_list, times_np, label='np')\n",
    "plt.loglog(num_vert_list, times_numba, label='numba')\n",
    "plt.loglog(num_vert_list, times_scipy, label='scipy')\n",
    "plt.legend()"
   ]
  },
  {
   "cell_type": "code",
   "execution_count": null,
   "metadata": {},
   "outputs": [],
   "source": []
  }
 ],
 "metadata": {
  "kernelspec": {
   "display_name": "Python 3",
   "language": "python",
   "name": "python3"
  },
  "language_info": {
   "codemirror_mode": {
    "name": "ipython",
    "version": 3
   },
   "file_extension": ".py",
   "mimetype": "text/x-python",
   "name": "python",
   "nbconvert_exporter": "python",
   "pygments_lexer": "ipython3",
   "version": "3.10.10"
  },
  "orig_nbformat": 4
 },
 "nbformat": 4,
 "nbformat_minor": 2
}
