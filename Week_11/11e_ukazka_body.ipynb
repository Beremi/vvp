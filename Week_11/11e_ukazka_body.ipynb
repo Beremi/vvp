{
 "cells": [
  {
   "attachments": {},
   "cell_type": "markdown",
   "metadata": {},
   "source": [
    "# Modelová úloha - vzdálenosti mezi body v 3D\n",
    "Zadání: pro N bodů v 3 rozměrném prostoru spočítejte vzájemnou vzdálenost $d$, která je pro dva body $x,y$ definovaná jako $\\sqrt {\\sum_{i=1}^3 {{{\\left( {{x_i} - {y_i}} \\right)}^2}} } $. Výslekem je tedy (symetrická) matice $N\\times N$."
   ]
  },
  {
   "attachments": {},
   "cell_type": "markdown",
   "metadata": {},
   "source": [
    "### Vstupní data\n",
    "Začneme čistě v Pythonu, body reprezentujeme jako list touplů."
   ]
  },
  {
   "cell_type": "code",
   "execution_count": null,
   "metadata": {},
   "outputs": [],
   "source": [
    "# vygeneruje list bodů, tuplů (x, y, z)\n",
    "import random\n",
    "n = 200\n",
    "points = [(random.random(), random.random(), random.random()) for i in range(n)]"
   ]
  },
  {
   "cell_type": "code",
   "execution_count": null,
   "metadata": {},
   "outputs": [],
   "source": [
    "# vykreslí body\n",
    "import matplotlib.pyplot as plt\n",
    "from mpl_toolkits.mplot3d import Axes3D\n",
    "fig = plt.figure()\n",
    "ax = fig.add_subplot(111, projection='3d')\n",
    "ax.scatter([p[0] for p in points], [p[1] for p in points], [p[2] for p in points])\n",
    "plt.show()"
   ]
  },
  {
   "attachments": {},
   "cell_type": "markdown",
   "metadata": {},
   "source": [
    "### Prvnotní nástřel - vzdálenost mezi body"
   ]
  },
  {
   "cell_type": "code",
   "execution_count": null,
   "metadata": {},
   "outputs": [],
   "source": [
    "import math\n",
    "\n",
    "def dist_py1(points):\n",
    "    distances_all = []\n",
    "    for point_1 in points:\n",
    "        distances = []\n",
    "        for point_2 in points:\n",
    "            tmp_sum = 0\n",
    "            for k in range(3):\n",
    "                rozdil = point_1[k] - point_2[k]\n",
    "                tmp_sum += rozdil ** 2\n",
    "            tmp_dist = math.sqrt(tmp_sum)\n",
    "            distances.append(tmp_dist)\n",
    "        distances_all.append(distances)\n",
    "\n",
    "    return distances_all\n"
   ]
  },
  {
   "cell_type": "code",
   "execution_count": null,
   "metadata": {},
   "outputs": [],
   "source": [
    "%time res1 = dist_py1(points)"
   ]
  },
  {
   "cell_type": "code",
   "execution_count": null,
   "metadata": {},
   "outputs": [],
   "source": [
    "plt.imshow(res1)"
   ]
  },
  {
   "attachments": {},
   "cell_type": "markdown",
   "metadata": {},
   "source": [
    "### Profilování"
   ]
  },
  {
   "cell_type": "code",
   "execution_count": null,
   "metadata": {},
   "outputs": [],
   "source": [
    "%load_ext line_profiler"
   ]
  },
  {
   "cell_type": "code",
   "execution_count": null,
   "metadata": {},
   "outputs": [],
   "source": [
    "%lprun -u 1e-6 -f dist_py1 res1 = dist_py1(points)"
   ]
  },
  {
   "attachments": {},
   "cell_type": "markdown",
   "metadata": {},
   "source": [
    "## Optimalizace na úrovni algoritmu\n",
    "\n",
    "Často je možné získat větší rychlost bez nutnosti optimalizace na úrovni kódu, ale lepším algoritmem. Mezi standardní příklady patří třídící algoritmy, kde různé algoritmy mají různou složitost. \n",
    "\n",
    "V našem případě si můžeme všimnout, že výsledek je symetrický, tedy pro všechny body platí, že vzdálenost od bodu $A$ k bodu $B$ je stejná jako vzdálenost od bodu $B$ k bodu $A$, navíc na diagonále je vždy nula.\n",
    "\n",
    "Dále můžeme nahradit `x**2` za `x*x`, které bude pravděpodobně ryhlejší."
   ]
  },
  {
   "cell_type": "code",
   "execution_count": null,
   "metadata": {},
   "outputs": [],
   "source": [
    "def dist_py2(points):\n",
    "    # nejdříve vyrobíme prázdný 2d list\n",
    "    distances_all: list[list[float]] = [[0 for _ in range(len(points))] \n",
    "                                        for _ in range(len(points))]\n",
    "    for i in range(len(points)):\n",
    "        for j in range(i+1,len(points)): # vyplníme jen hodnoty nad diagonálou\n",
    "            tmp_sum = 0\n",
    "            for k in range(3):\n",
    "                rozdil = points[i][k] - points[j][k]\n",
    "                tmp_sum += rozdil * rozdil\n",
    "            tmp_dist = math.sqrt(tmp_sum)\n",
    "            distances_all[i][j] = tmp_dist\n",
    "            distances_all[j][i] = tmp_dist\n",
    "\n",
    "    return distances_all"
   ]
  },
  {
   "cell_type": "code",
   "execution_count": null,
   "metadata": {},
   "outputs": [],
   "source": [
    "%time res2 = dist_py2(points)"
   ]
  },
  {
   "cell_type": "code",
   "execution_count": null,
   "metadata": {},
   "outputs": [],
   "source": [
    "# pro srovnání\n",
    "%time res1 = dist_py1(points)"
   ]
  },
  {
   "attachments": {},
   "cell_type": "markdown",
   "metadata": {},
   "source": [
    "Raději zkontrolujeme, že počítáme stále to stejné:"
   ]
  },
  {
   "cell_type": "code",
   "execution_count": null,
   "metadata": {},
   "outputs": [],
   "source": [
    "# zkontrolujeme jestli res1 a res2 jsou stejné pomocí numpy allclose\n",
    "import numpy as np\n",
    "print(np.allclose(res1, res2))"
   ]
  },
  {
   "attachments": {},
   "cell_type": "markdown",
   "metadata": {},
   "source": [
    "Podíváme se na profilování nové verze:"
   ]
  },
  {
   "cell_type": "code",
   "execution_count": null,
   "metadata": {},
   "outputs": [],
   "source": [
    "%lprun -u 1e-6 -f dist_py2 res2 = dist_py2(points)"
   ]
  },
  {
   "cell_type": "code",
   "execution_count": null,
   "metadata": {},
   "outputs": [],
   "source": [
    "# pro srovnání\n",
    "%lprun -u 1e-6 -f dist_py1 res1 = dist_py1(points)"
   ]
  },
  {
   "attachments": {},
   "cell_type": "markdown",
   "metadata": {},
   "source": [
    "## Optimalizace pomocí vektorizace (NumPy)\n",
    "\n",
    "Nejprve přepíšeme funkci tak, aby pracovala s NumPy polemi:"
   ]
  },
  {
   "cell_type": "code",
   "execution_count": null,
   "metadata": {},
   "outputs": [],
   "source": [
    "import numpy as np\n",
    "import math\n",
    "def dist_np1(points):\n",
    "    n = points.shape[0]\n",
    "    distances_all = np.zeros((n, n))\n",
    "    for i in range(n):\n",
    "        for j in range(i+1, n):\n",
    "            tmp_sum = 0\n",
    "            for k in range(3):\n",
    "                rozdil = points[i, k] - points[j, k]\n",
    "                tmp_sum += rozdil*rozdil\n",
    "            tmp_dist = math.sqrt(tmp_sum)\n",
    "            distances_all[i, j] = tmp_dist\n",
    "            distances_all[j, i] = tmp_dist\n",
    "\n",
    "    return distances_all"
   ]
  },
  {
   "cell_type": "code",
   "execution_count": null,
   "metadata": {},
   "outputs": [],
   "source": [
    "points_np = np.array(points)"
   ]
  },
  {
   "cell_type": "code",
   "execution_count": null,
   "metadata": {},
   "outputs": [],
   "source": [
    "%time res3 = dist_np1(points_np)"
   ]
  },
  {
   "attachments": {},
   "cell_type": "markdown",
   "metadata": {},
   "source": [
    "Tohle vůbec nepomohlo, ba naopak!\n",
    "\n",
    "Důvodem je fakt, že `numpy` je rozhraní do implementace v nízkoúrovňovém jazyce C/Fortran, které se však zde volá stále dokola (v cyklech), a tedy nasbíráme obrovský overhead."
   ]
  },
  {
   "cell_type": "code",
   "execution_count": null,
   "metadata": {},
   "outputs": [],
   "source": [
    "# pro jistotu overíme, že výsledky jsou stejné\n",
    "print(np.allclose(res1, res3))"
   ]
  },
  {
   "attachments": {},
   "cell_type": "markdown",
   "metadata": {},
   "source": [
    "## Vektorizace - zbavme se vnitřních smyček\n",
    "\n",
    "- pokusíme se zbavit vnitřních cyklů"
   ]
  },
  {
   "cell_type": "code",
   "execution_count": null,
   "metadata": {},
   "outputs": [],
   "source": [
    "import numpy as np\n",
    "import math\n",
    "def dist_np2(points):\n",
    "    n = points.shape[0]\n",
    "    distances_all = np.zeros((n, n))\n",
    "    for i in range(n):\n",
    "        rozdily = points[i, :] - points[i+1: n, :]\n",
    "        tmp_sum = np.sum(rozdily * rozdily, axis=1)\n",
    "        tmp_dist = np.sqrt(tmp_sum)\n",
    "        distances_all[i, i+1: n] = tmp_dist\n",
    "        distances_all[i+1: n, i] = tmp_dist\n",
    "\n",
    "    return distances_all"
   ]
  },
  {
   "cell_type": "code",
   "execution_count": null,
   "metadata": {},
   "outputs": [],
   "source": [
    "%time res4 = dist_np2(points_np)"
   ]
  },
  {
   "attachments": {},
   "cell_type": "markdown",
   "metadata": {},
   "source": [
    "To už je je mnohem lepší! \n",
    "\n",
    "Raději zkontrolujeme, že počítáme stále to stejné:"
   ]
  },
  {
   "cell_type": "code",
   "execution_count": null,
   "metadata": {},
   "outputs": [],
   "source": [
    "# kontrola\n",
    "print(np.allclose(res1, res4))"
   ]
  },
  {
   "cell_type": "code",
   "execution_count": null,
   "metadata": {},
   "outputs": [],
   "source": [
    "# jak vypadá profilování?\n",
    "%lprun -u 1e-6 -f dist_np2 res4 = dist_np2(points_np)"
   ]
  },
  {
   "attachments": {},
   "cell_type": "markdown",
   "metadata": {},
   "source": [
    "## Úplná vektorizace na úkor redundance výpočtů\n",
    "\n",
    "Vrátíme se zpět k původnímu kódu ale zkusíme vektorizovat vše, tedy ať nepoužíváme žádné cykly."
   ]
  },
  {
   "cell_type": "code",
   "execution_count": null,
   "metadata": {},
   "outputs": [],
   "source": [
    "import numpy as np\n",
    "import math\n",
    "def dist_np3(points):\n",
    "    # Použijeme broadcasting a spočítáme všechny rozdíly najednou\n",
    "    diffs = points[:, None, :] - points # shape (n, n, 3)\n",
    "    \n",
    "    # spočteme druhou mocninu všech rozdílů a sečteme skrz poslední osu\n",
    "    tmp_sum = np.sum(diffs*diffs, axis=-1)\n",
    "\n",
    "    distances_all = np.sqrt(tmp_sum)\n",
    "    return distances_all"
   ]
  },
  {
   "cell_type": "code",
   "execution_count": null,
   "metadata": {},
   "outputs": [],
   "source": [
    "%time res5 = dist_np3(points_np)"
   ]
  },
  {
   "cell_type": "code",
   "execution_count": null,
   "metadata": {},
   "outputs": [],
   "source": [
    "# kontrola\n",
    "print(np.allclose(res1, res5))"
   ]
  },
  {
   "attachments": {},
   "cell_type": "markdown",
   "metadata": {},
   "source": [
    "Zdá se, že poslední redundantní verze je nejrychlejší!\n",
    "\n",
    "Teď je nařadě benchmarkování. Skutečně je to nejrychlejší vždy?"
   ]
  },
  {
   "cell_type": "code",
   "execution_count": null,
   "metadata": {},
   "outputs": [],
   "source": [
    "import time\n",
    "import matplotlib.pyplot as plt\n",
    "\n",
    "velikosti =[2**i for i in range(4, 12)]\n",
    "time_py1 = []\n",
    "time_py2 = []\n",
    "time_np2 = []\n",
    "time_np3 = []\n",
    "\n",
    "for n in velikosti:\n",
    "    points = [(random.random(), random.random(), random.random()) for i in range(n)]\n",
    "    points_np = np.array(points)\n",
    "    start = time.time()\n",
    "    res1 = dist_py1(points)\n",
    "    time_py1.append(time.time() - start)\n",
    "    start = time.time()\n",
    "    res2 = dist_py2(points)\n",
    "    time_py2.append(time.time() - start)\n",
    "    start = time.time()\n",
    "    res3 = dist_np2(points_np)\n",
    "    time_np2.append(time.time() - start)\n",
    "    start = time.time()\n",
    "    res4 = dist_np3(points_np)\n",
    "    time_np3.append(time.time() - start)\n",
    "\n",
    "    print(n, time_py1[-1], time_py2[-1], time_np2[-1], time_np3[-1])\n",
    "\n",
    "# log-log grafy\n",
    "plt.loglog(velikosti, time_py1, label=\"py1\")\n",
    "plt.loglog(velikosti, time_py2, label=\"py2\")\n",
    "plt.loglog(velikosti, time_np2, label=\"np2\")\n",
    "plt.loglog(velikosti, time_np3, label=\"np3\")\n",
    "plt.legend()"
   ]
  },
  {
   "attachments": {},
   "cell_type": "markdown",
   "metadata": {},
   "source": [
    "## Jak si povede Numba?"
   ]
  },
  {
   "attachments": {},
   "cell_type": "markdown",
   "metadata": {},
   "source": [
    "Nejlepší byl zatím kód `dist_np2`, zkusíme jej \"zakomplilovat\" pomocí Numby."
   ]
  },
  {
   "cell_type": "code",
   "execution_count": null,
   "metadata": {},
   "outputs": [],
   "source": [
    "from numba import jit\n",
    "dist_np2_numba = jit(dist_np2, nopython=True)"
   ]
  },
  {
   "cell_type": "code",
   "execution_count": null,
   "metadata": {},
   "outputs": [],
   "source": [
    "# srovnání dist_np2 a dist_np2_numba\n",
    "points_np = np.random.rand(1000, 3)\n",
    "res1 = dist_np2(points_np)\n",
    "res2 = dist_np2_numba(points_np)\n",
    "print(np.allclose(res1, res2))"
   ]
  },
  {
   "attachments": {},
   "cell_type": "markdown",
   "metadata": {},
   "source": [
    "Při testování se kód zároveň kompiluje což je třeba mít na mysli při měření času."
   ]
  },
  {
   "cell_type": "code",
   "execution_count": null,
   "metadata": {},
   "outputs": [],
   "source": [
    "%timeit res1 = dist_np2(points_np)"
   ]
  },
  {
   "cell_type": "code",
   "execution_count": null,
   "metadata": {},
   "outputs": [],
   "source": [
    "%timeit res2 = dist_np2_numba(points_np)"
   ]
  },
  {
   "attachments": {},
   "cell_type": "markdown",
   "metadata": {},
   "source": [
    "Zkusíme ještě původní verzi se smyčkami `dist_np1`:"
   ]
  },
  {
   "cell_type": "code",
   "execution_count": null,
   "metadata": {},
   "outputs": [],
   "source": [
    "dist_np1_numba = jit(dist_np1, nopython=True)"
   ]
  },
  {
   "cell_type": "code",
   "execution_count": null,
   "metadata": {},
   "outputs": [],
   "source": [
    "res1 = dist_np2(points_np)\n",
    "res2 = dist_np1_numba(points_np)\n",
    "print(np.allclose(res1, res2))"
   ]
  },
  {
   "cell_type": "code",
   "execution_count": null,
   "metadata": {},
   "outputs": [],
   "source": [
    "%timeit res2 = dist_np1_numba(points_np)"
   ]
  },
  {
   "attachments": {},
   "cell_type": "markdown",
   "metadata": {},
   "source": [
    "Obojí výrazně zrychlilo běh, a kupodivu `dist_np1_numba` je ještě rychlejší než `dist_np2_numba`!\n",
    "\n",
    "Toto je důsledek toho, že Numba si sama překládá kód do C a optimalizuje. Užití vektorizace jí vnucuje jeden konktrétní způsob, který nemusí být vždy nejlepší (jako je to zde).\n",
    "\n",
    "Přidáme ji do benchmarku:"
   ]
  },
  {
   "cell_type": "code",
   "execution_count": null,
   "metadata": {},
   "outputs": [],
   "source": [
    "import time\n",
    "import matplotlib.pyplot as plt\n",
    "\n",
    "velikosti =[2**i for i in range(6, 14)]\n",
    "time_np2 = []\n",
    "time_np1_numba = []\n",
    "time_np2_numba = []\n",
    "\n",
    "for n in velikosti:\n",
    "    points = [(random.random(), random.random(), random.random()) for i in range(n)]\n",
    "    points_np = np.array(points)\n",
    "    start = time.time()\n",
    "    _ = dist_np2(points_np)\n",
    "    time_np2.append(time.time() - start)\n",
    "    start = time.time()\n",
    "    _ = dist_np1_numba(points_np)\n",
    "    time_np1_numba.append(time.time() - start)\n",
    "    start = time.time()\n",
    "    _ = dist_np2_numba(points_np)\n",
    "    time_np2_numba.append(time.time() - start)\n",
    "\n",
    "    print(n, time_np2[-1], time_np1_numba[-1], time_np2_numba[-1])\n",
    "\n",
    "# log-log grafy\n",
    "plt.loglog(velikosti, time_np2, label=\"np2\")\n",
    "plt.loglog(velikosti, time_np1_numba, label=\"np1_numba\")\n",
    "plt.loglog(velikosti, time_np2_numba, label=\"np2_numba\")\n",
    "plt.legend()"
   ]
  },
  {
   "attachments": {},
   "cell_type": "markdown",
   "metadata": {},
   "source": [
    "## A co Cython?"
   ]
  },
  {
   "cell_type": "code",
   "execution_count": null,
   "metadata": {},
   "outputs": [],
   "source": [
    "%load_ext Cython"
   ]
  },
  {
   "cell_type": "code",
   "execution_count": null,
   "metadata": {},
   "outputs": [],
   "source": [
    "%%cython --compile-args=-O3\n",
    "\n",
    "import numpy as np\n",
    "cimport numpy as np\n",
    "from libc.math cimport sqrt\n",
    "cimport cython\n",
    "\n",
    "ctypedef np.float64_t DTYPE_t\n",
    "\n",
    "@cython.boundscheck(False)\n",
    "@cython.wraparound(False)\n",
    "def dist_cython(np.ndarray[DTYPE_t, ndim=2] points):\n",
    "    cdef int n = points.shape[0]\n",
    "    cdef np.ndarray[DTYPE_t, ndim=2] distances_all = np.zeros((n, n), dtype=np.float64)\n",
    "    cdef int i, j, k\n",
    "    cdef double tmp_sum, rozdil, tmp_dist\n",
    "\n",
    "    for i in range(n):\n",
    "        for j in range(i+1, n):\n",
    "            tmp_sum = 0\n",
    "            for k in range(3):\n",
    "                rozdil = points[i, k] - points[j, k]\n",
    "                tmp_sum += rozdil * rozdil\n",
    "            tmp_dist = sqrt(tmp_sum)\n",
    "            distances_all[i, j] = tmp_dist\n",
    "            distances_all[j, i] = tmp_dist\n",
    "\n",
    "    return distances_all\n"
   ]
  },
  {
   "cell_type": "code",
   "execution_count": null,
   "metadata": {},
   "outputs": [],
   "source": [
    "# vyzkoušíme si, jestli to funguje\n",
    "points_np = np.random.rand(1000, 3)\n",
    "res5 = dist_np2(points_np)\n",
    "res6 = dist_cython(points_np)\n",
    "np.allclose(res5, res6)"
   ]
  },
  {
   "cell_type": "code",
   "execution_count": null,
   "metadata": {},
   "outputs": [],
   "source": [
    "# časové měření\n",
    "%timeit res6 = dist_cython(points_np)"
   ]
  },
  {
   "cell_type": "code",
   "execution_count": null,
   "metadata": {},
   "outputs": [],
   "source": [
    "# porovnání s numba\n",
    "%timeit res5 = dist_np1_numba(points_np)"
   ]
  },
  {
   "attachments": {},
   "cell_type": "markdown",
   "metadata": {},
   "source": [
    "## Porovnání nejlepších variant"
   ]
  },
  {
   "cell_type": "code",
   "execution_count": null,
   "metadata": {},
   "outputs": [],
   "source": [
    "import time\n",
    "import matplotlib.pyplot as plt\n",
    "\n",
    "velikosti =[2**i for i in range(6, 14)]\n",
    "time_np2 = []\n",
    "time_np1_numba = []\n",
    "time_cython = []\n",
    "\n",
    "for n in velikosti:\n",
    "    points_np = np.random.rand(n, 3)\n",
    "    start = time.time()\n",
    "    _ = dist_np2(points_np)\n",
    "    time_np2.append(time.time() - start)\n",
    "    start = time.time()\n",
    "    _ = dist_np1_numba(points_np)\n",
    "    time_np1_numba.append(time.time() - start)\n",
    "    start = time.time()\n",
    "    _ = dist_cython(points_np)\n",
    "    time_cython.append(time.time() - start)\n",
    "\n",
    "    print(n, time_np2[-1], time_np1_numba[-1], time_cython[-1])\n",
    "\n",
    "# log-log grafy\n",
    "plt.loglog(velikosti, time_np2, label=\"np2\")\n",
    "plt.loglog(velikosti, time_np1_numba, label=\"np1_numba\")\n",
    "plt.loglog(velikosti, time_cython, label=\"cython\")\n",
    "plt.legend()"
   ]
  }
 ],
 "metadata": {
  "kernelspec": {
   "display_name": "Python 3",
   "language": "python",
   "name": "python3"
  },
  "language_info": {
   "codemirror_mode": {
    "name": "ipython",
    "version": 3
   },
   "file_extension": ".py",
   "mimetype": "text/x-python",
   "name": "python",
   "nbconvert_exporter": "python",
   "pygments_lexer": "ipython3",
   "version": "3.12.3"
  },
  "orig_nbformat": 4
 },
 "nbformat": 4,
 "nbformat_minor": 2
}
