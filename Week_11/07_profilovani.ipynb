{
 "cells": [
  {
   "attachments": {},
   "cell_type": "markdown",
   "metadata": {},
   "source": [
    "# Optimalizace vs benchmarking\n",
    "Na začátek je dobré projít čeho vlastně chceme dosáhnout.\n",
    "\n",
    "Jednoduše: rychlosti\n",
    "\n",
    "Optimalizace pomocí profilování nám umožní rozebrat současný kód, zjistit kde jsou slabiny (místa která zabírají nejvíce času) a tyto části optimalizovat=zrychlit.\n",
    "\n",
    "Jedním trendem, na který při implementaci algoritmů narazíte poměrně často je, že většinou existuje více různých postupů jak něco naimplementovat. A často jsou všechny užitečné, neboť pro různá data/velikosti úloh se hodí různé přístupy. Toto pro nás rozhodne benchmarkování."
   ]
  },
  {
   "attachments": {},
   "cell_type": "markdown",
   "metadata": {},
   "source": [
    "## Obecně k Profilování\n",
    "\n",
    "Pro python existuje obrovské množství profilovacích nástrojů. A mnoho z nich je stále také v aktivním vývoji. To proto, že je mnoho funkcionalit, které je třeba profilovat:\n",
    "- rychlost (časová náročnost)\n",
    "- množství použité paměti\n",
    "- paměťová propustnost = množství kopírovaných dat\n",
    "- GPU profilování (celá další sada parametrů, zde se tímto nebudeme zabývat)\n",
    "\n",
    "\n",
    "Profilery navíc přinášejí zpomalení samotného běhu kódu a tím i automatické zkreslení výsledků. Toto zpomalení může být od 1.x krát přes 2x - 5x až po 100x v některých případech."
   ]
  },
  {
   "attachments": {},
   "cell_type": "markdown",
   "metadata": {},
   "source": [
    "## Základní profilování: Cprofile\n",
    "jedná se o základní vestavěný profilovací nástroj. Počítá jednotlvá **volání** funkcí a jejich trvání."
   ]
  },
  {
   "cell_type": "code",
   "execution_count": null,
   "metadata": {},
   "outputs": [],
   "source": [
    "def heavy_calc(X):\n",
    "    Y = X.copy()\n",
    "    for i in range(10):\n",
    "        Y = Y**i\n",
    "    return Y\n",
    "\n",
    "def heavy_loop(inputs):\n",
    "    res = []\n",
    "    for X in inputs:\n",
    "        res.append(heavy_calc(X))\n",
    "    return res\n",
    "\n",
    "def code_setup():\n",
    "    from numpy.random import rand\n",
    "    N = 20\n",
    "    M = 1000\n",
    "    print(\"Will generate {} random arrays\".format(N))\n",
    "    inputs = [rand(M, M) for n in range(N)]\n",
    "    print(\"Will calculate now\")\n",
    "    result = heavy_loop(inputs)\n",
    "    print(\"Finished calculation\")"
   ]
  },
  {
   "cell_type": "code",
   "execution_count": null,
   "metadata": {},
   "outputs": [],
   "source": [
    "import cProfile\n",
    "cProfile.run('code_setup()', 'pstats')"
   ]
  },
  {
   "cell_type": "code",
   "execution_count": null,
   "metadata": {},
   "outputs": [],
   "source": [
    "from pstats import Stats\n",
    "p = Stats('pstats')\n",
    "p.print_stats()"
   ]
  },
  {
   "attachments": {},
   "cell_type": "markdown",
   "metadata": {},
   "source": [
    "No v tomhle se asi nevyznám.\n",
    "\n",
    "Zkusme si to seřadit podle celkového času běhu `cumulative` odstraňme všechny cesty. Dále můžeme vypsat pouze prvních n (např. zde 10) nejvíce časově náročných funkcí."
   ]
  },
  {
   "cell_type": "code",
   "execution_count": null,
   "metadata": {},
   "outputs": [],
   "source": [
    "p.strip_dirs().sort_stats('cumulative').print_stats(10)"
   ]
  },
  {
   "attachments": {},
   "cell_type": "markdown",
   "metadata": {},
   "source": [
    "Všechno lze v jupyteru udělat pěkně pomocí magic příkazu:\n"
   ]
  },
  {
   "cell_type": "code",
   "execution_count": null,
   "metadata": {},
   "outputs": [],
   "source": [
    "%prun -s cumulative -l 10 code_setup()"
   ]
  },
  {
   "attachments": {},
   "cell_type": "markdown",
   "metadata": {},
   "source": [
    "## Řádkové profilování: Line_profiler\n",
    "V minulém příkladu jsme viděli, že základní profiler časuje pouze celé funkce. Co když chceme zjistit, které řádky kódu jsou nejvíce časově náročné?\n",
    "\n",
    "Toto mnoho profilerů umožňuje, například `line_profiler`."
   ]
  },
  {
   "cell_type": "code",
   "execution_count": null,
   "metadata": {},
   "outputs": [],
   "source": [
    "# jedná se o knihovnu, je třeba ji nainstalovat\n",
    "#!pip install line_profiler"
   ]
  },
  {
   "attachments": {},
   "cell_type": "markdown",
   "metadata": {},
   "source": [
    "Line profiler se dá spouštět z příkazového řádku pro celý file, ale to kdyžtak nechám zájemcům.\n",
    "\n",
    "My si zde ukážeme jeho použití v Jupyteru pomocí magic příkazu."
   ]
  },
  {
   "cell_type": "code",
   "execution_count": null,
   "metadata": {},
   "outputs": [],
   "source": [
    "# je třeba jej naimportovat\n",
    "%load_ext line_profiler"
   ]
  },
  {
   "attachments": {},
   "cell_type": "markdown",
   "metadata": {},
   "source": [
    "Spouští se příkazem `%lprun -f funkce_k_profilovani funkce_k_profilovani(parametry)`\n",
    "- parametr `-f` určuje funkci, kterou chceme profilovat (může jich být více)\n",
    "- parametr `-u` určuje jednotku času ve výstupu"
   ]
  },
  {
   "cell_type": "code",
   "execution_count": null,
   "metadata": {},
   "outputs": [],
   "source": [
    "%lprun -u 1e-6 -f code_setup -f heavy_loop -f heavy_calc code_setup()"
   ]
  },
  {
   "attachments": {},
   "cell_type": "markdown",
   "metadata": {},
   "source": [
    "## Moderní, rychlý all-in-one profiler: Scalene\n",
    "Scalene oproti předchozím umožňuje profilovat jak řádky tak funkce a navíc přidává i profilování paměti. (A GPU pokud používáme)"
   ]
  },
  {
   "attachments": {},
   "cell_type": "markdown",
   "metadata": {},
   "source": [
    "Vyžaduje instalaci pomocí `pip install scalene`\n",
    "\n",
    "Spouští se příkazem `scalene script.py`"
   ]
  },
  {
   "cell_type": "code",
   "execution_count": null,
   "metadata": {},
   "outputs": [],
   "source": [
    "%%writefile code_profile_test.py\n",
    "def heavy_calc(X):\n",
    "    Y = X.copy()\n",
    "    for i in range(10):\n",
    "        Y = Y**i\n",
    "    return Y\n",
    "\n",
    "def heavy_loop(inputs):\n",
    "    res = []\n",
    "    for X in inputs:\n",
    "        res.append(heavy_calc(X))\n",
    "    return res\n",
    "\n",
    "def code_setup():\n",
    "    from numpy.random import rand\n",
    "    N = 20\n",
    "    M = 1000\n",
    "    print(\"Will generate {} random arrays\".format(N))\n",
    "    inputs = [rand(M, M) for n in range(N)]\n",
    "    print(\"Will calculate now\")\n",
    "    result = heavy_loop(inputs)\n",
    "    print(\"Finished calculation\")\n",
    "\n",
    "code_setup()"
   ]
  },
  {
   "cell_type": "code",
   "execution_count": null,
   "metadata": {},
   "outputs": [],
   "source": [
    "!scalene code_profile_test.py"
   ]
  },
  {
   "cell_type": "code",
   "execution_count": null,
   "metadata": {},
   "outputs": [],
   "source": []
  }
 ],
 "metadata": {
  "kernelspec": {
   "display_name": "Python 3",
   "language": "python",
   "name": "python3"
  },
  "language_info": {
   "codemirror_mode": {
    "name": "ipython",
    "version": 3
   },
   "file_extension": ".py",
   "mimetype": "text/x-python",
   "name": "python",
   "nbconvert_exporter": "python",
   "pygments_lexer": "ipython3",
   "version": "3.10.10"
  },
  "orig_nbformat": 4
 },
 "nbformat": 4,
 "nbformat_minor": 2
}
