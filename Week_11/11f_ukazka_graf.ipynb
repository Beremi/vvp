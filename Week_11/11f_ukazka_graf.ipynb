{
 "cells": [
  {
   "attachments": {},
   "cell_type": "markdown",
   "metadata": {},
   "source": [
    "# Modelová úloha - hledání kam se dostaneme v grafu pokud můžeme-li ujít z vrcholu `0` maximálně `n` kroků\n",
    "- Budeme uvažovat graf jako množinu vrcholů a hran. \n",
    "    - Vrcholy jsou čísla od `0` do `n-1`\n",
    "    - Hrany jsou dvojice `(u, v)` takové, že `u` a `v` jsou vrcholy grafu\n",
    "- Ujít z vrcholu `0` jeden krok znamená přejít do nějakého vrcholu, který je s `0` spojen hranou"
   ]
  },
  {
   "attachments": {},
   "cell_type": "markdown",
   "metadata": {},
   "source": [
    "### Vstupní data - list dvojic vrcholů = hrany\n",
    "- vygenerujeme primitivní graf, který bude mít `n` vrcholů a `m` hran\n",
    "    - pro každou hranu `(u, v)` vygenerujeme náhodně vybereme, zda v grafu bude nebo nebude\n",
    "    - pravděpodobnost volíme tak, aby každý vrchol měl průměrně `d` hran"
   ]
  },
  {
   "cell_type": "code",
   "execution_count": null,
   "metadata": {},
   "outputs": [],
   "source": [
    "import random\n",
    "n = 10\n",
    "\n",
    "def vygeneruj_graf(n, d = 3):\n",
    "    V = [i for i in range(n)]\n",
    "    prob = d / n\n",
    "    E = []\n",
    "    for v_i in range(n):\n",
    "        for v_j in range(v_i + 1, n):\n",
    "            if random.random() < prob:\n",
    "                E.append((v_i, v_j))\n",
    "    return V, E\n",
    "\n",
    "V, E = vygeneruj_graf(n)"
   ]
  },
  {
   "cell_type": "code",
   "execution_count": null,
   "metadata": {},
   "outputs": [],
   "source": [
    "print(V)\n",
    "print(E)"
   ]
  },
  {
   "attachments": {},
   "cell_type": "markdown",
   "metadata": {},
   "source": [
    "### Ochutnávka knihovny networkx = vykreslení grafu"
   ]
  },
  {
   "cell_type": "code",
   "execution_count": null,
   "metadata": {},
   "outputs": [],
   "source": [
    "# !pip install networkx"
   ]
  },
  {
   "cell_type": "code",
   "execution_count": null,
   "metadata": {},
   "outputs": [],
   "source": [
    "# plot graph with vertices V and edges E\n",
    "# showing vertices with numbers and connections as lines\n",
    "import matplotlib.pyplot as plt\n",
    "import networkx as nx\n",
    "\n",
    "G = nx.Graph()\n",
    "G.add_nodes_from(V)\n",
    "G.add_edges_from(E)\n",
    "pos = nx.spring_layout(G)\n",
    "nx.draw_networkx_nodes(G, pos)\n",
    "nx.draw_networkx_edges(G, pos)\n",
    "nx.draw_networkx_labels(G, pos)\n",
    "plt.show()\n"
   ]
  },
  {
   "cell_type": "markdown",
   "metadata": {},
   "source": [
    "### A pomocí GraphViz\n",
    "Pěknější vizualizace grafu\n",
    "\n",
    "- je třeba mít naistalovaný GraphViz `sudo apt-get install graphviz`\n",
    "- bindingy do Pythonu `pip install graphviz`"
   ]
  },
  {
   "cell_type": "code",
   "execution_count": null,
   "metadata": {},
   "outputs": [],
   "source": [
    "import graphviz\n",
    "\n",
    "# Create a new graph\n",
    "graph = graphviz.Graph()\n",
    "\n",
    "# Add vertices to the graph\n",
    "_ = [graph.node(str(vertex)) for vertex in V]\n",
    "\n",
    "# Add edges to the graph\n",
    "_ = [graph.edge(str(edge[0]), str(edge[1])) for edge in E]\n",
    "\n",
    "# Render and display the graph\n",
    "graph"
   ]
  },
  {
   "attachments": {},
   "cell_type": "markdown",
   "metadata": {},
   "source": [
    "## První návrh - jednoduchý Python, použití setů, listů a union\n",
    "- Vytvoříme si množinu vrcholů, které už jsou dostupné\n",
    "- V každém kroku zjistíme, které vrcholy můžeme dosáhnout z vrcholů, které už máme\n",
    "    - tak, že projdeme všechny hrany ve kterých se vyskytuje alespoň jeden vrchol, který už máme\n",
    "    - a druhý vrchol v dané hraně přidáme do množiny vrcholů, které už máme"
   ]
  },
  {
   "cell_type": "code",
   "execution_count": null,
   "metadata": {},
   "outputs": [],
   "source": [
    "def reachable_in_n_steps(edges, n):\n",
    "    reachable = set()\n",
    "    reachable.add(0)\n",
    "    for i in range(n):\n",
    "        new_reachable = set()\n",
    "        for v in reachable:\n",
    "            for e in edges:\n",
    "                if e[0] == v:\n",
    "                    new_reachable.add(e[1])\n",
    "                if e[1] == v:\n",
    "                    new_reachable.add(e[0])\n",
    "        reachable = reachable.union(new_reachable)\n",
    "    return list(reachable)"
   ]
  },
  {
   "cell_type": "code",
   "execution_count": null,
   "metadata": {},
   "outputs": [],
   "source": [
    "reachable_in_n_steps(E, 2)"
   ]
  },
  {
   "attachments": {},
   "cell_type": "markdown",
   "metadata": {},
   "source": [
    "## Vygenerujeme větší graf"
   ]
  },
  {
   "cell_type": "code",
   "execution_count": null,
   "metadata": {},
   "outputs": [],
   "source": [
    "V, E = vygeneruj_graf(2000)"
   ]
  },
  {
   "attachments": {},
   "cell_type": "markdown",
   "metadata": {},
   "source": [
    "Jak dlouho to asi potrvá?"
   ]
  },
  {
   "cell_type": "code",
   "execution_count": null,
   "metadata": {},
   "outputs": [],
   "source": [
    "%time _ = reachable_in_n_steps(E, 20)"
   ]
  },
  {
   "cell_type": "code",
   "execution_count": null,
   "metadata": {},
   "outputs": [],
   "source": [
    "res1 = reachable_in_n_steps(E, 20)"
   ]
  },
  {
   "attachments": {},
   "cell_type": "markdown",
   "metadata": {},
   "source": [
    "## Profilování"
   ]
  },
  {
   "cell_type": "code",
   "execution_count": null,
   "metadata": {},
   "outputs": [],
   "source": [
    "%load_ext line_profiler"
   ]
  },
  {
   "cell_type": "code",
   "execution_count": null,
   "metadata": {},
   "outputs": [],
   "source": [
    "%lprun -f reachable_in_n_steps reachable_in_n_steps(E, 20)"
   ]
  },
  {
   "attachments": {},
   "cell_type": "markdown",
   "metadata": {},
   "source": [
    "**Edge procházíme desítky miliónů krát... tohle ani rychlé být nemůže. Jak to můžeme zrychlit?**\n"
   ]
  },
  {
   "attachments": {},
   "cell_type": "markdown",
   "metadata": {},
   "source": [
    "## Optimalizace algoritmu\n",
    "\n",
    "- Kolik krát vlastně musíme projít záznam s jednou hranou?\n",
    "- Musíme kontrolovat znova sousedy vrcholu, který jsme už jednou kontrolovali?\n",
    "- Pokud víme, že už jsou dostupné všechny vrcholy, jak je náročný výše uvedený algoritmus?\n",
    "- V současné implementaci kontrolujeme pro každý vrchol, všechny hrany. Nebude jednodušší pro každou hranu zjistit, zda je některý z jejích vrcholů v množině vrcholů, které jsou dostupné?\n",
    "\n",
    "Máme-li odpovězené tyto otázky, můžeme se pustit do lepšího algoritmu."
   ]
  },
  {
   "cell_type": "markdown",
   "metadata": {},
   "source": [
    "**Změny v novém návrhu algoritmu:**\n",
    "- Budeme spravovat seznam nezpracovaných hran\n",
    "    - pokud nějakou hranu projdeme, tak ji z tohoto seznamu odstraníme\n",
    "- Budeme procházet jen ty vrcholy které jsme v minulém kroce přidali (a zároveň ještě nebyly zpracovány)\n",
    "    - Pokud je takovýto seznam prázdný, tak už nemáme co zpracovávat a můžeme skončit.\n",
    "\n",
    "**!!!Na začátku funkce budeme muset vyrobit kopii seznamu hran!!!**\n",
    "- protože vstupní seznam budeme postupně mazat"
   ]
  },
  {
   "cell_type": "code",
   "execution_count": null,
   "metadata": {},
   "outputs": [],
   "source": [
    "def reachable_in_n_steps_v2(edges_in: list, n: int):\n",
    "    edges = edges_in.copy()  # kopie hran, abychom je mohli mazat\n",
    "    reachable = set()\n",
    "    reachable.add(0)  # začítáme ve vrcholu 0\n",
    "    newly_reachable = reachable.copy()  # vrcholy, které jsme právě přidali\n",
    "\n",
    "    for _ in range(n):  # počet kroků\n",
    "        next_reachable = set()  # vrcholy, které budou dosažitelné z newly_reachable\n",
    "\n",
    "        for e_idx, e in list(enumerate(edges))[::-1]:  # procházíme pozpátku pro snadnější mazání\n",
    "            for v in newly_reachable:  # je některý z konců hrany dosažitelný?\n",
    "                if e[0] == v:\n",
    "                    next_reachable.add(e[1])\n",
    "                    edges.pop(e_idx)\n",
    "                    break  # pokud jsme našli hranu, nemusíme hledat dál\n",
    "                if e[1] == v:\n",
    "                    next_reachable.add(e[0])\n",
    "                    edges.pop(e_idx)\n",
    "                    break  # pokud jsme našli hranu, nemusíme hledat dál\n",
    "        \n",
    "        newly_reachable = next_reachable.difference(reachable)  # pouze nově přidané vrcholy\n",
    "        reachable = reachable.union(next_reachable)  # přidáme nově dosažitelné vrcholy\n",
    "        if not newly_reachable:\n",
    "            break\n",
    "        \n",
    "    return list(reachable)"
   ]
  },
  {
   "cell_type": "code",
   "execution_count": null,
   "metadata": {},
   "outputs": [],
   "source": [
    "%time res2 = reachable_in_n_steps_v2(E, 20)"
   ]
  },
  {
   "attachments": {},
   "cell_type": "markdown",
   "metadata": {},
   "source": [
    "Tohle už je aspoň nějaké zrychlení.\n",
    "\n",
    "Raději ověříme, že počítáme stále to samé:"
   ]
  },
  {
   "cell_type": "code",
   "execution_count": null,
   "metadata": {},
   "outputs": [],
   "source": [
    "import numpy as np\n",
    "res2 = reachable_in_n_steps_v2(E, 20)\n",
    "np.allclose(np.array(res1), np.array(res2))"
   ]
  },
  {
   "cell_type": "code",
   "execution_count": null,
   "metadata": {},
   "outputs": [],
   "source": [
    "%lprun -f reachable_in_n_steps_v2 reachable_in_n_steps_v2(E, 5)"
   ]
  },
  {
   "cell_type": "markdown",
   "metadata": {},
   "source": [
    "## Další algoritmická optimalizace: reprezentace grafu\n",
    "- Co takhle reprezentovat hrany jako seznamy sousedů?\n",
    "    - pro každý vrchol si budeme pamatovat seznam vrcholů, do kterých můžeme přejít\n",
    "- Pak nemusíme dělat smyčku přes všechny hrany a vyhledávat, ale pouze přidáme do seznamu vrcholů seznam sousedů."
   ]
  },
  {
   "cell_type": "code",
   "execution_count": null,
   "metadata": {},
   "outputs": [],
   "source": [
    "def reachable_in_n_steps_v3(edges_in: list, n: int):\n",
    "    n_vertices = max([max(e) for e in edges_in]) + 1  # počet vrcholů\n",
    "    edges = [[] for _ in range(n_vertices)]  # seznam (zatím prázdný) sousedů pro každý vrchol\n",
    "\n",
    "    for e in edges_in:  # pro každou hranu přidáme oboum vrcholům druhého souseda\n",
    "        edges[e[0]].append(e[1])\n",
    "        edges[e[1]].append(e[0])\n",
    "\n",
    "    reachable = set()\n",
    "    reachable.add(0)  # začítáme ve vrcholu 0\n",
    "    newly_reachable = reachable.copy()  # vrcholy, které jsme právě přidali\n",
    "\n",
    "    for _ in range(n):  # počet kroků\n",
    "        next_reachable = set()  # vrcholy, které budou dosažitelné z newly_reachable\n",
    "        for v in newly_reachable:\n",
    "            [next_reachable.add(soused) for soused in edges[v]]  # přidáme sousedy\n",
    "\n",
    "        newly_reachable = next_reachable.difference(reachable)  # pouze nově přidané vrcholy\n",
    "        reachable = reachable.union(next_reachable)  # přidáme nově dosažitelné vrcholy\n",
    "        if not newly_reachable:\n",
    "            break\n",
    "\n",
    "    return list(reachable)"
   ]
  },
  {
   "cell_type": "code",
   "execution_count": null,
   "metadata": {},
   "outputs": [],
   "source": [
    "%timeit res2 = reachable_in_n_steps_v3(E, 20)"
   ]
  },
  {
   "cell_type": "markdown",
   "metadata": {},
   "source": [
    "To je ještě o řád rychlejší. \n",
    "\n",
    "Zkontrolujeme, že děláme stále to samé."
   ]
  },
  {
   "cell_type": "code",
   "execution_count": null,
   "metadata": {},
   "outputs": [],
   "source": [
    "res2 = reachable_in_n_steps_v3(E, 20)\n",
    "np.allclose(np.array(res1), np.array(res2))"
   ]
  },
  {
   "cell_type": "code",
   "execution_count": null,
   "metadata": {},
   "outputs": [],
   "source": [
    "%lprun -f reachable_in_n_steps_v3 reachable_in_n_steps_v3(E, 20)"
   ]
  },
  {
   "attachments": {},
   "cell_type": "markdown",
   "metadata": {},
   "source": [
    "## Implementační optimalizace - použití NumPy a pole bool hodnot místo setů\n",
    "- práce s listy a sety je pomalá\n",
    "- zkusíme místo přidávání a odstraňování prvků do setů a seznamů použít pole bool hodnot\n",
    "- Je třeba rozmyslet jak rozumně uložit seznam sousedů\n",
    "    - vzpomeňme si na CSR (nebo CSC) formát pro uložení řídkých matic\n",
    "        - jedno pole `edges_sousede` o délce `počtu hran` udávalo indexy sousedů\n",
    "        - druhé pole `edges_index_sousedu` o délce `počtu vrcholů + 1` udávalo které indexy v prvním poli patří ke kterému vrcholu\n",
    "    - toto můžeme vyrobit i ručně v Numpy bez nutnosti SciPy.sparse a to tak, že si:\n",
    "        - nasčítáme počet odchozích hran z každého vrcholu a sesumujeme - vytvoříme `edges_index_sousedu`\n",
    "            - pro pohodlnost pozdějšího indexování si uděláme pole o délce `počet vrcholů + 1` a na indexu `0` bude 0\n",
    "            - pak provedeme kulmulaivní sumu\n",
    "        - vytvoříme pole `edges_sousede` o délce `počet hran x 2` a do něj na správné indexy vložíme vrcholy sousedů\n",
    "            - pomocí kopie pole `edges_index_sousedu` postupně zapíšeme pro každou hranu indexy vrcholů souseda, pomocí inkrementace v `edges_index_sousedu` si držíme aktuální polohu v poli `edges_sousede`"
   ]
  },
  {
   "attachments": {},
   "cell_type": "markdown",
   "metadata": {},
   "source": [
    "Budeme chtít také vstup jako Numpy:"
   ]
  },
  {
   "cell_type": "code",
   "execution_count": null,
   "metadata": {},
   "outputs": [],
   "source": [
    "E_np = np.array(E)\n",
    "E_np.shape"
   ]
  },
  {
   "cell_type": "code",
   "execution_count": null,
   "metadata": {},
   "outputs": [],
   "source": [
    "def reachable_in_n_steps_np(edges_in, n):\n",
    "    n_vertices = np.max(edges_in) + 1  # počet vrcholů\n",
    "\n",
    "    # počet odchozích hran (kumulativně) pro každý vrchol (první záznam fixně 0)\n",
    "    edges_index_sousedu = np.zeros(n_vertices + 1, dtype=np.int32)  \n",
    "    # neprve nasčítáme počty hran\n",
    "    for i in range(edges_in.shape[0]):\n",
    "        edges_index_sousedu[edges_in[i, 0] + 1] += 1\n",
    "        edges_index_sousedu[edges_in[i, 1] + 1] += 1\n",
    "    # pak provedeme kumulativní součet\n",
    "    for i in range(1, n_vertices + 1):\n",
    "        edges_index_sousedu[i] += edges_index_sousedu[i - 1]\n",
    "\n",
    "    # indexy sousedních vrcholů pro každý vrchol (tvar dle CSR/CSC formátu)\n",
    "    edges_sousede = np.zeros(edges_in.size, dtype=np.int32)\n",
    "    edges_tmp_index = edges_index_sousedu.copy() # kopie pro držení indexů k zápisu\n",
    "    for i in range(edges_in.shape[0]):  # pro všechny hrany zapiš vrcholy souseda\n",
    "        edges_sousede[edges_tmp_index[ edges_in[i, 0]]] = edges_in[i, 1]\n",
    "        edges_tmp_index[ edges_in[i, 0]] += 1\n",
    "        edges_sousede[edges_tmp_index[edges_in[i, 1]]] =  edges_in[i, 0]\n",
    "        edges_tmp_index[edges_in[i, 1]] += 1\n",
    "\n",
    "    reachable = np.zeros(n_vertices, dtype=np.bool_)  # maska dosažitelných vrcholů\n",
    "    reachable[0] = True  # začínáme ve vrcholu 0\n",
    "    newly_reachable = reachable.copy()  # vrcholy, které jsme právě přidali\n",
    "\n",
    "    for _ in range(n):\n",
    "        next_reachable = np.zeros(n_vertices, dtype=np.bool_)\n",
    "        for v in np.where(newly_reachable)[0]:  # cyklus jen přes indexy nově dosažitelných vrcholů\n",
    "            # přidáme všechny sousedy dle edges_sousede\n",
    "            next_reachable[edges_sousede[edges_index_sousedu[v]:edges_index_sousedu[v + 1]]] = True\n",
    "\n",
    "        # pouze nově přidané vrcholy = přidané teď a zároveň dosud nedosažitelné\n",
    "        newly_reachable = np.logical_and(next_reachable, np.logical_not(reachable))\n",
    "\n",
    "        # všechny dosažitelné vrcholy = dosud dosažitelné nebo nově dosažitelné\n",
    "        reachable = np.logical_or(reachable, next_reachable)\n",
    "\n",
    "        if not np.any(newly_reachable):\n",
    "            break\n",
    "\n",
    "    return np.where(reachable)[0]"
   ]
  },
  {
   "cell_type": "code",
   "execution_count": null,
   "metadata": {},
   "outputs": [],
   "source": [
    "%timeit res3 = reachable_in_n_steps_np(E_np, 20)"
   ]
  },
  {
   "cell_type": "code",
   "execution_count": null,
   "metadata": {},
   "outputs": [],
   "source": [
    "res3 = reachable_in_n_steps_np(E_np, 20)\n",
    "np.allclose(np.array(res1), np.array(res3))"
   ]
  },
  {
   "cell_type": "markdown",
   "metadata": {},
   "source": [
    "**Tak to jsme vlastně moc nevylepšili.**\n",
    "\n",
    "Podíváme se kde se tráví většina času."
   ]
  },
  {
   "cell_type": "code",
   "execution_count": null,
   "metadata": {},
   "outputs": [],
   "source": [
    "%lprun -f reachable_in_n_steps_np reachable_in_n_steps_np(E_np, 20)"
   ]
  },
  {
   "cell_type": "markdown",
   "metadata": {},
   "source": [
    "Zkusíme to zakompilovat, uvidíme jestli to pomůže."
   ]
  },
  {
   "cell_type": "markdown",
   "metadata": {},
   "source": [
    "### Implementační optimalizace II - Numba\n",
    "- zkusíme co lze jednoduše zakompilovat"
   ]
  },
  {
   "cell_type": "markdown",
   "metadata": {},
   "source": [
    "#### NumPy verze"
   ]
  },
  {
   "cell_type": "code",
   "execution_count": null,
   "metadata": {},
   "outputs": [],
   "source": [
    "from numba import jit\n",
    "import numpy as np\n",
    "\n",
    "reachable_in_n_steps_np_numba = jit(reachable_in_n_steps_np, nopython=True)\n"
   ]
  },
  {
   "cell_type": "code",
   "execution_count": null,
   "metadata": {},
   "outputs": [],
   "source": [
    "%time res4 = reachable_in_n_steps_np_numba(E_np, 20)"
   ]
  },
  {
   "cell_type": "code",
   "execution_count": null,
   "metadata": {},
   "outputs": [],
   "source": [
    "%timeit res4 = reachable_in_n_steps_np_numba(E_np, 20)"
   ]
  },
  {
   "attachments": {},
   "cell_type": "markdown",
   "metadata": {},
   "source": [
    "To už je obrovské zrychlení!\n",
    "\n",
    "Zkontrolujeme, že počítáme stále to samé:"
   ]
  },
  {
   "cell_type": "code",
   "execution_count": null,
   "metadata": {},
   "outputs": [],
   "source": [
    "res4 = reachable_in_n_steps_np_numba(E_np, 20)\n",
    "np.allclose(np.array(res1), np.array(res4))"
   ]
  },
  {
   "cell_type": "markdown",
   "metadata": {},
   "source": [
    "#### Python verze (s listy a sety)\n",
    "Možná by nás zajímalo jak by dopadla Numba pro:\n",
    "\n",
    "`reachable_in_n_steps_v2_numba = jit(reachable_in_n_steps_v2, nopython=True)`\n"
   ]
  },
  {
   "cell_type": "code",
   "execution_count": null,
   "metadata": {},
   "outputs": [],
   "source": [
    "reachable_in_n_steps_v2_numba = jit(reachable_in_n_steps_v2, nopython=True)\n"
   ]
  },
  {
   "cell_type": "code",
   "execution_count": null,
   "metadata": {},
   "outputs": [],
   "source": [
    "%time _ = reachable_in_n_steps_v2_numba(E, 20)"
   ]
  },
  {
   "cell_type": "code",
   "execution_count": null,
   "metadata": {},
   "outputs": [],
   "source": [
    "%timeit _ = reachable_in_n_steps_v2_numba(E, 20)"
   ]
  },
  {
   "cell_type": "markdown",
   "metadata": {},
   "source": [
    "V případě `v3` Numba nelze přímočaře použít, neboť Numba podporuje pouze homogenní listy a sety. A my potřebujeme pro náš formát vyrobit list listů..."
   ]
  },
  {
   "cell_type": "code",
   "execution_count": null,
   "metadata": {},
   "outputs": [],
   "source": [
    "# reachable_in_n_steps_v3_numba = jit(reachable_in_n_steps_v3, nopython=True)\n",
    "# _ = reachable_in_n_steps_v3_numba(E, 20)"
   ]
  },
  {
   "attachments": {},
   "cell_type": "markdown",
   "metadata": {},
   "source": [
    "# Optimalizace III - Jiný přístup k úloze - použití matice sousednosti\n",
    "- Pro zjištění hran, do kterých se lze dostat můžeme použít matici sousednosti\n",
    "    - je to matice `n x n` kde na pozicích `[u, v] a [v, u]` je `True` pokud je hrana mezi vrcholy `u` a `v`\n",
    "- Pokud mám vektor `reachable` složený z bool hodnot, kde `True` znamená, že vrchol je dosažitelný, tak mohu jednoduchým násobením matice sousednosti zjistit, které vrcholy mohu dosáhnout v dalším kroku\n",
    "- Díky tomu, že je matice symetrická, a násobíme kumulativně, zachováváme ve vektoru `reachable` vždy i informaci o vrcholech, které jsme dosáhli v předchozích krocích"
   ]
  },
  {
   "cell_type": "code",
   "execution_count": null,
   "metadata": {},
   "outputs": [],
   "source": [
    "from scipy.sparse import csr_matrix\n",
    "\n",
    "def reachable_in_n_steps_scipy(edges, n):\n",
    "    n_vertices = np.max(edges) + 1  # počet vrcholů\n",
    "\n",
    "    # vytvoření matice sousednosti\n",
    "    idx_row = np.concatenate((edges[:,0], edges[:,1]))\n",
    "    idx_col = np.concatenate((edges[:,1], edges[:,0]))\n",
    "    values = np.ones((len(idx_row)), dtype=np.bool_)\n",
    "    adjacence_csc = csr_matrix((values, (idx_row, idx_col)), \n",
    "                               shape=(n_vertices, n_vertices), dtype=np.bool_)\n",
    "\n",
    "    reachable = np.zeros((n_vertices), dtype=np.bool_)  # maska dosažitelných vrcholů\n",
    "    reachable[0] = True\n",
    "    for _ in range(n):  # počet kroků\n",
    "        reachable_new = adjacence_csc.dot(reachable)  # nově dosažitelné vrcholy pomocí násobení matice\n",
    "        if np.all(reachable == reachable_new):\n",
    "            break\n",
    "        reachable = reachable_new\n",
    "\n",
    "    return np.where(reachable)[0]  # získání indexů dosažitelných vrcholů z masky"
   ]
  },
  {
   "cell_type": "code",
   "execution_count": null,
   "metadata": {},
   "outputs": [],
   "source": [
    "%timeit res5 = reachable_in_n_steps_scipy(E_np, 20)"
   ]
  },
  {
   "attachments": {},
   "cell_type": "markdown",
   "metadata": {},
   "source": [
    "To celkem újde.\n",
    "\n",
    "Zkontrolujeme, že počítáme stále to samé:"
   ]
  },
  {
   "cell_type": "code",
   "execution_count": null,
   "metadata": {},
   "outputs": [],
   "source": [
    "res5 = reachable_in_n_steps_scipy(E_np, 20)\n",
    "np.allclose(np.array(res1), res5)"
   ]
  },
  {
   "cell_type": "code",
   "execution_count": null,
   "metadata": {},
   "outputs": [],
   "source": [
    "# profilovani\n",
    "%lprun -f reachable_in_n_steps_scipy reachable_in_n_steps_scipy(E_np, 20)"
   ]
  },
  {
   "attachments": {},
   "cell_type": "markdown",
   "metadata": {},
   "source": [
    "## Benchmarkování nejlepších variant"
   ]
  },
  {
   "cell_type": "markdown",
   "metadata": {},
   "source": [
    "Pro větší úlohy budeme chtít i rychlejší generování grafů."
   ]
  },
  {
   "cell_type": "code",
   "execution_count": null,
   "metadata": {},
   "outputs": [],
   "source": [
    "import numba\n",
    "vygeneruj_graf = numba.jit(vygeneruj_graf)\n"
   ]
  },
  {
   "attachments": {},
   "cell_type": "markdown",
   "metadata": {},
   "source": [
    "### Závislost výpočetního času na rostoucím počtu kroků `n`\n",
    "- Vynecháme nejpomalejší varianty `v1` a `v2` před kompilací Numbou."
   ]
  },
  {
   "cell_type": "code",
   "execution_count": null,
   "metadata": {},
   "outputs": [],
   "source": [
    "import matplotlib.pyplot as plt\n",
    "import time\n",
    "\n",
    "num_vert = 50000\n",
    "V, E = vygeneruj_graf(num_vert)\n",
    "E_np = np.array(E)\n",
    "\n",
    "n_list = [2**i for i in range(0, 9)]\n",
    "times_v2_numba = []  # reachable_in_n_steps_v2_numba\n",
    "times_v3 = []  # reachable_in_n_steps_v3\n",
    "times_np = [] # reachable_in_n_steps_np\n",
    "times_np_numba = [] # reachable_in_n_steps_np_numba\n",
    "times_scipy = [] # reachable_in_n_steps_scipy\n",
    "\n",
    "for n in n_list:\n",
    "    start = time.time()\n",
    "    res = reachable_in_n_steps_v2_numba(E, n)\n",
    "    end = time.time()\n",
    "    times_v2_numba.append(end - start)\n",
    "\n",
    "    start = time.time()\n",
    "    res = reachable_in_n_steps_v3(E, n)\n",
    "    end = time.time()\n",
    "    times_v3.append(end - start)\n",
    "    \n",
    "    start = time.time()\n",
    "    res = reachable_in_n_steps_np(E_np, n)\n",
    "    end = time.time()\n",
    "    times_np.append(end - start)\n",
    "    \n",
    "    start = time.time()\n",
    "    res = reachable_in_n_steps_np_numba(E_np, n)\n",
    "    end = time.time()\n",
    "    times_np_numba.append(end - start)\n",
    "    \n",
    "    start = time.time()\n",
    "    res = reachable_in_n_steps_scipy(E_np, n)\n",
    "    end = time.time()\n",
    "    times_scipy.append(end - start)\n",
    "\n",
    "    print(n, times_v2_numba[-1], times_np[-1], times_np_numba[-1], times_scipy[-1])\n",
    "\n",
    "# plot logaritmic scale on y axis\n",
    "\n",
    "plt.figure(figsize=(10,10))\n",
    "plt.loglog(n_list, times_v2_numba, label='v2 Numba')\n",
    "plt.loglog(n_list, times_v3, label='v3')\n",
    "plt.loglog(n_list, times_np, label='np')\n",
    "plt.loglog(n_list, times_np_numba, label='np numba')\n",
    "plt.loglog(n_list, times_scipy, label='scipy')\n",
    "\n",
    "plt.xlabel('Number of steps')\n",
    "plt.ylabel('Time [s]')\n",
    "plt.title(f\"Závislost výpočetního času na počtu kroků pro velikost grafu {num_vert}.\")\n",
    "plt.grid()\n",
    "plt.legend()"
   ]
  },
  {
   "cell_type": "markdown",
   "metadata": {},
   "source": [
    "Jen ty nejrychlejí a pro větší počet kroků:"
   ]
  },
  {
   "cell_type": "code",
   "execution_count": null,
   "metadata": {},
   "outputs": [],
   "source": [
    "import matplotlib.pyplot as plt\n",
    "import time\n",
    "\n",
    "num_vert = 50000\n",
    "V, E = vygeneruj_graf(num_vert,1)\n",
    "E_np = np.array(E)\n",
    "\n",
    "n_list = [2**i for i in range(0, 16)]\n",
    "times_v3 = []  # reachable_in_n_steps_v3\n",
    "times_np_numba = []  # reachable_in_n_steps_np_numba\n",
    "times_scipy = []  # reachable_in_n_steps_scipy\n",
    "\n",
    "for n in n_list:\n",
    "    start = time.time()\n",
    "    res = reachable_in_n_steps_v3(E, n)\n",
    "    end = time.time()\n",
    "    times_v3.append(end - start)\n",
    "\n",
    "    start = time.time()\n",
    "    res = reachable_in_n_steps_np_numba(E_np, n)\n",
    "    end = time.time()\n",
    "    times_np_numba.append(end - start)\n",
    "\n",
    "    start = time.time()\n",
    "    res = reachable_in_n_steps_scipy(E_np, n)\n",
    "    end = time.time()\n",
    "    times_scipy.append(end - start)\n",
    "\n",
    "    print(n, times_v3[-1], times_np_numba[-1], times_scipy[-1])\n",
    "\n",
    "# plot logaritmic scale on y axis\n",
    "\n",
    "plt.figure(figsize=(10, 10))\n",
    "plt.loglog(n_list, times_v3, label='v3')\n",
    "plt.loglog(n_list, times_np_numba, label='np numba')\n",
    "plt.loglog(n_list, times_scipy, label='scipy')\n",
    "\n",
    "plt.xlabel('Number of steps')\n",
    "plt.ylabel('Time [s]')\n",
    "plt.title(f\"Závislost výpočetního času na počtu kroků pro velikost grafu {num_vert}.\")\n",
    "plt.grid()\n",
    "plt.legend()"
   ]
  },
  {
   "attachments": {},
   "cell_type": "markdown",
   "metadata": {},
   "source": [
    "### Závislost výpočetního času na rostoucím počtu prcholů/hran"
   ]
  },
  {
   "cell_type": "code",
   "execution_count": null,
   "metadata": {},
   "outputs": [],
   "source": [
    "import time\n",
    "import matplotlib.pyplot as plt\n",
    "\n",
    "\n",
    "n = 10  # počet kroků\n",
    "num_vert_list = [2**i for i in range(1, 14)]\n",
    "times_v2_numba = [] # reachable_in_n_steps_v2_numba\n",
    "times_v3 = []  # reachable_in_n_steps_v3\n",
    "times_np = [] # reachable_in_n_steps_np\n",
    "times_np_numba = [] # reachable_in_n_steps_numba\n",
    "times_scipy = [] # reachable_in_n_steps_scipy\n",
    "\n",
    "for num_vert in num_vert_list:\n",
    "    V, E = vygeneruj_graf(num_vert)\n",
    "    E_np = np.array(E) \n",
    "\n",
    "    start = time.time()\n",
    "    res = reachable_in_n_steps_v2_numba(E, n)\n",
    "    end = time.time()\n",
    "    times_v2_numba.append(end - start)\n",
    "\n",
    "    start = time.time()\n",
    "    res = reachable_in_n_steps_v3(E, n)\n",
    "    end = time.time()\n",
    "    times_v3.append(end - start)\n",
    "    \n",
    "    start = time.time()\n",
    "    res = reachable_in_n_steps_np(E_np, n)\n",
    "    end = time.time()\n",
    "    times_np.append(end - start)\n",
    "    \n",
    "    start = time.time()\n",
    "    res = reachable_in_n_steps_np_numba(E_np, n)\n",
    "    end = time.time()\n",
    "    times_np_numba.append(end - start)\n",
    "    \n",
    "    start = time.time()\n",
    "    res = reachable_in_n_steps_scipy(E_np, n)\n",
    "    end = time.time()\n",
    "    times_scipy.append(end - start)\n",
    "\n",
    "    print(num_vert, times_v2_numba[-1], times_np[-1], times_np_numba[-1], times_scipy[-1])\n",
    "\n",
    "# plot logaritmic scale on y axis\n",
    "\n",
    "plt.figure(figsize=(10,10))\n",
    "plt.loglog(num_vert_list, times_v2_numba, label='v2 numba')\n",
    "plt.loglog(num_vert_list, times_v3, label='v3')\n",
    "plt.loglog(num_vert_list, times_np, label='np')\n",
    "plt.loglog(num_vert_list, times_np_numba, label='np numba')\n",
    "plt.loglog(num_vert_list, times_scipy, label='scipy')\n",
    "\n",
    "plt.xlabel('Graph size')\n",
    "plt.ylabel('Time [s]')\n",
    "plt.title(f\"Závislost výpočetního času na velikosti grafu pro počet kroků {n}.\")\n",
    "plt.grid()\n",
    "\n",
    "plt.legend()"
   ]
  },
  {
   "cell_type": "markdown",
   "metadata": {},
   "source": [
    "Bez `v2` a `np` a pro větší grafy."
   ]
  },
  {
   "cell_type": "code",
   "execution_count": null,
   "metadata": {},
   "outputs": [],
   "source": [
    "import time\n",
    "import matplotlib.pyplot as plt\n",
    "\n",
    "\n",
    "n = 10  # počet kroků\n",
    "num_vert_list = [2**i for i in range(1, 18)]\n",
    "times_v3 = []  # reachable_in_n_steps_v3\n",
    "times_np_numba = []  # reachable_in_n_steps_numba\n",
    "times_scipy = []  # reachable_in_n_steps_scipy\n",
    "\n",
    "for num_vert in num_vert_list:\n",
    "    V, E = vygeneruj_graf(num_vert)\n",
    "    E_np = np.array(E)\n",
    "\n",
    "    start = time.time()\n",
    "    res = reachable_in_n_steps_v3(E, n)\n",
    "    end = time.time()\n",
    "    times_v3.append(end - start)\n",
    "\n",
    "    start = time.time()\n",
    "    res = reachable_in_n_steps_np_numba(E_np, n)\n",
    "    end = time.time()\n",
    "    times_np_numba.append(end - start)\n",
    "\n",
    "    start = time.time()\n",
    "    res = reachable_in_n_steps_scipy(E_np, n)\n",
    "    end = time.time()\n",
    "    times_scipy.append(end - start)\n",
    "\n",
    "    print(num_vert, times_np[-1], times_np_numba[-1], times_scipy[-1])\n",
    "\n",
    "# plot logaritmic scale on y axis\n",
    "\n",
    "plt.figure(figsize=(10, 10))\n",
    "plt.loglog(num_vert_list, times_v3, label='v3')\n",
    "plt.loglog(num_vert_list, times_np_numba, label='np numba')\n",
    "plt.loglog(num_vert_list, times_scipy, label='scipy')\n",
    "\n",
    "plt.xlabel('Graph size')\n",
    "plt.ylabel('Time [s]')\n",
    "plt.title(f\"Závislost výpočetního času na velikosti grafu pro počet kroků {n}.\")\n",
    "plt.grid()\n",
    "\n",
    "plt.legend()"
   ]
  }
 ],
 "metadata": {
  "kernelspec": {
   "display_name": "Python 3",
   "language": "python",
   "name": "python3"
  },
  "language_info": {
   "codemirror_mode": {
    "name": "ipython",
    "version": 3
   },
   "file_extension": ".py",
   "mimetype": "text/x-python",
   "name": "python",
   "nbconvert_exporter": "python",
   "pygments_lexer": "ipython3",
   "version": "3.13.2"
  },
  "orig_nbformat": 4
 },
 "nbformat": 4,
 "nbformat_minor": 2
}
