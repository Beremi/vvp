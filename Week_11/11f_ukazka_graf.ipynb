{
 "cells": [
  {
   "attachments": {},
   "cell_type": "markdown",
   "metadata": {},
   "source": [
    "# Modelová úloha - hledání kam se dostaneme v grafu pokud můžeme projít n hran"
   ]
  },
  {
   "attachments": {},
   "cell_type": "markdown",
   "metadata": {},
   "source": [
    "### Vstupní data - list dvojic vrcholů = hrany"
   ]
  },
  {
   "cell_type": "code",
   "execution_count": null,
   "metadata": {},
   "outputs": [],
   "source": [
    "import random\n",
    "n = 10\n",
    "\n",
    "def vygeneruj_graf(n):\n",
    "    V = [i for i in range(n)]\n",
    "    E = []\n",
    "    start_V = 0\n",
    "    end_V = 0\n",
    "    while len(E) < 2*n:\n",
    "        start_V = end_V\n",
    "        end_V = random.randint(0, n - 1)\n",
    "        E.append((start_V, end_V))\n",
    "    return V, E\n",
    "\n",
    "V, E = vygeneruj_graf(n)"
   ]
  },
  {
   "cell_type": "code",
   "execution_count": null,
   "metadata": {},
   "outputs": [],
   "source": [
    "print(V)\n",
    "print(E)"
   ]
  },
  {
   "attachments": {},
   "cell_type": "markdown",
   "metadata": {},
   "source": [
    "### Ochutnávka knihovny networkx = vykreslení grafu"
   ]
  },
  {
   "cell_type": "code",
   "execution_count": null,
   "metadata": {},
   "outputs": [],
   "source": [
    "# !pip install networkx"
   ]
  },
  {
   "cell_type": "code",
   "execution_count": null,
   "metadata": {},
   "outputs": [],
   "source": [
    "# plot graph with vertices V and edges E\n",
    "# showing vertices with numbers and connections as lines\n",
    "import matplotlib.pyplot as plt\n",
    "import networkx as nx\n",
    "\n",
    "G = nx.Graph()\n",
    "G.add_nodes_from(V)\n",
    "G.add_edges_from(E)\n",
    "pos = nx.spring_layout(G)\n",
    "nx.draw_networkx_nodes(G, pos)\n",
    "nx.draw_networkx_edges(G, pos)\n",
    "nx.draw_networkx_labels(G, pos)\n",
    "plt.show()\n"
   ]
  },
  {
   "attachments": {},
   "cell_type": "markdown",
   "metadata": {},
   "source": [
    "## První návrh - jednoduchý Python, použití setů, listů a union"
   ]
  },
  {
   "cell_type": "code",
   "execution_count": null,
   "metadata": {},
   "outputs": [],
   "source": [
    "def reachable_in_n_steps(edges, n):\n",
    "    reachable = set()\n",
    "    reachable.add(0)\n",
    "    for i in range(n):\n",
    "        new_reachable = set()\n",
    "        for v in reachable:\n",
    "            for e in edges:\n",
    "                if e[0] == v:\n",
    "                    new_reachable.add(e[1])\n",
    "                if e[1] == v:\n",
    "                    new_reachable.add(e[0])\n",
    "        reachable = reachable.union(new_reachable)\n",
    "    return list(reachable)\n"
   ]
  },
  {
   "cell_type": "code",
   "execution_count": null,
   "metadata": {},
   "outputs": [],
   "source": [
    "reachable_in_n_steps(E, 2)"
   ]
  },
  {
   "attachments": {},
   "cell_type": "markdown",
   "metadata": {},
   "source": [
    "## Vygenerujeme větší graf"
   ]
  },
  {
   "cell_type": "code",
   "execution_count": null,
   "metadata": {},
   "outputs": [],
   "source": [
    "V, E = vygeneruj_graf(1000)"
   ]
  },
  {
   "attachments": {},
   "cell_type": "markdown",
   "metadata": {},
   "source": [
    "Jak dlouho to asi potrvá?"
   ]
  },
  {
   "cell_type": "code",
   "execution_count": null,
   "metadata": {},
   "outputs": [],
   "source": [
    "%time res1 = reachable_in_n_steps(E, 20)"
   ]
  },
  {
   "attachments": {},
   "cell_type": "markdown",
   "metadata": {},
   "source": [
    "## Profilování"
   ]
  },
  {
   "cell_type": "code",
   "execution_count": null,
   "metadata": {},
   "outputs": [],
   "source": [
    "%load_ext line_profiler"
   ]
  },
  {
   "cell_type": "code",
   "execution_count": null,
   "metadata": {},
   "outputs": [],
   "source": [
    "%lprun -f reachable_in_n_steps reachable_in_n_steps(E, 20)"
   ]
  },
  {
   "attachments": {},
   "cell_type": "markdown",
   "metadata": {},
   "source": [
    "Edge procházíme desítky miliónů krát... tohle ani rychlé být nemůže. Jak to můžeme zrychlit?\n",
    "\n",
    "- edge který jednou projdeme už nemusíme znovu procházet\n",
    "- druhý if v cyklu může být v elif, protože pokud je splněn první if, tak druhý už nás stejně nezajímá"
   ]
  },
  {
   "attachments": {},
   "cell_type": "markdown",
   "metadata": {},
   "source": [
    "## Optimalizace algoritmu"
   ]
  },
  {
   "cell_type": "code",
   "execution_count": null,
   "metadata": {},
   "outputs": [],
   "source": [
    "from copy import deepcopy\n",
    "\n",
    "def reachable_in_n_steps_v2(edges, n):\n",
    "    edges_copy = deepcopy(edges)\n",
    "    reachable = set()\n",
    "    reachable.add(0)\n",
    "    for i in range(n):\n",
    "        new_reachable = set()\n",
    "        for v in reachable:\n",
    "            edges_to_remove = []\n",
    "            for e_idx, e in enumerate(edges_copy):\n",
    "                if e[0] == v:\n",
    "                    new_reachable.add(e[1])\n",
    "                    edges_to_remove.append(e_idx)\n",
    "                elif e[1] == v:\n",
    "                    new_reachable.add(e[0])\n",
    "                    edges_to_remove.append(e_idx)\n",
    "            _ = [edges_copy.pop(e_idx) for e_idx in edges_to_remove[::-1]]\n",
    "        reachable = reachable.union(new_reachable)\n",
    "    return list(reachable)\n"
   ]
  },
  {
   "cell_type": "code",
   "execution_count": null,
   "metadata": {},
   "outputs": [],
   "source": [
    "%time res2 = reachable_in_n_steps_v2(E, 20)"
   ]
  },
  {
   "attachments": {},
   "cell_type": "markdown",
   "metadata": {},
   "source": [
    "Tohle bylo vskutku výrazné zrychlení!\n",
    "\n",
    "Raději ověříme, že počítáme stále to samé:"
   ]
  },
  {
   "cell_type": "code",
   "execution_count": null,
   "metadata": {},
   "outputs": [],
   "source": [
    "import numpy as np\n",
    "np.allclose(np.array(res1), np.array(res2))"
   ]
  },
  {
   "attachments": {},
   "cell_type": "markdown",
   "metadata": {},
   "source": [
    "## První optimalizace - použití NumPy a pole bool hodnot místo setů"
   ]
  },
  {
   "attachments": {},
   "cell_type": "markdown",
   "metadata": {},
   "source": [
    "Budeme chtít také vstup jako Numpy:"
   ]
  },
  {
   "cell_type": "code",
   "execution_count": null,
   "metadata": {},
   "outputs": [],
   "source": [
    "E_np = np.array(E)"
   ]
  },
  {
   "cell_type": "code",
   "execution_count": null,
   "metadata": {},
   "outputs": [],
   "source": [
    "def reachable_in_n_steps_np(edges, n):\n",
    "    edges_copy = edges.copy()\n",
    "    n_vertices = np.max(edges_copy) + 1\n",
    "    reachable = np.zeros((n_vertices), dtype=np.bool8)\n",
    "    reachable[0] = True\n",
    "    for i in range(n):\n",
    "        new_reachable = np.zeros((n_vertices), dtype=np.bool8)\n",
    "        for v, is_reachable in enumerate(reachable):\n",
    "            if not is_reachable:\n",
    "                continue\n",
    "            edges_hits = np.logical_or(edges_copy[:,0] == v, edges_copy[:,1] == v)\n",
    "            if np.sum(edges_hits) == 0:\n",
    "                continue\n",
    "            reachable_vertices = edges_copy[edges_hits,:].ravel()\n",
    "            new_reachable[reachable_vertices] = True\n",
    "            edges_copy = edges_copy[~edges_hits,:]\n",
    "        reachable = np.logical_or(reachable, new_reachable)\n",
    "        \n",
    "    return np.where(reachable)"
   ]
  },
  {
   "cell_type": "code",
   "execution_count": null,
   "metadata": {},
   "outputs": [],
   "source": [
    "%time res3 = reachable_in_n_steps_np(E_np, 20)"
   ]
  },
  {
   "cell_type": "code",
   "execution_count": null,
   "metadata": {},
   "outputs": [],
   "source": [
    "np.allclose(np.array(res1), np.array(res3))"
   ]
  },
  {
   "cell_type": "code",
   "execution_count": null,
   "metadata": {},
   "outputs": [],
   "source": [
    "%load_ext line_profiler"
   ]
  },
  {
   "cell_type": "code",
   "execution_count": null,
   "metadata": {},
   "outputs": [],
   "source": [
    "%lprun -f reachable_in_n_steps_np reachable_in_n_steps_np(E_np, 20)"
   ]
  },
  {
   "cell_type": "code",
   "execution_count": null,
   "metadata": {},
   "outputs": [],
   "source": [
    "from numba import jit\n",
    "import numpy as np\n",
    "\n",
    "@jit(nopython=True)\n",
    "def reachable_in_n_steps_numba(edges, n):\n",
    "    edges_copy = edges.copy()\n",
    "    n_vertices = np.max(edges_copy) + 1\n",
    "    reachable = np.zeros((n_vertices), dtype=np.bool8)\n",
    "    reachable[0] = True\n",
    "    for i in range(n):\n",
    "        new_reachable = np.zeros((n_vertices), dtype=np.bool8)\n",
    "        for v, is_reachable in enumerate(reachable):\n",
    "            if not is_reachable:\n",
    "                continue\n",
    "            edges_hits = np.logical_or(edges_copy[:,0] == v, edges_copy[:,1] == v)\n",
    "            if np.sum(edges_hits) == 0:\n",
    "                continue\n",
    "            reachable_vertices = edges_copy[edges_hits,:].ravel()\n",
    "            new_reachable[reachable_vertices] = True\n",
    "            edges_copy = edges_copy[~edges_hits,:]\n",
    "        reachable = np.logical_or(reachable, new_reachable)\n",
    "        \n",
    "    return np.where(reachable)"
   ]
  },
  {
   "cell_type": "code",
   "execution_count": null,
   "metadata": {},
   "outputs": [],
   "source": [
    "%time res4 = reachable_in_n_steps_numba(E_np, 20)"
   ]
  },
  {
   "attachments": {},
   "cell_type": "markdown",
   "metadata": {},
   "source": [
    "To už je obrovské zrychlení!\n",
    "\n",
    "Zkontrolujeme, že počítáme stále to samé:"
   ]
  },
  {
   "cell_type": "code",
   "execution_count": null,
   "metadata": {},
   "outputs": [],
   "source": [
    "np.allclose(np.array(res1), np.array(res4))"
   ]
  },
  {
   "attachments": {},
   "cell_type": "markdown",
   "metadata": {},
   "source": [
    "## Zkusíme to úplně jinak - použití matice sousednosti"
   ]
  },
  {
   "cell_type": "code",
   "execution_count": null,
   "metadata": {},
   "outputs": [],
   "source": [
    "from scipy.sparse import csc_matrix\n",
    "\n",
    "def reachable_in_n_steps_scipy(edges, n):\n",
    "    n_vertices = np.max(edges) + 1\n",
    "    idx_row = np.concatenate((edges[:,0], edges[:,1]))\n",
    "    idx_col = np.concatenate((edges[:,1], edges[:,0]))\n",
    "    values = np.ones((len(idx_row)), dtype=np.bool_)\n",
    "   \n",
    "    adjacence_csc = csc_matrix((values, (idx_row, idx_col)), \n",
    "                               shape=(n_vertices, n_vertices), dtype=np.bool_)\n",
    "\n",
    "    reachable = np.zeros((n_vertices), dtype=np.bool_)\n",
    "    reachable[0] = True\n",
    "    for i in range(n):\n",
    "        reachable = adjacence_csc.dot(reachable)\n",
    "\n",
    "    return np.where(reachable)[0]"
   ]
  },
  {
   "cell_type": "code",
   "execution_count": null,
   "metadata": {},
   "outputs": [],
   "source": [
    "%time res5 = reachable_in_n_steps_scipy(E_np, 20)"
   ]
  },
  {
   "attachments": {},
   "cell_type": "markdown",
   "metadata": {},
   "source": [
    "To je rychlé!\n",
    "\n",
    "Zkontrolujeme, že počítáme stále to samé:"
   ]
  },
  {
   "cell_type": "code",
   "execution_count": null,
   "metadata": {},
   "outputs": [],
   "source": [
    "np.allclose(np.array(res1), res5)"
   ]
  },
  {
   "cell_type": "code",
   "execution_count": null,
   "metadata": {},
   "outputs": [],
   "source": [
    "# profilovani\n",
    "%lprun -f reachable_in_n_steps_scipy reachable_in_n_steps_scipy(E_np, 20)"
   ]
  },
  {
   "attachments": {},
   "cell_type": "markdown",
   "metadata": {},
   "source": [
    "## Benchmarkování nejlepších variant"
   ]
  },
  {
   "attachments": {},
   "cell_type": "markdown",
   "metadata": {},
   "source": [
    "### Rostoucí n"
   ]
  },
  {
   "cell_type": "code",
   "execution_count": null,
   "metadata": {},
   "outputs": [],
   "source": [
    "import time\n",
    "num_vert = 2000\n",
    "V, E = vygeneruj_graf(num_vert)\n",
    "E_np = np.array(E)\n",
    "\n",
    "n_list = [2**i for i in range(0, 9)]\n",
    "times_v2 = [] # reachable_in_n_steps_v2\n",
    "times_np = [] # reachable_in_n_steps_np\n",
    "times_numba = [] # reachable_in_n_steps_numba\n",
    "times_scipy = [] # reachable_in_n_steps_scipy\n",
    "\n",
    "for n in n_list:\n",
    "    start = time.time()\n",
    "    res = reachable_in_n_steps_v2(E, n)\n",
    "    end = time.time()\n",
    "    times_v2.append(end - start)\n",
    "    \n",
    "    start = time.time()\n",
    "    res = reachable_in_n_steps_np(E_np, n)\n",
    "    end = time.time()\n",
    "    times_np.append(end - start)\n",
    "    \n",
    "    start = time.time()\n",
    "    res = reachable_in_n_steps_numba(E_np, n)\n",
    "    end = time.time()\n",
    "    times_numba.append(end - start)\n",
    "    \n",
    "    start = time.time()\n",
    "    res = reachable_in_n_steps_scipy(E_np, n)\n",
    "    end = time.time()\n",
    "    times_scipy.append(end - start)\n",
    "\n",
    "    print(n, times_v2[-1], times_np[-1], times_numba[-1], times_scipy[-1])\n",
    "\n",
    "# plot logaritmic scale on y axis\n",
    "import matplotlib.pyplot as plt\n",
    "plt.figure(figsize=(10,10))\n",
    "plt.loglog(n_list, times_v2, label='v2')\n",
    "plt.loglog(n_list, times_np, label='np')\n",
    "plt.loglog(n_list, times_numba, label='numba')\n",
    "plt.loglog(n_list, times_scipy, label='scipy')\n",
    "plt.legend()"
   ]
  },
  {
   "attachments": {},
   "cell_type": "markdown",
   "metadata": {},
   "source": [
    "### Rostoucí pořet vrcholů"
   ]
  },
  {
   "cell_type": "code",
   "execution_count": null,
   "metadata": {},
   "outputs": [],
   "source": [
    "import time\n",
    "n = 200\n",
    "num_vert_list = [2**i for i in range(5, 14)]\n",
    "times_v2 = [] # reachable_in_n_steps_v2\n",
    "times_np = [] # reachable_in_n_steps_np\n",
    "times_numba = [] # reachable_in_n_steps_numba\n",
    "times_scipy = [] # reachable_in_n_steps_scipy\n",
    "\n",
    "for num_vert in num_vert_list:\n",
    "    V, E = vygeneruj_graf(num_vert)\n",
    "    E_np = np.array(E) \n",
    "\n",
    "    start = time.time()\n",
    "    res = reachable_in_n_steps_v2(E, n)\n",
    "    end = time.time()\n",
    "    times_v2.append(end - start)\n",
    "    \n",
    "    start = time.time()\n",
    "    res = reachable_in_n_steps_np(E_np, n)\n",
    "    end = time.time()\n",
    "    times_np.append(end - start)\n",
    "    \n",
    "    start = time.time()\n",
    "    res = reachable_in_n_steps_numba(E_np, n)\n",
    "    end = time.time()\n",
    "    times_numba.append(end - start)\n",
    "    \n",
    "    start = time.time()\n",
    "    res = reachable_in_n_steps_scipy(E_np, n)\n",
    "    end = time.time()\n",
    "    times_scipy.append(end - start)\n",
    "\n",
    "    print(num_vert, times_v2[-1], times_np[-1], times_numba[-1], times_scipy[-1])\n",
    "\n",
    "# plot logaritmic scale on y axis\n",
    "import matplotlib.pyplot as plt\n",
    "plt.figure(figsize=(10,10))\n",
    "plt.loglog(num_vert_list, times_v2, label='v2')\n",
    "plt.loglog(num_vert_list, times_np, label='np')\n",
    "plt.loglog(num_vert_list, times_numba, label='numba')\n",
    "plt.loglog(num_vert_list, times_scipy, label='scipy')\n",
    "plt.legend()"
   ]
  }
 ],
 "metadata": {
  "kernelspec": {
   "display_name": "Python 3",
   "language": "python",
   "name": "python3"
  },
  "language_info": {
   "codemirror_mode": {
    "name": "ipython",
    "version": 3
   },
   "file_extension": ".py",
   "mimetype": "text/x-python",
   "name": "python",
   "nbconvert_exporter": "python",
   "pygments_lexer": "ipython3",
   "version": "3.12.3"
  },
  "orig_nbformat": 4
 },
 "nbformat": 4,
 "nbformat_minor": 2
}
