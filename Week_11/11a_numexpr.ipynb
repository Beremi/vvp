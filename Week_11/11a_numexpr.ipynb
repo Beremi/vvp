{
 "cells": [
  {
   "attachments": {},
   "cell_type": "markdown",
   "metadata": {},
   "source": [
    "# Co a hlavně proč je numexpr\n",
    "\n",
    "Začněme od začátku, a to je numpy. Numpy poskytuje efektivní implementaci vektorových a maticových operací. Problémem je však, že mezi každou z těchto operací musí proběhnout rozhraní mezi C/Frotranem v Numpy a Pythonem. Toto může být příliš velký overhead.\n",
    "\n",
    "Zde přichází na scénu numexpr, ten umožňuje \"zakompilovat\" serii operací nad numpy poli do jedné operace, která je vykonána v C a není potřeba chodit vícekrát mezi C a Pythonem."
   ]
  },
  {
   "cell_type": "code",
   "execution_count": null,
   "metadata": {},
   "outputs": [],
   "source": [
    "#!pip install numexpr"
   ]
  },
  {
   "cell_type": "code",
   "execution_count": null,
   "metadata": {},
   "outputs": [],
   "source": [
    "import numpy as np\n",
    "import numexpr as ne\n"
   ]
  },
  {
   "cell_type": "code",
   "execution_count": null,
   "metadata": {},
   "outputs": [],
   "source": [
    "array_size = 1000000\n",
    "a = np.random.random(array_size)\n",
    "b = np.random.random(array_size)\n"
   ]
  },
  {
   "cell_type": "code",
   "execution_count": null,
   "metadata": {},
   "outputs": [],
   "source": [
    "# Pomocí NumPy\n",
    "numpy_result = a * b\n",
    "\n",
    "# Pomocí Numexpr\n",
    "numexpr_result = ne.evaluate(\"a * b\")\n"
   ]
  },
  {
   "cell_type": "code",
   "execution_count": null,
   "metadata": {},
   "outputs": [],
   "source": [
    "# Měření času pro NumPy\n",
    "%timeit numpy_result = a * b\n"
   ]
  },
  {
   "cell_type": "code",
   "execution_count": null,
   "metadata": {},
   "outputs": [],
   "source": [
    "# Měření času pro Numexpr\n",
    "%timeit numexpr_result = ne.evaluate(\"a * b\")\n"
   ]
  },
  {
   "attachments": {},
   "cell_type": "markdown",
   "metadata": {},
   "source": [
    "Tady jsme ani nemohli moc čekat, jedná se o jednu operaci."
   ]
  },
  {
   "cell_type": "code",
   "execution_count": null,
   "metadata": {},
   "outputs": [],
   "source": [
    "# Pomocí NumPy\n",
    "numpy_result = np.exp(np.sin(3*a) +  np.cos(5 * b))\n",
    "\n",
    "# Pomocí Numexpr\n",
    "numexpr_result = numexpr_result = ne.evaluate(\"exp(sin(3 * a) + cos(5 * b))\")\n"
   ]
  },
  {
   "cell_type": "code",
   "execution_count": null,
   "metadata": {},
   "outputs": [],
   "source": [
    "np.allclose(numpy_result, numexpr_result)"
   ]
  },
  {
   "cell_type": "code",
   "execution_count": null,
   "metadata": {},
   "outputs": [],
   "source": [
    "%timeit numpy_result = np.exp(np.sin(3*a) +  np.cos(5 * b))"
   ]
  },
  {
   "cell_type": "code",
   "execution_count": null,
   "metadata": {},
   "outputs": [],
   "source": [
    "%timeit numexpr_result = ne.evaluate(\"exp(sin(3 * a) + cos(5 * b))\")"
   ]
  },
  {
   "cell_type": "markdown",
   "metadata": {},
   "source": [
    "To už snad stojí za to, ne?\n",
    "\n",
    "A dá se očekávat, že čím větší serie operací, tím větší bude rozdíl v rychlosti."
   ]
  },
  {
   "cell_type": "code",
   "execution_count": null,
   "metadata": {},
   "outputs": [],
   "source": [
    "%timeit numpy_result = a + b + a**2 + b**2 + a**3 + b**3 + a**4 + b**4 + a**5 + b**5 + a**6 + b**6 + a**7 + b**7"
   ]
  },
  {
   "cell_type": "code",
   "execution_count": null,
   "metadata": {},
   "outputs": [],
   "source": [
    "%timeit numexpr_result = ne.evaluate(\"a + b + a**2 + b**2 + a**3 + b**3 + a**4 + b**4 + a**5 + b**5 + a**6 + b**6 + a**7 + b**7\")"
   ]
  }
 ],
 "metadata": {
  "kernelspec": {
   "display_name": "Python 3",
   "language": "python",
   "name": "python3"
  },
  "language_info": {
   "codemirror_mode": {
    "name": "ipython",
    "version": 3
   },
   "file_extension": ".py",
   "mimetype": "text/x-python",
   "name": "python",
   "nbconvert_exporter": "python",
   "pygments_lexer": "ipython3",
   "version": "3.11.8"
  },
  "orig_nbformat": 4
 },
 "nbformat": 4,
 "nbformat_minor": 2
}
