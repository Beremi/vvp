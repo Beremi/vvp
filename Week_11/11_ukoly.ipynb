{
 "cells": [
  {
   "cell_type": "markdown",
   "metadata": {},
   "source": [
    "# Úkoly\n",
    "## Profilování a benchmarking\n",
    "- pomocí `line_profiler` zjistěte, které části kódu jsou nejvíce výpočetně náročné\n",
    "    - pro `eps = 1e-100`\n",
    "- proveďtě benchmarking pomocí `time.time` pro `archimedes_pi` a `newton_pi` pro různé hodnoty `eps`\n",
    "    - `eps = 1e-1, 1e-2, 1e-3,  ... , 1e-100`\n",
    "    - výsledky zobrazte pomocí log-log grafu    "
   ]
  },
  {
   "cell_type": "code",
   "execution_count": null,
   "metadata": {},
   "outputs": [],
   "source": [
    "from decimal import Decimal as D, getcontext\n",
    "\n",
    "getcontext().prec = 1000\n",
    "pi = D(\"3.141592653589793238462643383279\\\n",
    "5028841971693993\\\n",
    "7510582097494459230781640628620899862803482534\\\n",
    "2117067982148086513282306647093844609550582231\\\n",
    "7253594081284811174502841027019385211055596446\\\n",
    "2294895493038196442881097566593344612847564823\\\n",
    "3786783165271201909145648566923460348610454326\\\n",
    "6482133936072602491412737245870066063155881748\\\n",
    "8152092096282925409171536436789259036001133053\\\n",
    "0548820466521384146951941511609433057270365759\\\n",
    "5919530921861173819326117931051185480744623799\\\n",
    "6274956735188575272489122793818301194912983367\\\n",
    "3362440656643086021394946395224737190702179860\\\n",
    "9437027705392171762931767523846748184676694051\\\n",
    "3200056812714526356082778577134275778960917363\\\n",
    "7178721468440901224953430146549585371050792279\\\n",
    "6892589235420199561121290219608640344181598136\\\n",
    "2977477130996051870721134999999837297804995105\\\n",
    "9731732816096318595024459455346908302642522308\\\n",
    "2533446850352619311881710100031378387528865875\\\n",
    "3320838142061717766914730359825349042875546873\\\n",
    "1159562863882353787593751957781857780532171226\\\n",
    "806613001927876611195909216420199\")\n",
    "\n",
    "def odmocnina(a, eps):\n",
    "    x = a\n",
    "    while abs(x**2 - a) > eps**2:\n",
    "        x = (a / x + x) / 2\n",
    "    return x\n",
    "\n",
    "\n",
    "def archimedes_pi(eps):\n",
    "    vyska = odmocnina(D(1) - (D(1) / D(2))**2, eps)\n",
    "    zakladna = D(1)\n",
    "    i = 1\n",
    "    while True:\n",
    "        zakladna = odmocnina((zakladna / 2)**2 + (1 - vyska)**2, eps)\n",
    "        vyska = odmocnina(1 - (zakladna / 2)**2, eps)\n",
    "        odhad_pi = 6 * (2**i) * zakladna * (vyska / 2)\n",
    "        i += 1\n",
    "        if abs(odhad_pi - pi) < eps:\n",
    "            break\n",
    "    return odhad_pi\n",
    "\n",
    "\n",
    "def newton_pi(eps):\n",
    "    a = D(0.5) * (D(1) / (2**3))\n",
    "    pi_suma = D(1 / D(2 * 1 + 1)) * a\n",
    "    pi_zbytek = ((-1) * odmocnina(D(3), eps)) / D(8) + D(1) / D(2)\n",
    "    i = D(2)\n",
    "    while True:\n",
    "        a *= (D(2 * i - 3) / D(2 * i)) * D(1 / 4)\n",
    "        pi_suma += (D(1) / D(2 * i + 1)) * a\n",
    "        odhad_pi = 12 * (pi_zbytek - pi_suma)\n",
    "        if abs(odhad_pi - pi) < eps:\n",
    "            break\n",
    "        i += 1\n",
    "    return odhad_pi\n",
    "\n",
    "eps = 1e-100\n",
    "pi_odhad1 = archimedes_pi(eps)\n",
    "pi_odhad2 = newton_pi(eps)\n",
    "\n",
    "print(f\"Pi podle Archimedova algoritmu s chybou {abs(pi - pi_odhad1):.4e}\")\n",
    "print(f\"Pi podle Newtonova algoritmu s chybou {abs(pi - pi_odhad2):.4e}\")"
   ]
  },
  {
   "cell_type": "code",
   "execution_count": null,
   "metadata": {},
   "outputs": [],
   "source": []
  },
  {
   "cell_type": "markdown",
   "metadata": {},
   "source": [
    "**Obdobně postupujte pro tyto funkce hledající prvočísla menší než `n`**\n",
    "- pomocí profilování zjistěte, které části kódu jsou nejvíce výpočetně náročné\n",
    "- proveďtě benchmarking pomocí `time.time` pro `eratosthenes_sieve` a `primes_test` pro různé hodnoty `n`\n",
    "    - `n = 10, 100, 1000,  ... , 1000000`\n",
    "    - výsledky zobrazte pomocí log-log grafu"
   ]
  },
  {
   "cell_type": "code",
   "execution_count": null,
   "metadata": {},
   "outputs": [],
   "source": [
    "import numpy as np\n",
    "\n",
    "def eratosthenes_sieve(n):\n",
    "    sieve = np.arange(1, n + 1)\n",
    "    sieve[0] = 0\n",
    "    for i in range(2, int(np.sqrt(n)) + 1):\n",
    "        if sieve[i - 1] != 0:\n",
    "            sieve[i**2 - 1:n:i] = 0\n",
    "    return np.where(sieve)[0] + 1\n",
    "\n",
    "def primes_test(n):\n",
    "    primes = [2]\n",
    "    i = 3\n",
    "    while i < n:\n",
    "        for p in primes:\n",
    "            if i % p == 0:\n",
    "                break\n",
    "            if p > np.sqrt(i):\n",
    "                primes.append(i)\n",
    "                break\n",
    "        i += 2\n",
    "    return np.array(primes)\n",
    "\n",
    "n = 1000\n",
    "print(eratosthenes_sieve(n))\n",
    "print(primes_test(n))"
   ]
  },
  {
   "cell_type": "code",
   "execution_count": null,
   "metadata": {},
   "outputs": [],
   "source": []
  },
  {
   "cell_type": "markdown",
   "metadata": {},
   "source": [
    "## Numba\n",
    "\n",
    "1. Použijte Numbu pro zrychlení hledání prvočísel (obě funkce), porovnejte časy s původními funkcemi, proveďte benchmarking podobně jako v předchozím případě"
   ]
  },
  {
   "cell_type": "code",
   "execution_count": null,
   "metadata": {},
   "outputs": [],
   "source": []
  },
  {
   "cell_type": "markdown",
   "metadata": {},
   "source": [
    "2. Použijte Numba.stencil pro aproximaci difuze 2D pole v čase\n",
    "    - difuzní kernel bude počítat změny v hodnotách na základě rozdílů v okolních buňkách \n",
    "    $$u_{i,j} = u_{i,j} + \\frac{\\lambda}{\\delta_t}\\sum_{k,l \\in \\{(i,j-1), (i-1,j),\\ldots\\}} u_{k,l} - u_{i,j}$$"
   ]
  },
  {
   "cell_type": "code",
   "execution_count": null,
   "metadata": {},
   "outputs": [],
   "source": [
    "import numpy as np\n",
    "from numba import stencil, jit\n",
    "import matplotlib.pyplot as plt\n",
    "\n",
    "\n",
    "lam = 1e-1\n",
    "delta_t = 1\n",
    "\n",
    "# Initialize the grid\n",
    "N = 100  # Size of the grid (NxN)\n",
    "grid = np.zeros((N, N))\n",
    "grid[N // 2, N // 2] = 1000  # Initial concentration in the center\n",
    "\n",
    "# TODO: naimplementujte funkci, která provede jeden krok difuze\n",
    "\n",
    "def diffuse_step(grid):\n",
    "    pass"
   ]
  },
  {
   "cell_type": "code",
   "execution_count": null,
   "metadata": {},
   "outputs": [],
   "source": [
    "def diffuse(grid, num_steps):\n",
    "    for time_step in range(num_steps):\n",
    "        grid = diffuse_step(grid)\n",
    "        if time_step % 100 == 0:\n",
    "            # Plotting the result\n",
    "            plt.imshow(grid)\n",
    "            plt.colorbar()\n",
    "            plt.title(f'Diffusion after {time_step} time steps')\n",
    "            plt.show()\n",
    "    return grid\n",
    "\n",
    "\n",
    "# Simulate diffusion\n",
    "num_steps = 1000\n",
    "result = diffuse(grid, num_steps)"
   ]
  }
 ],
 "metadata": {
  "kernelspec": {
   "display_name": "Python 3",
   "language": "python",
   "name": "python3"
  },
  "language_info": {
   "codemirror_mode": {
    "name": "ipython",
    "version": 3
   },
   "file_extension": ".py",
   "mimetype": "text/x-python",
   "name": "python",
   "nbconvert_exporter": "python",
   "pygments_lexer": "ipython3",
   "version": "3.13.2"
  }
 },
 "nbformat": 4,
 "nbformat_minor": 2
}
