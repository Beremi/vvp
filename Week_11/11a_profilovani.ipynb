{
 "cells": [
  {
   "attachments": {},
   "cell_type": "markdown",
   "metadata": {},
   "source": [
    "# Profilování a benchmarking\n",
    "Na začátek je dobré projít, čeho vlastně chceme dosáhnout.\n",
    "\n",
    "Jednoduše řečeno: **rychlosti**.\n",
    "\n",
    "**Profilování** nám umožní rozebrat kód a zjistit, kde jsou jeho slabiny (místa, která zabírají nejvíce času). Nasměruje nás tedy k místům kde má smysl uvažovat o optimalizaci a zrychlení.\n",
    "\n",
    "**Benchmarking** znamená testování (například většího množství různých implementací) na sérii různých vstupů (lišících se velikostí, složitostí, ...). Cílem je zjistit, která implementace je nejrychlejší a pro jaké vstupy.\n",
    "\n",
    "\n",
    "Při implementaci algoritmů máte poměrně často možnost využít různých postupů, jak něco naimplementovat. A často jsou všechny užitečné, neboť pro různá data a velikosti úloh se hodí různé přístupy. Toto pro nás rozhodne benchmarking."
   ]
  },
  {
   "attachments": {},
   "cell_type": "markdown",
   "metadata": {},
   "source": [
    "## Obecně k profilování\n",
    "\n",
    "Pro Python existuje obrovské množství profilovacích nástrojů. Mnoho z nich je stále také v aktivním vývoji. To proto, že je mnoho faktroů, které je třeba profilovat. Mezi ně patří:\n",
    "- rychlost (časová náročnost),\n",
    "- množství použité paměti,\n",
    "- paměťová propustnost = množství kopírovaných dat,\n",
    "- GPU profilování.\n",
    "\n",
    "Profilery navíc přinášejí zpomalení samotného běhu kódu a tím i automatické zkreslení výsledků. Toto zpomalení může být od 1.x krát přes 2x až 5x po 100x v některých případech. Takže jsou i různé varianty profilerů které se liší v kvalitě sezbíraných dat a zpomalením běhu."
   ]
  },
  {
   "cell_type": "markdown",
   "metadata": {},
   "source": [
    "## Ukázkový kód pro test profilování"
   ]
  },
  {
   "cell_type": "code",
   "execution_count": null,
   "metadata": {},
   "outputs": [],
   "source": [
    "def heavy_calc(X):\n",
    "    Y = X.copy()\n",
    "    for i in range(10):\n",
    "        Y = Y**i\n",
    "    return Y\n",
    "\n",
    "\n",
    "def heavy_loop(inputs):\n",
    "    res = []\n",
    "    for X in inputs:\n",
    "        res.append(heavy_calc(X))\n",
    "    return res\n",
    "\n",
    "\n",
    "def code_setup():\n",
    "    from numpy.random import rand\n",
    "\n",
    "    N = 20\n",
    "    M = 1000\n",
    "    print(\"Will generate {} random arrays\".format(N))\n",
    "    inputs = [rand(M, M) for n in range(N)]\n",
    "    print(\"Will calculate now\")\n",
    "    result = heavy_loop(inputs)\n",
    "    print(\"Finished calculation\")"
   ]
  },
  {
   "attachments": {},
   "cell_type": "markdown",
   "metadata": {},
   "source": [
    "## Základní profilování: `cProfile`\n",
    "Jedná se o základní vestavěný profilovací nástroj (knihovna `cProfile`), který je součástí standardní výbavy. Počítá pouze jednotlivá **volání** funkcí a jejich trvání. Není schopen určit, jak dlouho trval který řádek kódu.\n",
    "\n",
    "- V nejjednodušší verzi stačí použít `cProfile.run()`, jako argument předat kód, který chceme profilovat (např. volání funkce), a soubor, do kterého chceme výsledky uložit (zvykem je použít příponu `.prof`)."
   ]
  },
  {
   "cell_type": "code",
   "execution_count": null,
   "metadata": {},
   "outputs": [],
   "source": [
    "import cProfile\n",
    "\n",
    "cProfile.run(\"code_setup()\", \"vysledky_cProfile_code_setup.prof\")"
   ]
  },
  {
   "cell_type": "markdown",
   "metadata": {},
   "source": [
    "Výsledky lze vizuálně znázornit pomocí nástroje `snakeviz` (`pip install snakeviz` pokud nemáte). Ten vytvoří webovou stránku s interaktivním grafem a tabulkou."
   ]
  },
  {
   "cell_type": "code",
   "execution_count": null,
   "metadata": {},
   "outputs": [],
   "source": [
    "!snakeviz vysledky_cProfile_code_setup.prof"
   ]
  },
  {
   "cell_type": "markdown",
   "metadata": {},
   "source": [
    "Výsledky lze také procházet jako textovou tabulku pomocí vestavěného modulu `pstats`.\n",
    "\n",
    "- `p = pstats.Stats(\"filename.prof\")` vytvoří objekt s načtenými výsledky.\n",
    "\n",
    "Pro přehledné zobrazení výsledků je třeba je například seřadit, očistit od celých cest k funkcím, atd.\n",
    "- Odstraňte cesty k funkcím: `.strip_dirs()`\n",
    "- Zkusme si to seřadit podle celkového času běhu: `.sort_stats(\"cumulative\")`\n",
    "- Dále můžeme vypsat pouze prvních 10 nejvíce časově náročných funkcí: `.print_stats(10)`."
   ]
  },
  {
   "cell_type": "code",
   "execution_count": null,
   "metadata": {},
   "outputs": [],
   "source": [
    "import pstats\n",
    "p = pstats.Stats(\"vysledky_cProfile_code_setup.prof\")\n",
    "p.strip_dirs().sort_stats(\"cumulative\").print_stats(10)"
   ]
  },
  {
   "attachments": {},
   "cell_type": "markdown",
   "metadata": {},
   "source": [
    "**Všechno (od profilování až po výpisu výsledku přes pstats) lze v Jupyteru udělat pěkně pomocí magic příkazu:**\n"
   ]
  },
  {
   "cell_type": "code",
   "execution_count": null,
   "metadata": {},
   "outputs": [],
   "source": [
    "%prun -s cumulative -l 10 code_setup()"
   ]
  },
  {
   "attachments": {},
   "cell_type": "markdown",
   "metadata": {},
   "source": [
    "## Řádkové profilování: Line_profiler\n",
    "V minulém příkladu jsme viděli, že základní profiler časuje pouze celé funkce. Co když chceme zjistit, které řádky kódu jsou nejvíce časově náročné?\n",
    "\n",
    "Toto mnoho profilerů umožňuje, například `line_profiler`. (Pokud nemáte `pip install line_profiler`)"
   ]
  },
  {
   "attachments": {},
   "cell_type": "markdown",
   "metadata": {},
   "source": [
    "Line profiler se dá spouštět z příkazového řádku pro celý file, ale to kdyžtak nechám zájemcům.\n",
    "\n",
    "My si zde ukážeme jeho použití v Jupyteru pomocí magic příkazu."
   ]
  },
  {
   "cell_type": "code",
   "execution_count": null,
   "metadata": {},
   "outputs": [],
   "source": [
    "# je třeba jej naimportovat\n",
    "%load_ext line_profiler"
   ]
  },
  {
   "attachments": {},
   "cell_type": "markdown",
   "metadata": {},
   "source": [
    "Spouští se příkazem `%lprun -f funkce_k_profilovani funkce_k_profilovani(parametry)`\n",
    "- parametr `-f` určuje funkci, kterou chceme profilovat (může jich být více)\n",
    "- parametr `-u` určuje jednotku času ve výstupu"
   ]
  },
  {
   "cell_type": "code",
   "execution_count": null,
   "metadata": {},
   "outputs": [],
   "source": [
    "%lprun -u 1e-6 -f code_setup -f heavy_loop -f heavy_calc code_setup()"
   ]
  },
  {
   "attachments": {},
   "cell_type": "markdown",
   "metadata": {},
   "source": [
    "## Moderní, rychlý all-in-one profiler: Scalene\n",
    "Scalene oproti předchozím umožňuje profilovat jak řádky tak funkce a navíc přidává i profilování paměti. (A GPU pokud používáme)"
   ]
  },
  {
   "attachments": {},
   "cell_type": "markdown",
   "metadata": {},
   "source": [
    "Vyžaduje instalaci pomocí `pip install scalene`\n",
    "\n",
    "Spouští se příkazem `scalene script.py`"
   ]
  },
  {
   "cell_type": "code",
   "execution_count": null,
   "metadata": {},
   "outputs": [],
   "source": [
    "%%writefile code_profile_test.py\n",
    "def heavy_calc(X):\n",
    "    Y = X.copy()\n",
    "    for i in range(10):\n",
    "        Y = Y**i\n",
    "    return Y\n",
    "\n",
    "def heavy_loop(inputs):\n",
    "    res = []\n",
    "    for X in inputs:\n",
    "        res.append(heavy_calc(X))\n",
    "    return res\n",
    "\n",
    "def code_setup():\n",
    "    from numpy.random import rand\n",
    "    N = 20\n",
    "    M = 1000\n",
    "    print(\"Will generate {} random arrays\".format(N))\n",
    "    inputs = [rand(M, M) for n in range(N)]\n",
    "    print(\"Will calculate now\")\n",
    "    result = heavy_loop(inputs)\n",
    "    print(\"Finished calculation\")\n",
    "\n",
    "code_setup()"
   ]
  },
  {
   "cell_type": "code",
   "execution_count": null,
   "metadata": {},
   "outputs": [],
   "source": [
    "!!scalene code_profile_test.py"
   ]
  },
  {
   "cell_type": "code",
   "execution_count": null,
   "metadata": {},
   "outputs": [],
   "source": [
    "%load_ext scalene"
   ]
  },
  {
   "cell_type": "code",
   "execution_count": null,
   "metadata": {},
   "outputs": [],
   "source": [
    "%%scalene\n",
    "def heavy_calc(X):\n",
    "    Y = X.copy()\n",
    "    for i in range(10):\n",
    "        Y = Y**i\n",
    "    return Y\n",
    "\n",
    "def heavy_loop(inputs):\n",
    "    res = []\n",
    "    for X in inputs:\n",
    "        res.append(heavy_calc(X))\n",
    "    return res\n",
    "\n",
    "def code_setup():\n",
    "    from numpy.random import rand\n",
    "    N = 20\n",
    "    M = 1000\n",
    "    print(\"Will generate {} random arrays\".format(N))\n",
    "    inputs = [rand(M, M) for n in range(N)]\n",
    "    print(\"Will calculate now\")\n",
    "    result = heavy_loop(inputs)\n",
    "    print(\"Finished calculation\")\n",
    "\n",
    "code_setup()"
   ]
  }
 ],
 "metadata": {
  "kernelspec": {
   "display_name": "Python 3",
   "language": "python",
   "name": "python3"
  },
  "language_info": {
   "codemirror_mode": {
    "name": "ipython",
    "version": 3
   },
   "file_extension": ".py",
   "mimetype": "text/x-python",
   "name": "python",
   "nbconvert_exporter": "python",
   "pygments_lexer": "ipython3",
   "version": "3.12.3"
  },
  "orig_nbformat": 4
 },
 "nbformat": 4,
 "nbformat_minor": 2
}
