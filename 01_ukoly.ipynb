{
 "cells": [
  {
   "attachments": {},
   "cell_type": "markdown",
   "metadata": {},
   "source": [
    "Úlohy:\n",
    "\n",
    "Proměnné a datové typy:\n",
    "\n",
    "Vytvoř proměnnou a nastav jí na hodnotu svého jména.\n",
    "Vytvoř proměnnou s celým číslem a druhou s desetinným číslem.\n",
    "Spoj obě proměnné do jednoho řetězce a výsledek ulož do nové proměnné.\n",
    "\n",
    "Operátory:\n",
    "\n",
    "Vytvoř dvě proměnné s hodnotami 5 a 3.\n",
    "Proveď s nimi aritmetické operace (sčítání, odčítání, násobení, dělení).\n",
    "Proveď operace porovnání (větší než, menší než, rovno).\n",
    "\n",
    "Klíčová slova a vestavěné funkce:\n",
    "\n",
    "Vytvoř proměnnou s řetězcem \"Hello, World!\".\n",
    "Použij funkci print() k vypsání této proměnné.\n",
    "Použij funkci len() k zjištění délky řetězce.\n",
    "Použij funkci str() k převodu celého čísla na řetězec.\n",
    "\n",
    "Funkce:\n",
    "\n",
    "Vytvoř funkci, která přijme dva argumenty a vrátí součin těchto hodnot.\n",
    "Volání této funkce s hodnotami 5 a 3.\n",
    "\n",
    "Podmínky a cykly:\n",
    "\n",
    "Vytvoř podmínku, která vypíše \"Číslo je větší než 5\" pokud je vstupní hodnota větší než 5.\n",
    "Vytvoř cyklus for, který vypíše čísla od 1 do 10.\n",
    "Vytvoř cyklus while, který bude vypisovat čísla od 1 do 5 dokud není splněna určitá podmínka."
   ]
  },
  {
   "cell_type": "code",
   "execution_count": null,
   "metadata": {},
   "outputs": [],
   "source": []
  },
  {
   "cell_type": "markdown",
   "metadata": {},
   "source": []
  }
 ],
 "metadata": {
  "kernelspec": {
   "display_name": "Python 3",
   "language": "python",
   "name": "python3"
  },
  "language_info": {
   "name": "python",
   "version": "3.10.9"
  },
  "orig_nbformat": 4,
  "vscode": {
   "interpreter": {
    "hash": "e7370f93d1d0cde622a1f8e1c04877d8463912d04d973331ad4851f04de6915a"
   }
  }
 },
 "nbformat": 4,
 "nbformat_minor": 2
}
