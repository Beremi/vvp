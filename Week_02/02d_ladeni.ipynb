{
 "cells": [
  {
   "attachments": {},
   "cell_type": "markdown",
   "metadata": {},
   "source": [
    "# Debugování (ladění) v Pythonu\n",
    "\n",
    "V Pythonu existuje velké množství nástrojů pro ladění. Lze například ladit přímo v příkazové řádce pomocí příkazu `pdb` nebo pomocí *IPython debuggeru* `%debug`.\n",
    "\n",
    "My si však ukážeme integraci ladění přímo v editoru VS Code. (Funkcionalita ladění v editoru VS Code není fundamentálně jiná než v příkazové řádce, ale je příjemnější a přehlednější.)\n"
   ]
  },
  {
   "attachments": {},
   "cell_type": "markdown",
   "metadata": {},
   "source": [
    "## Breakpointy\n",
    "\n",
    "Zkuste si spustit následující kód. Skončí na nezachycené chybě.\n",
    "\n",
    "- Vidíme, že se program zastavil na řádku 5 ve funkci `divide_numbers`.\n",
    "- Pokud klikneme na levo od čísla řádku, vytvoříme breakpoint (červená tečka).\n",
    "\n",
    " Pokud nyní spustíme kód v debug módu (rozklikněte možnosti u šipky play v levém horním rohu buňky) nebo `Alt+Ctrl+Shift+Enter`, program se zastaví na breakpointu.\n",
    "\n",
    "Automaticky se otevře Debug mód (vlevo). Zde můžeme sledovat hodnoty proměnných, přehled breakpointů, hierarchii volání funkcí (Call Stack) a další.\n",
    "Dále uprostřed nahoře obrazovky je ovládací panel pro ladění, kde lze:\n",
    "- pokračovat v běhu programu (Continue) - `F5`\n",
    "- přeskočit na následující řádek - obejít funkci (Step Over) - `F10`\n",
    "- přeskočit dovnitř funkce (Step Into) - `F11`\n",
    "- přeskočit ven z funkce (Step Out) - `Shift+F11`\n",
    "- zastavit program (Stop) - `Shift+F5`\n",
    "\n",
    "Poslední ovládací prvek je tzv. Debug Console, kde můžeme zadávat Python kód (nebo příkazy pro ladění), tedy interaktivně pracovat/manipulovat s proměnnými v místě, kde program zastavil běh.\n"
   ]
  },
  {
   "cell_type": "code",
   "execution_count": null,
   "metadata": {
    "collapsed": false,
    "jupyter": {
     "outputs_hidden": false
    }
   },
   "outputs": [],
   "source": [
    "def divide_numbers(a, b):\n",
    "    c = a / b\n",
    "    return c\n",
    "\n",
    "divide_numbers(1, 0)"
   ]
  },
  {
   "cell_type": "markdown",
   "metadata": {},
   "source": [
    "Breakpointy jsou aktivní vždy když program spustíme v debug módu. Tedy i ty breakpointy, které jsme si nastavili v jiné buňce s kódem, případně přímo v jiném souboru se zdrojovým kódem."
   ]
  },
  {
   "cell_type": "code",
   "execution_count": null,
   "metadata": {},
   "outputs": [],
   "source": [
    "divide_numbers(1, 0)"
   ]
  },
  {
   "attachments": {},
   "cell_type": "markdown",
   "metadata": {},
   "source": [
    "## Speciální typy breakpointů ve VSCode\n",
    "\n",
    "Kromě jednoduchých breakpointů, které zastaví kód kdykoliv je program přijde na daný řádek, existují i speciální typy breakpointů, které zastaví kód jen v případě, že se splní určitá podmínka.\n",
    "- Breakpoint on Exception - automaticky zastaví program v případě, že se vyskytne vyjímka (exception)\n",
    "- Breakpoint Hit Count - automaticky zastaví program po určitém počtu navštívení daného řádku\n",
    "- Conditional Breakpoint - automaticky zastaví program v případě, že se splní určitá podmínka\n",
    "- Logpoint - automaticky vypíše předepsaný text a vybrané hodnoty do konzole vždy kdž se program dostane na daný řádek.\n"
   ]
  }
 ],
 "metadata": {
  "kernelspec": {
   "display_name": "Python 3",
   "language": "python",
   "name": "python3"
  },
  "language_info": {
   "codemirror_mode": {
    "name": "ipython",
    "version": 3
   },
   "file_extension": ".py",
   "mimetype": "text/x-python",
   "name": "python",
   "nbconvert_exporter": "python",
   "pygments_lexer": "ipython3",
   "version": "3.13.2"
  },
  "vscode": {
   "interpreter": {
    "hash": "e7370f93d1d0cde622a1f8e1c04877d8463912d04d973331ad4851f04de6915a"
   }
  }
 },
 "nbformat": 4,
 "nbformat_minor": 4
}
