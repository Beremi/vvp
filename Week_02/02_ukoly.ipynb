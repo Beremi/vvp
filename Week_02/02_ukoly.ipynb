{
 "cells": [
  {
   "attachments": {},
   "cell_type": "markdown",
   "metadata": {},
   "source": [
    "# Úlohy:\n",
    "\n",
    "## Proměnné a datové typy:\n"
   ]
  },
  {
   "cell_type": "markdown",
   "metadata": {},
   "source": [
    "1. Deklarujte proměnnou s názvem ``jmeno`` a přiřaďte jí řetězec s vaším jménem.\n"
   ]
  },
  {
   "cell_type": "code",
   "execution_count": null,
   "metadata": {},
   "outputs": [],
   "source": []
  },
  {
   "cell_type": "markdown",
   "metadata": {},
   "source": [
    "\n",
    "2. Vytiskněte typ proměnné ``jmeno``.\n"
   ]
  },
  {
   "cell_type": "code",
   "execution_count": null,
   "metadata": {},
   "outputs": [],
   "source": []
  },
  {
   "cell_type": "markdown",
   "metadata": {},
   "source": [
    "\n",
    "3. Deklarujte proměnnou ``vek`` a přiřaďte jí vaše číslo věku. Jaký typ bude mít tato proměnná?\n"
   ]
  },
  {
   "cell_type": "code",
   "execution_count": null,
   "metadata": {},
   "outputs": [],
   "source": []
  },
  {
   "cell_type": "markdown",
   "metadata": {},
   "source": [
    "\n",
    "4. Převeďte ``vek`` na typ float a uložte do nové proměnné ``vek_float``.\n"
   ]
  },
  {
   "cell_type": "code",
   "execution_count": null,
   "metadata": {},
   "outputs": [],
   "source": []
  },
  {
   "cell_type": "markdown",
   "metadata": {},
   "source": [
    "\n",
    "5. Vytiskněte hodnoty ``vek`` a ``vek_float``.\n"
   ]
  },
  {
   "cell_type": "code",
   "execution_count": null,
   "metadata": {},
   "outputs": [],
   "source": []
  },
  {
   "cell_type": "markdown",
   "metadata": {},
   "source": [
    "\n",
    "6. Deklarujte proměnnou ``seznam`` a přiřaďte jí list s třemi čísly.\n"
   ]
  },
  {
   "cell_type": "code",
   "execution_count": null,
   "metadata": {},
   "outputs": [],
   "source": []
  },
  {
   "cell_type": "markdown",
   "metadata": {},
   "source": [
    "\n",
    "7. Vytiskněte druhý prvek z listu ``seznam``.\n"
   ]
  },
  {
   "cell_type": "code",
   "execution_count": null,
   "metadata": {},
   "outputs": [],
   "source": []
  },
  {
   "cell_type": "markdown",
   "metadata": {},
   "source": [
    "\n",
    "8. Přidejte na konec listu ``seznam`` další číslo.\n"
   ]
  },
  {
   "cell_type": "code",
   "execution_count": null,
   "metadata": {},
   "outputs": [],
   "source": []
  },
  {
   "cell_type": "markdown",
   "metadata": {},
   "source": [
    "\n",
    "9. Vytiskněte délku listu ``seznam``.\n"
   ]
  },
  {
   "cell_type": "code",
   "execution_count": null,
   "metadata": {},
   "outputs": [],
   "source": []
  },
  {
   "cell_type": "markdown",
   "metadata": {},
   "source": [
    "\n",
    "10. Deklarujte proměnnou ``slovnik`` a přiřaďte jí slovník s páry klíč-hodnota, kde klíče budou řetězce \"jmeno\" a \"vek\" a hodnoty budou vaše jméno a věk.\n"
   ]
  },
  {
   "cell_type": "code",
   "execution_count": null,
   "metadata": {},
   "outputs": [],
   "source": []
  },
  {
   "cell_type": "markdown",
   "metadata": {},
   "source": [
    "\n",
    "11. Vytiskněte hodnotu s klíčem \"jmeno\" ze slovníku ``slovnik``.\n"
   ]
  },
  {
   "cell_type": "code",
   "execution_count": null,
   "metadata": {},
   "outputs": [],
   "source": []
  },
  {
   "cell_type": "markdown",
   "metadata": {},
   "source": [
    "\n",
    "12. Přidejte do slovníku ``slovnik`` další pár klíč-hodnota, kde klíč bude \"mesto\" a hodnota bude vaše rodné město.\n"
   ]
  },
  {
   "cell_type": "code",
   "execution_count": null,
   "metadata": {},
   "outputs": [],
   "source": []
  },
  {
   "cell_type": "markdown",
   "metadata": {},
   "source": [
    "\n",
    "13. Vytiskněte všechny klíče ze slovníku ``slovnik``.\n"
   ]
  },
  {
   "cell_type": "code",
   "execution_count": null,
   "metadata": {},
   "outputs": [],
   "source": []
  },
  {
   "cell_type": "markdown",
   "metadata": {},
   "source": [
    "\n",
    "14. Deklarujte proměnnou ``cislo`` a přiřaďte jí řetězec s číslem \"5\".\n"
   ]
  },
  {
   "cell_type": "code",
   "execution_count": null,
   "metadata": {},
   "outputs": [],
   "source": []
  },
  {
   "cell_type": "markdown",
   "metadata": {},
   "source": [
    "\n",
    "15. Převodte ``cislo`` na typ int a uložte do nové proměnné ``cislo_int``.\n"
   ]
  },
  {
   "cell_type": "code",
   "execution_count": null,
   "metadata": {},
   "outputs": [],
   "source": []
  },
  {
   "cell_type": "markdown",
   "metadata": {},
   "source": [
    "\n",
    "16. Vytiskněte hodnoty ``cislo`` a ``cislo_int``.\n"
   ]
  },
  {
   "cell_type": "code",
   "execution_count": null,
   "metadata": {},
   "outputs": [],
   "source": []
  },
  {
   "cell_type": "markdown",
   "metadata": {},
   "source": [
    "\n",
    "17. Deklarujte proměnnou ``boolean`` a přiřaďte jí hodnotu True.\n"
   ]
  },
  {
   "cell_type": "code",
   "execution_count": null,
   "metadata": {},
   "outputs": [],
   "source": []
  },
  {
   "cell_type": "markdown",
   "metadata": {},
   "source": [
    "\n",
    "18. Vytiskněte typ proměnné ``boolean``.\n"
   ]
  },
  {
   "cell_type": "code",
   "execution_count": null,
   "metadata": {},
   "outputs": [],
   "source": []
  },
  {
   "cell_type": "markdown",
   "metadata": {},
   "source": [
    "\n",
    "19. Deklarujte proměnnou ``prazdny_list`` a přiřaďte jí prázdný list.\n"
   ]
  },
  {
   "cell_type": "code",
   "execution_count": null,
   "metadata": {},
   "outputs": [],
   "source": []
  },
  {
   "cell_type": "markdown",
   "metadata": {},
   "source": [
    "\n",
    "20. Vytiskněte typ proměnné ``prazdny_list``.\n"
   ]
  },
  {
   "cell_type": "code",
   "execution_count": null,
   "metadata": {},
   "outputs": [],
   "source": []
  },
  {
   "cell_type": "markdown",
   "metadata": {},
   "source": [
    "\n",
    "21. Deklarujte proměnnou ``cislo1`` a přiřaďte jí číslo 5. Deklarujte proměnnou ``cislo2`` a přiřaďte jí číslo 5. Zkontrolujte pomocí funkce ``id()``, zda se obě proměnné odkazují na stejný objekt.\n"
   ]
  },
  {
   "cell_type": "code",
   "execution_count": null,
   "metadata": {},
   "outputs": [],
   "source": []
  },
  {
   "cell_type": "markdown",
   "metadata": {},
   "source": [
    "\n",
    "22. Deklarujte proměnnou ``retezec1`` a přiřaďte jí řetězec \"ahoj\". Deklarujte proměnnou ``retezec2`` a přiřaďte jí řetězec \"ahoj\". Zkontrolujte pomocí funkce ``id()``, zda se obě proměnné odkazují na stejný objekt.\n"
   ]
  },
  {
   "cell_type": "code",
   "execution_count": null,
   "metadata": {},
   "outputs": [],
   "source": []
  },
  {
   "cell_type": "markdown",
   "metadata": {},
   "source": [
    "\n",
    "23. Deklarujte proměnnou ``seznam1`` a přiřaďte jí seznam [1, 2, 3]. Deklarujte proměnnou ``seznam2`` a přiřaďte jí seznam [1, 2, 3]. Zkontrolujte pomocí funkce ``id()``, zda se obě proměnné odkazují na stejný objekt.\n"
   ]
  },
  {
   "cell_type": "code",
   "execution_count": null,
   "metadata": {},
   "outputs": [],
   "source": []
  },
  {
   "cell_type": "markdown",
   "metadata": {},
   "source": [
    "\n",
    "24. Deklarujte proměnnou ``slovnik1`` a přiřaďte jí slovník {\"jmeno\": \"Jan\", \"vek\": 30}. Deklarujte proměnnou ``slovnik2`` a přiřaďte jí ``slovnik1``. Zkontrolujte pomocí funkce ``id()``, zda se obě proměnné odkazují na stejný objekt.\n",
    "\n",
    "Modifikujte (přidáním záznamu) slovník ``slovnik1`` a zkontrolujte, zda se změna projeví i ve slovníku ``slovnik2``.\n"
   ]
  },
  {
   "cell_type": "code",
   "execution_count": null,
   "metadata": {},
   "outputs": [],
   "source": []
  },
  {
   "cell_type": "markdown",
   "metadata": {},
   "source": [
    "\n",
    "25. Vytvořte list ``seznam`` s čísly 1, 2, 3, 4, 5. Pomocí slicingu z něj vytvořte nový seznam ``novy_seznam`` s pouze sudými čísly.\n",
    "\n"
   ]
  },
  {
   "cell_type": "code",
   "execution_count": null,
   "metadata": {},
   "outputs": [],
   "source": []
  },
  {
   "cell_type": "markdown",
   "metadata": {},
   "source": [
    "\n",
    "26. Pokud změníte prvek v listu ``novy_seznam`` z minulé úlohy, změní se i prvek v listu ``seznam``? "
   ]
  },
  {
   "cell_type": "code",
   "execution_count": null,
   "metadata": {},
   "outputs": [],
   "source": []
  },
  {
   "cell_type": "markdown",
   "metadata": {},
   "source": [
    "\n",
    "27. Deklarujte proměnnou ``seznam`` a přiřaďte jí seznam [1, 2, 3]. Změňte hodnotu druhého prvku v seznamu ``seznam`` na 5. Ukažte, že změna hodnoty nemění ID objektu.\n"
   ]
  },
  {
   "cell_type": "code",
   "execution_count": null,
   "metadata": {},
   "outputs": [],
   "source": []
  },
  {
   "cell_type": "markdown",
   "metadata": {},
   "source": [
    "\n",
    "28. Deklarujte proměnnou ``retezec`` a přiřaďte jí řetězec \"ahoj\". Zkuste změnit první písmeno řetězce na \"A\"."
   ]
  },
  {
   "cell_type": "code",
   "execution_count": null,
   "metadata": {},
   "outputs": [],
   "source": []
  },
  {
   "attachments": {},
   "cell_type": "markdown",
   "metadata": {},
   "source": [
    "## Operátory:\n",
    "\n",
    "1. Vytvoř dvojice proměnných typů: int, float, str, bool, list."
   ]
  },
  {
   "cell_type": "code",
   "execution_count": null,
   "metadata": {},
   "outputs": [],
   "source": []
  },
  {
   "cell_type": "markdown",
   "metadata": {},
   "source": [
    "2. Postupně si ozkoušejte co dělají matematické operátory pro různé typy proměnných."
   ]
  },
  {
   "cell_type": "code",
   "execution_count": null,
   "metadata": {},
   "outputs": [],
   "source": []
  },
  {
   "cell_type": "markdown",
   "metadata": {},
   "source": [
    "3. Napište program, který spočítá absolutní hodnotu zadaného čísla (bez použití `abs()`, použíjte ternární operátor).\n"
   ]
  },
  {
   "cell_type": "code",
   "execution_count": null,
   "metadata": {},
   "outputs": [],
   "source": []
  },
  {
   "attachments": {},
   "cell_type": "markdown",
   "metadata": {},
   "source": [
    "\n",
    "## Klíčová slova a vestavěné funkce:\n",
    "\n",
    "1. Použij funkci `dir()` k zobrazení seznamu všech funkcí a proměnných pro různé typy/moduly."
   ]
  },
  {
   "cell_type": "code",
   "execution_count": null,
   "metadata": {},
   "outputs": [],
   "source": []
  },
  {
   "attachments": {},
   "cell_type": "markdown",
   "metadata": {},
   "source": [
    "## Funkce + Podmínky a cykly:\n",
    "\n",
    "1. Vytvoř funkci, která vrací faktoriál přirozeného čísla\n"
   ]
  },
  {
   "cell_type": "code",
   "execution_count": null,
   "metadata": {},
   "outputs": [],
   "source": []
  },
  {
   "cell_type": "markdown",
   "metadata": {},
   "source": [
    "2. Tutéž funkci napiš pomocí rekurze\n"
   ]
  },
  {
   "cell_type": "code",
   "execution_count": null,
   "metadata": {},
   "outputs": [],
   "source": []
  },
  {
   "cell_type": "markdown",
   "metadata": {},
   "source": [
    "3. Vytvoř funkci, která vrací průměr čísel v listu\n"
   ]
  },
  {
   "cell_type": "code",
   "execution_count": null,
   "metadata": {},
   "outputs": [],
   "source": []
  },
  {
   "cell_type": "markdown",
   "metadata": {},
   "source": [
    "4. Vytvoř funkci, která nalezne prvních n prvočísel"
   ]
  },
  {
   "cell_type": "code",
   "execution_count": null,
   "metadata": {},
   "outputs": [],
   "source": []
  },
  {
   "cell_type": "markdown",
   "metadata": {},
   "source": [
    "---\n",
    "# Ladění"
   ]
  },
  {
   "cell_type": "markdown",
   "metadata": {},
   "source": [
    "**Euklidův algoritmus pro výpočet největšího společného dělitele (NSD) dvou čísel**\n",
    "\n",
    "```Mějme dána dvě přirozená čísla, uložená v proměnných u a w.\n",
    "Dokud w není nulové, opakuj:\n",
    "  Do r ulož zbytek po dělení čísla u číslem w\n",
    "  Do u ulož w\n",
    "  Do w ulož r\n",
    "Konec algoritmu, v u je uložen největší společný dělitel původních čísel."
   ]
  },
  {
   "cell_type": "markdown",
   "metadata": {},
   "source": [
    "## Úkoly:\n",
    "\n",
    "- Dejte Breakpoint na řádek 3, spusťte buňku v debug módu a sledujte jak se mění hodnoty proměnných u a w (odkrokujte si celý algoritmus).\n",
    "\n",
    "- Vytvořte podmíněný breakpoint na řádku 5, který se zastaví až když bude w rovno 0.\n",
    "\n",
    "- Nastavte logovací breakpoint na řádek 5, který vypíše hodnoty proměnných u a w."
   ]
  },
  {
   "cell_type": "code",
   "execution_count": null,
   "metadata": {},
   "outputs": [],
   "source": [
    "def gcd(a, b):\n",
    "    # Euklidův algoritmus pro výpočet největšího společného dělitele (NSD) dvou čísel\n",
    "    u = a\n",
    "    w = b\n",
    "    while w != 0:\n",
    "        r = u % w\n",
    "        u = w\n",
    "        w = r\n",
    "    return u\n",
    "\n",
    "\n",
    "a = 2 * 2 * 3 * 5 * 7 * 11 * 13\n",
    "b = 2 * 3 * 3 * 7 * 17\n",
    "\n",
    "print(a)\n",
    "print(b)\n",
    "\n",
    "gcd(a, b)"
   ]
  }
 ],
 "metadata": {
  "kernelspec": {
   "display_name": "Python 3",
   "language": "python",
   "name": "python3"
  },
  "language_info": {
   "codemirror_mode": {
    "name": "ipython",
    "version": 3
   },
   "file_extension": ".py",
   "mimetype": "text/x-python",
   "name": "python",
   "nbconvert_exporter": "python",
   "pygments_lexer": "ipython3",
   "version": "3.13.2"
  },
  "orig_nbformat": 4,
  "vscode": {
   "interpreter": {
    "hash": "e7370f93d1d0cde622a1f8e1c04877d8463912d04d973331ad4851f04de6915a"
   }
  }
 },
 "nbformat": 4,
 "nbformat_minor": 2
}
