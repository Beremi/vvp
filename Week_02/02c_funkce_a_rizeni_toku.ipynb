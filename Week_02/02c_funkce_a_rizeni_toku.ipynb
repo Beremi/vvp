{
 "cells": [
  {
   "attachments": {},
   "cell_type": "markdown",
   "metadata": {},
   "source": [
    "# Klíčová slova\n",
    "\n",
    "    and       del       from      not       while\n",
    "    as        elif      global    or        with\n",
    "    assert    else      if        pass      yield\n",
    "    break     except    import    print\n",
    "    class     exec      in        raise\n",
    "    continue  finally   is        return\n",
    "    def       for       lambda    try\n",
    "\n",
    "Některá už známe, ostatní brzy poznáme, důležité je nepoužívat je jako názvy proměných."
   ]
  },
  {
   "attachments": {},
   "cell_type": "markdown",
   "metadata": {},
   "source": [
    "# Některé důležité vestavěné funkce \n",
    "Vestavěných funkcí, nebo [Built-in functions](http://docs.python.org/3/library/functions.html), je v Pythonu (v porovnání s jinými jazyky) minimum. Zde zmíníme některé z nich (s některými jsme se už setkali):\n",
    "\n",
    "* `dir` -- seznam jmen (funkcí, proměnných, metod) v daném kontextu\n",
    "* `eval` -- vrátí hodnotu výrazu zadanou řetězcem (to je možné, protože Python je interpretovaný jazyk)\n",
    "* `help` -- nápověda (neboli zobrazení 'docstring')\n",
    "* `len` -- délka (počet položek) proměnné (řetězce, pole apod.)\n",
    "* `open` -- otevření souboru\n",
    "* `print` -- výpis řetězce do stream\n",
    "* `input` -- načtení vstupu od uživatele (stdin)\n",
    "* `str`, `repr` -- text reprezentující daný objekt\n",
    "* `type` -- vrátí typ argumentu\n",
    "\n",
    "S těmito a dalšími vestavěnými funkcemi se brzy blíže seznámíme."
   ]
  },
  {
   "attachments": {},
   "cell_type": "markdown",
   "metadata": {},
   "source": [
    "# Funkce v Pythonu\n",
    "Máme základní dva typy jak definovat vlastní funkci v pythonu. První je funkce definovaná pomocí klíčového slova `def`, druhý je lambda funkce (neboli tzv. anonymní funkce).\n",
    "\n",
    "## Funkce\n",
    "- Funkce v Pythonu jsou definovány klíčovým slovem `def`\n",
    "- následuje jméno funkce\n",
    "- parametry jsou definovány v závorkách za jménem funkce, oddělené čárkou\n",
    "    - parametry mohou mít defaultní hodnotu, toto se definuje pomocí `=` za jménem parametru\n",
    "- vnitřek funkce je odsazený\n",
    "- návratová hodnota se vrací pomocí klíčového slova `return`\n",
    "    - funkce vždy vrací formálně pouze jednu hodnotu, ale může vracet libovolný objekt (např. seznam, slovník, ...)\n",
    "    - v případě, že chceme vrátit více hodnot, můžeme použít tzv. tuple, tedy zabalit všechny výstupové hodnoty do jednoho objektu\n",
    "    - pokud funkce neobsahuje klíčové slovo `return`, vrací `None`"
   ]
  },
  {
   "cell_type": "code",
   "execution_count": null,
   "metadata": {},
   "outputs": [],
   "source": [
    "# ukázka jednoduché funkce pro sečtení dvou čísel\n",
    "def secti(a, b):\n",
    "    return a + b\n",
    "\n",
    "a = 3\n",
    "b = 4\n",
    "c = secti(a, b)\n",
    "print(c)\n",
    "print(secti(a, b))\n",
    "print(secti(3, 4))"
   ]
  },
  {
   "attachments": {},
   "cell_type": "markdown",
   "metadata": {},
   "source": [
    "Připomínáme, že v Pythonu je vše objekt..."
   ]
  },
  {
   "cell_type": "code",
   "execution_count": null,
   "metadata": {},
   "outputs": [],
   "source": [
    "def secti(a, b):\n",
    "    return a + b\n",
    "\n",
    "print(type(secti))\n",
    "print(id(secti))\n",
    "nove_secti = secti\n",
    "print(nove_secti(3, 4))\n",
    "print(type(nove_secti))\n",
    "print(id(nove_secti))"
   ]
  },
  {
   "cell_type": "code",
   "execution_count": null,
   "metadata": {},
   "outputs": [],
   "source": [
    "# funkce vracející více proměnných\n",
    "def secti_odecti(a, b):\n",
    "    return a + b, a - b\n",
    "\n",
    "a = 3\n",
    "b = 4\n",
    "c, d = secti_odecti(a, b)\n",
    "print(c, d)\n",
    "print(secti_odecti(a, b))"
   ]
  },
  {
   "cell_type": "code",
   "execution_count": null,
   "metadata": {},
   "outputs": [],
   "source": [
    "# funkce s defaultní hodnotou parametru\n",
    "def secti(a, b=1):\n",
    "    return a + b\n",
    "\n",
    "a = 3\n",
    "b = 4\n",
    "c = secti(a, b)\n",
    "print(c)\n",
    "\n"
   ]
  },
  {
   "attachments": {},
   "cell_type": "markdown",
   "metadata": {},
   "source": [
    "## Rekurze\n",
    "Rekurze znamená, že pro výpočet funkce volá samu sebe."
   ]
  },
  {
   "cell_type": "code",
   "execution_count": null,
   "metadata": {},
   "outputs": [],
   "source": [
    "# funkce počítající sumu čísel 1 až n\n",
    "def suma_n(n):\n",
    "    print(\"Vstoupil jsem do funkce s parametrem n = \", n)\n",
    "    # bez ifu se v rekurzi neobejdeme, vysvětlíme si ho později\n",
    "    if n == 1:\n",
    "        return 1\n",
    "    return suma_n(n - 1) + n\n",
    "\n",
    "print(suma_n(5))"
   ]
  },
  {
   "attachments": {},
   "cell_type": "markdown",
   "metadata": {},
   "source": [
    "# Podmínky a řízení toku\n",
    "- if/elif/else\n",
    "- for\n",
    "\n",
    "## if/elif/else\n",
    "- `if` &ensp; podmínka:\n",
    "- `elif` &ensp; podmínka:\n",
    "- `else`:\n"
   ]
  },
  {
   "cell_type": "code",
   "execution_count": null,
   "metadata": {},
   "outputs": [],
   "source": [
    "# ukázka if else syntaxe\n",
    "x = 3\n",
    "y = 4\n",
    "z = 5\n",
    "if x > y:\n",
    "    if x > z:\n",
    "        max_value = x\n",
    "    else:\n",
    "        max_value = z\n",
    "else:\n",
    "    if y > z:\n",
    "        max_value = y\n",
    "    else:\n",
    "        max_value = z\n",
    "    \n",
    "print(max_value)"
   ]
  },
  {
   "cell_type": "code",
   "execution_count": null,
   "metadata": {},
   "outputs": [],
   "source": [
    "# ukázka s elif\n",
    "x = 3\n",
    "y = 4\n",
    "z = 5\n",
    "if x > y:\n",
    "    if x > z:\n",
    "        max_value = x\n",
    "    else:\n",
    "        max_value = z\n",
    "elif y > z:\n",
    "    max_value = y\n",
    "else:\n",
    "    max_value = z   \n",
    "    \n",
    "print(max_value)"
   ]
  },
  {
   "attachments": {},
   "cell_type": "markdown",
   "metadata": {},
   "source": [
    "Za klíčovým slovem `if` následuje tzv. podmínka. Podmínka není nic jiného nežli výraz vracející `True` nebo `False`. Toto může mýt složitý výraz s pomocí operátorů `and`, `or`, `not` a dalších, nebo klidně výstup funkce."
   ]
  },
  {
   "cell_type": "code",
   "execution_count": null,
   "metadata": {},
   "outputs": [],
   "source": [
    "# ukázka s komplexní podmínkou\n",
    "x = 3\n",
    "y = 4\n",
    "z = 5\n",
    "\n",
    "if x > y and x > z:\n",
    "    max_value = x\n",
    "\n",
    "if y > x and y > z:\n",
    "    max_value = y\n",
    "\n",
    "if z > x and z > y:\n",
    "    max_value = z   \n",
    "\n",
    "print(max_value)\n"
   ]
  },
  {
   "cell_type": "code",
   "execution_count": null,
   "metadata": {},
   "outputs": [],
   "source": [
    "# ukázka kde podmínku zajistí funkce\n",
    "x = 3\n",
    "y = 4\n",
    "z = 5\n",
    "\n",
    "def podminka(x, y, z):\n",
    "    return x > y and x > z\n",
    "\n",
    "if podminka(x, y, z):\n",
    "    max_value = x\n",
    "\n",
    "if podminka(y, x, z):\n",
    "    max_value = y\n",
    "\n",
    "if podminka(z, x, y):\n",
    "    max_value = z\n",
    "    \n",
    "print(max_value)\n"
   ]
  },
  {
   "attachments": {},
   "cell_type": "markdown",
   "metadata": {},
   "source": [
    "## for cyklus\n",
    "- `for` &ensp; proměnná &ensp; `in` &ensp; seznam:\n",
    "    - seznam může být jakýkoliv iterovatelný objekt (např. seznam, řetězec, soubor, slovník, ...)\n",
    "- `else`:\n",
    "   - `else` se provede, pokud cyklus skončí bez `break`u\n",
    "- `break` &ensp; \n",
    "   - &ensp; ukončení cyklu\n",
    "- `continue` &ensp; \n",
    "   - &ensp; přeskočení zbytku kódu v aktuální iteraci a pokračování v další iteraci\n",
    "- `pass` &ensp; \n",
    "   - cyklus nesmí být prázdný, pokud něco například testujeme, ale ještě nevím co v cyklu budeme dělat, použijeme `pass`\n"
   ]
  },
  {
   "cell_type": "code",
   "execution_count": null,
   "metadata": {},
   "outputs": [],
   "source": [
    "# ukázka for cyklu\n",
    "můj_list = [1, 2, 3, 4, 5]\n",
    "for item in můj_list:\n",
    "    print(item)"
   ]
  },
  {
   "cell_type": "code",
   "execution_count": null,
   "metadata": {},
   "outputs": [],
   "source": [
    "# ukázka for cyklu s else\n",
    "for item in range(5):\n",
    "    print(item)\n",
    "else:\n",
    "    print(\"cyklus dokončen\")"
   ]
  },
  {
   "cell_type": "code",
   "execution_count": null,
   "metadata": {},
   "outputs": [],
   "source": [
    "# ukázka for cyklu s break\n",
    "for item in range(5):\n",
    "    print(item)\n",
    "    if item == 2:\n",
    "        break"
   ]
  },
  {
   "cell_type": "code",
   "execution_count": null,
   "metadata": {},
   "outputs": [],
   "source": [
    "# ukázka for cyklu s continue\n",
    "for item in range(5):\n",
    "    print(item)\n",
    "    if item == 2:\n",
    "        continue\n",
    "    print(\"potom continue\")"
   ]
  },
  {
   "cell_type": "code",
   "execution_count": null,
   "metadata": {},
   "outputs": [],
   "source": [
    "# ukázka prázdného cyklu\n",
    "for item in range(5):\n",
    "    pass"
   ]
  }
 ],
 "metadata": {
  "kernelspec": {
   "display_name": "Python 3",
   "language": "python",
   "name": "python3"
  },
  "language_info": {
   "codemirror_mode": {
    "name": "ipython",
    "version": 3
   },
   "file_extension": ".py",
   "mimetype": "text/x-python",
   "name": "python",
   "nbconvert_exporter": "python",
   "pygments_lexer": "ipython3",
   "version": "3.13.2"
  },
  "orig_nbformat": 4,
  "vscode": {
   "interpreter": {
    "hash": "e7370f93d1d0cde622a1f8e1c04877d8463912d04d973331ad4851f04de6915a"
   }
  }
 },
 "nbformat": 4,
 "nbformat_minor": 2
}
