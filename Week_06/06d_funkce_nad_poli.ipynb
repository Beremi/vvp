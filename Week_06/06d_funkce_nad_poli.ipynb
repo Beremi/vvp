{
    "cells": [
        {
            "attachments": {},
            "cell_type": "markdown",
            "metadata": {},
            "source": [
                "# Importujeme numpy\n",
                "\n",
                "Chceme-li použít `numpy`, je samozřejmě nutné modul importovat. Obvykle se použivá zkratka `np`: \n"
            ]
        },
        {
            "cell_type": "code",
            "execution_count": null,
            "metadata": {
                "jupyter": {
                    "outputs_hidden": false
                }
            },
            "outputs": [],
            "source": [
                "import numpy as np\n"
            ]
        },
        {
            "attachments": {},
            "cell_type": "markdown",
            "metadata": {},
            "source": [
                "## Zpracování dat\n",
                "\n",
                "Numpy obsahuje mnoho funkcí pro zpracování dat. Některé z nich jsou:\n",
                "- `np.sort` - seřadí pole\n",
                "- `np.unique` - vrátí unikátní prvky pole\n",
                "- `np.mean` - vypočítá průměr\n",
                "- `np.std` - vypočítá směrodatnou odchylku\n",
                "- `np.sum` - vypočítá součet\n",
                "- `np.cumsum` - vypočítá kumulativní součet\n",
                "- `np.prod` - vypočítá součin\n",
                "- `np.cumprod` - vypočítá kumulativní součin\n",
                "- `np.diff` - vypočítá rozdíly mezi sousedními prvky\n",
                "- ... a mnoho dalších viz [matematické funkce](https://docs.scipy.org/doc/numpy/reference/routines.math.html) a [statistické funcke](https://docs.scipy.org/doc/numpy/reference/routines.statistics.html) "
            ]
        },
        {
            "cell_type": "code",
            "execution_count": null,
            "metadata": {
                "jupyter": {
                    "outputs_hidden": false
                }
            },
            "outputs": [],
            "source": [
                "data = np.random.randint(0, 20, (15))\n",
                "print(data)\n"
            ]
        },
        {
            "attachments": {},
            "cell_type": "markdown",
            "metadata": {},
            "source": [
                "Setřízené a unikátní prvky pole získáme pomocí `np.sort` a `np.unique`."
            ]
        },
        {
            "cell_type": "code",
            "execution_count": null,
            "metadata": {},
            "outputs": [],
            "source": [
                "print(np.sort(data))\n",
                "print(np.unique(data))\n",
                "# pokud bychom chtěli indexy setříděných prvků\n",
                "print(np.argsort(data))\n"
            ]
        },
        {
            "cell_type": "markdown",
            "metadata": {},
            "source": [
                "#### mean (aritmetický průměr)"
            ]
        },
        {
            "cell_type": "code",
            "execution_count": null,
            "metadata": {
                "jupyter": {
                    "outputs_hidden": false
                }
            },
            "outputs": [],
            "source": [
                "print(np.mean(data))"
            ]
        },
        {
            "attachments": {},
            "cell_type": "markdown",
            "metadata": {},
            "source": [
                "#### směrodatná odchylka a rozptyl"
            ]
        },
        {
            "cell_type": "code",
            "execution_count": null,
            "metadata": {
                "jupyter": {
                    "outputs_hidden": false
                }
            },
            "outputs": [],
            "source": [
                "print(np.std(data))\n",
                "print(np.var(data))\n"
            ]
        },
        {
            "cell_type": "markdown",
            "metadata": {},
            "source": [
                "#### min a max"
            ]
        },
        {
            "cell_type": "code",
            "execution_count": null,
            "metadata": {
                "jupyter": {
                    "outputs_hidden": false
                }
            },
            "outputs": [],
            "source": [
                "print(data.min())\n",
                "print(data.max())\n"
            ]
        },
        {
            "cell_type": "markdown",
            "metadata": {},
            "source": [
                "#### sum, prod, trace"
            ]
        },
        {
            "cell_type": "code",
            "execution_count": null,
            "metadata": {
                "jupyter": {
                    "outputs_hidden": false
                }
            },
            "outputs": [],
            "source": [
                "print(np.sum(data))\n",
                "print(np.prod(data))\n"
            ]
        },
        {
            "cell_type": "code",
            "execution_count": null,
            "metadata": {
                "jupyter": {
                    "outputs_hidden": false
                }
            },
            "outputs": [],
            "source": [
                "# lze dělat i řádkové a sloupcové součty\n",
                "A = np.array([[1, 2, 3], [4, 5, 6], [7, 8, 9]])\n",
                "print(A)\n",
                "print(np.sum(A, axis=0))\n",
                "print(np.sum(A, axis=1))\n"
            ]
        },
        {
            "cell_type": "code",
            "execution_count": null,
            "metadata": {},
            "outputs": [],
            "source": [
                "# stopa matice = součet prvků na diagonále\n",
                "print(np.trace(A))"
            ]
        },
        {
            "cell_type": "code",
            "execution_count": null,
            "metadata": {},
            "outputs": [],
            "source": [
                "print(data)"
            ]
        },
        {
            "cell_type": "code",
            "execution_count": null,
            "metadata": {
                "jupyter": {
                    "outputs_hidden": false
                }
            },
            "outputs": [],
            "source": [
                "# kumulativní součet\n",
                "np.cumsum(data)\n"
            ]
        },
        {
            "cell_type": "code",
            "execution_count": null,
            "metadata": {
                "jupyter": {
                    "outputs_hidden": false
                }
            },
            "outputs": [],
            "source": [
                "# kumulativní násobení\n",
                "np.cumprod(data)\n"
            ]
        },
        {
            "cell_type": "markdown",
            "metadata": {},
            "source": [
                "## Iterace\n",
                "\n",
                "Obecně se iteraci vyhýbáme a přednost dáváme vektorovým operacím (viz níže). Někdy je ale iterace nevyhnutelná."
            ]
        },
        {
            "cell_type": "code",
            "execution_count": null,
            "metadata": {
                "jupyter": {
                    "outputs_hidden": false
                }
            },
            "outputs": [],
            "source": [
                "v = np.array([1, 2, 3, 4])\n",
                "\n",
                "for element in v:\n",
                "    print(element)\n"
            ]
        },
        {
            "cell_type": "markdown",
            "metadata": {},
            "source": [
                "Iteruje se přes první index (po řádcích)."
            ]
        },
        {
            "cell_type": "code",
            "execution_count": null,
            "metadata": {
                "jupyter": {
                    "outputs_hidden": false
                }
            },
            "outputs": [],
            "source": [
                "M = np.array([[1, 2], [3, 4]])\n",
                "\n",
                "for row in M:\n",
                "    print(f\"row: {row}\")\n"
            ]
        },
        {
            "attachments": {},
            "cell_type": "markdown",
            "metadata": {},
            "source": [
                "# Vektorové funkce\n",
                "\n",
                "Jak jsme již říkali, vektorové (vektorizované) funkce jsou obecně daleko rychlejší než iterace. Numpy nám naštěstí cestu od skalární po vektorovou funkci usnadňuje."
            ]
        },
        {
            "cell_type": "code",
            "execution_count": null,
            "metadata": {
                "jupyter": {
                    "outputs_hidden": false
                }
            },
            "outputs": [],
            "source": [
                "def Theta(x):\n",
                "    \"\"\"\n",
                "    Scalar implemenation of the Heaviside step function.\n",
                "    \"\"\"\n",
                "    if x >= 0:\n",
                "        return 1\n",
                "    else:\n",
                "        return 0\n"
            ]
        },
        {
            "cell_type": "code",
            "execution_count": null,
            "metadata": {
                "jupyter": {
                    "outputs_hidden": false
                }
            },
            "outputs": [],
            "source": [
                "# toto bychom chtěli, ale asi to nebude fungovat\n",
                "# Theta(np.array([-3, -2, -1, 0, 1, 2, 3]))\n"
            ]
        },
        {
            "cell_type": "markdown",
            "metadata": {},
            "source": [
                "Pro vektorizaci naší funkce nám Numpy nabízí `vectorize`."
            ]
        },
        {
            "cell_type": "code",
            "execution_count": null,
            "metadata": {
                "jupyter": {
                    "outputs_hidden": false
                }
            },
            "outputs": [],
            "source": [
                "Theta_vec = np.vectorize(Theta)\n"
            ]
        },
        {
            "cell_type": "code",
            "execution_count": null,
            "metadata": {
                "jupyter": {
                    "outputs_hidden": false
                }
            },
            "outputs": [],
            "source": [
                "Theta_vec(np.array([-3, -2, -1, 0, 1, 2, 3]))\n"
            ]
        },
        {
            "cell_type": "markdown",
            "metadata": {},
            "source": [
                "To bylo celkem snadné ... Můžeme také (a pokud to jde tak bychom měli) přepsat naši funkci tak, aby fungovala jak pro skaláry tak pro pole."
            ]
        },
        {
            "cell_type": "code",
            "execution_count": null,
            "metadata": {
                "jupyter": {
                    "outputs_hidden": false
                }
            },
            "outputs": [],
            "source": [
                "def Theta_numpy(x):\n",
                "    \"\"\"\n",
                "    Vector-aware implemenation of the Heaviside step function.\n",
                "    \"\"\"\n",
                "    return 1.0 * (x >= 0)\n"
            ]
        },
        {
            "cell_type": "code",
            "execution_count": null,
            "metadata": {
                "jupyter": {
                    "outputs_hidden": false
                }
            },
            "outputs": [],
            "source": [
                "Theta_numpy(np.array([-3, -2, -1, 0, 1, 2, 3]))\n"
            ]
        },
        {
            "cell_type": "code",
            "execution_count": null,
            "metadata": {
                "jupyter": {
                    "outputs_hidden": false
                }
            },
            "outputs": [],
            "source": [
                "# funguje i pro skalár\n",
                "Theta_numpy(-1.2), Theta_numpy(2.6)\n"
            ]
        },
        {
            "cell_type": "markdown",
            "metadata": {},
            "source": [
                "Pojďme zkusit porovnat rychlost vektorizovaných funkcí. Tipnete si která bude rychlejší, případně jak moc rychlejší?"
            ]
        },
        {
            "cell_type": "code",
            "execution_count": null,
            "metadata": {},
            "outputs": [],
            "source": [
                "randvec = np.random.random_sample((10000)) * 2000 - 1000\n"
            ]
        },
        {
            "cell_type": "code",
            "execution_count": null,
            "metadata": {},
            "outputs": [],
            "source": [
                "%timeit Theta_vec(randvec)\n"
            ]
        },
        {
            "cell_type": "code",
            "execution_count": null,
            "metadata": {},
            "outputs": [],
            "source": [
                "%timeit Theta_numpy(randvec)\n"
            ]
        },
        {
            "attachments": {},
            "cell_type": "markdown",
            "metadata": {},
            "source": [
                "# Používání polí v podmínkách\n",
                "Pokud chceme testovat po prvcích, v podmínkách pak použijeme metody `all` nebo `any`."
            ]
        },
        {
            "cell_type": "code",
            "execution_count": null,
            "metadata": {
                "jupyter": {
                    "outputs_hidden": false
                }
            },
            "outputs": [],
            "source": [
                "M = np.array([[1, 2, 3], [4, 5, 6], [7, 8, 9]])\n"
            ]
        },
        {
            "cell_type": "code",
            "execution_count": null,
            "metadata": {
                "jupyter": {
                    "outputs_hidden": false
                }
            },
            "outputs": [],
            "source": [
                "# výsledkem M > 5 je pole boolovských hodnot\n",
                "M > 5\n"
            ]
        },
        {
            "cell_type": "code",
            "execution_count": null,
            "metadata": {
                "jupyter": {
                    "outputs_hidden": false
                }
            },
            "outputs": [],
            "source": [
                "if (M > 5).any():\n",
                "    print(\"M obsahuje alespoň jeden prvek větší než 5\")\n",
                "else:\n",
                "    print(\"M neobsahuje žádný prvek větší než 5\")\n"
            ]
        },
        {
            "cell_type": "code",
            "execution_count": null,
            "metadata": {
                "jupyter": {
                    "outputs_hidden": false
                }
            },
            "outputs": [],
            "source": [
                "if (M > 5).all():\n",
                "    print(\"všechny prvky v M jsou větší než 5\")\n",
                "else:\n",
                "    print(\"M obsahuje alespoň jeden prvek menší rovno 5\")\n"
            ]
        },
        {
            "cell_type": "markdown",
            "metadata": {},
            "source": [
                "## Další čtení"
            ]
        },
        {
            "cell_type": "markdown",
            "metadata": {},
            "source": [
                "* https://numpy.org/\n",
                "* https://jakevdp.github.io/PythonDataScienceHandbook/02.00-introduction-to-numpy.html\n",
                "* http://www.labri.fr/perso/nrougier/teaching/numpy.100/index.html"
            ]
        },
        {
            "cell_type": "code",
            "execution_count": null,
            "metadata": {},
            "outputs": [],
            "source": []
        }
    ],
    "metadata": {
        "kernelspec": {
            "display_name": "Python 3",
            "language": "python",
            "name": "python3"
        },
        "language_info": {
            "codemirror_mode": {
                "name": "ipython",
                "version": 3
            },
            "file_extension": ".py",
            "mimetype": "text/x-python",
            "name": "python",
            "nbconvert_exporter": "python",
            "pygments_lexer": "ipython3",
            "version": "3.11.7"
        }
    },
    "nbformat": 4,
    "nbformat_minor": 4
}
