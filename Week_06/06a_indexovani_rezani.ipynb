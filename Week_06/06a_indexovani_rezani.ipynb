{
    "cells": [
        {
            "attachments": {},
            "cell_type": "markdown",
            "metadata": {},
            "source": [
                "V této lekci projdeme:\n",
                "- Indexování a slicing `numpy` polí.\n",
                "- Co je to `numpy` array view?\n",
                "- Broadcasting.\n",
                "- Elementwise operace.\n",
                "- Maticové operace."
            ]
        },
        {
            "attachments": {},
            "cell_type": "markdown",
            "metadata": {},
            "source": [
                "Tento notebook s úctou vykrádá:  [Lectures on scientific computing with Python](http://github.com/jrjohansson/scientific-python-lectures) a [numerical_python_course](https://gitlab.com/coobas/numerical_python_course)"
            ]
        },
        {
            "attachments": {},
            "cell_type": "markdown",
            "metadata": {},
            "source": [
                "# Importujeme numpy\n",
                "\n",
                "Chceme-li použít `numpy`, je samozřejmě nutné modul importovat. Obvykle se použivá zkratka `np`: \n"
            ]
        },
        {
            "cell_type": "code",
            "execution_count": 1,
            "metadata": {
                "jupyter": {
                    "outputs_hidden": false
                }
            },
            "outputs": [],
            "source": [
                "import numpy as np\n"
            ]
        },
        {
            "attachments": {},
            "cell_type": "markdown",
            "metadata": {},
            "source": [
                "# Indexování a řezání\n",
                "Řezání (tzv. slicing) jsme si již ukazovali při indexaci Listů. V NumPy polích funguje stejně. "
            ]
        },
        {
            "cell_type": "code",
            "execution_count": null,
            "metadata": {},
            "outputs": [],
            "source": [
                "vector = np.linspace(0, 3, 7)\n",
                "print(vector)\n",
                "print(vector[1])\n",
                "print(vector[1:4])\n",
                "print(vector[1:4:2])\n"
            ]
        },
        {
            "attachments": {},
            "cell_type": "markdown",
            "metadata": {},
            "source": [
                "Pokud máme více dimenzionální pole (ndarray), adresujeme jednotlivé dimenze pomocí čárky. Např. `a[1,2]` je prvek na druhém řádku a třetím sloupci (indexujeme od 0)."
            ]
        },
        {
            "cell_type": "code",
            "execution_count": null,
            "metadata": {},
            "outputs": [],
            "source": [
                "matrix = np.array([[1, 2, 3], [4, 5, 6], [7, 8, 9]])\n",
                "print(matrix)\n",
                "print(matrix[0, 1])\n",
                "print(matrix[0, :])\n",
                "print(matrix[:, 1])\n",
                "\n"
            ]
        },
        {
            "attachments": {},
            "cell_type": "markdown",
            "metadata": {},
            "source": [
                "Pokud indexujeme výběr jak v řádcích, tak v sloupcích, dostáváme výřez, který splňuje obě podmínky."
            ]
        },
        {
            "cell_type": "code",
            "execution_count": null,
            "metadata": {
                "jupyter": {
                    "outputs_hidden": false
                }
            },
            "outputs": [],
            "source": [
                "print(matrix[0:2, 1:3])\n"
            ]
        },
        {
            "attachments": {},
            "cell_type": "markdown",
            "metadata": {},
            "source": [
                "Pokud jeden index vynecháme, vrátí numpy N-1 rozměrný řez - zde vrací řádek:"
            ]
        },
        {
            "cell_type": "code",
            "execution_count": null,
            "metadata": {
                "jupyter": {
                    "outputs_hidden": false
                }
            },
            "outputs": [],
            "source": [
                "matrix[1]\n"
            ]
        },
        {
            "cell_type": "markdown",
            "metadata": {},
            "source": [
                "Toho samého docílíme pomocí `:`"
            ]
        },
        {
            "cell_type": "code",
            "execution_count": null,
            "metadata": {
                "jupyter": {
                    "outputs_hidden": false
                }
            },
            "outputs": [],
            "source": [
                "matrix[1, :]\n"
            ]
        },
        {
            "cell_type": "markdown",
            "metadata": {},
            "source": [
                "První sloupec:"
            ]
        },
        {
            "cell_type": "code",
            "execution_count": null,
            "metadata": {
                "jupyter": {
                    "outputs_hidden": false
                }
            },
            "outputs": [],
            "source": [
                "matrix[:, 1]\n"
            ]
        },
        {
            "cell_type": "code",
            "execution_count": null,
            "metadata": {},
            "outputs": [],
            "source": [
                "matrix[:]"
            ]
        },
        {
            "cell_type": "markdown",
            "metadata": {},
            "source": [
                "Můžeme také přiřazovat honoty do indexovaných polí."
            ]
        },
        {
            "cell_type": "code",
            "execution_count": null,
            "metadata": {
                "jupyter": {
                    "outputs_hidden": false
                }
            },
            "outputs": [],
            "source": [
                "matrix[0, 0] = -10\n",
                "print(matrix)\n"
            ]
        },
        {
            "attachments": {},
            "cell_type": "markdown",
            "metadata": {},
            "source": [
                "Funguje to i pro více prvků, pak máme dvě možnosti:\n",
                "- přiřadíme hodnotu, která se bude všude vyskytovat\n",
                "- přiřadíme pole stejných rozměrů jako je výřez"
            ]
        },
        {
            "cell_type": "code",
            "execution_count": null,
            "metadata": {
                "jupyter": {
                    "outputs_hidden": false
                }
            },
            "outputs": [],
            "source": [
                "matrix[1, :] = 0\n",
                "print(matrix)\n"
            ]
        },
        {
            "cell_type": "code",
            "execution_count": null,
            "metadata": {},
            "outputs": [],
            "source": [
                "matrix[:, 2] = np.array([1, 2, 3])\n",
                "print(matrix)"
            ]
        },
        {
            "attachments": {},
            "cell_type": "markdown",
            "metadata": {},
            "source": [
                "## Další možnosti řezání\n",
                "Zatím jsme si ukázali řezání v syntaxi `a[od:do:step]`, kde jsme uvažovali každý z parametrů jako celé kladné číslo. Řezy však umožňují i využití záporných čísel. Například:\n",
                "- `a[-1]` je poslední prvek\n",
                "- `a[-2]` je předposlední prvek\n",
                "- `a[:-1]` je vše kromě posledního prvku\n",
                "Déle můžeme uvažovat také záporné kroky, např. `a[::-1]` je všechny prvky v opačném pořadí.\n",
                "**Toto funguje i pro Listy.**"
            ]
        },
        {
            "cell_type": "code",
            "execution_count": null,
            "metadata": {},
            "outputs": [],
            "source": [
                "vector = np.arange(1, 10)\n",
                "print(vector[-1])\n",
                "print(vector[-3:])\n",
                "print(vector[::-1])\n",
                "print(vector[-5::-1])"
            ]
        },
        {
            "attachments": {},
            "cell_type": "markdown",
            "metadata": {},
            "source": [
                "## Indexace pomocí seznamu indexů a masek\n",
                "Pro řezy můžeme použít nejen čísla nebo Slice, ale také přímo pole s indexy prvků, které chceme vybrat."
            ]
        },
        {
            "cell_type": "code",
            "execution_count": null,
            "metadata": {
                "jupyter": {
                    "outputs_hidden": false
                }
            },
            "outputs": [],
            "source": [
                "vector = np.arange(1, 10)\n",
                "vyber = np.array([5, 2, 1, 8])\n",
                "print(vector)\n",
                "print(vector[vyber])\n"
            ]
        },
        {
            "attachments": {},
            "cell_type": "markdown",
            "metadata": {},
            "source": [
                "Tento list může obsahovat také záporné indexy, ty se pak počítají od konce pole. Indexy se samozřejmě mohou opakovat."
            ]
        },
        {
            "cell_type": "code",
            "execution_count": null,
            "metadata": {},
            "outputs": [],
            "source": [
                "vyber = np.array([-3, -2, -1, 6, 7, 8])\n",
                "print(vector)\n",
                "print(vector[vyber])"
            ]
        },
        {
            "attachments": {},
            "cell_type": "markdown",
            "metadata": {},
            "source": [
                "Pokud ale indexace obsahuje index mimo rozsah, dostaneme chybu."
            ]
        },
        {
            "cell_type": "code",
            "execution_count": null,
            "metadata": {},
            "outputs": [],
            "source": [
                "vyber = np.array([1, 2, 10])\n",
                "print(vector)\n",
                "print(vector[vyber])"
            ]
        },
        {
            "attachments": {},
            "cell_type": "markdown",
            "metadata": {},
            "source": [
                "Totéž funguje v případě indexace matice."
            ]
        },
        {
            "cell_type": "code",
            "execution_count": null,
            "metadata": {
                "jupyter": {
                    "outputs_hidden": false
                }
            },
            "outputs": [],
            "source": [
                "matrix = np.array([[1, 2, 3], [4, 5, 6], [7, 8, 9]])\n",
                "vyber_x = np.array([0, 1, 2])\n",
                "vyber_y = np.array([1, 2, 0])\n",
                "print(matrix)\n",
                "print(\"---\")\n",
                "print(matrix[vyber_x, vyber_y])\n"
            ]
        },
        {
            "attachments": {},
            "cell_type": "markdown",
            "metadata": {},
            "source": [
                "Všimněte si, že výběrem nebyla matice, ale pouze vektor obsahující indexované prvky dle jejich x,y souřadnic.\n",
                "\n",
                "Tedy indexační vektory musí mít stejný počet prvků."
            ]
        },
        {
            "cell_type": "code",
            "execution_count": null,
            "metadata": {},
            "outputs": [],
            "source": [
                "vyber_x = np.array([0, 1, 2])\n",
                "vyber_y = np.array([1, 0])\n",
                "print(matrix[vyber_x, vyber_y])\n"
            ]
        },
        {
            "attachments": {},
            "cell_type": "markdown",
            "metadata": {},
            "source": [
                "### Maskování\n",
                "Můžeme také použít **maskování**. Tedy indexovat pole pomocí pole hodnot True/False o stejném rozměru jako je:\n",
                "- původní pole\n",
                "- jedna z dimenzí původního pole \n",
                "\n",
                "Výsledkem je vektor obsahující pouze prvky (těmi v druhém případě ale mohou být i řádky nebo sloupce), které odpovídají hodnotě True v masce."
            ]
        },
        {
            "cell_type": "code",
            "execution_count": null,
            "metadata": {
                "jupyter": {
                    "outputs_hidden": false
                }
            },
            "outputs": [],
            "source": [
                "matrix = np.array([[1, 2, 3], [4, 5, 6], [7, 8, 9]])\n",
                "mask = np.array([[True, False, True], [False, True, False], [True, False, True]])\n",
                "print(mask)\n",
                "print(matrix[mask])\n"
            ]
        },
        {
            "cell_type": "code",
            "execution_count": null,
            "metadata": {},
            "outputs": [],
            "source": [
                "mask = np.array([True, False, True])\n",
                "print(matrix[mask, :])\n",
                "print(matrix[:, mask])"
            ]
        }
    ],
    "metadata": {
        "kernelspec": {
            "display_name": "Python 3",
            "language": "python",
            "name": "python3"
        },
        "language_info": {
            "codemirror_mode": {
                "name": "ipython",
                "version": 3
            },
            "file_extension": ".py",
            "mimetype": "text/x-python",
            "name": "python",
            "nbconvert_exporter": "python",
            "pygments_lexer": "ipython3",
            "version": "3.11.7"
        }
    },
    "nbformat": 4,
    "nbformat_minor": 4
}
