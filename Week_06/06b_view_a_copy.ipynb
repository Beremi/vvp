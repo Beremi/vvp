{
    "cells": [
        {
            "attachments": {},
            "cell_type": "markdown",
            "metadata": {},
            "source": [
                "# Importujeme numpy\n",
                "\n",
                "Chceme-li použít `numpy`, je samozřejmě nutné modul importovat. Obvykle se použivá zkratka `np`: \n"
            ]
        },
        {
            "cell_type": "code",
            "execution_count": null,
            "metadata": {
                "jupyter": {
                    "outputs_hidden": false
                }
            },
            "outputs": [],
            "source": [
                "import numpy as np\n"
            ]
        },
        {
            "attachments": {},
            "cell_type": "markdown",
            "metadata": {},
            "source": [
                "# NumPy View a kopie\n",
                "Při indexování a řezání můžeme přiřadit výřez do nové proměnné. NumPy však \"standardní\" řezy reprezentuje jako tzv. **view** na původní pole. To znamená, že nová proměnná obsahující řez původního pole ukazuje na stejná data v paměti. A tedy pokud změníme data v nové proměnné, změní se i data v původním poli.\n"
            ]
        },
        {
            "cell_type": "code",
            "execution_count": null,
            "metadata": {},
            "outputs": [],
            "source": [
                "A = np.array([[1, 2, 3], [4, 5, 6], [7, 8, 9]])\n",
                "B = A[:1,1:]\n",
                "print(A)\n",
                "print(B)\n",
                "B[:,:] = -1\n",
                "print(A)\n",
                "print(B)"
            ]
        },
        {
            "cell_type": "markdown",
            "metadata": {},
            "source": [
                "\n",
                "Toto může být mnohdy velice užitečné. Potlačit to můžeme vždy pomocí metody `copy`.\n",
                "\n",
                "**Né všechny metody výběru dat z matice však vrací view.**\n",
                "Řezání pomocí `:` typicky vrací view. Kdežto řezání pomocí seznamu indexů vrací kopii. To zda vrací view nebo kopii lze zjistit pomocí atributu `flags` a jeho atributu `OWNDATA`.\n",
                "\n",
                "To zda ndarray s flagem `OWNDATA : False` sdílí data s jiným ndarray objektem lze zjistit pomocí atributu `base`, který vrátí ndarray objekt, který je zdrojem dat."
            ]
        },
        {
            "cell_type": "code",
            "execution_count": null,
            "metadata": {},
            "outputs": [],
            "source": [
                "A = np.array([[1, 2, 3], [4, 5, 6], [7, 8, 9]])\n",
                "B = A[:1,1:]\n",
                "print(A.flags)\n",
                "print(B.flags)"
            ]
        },
        {
            "cell_type": "code",
            "execution_count": null,
            "metadata": {},
            "outputs": [],
            "source": [
                "print(id(A))\n",
                "print(id(B.base))\n",
                "print(A is B.base)"
            ]
        },
        {
            "attachments": {},
            "cell_type": "markdown",
            "metadata": {},
            "source": [
                "Pokud si nejsme jisti, zda použitá indexace vrací view nebo kopii, je dobré konzultovat dokumentaci NumPy viz [tady](https://docs.scipy.org/doc/numpy/reference/arrays.indexing.html), nebo si to ověřit na testovacím kódu pomocí `base` a `flags`."
            ]
        },
        {
            "cell_type": "code",
            "execution_count": null,
            "metadata": {},
            "outputs": [],
            "source": [
                "A = np.array([[1, 2, 3], [4, 5, 6], [7, 8, 9]])\n",
                "print(id(A))\n",
                "mask = np.array([True, False, True])\n",
                "# slicing\n",
                "B = A[:,1]\n",
                "print(\"Slicing: \", id(B.base))\n",
                "# masking\n",
                "B = A[mask, :]\n",
                "print(\"Masking: \", id(B.base))\n",
                "# fancy indexing\n",
                "B = A[:, [1]]\n",
                "print(\"Fancy indexing: \", id(B.base))\n",
                "# diag\n",
                "B = np.diag(A, k=-1)\n",
                "print(\"Diag: \", id(B.base))\n",
                "# triu/tril\n",
                "B = np.triu(A)\n",
                "print(\"Triu: \", id(B.base))"
            ]
        },
        {
            "cell_type": "markdown",
            "metadata": {},
            "source": [
                "### Změny rozměrů polí nekopírují data\n",
                "\n",
                "Rozměr Numpy polí může být měněn bez kopírování samotných dat, což výrazně tyto operace zrychluje.\n",
                "\n",
                "Tedy je možné udělat novou proměnnou typu ndarray jakožto \"view\" na původní data, ale s jiným rozměrem."
            ]
        },
        {
            "cell_type": "code",
            "execution_count": null,
            "metadata": {},
            "outputs": [],
            "source": [
                "m1 = np.array([[1, 2, 3], [4, 5, 6], [7, 8, 9]])\n",
                "print(m1)"
            ]
        },
        {
            "cell_type": "code",
            "execution_count": null,
            "metadata": {},
            "outputs": [],
            "source": [
                "n, m = m1.shape\n",
                "print(m,n)"
            ]
        },
        {
            "cell_type": "markdown",
            "metadata": {},
            "source": [
                "Kdybychom chtěli skutečný 1D vector, můžeme použít:\n",
                "- reshape\n",
                "- ravel\n",
                "- flatten, pozor jako jediná vrací kopii místo view"
            ]
        },
        {
            "cell_type": "code",
            "execution_count": null,
            "metadata": {},
            "outputs": [],
            "source": [
                "m2 = m1.reshape((n * m))\n",
                "print(m2)\n",
                "print(m2.shape)\n",
                "print(m2.base is m1)\n",
                "# nebo\n",
                "m2 = m1.reshape((-1))\n",
                "print(m2)\n",
                "print(m2.shape)\n",
                "print(m2.base is m1)\n",
                "# nebo\n",
                "m2 = m1.flatten() \n",
                "print(m2)\n",
                "print(m2.shape)\n",
                "print(m2.base is m1)\n",
                "# nebo \n",
                "m2 = m1.ravel()\n",
                "print(m2)\n",
                "print(m2.shape)\n",
                "print(m2.base is m1)\n"
            ]
        },
        {
            "cell_type": "code",
            "execution_count": null,
            "metadata": {},
            "outputs": [],
            "source": [
                "v = np.array([1, 2, 3])\n",
                "vc = v[:, None]\n",
                "print(vc)\n",
                "print(vc.base is v)"
            ]
        }
    ],
    "metadata": {
        "kernelspec": {
            "display_name": "Python 3",
            "language": "python",
            "name": "python3"
        },
        "language_info": {
            "codemirror_mode": {
                "name": "ipython",
                "version": 3
            },
            "file_extension": ".py",
            "mimetype": "text/x-python",
            "name": "python",
            "nbconvert_exporter": "python",
            "pygments_lexer": "ipython3",
            "version": "3.13.2"
        }
    },
    "nbformat": 4,
    "nbformat_minor": 4
}
