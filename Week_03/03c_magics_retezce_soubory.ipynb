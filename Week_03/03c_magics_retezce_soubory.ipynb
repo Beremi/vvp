{
 "cells": [
  {
   "attachments": {},
   "cell_type": "markdown",
   "metadata": {},
   "source": [
    "# Jupyter magics a další\n",
    "Jupyter magics jsou speciální příkazy spustitelné v Jupyter noebooku, které umožňují využívat různé funkce mimo prostředí Pythonu. \n",
    "\n",
    "Jupyter magics se spouští pomocí prefixu `%` (pro jednořádkové magics) nebo `%%` (pro víceřádkové magics).\n",
    "\n",
    "Příkazů je obrovské množství, viz například [tento seznam](https://ipython.readthedocs.io/en/stable/interactive/magics.html). Zde si uvedeme pouze pár.\n",
    "\n",
    "Nápovědu (docstring) lze k magics získat pomocí `?` za příkazem.\n",
    "\n",
    "**Jednořádkové magics:**\n",
    "- `%time` - zobrazí čas, který trvalo vykonat příkaz\n",
    "- `%timeit` - pokročilejší verze příkazu `%time`, který spustí příkaz vícekrát a zobrazí statistiku\n",
    "- `%magic` - zobrazí nápovědu k magics (výpis všech dostupných magics)\n",
    "- `%lsmagic` - zobrazí seznam dostupných magics\n",
    "- `%load` - načte zdrojový kód z externího souboru do aktuální buňky\n",
    "- `%run` - spustí externí skript\n",
    "- `%less` / `%more` / `%cat` / `%pycat` - zobrazí externí soubor v textovém editoru\n",
    "- `%system` / `!!` - spustí příkaz v systémovém terminálu - s vazbou na Jupyter (chová se jinak než `!`)\n",
    "- `%pwd` / `%cd` - zobrazí / změní aktuální pracovní adresář\n",
    "- `%who` / `%whos` - zobrazí seznam proměnných\n",
    "- `%ls` / `%ll` - zobrazí obsah aktuálního adresáře\n",
    "\n",
    "\n",
    "**Víceřádkové magics:**\n",
    "Týkají se celé buňky, ne jen jednoho příkazu.\n",
    "- `%%time` - zobrazí čas, který trvalo vykonat obsah buňky\n",
    "- `%%timeit` - pokročilejší verze příkazu `%%time`, který spustí buňku vícekrát a zobrazí statistiku\n",
    "- `%%writefile` / `%%file` - zapsat obsah buňky do externího souboru\n",
    "- `%%bash` / `%%html` / `%%javascript` / `%%latex` / ... - spustí buňku s kódem v daném jazyce\n",
    "- `%%prun` - spustí buňku pomocí profilovacího modulu `cProfile`\n"
   ]
  },
  {
   "cell_type": "code",
   "execution_count": null,
   "metadata": {},
   "outputs": [],
   "source": [
    "%magic"
   ]
  },
  {
   "cell_type": "code",
   "execution_count": null,
   "metadata": {},
   "outputs": [],
   "source": [
    "seznam_magickych_funkci = %lsmagic\n",
    "print(type(seznam_magickych_funkci))\n",
    "print(seznam_magickych_funkci)\n"
   ]
  },
  {
   "cell_type": "code",
   "execution_count": null,
   "metadata": {},
   "outputs": [],
   "source": [
    "!mkdir test"
   ]
  },
  {
   "cell_type": "code",
   "execution_count": null,
   "metadata": {},
   "outputs": [],
   "source": [
    "!!ls"
   ]
  },
  {
   "cell_type": "code",
   "execution_count": null,
   "metadata": {},
   "outputs": [],
   "source": [
    "%cd test"
   ]
  },
  {
   "cell_type": "code",
   "execution_count": null,
   "metadata": {},
   "outputs": [],
   "source": [
    "%pwd"
   ]
  },
  {
   "cell_type": "code",
   "execution_count": null,
   "metadata": {},
   "outputs": [],
   "source": [
    "%%writefile?"
   ]
  },
  {
   "cell_type": "code",
   "execution_count": null,
   "metadata": {},
   "outputs": [],
   "source": [
    "%%writefile test.py\n",
    "def funkce():\n",
    "    a = 2\n",
    "    print(\"Ahoj\")\n",
    "funkce()"
   ]
  },
  {
   "cell_type": "code",
   "execution_count": null,
   "metadata": {},
   "outputs": [],
   "source": [
    "%ll"
   ]
  },
  {
   "cell_type": "code",
   "execution_count": null,
   "metadata": {},
   "outputs": [],
   "source": [
    "%less test.py"
   ]
  },
  {
   "cell_type": "code",
   "execution_count": null,
   "metadata": {},
   "outputs": [],
   "source": [
    "%run test.py"
   ]
  },
  {
   "cell_type": "code",
   "execution_count": null,
   "metadata": {},
   "outputs": [],
   "source": [
    "%who"
   ]
  },
  {
   "cell_type": "code",
   "execution_count": null,
   "metadata": {},
   "outputs": [],
   "source": [
    "%time funkce()"
   ]
  },
  {
   "cell_type": "code",
   "execution_count": null,
   "metadata": {},
   "outputs": [],
   "source": [
    "def najdi_prvocisla(n):\n",
    "    prvocisla = [2]\n",
    "    i = prvocisla[-1]\n",
    "    while len(prvocisla) < n:\n",
    "        i += 1\n",
    "        for prvocislo in prvocisla:\n",
    "            if i % prvocislo == 0:\n",
    "                break\n",
    "        else:\n",
    "            prvocisla.append(i)\n",
    "    return prvocisla"
   ]
  },
  {
   "cell_type": "code",
   "execution_count": null,
   "metadata": {},
   "outputs": [],
   "source": [
    "%%timeit\n",
    "najdi_prvocisla(100)\n",
    "najdi_prvocisla(10)"
   ]
  },
  {
   "cell_type": "code",
   "execution_count": null,
   "metadata": {},
   "outputs": [],
   "source": [
    "%%prun\n",
    "najdi_prvocisla(1000)\n"
   ]
  },
  {
   "cell_type": "code",
   "execution_count": null,
   "metadata": {},
   "outputs": [],
   "source": [
    "print(najdi_prvocisla(100))"
   ]
  },
  {
   "cell_type": "code",
   "execution_count": null,
   "metadata": {},
   "outputs": [],
   "source": [
    "%cd ..\n",
    "%rm -rf test\n",
    "%pwd"
   ]
  },
  {
   "cell_type": "code",
   "execution_count": null,
   "metadata": {},
   "outputs": [],
   "source": [
    "%ll"
   ]
  },
  {
   "attachments": {},
   "cell_type": "markdown",
   "metadata": {},
   "source": [
    "# Práce s řetězci\n",
    "S řetězci jsme se už setkali, řekli jsme si také, že `str` objekt je immutable (neměnitelný).\n",
    "\n",
    "## Základní operace\n",
    "* `+` - spojení dvou řetězců\n",
    "* `*` - opakování řetězce\n",
    "* `in` - zjištění, zda je řetězec podřetězcem jiného řetězce\n",
    "* `[]` - indexování (přístup k jednotlivým znakům)\n",
    "* `[:]` - slicing (přístup k podřetězcům)\n",
    "* `len()` - délka řetězce\n",
    "* `str()` - převod na řetězec\n"
   ]
  },
  {
   "cell_type": "code",
   "execution_count": null,
   "metadata": {},
   "outputs": [],
   "source": [
    "# ukázky základních operací s řetězci\n",
    "retezec = \"ahoj\"\n",
    "retezec2 = \"svete\"\n",
    "retezec3 = \"tak tedy ahoj zeměkoule\" \n",
    "\n",
    "print(retezec + retezec2)\n",
    "print(retezec * 3)\n",
    "print(retezec[0:2])\n",
    "print(len(retezec))\n",
    "print(retezec in retezec3)\n",
    "print(retezec2 in retezec3)"
   ]
  },
  {
   "attachments": {},
   "cell_type": "markdown",
   "metadata": {},
   "source": [
    "## Vestavěné metody řetězců\n",
    "Velká/malá písmena:\n",
    "* `str.capitalize()` - první znak velký, ostatní malé\n",
    "* `str.swapcase()` - velká písmena na malá, malá na velká\n",
    "* `str.title()` - první znak každého slova velký, ostatní malé\n",
    "* `str.lower()` - malá písmena\n",
    "* `str.upper()` - velká písmena\n",
    "\n",
    "Ořezávání:\n",
    "* `str.strip([chars])` - ořezání bílých znaků (mezera, tabulátor, nový řádek) na začátku a na konci\n",
    "* `str.lstrip([chars])` - ořezání bílých znaků na začátku\n",
    "* `str.rstrip([chars])` - ořezání bílých znaků na konci\n",
    "* `str.center(width[, fillchar])` - vycentrování řetězce\n",
    "* `str.ljust(width[, fillchar])` - zarovnání vlevo\n",
    "* `str.rjust(width[, fillchar])` - zarovnání vpravo\n",
    "\n",
    "Nahrazování/řezání/spojování řetězců:\n",
    "* `str.format(*args, **kwargs)` - umožňuje definovat placeholdery v řetězci `{}` a ty pak naplnit hodnotami\n",
    "* `str.replace(old, new[, count])` - nahrazení všech výskytů podřetězce\n",
    "* `str.split([sep[, maxsplit]])` - rozdělení řetězce na seznam řetězců\n",
    "* `str.splitlines([keepends])` - rozdělení řetězce na řádky\n",
    "* `str.partition(sep)` - rozdělení řetězce na 3 části (před, sep, za)\n",
    "* `str.join(iterable)` - spojení řetězců v seznamu\n",
    "* `str.expandtabs(tabsize=8)` - nahrazení tabulátorů mezerami\n",
    "\n",
    "Počítání výskytů/znaků/...:\n",
    "* `str.count(sub[, start[, end]])` - počet výskytů podřetězce\n",
    "* `str.find(sub[, start[, end]])` - index prvního výskytu podřetězce nebo -1 pokud není nalezen\n",
    "* `str.index(sub[, start[, end]])` - index prvního výskytu podřetězce nebo vyhodí výjimku `ValueError` pokud není nalezen\n",
    "\n",
    "Zjištění některých vlastností řetězců:\n",
    "* `str.startswith(prefix[, start[, end]])` - zjištění, zda řetězec začíná daným podřetězcem\n",
    "* `str.endswith(suffix[, start[, end]])` - zjištění, zda řetězec končí daným podřetězcem\n",
    "* `str.isalnum()` - zjištění, zda řetězec obsahuje pouze alfanumerické znaky\n",
    "* `str.isalpha()` - zjištění, zda řetězec obsahuje pouze písmena\n",
    "* `str.isdecimal()` - zjištění, zda řetězec obsahuje pouze desetinná čísla\n",
    "* `str.isdigit()` - zjištění, zda řetězec obsahuje pouze čísla\n",
    "* `str.isidentifier()` - zjištění, zda řetězec je platným identifikátorem\n",
    "* `str.islower()` - zjištění, zda řetězec obsahuje pouze malá písmena\n",
    "* `str.isnumeric()` - zjištění, zda řetězec obsahuje pouze čísla\n",
    "* `str.isprintable()` - zjištění, zda řetězec je tisknutelný\n",
    "* `str.isspace()` - zjištění, zda řetězec obsahuje pouze bílé znaky\n",
    "* `str.istitle()` - zjištění, zda řetězec obsahuje pouze velká písmena\n"
   ]
  },
  {
   "cell_type": "code",
   "execution_count": null,
   "metadata": {},
   "outputs": [],
   "source": [
    "retezec = \"ahoj Svete toto je retezec\"\n",
    "print(retezec.capitalize())\n",
    "print(retezec.swapcase())\n",
    "print(retezec.title())\n",
    "print(retezec.lower())\n",
    "print(retezec.upper())"
   ]
  },
  {
   "cell_type": "code",
   "execution_count": null,
   "metadata": {},
   "outputs": [],
   "source": [
    "retezec = \"  ahoj Svete toto je retezec      \"\n",
    "print(retezec.strip())\n",
    "print(retezec.lstrip())\n",
    "print(retezec.rstrip())\n",
    "print(retezec.center(50, \"-\"))\n",
    "print(retezec.ljust(50, \".\"))\n",
    "print(retezec.rjust(50, \" \"))"
   ]
  },
  {
   "cell_type": "code",
   "execution_count": null,
   "metadata": {},
   "outputs": [],
   "source": [
    "# Základní formátování\n",
    "jmeno = \"Jan\"\n",
    "print(\"Ahoj, {}!\".format(jmeno))\n",
    "# Výstup: Ahoj, Jan!\n",
    "\n",
    "# Formátování s formátovacím specifikátorem\n",
    "vek = 30\n",
    "print(\"{} je {} let starý.\".format(jmeno, vek))\n",
    "# Výstup: Jan je 30 let starý.\n",
    "\n",
    "# Formátování s pozicemi argumentů\n",
    "print(\"{0} je {1} let starý. Nejlepším přítelem {0} je {2}.\".format(jmeno, vek, \"Jana\"))\n",
    "# Výstup: Jan je 30 let starý. Nejlepším přítelem Jan je Jana.\n",
    "\n",
    "# Formátování s klíčovými argumenty\n",
    "print(\"{jmeno} je {vek} let starý. Nejlepším přítelem {jmeno} je {pritel}.\".format(\n",
    "    jmeno=jmeno, vek=vek, pritel=\"Jana\"))\n",
    "# Výstup: Jan je 30 let starý. Nejlepším přítelem Jan je Jana."
   ]
  },
  {
   "cell_type": "code",
   "execution_count": null,
   "metadata": {},
   "outputs": [],
   "source": [
    "text = \"Ahoj světe, \\njak se máš?\"\n",
    "print(text)\n",
    "\n",
    "print(text.replace(\"Ahoj\", \"Nazdar\"))\n",
    "print(text.split())\n",
    "print(text.splitlines())\n",
    "print(text.partition(\", \"))"
   ]
  },
  {
   "cell_type": "code",
   "execution_count": null,
   "metadata": {},
   "outputs": [],
   "source": [
    "seznam = ['Ahoj', 'světe']\n",
    "print(', '.join(seznam))\n",
    "\n",
    "text = \"Ahoj\\tsvěte\"\n",
    "print(text.expandtabs())"
   ]
  },
  {
   "cell_type": "code",
   "execution_count": null,
   "metadata": {},
   "outputs": [],
   "source": [
    "text = \"Ahoj světe, jak se máš?\"\n",
    "print(text.count(\"e\"))\n",
    "print(text.find(\"světe\"))\n",
    "print(text.index(\"světe\"))\n"
   ]
  },
  {
   "cell_type": "code",
   "execution_count": null,
   "metadata": {},
   "outputs": [],
   "source": [
    "text = \"Ahoj světe, jak se máš?\"\n",
    "print(text.startswith(\"Ahoj\"))\n",
    "print(text.startswith(\"Nazdar\"))\n",
    "print(text.endswith(\"?\"))\n",
    "print(text.endswith(\"!\"))"
   ]
  },
  {
   "attachments": {},
   "cell_type": "markdown",
   "metadata": {},
   "source": [
    "## f-strings\n",
    "F-stringy (formatovací řetězce) jsou speciální syntaxe, která umožňuje vložit proměnné do řetězce pomocí zápisu {} a začínají znakem \"f\"."
   ]
  },
  {
   "cell_type": "code",
   "execution_count": null,
   "metadata": {},
   "outputs": [],
   "source": [
    "# f-strings\n",
    "jmeno = \"Jan\"\n",
    "vek = 30\n",
    "print(f\"{jmeno} je {vek} let starý.\")"
   ]
  },
  {
   "attachments": {},
   "cell_type": "markdown",
   "metadata": {},
   "source": [
    "f-strings umožňují formátovat hodnoty pomocí specifikátorů, podrobnosti viz [dokumentace](https://docs.python.org/3/library/string.html#format-specification-mini-language)."
   ]
  },
  {
   "cell_type": "code",
   "execution_count": null,
   "metadata": {},
   "outputs": [],
   "source": [
    "# f-strings s formátovacím specifikátorem\n",
    "jmeno = \"Jan\"\n",
    "vek = 30\n",
    "print(f\"{jmeno} je {vek:.2f} let starý.\")\n",
    "print(f\"{jmeno:<10} má {vek + 3:>3} let\")\n",
    "print(f\"{jmeno =}, {vek =}\")\n"
   ]
  },
  {
   "cell_type": "code",
   "execution_count": null,
   "metadata": {},
   "outputs": [],
   "source": [
    "# formátování pomocí > a < můžeme využít pro zarovnání tabulky\n",
    "print(f\"{'číslo':>6} {'mocnina':>8} {'třetí mocnina':>14}\")\n",
    "for i in range(1, 20):\n",
    "    print(f\"{i:.>6} {i**2:.>8} {i**3:.>14}\")"
   ]
  },
  {
   "attachments": {},
   "cell_type": "markdown",
   "metadata": {},
   "source": [
    "Možnosti formátování f-stringu jsou vestavěné do třídy kterou vypisujeme, konkrétně metoda `__format__`. Více si ukážeme příště."
   ]
  },
  {
   "attachments": {},
   "cell_type": "markdown",
   "metadata": {},
   "source": [
    "# Základní práce se soubory\n",
    "Pro práci se sounory je základní příkaz `open`, který vrací instanci `file`"
   ]
  },
  {
   "cell_type": "code",
   "execution_count": null,
   "metadata": {},
   "outputs": [],
   "source": [
    "%%writefile test.txt\n",
    "Ahoj, jak se máš?\n",
    "To se mi líbí!\n",
    "To ne.\n",
    "To ano.\n",
    "To ne.\n",
    "To ano."
   ]
  },
  {
   "cell_type": "code",
   "execution_count": null,
   "metadata": {},
   "outputs": [],
   "source": [
    "# ukázka otevření souboru\n",
    "soubor = open(\"test.txt\", \"r\")\n",
    "print(soubor)"
   ]
  },
  {
   "cell_type": "code",
   "execution_count": null,
   "metadata": {},
   "outputs": [],
   "source": [
    "# metody file\n",
    "print([m for m in dir(soubor) if not m.startswith(\"_\")])"
   ]
  },
  {
   "cell_type": "code",
   "execution_count": null,
   "metadata": {},
   "outputs": [],
   "source": [
    "print(soubor.read())\n",
    "soubor.close()"
   ]
  },
  {
   "attachments": {},
   "cell_type": "markdown",
   "metadata": {},
   "source": [
    "Soubor se dá procházet jakožto iterovatelný objekt, který vrací řádky souboru. Pozor na \"\\n\" na konci řádku."
   ]
  },
  {
   "cell_type": "code",
   "execution_count": null,
   "metadata": {},
   "outputs": [],
   "source": [
    "# procházení řádků souboru\n",
    "soubor = open(\"test.txt\", \"r\")\n",
    "for idx_radku, radek in enumerate(soubor):\n",
    "    print(f\"{idx_radku = }, {radek = }\")\n",
    "soubor.close()"
   ]
  },
  {
   "attachments": {},
   "cell_type": "markdown",
   "metadata": {},
   "source": [
    "Pro práci se soubory je velice užitečný (*a jednoznačně preferovaný*) blok [`with`](https://docs.python.org/3/reference/compound_stmts.html#with), který používá tzv. context managery. \n",
    "\n",
    "Context manager je objekt, který implementuje metody `__enter__` a `__exit__`. Což jsou metody, které jsou volány při vstupu a výstupu z bloku `with`. V případě metody `open` je to otevření a zavření souboru.\n",
    "\n",
    "Použití je velice jednoduché, předchozí příklad by vypadal takto:"
   ]
  },
  {
   "cell_type": "code",
   "execution_count": null,
   "metadata": {},
   "outputs": [],
   "source": [
    "# ukázka užití with\n",
    "with open(\"test.txt\", \"r\") as soubor:\n",
    "    for idx_radku, radek in enumerate(soubor):\n",
    "        print(f\"{idx_radku = }, {radek = }\")"
   ]
  },
  {
   "attachments": {},
   "cell_type": "markdown",
   "metadata": {},
   "source": [
    "Zapisování do souboru je velice podobné, pouze je potřeba přidat parametr `w` (write) nebo `a` (append)."
   ]
  },
  {
   "cell_type": "code",
   "execution_count": null,
   "metadata": {},
   "outputs": [],
   "source": [
    "# vytvoření csv souboru s čísly a jejich mocninami\n",
    "with open(\"mocniny.csv\", \"w\", newline=\"\") as soubor:\n",
    "    soubor.write(\"čislo, mocnina \\n\")\n",
    "    for i in range(1, 10):\n",
    "        soubor.write(f\"{i}, {i*i} \\n\")"
   ]
  },
  {
   "cell_type": "code",
   "execution_count": null,
   "metadata": {},
   "outputs": [],
   "source": [
    "%less mocniny.csv\n"
   ]
  }
 ],
 "metadata": {
  "kernelspec": {
   "display_name": "Python 3",
   "language": "python",
   "name": "python3"
  },
  "language_info": {
   "codemirror_mode": {
    "name": "ipython",
    "version": 3
   },
   "file_extension": ".py",
   "mimetype": "text/x-python",
   "name": "python",
   "nbconvert_exporter": "python",
   "pygments_lexer": "ipython3",
   "version": "3.11.6"
  },
  "orig_nbformat": 4,
  "vscode": {
   "interpreter": {
    "hash": "e7370f93d1d0cde622a1f8e1c04877d8463912d04d973331ad4851f04de6915a"
   }
  }
 },
 "nbformat": 4,
 "nbformat_minor": 2
}
