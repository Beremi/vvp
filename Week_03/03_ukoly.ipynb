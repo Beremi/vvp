{
 "cells": [
  {
   "cell_type": "markdown",
   "metadata": {},
   "source": [
    "# Lambda funkce a řízení toku programu\n",
    "\n",
    "\n",
    "**1. Lambda funkce:**\n",
    "\n",
    "Napište lambda funkci, která spočítá součin dvou čísel.\n"
   ]
  },
  {
   "cell_type": "code",
   "execution_count": 1,
   "metadata": {},
   "outputs": [
    {
     "name": "stdout",
     "output_type": "stream",
     "text": [
      "6\n",
      "25\n",
      "100\n"
     ]
    }
   ],
   "source": [
    "soucin = lambda x, y: x * y\n",
    "print(soucin(2, 3))\n",
    "print(soucin(5, 5))\n",
    "print(soucin(10, 10))"
   ]
  },
  {
   "cell_type": "markdown",
   "metadata": {},
   "source": [
    "\n",
    "**2. Lambda funkce a ternární operátor:**\n",
    "\n",
    "Napište lambda funkci, která vrátí \"sudé\" pro sudá čísla a \"liché\" pro lichá čísla.\n"
   ]
  },
  {
   "cell_type": "code",
   "execution_count": 2,
   "metadata": {},
   "outputs": [
    {
     "name": "stdout",
     "output_type": "stream",
     "text": [
      "sude\n",
      "liche\n",
      "sude\n"
     ]
    }
   ],
   "source": [
    "lam_parity = lambda x: 'sude' if x % 2 == 0 else 'liche'\n",
    "print(lam_parity(2))\n",
    "print(lam_parity(3))\n",
    "print(lam_parity(4))"
   ]
  },
  {
   "cell_type": "markdown",
   "metadata": {},
   "source": [
    "\n",
    "**3. Rekurze:**\n",
    "\n",
    "Napište lambda funkci pro výpočet součtu 1 až n (n je vstupem).\n"
   ]
  },
  {
   "cell_type": "code",
   "execution_count": 4,
   "metadata": {},
   "outputs": [
    {
     "name": "stdout",
     "output_type": "stream",
     "text": [
      "15\n"
     ]
    },
    {
     "ename": "RecursionError",
     "evalue": "maximum recursion depth exceeded",
     "output_type": "error",
     "traceback": [
      "\u001b[0;31m---------------------------------------------------------------------------\u001b[0m",
      "\u001b[0;31mRecursionError\u001b[0m                            Traceback (most recent call last)",
      "Cell \u001b[0;32mIn[4], line 3\u001b[0m\n\u001b[1;32m      1\u001b[0m soucet \u001b[38;5;241m=\u001b[39m \u001b[38;5;28;01mlambda\u001b[39;00m n: n \u001b[38;5;241m+\u001b[39m soucet(n \u001b[38;5;241m-\u001b[39m \u001b[38;5;241m1\u001b[39m) \u001b[38;5;28;01mif\u001b[39;00m n \u001b[38;5;241m>\u001b[39m \u001b[38;5;241m0\u001b[39m \u001b[38;5;28;01melse\u001b[39;00m \u001b[38;5;241m0\u001b[39m\n\u001b[1;32m      2\u001b[0m \u001b[38;5;28mprint\u001b[39m(soucet(\u001b[38;5;241m5\u001b[39m))\n\u001b[0;32m----> 3\u001b[0m \u001b[38;5;28mprint\u001b[39m(\u001b[43msoucet\u001b[49m\u001b[43m(\u001b[49m\u001b[38;5;241;43m10000\u001b[39;49m\u001b[43m)\u001b[49m)\n",
      "Cell \u001b[0;32mIn[4], line 1\u001b[0m, in \u001b[0;36m<lambda>\u001b[0;34m(n)\u001b[0m\n\u001b[0;32m----> 1\u001b[0m soucet \u001b[38;5;241m=\u001b[39m \u001b[38;5;28;01mlambda\u001b[39;00m n: n \u001b[38;5;241m+\u001b[39m \u001b[43msoucet\u001b[49m\u001b[43m(\u001b[49m\u001b[43mn\u001b[49m\u001b[43m \u001b[49m\u001b[38;5;241;43m-\u001b[39;49m\u001b[43m \u001b[49m\u001b[38;5;241;43m1\u001b[39;49m\u001b[43m)\u001b[49m \u001b[38;5;28;01mif\u001b[39;00m n \u001b[38;5;241m>\u001b[39m \u001b[38;5;241m0\u001b[39m \u001b[38;5;28;01melse\u001b[39;00m \u001b[38;5;241m0\u001b[39m\n\u001b[1;32m      2\u001b[0m \u001b[38;5;28mprint\u001b[39m(soucet(\u001b[38;5;241m5\u001b[39m))\n\u001b[1;32m      3\u001b[0m \u001b[38;5;28mprint\u001b[39m(soucet(\u001b[38;5;241m10000\u001b[39m))\n",
      "Cell \u001b[0;32mIn[4], line 1\u001b[0m, in \u001b[0;36m<lambda>\u001b[0;34m(n)\u001b[0m\n\u001b[0;32m----> 1\u001b[0m soucet \u001b[38;5;241m=\u001b[39m \u001b[38;5;28;01mlambda\u001b[39;00m n: n \u001b[38;5;241m+\u001b[39m \u001b[43msoucet\u001b[49m\u001b[43m(\u001b[49m\u001b[43mn\u001b[49m\u001b[43m \u001b[49m\u001b[38;5;241;43m-\u001b[39;49m\u001b[43m \u001b[49m\u001b[38;5;241;43m1\u001b[39;49m\u001b[43m)\u001b[49m \u001b[38;5;28;01mif\u001b[39;00m n \u001b[38;5;241m>\u001b[39m \u001b[38;5;241m0\u001b[39m \u001b[38;5;28;01melse\u001b[39;00m \u001b[38;5;241m0\u001b[39m\n\u001b[1;32m      2\u001b[0m \u001b[38;5;28mprint\u001b[39m(soucet(\u001b[38;5;241m5\u001b[39m))\n\u001b[1;32m      3\u001b[0m \u001b[38;5;28mprint\u001b[39m(soucet(\u001b[38;5;241m10000\u001b[39m))\n",
      "    \u001b[0;31m[... skipping similar frames: <lambda> at line 1 (2974 times)]\u001b[0m\n",
      "Cell \u001b[0;32mIn[4], line 1\u001b[0m, in \u001b[0;36m<lambda>\u001b[0;34m(n)\u001b[0m\n\u001b[0;32m----> 1\u001b[0m soucet \u001b[38;5;241m=\u001b[39m \u001b[38;5;28;01mlambda\u001b[39;00m n: n \u001b[38;5;241m+\u001b[39m \u001b[43msoucet\u001b[49m\u001b[43m(\u001b[49m\u001b[43mn\u001b[49m\u001b[43m \u001b[49m\u001b[38;5;241;43m-\u001b[39;49m\u001b[43m \u001b[49m\u001b[38;5;241;43m1\u001b[39;49m\u001b[43m)\u001b[49m \u001b[38;5;28;01mif\u001b[39;00m n \u001b[38;5;241m>\u001b[39m \u001b[38;5;241m0\u001b[39m \u001b[38;5;28;01melse\u001b[39;00m \u001b[38;5;241m0\u001b[39m\n\u001b[1;32m      2\u001b[0m \u001b[38;5;28mprint\u001b[39m(soucet(\u001b[38;5;241m5\u001b[39m))\n\u001b[1;32m      3\u001b[0m \u001b[38;5;28mprint\u001b[39m(soucet(\u001b[38;5;241m10000\u001b[39m))\n",
      "\u001b[0;31mRecursionError\u001b[0m: maximum recursion depth exceeded"
     ]
    }
   ],
   "source": [
    "soucet = lambda n: n + soucet(n - 1) if n > 0 else 0\n",
    "print(soucet(5))\n",
    "print(soucet(10000))"
   ]
  },
  {
   "cell_type": "markdown",
   "metadata": {},
   "source": [
    "\n",
    "**4. For cyklus, enumerate:**\n",
    "\n",
    "Vypište postupně všechna písmena řetězce \"Ahoj světe!\" a jejich pozici v řetězci.\n"
   ]
  },
  {
   "cell_type": "code",
   "execution_count": 5,
   "metadata": {},
   "outputs": [
    {
     "name": "stdout",
     "output_type": "stream",
     "text": [
      "0 A\n",
      "1 h\n",
      "2 o\n",
      "3 j\n",
      "4  \n",
      "5 s\n",
      "6 v\n",
      "7 ě\n",
      "8 t\n",
      "9 e\n",
      "10 !\n"
     ]
    }
   ],
   "source": [
    "retezec = \"Ahoj světe!\"\n",
    "for index, char in enumerate(retezec):\n",
    "    print(index, char)"
   ]
  },
  {
   "cell_type": "markdown",
   "metadata": {},
   "source": [
    "\n",
    "**5. For cyklus s `break`:**\n",
    "\n",
    "Vypište první tři prvky seznamu `[1, 2, 3, 4, 5]`.\n"
   ]
  },
  {
   "cell_type": "code",
   "execution_count": 6,
   "metadata": {},
   "outputs": [
    {
     "name": "stdout",
     "output_type": "stream",
     "text": [
      "1 1\n",
      "2 2\n",
      "3 3\n"
     ]
    }
   ],
   "source": [
    "muj_list = [1, 2, 3, 4, 5]\n",
    "\n",
    "for index, char in enumerate(muj_list, 1):\n",
    "    if index > 3:\n",
    "        break\n",
    "    print(index, char) "
   ]
  },
  {
   "cell_type": "markdown",
   "metadata": {},
   "source": [
    "\n",
    "**6. For cyklus s `else`:**\n",
    "\n",
    "Vypište první tři prvky seznamu, pokud je seznam o délce 3 a kratší, vypište na závěr \"Krátký seznam!\".\n",
    "\n",
    "Vyzkoušejte na  `[1, 2, 3, 4, 5]` a `[1, 2]`.\n"
   ]
  },
  {
   "cell_type": "code",
   "execution_count": 7,
   "metadata": {},
   "outputs": [
    {
     "name": "stdout",
     "output_type": "stream",
     "text": [
      "1 1\n",
      "2 2\n",
      "3 3\n"
     ]
    }
   ],
   "source": [
    "muj_list = [1, 2, 3, 4, 5]\n",
    "\n",
    "for index, char in enumerate(muj_list, 1):\n",
    "    if index > 3:\n",
    "        break\n",
    "    print(index, char)\n",
    "else:\n",
    "    print(\"Krátký seznam!\")"
   ]
  },
  {
   "cell_type": "code",
   "execution_count": 8,
   "metadata": {},
   "outputs": [
    {
     "name": "stdout",
     "output_type": "stream",
     "text": [
      "1 1\n",
      "2 2\n",
      "Krátký seznam!\n"
     ]
    }
   ],
   "source": [
    "muj_list = [1, 2]\n",
    "\n",
    "for index, char in enumerate(muj_list, 1):\n",
    "    if index > 3:\n",
    "        break\n",
    "    print(index, char)\n",
    "else:\n",
    "    print(\"Krátký seznam!\")"
   ]
  },
  {
   "cell_type": "markdown",
   "metadata": {},
   "source": [
    "\n",
    "**7. For cyklus s `continue`:**\n",
    "\n",
    "Vypište všechny sudá čísla ze seznamu `[1, 2, 3, 4, 5]`.\n"
   ]
  },
  {
   "cell_type": "code",
   "execution_count": 11,
   "metadata": {},
   "outputs": [
    {
     "name": "stdout",
     "output_type": "stream",
     "text": [
      "8\n",
      "16\n",
      "12564\n",
      "4\n",
      "2\n",
      "0\n"
     ]
    }
   ],
   "source": [
    "seznam = [13, 5 , 8 ,7, 16, 12564, 27, 9, 4, 3, 2, 1, 0]\n",
    "\n",
    "for elem in seznam:\n",
    "    if elem % 2 != 0:\n",
    "        continue\n",
    "    print(elem)"
   ]
  },
  {
   "cell_type": "markdown",
   "metadata": {},
   "source": [
    "\n",
    "**8. Krátce k iterovatelným objektům:**\n",
    "\n",
    "Uveďte 5 příkladů iterovatelných objektů (např. `string`, `list`, ...). Pomocí for cyklu vypište všechny prvky každého objektu.\n"
   ]
  },
  {
   "cell_type": "code",
   "execution_count": 13,
   "metadata": {},
   "outputs": [],
   "source": [
    "muj_string = \"Ahoj světe!\"\n",
    "muj_list = [1, 2, 3, 4, 5]\n",
    "muj_set = {1, 2, 3, 4, 5}\n",
    "muj_tuple = (1, 2, 3, 4, 5)\n",
    "muj_dict = {1: \"jedna\", 2: \"dva\", 3: \"tři\", 4: \"čtyři\", 5: \"pět\"}"
   ]
  },
  {
   "cell_type": "code",
   "execution_count": 14,
   "metadata": {},
   "outputs": [
    {
     "name": "stdout",
     "output_type": "stream",
     "text": [
      "A\n",
      "h\n",
      "o\n",
      "j\n",
      " \n",
      "s\n",
      "v\n",
      "ě\n",
      "t\n",
      "e\n",
      "!\n"
     ]
    }
   ],
   "source": [
    "for elem in muj_string:\n",
    "    print(elem)"
   ]
  },
  {
   "cell_type": "code",
   "execution_count": 15,
   "metadata": {},
   "outputs": [
    {
     "name": "stdout",
     "output_type": "stream",
     "text": [
      "1\n",
      "2\n",
      "3\n",
      "4\n",
      "5\n"
     ]
    }
   ],
   "source": [
    "for elem in muj_list:\n",
    "    print(elem)"
   ]
  },
  {
   "cell_type": "code",
   "execution_count": 16,
   "metadata": {},
   "outputs": [
    {
     "name": "stdout",
     "output_type": "stream",
     "text": [
      "1\n",
      "2\n",
      "3\n",
      "4\n",
      "5\n"
     ]
    }
   ],
   "source": [
    "for elem in muj_tuple:\n",
    "    print(elem)"
   ]
  },
  {
   "cell_type": "code",
   "execution_count": 17,
   "metadata": {},
   "outputs": [
    {
     "name": "stdout",
     "output_type": "stream",
     "text": [
      "1\n",
      "2\n",
      "3\n",
      "4\n",
      "5\n"
     ]
    }
   ],
   "source": [
    "for elem in muj_set:\n",
    "    print(elem)"
   ]
  },
  {
   "cell_type": "code",
   "execution_count": 21,
   "metadata": {},
   "outputs": [
    {
     "name": "stdout",
     "output_type": "stream",
     "text": [
      "1 jedna\n",
      "2 dva\n",
      "3 tři\n",
      "4 čtyři\n",
      "5 pět\n"
     ]
    }
   ],
   "source": [
    "for key, val in muj_dict.items():\n",
    "    print(key, val)"
   ]
  },
  {
   "cell_type": "markdown",
   "metadata": {},
   "source": [
    "\n",
    "**9. Iterování přes slovník:**\n",
    "\n",
    "Pro slovník `{'a': 1, 'b': 2, 'c': 3}` vypište vždy na řádek klíč a hodnotu. (Použijte metodu `items`.)"
   ]
  },
  {
   "cell_type": "code",
   "execution_count": null,
   "metadata": {},
   "outputs": [],
   "source": []
  },
  {
   "cell_type": "markdown",
   "metadata": {},
   "source": [
    "\n",
    "**10. Zip:**\n",
    "\n",
    "Zabalte seznamy `[\"a\", \"b\", \"c\"]` a `[1, 2, 3]` do jednoho iterátoru pomocí funkce `zip` a vypište všechny dvojice.\n"
   ]
  },
  {
   "cell_type": "code",
   "execution_count": 22,
   "metadata": {},
   "outputs": [
    {
     "name": "stdout",
     "output_type": "stream",
     "text": [
      "a 1\n",
      "b 2\n",
      "c 3\n"
     ]
    }
   ],
   "source": [
    "sez1 = [\"a\", \"b\", \"c\"]\n",
    "sez2 = [1, 2, 3]\n",
    "\n",
    "for elem1, elem2 in zip(sez1, sez2):\n",
    "    print(elem1, elem2)"
   ]
  },
  {
   "cell_type": "markdown",
   "metadata": {},
   "source": [
    "\n",
    "**11. While cyklus:**\n",
    "\n",
    "Při počátečním vkladu 10000 Kč, roční úrokové sazbě 9 % (peníze vždy přibydou na konci roku) a ročním vkladu 1000 Kč (vkládáme vždy na začátku roku, počínaje hned prvním, tedy ze začátku dáme na účet 11000 Kč), kolik let bude trvat, než budeme mít na učtě milion Kč? "
   ]
  },
  {
   "cell_type": "code",
   "execution_count": 23,
   "metadata": {},
   "outputs": [
    {
     "name": "stdout",
     "output_type": "stream",
     "text": [
      "Po 1 letech mám 11990.00 Kč\n",
      "Po 2 letech mám 14159.10 Kč\n",
      "Po 3 letech mám 16523.42 Kč\n",
      "Po 4 letech mám 19100.53 Kč\n",
      "Po 5 letech mám 21909.57 Kč\n",
      "Po 6 letech mám 24971.44 Kč\n",
      "Po 7 letech mám 28308.87 Kč\n",
      "Po 8 letech mám 31946.66 Kč\n",
      "Po 9 letech mám 35911.86 Kč\n",
      "Po 10 letech mám 40233.93 Kč\n",
      "Po 11 letech mám 44944.98 Kč\n",
      "Po 12 letech mám 50080.03 Kč\n",
      "Po 13 letech mám 55677.24 Kč\n",
      "Po 14 letech mám 61778.19 Kč\n",
      "Po 15 letech mám 68428.22 Kč\n",
      "Po 16 letech mám 75676.76 Kč\n",
      "Po 17 letech mám 83577.67 Kč\n",
      "Po 18 letech mám 92189.66 Kč\n",
      "Po 19 letech mám 101576.73 Kč\n",
      "Po 20 letech mám 111808.64 Kč\n",
      "Po 21 letech mám 122961.42 Kč\n",
      "Po 22 letech mám 135117.94 Kč\n",
      "Po 23 letech mám 148368.56 Kč\n",
      "Po 24 letech mám 162811.73 Kč\n",
      "Po 25 letech mám 178554.78 Kč\n",
      "Po 26 letech mám 195714.71 Kč\n",
      "Po 27 letech mám 214419.04 Kč\n",
      "Po 28 letech mám 234806.75 Kč\n",
      "Po 29 letech mám 257029.36 Kč\n",
      "Po 30 letech mám 281252.00 Kč\n",
      "Po 31 letech mám 307654.68 Kč\n",
      "Po 32 letech mám 336433.60 Kč\n",
      "Po 33 letech mám 367802.63 Kč\n",
      "Po 34 letech mám 401994.86 Kč\n",
      "Po 35 letech mám 439264.40 Kč\n",
      "Po 36 letech mám 479888.20 Kč\n",
      "Po 37 letech mám 524168.14 Kč\n",
      "Po 38 letech mám 572433.27 Kč\n",
      "Po 39 letech mám 625042.26 Kč\n",
      "Po 40 letech mám 682386.07 Kč\n",
      "Po 41 letech mám 744890.81 Kč\n",
      "Po 42 letech mám 813020.98 Kč\n",
      "Po 43 letech mám 887282.87 Kč\n",
      "Po 44 letech mám 968228.33 Kč\n",
      "Po 45 letech mám 1056458.88 Kč\n"
     ]
    }
   ],
   "source": [
    "ucet = 10_000\n",
    "pocet_let = 0\n",
    "\n",
    "while ucet < 1e6:\n",
    "    ucet += 1000\n",
    "    ucet *= 1.09\n",
    "    pocet_let += 1\n",
    "    print(f\"Po {pocet_let} letech mám {ucet:.2f} Kč\")"
   ]
  },
  {
   "cell_type": "markdown",
   "metadata": {},
   "source": [
    "\n",
    "# Generátory a iterátory:\n",
    "\n",
    "1. Napište generátor (funkci), který vytváří Fibonacciho posloupnost a postupně vrátí prvních $n$ členů. Otestujte pomocí for cyklu.\n"
   ]
  },
  {
   "cell_type": "code",
   "execution_count": 24,
   "metadata": {},
   "outputs": [
    {
     "name": "stdout",
     "output_type": "stream",
     "text": [
      "0\n",
      "1\n",
      "1\n",
      "2\n",
      "3\n",
      "5\n",
      "8\n",
      "13\n",
      "21\n",
      "34\n"
     ]
    }
   ],
   "source": [
    "def fibonacci(n):\n",
    "    a, b = 0, 1\n",
    "    for i in range(n):\n",
    "        yield a\n",
    "        a, b = b, a + b\n",
    "\n",
    "for i in fibonacci(10):\n",
    "    print(i)"
   ]
  },
  {
   "cell_type": "markdown",
   "metadata": {},
   "source": [
    "2. Napište generátor výraz, který bude vracet všechny sudá čísla menší než 100. Otestujte pomocí for cyklu."
   ]
  },
  {
   "cell_type": "code",
   "execution_count": 26,
   "metadata": {},
   "outputs": [
    {
     "data": {
      "text/plain": [
       "[0,\n",
       " 2,\n",
       " 4,\n",
       " 6,\n",
       " 8,\n",
       " 10,\n",
       " 12,\n",
       " 14,\n",
       " 16,\n",
       " 18,\n",
       " 20,\n",
       " 22,\n",
       " 24,\n",
       " 26,\n",
       " 28,\n",
       " 30,\n",
       " 32,\n",
       " 34,\n",
       " 36,\n",
       " 38,\n",
       " 40,\n",
       " 42,\n",
       " 44,\n",
       " 46,\n",
       " 48,\n",
       " 50,\n",
       " 52,\n",
       " 54,\n",
       " 56,\n",
       " 58,\n",
       " 60,\n",
       " 62,\n",
       " 64,\n",
       " 66,\n",
       " 68,\n",
       " 70,\n",
       " 72,\n",
       " 74,\n",
       " 76,\n",
       " 78,\n",
       " 80,\n",
       " 82,\n",
       " 84,\n",
       " 86,\n",
       " 88,\n",
       " 90,\n",
       " 92,\n",
       " 94,\n",
       " 96,\n",
       " 98]"
      ]
     },
     "execution_count": 26,
     "metadata": {},
     "output_type": "execute_result"
    }
   ],
   "source": [
    "gen_suda = (i for i in range(100) if i % 2 == 0)\n",
    "\n",
    "list(gen_suda)"
   ]
  },
  {
   "cell_type": "markdown",
   "metadata": {},
   "source": [
    "3. Pro dané číslo `n` vytvořte generátor, který bude vracet True/False hodnoty, zda je dělitelné postupně čísly od `2` do `n-1`. Otestujte pro několik čísel, pomocí funkce `all()` přičemž by výsledný výraz měl fungovat jako test prvočíselnosti. "
   ]
  },
  {
   "cell_type": "code",
   "execution_count": 34,
   "metadata": {},
   "outputs": [
    {
     "data": {
      "text/plain": [
       "False"
      ]
     },
     "execution_count": 34,
     "metadata": {},
     "output_type": "execute_result"
    }
   ],
   "source": [
    "n = 8\n",
    "gen_delitelnost = (n % i != 0 for i in range(2, n))\n",
    "all(gen_delitelnost) "
   ]
  },
  {
   "cell_type": "code",
   "execution_count": 35,
   "metadata": {},
   "outputs": [
    {
     "data": {
      "text/plain": [
       "[2,\n",
       " 3,\n",
       " 5,\n",
       " 7,\n",
       " 11,\n",
       " 13,\n",
       " 17,\n",
       " 19,\n",
       " 23,\n",
       " 29,\n",
       " 31,\n",
       " 37,\n",
       " 41,\n",
       " 43,\n",
       " 47,\n",
       " 53,\n",
       " 59,\n",
       " 61,\n",
       " 67,\n",
       " 71,\n",
       " 73,\n",
       " 79,\n",
       " 83,\n",
       " 89,\n",
       " 97]"
      ]
     },
     "execution_count": 35,
     "metadata": {},
     "output_type": "execute_result"
    }
   ],
   "source": [
    "[n for n in range(2, 100) if all((n % i != 0 for i in range(2, n)))]"
   ]
  },
  {
   "cell_type": "markdown",
   "metadata": {},
   "source": [
    "\n",
    "# List comprehension:\n",
    "1. Vytvořte seznam čísel od 1 do 10 pomocí list comprehension.\n"
   ]
  },
  {
   "cell_type": "code",
   "execution_count": 36,
   "metadata": {},
   "outputs": [
    {
     "data": {
      "text/plain": [
       "[1, 2, 3, 4, 5, 6, 7, 8, 9, 10]"
      ]
     },
     "execution_count": 36,
     "metadata": {},
     "output_type": "execute_result"
    }
   ],
   "source": [
    "[i for i in range(1,11)]"
   ]
  },
  {
   "cell_type": "code",
   "execution_count": 37,
   "metadata": {},
   "outputs": [
    {
     "data": {
      "text/plain": [
       "[1, 2, 3, 4, 5, 6, 7, 8, 9, 10]"
      ]
     },
     "execution_count": 37,
     "metadata": {},
     "output_type": "execute_result"
    }
   ],
   "source": [
    "list(range(1, 11))"
   ]
  },
  {
   "cell_type": "markdown",
   "metadata": {},
   "source": [
    "2. Vytvořte seznam druhých mocnin čísel od 1 do 10 pomocí list comprehension.\n"
   ]
  },
  {
   "cell_type": "code",
   "execution_count": 38,
   "metadata": {},
   "outputs": [
    {
     "data": {
      "text/plain": [
       "[1, 4, 9, 16, 25, 36, 49, 64, 81, 100]"
      ]
     },
     "execution_count": 38,
     "metadata": {},
     "output_type": "execute_result"
    }
   ],
   "source": [
    "[i**2 for i in range(1, 11)]"
   ]
  },
  {
   "cell_type": "markdown",
   "metadata": {},
   "source": [
    "3. Vytvořte seznam prvočísel od 1 do 100 pomocí list comprehension. Hint (použijte test prvočíselnosti z předchozích úloh).\n"
   ]
  },
  {
   "cell_type": "code",
   "execution_count": 40,
   "metadata": {},
   "outputs": [
    {
     "data": {
      "text/plain": [
       "[2,\n",
       " 3,\n",
       " 5,\n",
       " 7,\n",
       " 11,\n",
       " 13,\n",
       " 17,\n",
       " 19,\n",
       " 23,\n",
       " 29,\n",
       " 31,\n",
       " 37,\n",
       " 41,\n",
       " 43,\n",
       " 47,\n",
       " 53,\n",
       " 59,\n",
       " 61,\n",
       " 67,\n",
       " 71,\n",
       " 73,\n",
       " 79,\n",
       " 83,\n",
       " 89,\n",
       " 97]"
      ]
     },
     "execution_count": 40,
     "metadata": {},
     "output_type": "execute_result"
    }
   ],
   "source": [
    "[n for n in range(2, 100) if all(n % i != 0 for i in range(2, n))]"
   ]
  },
  {
   "cell_type": "markdown",
   "metadata": {},
   "source": [
    "\n",
    "# Jupyter magics:\n",
    "1. Použijte funkci `%%writefile` a pomocí ní vytvořte .py soubor sloužící jako modul mající dvě funkce:\n",
    "\n",
    "```python\n",
    "def factorial_loop(n):\n",
    "    result = 1\n",
    "    for i in range(1, n + 1):\n",
    "        result *= i\n",
    "    return result\n",
    "\n",
    "def factorial_recursive(n):\n",
    "    if n == 1:\n",
    "        return 1\n",
    "    else:\n",
    "        return n * factorial_recursive(n - 1)\n",
    "```\n",
    "\n",
    "Modul pojmenujte `factorial.py`. Zkuste jej načíst a zavolat obě funkce."
   ]
  },
  {
   "cell_type": "code",
   "execution_count": 1,
   "metadata": {},
   "outputs": [
    {
     "name": "stdout",
     "output_type": "stream",
     "text": [
      "Writing moje_funkce.py\n"
     ]
    }
   ],
   "source": [
    "%%writefile moje_funkce.py\n",
    "def factorial_loop(n):\n",
    "    result = 1\n",
    "    for i in range(1, n + 1):\n",
    "        result *= i\n",
    "    return result\n",
    "\n",
    "def factorial_recursive(n):\n",
    "    if n == 1:\n",
    "        return 1\n",
    "    else:\n",
    "        return n * factorial_recursive(n - 1)"
   ]
  },
  {
   "cell_type": "markdown",
   "metadata": {},
   "source": [
    "2. Použijte magic příkazy `%time %timeit %%time` a `%%timeit` k měření času běhu dvou variant výpočtu faktroriálu (např. pro `n=200`).\n"
   ]
  },
  {
   "cell_type": "code",
   "execution_count": 2,
   "metadata": {},
   "outputs": [
    {
     "name": "stdout",
     "output_type": "stream",
     "text": [
      "9.65 μs ± 130 ns per loop (mean ± std. dev. of 7 runs, 100,000 loops each)\n",
      "23.9 μs ± 196 ns per loop (mean ± std. dev. of 7 runs, 10,000 loops each)\n"
     ]
    }
   ],
   "source": [
    "from moje_funkce import factorial_loop, factorial_recursive\n",
    "%timeit factorial_loop(200)\n",
    "%timeit factorial_recursive(200)"
   ]
  },
  {
   "cell_type": "code",
   "execution_count": 3,
   "metadata": {},
   "outputs": [
    {
     "name": "stdout",
     "output_type": "stream",
     "text": [
      "CPU times: user 26 μs, sys: 2 μs, total: 28 μs\n",
      "Wall time: 31.5 μs\n"
     ]
    },
    {
     "data": {
      "text/plain": [
       "788657867364790503552363213932185062295135977687173263294742533244359449963403342920304284011984623904177212138919638830257642790242637105061926624952829931113462857270763317237396988943922445621451664240254033291864131227428294853277524242407573903240321257405579568660226031904170324062351700858796178922222789623703897374720000000000000000000000000000000000000000000000000"
      ]
     },
     "execution_count": 3,
     "metadata": {},
     "output_type": "execute_result"
    }
   ],
   "source": [
    "%%time\n",
    "factorial_loop(200)"
   ]
  },
  {
   "cell_type": "code",
   "execution_count": 4,
   "metadata": {},
   "outputs": [
    {
     "name": "stdout",
     "output_type": "stream",
     "text": [
      "CPU times: user 65 μs, sys: 5 μs, total: 70 μs\n",
      "Wall time: 73.2 μs\n"
     ]
    },
    {
     "data": {
      "text/plain": [
       "788657867364790503552363213932185062295135977687173263294742533244359449963403342920304284011984623904177212138919638830257642790242637105061926624952829931113462857270763317237396988943922445621451664240254033291864131227428294853277524242407573903240321257405579568660226031904170324062351700858796178922222789623703897374720000000000000000000000000000000000000000000000000"
      ]
     },
     "execution_count": 4,
     "metadata": {},
     "output_type": "execute_result"
    }
   ],
   "source": [
    "%%time\n",
    "factorial_recursive(200)"
   ]
  },
  {
   "cell_type": "markdown",
   "metadata": {},
   "source": [
    "\n",
    "# Práce s řetězci:\n",
    "\n",
    "1. Použíjte funkce z minulého úkolu a v cyklu spočtěte faktoriál `n` pro hodnoty od 0 do 10. Pomocí f-strings vypište výsledky ve formátu \"n = 3, faktoriál = 6\" pro všechny hodnoty `n`.\n"
   ]
  },
  {
   "cell_type": "code",
   "execution_count": 6,
   "metadata": {},
   "outputs": [
    {
     "name": "stdout",
     "output_type": "stream",
     "text": [
      "i=0, factorial_loop(i)=1\n",
      "i=1, factorial_loop(i)=1\n",
      "i=2, factorial_loop(i)=2\n",
      "i=3, factorial_loop(i)=6\n",
      "i=4, factorial_loop(i)=24\n",
      "i=5, factorial_loop(i)=120\n",
      "i=6, factorial_loop(i)=720\n",
      "i=7, factorial_loop(i)=5040\n",
      "i=8, factorial_loop(i)=40320\n",
      "i=9, factorial_loop(i)=362880\n",
      "i=10, factorial_loop(i)=3628800\n"
     ]
    }
   ],
   "source": [
    "for i in range(11):\n",
    "    print(f\"{i=}, {factorial_loop(i)=}\")"
   ]
  },
  {
   "cell_type": "markdown",
   "metadata": {},
   "source": [
    "2. Vytvořte funkci `je_palindrom` která bude testovat, zda je zadaný řetězec palindrom. Funkce bude vracet `True` pokud je řetězec palindrom a `False` pokud není. Funkci otestujte na několika příkladech."
   ]
  },
  {
   "cell_type": "code",
   "execution_count": 9,
   "metadata": {},
   "outputs": [
    {
     "name": "stdout",
     "output_type": "stream",
     "text": [
      "je_palindrome('oko')=True\n",
      "je_palindrome('oko1')=False\n",
      "je_palindrome('oko1oko')=True\n"
     ]
    }
   ],
   "source": [
    "def je_palindrome(s):\n",
    "    return s == s[::-1]\n",
    "\n",
    "print(f\"{je_palindrome('oko')=}\")\n",
    "print(f\"{je_palindrome('oko1')=}\")\n",
    "print(f\"{je_palindrome('oko1oko')=}\")\n",
    "\n"
   ]
  },
  {
   "cell_type": "markdown",
   "metadata": {},
   "source": [
    "3. Do proměnné uložte větu \"Python je nejlepší programovací jazyk\". \n",
    "    - převeďtě na \"nadpis\" (velká počáteční písmena ve všech slovech)\n",
    "    - nahraďte všechny mezery pomlčkou"
   ]
  },
  {
   "cell_type": "code",
   "execution_count": 12,
   "metadata": {},
   "outputs": [
    {
     "name": "stdout",
     "output_type": "stream",
     "text": [
      "Python Je Nejlepší Programovací Jazyk\n",
      "Python-je-nejlepší-programovací-jazyk\n"
     ]
    }
   ],
   "source": [
    "veta = \"Python je nejlepší programovací jazyk\"\n",
    "print(veta.title())\n",
    "print(veta.replace(\" \", \"-\"))"
   ]
  },
  {
   "cell_type": "markdown",
   "metadata": {},
   "source": [
    "4. Pro stejný řetězec zjistěte, kolikrát se zde vyskytuje písmeno \"o\"."
   ]
  },
  {
   "cell_type": "code",
   "execution_count": 13,
   "metadata": {},
   "outputs": [
    {
     "name": "stdout",
     "output_type": "stream",
     "text": [
      "3\n"
     ]
    }
   ],
   "source": [
    "o_count = veta.count(\"o\")\n",
    "print(o_count)"
   ]
  },
  {
   "cell_type": "markdown",
   "metadata": {},
   "source": [
    "5. Převeďte řetězec z bodu 4 na list slov."
   ]
  },
  {
   "cell_type": "code",
   "execution_count": 14,
   "metadata": {},
   "outputs": [
    {
     "data": {
      "text/plain": [
       "['Python', 'je', 'nejlepší', 'programovací', 'jazyk']"
      ]
     },
     "execution_count": 14,
     "metadata": {},
     "output_type": "execute_result"
    }
   ],
   "source": [
    "veta.split()"
   ]
  },
  {
   "cell_type": "markdown",
   "metadata": {},
   "source": [
    "\n",
    "# Práce se soubory:\n",
    "1. Pomocí `%%writefile` vytvořte soubor s nějakým textem.\n"
   ]
  },
  {
   "cell_type": "code",
   "execution_count": 15,
   "metadata": {},
   "outputs": [
    {
     "name": "stdout",
     "output_type": "stream",
     "text": [
      "Writing test_text.txt\n"
     ]
    }
   ],
   "source": [
    "%%writefile test_text.txt\n",
    "Python je nejlepší programovací jazyk\n",
    "Python je nejlepší programovací jazyk\n",
    "Python je nejlepší programovací jazyk"
   ]
  },
  {
   "cell_type": "markdown",
   "metadata": {},
   "source": [
    "2. Otevřete soubor pro čtení a vypište jeho obsah.\n"
   ]
  },
  {
   "cell_type": "code",
   "execution_count": 16,
   "metadata": {},
   "outputs": [
    {
     "name": "stdout",
     "output_type": "stream",
     "text": [
      "Python je nejlepší programovací jazyk\n",
      "Python je nejlepší programovací jazyk\n",
      "Python je nejlepší programovací jazyk\n",
      "\n"
     ]
    }
   ],
   "source": [
    "with open(\"test_text.txt\", \"r\") as f:\n",
    "    text = f.read()\n",
    "    print(text)"
   ]
  },
  {
   "cell_type": "markdown",
   "metadata": {},
   "source": [
    "3. Otevřete jiný soubor pro zápis a napište do něj textový řetězec.\n"
   ]
  },
  {
   "cell_type": "code",
   "execution_count": 17,
   "metadata": {},
   "outputs": [],
   "source": [
    "with open(\"test_text2.txt\", \"w\") as f:\n",
    "    f.write(\"Python je nejlepší programovací jazyk\\n\" * 3)"
   ]
  },
  {
   "cell_type": "markdown",
   "metadata": {},
   "source": [
    "4. Pomocí f-strings zapište do souboru tabulku čísel od 1 do 10, jejich druhých mocnin a jejich druhých odmocnin."
   ]
  },
  {
   "cell_type": "code",
   "execution_count": 20,
   "metadata": {},
   "outputs": [],
   "source": [
    "with open(\"tabulka_mocnin_a_odmocnin.txt\", \"w\") as f:\n",
    "    for i in range(1, 11):\n",
    "        f.write(f\"{i:>2} {i**2:>4} {i**0.5:>8.2f}\\n\")"
   ]
  },
  {
   "cell_type": "code",
   "execution_count": 21,
   "metadata": {},
   "outputs": [
    {
     "name": "stdout",
     "output_type": "stream",
     "text": [
      " 1    1     1.00\n",
      " 2    4     1.41\n",
      " 3    9     1.73\n",
      " 4   16     2.00\n",
      " 5   25     2.24\n",
      " 6   36     2.45\n",
      " 7   49     2.65\n",
      " 8   64     2.83\n",
      " 9   81     3.00\n",
      "10  100     3.16\n"
     ]
    }
   ],
   "source": [
    "%less tabulka_mocnin_a_odmocnin.txt"
   ]
  }
 ],
 "metadata": {
  "kernelspec": {
   "display_name": "Python 3",
   "language": "python",
   "name": "python3"
  },
  "language_info": {
   "codemirror_mode": {
    "name": "ipython",
    "version": 3
   },
   "file_extension": ".py",
   "mimetype": "text/x-python",
   "name": "python",
   "nbconvert_exporter": "python",
   "pygments_lexer": "ipython3",
   "version": "3.13.2"
  },
  "orig_nbformat": 4,
  "vscode": {
   "interpreter": {
    "hash": "e7370f93d1d0cde622a1f8e1c04877d8463912d04d973331ad4851f04de6915a"
   }
  }
 },
 "nbformat": 4,
 "nbformat_minor": 2
}
