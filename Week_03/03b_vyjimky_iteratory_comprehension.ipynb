{
 "cells": [
  {
   "cell_type": "markdown",
   "metadata": {},
   "source": [
    "# Výjimky a chyby\n",
    "Chyby v Pythonu můžeme rozlišit na *syntaktické chyby* a *chyby za běhu* (*runtime*). Syntaktické chyby jsou způsobeny například nespárovanými závorkami, špatným odsazením apod. Program se syntaktickými chybami nelze vůbec spustit. Častější jsou chyby za běhu, které vznikají nesprávným použitím nějaké funkce, chybějícími daty apod. Jelikož je Python interpretovaný jazyk, většina chyb se ukáže až za běhu, na rozdíl od kompilovaných jazyků, kde se mnoho chyb objeví při kompilaci.\n",
    "\n",
    "## Výjimky\n",
    "\n",
    "Výjimka (*exception*) je vyhozena ve chvíli, kdy dojde k chybě (respektive ve chvíli, kdy autor funkce, kterou používáme, považuje naše užití za chybné). Pokud tuto výjimku nezachytíme (viz dále), běh programu se přeruší. Například dělení nulou skončí výjimkou `ZeroDivisionError`:\n",
    "\n",
    "### Chytáme výjimky\n",
    "Pokud nechceme, aby běh programu skončil v momentě výjimky, můžeme použít blok `try` - `except`. Ten funguje tak, že rizikovou část kódu umístíme do bloku `try`, do bloku `except` pak umístíme instrukce pro případ chyby (výjimky).\n"
   ]
  },
  {
   "cell_type": "code",
   "execution_count": null,
   "metadata": {},
   "outputs": [],
   "source": [
    "# ukázka try/except\n",
    "\n",
    "def deleni(a, b):\n",
    "    return a / b\n",
    "\n",
    "def deleni_upravene(a, b):\n",
    "    try:\n",
    "        return a / b\n",
    "    except ZeroDivisionError:\n",
    "        return \"Nelze dělit nulou!\"\n",
    "    \n",
    "print(deleni_upravene(1, 0))\n",
    "print(deleni_upravene(1, 2))\n",
    "print(deleni(1, 0))"
   ]
  },
  {
   "cell_type": "code",
   "execution_count": null,
   "metadata": {},
   "outputs": [],
   "source": [
    "def deleni_upravene(a, b):\n",
    "    try:\n",
    "        return a / b\n",
    "    except ZeroDivisionError:\n",
    "        return \"Nelze dělit nulou!\"\n",
    "    except TypeError:\n",
    "        return \"Nelze dělit řetězcem!\"\n",
    "\n",
    "\n",
    "print(deleni_upravene(1, 0))\n",
    "print(deleni_upravene(1, \"0\"))"
   ]
  },
  {
   "cell_type": "markdown",
   "metadata": {},
   "source": [
    "`except` lze také použít bez specifikace typu výjimky, v tom případě se zachytí všechny výjimky. Toto ale není dobrá praxe, protože vlastně nevíme, jaký typ chyby \"obcházíme\".\n",
    "\n",
    "Kompletní try-except blok může ještě obsahovat bloky `else` a `finally`, viz [dokumentace](http://docs.python.org/3/reference/compound_stmts.html#try). Blok `finally` se hodí zejména pro \"úklid\", například zavření souboru apod.\n"
   ]
  },
  {
   "cell_type": "code",
   "execution_count": null,
   "metadata": {},
   "outputs": [],
   "source": [
    "# kopletní try/except/else/finally\n",
    "a = 1\n",
    "b = 0\n",
    "try:\n",
    "    c = a / b\n",
    "except:\n",
    "    print(\"Nastala nějaká chyba, nestarám se o to jaká.\")\n",
    "else:\n",
    "    print(\"Všechno v pořádku.\")\n",
    "finally:\n",
    "    print(\"Toto se vždy provede.\")"
   ]
  },
  {
   "cell_type": "markdown",
   "metadata": {},
   "source": [
    "Pomocí modulu traceback si můžeme nechat vypsat podrobnější informace jak k vyjímce došlo, to se může hodit při ladění."
   ]
  },
  {
   "cell_type": "code",
   "execution_count": null,
   "metadata": {},
   "outputs": [],
   "source": [
    "import traceback\n",
    "\n",
    "a = 1\n",
    "b = 0\n",
    "try:\n",
    "    c = a / b\n",
    "except:\n",
    "    print(\"Nastala nějaká chyba, nestarám se o to jaká.\")\n",
    "    traceback.print_exc() # dá se nastavit na výstup do souboru\n",
    "else:\n",
    "    print(\"Všechno v pořádku.\")\n",
    "finally:\n",
    "    print(\"Toto se vždy provede.\")\n",
    "\n",
    "print(\"A stale jedeme dál.\")\n"
   ]
  },
  {
   "cell_type": "markdown",
   "metadata": {},
   "source": [
    "### Vytváříme vlastní výjimky\n",
    "Výjimku můžeme samozřejmě vyhodit i v našem kódu pomocí klíčového slova `raise`. Pokud bychom chtěli např. kontrolovat vstup nějaké funkce, uděláme to takto:"
   ]
  },
  {
   "cell_type": "code",
   "execution_count": null,
   "metadata": {},
   "outputs": [],
   "source": [
    "# ukázka raise\n",
    "def zaplatit(cena):\n",
    "    if cena > 100:\n",
    "        raise ValueError(\"Cena je moc vysoká!\")\n",
    "    else:\n",
    "        print(\"Zaplatil jsem\", cena, \"Kč.\")\n",
    "        \n",
    "zaplatit(50)\n",
    "zaplatit(150)"
   ]
  },
  {
   "cell_type": "markdown",
   "metadata": {},
   "source": [
    "# Generátory a iterátory\n",
    "Abychom se v tomto tématu lépe zorientovali, začneme s rozčleněním. Budeme používat tyto tři termíny:\n",
    "- `iterable` (iterovatelný objekt) - objekt, který umí vracet své prvky jeden po druhém. Příklady zahrnují:\n",
    "    - kontejnery (seznam, slovník, ...)\n",
    "    - řetězec\n",
    "    - range\n",
    "    - objekt typu stream (například `file`)\n",
    "- `iterator` (iterátor) - objekt, který umí iterovat (implementuje tzv. protokol iterátoru). Lze vytvořit z iterovatelného objektu pomocí funkce `iter()`.\n",
    "    - metoda `__iter__` vrací samotný objekt\n",
    "    - metoda `__next__` vrací další prvek (na konci vyhodí výjimku `StopIteration`)\n",
    "- `generator` (generátor) - je typ iterátoru. Má dvě varianty:\n",
    "    - generátorová funkce - funkce, která vrací výstupy postupně pomocí `yield` místo `return`\n",
    "    - generátorový výraz - výraz využívající syntaxi: **(**`výraz` **for** `proměnná` **in** `iterovatelný_objekt` **if** `podmínka`**)**\n",
    "\n",
    "Pěkné vysvětlení lze najít i zde: [Iterables vs. Iterators vs. Generators](http://nvie.com/posts/iterators-vs-generators/)\n"
   ]
  },
  {
   "cell_type": "code",
   "execution_count": null,
   "metadata": {},
   "outputs": [],
   "source": [
    "# ukázka iterable objektů\n",
    "muj_list = [1, 2, 3, 4, 5]\n",
    "muj_string = \"ahoj\"\n",
    "muj_double = 1.5\n",
    "print(iter(muj_list))\n",
    "print(iter(muj_string))\n",
    "# print(iter(muj_double))  # tohle skončí chybou"
   ]
  },
  {
   "cell_type": "code",
   "execution_count": null,
   "metadata": {},
   "outputs": [],
   "source": [
    "# ukázka iterátorů\n",
    "muj_list = [1, 2, 3, 4, 5]\n",
    "muj_iterator = iter(muj_list)\n",
    "print(muj_iterator.__iter__())\n",
    "print(muj_iterator.__next__())\n",
    "print(next(muj_iterator))\n",
    "print(next(muj_iterator))\n",
    "print(muj_iterator.__next__())\n",
    "print(next(muj_iterator))\n",
    "print(next(muj_iterator))"
   ]
  },
  {
   "cell_type": "code",
   "execution_count": null,
   "metadata": {},
   "outputs": [],
   "source": [
    "# generator funkce\n",
    "def generator1():\n",
    "    yield \"Ahoj\"\n",
    "    yield \"světe\"\n",
    "    yield \"jak\"\n",
    "    yield \"se\"\n",
    "    yield \"máš?\"\n",
    "\n",
    "\n",
    "def generator2(start, konec):\n",
    "    for i in range(start, konec):\n",
    "        print(\"A tohle je další iterace!\")\n",
    "        yield i\n",
    "\n",
    "# ukázka použití generátoru\n",
    "gen1 = generator1()\n",
    "print(gen1)\n",
    "print(next(gen1))\n",
    "print(next(gen1))\n",
    "print(next(gen1))\n",
    "print(next(gen1))\n",
    "print(next(gen1))\n",
    "try:\n",
    "    print(next(gen1))\n",
    "except StopIteration:\n",
    "    print(f\"Generátor {gen1} vyčerpal všechny hodnoty.\")\n",
    "    \n",
    "gen2 = generator2(1, 6)\n",
    "print(gen2)\n",
    "print(next(gen2))\n",
    "print(next(gen2))\n",
    "print(next(gen2))\n",
    "print(next(gen2))\n",
    "print(next(gen2))\n",
    "try:\n",
    "    print(next(gen2))\n",
    "except StopIteration:\n",
    "    print(f\"Generátor {gen2} vyčerpal všechny hodnoty.\")\n"
   ]
  },
  {
   "cell_type": "code",
   "execution_count": null,
   "metadata": {},
   "outputs": [],
   "source": [
    "# generatorový výraz\n",
    "gen3 = (i for i in range(1, 6))\n",
    "print(gen3)\n",
    "print(next(gen3))\n",
    "print(next(gen3))\n",
    "print(next(gen3))\n",
    "print(next(gen3))\n",
    "print(next(gen3))\n",
    "try:\n",
    "    print(next(gen3))\n",
    "except StopIteration:\n",
    "    print(f\"Generátor {gen3} vyčerpal všechny hodnoty.\")"
   ]
  },
  {
   "cell_type": "code",
   "execution_count": null,
   "metadata": {},
   "outputs": [],
   "source": [
    "# generatorový výraz s podmínkou\n",
    "gen4 = (i for i in range(1, 8) if i % 2 == 0)\n",
    "print(gen4)\n",
    "print(next(gen4))\n",
    "print(next(gen4))\n",
    "print(next(gen4))\n",
    "try:\n",
    "    print(next(gen4))\n",
    "except StopIteration:\n",
    "    print(f\"Generátor {gen4} vyčerpal všechny hodnoty.\")"
   ]
  },
  {
   "cell_type": "markdown",
   "metadata": {},
   "source": [
    "# List/Set/Dict comprehensions\n",
    "List/Set/Dict comprehensions jsou způsob, jak vytvořit seznam, množinu nebo slovník pomocí jednoho řádku kódu. Všechny tyto konstrukce jsou velmi podobné jako generátorové výrazy.\n",
    "- List comprehension - vytvoří seznam, syntaxe: **[**`výraz` **for** `proměnná` **in** `iterovatelný_objekt` **if** `podmínka`**]**\n",
    "- Set comprehension - vytvoří množinu, syntaxe: **{**`výraz` **for** `proměnná` **in** `iterovatelný_objekt` **if** `podmínka`**}**\n",
    "- Dict comprehension - vytvoří slovník, syntaxe: **{**`klíč` **:** `hodnota` **for** `proměnná` **in** `iterovatelný_objekt` **if** `podmínka`**}**\n"
   ]
  },
  {
   "cell_type": "code",
   "execution_count": null,
   "metadata": {},
   "outputs": [],
   "source": [
    "# list comprehension\n",
    "print([i for i in range(1, 6)])\n",
    "print([i for i in range(1, 6) if i % 2 == 0])\n",
    "print([i + 1 for i in range(1, 6) if i % 2 == 0])\n",
    "print([(i, i**2, i**3) for i in range(1, 6)])"
   ]
  },
  {
   "cell_type": "code",
   "execution_count": null,
   "metadata": {},
   "outputs": [],
   "source": [
    "# set comprehension\n",
    "print({i for i in range(1, 6)})\n",
    "print({i for i in range(1, 6) if i % 2 == 0})\n",
    "print({i + 1 for i in range(1, 6) if i % 2 == 0})\n",
    "print({(i, i**2, i**3) for i in range(1, 6)})"
   ]
  },
  {
   "cell_type": "code",
   "execution_count": null,
   "metadata": {},
   "outputs": [],
   "source": [
    "# dict comprehension\n",
    "print({i: i**2 for i in range(1, 6)})\n",
    "print({i: i**2 for i in range(1, 6) if i % 2 == 0})\n",
    "print({i + 1: i**2 for i in range(1, 6) if i % 2 == 0})\n",
    "print({i: (i**2, i**3) for i in range(1, 6)})"
   ]
  }
 ],
 "metadata": {
  "kernelspec": {
   "display_name": "Python 3",
   "language": "python",
   "name": "python3"
  },
  "language_info": {
   "codemirror_mode": {
    "name": "ipython",
    "version": 3
   },
   "file_extension": ".py",
   "mimetype": "text/x-python",
   "name": "python",
   "nbconvert_exporter": "python",
   "pygments_lexer": "ipython3",
   "version": "3.13.2"
  },
  "orig_nbformat": 4,
  "vscode": {
   "interpreter": {
    "hash": "e7370f93d1d0cde622a1f8e1c04877d8463912d04d973331ad4851f04de6915a"
   }
  }
 },
 "nbformat": 4,
 "nbformat_minor": 2
}
