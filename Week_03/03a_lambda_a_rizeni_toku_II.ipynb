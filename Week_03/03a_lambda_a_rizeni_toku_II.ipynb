{
 "cells": [
  {
   "cell_type": "markdown",
   "metadata": {},
   "source": [
    "# Pokračování v prozkoumávání Pythonu\n",
    "V této lekci se budeme zabývat dalšími aspekty Pythonu. Budeme se věnovat:\n",
    "\n",
    "- lambda funkcím,\n",
    "- pokročilému řízení toku programu,\n",
    "- generátorům a iterátorům,\n",
    "- list comprehension (zjednodušenému zápisu pro práci se seznamy),\n",
    "- Jupyter magics,\n",
    "- práci s řetězci,\n",
    "- práci se soubory.\n"
   ]
  },
  {
   "attachments": {},
   "cell_type": "markdown",
   "metadata": {},
   "source": [
    "## Lambda funkce\n",
    "Lambda funkce jsou tzv. anonymní funkce, které jsou definovány pomocí klíčového slova `lambda`. Lambda funkce jsou vždy jednořádkové a nemají jméno (respektivě jejich jméno je jméno proměnné, do které je ukládáme). Lambda funkce se používají především v případě, kdy potřebujeme definovat funkci, která se použije pouze jednou. Lambda funkce se používají především v kombinaci s jinými funkcemi, např. `map`, `filter`, `reduce`, `sorted`, `sort` apod.\n",
    "\n",
    "Základní syntaxe je následující:\n",
    "- `lambda` parametry: výraz\n",
    "\n",
    "Často se vyskytuje v kombinaci s ternárním operátorem (výraz_True `if` podmínka `else` výraz_False):\n",
    "- `lambda` parametry: výraz_True `if` podmínka `else` výraz_False\n"
   ]
  },
  {
   "cell_type": "code",
   "execution_count": null,
   "metadata": {},
   "outputs": [],
   "source": [
    "# jednoduchá lambda funkce\n",
    "funkce = lambda x: x + 1\n",
    "y = funkce(3)\n",
    "print(y)"
   ]
  },
  {
   "cell_type": "code",
   "execution_count": null,
   "metadata": {},
   "outputs": [],
   "source": [
    "# lambda funkce v kombinaci if else\n",
    "funkce = lambda x: x + 1 if x > 0 else x - 1\n",
    "print(funkce(3))\n",
    "print(funkce(-3))"
   ]
  },
  {
   "cell_type": "code",
   "execution_count": null,
   "metadata": {},
   "outputs": [],
   "source": [
    "# lambda funkce může volat i samu sebe, tzv rekurze\n",
    "# jednoduchá lambda funkce pro výpočet faktoriálu\n",
    "faktorial = lambda x: 1 if x == 0 else x * faktorial(x - 1)\n",
    "print(faktorial(4))"
   ]
  },
  {
   "attachments": {},
   "cell_type": "markdown",
   "metadata": {},
   "source": [
    "# Řízení toku II.\n",
    "- while\n",
    "- match (Python 3.10)\n"
   ]
  },
  {
   "attachments": {},
   "cell_type": "markdown",
   "metadata": {},
   "source": [
    "## Opakování: for cyklus\n",
    "- `for` proměnná `in` seznam:\n",
    "    - Seznam může být jakýkoliv iterovatelný objekt (např. seznam, řetězec, soubor, slovník, ...)\n",
    "- `else`:\n",
    "   - Blok `else` se provede, pokud cyklus skončí bez použití `break`.\n",
    "- `break`:\n",
    "   - Ukončí cyklus.\n",
    "- `continue`:\n",
    "   - Přeskočí zbytek kódu v aktuální iteraci a pokračuje další iterací.\n",
    "- `pass`:\n",
    "   - Cyklus nesmí být prázdný. Pokud například testujeme a ještě nevíme, co v cyklu budeme dělat, použijeme `pass`.\n"
   ]
  },
  {
   "cell_type": "code",
   "execution_count": null,
   "metadata": {},
   "outputs": [],
   "source": [
    "# ukázka for cyklu\n",
    "můj_list = [1, 2, 3, 4, 5]\n",
    "for item in můj_list:\n",
    "    print(item)"
   ]
  },
  {
   "attachments": {},
   "cell_type": "markdown",
   "metadata": {},
   "source": [
    "### Krátce k iterovatelným objektům\n",
    "- iterovatelný objekt je objekt, který umožňuje iteraci (procházení) svých prvků\n",
    "- iterovatelný objekt je objekt, který implementuje metodu `__iter__` (nebo `__getitem__`), která vrací iterátor\n",
    "- iterátor je objekt, který implementuje metodu `__next__`, která vrací další prvek iterovaného objektu\n",
    "\n",
    "Mezi nejčastější iterovatelné objekty patří seznam, řetězec, soubor, slovník, ...\n",
    "- list\n",
    "- tuple\n",
    "- set\n",
    "- dict\n",
    "- str\n",
    "- range\n",
    "- file\n",
    "- ...\n",
    "\n",
    "Můžeme také zabalit iterovatelné objekty:\n",
    "- `zip` &ensp; - &ensp; zabalí iterovatelné objekty do jednoho iterátoru\n",
    "- `enumerate` &ensp; - &ensp; zabalí iterovatelný objekt do iterátoru, který vrací dvojice (index, prvek)"
   ]
  },
  {
   "cell_type": "code",
   "execution_count": null,
   "metadata": {},
   "outputs": [],
   "source": [
    "# ukázka enumerate\n",
    "muj_list_pismen = [\"a\", \"b\", \"c\", \"d\", \"e\"]\n",
    "for index, pismeno in enumerate(muj_list_pismen):\n",
    "    print(index, pismeno)"
   ]
  },
  {
   "cell_type": "code",
   "execution_count": null,
   "metadata": {},
   "outputs": [],
   "source": [
    "# ukázka zip\n",
    "muj_list_pismen = [\"a\", \"b\", \"c\", \"d\", \"e\"]\n",
    "muj_list_touplu = [(1, 2), (3, 4), (5, 6), (7, 8), (9, 10)]\n",
    "for pismeno, touple in zip(muj_list_pismen, muj_list_touplu):\n",
    "    print(pismeno, touple)\n",
    "    \n",
    "# ukázka kombinace zip a enumerate\n",
    "for index, (pismeno, touple) in enumerate(zip(muj_list_pismen, muj_list_touplu)):\n",
    "    print(index, pismeno, touple)"
   ]
  },
  {
   "cell_type": "code",
   "execution_count": null,
   "metadata": {},
   "outputs": [],
   "source": [
    "# zip ve skutečnosti vrací touple\n",
    "muj_list_pismen = [\"a\", \"b\", \"c\", \"d\", \"e\"]\n",
    "muj_list_cisel = [1, 2, 3, 4, 5]\n",
    "for prvek in zip(muj_list_pismen, muj_list_touplu):\n",
    "    print(prvek)"
   ]
  },
  {
   "attachments": {},
   "cell_type": "markdown",
   "metadata": {},
   "source": [
    "## while\n",
    "- `while` podmínka:\n",
    "- `else`:\n",
    "   - Blok `else` se provede, pokud cyklus skončí bez použití `break`.\n",
    "- `break`:\n",
    "    - Ukončí cyklus.\n",
    "- `continue`:\n",
    "    - Přeskočí zbytek kódu v aktuální iteraci a pokračuje další iterací.\n",
    "- Pozor na nekonečné smyčky!\n"
   ]
  },
  {
   "cell_type": "code",
   "execution_count": null,
   "metadata": {},
   "outputs": [],
   "source": [
    "# ukázka while cyklu\n",
    "x = 0\n",
    "while x < 5:\n",
    "    print(x)\n",
    "    x += 1"
   ]
  },
  {
   "cell_type": "code",
   "execution_count": null,
   "metadata": {},
   "outputs": [],
   "source": [
    "# while cyklus s else\n",
    "x = 0\n",
    "while x < 5:\n",
    "    print(x)\n",
    "    x += 1\n",
    "else:\n",
    "    print(\"cyklus dokončen\")"
   ]
  },
  {
   "cell_type": "code",
   "execution_count": null,
   "metadata": {},
   "outputs": [],
   "source": [
    "# ukázka while cyklu s break\n",
    "x = 0\n",
    "while x < 5:\n",
    "    print(x)\n",
    "    x += 1\n",
    "    if x == 3:\n",
    "        break\n",
    "else:\n",
    "    print(\"cyklus dokončen\")"
   ]
  },
  {
   "cell_type": "code",
   "execution_count": null,
   "metadata": {},
   "outputs": [],
   "source": [
    "# ukázka while cyklu s continue\n",
    "x = 0\n",
    "while x < 5:\n",
    "    print(x)\n",
    "    x += 1\n",
    "    if x == 3:\n",
    "        continue\n",
    "    print(\"potom continue\")\n",
    "else:\n",
    "    print(\"cyklus dokončen\")"
   ]
  },
  {
   "cell_type": "code",
   "execution_count": null,
   "metadata": {},
   "outputs": [],
   "source": [
    "# ukázka nekonečné smyčky\n",
    "x = 0\n",
    "while x < 5:\n",
    "    print(x)"
   ]
  },
  {
   "attachments": {},
   "cell_type": "markdown",
   "metadata": {},
   "source": [
    "V Pythonu není syntaxe pro do-while cyklus, ale je možné jej simulovat pomocí while cyklu a `break`. Nicméně to není považováno za dobrou praxi.\n"
   ]
  },
  {
   "cell_type": "code",
   "execution_count": null,
   "metadata": {},
   "outputs": [],
   "source": [
    "# do while cyklus\n",
    "x = 0\n",
    "while True:\n",
    "    print(x)\n",
    "    x += 1\n",
    "    if x == 5:\n",
    "        break"
   ]
  },
  {
   "attachments": {},
   "cell_type": "markdown",
   "metadata": {},
   "source": [
    "## match (Python 3.10)\n",
    "Match je nová konstrukce, která umožňuje porovnávat hodnoty s pomocí vzorů (patternů). Základní syntaxe je následující:\n",
    "- `match` výraz:\n",
    "    - `case` pattern `if` podmínka:\n",
    "    - `case` pattern:\n",
    "    - `case` _:\n",
    "- `match` nevrací výsledek vyhodnocení patternu, ale umožňuje vykonat kód v bloku `case`, který odpovídá hodnotě výrazu.\n",
    "\n",
    "Všechny patterny jsou v Pythonu vlastně výrazy, které se vyhodnocují a vrací `True` nebo `False` podle toho, zda se pattern shoduje s hodnotou výrazu. Pokud se shoduje, provede se kód v `case` bloku. Patterny mohou být velice komplikované, zde si ukážeme pouze základní užití.\n"
   ]
  },
  {
   "cell_type": "code",
   "execution_count": null,
   "metadata": {},
   "outputs": [],
   "source": [
    "# ukázka match case\n",
    "vyraz = \"ahoj\"\n",
    "match vyraz:\n",
    "    case \"ahoj\":\n",
    "        print(\"taky ahoj\")\n",
    "    case \"nazdar\":\n",
    "        print(\"taky nazdar\")\n",
    "    case _:\n",
    "        print(\"to neznám\")"
   ]
  },
  {
   "cell_type": "code",
   "execution_count": null,
   "metadata": {},
   "outputs": [],
   "source": [
    "# ukázka match case s více možnostmi v jednom case\n",
    "vyraz = \"ahoj\"\n",
    "match vyraz:\n",
    "    case \"ahoj\" | \"nazdar\":\n",
    "        print(\"taky ahoj\")\n",
    "    case _:\n",
    "        print(\"to neznám\")"
   ]
  },
  {
   "cell_type": "code",
   "execution_count": null,
   "metadata": {},
   "outputs": [],
   "source": [
    "\n",
    "hodnota = \"jablko\"\n",
    "match hodnota:\n",
    "    case \"jablko\":\n",
    "        print(\"Tohle je jablko.\")\n",
    "    case \"banán\":\n",
    "        print(\"Tohle je banán.\")\n",
    "    case _:\n",
    "        print(\"Něco jiného.\")\n"
   ]
  },
  {
   "cell_type": "code",
   "execution_count": null,
   "metadata": {},
   "outputs": [],
   "source": [
    "\n",
    "# Příklad s podmínkou\n",
    "cislo = 25\n",
    "match cislo:\n",
    "    case x if x < 20:\n",
    "        print(\"Menší než 20\")\n",
    "    case x if x > 20:\n",
    "        print(\"Větší než 20\")\n",
    "    case _:\n",
    "        print(\"Přesně 20\")\n"
   ]
  },
  {
   "cell_type": "markdown",
   "metadata": {},
   "source": [
    "`match` zvládá i pattern matching na pro obecné objekty, stačí k tomu implementovat metodu `__match__`. Toto například implementují tzv. `dataclass`. K nim se ale dostaneme až příště."
   ]
  },
  {
   "cell_type": "code",
   "execution_count": null,
   "metadata": {},
   "outputs": [],
   "source": [
    "from dataclasses import dataclass\n",
    "# Pokročilý pattern matching\n",
    "\n",
    "\n",
    "@dataclass\n",
    "class Ovoce:\n",
    "    nazev: str\n",
    "    barva: str\n",
    "    pocet: int\n",
    "\n",
    "\n",
    "ovoce = Ovoce(\"jablko\", \"červené\", 5)\n",
    "\n",
    "match ovoce:\n",
    "    case Ovoce(pocet=5, nazev=nazev, barva=barva):\n",
    "        print(f\"Pět kusů ovoce: {nazev}, {barva}\")\n",
    "    case Ovoce(nazev=\"jablko\", barva=\"zelené\"):\n",
    "        print(\"Zelené jablka\")\n",
    "    case Ovoce(nazev=\"jablko\", barva=\"červené\"):\n",
    "        print(\"Červené jablka\")\n",
    "    case _:\n",
    "        print(\"Nějaké jiné ovoce\")"
   ]
  }
 ],
 "metadata": {
  "kernelspec": {
   "display_name": "Python 3",
   "language": "python",
   "name": "python3"
  },
  "language_info": {
   "codemirror_mode": {
    "name": "ipython",
    "version": 3
   },
   "file_extension": ".py",
   "mimetype": "text/x-python",
   "name": "python",
   "nbconvert_exporter": "python",
   "pygments_lexer": "ipython3",
   "version": "3.13.2"
  },
  "orig_nbformat": 4,
  "vscode": {
   "interpreter": {
    "hash": "e7370f93d1d0cde622a1f8e1c04877d8463912d04d973331ad4851f04de6915a"
   }
  }
 },
 "nbformat": 4,
 "nbformat_minor": 2
}
