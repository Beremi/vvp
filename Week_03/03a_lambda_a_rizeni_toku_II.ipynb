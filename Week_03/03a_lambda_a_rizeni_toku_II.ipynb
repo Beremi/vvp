{
 "cells": [
  {
   "cell_type": "markdown",
   "metadata": {},
   "source": [
    "# Pokračování v prozkoumávání Pythonu\n",
    "V této lekci se budeme zabývat dalšími Pythonu. Budeme se zabývat:\n",
    "\n",
    "- lambda funkcemi,\n",
    "- pokročilejší řízení toku programu,\n",
    "- generátory a iterátory,\n",
    "- list comprehension,\n",
    "- Jupyter magics,\n",
    "- práci s řetězci,\n",
    "- práci se soubory"
   ]
  },
  {
   "attachments": {},
   "cell_type": "markdown",
   "metadata": {},
   "source": [
    "## Lambda funkce\n",
    "Lambda funkce jsou tzv. anonymní funkce, které jsou definovány pomocí klíčového slova `lambda`. Lambda funkce jsou vždy jednořádkové a nemají jméno (respektivě jejich jméno je jméno proměnné, do které ji ukládáme). Lambda funkce se používají především v případě, kdy potřebujeme definovat funkci, která se použije pouze jednou. Lambda funkce se používají především v kombinaci s jinými funkcemi, např. `map`, `filter`, `reduce`, `sorted`, `sort` apod.\n",
    "\n",
    "Základní syntaxe je následující:\n",
    "- `lambda` parametry: výraz\n",
    "Často se vyskytuje v kombinaci s ternárním operátorem (výraz_True `if` podmínka `else` výraz_False)\n",
    "- `lambda` parametry: výraz_True `if` podmínka `else` výraz_False\n"
   ]
  },
  {
   "cell_type": "code",
   "execution_count": null,
   "metadata": {},
   "outputs": [],
   "source": [
    "# jednoduchá lambda funkce\n",
    "funkce = lambda x: x + 1\n",
    "y = funkce(3)\n",
    "print(y)"
   ]
  },
  {
   "cell_type": "code",
   "execution_count": null,
   "metadata": {},
   "outputs": [],
   "source": [
    "# lambda funkce v kombinaci if else\n",
    "funkce = lambda x: x + 1 if x > 0 else x - 1\n",
    "print(funkce(3))\n",
    "print(funkce(-3))"
   ]
  },
  {
   "cell_type": "code",
   "execution_count": null,
   "metadata": {},
   "outputs": [],
   "source": [
    "# lambda funkce může volat i samu sebe, tzv rekurze\n",
    "# jednoduchá lambda funkce pro výpočet faktoriálu\n",
    "faktorial = lambda x: 1 if x == 0 else x * faktorial(x - 1)\n",
    "print(faktorial(4))"
   ]
  },
  {
   "attachments": {},
   "cell_type": "markdown",
   "metadata": {},
   "source": [
    "# Řízení toku II.\n",
    "- while\n",
    "- match (Python 3.10)\n"
   ]
  },
  {
   "attachments": {},
   "cell_type": "markdown",
   "metadata": {},
   "source": [
    "## Opakování: for cyklus\n",
    "- `for` &ensp; proměnná &ensp; `in` &ensp; seznam:\n",
    "    - seznam může být jakýkoliv iterovatelný objekt (např. seznam, řetězec, soubor, slovník, ...)\n",
    "- `else`:\n",
    "   - `else` se provede, pokud cyklus skončí bez `break`u\n",
    "- `break` &ensp; \n",
    "   - &ensp; ukončení cyklu\n",
    "- `continue` &ensp; \n",
    "   - &ensp; přeskočení zbytku kódu v aktuální iteraci a pokračování v další iteraci\n",
    "- `pass` &ensp; \n",
    "   - cyklus nesmí být prázdný, pokud něco například testujeme, ale ještě nevím co v cyklu budeme dělat, použijeme `pass`\n"
   ]
  },
  {
   "cell_type": "code",
   "execution_count": null,
   "metadata": {},
   "outputs": [],
   "source": [
    "# ukázka for cyklu\n",
    "můj_list = [1, 2, 3, 4, 5]\n",
    "for item in můj_list:\n",
    "    print(item)"
   ]
  },
  {
   "attachments": {},
   "cell_type": "markdown",
   "metadata": {},
   "source": [
    "### Krátce k iterovatelným objektům\n",
    "- iterovatelný objekt je objekt, který umožňuje iteraci (procházení) svých prvků\n",
    "- iterovatelný objekt je objekt, který implementuje metodu `__iter__` (nebo `__getitem__`), která vrací iterátor\n",
    "- iterátor je objekt, který implementuje metodu `__next__`, která vrací další prvek iterovaného objektu\n",
    "\n",
    "Mezi nejčastější iterovatelné objekty patří seznam, řetězec, soubor, slovník, ...\n",
    "- list\n",
    "- tuple\n",
    "- set\n",
    "- dict\n",
    "- str\n",
    "- range\n",
    "- file\n",
    "- ...\n",
    "\n",
    "Můžeme také zabalit iterovatelné objekty:\n",
    "- `zip` &ensp; - &ensp; zabalí iterovatelné objekty do jednoho iterátoru\n",
    "- `enumerate` &ensp; - &ensp; zabalí iterovatelný objekt do iterátoru, který vrací dvojice (index, prvek)"
   ]
  },
  {
   "cell_type": "code",
   "execution_count": null,
   "metadata": {},
   "outputs": [],
   "source": [
    "# ukázka enumerate\n",
    "muj_list_pismen = [\"a\", \"b\", \"c\", \"d\", \"e\"]\n",
    "for index, pismeno in enumerate(muj_list_pismen):\n",
    "    print(index, pismeno)"
   ]
  },
  {
   "cell_type": "code",
   "execution_count": null,
   "metadata": {},
   "outputs": [],
   "source": [
    "# ukázka zip\n",
    "muj_list_pismen = [\"a\", \"b\", \"c\", \"d\", \"e\"]\n",
    "muj_list_touplu = [(1, 2), (3, 4), (5, 6), (7, 8), (9, 10)]\n",
    "for pismeno, touple in zip(muj_list_pismen, muj_list_touplu):\n",
    "    print(pismeno, touple)\n",
    "    \n",
    "# ukázka kombinace zip a enumerate\n",
    "for index, (pismeno, touple) in enumerate(zip(muj_list_pismen, muj_list_touplu)):\n",
    "    print(index, pismeno, touple)"
   ]
  },
  {
   "cell_type": "code",
   "execution_count": null,
   "metadata": {},
   "outputs": [],
   "source": [
    "# zip ve skutečnosti vrací touple\n",
    "muj_list_pismen = [\"a\", \"b\", \"c\", \"d\", \"e\"]\n",
    "muj_list_cisel = [1, 2, 3, 4, 5]\n",
    "for prvek in zip(muj_list_pismen, muj_list_touplu):\n",
    "    print(prvek)"
   ]
  },
  {
   "attachments": {},
   "cell_type": "markdown",
   "metadata": {},
   "source": [
    "\n",
    "## while\n",
    "- `while` &ensp; podmínka:\n",
    "- `else`:\n",
    "   - `else` se provede, pokud cyklus skončí bez `break`u\n",
    "- `break` &ensp;\n",
    "    - &ensp; ukončení cyklu\n",
    "- `continue` &ensp;\n",
    "    - &ensp; přeskočení zbytku kódu v aktuální iteraci a pokračování v další iteraci\n",
    "- pozor na nekonečné smyčky!\n",
    "\n"
   ]
  },
  {
   "cell_type": "code",
   "execution_count": null,
   "metadata": {},
   "outputs": [],
   "source": [
    "# ukázka while cyklu\n",
    "x = 0\n",
    "while x < 5:\n",
    "    print(x)\n",
    "    x += 1"
   ]
  },
  {
   "cell_type": "code",
   "execution_count": null,
   "metadata": {},
   "outputs": [],
   "source": [
    "# while cyklus s else\n",
    "x = 0\n",
    "while x < 5:\n",
    "    print(x)\n",
    "    x += 1\n",
    "else:\n",
    "    print(\"cyklus dokončen\")"
   ]
  },
  {
   "cell_type": "code",
   "execution_count": null,
   "metadata": {},
   "outputs": [],
   "source": [
    "# ukázka while cyklu s break\n",
    "x = 0\n",
    "while x < 5:\n",
    "    print(x)\n",
    "    x += 1\n",
    "    if x == 3:\n",
    "        break\n",
    "else:\n",
    "    print(\"cyklus dokončen\")"
   ]
  },
  {
   "cell_type": "code",
   "execution_count": null,
   "metadata": {},
   "outputs": [],
   "source": [
    "# ukázka while cyklu s continue\n",
    "x = 0\n",
    "while x < 5:\n",
    "    print(x)\n",
    "    x += 1\n",
    "    if x == 3:\n",
    "        continue\n",
    "    print(\"potom continue\")\n",
    "else:\n",
    "    print(\"cyklus dokončen\")"
   ]
  },
  {
   "cell_type": "code",
   "execution_count": null,
   "metadata": {},
   "outputs": [],
   "source": [
    "# ukázka nekonečné smyčky\n",
    "x = 0\n",
    "while x < 5:\n",
    "    print(x)"
   ]
  },
  {
   "attachments": {},
   "cell_type": "markdown",
   "metadata": {},
   "source": [
    "V Pythonu není syntaxe pro do-while cyklus, ale je možné jej vytvořit pomocí while cyklu a `break`u. Ale není to dobrá praxe."
   ]
  },
  {
   "cell_type": "code",
   "execution_count": null,
   "metadata": {},
   "outputs": [],
   "source": [
    "# do while cyklus\n",
    "x = 0\n",
    "while True:\n",
    "    print(x)\n",
    "    x += 1\n",
    "    if x == 5:\n",
    "        break"
   ]
  },
  {
   "attachments": {},
   "cell_type": "markdown",
   "metadata": {},
   "source": [
    "## match (Python 3.10)\n",
    "Match je nová konstrukce, která umožňuje porovnávat hodnoty s pomocí patternů. Základní syntaxe je následující:\n",
    "- `match` &ensp; výraz:\n",
    "    - `case` &ensp; pattern &ensp; `if` &ensp; podmínka:\n",
    "    - `case` &ensp; pattern:\n",
    "    - `case` &ensp; _:\n",
    "- `match` vrací výsledek vyhodnocení patternu, který se shoduje s hodnotou výrazu\n",
    "\n",
    "Všechny patterny jsou v Pythonu vlastně výrazy, které se vyhodnocují a vrací `True` nebo `False` podle toho, zda se pattern shoduje s hodnotou výrazu. Pokud se shoduje, provede se kód v case bloku. Patterny mohou být velice komplikované, my si zde ukážeme pouze základní užití."
   ]
  },
  {
   "cell_type": "code",
   "execution_count": null,
   "metadata": {},
   "outputs": [],
   "source": [
    "# ukázka match case\n",
    "vyraz = \"ahoj\"\n",
    "match vyraz:\n",
    "    case \"ahoj\":\n",
    "        print(\"taky ahoj\")\n",
    "    case \"nazdar\":\n",
    "        print(\"taky nazdar\")\n",
    "    case _:\n",
    "        print(\"to neznám\")"
   ]
  },
  {
   "cell_type": "code",
   "execution_count": null,
   "metadata": {},
   "outputs": [],
   "source": [
    "# ukázka match case s více možnostmi v jednom case\n",
    "vyraz = \"ahoj\"\n",
    "match vyraz:\n",
    "    case \"ahoj\" | \"nazdar\":\n",
    "        print(\"taky ahoj\")\n",
    "    case _:\n",
    "        print(\"to neznám\")"
   ]
  }
 ],
 "metadata": {
  "kernelspec": {
   "display_name": "Python 3",
   "language": "python",
   "name": "python3"
  },
  "language_info": {
   "codemirror_mode": {
    "name": "ipython",
    "version": 3
   },
   "file_extension": ".py",
   "mimetype": "text/x-python",
   "name": "python",
   "nbconvert_exporter": "python",
   "pygments_lexer": "ipython3",
   "version": "3.11.7"
  },
  "orig_nbformat": 4,
  "vscode": {
   "interpreter": {
    "hash": "e7370f93d1d0cde622a1f8e1c04877d8463912d04d973331ad4851f04de6915a"
   }
  }
 },
 "nbformat": 4,
 "nbformat_minor": 2
}
