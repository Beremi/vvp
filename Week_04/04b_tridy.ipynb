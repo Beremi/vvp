{
 "cells": [
  {
   "attachments": {},
   "cell_type": "markdown",
   "metadata": {},
   "source": [
    "# Třídy (class)\n",
    "Třídou je jakýkoliv uživatelský typ. Podobně jako vestavěné typy nabízí metody a data (atributy), ovšem můžeme je libovolně definovat.\n",
    "\n",
    "Třída je definována pomocí klíčového slova `class` a následuje jej její název. Vnitřek třídy je odsazený o jednu úroveň. \n"
   ]
  },
  {
   "cell_type": "code",
   "execution_count": null,
   "metadata": {},
   "outputs": [],
   "source": [
    "class MojeTrida:\n",
    "    pass"
   ]
  },
  {
   "attachments": {},
   "cell_type": "markdown",
   "metadata": {},
   "source": [
    "## Metody a atributy\n",
    "\n",
    "Metoda je puze jiný název pro funkci, která je definována uvnitř třídy.\n",
    "Definice metody musí být uvnitř bloku třídy. (*Pozn. Metody lze do třídy přidat i později, ale není to preferovaný způsob.*)\n",
    "\n",
    "Atribut je proměnná, která je definována uvnitř třídy. Atributy mohou být jakékoliv typy, včetně funkcí (ale tomu bychom už zase říkaly metoda :-) pro Python je ale všechno objekt).\n",
    "\n",
    "Běžné metody (**instance method**) se volají na konkrétním objektu. Kromě nich existují i tzv. **metody třídy** a **statické metody**, které zde nebudeme probírat.\n",
    "\n",
    "Zvláštnost (*Pozn. Ano, je to opravdu divné.*) definice metod (narozdíl od C++, Javy a dalších jazyků) je ta, že první argument metody je objekt, na kterém je metoda volána. Bez toho by metoda vůbec nevěděla, se kterým objektem pracuje! Dle konvence (která se snad nikdy neporušuje) se tento argument nazývá **self**. Při volání metody se pak vynechává a Python jej automaticky doplní.\n",
    "\n",
    "Nastavení atributu a jeho hodnoty se provádí podobně jako ukládání do proměnné, ale musíme přidat objekt a tečku. (*Pozn. Interně jsou atributy uložené ve slovnících a při přístupu k nim se prochází slovník samotného objektu, jeho třídy, jejích nadřazených tříd, ...*). Atribut daného jména nemusí přitom vůbec existovat, nemusí se nijak deklarovat.\n",
    "\n",
    "## Konstruktor\n",
    "Metoda, která inicializuje objekt - zavolá se na prázdném objektu ve chvíli, kdy vytvoříme novou instanci.\n",
    "Můžeme jej definovat, ale nemusíme - v takovém případě se použije výchozí konstruktor, který jednoduše nedělá nic (zvláštního). Konstruktor se v Pythonu vždy jmenuje **\\_\\_init\\_\\_** (dvě podtržítka před i po)."
   ]
  },
  {
   "cell_type": "code",
   "execution_count": null,
   "metadata": {},
   "outputs": [],
   "source": [
    "# ukázka jednoduché třídy MojeTrida\n",
    "class MojeTrida:\n",
    "    def __init__(self, muj_parametr):\n",
    "        self.muj_parametr = muj_parametr # atribut\n",
    "\n",
    "    def vypis_muj_parametr(self): # metoda\n",
    "        print(\"Atribut ma hodnotu: \", self.muj_parametr)\n",
    "        \n",
    "objekt_tridy = MojeTrida(\"Ahoj\") # vytvoření objektu pomocí konstruktoru\n",
    "\n",
    "objekt_tridy.vypis_muj_parametr() # volání metody\n",
    "\n",
    "print(objekt_tridy.muj_parametr) # přístup k atributu"
   ]
  },
  {
   "attachments": {},
   "cell_type": "markdown",
   "metadata": {},
   "source": [
    "V jiných jazicích se můžeme setkat s privátními/chraněnými atributy a metodami, které jsou přístupné jen zvnitř třídy. V Pythonu je to trochu jinak. Všechny atributy a metody jsou veřejné, ale jejich názvy jsou konvencí označeny jako privátní. **Všechny, které začínají podtržítkem `_`, jsou privátní** a neměly by být přístupné zvenčí třídy. V Pythonu je to ale jen konvence, která není vůbec kontrolována a můžeme se k něčemu takovému dostat i zvenčí třídy.\n",
    "\n",
    "## Property (vlastnosti)\n",
    "Vlastnosti jsou \"chytřejší\" data. Umožnují vstoupit do procesu čtení nebo nastavování atributu. Hodí se to například tehdy, pokud objekt má několik navzájem závislých parametrů a my je nechceme ukládat nezávisle; pokud chceme kontrolovat, jaká hodnota se ukládá; či pokud chceme s ukládanou nebo čtenou hodnotou ještě něco zajímavého provést (viz příklad pro kruh).\n",
    "\n",
    "Ze syntaktického hlediska musíme nejdříve definovat metodu, která nese jméno vlastnosti a která tuto vlastnost \"čte\" (resp. vrací její hodnotu). O řádek výše musíme umístit tzv. *dekorátor* (tento koncept teď nebudeme podrobně vysvětlovat, jen jej pasivně použijeme) **@property**. Chceme-li, můžeme pak vytvořit i metodu pro zápis - ta se musí jmenovat stejně, požadovat jeden argument (ukládaná hodnota) a být uvedena dekorátorem **@*jmenovlastnosti*.setter**. Podobně bychom mohli vytvořit i metodu pro mazání (dekorátor **@*jmenovlastnosti*.deleter**), ale to se již běžně nedělá.\n",
    "\n",
    "Jakmile máme takto vytvořené vlastnosti, přistupujeme k nim jako k běžným datovým atributům - voláme je bez závorek a přiřazujeme do nich pomocí znaménka \"rovná se\".\n",
    "\n",
    "*Pozn. Vlastnosti fungují podobně jako properties v C# či javabeans v Javě. Povšimněte si však, že pro přístup k vlastnostem se používá úplně stejný zápis jako pro přístup k datovým atributům. Pokud tedy budeme chtít někdy změnit chování datového atributu a udělat z něj vlastnost, klient naší třídy to nepozná a nebude muset dělat žádné změny v kódu. Není tedy vhodné přespříliš iniciativně vytvářet triviální vlastnosti, které jen obalují přístup k atributům (jako by se to jistě dělalo v Javě).*"
   ]
  },
  {
   "cell_type": "code",
   "execution_count": null,
   "metadata": {},
   "outputs": [],
   "source": [
    "import math\n",
    "\n",
    "class Kruh:\n",
    "    def __init__(self, r):\n",
    "        self.polomer = r\n",
    "\n",
    "    @property                           # Chceme definovat vlastnost pro čtení\n",
    "    def obsah(self):                    # Vypadá jako obyčejná metoda\n",
    "        return math.pi * self.polomer ** 2\n",
    "\n",
    "    @obsah.setter                       # Chceme nastavit zápis do dříve definované vlastnosti\n",
    "    def obsah(self, s):\n",
    "        print(\"Měním obsah na {}\".format(s))\n",
    "        self.polomer = math.sqrt(s / math.pi)\n",
    "\n",
    "    @obsah.deleter\n",
    "    def obsah(self):\n",
    "        pass\n",
    "\n",
    "\n",
    "kruh = Kruh(1)\n",
    "print(kruh.polomer)    # Normální datový atribut\n",
    "print(kruh.obsah)      # Property\n",
    "\n",
    "kruh.obsah = 3                          # Změníme obsah pomocí zapisovatelné vlastnosti\n",
    "print(kruh.polomer)    # Normální datový atribut\n",
    "print(kruh.obsah)      # Property\n"
   ]
  },
  {
   "attachments": {},
   "cell_type": "markdown",
   "metadata": {},
   "source": [
    "## Podtržítkové konvence\n",
    "V Pythonu obecně jsou konvence velice silně zakořeněné. Na objektech to je vidět snad nejvíce.\n",
    "\n",
    "- \"Soukromé\" atributy (atributem se v Pythonu často rozumí jak data tak metody -- vše je objekt) se pojmenovávají s podtržítkem na začátku, tj. např. `_soukroma_metoda`.\n",
    "- Atributy se dvěma podtžítky na začátku i na konci mají speciální význam (viz [dokumentace](http://docs.python.org/3/reference/datamodel.html#special-method-names)). Už jsme viděli `__init__`, podíváme se na několik dalších.\n",
    "    * `__repr__` a `__str__` převádějí objekt na řetězec.\n",
    "    * `__getattr__` a `__setattr__` slouží pro čtení a ukládání nenalezených atributů.\n",
    "    * `__call__` se zavolá pokud použijeme objekt jako funkci.\n",
    "    * `__doc__` obsahuje dokumentaci (docstring).\n",
    "    * `__dict__` obsahuje slovník se jmenným prostorem objektu.\n",
    "    * `__class__` vrací třídu objektu (jak jinak než zase jako objekt).\n",
    "    * ... dále existují speciální funkce pro logické operátory, pro emulaci funkcionality kontejnerů (iterace, položky, řezy), pro aritmetické operace atd."
   ]
  },
  {
   "cell_type": "code",
   "execution_count": null,
   "metadata": {},
   "outputs": [],
   "source": [
    "# ukázka __getattr__ a __setattr__\n",
    "class MojeTrida:\n",
    "    def __init__(self, muj_parametr):\n",
    "        self.muj_parametr = muj_parametr\n",
    "\n",
    "    def __getattr__(self, item):\n",
    "        print(\"Zadáváte neexistující atribut: \", item)\n",
    "        return \"Ahoj\"\n",
    "\n",
    "    def __setattr__(self, key, value):\n",
    "        print(\"Nastavuji hodnotu atributu: \", key, \" na hodnotu: \", value)\n",
    "        object.__setattr__(self, key, value)\n",
    "        \n",
    "        \n",
    "objekt_tridy = MojeTrida(\"Ahoj\")\n",
    "print(dir(objekt_tridy))\n",
    "print(objekt_tridy.tento_parametr_neexistuje)\n",
    "objekt_tridy.definuji_novy_atribut = \"Nazdarek\"\n",
    "print(objekt_tridy.definuji_novy_atribut)\n",
    "print(dir(objekt_tridy))\n"
   ]
  },
  {
   "cell_type": "code",
   "execution_count": null,
   "metadata": {},
   "outputs": [],
   "source": [
    "# ukázka __str__ a __repr__\n",
    "# rozdíl mezi __str__ a __repr__ je v tom, že __str__ je volána při převodu objektu na řetězec \n",
    "# a __repr__ je volána při výpisu objektu (např. v interaktivním režimu)\n",
    "class MojeTrida:\n",
    "    def __init__(self, muj_parametr):\n",
    "        self.muj_parametr = muj_parametr\n",
    "\n",
    "    def __str__(self):\n",
    "        return \"Toto je objekt tridy MojeTrida\"\n",
    "\n",
    "    def __repr__(self):\n",
    "        return \"MojeTrida s parametrem: \" + str(self.muj_parametr)\n",
    "    \n",
    "objekt_tridy = MojeTrida(\"Ahoj\")\n",
    "print(objekt_tridy)\n",
    "print(str(objekt_tridy))\n",
    "print(repr(objekt_tridy))\n",
    "objekt_tridy"
   ]
  },
  {
   "cell_type": "markdown",
   "metadata": {},
   "source": [
    "Možnosti formátování f-stringu jsou vestavěné do třídy kterou vypisujeme, konkrétně metoda `__format__`. Tato metoda je volána při použití f-stringu a použití `:`."
   ]
  },
  {
   "cell_type": "code",
   "execution_count": null,
   "metadata": {},
   "outputs": [],
   "source": [
    "class Bod3D:\n",
    "    def __init__(self, x, y, z):\n",
    "        self.x = x\n",
    "        self.y = y\n",
    "        self.z = z\n",
    "\n",
    "    def __format__(self, format_spec):\n",
    "        if format_spec == 'zyx':\n",
    "            return f\"{self.z}, {self.y}, {self.x}\"\n",
    "        elif format_spec == 'yzx':\n",
    "            return f\"{self.y}, {self.z}, {self.x}\"\n",
    "        else:\n",
    "            return f\"{self.x}, {self.y}, {self.z}\"\n",
    "        \n",
    "bod = Bod3D(1, 2, 3)\n",
    "print(f\"{bod = }\")\n",
    "print(f\"{bod:zyx}\")\n",
    "print(f\"{bod:yzx}\")\n",
    "print(f\"{bod = :}\")\n"
   ]
  },
  {
   "cell_type": "code",
   "execution_count": null,
   "metadata": {},
   "outputs": [],
   "source": [
    "# seznam atributů __dict__\n",
    "class MojeTrida:\n",
    "    def __init__(self, muj_parametr1, muj_parametr2):\n",
    "        self.muj_parametr1 = muj_parametr1\n",
    "        self.muj_parametr2 = muj_parametr2\n",
    "\n",
    "    def vypis_moje_parametry(self):\n",
    "        print(\"Atributy mají hodnotu: \", self.muj_parametr1, \", \", self.muj_parametr2)\n",
    "\n",
    "objekt_tridy = MojeTrida(\"Ahoj\", \"Sbohem\")\n",
    "print(objekt_tridy.__dict__)"
   ]
  },
  {
   "cell_type": "code",
   "execution_count": null,
   "metadata": {},
   "outputs": [],
   "source": [
    "# ukázka __call__\n",
    "class MojeTrida:\n",
    "    def __init__(self, muj_parametr):\n",
    "        self.muj_parametr = muj_parametr\n",
    "\n",
    "    def __call__(self, *args, **kwargs):\n",
    "        print(\"Voláte objekt tridy MojeTrida\")\n",
    "        \n",
    "objekt_tridy = MojeTrida(\"Ahoj\")\n",
    "objekt_tridy()"
   ]
  },
  {
   "cell_type": "code",
   "execution_count": null,
   "metadata": {},
   "outputs": [],
   "source": [
    "# ukázka __doc__\n",
    "class MojeTrida:\n",
    "    \"\"\"Toto je ukázka dokumentace třídy MojeTrida\"\"\"\n",
    "    def __init__(self, muj_parametr):\n",
    "        self.muj_parametr = muj_parametr\n",
    "\n",
    "    def vypis_muj_parametr(self):\n",
    "        \"\"\"Toto je ukázka dokumentace metody vypis_muj_parametr\"\"\"\n",
    "        print(\"Atribut ma hodnotu: \", self.muj_parametr)\n",
    "        \n",
    "objekt_tridy = MojeTrida(\"Ahoj\")\n",
    "print(objekt_tridy.__doc__)\n",
    "print(objekt_tridy.vypis_muj_parametr.__doc__)"
   ]
  },
  {
   "cell_type": "markdown",
   "metadata": {},
   "source": [
    "Třídy mohou také definovat funkce `__getitem__` a `__setitem__` díky kterým je možné přistupovat k objektu jako k poli/slovníku. Tato chování se pak použije v případě, že se použije operátor `[]` (např. `obj[1]`)."
   ]
  },
  {
   "cell_type": "code",
   "execution_count": null,
   "metadata": {},
   "outputs": [],
   "source": [
    "# ukázka __setitem__ a __getitem__\n",
    "class MojeTrida:\n",
    "    def __init__(self, muj_parametr):\n",
    "        self._moje_data = dict()\n",
    "        self.muj_parametr = muj_parametr + \" \"\n",
    "\n",
    "    def __setitem__(self, key, value):\n",
    "        print(\"Nastavuji hodnotu atributu: \", key, \" na hodnotu: \", value)\n",
    "        self._moje_data[key] = self.muj_parametr + str(value)\n",
    "\n",
    "    def __getitem__(self, item):\n",
    "        return self._moje_data[item]\n",
    "    \n",
    "objekt_tridy = MojeTrida(\"Ahoj\")\n",
    "objekt_tridy[0] = \"Honzo\"\n",
    "objekt_tridy[1] = \"Pepo\"\n",
    "objekt_tridy[2] = \"Jardo\"\n",
    "\n",
    "print(objekt_tridy[0])\n",
    "print(objekt_tridy[1])\n",
    "print(objekt_tridy[2])\n"
   ]
  },
  {
   "attachments": {},
   "cell_type": "markdown",
   "metadata": {},
   "source": [
    "### Podtržítkové metody implementující algebraické operace\n",
    "V Pythonu je možné nadefinovat chování operátorů (+,-,*,/,...) pro vlastní objekty. Toho můžeme docílit tak, že nadefinujeme speciální metody:\n",
    "- `__add__` pro operátor `+`\n",
    "- `__sub__` pro operátor `-`\n",
    "- `__mul__` pro operátor `*`\n",
    "- `__div__` pro operátor `/`\n",
    "- `__truediv__` pro operátor `/` (v Pythonu 3 je toto stejné jako `__div__`)\n",
    "- `__floordiv__` pro operátor `//`\n",
    "- `__mod__` pro operátor `%`\n",
    "- `__pow__` pro operátor `**`\n",
    "- `__lshift__` pro operátor `<<`\n",
    "- `__rshift__` pro operátor `>>`\n",
    "- `__and__` pro operátor `&`\n",
    "- `__xor__` pro operátor `^`\n",
    "- `__or__` pro operátor `|`\n",
    "- a další (viz [dokumentace](http://docs.python.org/3/reference/datamodel.html#special-method-names))."
   ]
  },
  {
   "cell_type": "markdown",
   "metadata": {},
   "source": [
    "Metody se vždy volají na levém operandu, pravý operand je předán jako argument. Pokud pravý operand není kompatibilní s operací, metoda by měla vyhodit výjimku. Poté se pokusí Python zavolat metodu na pravém operandu s prefixem `r` (tj. pokud se pokusíme sčítat číslo s objektem, Python zavolá `__add__` na čísle a pokud to selže, pokusí se zavolat `__radd__` na objektu)."
   ]
  },
  {
   "cell_type": "code",
   "execution_count": null,
   "metadata": {},
   "outputs": [],
   "source": [
    "class A:\n",
    "    def __init__(self):\n",
    "        pass\n",
    "\n",
    "    def __add__(self, other):\n",
    "        print(\"A.__add__\")\n",
    "        return self\n",
    "    \n",
    "    def __radd__(self, other):\n",
    "        print(\"A.__radd__\")\n",
    "        return self\n",
    "\n",
    "\n",
    "class B:\n",
    "    def __init__(self):\n",
    "        pass\n",
    "\n",
    "    def __add__(self, other):\n",
    "        print(\"B.__add__\")\n",
    "        return self\n",
    "\n",
    "\n",
    "a = A()\n",
    "b = B()\n",
    "c = a + b\n",
    "c = b + a\n",
    "c = a + 5\n",
    "c = 5 + a\n",
    "c = 5 + b"
   ]
  },
  {
   "cell_type": "markdown",
   "metadata": {},
   "source": [
    "Ukázka na implementaci komplexních čísel:\n"
   ]
  },
  {
   "cell_type": "code",
   "execution_count": null,
   "metadata": {},
   "outputs": [],
   "source": [
    "class KomplexniCislo:\n",
    "    def __init__(self, realna_cast, imaginarni_cast):\n",
    "        self.realna_cast = realna_cast\n",
    "        self.imaginarni_cast = imaginarni_cast\n",
    "\n",
    "    def __add__(self, other):\n",
    "        return KomplexniCislo(self.realna_cast + other.realna_cast, self.imaginarni_cast + other.imaginarni_cast)\n",
    "\n",
    "    def __sub__(self, other):\n",
    "        return KomplexniCislo(self.realna_cast - other.realna_cast, self.imaginarni_cast - other.imaginarni_cast)\n",
    "\n",
    "    def __mul__(self, other):\n",
    "        realna = self.realna_cast * other.realna_cast - self.imaginarni_cast * other.imaginarni_cast\n",
    "        imaginarni = self.imaginarni_cast * other.realna_cast + self.realna_cast * other.imaginarni_cast\n",
    "        return KomplexniCislo(realna, imaginarni)\n",
    "\n",
    "    def __truediv__(self, other):\n",
    "        jmenovatel = other.realna_cast**2 + other.imaginarni_cast**2\n",
    "        realna = (self.realna_cast * other.realna_cast + self.imaginarni_cast * other.imaginarni_cast) / jmenovatel\n",
    "        imaginarni = (self.imaginarni_cast * other.realna_cast - self.realna_cast * other.imaginarni_cast) / jmenovatel\n",
    "        return KomplexniCislo(realna, imaginarni)\n",
    "\n",
    "    def __str__(self):\n",
    "        return f\"{self.realna_cast} + {self.imaginarni_cast}i\"\n",
    "\n",
    "    def __repr__(self):\n",
    "        return f\"KomplexniCislo({self.realna_cast}, {self.imaginarni_cast})\"\n",
    "\n",
    "\n",
    "komplexni1 = KomplexniCislo(1, 2)\n",
    "komplexni2 = KomplexniCislo(3, 4)\n",
    "print(komplexni1 + komplexni2)\n",
    "print(komplexni1 - komplexni2)\n",
    "print(komplexni1 * komplexni2)\n",
    "print(komplexni1 / komplexni2)\n",
    "komplexni1 / komplexni2"
   ]
  },
  {
   "attachments": {},
   "cell_type": "markdown",
   "metadata": {},
   "source": [
    "## Dědičnost\n",
    "Třída může svoje chování (i data) odvozovat od nějaké jiné třídy, čímž si ušetříme spoustu práce při opakování společných rysů. V takovém případě řekneme, že naše nová třída (dceřinná) od té původní (rodičovské) dědí.\n",
    "\n",
    "* V dceřinné třídě můžeme změnit definici některé metody z rodičovské třídy.\n",
    "* Konstruktory se standardně dědí (*Na rozdíl od C++ či Javy, kde se musí explicitně volat, v Pythonu se volají jen pokud definujeme nový konstruktor a chceme zavolat i nadřazený.*)\n",
    "* Instance dceřinné třídy se mohou použít kdekoliv, kde počítá s objektem rodičovské třídy. *Toto platí v Pythonu ještě obecněji - obvykle se nekontrolují konkrétní typy, projde jakýkoliv objekt, který nabízí používané atributy/metody.*\n",
    "\n",
    "**Syntax:** Jméno rodičovské třídy se dává do závorky za jméno (místo object, od kterého třídy obvykle dědí)."
   ]
  },
  {
   "cell_type": "code",
   "execution_count": null,
   "metadata": {},
   "outputs": [],
   "source": [
    "class Clovek:\n",
    "    def __init__(self, jmeno):         # Konstruktor, který nastaví atribut \"jmeno\"\n",
    "        self.jmeno = jmeno\n",
    "        \n",
    "    def _rekni(self, text):            # Privátní metoda, která vypíše text\n",
    "        print(self.jmeno, \": \", text)\n",
    "\n",
    "    def predstav_se(self):\n",
    "        self._rekni(\"Jmenuji se \" + self.jmeno + \".\")\n",
    "\n",
    "    def pozdrav(self):\n",
    "        self._rekni(\"Dobrý den.\")\n",
    "\n",
    "    def rozluc_se(self):\n",
    "        self._rekni(\"Nashledanou.\")\n",
    "\n",
    "\n",
    "class Elektrikar(Clovek):\n",
    "    def oprav_televizi(self):         # Nová metoda v rodičovské třídě - jiný Clovek ji neumí\n",
    "        self._rekni(\"Bude to v cuku letu.\")\n",
    "        print(\"---Elektrikar něco šudlá.---\")\n",
    "        self._rekni(\"A je to.\")\n",
    "\n",
    "    def predstav_se(self):            # Předefinovaná metoda \"predstav_se\" využívá atribut rodičovské třídy\n",
    "        self._rekni(\"Já sem ňákej \" + self.jmeno + \".\")\n",
    "\n",
    "\n",
    "class Zakaznik(Clovek):\n",
    "    def nakupuj(self):                # Nová metoda v rodičovské třídě - jiný Clovek ji neumí\n",
    "        self._rekni(\"Prosím opravíte mi, televizi.\")\n",
    "\n",
    "\n",
    "e = Elektrikar(\"Franta Vopička\")\n",
    "z = Zakaznik(\"Tomáš Marný\")\n",
    "\n",
    "# Rozhovor\n",
    "z.pozdrav()          # Všimněte si, že \"pozdrav\" je rodičovská metoda, ale volá se \"rekni\" z dceřinné třídy.\n",
    "e.pozdrav()\n",
    "z.predstav_se()\n",
    "e.predstav_se()\n",
    "z.nakupuj()\n",
    "e.oprav_televizi()"
   ]
  },
  {
   "attachments": {},
   "cell_type": "markdown",
   "metadata": {},
   "source": [
    "## Dataclass\n",
    "Od Pythonu 3.7 je možné používat dekorátor `@dataclass`, který umožňuje jednoduše definovat třídy, které se pouze skládají z datových atributů.\n",
    "\n",
    "Výhody použití `@dataclass` je automatické generování několika metod:\n",
    "- `__init__` (konstruktor)\n",
    "- `__repr__` (reprezentace objektu jako řetězce)\n",
    "- `__eq__` (rovnost)\n",
    "- `__lt__` (menší než)\n",
    "- `__le__` (menší nebo rovno)\n",
    "- `__gt__` (větší než)\n",
    "- `__ge__` (větší nebo rovno)\n",
    "- ... a další (viz [dokumentace](https://docs.python.org/3/library/dataclasses.html#dataclasses.dataclass))."
   ]
  },
  {
   "cell_type": "code",
   "execution_count": null,
   "metadata": {},
   "outputs": [],
   "source": [
    "from dataclasses import dataclass\n",
    "\n",
    "@dataclass(order=True)\n",
    "class Point3D:\n",
    "    x: float\n",
    "    y: float\n",
    "    z: float\n",
    "    \n",
    "bod1 = Point3D(1, 2, 3)\n",
    "bod2 = Point3D(1, 3, 2)\n",
    "\n",
    "print(bod1)\n",
    "print(bod1 < bod2) # jak je toto definováno? viz dokumentace\n"
   ]
  },
  {
   "attachments": {},
   "cell_type": "markdown",
   "metadata": {},
   "source": [
    "## Další témata (zde se jimi nebudeme zabývat)\n",
    "Ale jsou to věci, které je užitečné znát, alespoň vědět, že existují.\n",
    "\n",
    "* Vícenásobná dědičnost\n",
    "* Metody třídy\n",
    "* Statické metody\n",
    "* Abstraktní třídy\n",
    "* Metatřídy (Dataclass, ...)\n",
    "* Návrhové vzory\n"
   ]
  }
 ],
 "metadata": {
  "kernelspec": {
   "display_name": "Python 3",
   "language": "python",
   "name": "python3"
  },
  "language_info": {
   "codemirror_mode": {
    "name": "ipython",
    "version": 3
   },
   "file_extension": ".py",
   "mimetype": "text/x-python",
   "name": "python",
   "nbconvert_exporter": "python",
   "pygments_lexer": "ipython3",
   "version": "3.13.2"
  },
  "orig_nbformat": 4,
  "vscode": {
   "interpreter": {
    "hash": "e7370f93d1d0cde622a1f8e1c04877d8463912d04d973331ad4851f04de6915a"
   }
  }
 },
 "nbformat": 4,
 "nbformat_minor": 2
}
