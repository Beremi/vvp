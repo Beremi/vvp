{
 "cells": [
  {
   "attachments": {},
   "cell_type": "markdown",
   "metadata": {},
   "source": [
    "# Prostory jmen a obor platnosti proměnných:\n",
    "1. Rozhodněte a otestujte:\n",
    "\n",
    "    ```python\n",
    "    def funkce():\n",
    "        x = 10\n",
    "\n",
    "    x = 5\n",
    "\n",
    "    print(x)  # Vytiskne 5\n",
    "\n",
    "    funkce()\n",
    "\n",
    "    print(x)  # Vytiskne 5? Nebo 10?\n",
    "    ```\n"
   ]
  },
  {
   "cell_type": "code",
   "execution_count": null,
   "metadata": {},
   "outputs": [],
   "source": []
  },
  {
   "cell_type": "markdown",
   "metadata": {},
   "source": [
    "\n",
    "2. Rozhodněte a otestujte:\n",
    "\n",
    "    ```python\n",
    "    x = 5\n",
    "\n",
    "    def vnejsi_funkce():\n",
    "        x = 10\n",
    "\n",
    "        def vnitrni_funkce():\n",
    "            print(x)  # Vytiskne 5, 10? Nebo chybu?\n",
    "\n",
    "        vnitrni_funkce()\n",
    "\n",
    "    vnejsi_funkce()\n",
    "    ```\n"
   ]
  },
  {
   "cell_type": "code",
   "execution_count": null,
   "metadata": {},
   "outputs": [],
   "source": []
  },
  {
   "cell_type": "markdown",
   "metadata": {},
   "source": [
    "\n",
    "3. Rozhodněte a otestujte:\n",
    "\n",
    "    ```python\n",
    "    x = 10\n",
    "\n",
    "    def funkce():\n",
    "        x += 1\n",
    "\n",
    "    funkce()\n",
    "\n",
    "    print(x)  # Co se vytiskne?\n",
    "    ```"
   ]
  },
  {
   "cell_type": "code",
   "execution_count": null,
   "metadata": {},
   "outputs": [],
   "source": []
  },
  {
   "cell_type": "markdown",
   "metadata": {},
   "source": [
    "\n",
    "4. Upravte funkci nalézající prvočísla tak, aby ukládala již spočítané prvočísla do listu v defaultním argumentu funkce. \n",
    "\n",
    "- Tedy, při volání funkce zkontroluje list prvočísel, které už byly spočítány a případně dopočítá další prvočísla, pokud to požadovaný počet vyžaduje.\n",
    "- Vrátí vždy **kopii** části listu prvočísel, která odpovídá požadovanému počtu prvočísel."
   ]
  },
  {
   "cell_type": "code",
   "execution_count": null,
   "metadata": {},
   "outputs": [],
   "source": [
    "def najdi_n_prvocisel(n):\n",
    "    prvocisla = []\n",
    "    i = 2\n",
    "    while len(prvocisla) < n:\n",
    "        je_prvocislo = True\n",
    "        for prvocislo in prvocisla:\n",
    "            if i % prvocislo == 0:\n",
    "                je_prvocislo = False\n",
    "                break\n",
    "        if je_prvocislo:\n",
    "            prvocisla.append(i)\n",
    "        i += 1\n",
    "    return prvocisla\n",
    "\n",
    "najdi_n_prvocisel(10)"
   ]
  },
  {
   "cell_type": "code",
   "execution_count": null,
   "metadata": {},
   "outputs": [],
   "source": []
  },
  {
   "cell_type": "markdown",
   "metadata": {},
   "source": [
    "5. Vytvořte proměnnou `nejaka_prommena` a přiřaďte jí nějakou hodnotu. \n",
    "\n",
    "- pomocí `globals()` změňte hodnotu proměnné `nejaka_prommena` na jinou hodnotu, zkontrolujte, že se hodnota změnila.\n",
    "- pomocí `globals()` vytvořte novou proměnnou `nejaka_jina_prommena` a přiřaďte jí nějakou hodnotu, zkontrolujte, že se proměnná vytvořila."
   ]
  },
  {
   "cell_type": "code",
   "execution_count": null,
   "metadata": {},
   "outputs": [],
   "source": []
  },
  {
   "cell_type": "markdown",
   "metadata": {},
   "source": [
    "# Třídy:"
   ]
  },
  {
   "cell_type": "markdown",
   "metadata": {},
   "source": [
    "1. Vytvořte funkci, která pro libovolný vstupní objekt vypíše název jeho třídy (použijte atribut `__class__` a atribut `__name__`, který má automaticky každá třída)."
   ]
  },
  {
   "cell_type": "code",
   "execution_count": null,
   "metadata": {},
   "outputs": [],
   "source": []
  },
  {
   "cell_type": "markdown",
   "metadata": {},
   "source": [
    "2. Vytvořte třídu implementující metodu `__call__`, která bude mít stejnou funkčnost jako funkce pro vypisování prvních `n` prvočísel (s ukládáním do defaultního argumentu)."
   ]
  },
  {
   "cell_type": "code",
   "execution_count": null,
   "metadata": {},
   "outputs": [],
   "source": []
  },
  {
   "cell_type": "markdown",
   "metadata": {},
   "source": [
    "3. Modifikujte třídu o implementaci metody `__getitem__`, která bude vracet prvočísla podle indexu (podporující jak celočíselné indexy, tak i indexy ve formě `slice`).\n",
    "\n",
    "- bude se vám hodit `isinstance` pro rozhodnutí zda je vstupní argument `slice` nebo `int`.\n",
    "- bude se vám hodit, že objekt typu `slice` má atributy `start`, `stop` a `step`."
   ]
  },
  {
   "cell_type": "code",
   "execution_count": null,
   "metadata": {},
   "outputs": [],
   "source": []
  }
 ],
 "metadata": {
  "kernelspec": {
   "display_name": "Python 3",
   "language": "python",
   "name": "python3"
  },
  "language_info": {
   "codemirror_mode": {
    "name": "ipython",
    "version": 3
   },
   "file_extension": ".py",
   "mimetype": "text/x-python",
   "name": "python",
   "nbconvert_exporter": "python",
   "pygments_lexer": "ipython3",
   "version": "3.11.6"
  },
  "orig_nbformat": 4,
  "vscode": {
   "interpreter": {
    "hash": "e7370f93d1d0cde622a1f8e1c04877d8463912d04d973331ad4851f04de6915a"
   }
  }
 },
 "nbformat": 4,
 "nbformat_minor": 2
}
