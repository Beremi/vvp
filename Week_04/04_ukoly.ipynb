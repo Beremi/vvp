{
 "cells": [
  {
   "attachments": {},
   "cell_type": "markdown",
   "metadata": {},
   "source": [
    "# Prostory jmen a obor platnosti proměnných:\n"
   ]
  },
  {
   "cell_type": "markdown",
   "metadata": {},
   "source": [
    "1. Rozhodněte co se vypíše a otestujte:\n",
    "\n",
    "    ```python\n",
    "    def foo():\n",
    "        global x\n",
    "        x = 20\n",
    "\n",
    "    x = 10\n",
    "    print(x)\n",
    "    foo()\n",
    "    print(x)\n",
    "    ```\n"
   ]
  },
  {
   "cell_type": "code",
   "execution_count": 21,
   "metadata": {},
   "outputs": [
    {
     "name": "stdout",
     "output_type": "stream",
     "text": [
      "10\n",
      "20\n"
     ]
    }
   ],
   "source": [
    "def foo():\n",
    "    global x\n",
    "    x = 20\n",
    "\n",
    "x = 10\n",
    "print(x)\n",
    "foo()\n",
    "print(x)"
   ]
  },
  {
   "cell_type": "markdown",
   "metadata": {},
   "source": [
    "\n",
    "2. Rozhodněte co se vypíše a otestujte:\n",
    "\n",
    "    ```python\n",
    "    def foo():\n",
    "        y = 30\n",
    "        print(y)\n",
    "\n",
    "    y = 20\n",
    "    foo()\n",
    "    print(y)\n",
    "    ```\n"
   ]
  },
  {
   "cell_type": "code",
   "execution_count": 22,
   "metadata": {},
   "outputs": [
    {
     "name": "stdout",
     "output_type": "stream",
     "text": [
      "30\n",
      "20\n"
     ]
    }
   ],
   "source": [
    "def foo():\n",
    "    y = 30\n",
    "    print(y)\n",
    "\n",
    "y = 20\n",
    "foo()\n",
    "print(y)"
   ]
  },
  {
   "cell_type": "markdown",
   "metadata": {},
   "source": [
    "\n",
    "3. Rozhodněte co se vypíše a otestujte:\n",
    "\n",
    "    ```python\n",
    "    def foo1():\n",
    "        def foo2():\n",
    "            nonlocal z\n",
    "            z = 100\n",
    "        z = 50\n",
    "        print(z)  # Vytiskne 50\n",
    "        foo2()\n",
    "        print(z)  # Vytiskne 100? Nebo 50?\n",
    "\n",
    "    foo1()\n",
    "    ```\n"
   ]
  },
  {
   "cell_type": "code",
   "execution_count": 23,
   "metadata": {},
   "outputs": [
    {
     "name": "stdout",
     "output_type": "stream",
     "text": [
      "50\n",
      "50\n"
     ]
    }
   ],
   "source": [
    "def foo1():\n",
    "    def foo2():\n",
    "        global z\n",
    "        z = 100\n",
    "    z = 50\n",
    "    print(z)  # Vytiskne 50\n",
    "    foo2()\n",
    "    print(z)  # Vytiskne 100? Nebo 50?\n",
    "\n",
    "foo1()"
   ]
  },
  {
   "cell_type": "markdown",
   "metadata": {},
   "source": [
    "\n",
    "4. Rozhodněte co se vypíše a otestujte:\n",
    "\n",
    "    ```python\n",
    "    x = 1\n",
    "    def foo1():\n",
    "        x = 2\n",
    "        def foo2():\n",
    "            global x\n",
    "            x = 3\n",
    "        print(x)\n",
    "        foo2()\n",
    "        print(x)\n",
    "\n",
    "    foo1()\n",
    "    print(x)\n",
    "    ```\n"
   ]
  },
  {
   "cell_type": "code",
   "execution_count": 24,
   "metadata": {},
   "outputs": [
    {
     "name": "stdout",
     "output_type": "stream",
     "text": [
      "2\n",
      "2\n",
      "3\n"
     ]
    }
   ],
   "source": [
    "x = 1\n",
    "def foo1():\n",
    "    x = 2\n",
    "    def foo2():\n",
    "        global x\n",
    "        x = 3\n",
    "    print(x)\n",
    "    foo2()\n",
    "    print(x)\n",
    "\n",
    "foo1()\n",
    "print(x)"
   ]
  },
  {
   "cell_type": "markdown",
   "metadata": {},
   "source": [
    "\n",
    "5. Rozhodněte co se vypíše a otestujte:\n",
    "\n",
    "    ```python\n",
    "    def foo1(a):\n",
    "        a = 40\n",
    "        print(a)\n",
    "\n",
    "    a = 30\n",
    "    foo1(a)\n",
    "    print(a)\n",
    "    ```\n"
   ]
  },
  {
   "cell_type": "code",
   "execution_count": 25,
   "metadata": {},
   "outputs": [
    {
     "name": "stdout",
     "output_type": "stream",
     "text": [
      "40\n",
      "30\n"
     ]
    }
   ],
   "source": [
    "def foo1(a):\n",
    "    a = 40\n",
    "    print(a)\n",
    "\n",
    "a = 30\n",
    "foo1(a)\n",
    "print(a)"
   ]
  },
  {
   "cell_type": "markdown",
   "metadata": {},
   "source": [
    "6. Rozhodněte co se vypíše a otestujte:\n",
    "\n",
    "    ```python\n",
    "    def funkce():\n",
    "        x = 10\n",
    "\n",
    "    x = 5\n",
    "\n",
    "    print(x)\n",
    "\n",
    "    funkce()\n",
    "\n",
    "    print(x)\n",
    "    ```\n"
   ]
  },
  {
   "cell_type": "code",
   "execution_count": 26,
   "metadata": {},
   "outputs": [
    {
     "name": "stdout",
     "output_type": "stream",
     "text": [
      "5\n",
      "5\n"
     ]
    }
   ],
   "source": [
    "def funkce():\n",
    "    x = 10\n",
    "\n",
    "x = 5\n",
    "\n",
    "print(x)\n",
    "\n",
    "funkce()\n",
    "\n",
    "print(x)"
   ]
  },
  {
   "cell_type": "markdown",
   "metadata": {},
   "source": [
    "\n",
    "7. Rozhodněte co se vypíše a otestujte:\n",
    "\n",
    "    ```python\n",
    "    x = 5\n",
    "\n",
    "    def vnejsi_funkce():\n",
    "        x = 10\n",
    "\n",
    "        def vnitrni_funkce():\n",
    "            print(x)\n",
    "\n",
    "        vnitrni_funkce()\n",
    "\n",
    "    vnejsi_funkce()\n",
    "    ```\n"
   ]
  },
  {
   "cell_type": "code",
   "execution_count": 27,
   "metadata": {},
   "outputs": [
    {
     "name": "stdout",
     "output_type": "stream",
     "text": [
      "10\n"
     ]
    }
   ],
   "source": [
    "x = 5\n",
    "\n",
    "def vnejsi_funkce():\n",
    "    x = 10\n",
    "\n",
    "    def vnitrni_funkce():\n",
    "        print(x)\n",
    "\n",
    "    vnitrni_funkce()\n",
    "\n",
    "vnejsi_funkce()"
   ]
  },
  {
   "cell_type": "markdown",
   "metadata": {},
   "source": [
    "\n",
    "8. Rozhodněte co se vypíše a otestujte:\n",
    "\n",
    "    ```python\n",
    "    x = 10\n",
    "\n",
    "    def funkce():\n",
    "        x += 1\n",
    "\n",
    "    funkce()\n",
    "\n",
    "    print(x)\n",
    "    ```"
   ]
  },
  {
   "cell_type": "code",
   "execution_count": 28,
   "metadata": {},
   "outputs": [
    {
     "ename": "UnboundLocalError",
     "evalue": "cannot access local variable 'x' where it is not associated with a value",
     "output_type": "error",
     "traceback": [
      "\u001b[31m---------------------------------------------------------------------------\u001b[39m",
      "\u001b[31mUnboundLocalError\u001b[39m                         Traceback (most recent call last)",
      "\u001b[36mCell\u001b[39m\u001b[36m \u001b[39m\u001b[32mIn[28]\u001b[39m\u001b[32m, line 6\u001b[39m\n\u001b[32m      3\u001b[39m \u001b[38;5;28;01mdef\u001b[39;00m\u001b[38;5;250m \u001b[39m\u001b[34mfunkce\u001b[39m():\n\u001b[32m      4\u001b[39m     x += \u001b[32m1\u001b[39m\n\u001b[32m----> \u001b[39m\u001b[32m6\u001b[39m \u001b[43mfunkce\u001b[49m\u001b[43m(\u001b[49m\u001b[43m)\u001b[49m\n\u001b[32m      8\u001b[39m \u001b[38;5;28mprint\u001b[39m(x)\n",
      "\u001b[36mCell\u001b[39m\u001b[36m \u001b[39m\u001b[32mIn[28]\u001b[39m\u001b[32m, line 4\u001b[39m, in \u001b[36mfunkce\u001b[39m\u001b[34m()\u001b[39m\n\u001b[32m      3\u001b[39m \u001b[38;5;28;01mdef\u001b[39;00m\u001b[38;5;250m \u001b[39m\u001b[34mfunkce\u001b[39m():\n\u001b[32m----> \u001b[39m\u001b[32m4\u001b[39m     \u001b[43mx\u001b[49m += \u001b[32m1\u001b[39m\n",
      "\u001b[31mUnboundLocalError\u001b[39m: cannot access local variable 'x' where it is not associated with a value"
     ]
    }
   ],
   "source": [
    "x = 10\n",
    "\n",
    "def funkce():\n",
    "    x += 1\n",
    "\n",
    "funkce()\n",
    "\n",
    "print(x)"
   ]
  },
  {
   "cell_type": "markdown",
   "metadata": {},
   "source": [
    "\n",
    "9. Rozhodněte co se vypíše a otestujte:\n",
    "\n",
    "    ```python\n",
    "    x = 1\n",
    "    def foo4():\n",
    "        global x\n",
    "        x = 2\n",
    "        def vnitrni():\n",
    "            nonlocal x\n",
    "            x = 3\n",
    "        print(x)\n",
    "        vnitrni()\n",
    "        print(x)\n",
    "\n",
    "    print(x)\n",
    "    foo4()\n",
    "    print(x)\n",
    "    ```"
   ]
  },
  {
   "cell_type": "code",
   "execution_count": null,
   "metadata": {},
   "outputs": [
    {
     "name": "stdout",
     "output_type": "stream",
     "text": [
      "1\n",
      "2\n",
      "3\n",
      "1\n"
     ]
    }
   ],
   "source": [
    "x = 1\n",
    "def foo4():\n",
    "    global x\n",
    "    x = 2\n",
    "    def vnitrni():\n",
    "        nonlocal x\n",
    "        x = 3\n",
    "    print(x)\n",
    "    vnitrni()\n",
    "    print(x)\n",
    "\n",
    "print(x)\n",
    "foo4()\n",
    "print(x)"
   ]
  },
  {
   "cell_type": "markdown",
   "metadata": {},
   "source": [
    "\n",
    "10. Upravte funkci nalézající prvočísla tak, aby ukládala již spočítané prvočísla do listu v defaultním argumentu funkce. \n",
    "\n",
    "- Tedy, při volání funkce zkontroluje list prvočísel, které už byly spočítány a případně dopočítá další prvočísla, pokud to požadovaný počet vyžaduje.\n",
    "- Vrátí vždy **kopii** části listu prvočísel, která odpovídá požadovanému počtu prvočísel."
   ]
  },
  {
   "cell_type": "code",
   "execution_count": null,
   "metadata": {},
   "outputs": [],
   "source": [
    "def najdi_n_prvocisel(n, _prvocisla=[2, 3]):\n",
    "    i = _prvocisla[-1] + 2\n",
    "    while len(_prvocisla) < n:\n",
    "        je_prvocislo = True\n",
    "        for prvocislo in _prvocisla:\n",
    "            if i % prvocislo == 0:\n",
    "                je_prvocislo = False\n",
    "                break\n",
    "        if je_prvocislo:\n",
    "            _prvocisla.append(i)\n",
    "        i += 2\n",
    "    return _prvocisla[:n]"
   ]
  },
  {
   "cell_type": "code",
   "execution_count": null,
   "metadata": {},
   "outputs": [
    {
     "name": "stdout",
     "output_type": "stream",
     "text": [
      "CPU times: user 17.2 ms, sys: 58 μs, total: 17.3 ms\n",
      "Wall time: 17.4 ms\n"
     ]
    }
   ],
   "source": [
    "%%time\n",
    "_ = najdi_n_prvocisel(1000)"
   ]
  },
  {
   "cell_type": "code",
   "execution_count": null,
   "metadata": {},
   "outputs": [
    {
     "name": "stdout",
     "output_type": "stream",
     "text": [
      "CPU times: user 7 μs, sys: 1 μs, total: 8 μs\n",
      "Wall time: 10.3 μs\n"
     ]
    }
   ],
   "source": [
    "%%time\n",
    "_ = najdi_n_prvocisel(1000)"
   ]
  },
  {
   "cell_type": "markdown",
   "metadata": {},
   "source": [
    "# Třídy:"
   ]
  },
  {
   "cell_type": "markdown",
   "metadata": {},
   "source": [
    "1. Vytvořte funkci, která pro libovolný vstupní objekt vypíše název jeho třídy (použijte atribut `__class__` a atribut `__name__`, který má automaticky každá třída)."
   ]
  },
  {
   "cell_type": "code",
   "execution_count": null,
   "metadata": {},
   "outputs": [
    {
     "name": "stdout",
     "output_type": "stream",
     "text": [
      "<class 'int'>\n",
      "int\n",
      "int\n",
      "<class 'type'>\n",
      "<class 'str'>\n",
      "str\n",
      "str\n",
      "<class 'type'>\n",
      "<class 'list'>\n",
      "list\n",
      "list\n",
      "<class 'type'>\n",
      "<class 'dict'>\n",
      "dict\n",
      "dict\n",
      "<class 'type'>\n"
     ]
    }
   ],
   "source": [
    "def vypis(obj):\n",
    "    print(obj.__class__)\n",
    "    print(obj.__class__.__name__)\n",
    "    print(type(obj).__name__)\n",
    "    print(type(type(obj)))\n",
    "\n",
    "a = 5\n",
    "vypis(a)\n",
    "b = \"ahoj\"\n",
    "vypis(b)\n",
    "c = [1, 2, 3]\n",
    "vypis(c)\n",
    "d = {\"a\": 1, \"b\": 2}\n",
    "vypis(d)"
   ]
  },
  {
   "cell_type": "markdown",
   "metadata": {},
   "source": [
    "2. Vytvořte třídu implementující metodu `__call__`, která bude mít stejnou funkčnost jako funkce pro vypisování prvních `n` prvočísel (s ukládáním do defaultního argumentu)."
   ]
  },
  {
   "cell_type": "code",
   "execution_count": null,
   "metadata": {},
   "outputs": [],
   "source": [
    "class HledacPrvocisel:\n",
    "    def __init__(self):\n",
    "        self.prvocisla = [2, 3]\n",
    "    \n",
    "    def __call__(self, n):\n",
    "        i = self.prvocisla[-1] + 2\n",
    "        while len(self.prvocisla) < n:\n",
    "            je_prvocislo = True\n",
    "            for prvocislo in self.prvocisla:\n",
    "                if i % prvocislo == 0:\n",
    "                    je_prvocislo = False\n",
    "                    break\n",
    "            if je_prvocislo:\n",
    "                self.prvocisla.append(i)\n",
    "            i += 2\n",
    "        return self.prvocisla[:n]\n",
    "\n",
    "najdi_prvnich_n_prvocisel = HledacPrvocisel()"
   ]
  },
  {
   "cell_type": "code",
   "execution_count": null,
   "metadata": {},
   "outputs": [
    {
     "name": "stdout",
     "output_type": "stream",
     "text": [
      "CPU times: user 17 ms, sys: 3 μs, total: 17 ms\n",
      "Wall time: 17.3 ms\n"
     ]
    }
   ],
   "source": [
    "%%time\n",
    "_ = najdi_prvnich_n_prvocisel(1000)"
   ]
  },
  {
   "cell_type": "code",
   "execution_count": null,
   "metadata": {},
   "outputs": [
    {
     "name": "stdout",
     "output_type": "stream",
     "text": [
      "CPU times: user 7 μs, sys: 2 μs, total: 9 μs\n",
      "Wall time: 10.5 μs\n"
     ]
    }
   ],
   "source": [
    "%%time\n",
    "_ = najdi_prvnich_n_prvocisel(1000)"
   ]
  },
  {
   "cell_type": "markdown",
   "metadata": {},
   "source": [
    "3. Modifikujte třídu o implementaci metody `__getitem__`, která bude vracet prvočísla podle indexu (podporující jak celočíselné indexy, tak i indexy ve formě `slice`).\n",
    "\n",
    "- bude se vám hodit `isinstance` pro rozhodnutí zda je vstupní argument `slice` nebo `int`.\n",
    "- bude se vám hodit, že objekt typu `slice` má atributy `start`, `stop` a `step`."
   ]
  },
  {
   "cell_type": "code",
   "execution_count": null,
   "metadata": {},
   "outputs": [
    {
     "name": "stdout",
     "output_type": "stream",
     "text": [
      "31\n",
      "[2, 5, 11, 17, 23, 31, 41, 47, 59, 67]\n",
      "104743\n"
     ]
    }
   ],
   "source": [
    "class HledacPrvocisel:\n",
    "    def __init__(self):\n",
    "        self.prvocisla = [2, 3]\n",
    "\n",
    "    def __call__(self, n):\n",
    "        i = self.prvocisla[-1] + 2\n",
    "        while len(self.prvocisla) < n:\n",
    "            je_prvocislo = True\n",
    "            for prvocislo in self.prvocisla:\n",
    "                if i % prvocislo == 0:\n",
    "                    je_prvocislo = False\n",
    "                    break\n",
    "            if je_prvocislo:\n",
    "                self.prvocisla.append(i)\n",
    "            i += 2\n",
    "        return self.prvocisla[:n]\n",
    "    \n",
    "    def __getitem__(self, arg):\n",
    "        if isinstance(arg, slice):\n",
    "            stop = arg.stop\n",
    "        elif isinstance(arg, int):\n",
    "            stop = arg + 1\n",
    "        else:\n",
    "            raise TypeError(\"Argument must be int or slice\")\n",
    "        _ = self(stop)\n",
    "        return self.prvocisla[arg]\n",
    "            \n",
    "\n",
    "\n",
    "prvocisla = HledacPrvocisel()\n",
    "print(prvocisla[10])\n",
    "print(prvocisla[:20:2])\n",
    "print(prvocisla[10000])"
   ]
  },
  {
   "cell_type": "markdown",
   "metadata": {},
   "source": [
    "4. Vytvořte třídu `Zlomek` reprezentující zlomek s celočíselným čitatelem a jmenovatelem. \n",
    "\n",
    "- Implementujte metody pro sčítání, odčítání, násobení a dělení zlomků. \n",
    "- Implementujte metodu pro zjednodušení zlomku (použijte knihovnu `math` a funkci `gcd`) a přidejte ji do konstruktoru.\n",
    "- Implementujte metody pro výpis zlomku jak do konzole, tak do řetězce.\n",
    "- Implementujte metodu pro převedení zlomku na desetinné číslo.\n",
    "- Implementujte metodu pro porovnávání zlomků (můžete použít převod na desetinné číslo).\n",
    "\n",
    "```python\n",
    "class Zlomek:\n",
    "    def __init__(self, citatel, jmenovatel):\n",
    "    def __add__(self, other):\n",
    "    def __sub__(self, other):\n",
    "    def __mul__(self, other):\n",
    "    def __truediv__(self, other):\n",
    "    def simplify(self):\n",
    "    def __str__(self):\n",
    "    def __repr__(self):\n",
    "    def to_float(self):\n",
    "    def __le__(self, other):\n",
    "    def __lt__(self, other):\n",
    "    def __ge__(self, other):\n",
    "    def __gt__(self, other):\n",
    "    def __eq__(self, other):\n",
    "```"
   ]
  },
  {
   "cell_type": "code",
   "execution_count": 3,
   "metadata": {},
   "outputs": [],
   "source": [
    "from decimal import Decimal\n",
    "import math\n",
    "\n",
    "\n",
    "class Zlomek:\n",
    "    def __init__(self, citatel, jmenovatel):\n",
    "        if jmenovatel == 0:\n",
    "            raise ValueError(\"Jmenovatel nesmí být nula.\")\n",
    "        self.citatel = citatel\n",
    "        self.jmenovatel = jmenovatel\n",
    "        self.simplify()  # Zjednoduší zlomek již při vytvoření instance\n",
    "\n",
    "    def simplify(self):\n",
    "        \"\"\"Metoda zjednoduší zlomek pomocí největšího společného dělitele.\"\"\"\n",
    "        gcd = math.gcd(self.citatel, self.jmenovatel)\n",
    "        self.citatel //= gcd\n",
    "        self.jmenovatel //= gcd\n",
    "        # Pokud je jmenovatel záporný, převedeme znaménko do čitatele\n",
    "        if self.jmenovatel < 0:\n",
    "            self.citatel *= -1\n",
    "            self.jmenovatel *= -1\n",
    "\n",
    "    def __add__(self, other):\n",
    "        if isinstance(other, Zlomek):\n",
    "            novy_citatel = self.citatel * other.jmenovatel + other.citatel * self.jmenovatel\n",
    "            novy_jmenovatel = self.jmenovatel * other.jmenovatel\n",
    "            return Zlomek(novy_citatel, novy_jmenovatel)\n",
    "        return NotImplemented\n",
    "\n",
    "    def __sub__(self, other):\n",
    "        if isinstance(other, Zlomek):\n",
    "            novy_citatel = self.citatel * other.jmenovatel - other.citatel * self.jmenovatel\n",
    "            novy_jmenovatel = self.jmenovatel * other.jmenovatel\n",
    "            return Zlomek(novy_citatel, novy_jmenovatel)\n",
    "        return NotImplemented\n",
    "\n",
    "    def __mul__(self, other):\n",
    "        if isinstance(other, Zlomek):\n",
    "            novy_citatel = self.citatel * other.citatel\n",
    "            novy_jmenovatel = self.jmenovatel * other.jmenovatel\n",
    "            return Zlomek(novy_citatel, novy_jmenovatel)\n",
    "        return NotImplemented\n",
    "\n",
    "    def __truediv__(self, other):\n",
    "        if isinstance(other, Zlomek):\n",
    "            if other.citatel == 0:\n",
    "                raise ZeroDivisionError(\"Nelze dělit zlomkem s nulovým čitatelem.\")\n",
    "            novy_citatel = self.citatel * other.jmenovatel\n",
    "            novy_jmenovatel = self.jmenovatel * other.citatel\n",
    "            return Zlomek(novy_citatel, novy_jmenovatel)\n",
    "        return NotImplemented\n",
    "\n",
    "    def to_float(self):\n",
    "        \"\"\"Převede zlomek na desetinné číslo.\"\"\"\n",
    "        return self.citatel / self.jmenovatel\n",
    "\n",
    "    def __str__(self):\n",
    "        return f\"{self.citatel}/{self.jmenovatel}\"\n",
    "\n",
    "    def __repr__(self):\n",
    "        return f\"Zlomek({self.citatel}, {self.jmenovatel})\"\n",
    "\n",
    "    # Porovnávání zlomků pomocí jejich desetinné reprezentace\n",
    "    def __eq__(self, other):\n",
    "        if isinstance(other, Zlomek):\n",
    "            return self.citatel * other.jmenovatel == self.jmenovatel * other.citatel\n",
    "        return NotImplemented\n",
    "\n",
    "\n",
    "    def __lt__(self, other):\n",
    "        if isinstance(other, Zlomek):\n",
    "            return self.citatel * other.jmenovatel < self.jmenovatel * other.citatel\n",
    "        return NotImplemented\n",
    "\n",
    "\n",
    "    def __le__(self, other):\n",
    "        if isinstance(other, Zlomek):\n",
    "            return self.citatel * other.jmenovatel <= self.jmenovatel * other.citatel\n",
    "        return NotImplemented\n",
    "\n",
    "\n",
    "    def __gt__(self, other):\n",
    "        if isinstance(other, Zlomek):\n",
    "            return self.citatel * other.jmenovatel > self.jmenovatel * other.citatel\n",
    "        return NotImplemented\n",
    "\n",
    "\n",
    "    def __ge__(self, other):\n",
    "        if isinstance(other, Zlomek):\n",
    "            return self.citatel * other.jmenovatel >= self.jmenovatel * other.citatel\n",
    "        return NotImplemented\n",
    "\n",
    "\n",
    "    def to_decimal(self):\n",
    "        \"\"\"Převede zlomek na hodnotu Decimal.\"\"\"\n",
    "        return Decimal(self.citatel) / Decimal(self.jmenovatel)\n",
    "    "
   ]
  },
  {
   "cell_type": "code",
   "execution_count": 4,
   "metadata": {},
   "outputs": [
    {
     "name": "stdout",
     "output_type": "stream",
     "text": [
      "Zlomek 1: 1/2\n",
      "Zlomek 2: 1/2\n",
      "Sčítání: 1/1\n",
      "Odčítání: 0/1\n",
      "Násobení: 1/4\n",
      "Dělení: 1/1\n",
      "Desetinná hodnota z1: 0.5\n",
      "Porovnání zlomků: z1 == z2 -> True\n"
     ]
    }
   ],
   "source": [
    "z1 = Zlomek(2, 4)\n",
    "z2 = Zlomek(3, 6)\n",
    "print(\"Zlomek 1:\", z1)              # Výpis pomocí __str__\n",
    "print(\"Zlomek 2:\", z2)\n",
    "print(\"Sčítání:\", z1 + z2)           # Sčítání zlomků\n",
    "print(\"Odčítání:\", z1 - z2)          # Odčítání zlomků\n",
    "print(\"Násobení:\", z1 * z2)          # Násobení zlomků\n",
    "print(\"Dělení:\", z1 / z2)            # Dělení zlomků\n",
    "print(\"Desetinná hodnota z1:\", z1.to_float())\n",
    "print(\"Porovnání zlomků: z1 == z2 ->\", z1 == z2)"
   ]
  },
  {
   "cell_type": "code",
   "execution_count": 5,
   "metadata": {},
   "outputs": [],
   "source": [
    "def sqrt_proste_iterace(a, n):\n",
    "    x = a\n",
    "    half = Zlomek(1, 2)  # reprezentuje 0.5\n",
    "    for i in range(n):\n",
    "        x = half * (x + a / x)\n",
    "        x.simplify()\n",
    "    return x\n",
    "\n",
    "def vypocet_pi_newton(n, n_sqrt):\n",
    "    a = Zlomek(1, 16)\n",
    "    suma = Zlomek(1, 3) * a\n",
    "\n",
    "    for i in range(2, n + 1):\n",
    "        a = a * Zlomek(2 * i - 3, 2 * i) * Zlomek(1, 4)\n",
    "        suma = suma + Zlomek(1, 2 * i + 1) * a\n",
    "        a.simplify()\n",
    "        suma.simplify()\n",
    "\n",
    "    sqrt3 = sqrt_proste_iterace(Zlomek(3, 1), n_sqrt)\n",
    "    term = Zlomek(-1, 8) * sqrt3 + Zlomek(1, 2) - suma\n",
    "    odhad_pi = Zlomek(12, 1) * term\n",
    "    odhad_pi.simplify()\n",
    "    return odhad_pi"
   ]
  },
  {
   "cell_type": "code",
   "execution_count": 6,
   "metadata": {},
   "outputs": [],
   "source": [
    "from decimal import getcontext, Decimal as D\n",
    "import math\n",
    "getcontext().prec = 100  # počítáme s 100 desetinnými místy\n",
    "pi_1000d = D(\"3.141592653589793238462643383279\\\n",
    "5028841971693993\\\n",
    "7510582097494459230781640628620899862803482534\\\n",
    "2117067982148086513282306647093844609550582231\\\n",
    "7253594081284811174502841027019385211055596446\\\n",
    "2294895493038196442881097566593344612847564823\\\n",
    "3786783165271201909145648566923460348610454326\\\n",
    "6482133936072602491412737245870066063155881748\\\n",
    "8152092096282925409171536436789259036001133053\\\n",
    "0548820466521384146951941511609433057270365759\\\n",
    "5919530921861173819326117931051185480744623799\\\n",
    "6274956735188575272489122793818301194912983367\\\n",
    "3362440656643086021394946395224737190702179860\\\n",
    "9437027705392171762931767523846748184676694051\\\n",
    "3200056812714526356082778577134275778960917363\\\n",
    "7178721468440901224953430146549585371050792279\\\n",
    "6892589235420199561121290219608640344181598136\\\n",
    "2977477130996051870721134999999837297804995105\\\n",
    "9731732816096318595024459455346908302642522308\\\n",
    "2533446850352619311881710100031378387528865875\\\n",
    "3320838142061717766914730359825349042875546873\\\n",
    "1159562863882353787593751957781857780532171226\\\n",
    "806613001927876611195909216420199\")"
   ]
  },
  {
   "cell_type": "code",
   "execution_count": 7,
   "metadata": {},
   "outputs": [
    {
     "name": "stdout",
     "output_type": "stream",
     "text": [
      "Odhad čísla π: "
     ]
    },
    {
     "ename": "ValueError",
     "evalue": "Exceeds the limit (4300 digits) for integer string conversion; use sys.set_int_max_str_digits() to increase the limit",
     "output_type": "error",
     "traceback": [
      "\u001b[31m---------------------------------------------------------------------------\u001b[39m",
      "\u001b[31mValueError\u001b[39m                                Traceback (most recent call last)",
      "\u001b[36mCell\u001b[39m\u001b[36m \u001b[39m\u001b[32mIn[7]\u001b[39m\u001b[32m, line 2\u001b[39m\n\u001b[32m      1\u001b[39m pi_odhad = vypocet_pi_newton(\u001b[32m21\u001b[39m, \u001b[32m15\u001b[39m)\n\u001b[32m----> \u001b[39m\u001b[32m2\u001b[39m \u001b[38;5;28;43mprint\u001b[39;49m\u001b[43m(\u001b[49m\u001b[33;43m\"\u001b[39;49m\u001b[33;43mOdhad čísla π:\u001b[39;49m\u001b[33;43m\"\u001b[39;49m\u001b[43m,\u001b[49m\u001b[43m \u001b[49m\u001b[43mpi_odhad\u001b[49m\u001b[43m)\u001b[49m\n\u001b[32m      3\u001b[39m \u001b[38;5;28mprint\u001b[39m(\u001b[33m\"\u001b[39m\u001b[33mOdhad čísla π:\u001b[39m\u001b[33m\"\u001b[39m, pi_odhad.to_decimal())\n\u001b[32m      4\u001b[39m \u001b[38;5;28mprint\u001b[39m(\u001b[33m\"\u001b[39m\u001b[33mChyba odhadu:\u001b[39m\u001b[33m\"\u001b[39m, pi_odhad.to_decimal() - pi_1000d)\n",
      "\u001b[36mCell\u001b[39m\u001b[36m \u001b[39m\u001b[32mIn[3]\u001b[39m\u001b[32m, line 58\u001b[39m, in \u001b[36mZlomek.__str__\u001b[39m\u001b[34m(self)\u001b[39m\n\u001b[32m     57\u001b[39m \u001b[38;5;28;01mdef\u001b[39;00m\u001b[38;5;250m \u001b[39m\u001b[34m__str__\u001b[39m(\u001b[38;5;28mself\u001b[39m):\n\u001b[32m---> \u001b[39m\u001b[32m58\u001b[39m     \u001b[38;5;28;01mreturn\u001b[39;00m \u001b[33mf\u001b[39m\u001b[33m\"\u001b[39m\u001b[38;5;132;01m{\u001b[39;00m\u001b[38;5;28mself\u001b[39m.citatel\u001b[38;5;132;01m}\u001b[39;00m\u001b[33m/\u001b[39m\u001b[38;5;132;01m{\u001b[39;00m\u001b[38;5;28mself\u001b[39m.jmenovatel\u001b[38;5;132;01m}\u001b[39;00m\u001b[33m\"\u001b[39m\n",
      "\u001b[31mValueError\u001b[39m: Exceeds the limit (4300 digits) for integer string conversion; use sys.set_int_max_str_digits() to increase the limit"
     ]
    }
   ],
   "source": [
    "pi_odhad = vypocet_pi_newton(21, 15)\n",
    "print(\"Odhad čísla π:\", pi_odhad)\n",
    "print(\"Odhad čísla π:\", pi_odhad.to_decimal())\n",
    "print(\"Chyba odhadu:\", pi_odhad.to_decimal() - pi_1000d)"
   ]
  }
 ],
 "metadata": {
  "kernelspec": {
   "display_name": "Python 3",
   "language": "python",
   "name": "python3"
  },
  "language_info": {
   "codemirror_mode": {
    "name": "ipython",
    "version": 3
   },
   "file_extension": ".py",
   "mimetype": "text/x-python",
   "name": "python",
   "nbconvert_exporter": "python",
   "pygments_lexer": "ipython3",
   "version": "3.13.2"
  },
  "orig_nbformat": 4,
  "vscode": {
   "interpreter": {
    "hash": "e7370f93d1d0cde622a1f8e1c04877d8463912d04d973331ad4851f04de6915a"
   }
  }
 },
 "nbformat": 4,
 "nbformat_minor": 2
}
