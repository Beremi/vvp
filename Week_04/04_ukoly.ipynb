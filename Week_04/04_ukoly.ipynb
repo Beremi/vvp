{
 "cells": [
  {
   "attachments": {},
   "cell_type": "markdown",
   "metadata": {},
   "source": [
    "# Prostory jmen a obor platnosti proměnných:\n"
   ]
  },
  {
   "cell_type": "markdown",
   "metadata": {},
   "source": [
    "1. Rozhodněte co se vypíše a otestujte:\n",
    "\n",
    "    ```python\n",
    "    def foo():\n",
    "        global x\n",
    "        x = 20\n",
    "\n",
    "    x = 10\n",
    "    print(x)\n",
    "    foo()\n",
    "    print(x)\n",
    "    ```\n"
   ]
  },
  {
   "cell_type": "code",
   "execution_count": null,
   "metadata": {},
   "outputs": [],
   "source": []
  },
  {
   "cell_type": "markdown",
   "metadata": {},
   "source": [
    "\n",
    "2. Rozhodněte co se vypíše a otestujte:\n",
    "\n",
    "    ```python\n",
    "    def foo():\n",
    "        y = 30\n",
    "        print(y)\n",
    "\n",
    "    y = 20\n",
    "    foo()\n",
    "    print(y)\n",
    "    ```\n"
   ]
  },
  {
   "cell_type": "code",
   "execution_count": null,
   "metadata": {},
   "outputs": [],
   "source": []
  },
  {
   "cell_type": "markdown",
   "metadata": {},
   "source": [
    "\n",
    "3. Rozhodněte co se vypíše a otestujte:\n",
    "\n",
    "    ```python\n",
    "    def foo1():\n",
    "        def foo2():\n",
    "            nonlocal z\n",
    "            z = 100\n",
    "        z = 50\n",
    "        print(z)  # Vytiskne 50\n",
    "        foo2()\n",
    "        print(z)  # Vytiskne 100? Nebo 50?\n",
    "\n",
    "    foo1()\n",
    "    ```\n"
   ]
  },
  {
   "cell_type": "code",
   "execution_count": null,
   "metadata": {},
   "outputs": [],
   "source": []
  },
  {
   "cell_type": "markdown",
   "metadata": {},
   "source": [
    "\n",
    "4. Rozhodněte co se vypíše a otestujte:\n",
    "\n",
    "    ```python\n",
    "    x = 1\n",
    "    def foo1():\n",
    "        x = 2\n",
    "        def foo2():\n",
    "            global x\n",
    "            x = 3\n",
    "        print(x)\n",
    "        foo2()\n",
    "        print(x)\n",
    "\n",
    "    foo1()\n",
    "    print(x)\n",
    "    ```\n"
   ]
  },
  {
   "cell_type": "code",
   "execution_count": null,
   "metadata": {},
   "outputs": [],
   "source": []
  },
  {
   "cell_type": "markdown",
   "metadata": {},
   "source": [
    "\n",
    "5. Rozhodněte co se vypíše a otestujte:\n",
    "\n",
    "    ```python\n",
    "    def foo1(a):\n",
    "        a = 40\n",
    "        print(a)\n",
    "\n",
    "    a = 30\n",
    "    foo1(a)\n",
    "    print(a)\n",
    "    ```\n"
   ]
  },
  {
   "cell_type": "code",
   "execution_count": null,
   "metadata": {},
   "outputs": [],
   "source": []
  },
  {
   "cell_type": "markdown",
   "metadata": {},
   "source": [
    "6. Rozhodněte co se vypíše a otestujte:\n",
    "\n",
    "    ```python\n",
    "    def funkce():\n",
    "        x = 10\n",
    "\n",
    "    x = 5\n",
    "\n",
    "    print(x)\n",
    "\n",
    "    funkce()\n",
    "\n",
    "    print(x)\n",
    "    ```\n"
   ]
  },
  {
   "cell_type": "code",
   "execution_count": null,
   "metadata": {},
   "outputs": [],
   "source": []
  },
  {
   "cell_type": "markdown",
   "metadata": {},
   "source": [
    "\n",
    "7. Rozhodněte co se vypíše a otestujte:\n",
    "\n",
    "    ```python\n",
    "    x = 5\n",
    "\n",
    "    def vnejsi_funkce():\n",
    "        x = 10\n",
    "\n",
    "        def vnitrni_funkce():\n",
    "            print(x)\n",
    "\n",
    "        vnitrni_funkce()\n",
    "\n",
    "    vnejsi_funkce()\n",
    "    ```\n"
   ]
  },
  {
   "cell_type": "code",
   "execution_count": null,
   "metadata": {},
   "outputs": [],
   "source": []
  },
  {
   "cell_type": "markdown",
   "metadata": {},
   "source": [
    "\n",
    "8. Rozhodněte co se vypíše a otestujte:\n",
    "\n",
    "    ```python\n",
    "    x = 10\n",
    "\n",
    "    def funkce():\n",
    "        x += 1\n",
    "\n",
    "    funkce()\n",
    "\n",
    "    print(x)\n",
    "    ```"
   ]
  },
  {
   "cell_type": "code",
   "execution_count": null,
   "metadata": {},
   "outputs": [],
   "source": []
  },
  {
   "cell_type": "markdown",
   "metadata": {},
   "source": [
    "\n",
    "9. Rozhodněte co se vypíše a otestujte:\n",
    "\n",
    "    ```python\n",
    "    x = 1\n",
    "    def foo4():\n",
    "        global x\n",
    "        x = 2\n",
    "        def vnitrni():\n",
    "            nonlocal x\n",
    "            x = 3\n",
    "        print(x)\n",
    "        vnitrni()\n",
    "        print(x)\n",
    "\n",
    "    print(x)\n",
    "    foo4()\n",
    "    print(x)\n",
    "    ```"
   ]
  },
  {
   "cell_type": "code",
   "execution_count": null,
   "metadata": {},
   "outputs": [],
   "source": []
  },
  {
   "cell_type": "markdown",
   "metadata": {},
   "source": [
    "\n",
    "10. Upravte funkci nalézající prvočísla tak, aby ukládala již spočítané prvočísla do listu v defaultním argumentu funkce. \n",
    "\n",
    "- Tedy, při volání funkce zkontroluje list prvočísel, které už byly spočítány a případně dopočítá další prvočísla, pokud to požadovaný počet vyžaduje.\n",
    "- Vrátí vždy **kopii** části listu prvočísel, která odpovídá požadovanému počtu prvočísel."
   ]
  },
  {
   "cell_type": "code",
   "execution_count": null,
   "metadata": {},
   "outputs": [],
   "source": [
    "def najdi_n_prvocisel(n):\n",
    "    prvocisla = []\n",
    "    i = 2\n",
    "    while len(prvocisla) < n:\n",
    "        je_prvocislo = True\n",
    "        for prvocislo in prvocisla:\n",
    "            if i % prvocislo == 0:\n",
    "                je_prvocislo = False\n",
    "                break\n",
    "        if je_prvocislo:\n",
    "            prvocisla.append(i)\n",
    "        i += 1\n",
    "    return prvocisla\n",
    "\n",
    "najdi_n_prvocisel(10)"
   ]
  },
  {
   "cell_type": "code",
   "execution_count": null,
   "metadata": {},
   "outputs": [],
   "source": []
  },
  {
   "cell_type": "markdown",
   "metadata": {},
   "source": [
    "# Třídy:"
   ]
  },
  {
   "cell_type": "markdown",
   "metadata": {},
   "source": [
    "1. Vytvořte funkci, která pro libovolný vstupní objekt vypíše název jeho třídy (použijte atribut `__class__` a atribut `__name__`, který má automaticky každá třída)."
   ]
  },
  {
   "cell_type": "code",
   "execution_count": null,
   "metadata": {},
   "outputs": [],
   "source": []
  },
  {
   "cell_type": "markdown",
   "metadata": {},
   "source": [
    "2. Vytvořte třídu implementující metodu `__call__`, která bude mít stejnou funkčnost jako funkce pro vypisování prvních `n` prvočísel (s ukládáním do defaultního argumentu)."
   ]
  },
  {
   "cell_type": "code",
   "execution_count": null,
   "metadata": {},
   "outputs": [],
   "source": []
  },
  {
   "cell_type": "markdown",
   "metadata": {},
   "source": [
    "3. Modifikujte třídu o implementaci metody `__getitem__`, která bude vracet prvočísla podle indexu (podporující jak celočíselné indexy, tak i indexy ve formě `slice`).\n",
    "\n",
    "- bude se vám hodit `isinstance` pro rozhodnutí zda je vstupní argument `slice` nebo `int`.\n",
    "- bude se vám hodit, že objekt typu `slice` má atributy `start`, `stop` a `step`."
   ]
  },
  {
   "cell_type": "code",
   "execution_count": null,
   "metadata": {},
   "outputs": [],
   "source": []
  },
  {
   "cell_type": "markdown",
   "metadata": {},
   "source": [
    "4. Vytvořte třídu `Zlomek` reprezentující zlomek s celočíselným čitatelem a jmenovatelem. \n",
    "\n",
    "- Implementujte metody pro sčítání, odčítání, násobení a dělení zlomků. \n",
    "- Implementujte metodu pro zjednodušení zlomku (použijte knihovnu `math` a funkci `gcd`) a přidejte ji do konstruktoru.\n",
    "- Implementujte metody pro výpis zlomku jak do konzole, tak do řetězce.\n",
    "- Implementujte metodu pro převedení zlomku na desetinné číslo.\n",
    "- Implementujte metodu pro porovnávání zlomků (můžete použít převod na desetinné číslo).\n",
    "\n",
    "```python\n",
    "class Zlomek:\n",
    "    def __init__(self, citatel, jmenovatel):\n",
    "    def __add__(self, other):\n",
    "    def __sub__(self, other):\n",
    "    def __mul__(self, other):\n",
    "    def __truediv__(self, other):\n",
    "    def simplify(self):\n",
    "    def __str__(self):\n",
    "    def __repr__(self):\n",
    "    def to_float(self):\n",
    "    def __le__(self, other):\n",
    "    def __lt__(self, other):\n",
    "    def __ge__(self, other):\n",
    "    def __gt__(self, other):\n",
    "    def __eq__(self, other):\n",
    "```"
   ]
  },
  {
   "cell_type": "code",
   "execution_count": null,
   "metadata": {},
   "outputs": [],
   "source": []
  }
 ],
 "metadata": {
  "kernelspec": {
   "display_name": "Python 3",
   "language": "python",
   "name": "python3"
  },
  "language_info": {
   "codemirror_mode": {
    "name": "ipython",
    "version": 3
   },
   "file_extension": ".py",
   "mimetype": "text/x-python",
   "name": "python",
   "nbconvert_exporter": "python",
   "pygments_lexer": "ipython3",
   "version": "3.13.2"
  },
  "orig_nbformat": 4,
  "vscode": {
   "interpreter": {
    "hash": "e7370f93d1d0cde622a1f8e1c04877d8463912d04d973331ad4851f04de6915a"
   }
  }
 },
 "nbformat": 4,
 "nbformat_minor": 2
}
