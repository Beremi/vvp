{
 "cells": [
  {
   "attachments": {},
   "cell_type": "markdown",
   "metadata": {},
   "source": [
    "# Pokračování v prozkoumávání Pythonu\n",
    "V této lekci se budeme zabývat:\n",
    "\n",
    "- prostory jmen a obory platnosti proměnných,\n",
    "- třídami"
   ]
  },
  {
   "attachments": {},
   "cell_type": "markdown",
   "metadata": {},
   "source": [
    "# Prostory jmen a obor platnosti proměnných\n",
    "Prostor jmen (anglicky `namespace`) je struktura sloužící k organizaci názvů proměnných, funkcí, tříd a dalších objektů. \n",
    "Dá se představit jako slovník, kde klíčem je název objektu (název proměnné) a hodnotou je objekt sám.\n",
    "\n",
    "V Pythonu existuje čtyři druhy prostorů jmen:\n",
    "- vestavěný (`builtins`)\n",
    "    - jedná se o prostor jmen, který je vytvořen při spuštění Python interpretu\n",
    "- globální (`global`)\n",
    "    - jedná se o prostor jmen, který je vytvořen při vstupu do interaktivního režimu nebo při spuštění skriptu\n",
    "- ne-lokální (`nonlocal`)\n",
    "    - jedná se o prostor jmen, který je v bloku do nějž je zanořen aktuální blok\n",
    "- lokální (`local`)\n",
    "    - jedná se o prostor jmen, který je vytvořen při vstupu do odděleného bloku = nejčastěji funkce\n",
    "\n",
    "Toto pořadí (od posledního k prvnímu) je také pořadí, v jakém se prohledávají prostory jmen. Pokud se název objektu nenajde v lokálním prostoru jmen, tak se prohledává ne-lokální prostor jmen, pak globální a nakonec vestavěný. Pokud se objekt v žádném prostoru jmen nenajde, tak se vyvolá výjimka `NameError`.\n",
    "\n",
    "Globální a lokální prostor jmen jsou skutečně implementovány jako slovníky. Vestavěný prostor jmen je implementován jako modul `builtins`. "
   ]
  },
  {
   "cell_type": "code",
   "execution_count": null,
   "metadata": {},
   "outputs": [],
   "source": [
    "nejaka_promenna = 1\n",
    "print(type(globals()))\n",
    "print(globals())\n"
   ]
  },
  {
   "cell_type": "code",
   "execution_count": null,
   "metadata": {},
   "outputs": [],
   "source": [
    "nejaka_promenna = 1\n",
    "\n",
    "def funkce():\n",
    "    nova_promenna_uvnitr_funkce = 1\n",
    "    nejaka_promenna = 2\n",
    "    print(type(locals()))\n",
    "    print(locals())\n",
    "    \n",
    "funkce()"
   ]
  },
  {
   "cell_type": "code",
   "execution_count": null,
   "metadata": {},
   "outputs": [],
   "source": [
    "print(type(__builtins__))\n",
    "print(dir(__builtins__))"
   ]
  },
  {
   "cell_type": "code",
   "execution_count": null,
   "metadata": {},
   "outputs": [],
   "source": [
    "# pokud proměnná není v žádném jmeném prostoru, vyhodíme chybu\n",
    "print(nedefinovana_promenna)\n",
    "nedefinovana_promenna = 1"
   ]
  },
  {
   "cell_type": "code",
   "execution_count": null,
   "metadata": {},
   "outputs": [],
   "source": [
    "# pokud vyrobíme novou proměnnou zde, bude v globálním prostoru\n",
    "moje_promenna = 42\n",
    "print(id(moje_promenna))\n",
    "print(id(globals()['moje_promenna']))\n"
   ]
  },
  {
   "cell_type": "code",
   "execution_count": null,
   "metadata": {},
   "outputs": [],
   "source": [
    "# ukázka globálního prostoru\n",
    "moje_promenna = 42\n",
    "\n",
    "\n",
    "def funkce():\n",
    "    print(moje_promenna)\n",
    "\n",
    "\n",
    "funkce()\n"
   ]
  },
  {
   "cell_type": "code",
   "execution_count": null,
   "metadata": {},
   "outputs": [],
   "source": [
    "# ukázka lokálního prostoru\n",
    "moje_promenna = 42\n",
    "\n",
    "\n",
    "def funkce():\n",
    "    moje_promenna = 43\n",
    "    print(moje_promenna)\n",
    "\n",
    "\n",
    "funkce()\n"
   ]
  },
  {
   "cell_type": "code",
   "execution_count": null,
   "metadata": {},
   "outputs": [],
   "source": [
    "# ukázka nelokálního prostoru\n",
    "moje_promenna = 42\n",
    "\n",
    "\n",
    "def funkce():\n",
    "    moje_promenna = 43\n",
    "\n",
    "    def funkce2():\n",
    "        print(moje_promenna)\n",
    "\n",
    "    funkce2()\n",
    "\n",
    "\n",
    "funkce()\n"
   ]
  },
  {
   "attachments": {},
   "cell_type": "markdown",
   "metadata": {},
   "source": [
    "Pro lokální prostor jmen je vytvořen nový slovník ve chvíli, kdy je funkce definována. Tedy ne při běhu!"
   ]
  },
  {
   "cell_type": "code",
   "execution_count": null,
   "metadata": {},
   "outputs": [],
   "source": [
    "# výstup tohote není 42, 43! ale chyba\n",
    "moje_promenna = 42\n",
    "\n",
    "\n",
    "def funkce():\n",
    "    print(moje_promenna)\n",
    "    moje_promenna = 43\n",
    "    print(moje_promenna)\n",
    "\n",
    "\n",
    "funkce()\n",
    "# všimněmě si, že se nejedná o NameError, ale o UnboundLocalError"
   ]
  },
  {
   "attachments": {},
   "cell_type": "markdown",
   "metadata": {},
   "source": [
    "Přístup k objektům z globálního prostoru jmen, umožňuje objekt měnit, ale nemůže jej přepsat. Pokud se pokusíme přepsat objekt, tak se přesuneme do lokálního prostoru jmen."
   ]
  },
  {
   "cell_type": "code",
   "execution_count": null,
   "metadata": {},
   "outputs": [],
   "source": [
    "muj_list = [1, 2, 3]\n",
    "\n",
    "\n",
    "def funkce():\n",
    "    print(muj_list)\n",
    "    muj_list[0] = 42\n",
    "    muj_list.append(4)\n",
    "\n",
    "\n",
    "funkce()\n",
    "print(muj_list)\n"
   ]
  },
  {
   "attachments": {},
   "cell_type": "markdown",
   "metadata": {},
   "source": [
    "Pokud jej chceme přepsat, tak musíme použít klíčové slovo `global`. Asi nemusíme zdůrazňovat, že je to poněkud nerozumné řešení z pohledu transparentnosti kódu."
   ]
  },
  {
   "cell_type": "code",
   "execution_count": null,
   "metadata": {},
   "outputs": [],
   "source": [
    "muj_list = [1, 2, 3]\n",
    "\n",
    "print(id(muj_list))\n",
    "\n",
    "\n",
    "def funkce():\n",
    "    global muj_list\n",
    "    muj_list = [42, 2, 3]\n",
    "\n",
    "\n",
    "funkce()\n",
    "\n",
    "print(id(muj_list))\n",
    "print(muj_list)\n"
   ]
  },
  {
   "attachments": {},
   "cell_type": "markdown",
   "metadata": {},
   "source": [
    "Úplně stejně funguje i přístup k objektům z ne-lokálního prostoru jmen. Pokud jej chceme přepsat, tak musíme použít klíčové slovo `nonlocal`."
   ]
  },
  {
   "cell_type": "code",
   "execution_count": null,
   "metadata": {},
   "outputs": [],
   "source": [
    "# ukázka nonlocal\n",
    "def funkce():\n",
    "    muj_list = [1, 2, 3]\n",
    "\n",
    "    def funkce2():\n",
    "        nonlocal muj_list\n",
    "        muj_list[0] = 42\n",
    "        muj_list.append(4)\n",
    "\n",
    "    funkce2()\n",
    "    print(muj_list)\n",
    "\n",
    "\n",
    "funkce()\n"
   ]
  },
  {
   "attachments": {},
   "cell_type": "markdown",
   "metadata": {},
   "source": [
    "Asi už je teď trochu jasné i jak funguje obor platnosti proměnných. Raději ale poslední ukázka:"
   ]
  },
  {
   "cell_type": "code",
   "execution_count": null,
   "metadata": {},
   "outputs": [],
   "source": [
    "prommena = 42\n",
    "\n",
    "def funkce():\n",
    "    prommena = 43\n",
    "    print(\"1: \", prommena)\n",
    "    def funkce2():\n",
    "        prommena = 44\n",
    "        print(\"2: \", prommena)\n",
    "        \n",
    "    funkce2()\n",
    "    print(\"3: \", prommena)\n",
    "    \n",
    "print(\"4: \", prommena)\n",
    "funkce()\n",
    "print(\"5: \",prommena)"
   ]
  },
  {
   "attachments": {},
   "cell_type": "markdown",
   "metadata": {},
   "source": [
    "Vzpomínáte si, že jsme říkali, že lokální prostor je vytvořen přímo při definici funkce? Podobně to funguje pro seznam defaultních hodnot parametrů. Ten se po deklaraci funkce vytvoří a zůstává stejný pro všechny volání této funkce. Pokud je defaultní hodnota parametru měnitelného typu, tak se tyto změny projeví i v dalších voláních této funkce. \n",
    "\n",
    "Pozor, i když objekt uvnitř funkce přepíšeme, tak originální defaultní hodnota je stále zachována a připravena pro další volání funkce."
   ]
  },
  {
   "cell_type": "code",
   "execution_count": null,
   "metadata": {},
   "outputs": [],
   "source": [
    "def funkce(muj_list = []):\n",
    "    muj_list.append(42)\n",
    "    print(muj_list)\n",
    "    muj_list = []\n",
    "    \n",
    "funkce()\n",
    "funkce()\n",
    "funkce([])\n",
    "funkce()\n",
    "funkce()\n"
   ]
  },
  {
   "attachments": {},
   "cell_type": "markdown",
   "metadata": {},
   "source": [
    "Na defaultní hodnoty parametrů funkce se lze podívat pomocí atributu `__defaults__`."
   ]
  },
  {
   "cell_type": "code",
   "execution_count": null,
   "metadata": {},
   "outputs": [],
   "source": [
    "def funkce(muj_list=[], muj_string=\"\"):\n",
    "    muj_list.append(42)\n",
    "    muj_string += \"42\"\n",
    "    print(muj_list)\n",
    "    print(muj_string)\n",
    "\n",
    "\n",
    "print(funkce.__defaults__)\n",
    "funkce()\n",
    "print(funkce.__defaults__)\n",
    "funkce()\n",
    "print(funkce.__defaults__)\n",
    "funkce()\n",
    "print(funkce.__defaults__)\n",
    "funkce()\n",
    "print(funkce.__defaults__)"
   ]
  }
 ],
 "metadata": {
  "kernelspec": {
   "display_name": "Python 3",
   "language": "python",
   "name": "python3"
  },
  "language_info": {
   "codemirror_mode": {
    "name": "ipython",
    "version": 3
   },
   "file_extension": ".py",
   "mimetype": "text/x-python",
   "name": "python",
   "nbconvert_exporter": "python",
   "pygments_lexer": "ipython3",
   "version": "3.11.6"
  },
  "orig_nbformat": 4,
  "vscode": {
   "interpreter": {
    "hash": "e7370f93d1d0cde622a1f8e1c04877d8463912d04d973331ad4851f04de6915a"
   }
  }
 },
 "nbformat": 4,
 "nbformat_minor": 2
}
